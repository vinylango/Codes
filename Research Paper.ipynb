{
 "cells": [
  {
   "cell_type": "markdown",
   "id": "swedish-complement",
   "metadata": {},
   "source": [
    " # APPENDICES #"
   ]
  },
  {
   "cell_type": "code",
   "execution_count": 62,
   "id": "driving-undergraduate",
   "metadata": {},
   "outputs": [],
   "source": [
    "import warnings\n",
    "warnings.filterwarnings(\"ignore\")\n",
    "import pandas as pd\n",
    "import numpy  as np"
   ]
  },
  {
   "cell_type": "code",
   "execution_count": 63,
   "id": "brave-receiver",
   "metadata": {},
   "outputs": [],
   "source": [
    "airdata=pd.read_csv('station_day.csv')\n"
   ]
  },
  {
   "cell_type": "markdown",
   "id": "heavy-marathon",
   "metadata": {},
   "source": [
    "Now have created a new data set, by deleting rows with missing values."
   ]
  },
  {
   "cell_type": "code",
   "execution_count": 64,
   "id": "planned-gibraltar",
   "metadata": {},
   "outputs": [],
   "source": [
    "data = airdata.dropna(axis = 0, how ='any')  \n"
   ]
  },
  {
   "cell_type": "code",
   "execution_count": 65,
   "id": "overall-budapest",
   "metadata": {},
   "outputs": [
    {
     "data": {
      "text/html": [
       "<div>\n",
       "<style scoped>\n",
       "    .dataframe tbody tr th:only-of-type {\n",
       "        vertical-align: middle;\n",
       "    }\n",
       "\n",
       "    .dataframe tbody tr th {\n",
       "        vertical-align: top;\n",
       "    }\n",
       "\n",
       "    .dataframe thead th {\n",
       "        text-align: right;\n",
       "    }\n",
       "</style>\n",
       "<table border=\"1\" class=\"dataframe\">\n",
       "  <thead>\n",
       "    <tr style=\"text-align: right;\">\n",
       "      <th></th>\n",
       "      <th>PM2.5</th>\n",
       "      <th>PM10</th>\n",
       "      <th>NO</th>\n",
       "      <th>NO2</th>\n",
       "      <th>CO</th>\n",
       "      <th>SO2</th>\n",
       "      <th>O3</th>\n",
       "      <th>AQI_Bucket</th>\n",
       "    </tr>\n",
       "  </thead>\n",
       "  <tbody>\n",
       "    <tr>\n",
       "      <th>1</th>\n",
       "      <td>81.40</td>\n",
       "      <td>124.50</td>\n",
       "      <td>1.44</td>\n",
       "      <td>20.50</td>\n",
       "      <td>0.12</td>\n",
       "      <td>15.24</td>\n",
       "      <td>127.09</td>\n",
       "      <td>Moderate</td>\n",
       "    </tr>\n",
       "    <tr>\n",
       "      <th>2</th>\n",
       "      <td>78.32</td>\n",
       "      <td>129.06</td>\n",
       "      <td>1.26</td>\n",
       "      <td>26.00</td>\n",
       "      <td>0.14</td>\n",
       "      <td>26.96</td>\n",
       "      <td>117.44</td>\n",
       "      <td>Moderate</td>\n",
       "    </tr>\n",
       "    <tr>\n",
       "      <th>3</th>\n",
       "      <td>88.76</td>\n",
       "      <td>135.32</td>\n",
       "      <td>6.60</td>\n",
       "      <td>30.85</td>\n",
       "      <td>0.11</td>\n",
       "      <td>33.59</td>\n",
       "      <td>111.81</td>\n",
       "      <td>Moderate</td>\n",
       "    </tr>\n",
       "    <tr>\n",
       "      <th>4</th>\n",
       "      <td>64.18</td>\n",
       "      <td>104.09</td>\n",
       "      <td>2.56</td>\n",
       "      <td>28.07</td>\n",
       "      <td>0.09</td>\n",
       "      <td>19.00</td>\n",
       "      <td>138.18</td>\n",
       "      <td>Moderate</td>\n",
       "    </tr>\n",
       "    <tr>\n",
       "      <th>5</th>\n",
       "      <td>72.47</td>\n",
       "      <td>114.84</td>\n",
       "      <td>5.23</td>\n",
       "      <td>23.20</td>\n",
       "      <td>0.16</td>\n",
       "      <td>10.55</td>\n",
       "      <td>109.74</td>\n",
       "      <td>Moderate</td>\n",
       "    </tr>\n",
       "  </tbody>\n",
       "</table>\n",
       "</div>"
      ],
      "text/plain": [
       "   PM2.5    PM10    NO    NO2    CO    SO2      O3 AQI_Bucket\n",
       "1  81.40  124.50  1.44  20.50  0.12  15.24  127.09   Moderate\n",
       "2  78.32  129.06  1.26  26.00  0.14  26.96  117.44   Moderate\n",
       "3  88.76  135.32  6.60  30.85  0.11  33.59  111.81   Moderate\n",
       "4  64.18  104.09  2.56  28.07  0.09  19.00  138.18   Moderate\n",
       "5  72.47  114.84  5.23  23.20  0.16  10.55  109.74   Moderate"
      ]
     },
     "execution_count": 65,
     "metadata": {},
     "output_type": "execute_result"
    }
   ],
   "source": [
    "data2=data.iloc[:,[2,3,4,5,8,9,10,15]]\n",
    "\n",
    "data2.head()"
   ]
  },
  {
   "cell_type": "code",
   "execution_count": 66,
   "id": "interracial-commons",
   "metadata": {},
   "outputs": [
    {
     "data": {
      "text/html": [
       "<div>\n",
       "<style scoped>\n",
       "    .dataframe tbody tr th:only-of-type {\n",
       "        vertical-align: middle;\n",
       "    }\n",
       "\n",
       "    .dataframe tbody tr th {\n",
       "        vertical-align: top;\n",
       "    }\n",
       "\n",
       "    .dataframe thead th {\n",
       "        text-align: right;\n",
       "    }\n",
       "</style>\n",
       "<table border=\"1\" class=\"dataframe\">\n",
       "  <thead>\n",
       "    <tr style=\"text-align: right;\">\n",
       "      <th></th>\n",
       "      <th>PM2.5</th>\n",
       "      <th>PM10</th>\n",
       "      <th>NO</th>\n",
       "      <th>NO2</th>\n",
       "      <th>CO</th>\n",
       "      <th>SO2</th>\n",
       "      <th>O3</th>\n",
       "    </tr>\n",
       "  </thead>\n",
       "  <tbody>\n",
       "    <tr>\n",
       "      <th>count</th>\n",
       "      <td>10314.000000</td>\n",
       "      <td>10314.000000</td>\n",
       "      <td>10314.000000</td>\n",
       "      <td>10314.000000</td>\n",
       "      <td>10314.000000</td>\n",
       "      <td>10314.000000</td>\n",
       "      <td>10314.000000</td>\n",
       "    </tr>\n",
       "    <tr>\n",
       "      <th>mean</th>\n",
       "      <td>52.482100</td>\n",
       "      <td>108.494813</td>\n",
       "      <td>12.204897</td>\n",
       "      <td>33.188329</td>\n",
       "      <td>0.699242</td>\n",
       "      <td>9.907130</td>\n",
       "      <td>32.224498</td>\n",
       "    </tr>\n",
       "    <tr>\n",
       "      <th>std</th>\n",
       "      <td>43.101142</td>\n",
       "      <td>67.881316</td>\n",
       "      <td>18.880759</td>\n",
       "      <td>22.909939</td>\n",
       "      <td>0.436917</td>\n",
       "      <td>7.926233</td>\n",
       "      <td>19.937162</td>\n",
       "    </tr>\n",
       "    <tr>\n",
       "      <th>min</th>\n",
       "      <td>1.090000</td>\n",
       "      <td>5.770000</td>\n",
       "      <td>0.020000</td>\n",
       "      <td>0.010000</td>\n",
       "      <td>0.000000</td>\n",
       "      <td>0.100000</td>\n",
       "      <td>0.030000</td>\n",
       "    </tr>\n",
       "    <tr>\n",
       "      <th>25%</th>\n",
       "      <td>25.740000</td>\n",
       "      <td>62.692500</td>\n",
       "      <td>2.650000</td>\n",
       "      <td>15.220000</td>\n",
       "      <td>0.420000</td>\n",
       "      <td>4.370000</td>\n",
       "      <td>18.380000</td>\n",
       "    </tr>\n",
       "    <tr>\n",
       "      <th>50%</th>\n",
       "      <td>43.400000</td>\n",
       "      <td>98.805000</td>\n",
       "      <td>6.270000</td>\n",
       "      <td>28.570000</td>\n",
       "      <td>0.630000</td>\n",
       "      <td>7.860000</td>\n",
       "      <td>28.240000</td>\n",
       "    </tr>\n",
       "    <tr>\n",
       "      <th>75%</th>\n",
       "      <td>66.210000</td>\n",
       "      <td>137.837500</td>\n",
       "      <td>13.430000</td>\n",
       "      <td>46.170000</td>\n",
       "      <td>0.900000</td>\n",
       "      <td>12.810000</td>\n",
       "      <td>41.410000</td>\n",
       "    </tr>\n",
       "    <tr>\n",
       "      <th>max</th>\n",
       "      <td>734.560000</td>\n",
       "      <td>830.100000</td>\n",
       "      <td>262.000000</td>\n",
       "      <td>254.780000</td>\n",
       "      <td>4.740000</td>\n",
       "      <td>67.260000</td>\n",
       "      <td>162.330000</td>\n",
       "    </tr>\n",
       "  </tbody>\n",
       "</table>\n",
       "</div>"
      ],
      "text/plain": [
       "              PM2.5          PM10            NO           NO2            CO  \\\n",
       "count  10314.000000  10314.000000  10314.000000  10314.000000  10314.000000   \n",
       "mean      52.482100    108.494813     12.204897     33.188329      0.699242   \n",
       "std       43.101142     67.881316     18.880759     22.909939      0.436917   \n",
       "min        1.090000      5.770000      0.020000      0.010000      0.000000   \n",
       "25%       25.740000     62.692500      2.650000     15.220000      0.420000   \n",
       "50%       43.400000     98.805000      6.270000     28.570000      0.630000   \n",
       "75%       66.210000    137.837500     13.430000     46.170000      0.900000   \n",
       "max      734.560000    830.100000    262.000000    254.780000      4.740000   \n",
       "\n",
       "                SO2            O3  \n",
       "count  10314.000000  10314.000000  \n",
       "mean       9.907130     32.224498  \n",
       "std        7.926233     19.937162  \n",
       "min        0.100000      0.030000  \n",
       "25%        4.370000     18.380000  \n",
       "50%        7.860000     28.240000  \n",
       "75%       12.810000     41.410000  \n",
       "max       67.260000    162.330000  "
      ]
     },
     "execution_count": 66,
     "metadata": {},
     "output_type": "execute_result"
    }
   ],
   "source": [
    "data2.describe()"
   ]
  },
  {
   "cell_type": "code",
   "execution_count": 67,
   "id": "daily-democracy",
   "metadata": {},
   "outputs": [
    {
     "data": {
      "text/plain": [
       "(10314, 8)"
      ]
     },
     "execution_count": 67,
     "metadata": {},
     "output_type": "execute_result"
    }
   ],
   "source": [
    "data2.shape"
   ]
  },
  {
   "cell_type": "code",
   "execution_count": 68,
   "id": "english-colony",
   "metadata": {},
   "outputs": [],
   "source": [
    "data1=data\n",
    "data1['Date'] = pd.to_datetime(data1['Date'])\n",
    "data1=data1.set_index('Date')\n",
    "data1['Month']=data1.index.month\n",
    "data1['Day_of_week']=data1.index.dayofweek\n",
    "data1['Day']=data1.index.day\n"
   ]
  },
  {
   "cell_type": "code",
   "execution_count": 69,
   "id": "distinct-casting",
   "metadata": {
    "scrolled": true
   },
   "outputs": [
    {
     "data": {
      "text/plain": [
       "<AxesSubplot:xlabel='Day_of_week', ylabel='AQI'>"
      ]
     },
     "execution_count": 69,
     "metadata": {},
     "output_type": "execute_result"
    },
    {
     "data": {
      "image/png": "[encoded data removed]",
      "text/plain": [
       "<Figure size 1152x432 with 1 Axes>"
      ]
     },
     "metadata": {
      "needs_background": "light"
     },
     "output_type": "display_data"
    }
   ],
   "source": [
    "fig= plt.figure(figsize=(16,6))\n",
    "s.pointplot(data=data1,x='Day_of_week',y='AQI',color='orange')"
   ]
  },
  {
   "cell_type": "code",
   "execution_count": 70,
   "id": "civic-helen",
   "metadata": {},
   "outputs": [
    {
     "data": {
      "text/plain": [
       "array(['Moderate', 'Poor', 'Very Poor', 'Satisfactory', 'Good', 'Severe'],\n",
       "      dtype=object)"
      ]
     },
     "execution_count": 70,
     "metadata": {},
     "output_type": "execute_result"
    }
   ],
   "source": [
    "data.AQI_Bucket.unique()"
   ]
  },
  {
   "cell_type": "code",
   "execution_count": 71,
   "id": "abroad-wilson",
   "metadata": {},
   "outputs": [
    {
     "data": {
      "text/plain": [
       "<function matplotlib.pyplot.show(close=None, block=None)>"
      ]
     },
     "execution_count": 71,
     "metadata": {},
     "output_type": "execute_result"
    },
    {
     "data": {
      "image/png": "[encoded data removed]",
      "text/plain": [
       "<Figure size 1152x720 with 1 Axes>"
      ]
     },
     "metadata": {
      "needs_background": "light"
     },
     "output_type": "display_data"
    }
   ],
   "source": [
    "import matplotlib.pyplot as plt\n",
    "import seaborn as s\n",
    "\n",
    "fig,ax=plt.subplots(figsize=(16,10))\n",
    "ax=s.barplot(x='AQI_Bucket',y='AQI', data=data)\n",
    "plt.show"
   ]
  },
  {
   "cell_type": "markdown",
   "id": "athletic-greene",
   "metadata": {},
   "source": [
    "##  AIR QUALITY BUCKET CLASSIFICATION USING DECISION TREE ##"
   ]
  },
  {
   "cell_type": "code",
   "execution_count": 87,
   "id": "varying-scotland",
   "metadata": {},
   "outputs": [
    {
     "name": "stdout",
     "output_type": "stream",
     "text": [
      "CPU times: user 110 ms, sys: 3.8 ms, total: 113 ms\n",
      "Wall time: 118 ms\n"
     ]
    },
    {
     "data": {
      "text/plain": [
       "0.769268056228793"
      ]
     },
     "execution_count": 87,
     "metadata": {},
     "output_type": "execute_result"
    }
   ],
   "source": [
    "%%time\n",
    "#Importing useful libraries\n",
    "import pandas as pd\n",
    "#import numpy as np\n",
    "import sklearn\n",
    "from sklearn import linear_model\n",
    "from sklearn.utils import shuffle\n",
    "from sklearn.tree import DecisionTreeClassifier\n",
    "from sklearn.model_selection import train_test_split\n",
    "from sklearn.metrics import accuracy_score\n",
    "from sklearn import tree\n",
    "mydata=New_data\n",
    "X=mydata.drop(columns='AQI_Bucket')\n",
    "y=mydata['AQI_Bucket']\n",
    "\n",
    "X_train,X_test,y_train,y_test=train_test_split(X,y,test_size=0.2)\n",
    "\n",
    "model=DecisionTreeClassifier()\n",
    "model.fit(X_train,y_train)\n",
    "\n",
    "predictions=model.predict(X_test)\n",
    "\n",
    "A=[[y_test],[predictions]]\n",
    "score1=accuracy_score(y_test,predictions)\n",
    "\n",
    "#tree.export_graphviz(model,out_file='music_recommender.dot',feature_names=['age','sex'],class_names=sorted(y.unique()),label='all',rounded=True,filled=True)\n",
    "score1"
   ]
  },
  {
   "cell_type": "markdown",
   "id": "handed-benchmark",
   "metadata": {},
   "source": [
    "## AIR QUALITY BUCKET CLASSIFICATION USING NAIVE BAYES ##"
   ]
  },
  {
   "cell_type": "code",
   "execution_count": 88,
   "id": "stylish-things",
   "metadata": {},
   "outputs": [
    {
     "name": "stdout",
     "output_type": "stream",
     "text": [
      "CPU times: user 29.4 ms, sys: 3.58 ms, total: 32.9 ms\n",
      "Wall time: 41.8 ms\n"
     ]
    },
    {
     "data": {
      "text/plain": [
       "0.7862336403296171"
      ]
     },
     "execution_count": 88,
     "metadata": {},
     "output_type": "execute_result"
    }
   ],
   "source": [
    "%%time\n",
    "X=mydata.iloc[:,[0,1,2,3,4,5,6]].values\n",
    "y=mydata.iloc[:,7].values\n",
    "X_train,X_test,y_train,y_test=train_test_split(X,y,test_size=0.2)\n",
    "#Feature scaling to bring the variable in a single scale\n",
    "from sklearn.preprocessing import StandardScaler\n",
    "sc=StandardScaler()\n",
    "X_train=sc.fit_transform(X_train)\n",
    "X_test=sc.fit_transform(X_test)\n",
    "\n",
    "#Fitting Naive Bayes Classification using linear Kernel\n",
    "from sklearn.naive_bayes import GaussianNB\n",
    "nvclassifier=GaussianNB()\n",
    "nvclassifier.fit(X_train,y_train)\n",
    "#Predicting test set results\n",
    "y_pred=nvclassifier.predict(X_test)\n",
    "\n",
    "score2=accuracy_score(y_test,y_pred)\n",
    "score2"
   ]
  },
  {
   "cell_type": "markdown",
   "id": "dried-collapse",
   "metadata": {},
   "source": [
    "## AIR QUALITY BUCKET CLASSIFICATION USING K-NEAREST NEIGHBORS ##"
   ]
  },
  {
   "cell_type": "code",
   "execution_count": 134,
   "id": "macro-residence",
   "metadata": {},
   "outputs": [
    {
     "name": "stdout",
     "output_type": "stream",
     "text": [
      "CPU times: user 181 ms, sys: 2.93 ms, total: 184 ms\n",
      "Wall time: 194 ms\n"
     ]
    },
    {
     "data": {
      "text/plain": [
       "0.8245273873000485"
      ]
     },
     "execution_count": 134,
     "metadata": {},
     "output_type": "execute_result"
    }
   ],
   "source": [
    "%%time\n",
    "from sklearn.neighbors import KNeighborsClassifier\n",
    "#Training and predicting\n",
    "knnmodel=KNeighborsClassifier(n_neighbors=8) \n",
    "knnmodel.fit(X_train,y_train)\n",
    "y_pred=knnmodel.predict(X_test) \n",
    "score3=accuracy_score(y_test,y_pred)\n",
    "score3"
   ]
  },
  {
   "cell_type": "code",
   "execution_count": null,
   "id": "perfect-bahamas",
   "metadata": {},
   "outputs": [],
   "source": []
  },
  {
   "cell_type": "code",
   "execution_count": null,
   "id": "solar-preference",
   "metadata": {},
   "outputs": [],
   "source": []
  },
  {
   "cell_type": "code",
   "execution_count": null,
   "id": "foster-salad",
   "metadata": {},
   "outputs": [],
   "source": []
  },
  {
   "cell_type": "code",
   "execution_count": 129,
   "id": "hawaiian-waste",
   "metadata": {},
   "outputs": [
    {
     "name": "stdout",
     "output_type": "stream",
     "text": [
      "CPU times: user 21 s, sys: 333 ms, total: 21.4 s\n",
      "Wall time: 21.8 s\n"
     ]
    }
   ],
   "source": [
    "\n",
    "knnmodel=[KNeighborsClassifier(n_neighbors=i) for i in range(1,101)]\n",
    "fit=[knnmodel[i].fit(X_train,y_train) for i in range(len(knnmodel))]\n",
    "y_pred=[knnmodel[i].predict(X_test) for i in range(len(knnmodel)) ]\n",
    "score3=[accuracy_score(y_test,y_pred[i]) for i in range(len(knnmodel)) ]"
   ]
  },
  {
   "cell_type": "code",
   "execution_count": 130,
   "id": "alternative-sleeve",
   "metadata": {},
   "outputs": [
    {
     "name": "stdout",
     "output_type": "stream",
     "text": [
      "[8, 0.8245273873000485]\n"
     ]
    }
   ],
   "source": [
    "for i in range(len(score3)):\n",
    "    if (score3[i]==max(score3)):\n",
    "        k=i+1\n",
    "        print([k,max(score3)])"
   ]
  },
  {
   "cell_type": "code",
   "execution_count": 131,
   "id": "lightweight-champagne",
   "metadata": {},
   "outputs": [
    {
     "data": {
      "text/plain": [
       "Text(0, 0.5, 'accuracy_score')"
      ]
     },
     "execution_count": 131,
     "metadata": {},
     "output_type": "execute_result"
    },
    {
     "data": {
      "image/png": "[encoded data removed]",
      "text/plain": [
       "<Figure size 432x288 with 1 Axes>"
      ]
     },
     "metadata": {
      "needs_background": "light"
     },
     "output_type": "display_data"
    }
   ],
   "source": [
    "import matplotlib.pyplot as plt\n",
    "index=[i for i in range(len(knnmodel))]\n",
    "plt.plot(index,score3, color='purple')\n",
    "plt.xlabel('k')\n",
    "plt.ylabel('accuracy_score')"
   ]
  },
  {
   "cell_type": "code",
   "execution_count": 127,
   "id": "separated-exhibit",
   "metadata": {},
   "outputs": [
    {
     "data": {
      "text/plain": [
       "[76.9268056228793, 78.6233640329617, 82.45273873000485]"
      ]
     },
     "execution_count": 127,
     "metadata": {},
     "output_type": "execute_result"
    }
   ],
   "source": [
    "x=[score1*100,score2*100,max(score3)*100]\n",
    "x"
   ]
  },
  {
   "cell_type": "code",
   "execution_count": null,
   "id": "difficult-initial",
   "metadata": {},
   "outputs": [],
   "source": []
  }
 ],
 "metadata": {
  "kernelspec": {
   "display_name": "Python 3",
   "language": "python",
   "name": "python3"
  },
  "language_info": {
   "codemirror_mode": {
    "name": "ipython",
    "version": 3
   },
   "file_extension": ".py",
   "mimetype": "text/x-python",
   "name": "python",
   "nbconvert_exporter": "python",
   "pygments_lexer": "ipython3",
   "version": "3.8.6"
  }
 },
 "nbformat": 4,
 "nbformat_minor": 5
}
