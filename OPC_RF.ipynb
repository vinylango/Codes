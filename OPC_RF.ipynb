{
 "cells": [
  {
   "cell_type": "code",
   "execution_count": 342,
   "id": "attempted-compensation",
   "metadata": {},
   "outputs": [
    {
     "data": {
      "text/html": [
       "<div>\n",
       "<style scoped>\n",
       "    .dataframe tbody tr th:only-of-type {\n",
       "        vertical-align: middle;\n",
       "    }\n",
       "\n",
       "    .dataframe tbody tr th {\n",
       "        vertical-align: top;\n",
       "    }\n",
       "\n",
       "    .dataframe thead th {\n",
       "        text-align: right;\n",
       "    }\n",
       "</style>\n",
       "<table border=\"1\" class=\"dataframe\">\n",
       "  <thead>\n",
       "    <tr style=\"text-align: right;\">\n",
       "      <th></th>\n",
       "      <th>Sen_2.5</th>\n",
       "      <th>Sen_10</th>\n",
       "      <th>Ref_2.5</th>\n",
       "      <th>Ref_10</th>\n",
       "      <th>T</th>\n",
       "      <th>RH</th>\n",
       "      <th>Month</th>\n",
       "      <th>Day_of_week</th>\n",
       "      <th>Hour</th>\n",
       "    </tr>\n",
       "    <tr>\n",
       "      <th>Date</th>\n",
       "      <th></th>\n",
       "      <th></th>\n",
       "      <th></th>\n",
       "      <th></th>\n",
       "      <th></th>\n",
       "      <th></th>\n",
       "      <th></th>\n",
       "      <th></th>\n",
       "      <th></th>\n",
       "    </tr>\n",
       "  </thead>\n",
       "  <tbody>\n",
       "    <tr>\n",
       "      <th>2019-10-02 11:57:33</th>\n",
       "      <td>112.477418</td>\n",
       "      <td>112.477418</td>\n",
       "      <td>18.58330</td>\n",
       "      <td>32.75481</td>\n",
       "      <td>26.378438</td>\n",
       "      <td>58.063437</td>\n",
       "      <td>10</td>\n",
       "      <td>2</td>\n",
       "      <td>11</td>\n",
       "    </tr>\n",
       "    <tr>\n",
       "      <th>2019-10-02 12:12:32</th>\n",
       "      <td>14.218595</td>\n",
       "      <td>58.035547</td>\n",
       "      <td>17.30462</td>\n",
       "      <td>31.54500</td>\n",
       "      <td>25.497143</td>\n",
       "      <td>48.609524</td>\n",
       "      <td>10</td>\n",
       "      <td>2</td>\n",
       "      <td>12</td>\n",
       "    </tr>\n",
       "    <tr>\n",
       "      <th>2019-10-02 12:17:34</th>\n",
       "      <td>5.174785</td>\n",
       "      <td>22.242307</td>\n",
       "      <td>17.09769</td>\n",
       "      <td>31.13976</td>\n",
       "      <td>25.807733</td>\n",
       "      <td>48.275000</td>\n",
       "      <td>10</td>\n",
       "      <td>2</td>\n",
       "      <td>12</td>\n",
       "    </tr>\n",
       "    <tr>\n",
       "      <th>2019-10-02 12:22:28</th>\n",
       "      <td>4.945599</td>\n",
       "      <td>29.365024</td>\n",
       "      <td>17.06241</td>\n",
       "      <td>31.07447</td>\n",
       "      <td>26.123333</td>\n",
       "      <td>47.734643</td>\n",
       "      <td>10</td>\n",
       "      <td>2</td>\n",
       "      <td>12</td>\n",
       "    </tr>\n",
       "    <tr>\n",
       "      <th>2019-10-02 12:27:30</th>\n",
       "      <td>132.986920</td>\n",
       "      <td>133.789832</td>\n",
       "      <td>16.62954</td>\n",
       "      <td>30.29124</td>\n",
       "      <td>25.502791</td>\n",
       "      <td>59.868837</td>\n",
       "      <td>10</td>\n",
       "      <td>2</td>\n",
       "      <td>12</td>\n",
       "    </tr>\n",
       "  </tbody>\n",
       "</table>\n",
       "</div>"
      ],
      "text/plain": [
       "                        Sen_2.5      Sen_10   Ref_2.5    Ref_10          T  \\\n",
       "Date                                                                         \n",
       "2019-10-02 11:57:33  112.477418  112.477418  18.58330  32.75481  26.378438   \n",
       "2019-10-02 12:12:32   14.218595   58.035547  17.30462  31.54500  25.497143   \n",
       "2019-10-02 12:17:34    5.174785   22.242307  17.09769  31.13976  25.807733   \n",
       "2019-10-02 12:22:28    4.945599   29.365024  17.06241  31.07447  26.123333   \n",
       "2019-10-02 12:27:30  132.986920  133.789832  16.62954  30.29124  25.502791   \n",
       "\n",
       "                            RH  Month  Day_of_week  Hour  \n",
       "Date                                                      \n",
       "2019-10-02 11:57:33  58.063437     10            2    11  \n",
       "2019-10-02 12:12:32  48.609524     10            2    12  \n",
       "2019-10-02 12:17:34  48.275000     10            2    12  \n",
       "2019-10-02 12:22:28  47.734643     10            2    12  \n",
       "2019-10-02 12:27:30  59.868837     10            2    12  "
      ]
     },
     "execution_count": 342,
     "metadata": {},
     "output_type": "execute_result"
    }
   ],
   "source": [
    "import pandas as pd\n",
    "import numpy as np\n",
    "R1_data= pd.read_csv('R1_data.csv')\n",
    "R1_data.columns=['Sen_2.5','Sen_10','Ref_2.5','Ref_10','Time','T','RH']\n",
    "R1_data=R1_data.dropna()\n",
    "Time=R1_data['Time'].to_list()\n",
    "time=[]\n",
    "for i in range(len(Time)):\n",
    "    time.append(float(abs(Time[i])))\n",
    "Time=np.array(time)\n",
    "Date=pd.to_datetime(Time-719529,unit='d').round('s')\n",
    "R1_data['Date'] = Date.tolist()\n",
    "R1_data=R1_data.set_index('Date')\n",
    "R1_data.drop('Time',axis = 1, inplace = True)\n",
    "R1_data['Month']=R1_data.index.month\n",
    "R1_data['Day_of_week']=R1_data.index.dayofweek\n",
    "R1_data['Hour']=R1_data.index.hour\n",
    "R1_data.head()"
   ]
  },
  {
   "cell_type": "code",
   "execution_count": 343,
   "id": "established-jacket",
   "metadata": {},
   "outputs": [
    {
     "data": {
      "text/plain": [
       "(34896, 9)"
      ]
     },
     "execution_count": 343,
     "metadata": {},
     "output_type": "execute_result"
    }
   ],
   "source": [
    "R1_data.shape"
   ]
  },
  {
   "cell_type": "code",
   "execution_count": 344,
   "id": "constant-ordinance",
   "metadata": {},
   "outputs": [
    {
     "data": {
      "text/html": [
       "<div>\n",
       "<style scoped>\n",
       "    .dataframe tbody tr th:only-of-type {\n",
       "        vertical-align: middle;\n",
       "    }\n",
       "\n",
       "    .dataframe tbody tr th {\n",
       "        vertical-align: top;\n",
       "    }\n",
       "\n",
       "    .dataframe thead th {\n",
       "        text-align: right;\n",
       "    }\n",
       "</style>\n",
       "<table border=\"1\" class=\"dataframe\">\n",
       "  <thead>\n",
       "    <tr style=\"text-align: right;\">\n",
       "      <th></th>\n",
       "      <th>Sen_2.5</th>\n",
       "      <th>Sen_10</th>\n",
       "      <th>Ref_2.5</th>\n",
       "      <th>Ref_10</th>\n",
       "      <th>T</th>\n",
       "      <th>RH</th>\n",
       "      <th>Month</th>\n",
       "      <th>Day_of_week</th>\n",
       "      <th>Hour</th>\n",
       "    </tr>\n",
       "    <tr>\n",
       "      <th>Date</th>\n",
       "      <th></th>\n",
       "      <th></th>\n",
       "      <th></th>\n",
       "      <th></th>\n",
       "      <th></th>\n",
       "      <th></th>\n",
       "      <th></th>\n",
       "      <th></th>\n",
       "      <th></th>\n",
       "    </tr>\n",
       "  </thead>\n",
       "  <tbody>\n",
       "    <tr>\n",
       "      <th>2019-10-02 12:02:27</th>\n",
       "      <td>1.847114</td>\n",
       "      <td>6.241146</td>\n",
       "      <td>17.95153</td>\n",
       "      <td>32.19386</td>\n",
       "      <td>24.614167</td>\n",
       "      <td>63.383333</td>\n",
       "      <td>10</td>\n",
       "      <td>2</td>\n",
       "      <td>12</td>\n",
       "    </tr>\n",
       "    <tr>\n",
       "      <th>2019-10-02 12:07:29</th>\n",
       "      <td>14.098711</td>\n",
       "      <td>28.327135</td>\n",
       "      <td>17.44945</td>\n",
       "      <td>31.71897</td>\n",
       "      <td>25.040800</td>\n",
       "      <td>65.382000</td>\n",
       "      <td>10</td>\n",
       "      <td>2</td>\n",
       "      <td>12</td>\n",
       "    </tr>\n",
       "    <tr>\n",
       "      <th>2019-10-02 12:12:32</th>\n",
       "      <td>5.068198</td>\n",
       "      <td>7.505471</td>\n",
       "      <td>17.30462</td>\n",
       "      <td>31.54500</td>\n",
       "      <td>25.035000</td>\n",
       "      <td>54.825000</td>\n",
       "      <td>10</td>\n",
       "      <td>2</td>\n",
       "      <td>12</td>\n",
       "    </tr>\n",
       "    <tr>\n",
       "      <th>2019-10-02 12:17:34</th>\n",
       "      <td>3.829068</td>\n",
       "      <td>14.021578</td>\n",
       "      <td>17.09769</td>\n",
       "      <td>31.13976</td>\n",
       "      <td>25.114861</td>\n",
       "      <td>54.924661</td>\n",
       "      <td>10</td>\n",
       "      <td>2</td>\n",
       "      <td>12</td>\n",
       "    </tr>\n",
       "    <tr>\n",
       "      <th>2019-10-02 12:22:28</th>\n",
       "      <td>3.378485</td>\n",
       "      <td>17.141379</td>\n",
       "      <td>17.06241</td>\n",
       "      <td>31.07447</td>\n",
       "      <td>25.445921</td>\n",
       "      <td>54.380000</td>\n",
       "      <td>10</td>\n",
       "      <td>2</td>\n",
       "      <td>12</td>\n",
       "    </tr>\n",
       "  </tbody>\n",
       "</table>\n",
       "</div>"
      ],
      "text/plain": [
       "                       Sen_2.5     Sen_10   Ref_2.5    Ref_10          T  \\\n",
       "Date                                                                       \n",
       "2019-10-02 12:02:27   1.847114   6.241146  17.95153  32.19386  24.614167   \n",
       "2019-10-02 12:07:29  14.098711  28.327135  17.44945  31.71897  25.040800   \n",
       "2019-10-02 12:12:32   5.068198   7.505471  17.30462  31.54500  25.035000   \n",
       "2019-10-02 12:17:34   3.829068  14.021578  17.09769  31.13976  25.114861   \n",
       "2019-10-02 12:22:28   3.378485  17.141379  17.06241  31.07447  25.445921   \n",
       "\n",
       "                            RH  Month  Day_of_week  Hour  \n",
       "Date                                                      \n",
       "2019-10-02 12:02:27  63.383333     10            2    12  \n",
       "2019-10-02 12:07:29  65.382000     10            2    12  \n",
       "2019-10-02 12:12:32  54.825000     10            2    12  \n",
       "2019-10-02 12:17:34  54.924661     10            2    12  \n",
       "2019-10-02 12:22:28  54.380000     10            2    12  "
      ]
     },
     "execution_count": 344,
     "metadata": {},
     "output_type": "execute_result"
    }
   ],
   "source": [
    "import pandas as pd\n",
    "import numpy as np\n",
    "N3_data= pd.read_csv('N3_data.csv')\n",
    "N3_data.columns=['Sen_2.5','Sen_10','Ref_2.5','Ref_10','Time','T','RH']\n",
    "N3_data=N3_data.dropna()\n",
    "Time=N3_data['Time'].to_list()\n",
    "time=[]\n",
    "for i in range(len(Time)):\n",
    "    time.append(float(abs(Time[i])))\n",
    "Time=np.array(time)\n",
    "Date=pd.to_datetime(Time-719529,unit='d').round('s')\n",
    "N3_data['Date'] = Date.tolist()\n",
    "N3_data=N3_data.set_index('Date')\n",
    "N3_data.drop('Time',axis = 1, inplace = True)\n",
    "N3_data['Month']=N3_data.index.month\n",
    "N3_data['Day_of_week']=N3_data.index.dayofweek\n",
    "N3_data['Hour']=N3_data.index.hour\n",
    "N3_data.head()"
   ]
  },
  {
   "cell_type": "code",
   "execution_count": 345,
   "id": "downtown-basketball",
   "metadata": {},
   "outputs": [],
   "source": [
    "Sen=N3_data['Sen_10'].to_list()\n",
    "Q1 = np.percentile(Sen, 25, interpolation = 'midpoint')\n",
    "  \n",
    "# Third quartile (Q3)\n",
    "Q3 = np.percentile(Sen, 75, interpolation = 'midpoint')\n",
    "  \n",
    "# Interquaritle range (IQR)\n",
    "IQR = Q3 - Q1"
   ]
  },
  {
   "cell_type": "code",
   "execution_count": 346,
   "id": "hazardous-breach",
   "metadata": {},
   "outputs": [],
   "source": [
    "#N3_data=N3_data[N3_data['Sen_10'] <=300]\n",
    "#N3_data.head()"
   ]
  },
  {
   "cell_type": "code",
   "execution_count": 347,
   "id": "comparative-plaintiff",
   "metadata": {},
   "outputs": [],
   "source": [
    "SUB = str.maketrans(\"0123456789\", \"₀₁₂₃₄₅₆₇₈₉\")\n",
    "SUP = str.maketrans(\"0123456789\", \"⁰¹²³⁴⁵⁶⁷⁸⁹\")"
   ]
  },
  {
   "cell_type": "markdown",
   "id": "dressed-terrorist",
   "metadata": {},
   "source": [
    "Raw=N3_data['Sen_10'].to_list()\n",
    "Ref=N3_data['Ref_10'].to_list()\n",
    "RAW1=[]\n",
    "REF1=[]\n",
    "RAW2=[]\n",
    "REF2=[]\n",
    "for i in range(len(Raw)):\n",
    "    if Raw[i]>=Ref[i]:\n",
    "        RAW1.append(Raw[i])\n",
    "        REF1.append(Ref[i])\n",
    "    else:\n",
    "        RAW2.append(Raw[i])\n",
    "        REF2.append(Ref[i])\n",
    "        "
   ]
  },
  {
   "cell_type": "markdown",
   "id": "polish-dictionary",
   "metadata": {},
   "source": [
    "Sen=[]\n",
    "for i in range(len(Raw)):\n",
    "    if Raw[i]>=Ref[i]:\n",
    "        Sen.append(Raw[i]-(np.mean(RAW1)-np.mean(REF1)))\n",
    "    else:\n",
    "        Sen.append(Raw[i]-(np.mean(RAW1)-np.mean(REF1)))"
   ]
  },
  {
   "cell_type": "markdown",
   "id": "stopped-picnic",
   "metadata": {},
   "source": [
    "N3_data['Sen']=Sen"
   ]
  },
  {
   "cell_type": "markdown",
   "id": "measured-feedback",
   "metadata": {},
   "source": [
    "# RF\n",
    "\n",
    "## PM2.5"
   ]
  },
  {
   "cell_type": "markdown",
   "id": "advisory-violin",
   "metadata": {},
   "source": [
    "## OPC"
   ]
  },
  {
   "cell_type": "code",
   "execution_count": 384,
   "id": "liberal-scroll",
   "metadata": {},
   "outputs": [],
   "source": [
    "from sktime.performance_metrics.forecasting import sMAPE, smape_loss\n",
    "from sklearn.model_selection import train_test_split\n",
    "from sklearn.linear_model import LinearRegression\n",
    "from sklearn.metrics import mean_absolute_error as mae\n",
    "import sklearn.metrics as sm\n",
    "import matplotlib.pyplot as plt\n",
    "#'Ref_NO2','Ref_SO2','Ref_O3',\n",
    "#,'Month','Day_of_week','Day','Hour'\n",
    "X=R1_data[['Sen_2.5','T','RH','Month','Day_of_week','Hour']]\n",
    "y=R1_data['Ref_2.5']\n",
    "X_train, X_test, y_train, y_test =train_test_split(X, y, test_size = 0.2,shuffle=True)"
   ]
  },
  {
   "cell_type": "code",
   "execution_count": 349,
   "id": "casual-terminology",
   "metadata": {},
   "outputs": [
    {
     "data": {
      "text/plain": [
       "(34741, 6)"
      ]
     },
     "execution_count": 349,
     "metadata": {},
     "output_type": "execute_result"
    }
   ],
   "source": [
    "X_train.shape"
   ]
  },
  {
   "cell_type": "code",
   "execution_count": 350,
   "id": "bibliographic-suicide",
   "metadata": {},
   "outputs": [],
   "source": [
    "from sklearn.ensemble import RandomForestRegressor\n",
    "  \n",
    " # create regressor object\n",
    "regressor = RandomForestRegressor(n_estimators =500 ,min_samples_split=2,min_samples_leaf= 2,max_features= 'sqrt', \n",
    "                                  random_state = 0,max_depth=None,bootstrap=True)\n",
    "  \n",
    "  \n",
    "# fit the regressor with x and y data\n",
    "regressor=regressor.fit(X_train[['Sen_10']], y_train) "
   ]
  },
  {
   "cell_type": "code",
   "execution_count": 351,
   "id": "elementary-liabilities",
   "metadata": {},
   "outputs": [
    {
     "data": {
      "text/plain": [
       "(-5.03, 0.2)"
      ]
     },
     "execution_count": 351,
     "metadata": {},
     "output_type": "execute_result"
    }
   ],
   "source": [
    "pred = regressor.predict(X_test[['Sen_10']])\n",
    "lab1=X_test['Sen_10'].to_list()\n",
    "Pearson_1=round(np.corrcoef(y_test, lab1)[0, 1],2)\n",
    "Pearson_2=round(np.corrcoef(y_test, pred)[0, 1],2)\n",
    "R2_lab=round(sm.r2_score(y_test, lab1), 2)\n",
    "R2_RF=round(sm.r2_score(y_test, pred), 2)\n",
    "R2_lab,R2_RF"
   ]
  },
  {
   "cell_type": "code",
   "execution_count": 352,
   "id": "weird-knitting",
   "metadata": {},
   "outputs": [
    {
     "data": {
      "text/plain": [
       "(0.16, 0.5)"
      ]
     },
     "execution_count": 352,
     "metadata": {},
     "output_type": "execute_result"
    }
   ],
   "source": [
    "Pearson_1,Pearson_2"
   ]
  },
  {
   "cell_type": "code",
   "execution_count": 353,
   "id": "accessory-latter",
   "metadata": {},
   "outputs": [
    {
     "data": {
      "text/plain": [
       "2949.193667"
      ]
     },
     "execution_count": 353,
     "metadata": {},
     "output_type": "execute_result"
    }
   ],
   "source": [
    "max(lab1)"
   ]
  },
  {
   "cell_type": "code",
   "execution_count": 354,
   "id": "downtown-daniel",
   "metadata": {},
   "outputs": [
    {
     "data": {
      "image/png": "[encoded data removed]",
      "text/plain": [
       "<Figure size 360x288 with 1 Axes>"
      ]
     },
     "metadata": {
      "needs_background": "light"
     },
     "output_type": "display_data"
    }
   ],
   "source": [
    "fig= plt.figure(figsize=(5,4))\n",
    "ax = fig.add_subplot(111)\n",
    "#ax.patch.set_facecolor('lightblue')\n",
    "#ax.patch.set_alpha(0.3)\n",
    "#m0, b0 = np.polyfit(np.array(y_test), np.array(lab1), 1)\n",
    "#plt.plot(np.array(y_test), m0*np.array(y_test) + b0,color='#426eff',linewidth=4)\n",
    "#m1, b1 = np.polyfit(np.array(y_test), np.array(pred_lr), 1)\n",
    "#plt.plot(np.array(y_test), m1*np.array(y_test) + b1,color='#513e00',linewidth=4)\n",
    "#m2, b2 = np.polyfit(np.array(y_test), np.array(pred_svr), 1)\n",
    "#plt.plot(np.array(y_test), m2*np.array(y_test) + b2,color='brown',linewidth=4)\n",
    "#m3, b3 = np.polyfit(np.array(y_test), np.array(pred_rf), 1)\n",
    "#plt.plot(np.array(y_test), m3*np.array(y_test) + b3,color='indigo',linewidth=4)\n",
    "#m4, b4 = np.polyfit(np.array(y_test), np.array(pred_ann), 1)\n",
    "#plt.plot(np.array(y_test), m4*np.array(y_test) + b4,color='tomato',linewidth=4)\n",
    "#m5, b5 = np.polyfit(np.array(y_test), np.array(pred_xgb), 1)\n",
    "#plt.plot(np.array(y_test), m5*np.array(y_test) + b5,color='darkgoldenrod',linewidth=4)\n",
    "plt.scatter(np.array(y_test),np.array(lab1),color='#104E8B',marker=\"$\\\\bigoplus$\",s=5)\n",
    "#plt.scatter(np.array(y_test),np.array(pred),color='teal',marker=\"$\\\\bigoplus$\",s=10)\n",
    "#plt.scatter(np.array(y_test),np.array(pred_lr),color='#513e00',marker='P')\n",
    "#plt.scatter(np.array(y_test),np.array(pred_svr),color='brown',marker='d')\n",
    "#plt.scatter(np.array(y_test),np.array(pred_rf),color='indigo',marker='*',s=30)\n",
    "#plt.scatter(np.array(y_test),np.array(pred_ann),color='tomato',marker='s')\n",
    "#plt.scatter(np.array(y_test),np.array(pred_xgb),color='darkgoldenrod',marker='1',s=15)\n",
    "plt.plot(np.array(y_test),np.array(y_test), c =\"black\",linewidth=1.5)\n",
    "#ax.spines['right'].set_visible(False)\n",
    "#ax.spines['top'].set_visible(False)\n",
    "ax.set_ylim(bottom=0)\n",
    "ax.set_xlim(left=0)\n",
    "plt.xlabel('Reference PM10'.translate(SUB) +  ' (µg/m3)'.translate(SUP),fontsize=15)\n",
    "plt.ylabel('LCS PM10'.translate(SUB) +  ' (µg/m3)'.translate(SUP),fontsize=15)\n",
    "#plt.legend(['1:1','N3','RF'\n",
    "            #], loc = 2, bbox_to_anchor = (0,1),fontsize=12)\n",
    "#plt.title('CO Sensor',fontsize=18 )\n",
    "A=[Pearson_1]\n",
    "#ax.text(1800, 2900, r'$ r=$'+str(A[0]), fontsize=13)\n",
    "#ax.text(200, 2900, 'LAB', fontsize=17)\n",
    "#plt.title(r'$ r=$'+str(A[0]))\n",
    "          #,\n",
    "          #fontsize=12)\n",
    "#plt.grid(linestyle='-.',linewidth=0.1)\n",
    "plt.xticks(fontsize=18)\n",
    "plt.yticks(fontsize=18)\n",
    "plt.show\n",
    "#plt.xticks(np.arange(0,2.9, step=1))\n",
    "plt.xticks(np.arange(0,201, step=40))\n",
    "plt.yticks(np.arange(0,501, step=100))\n",
    "plt.xlim(0, 200)\n",
    "plt.ylim(0, 400)\n",
    "plt.show\n",
    "textstr = r'$r=%.2f$' % (A[0],)\n",
    "#textstr = '\\n'.join(('LAB',r'$r=%.2f$' % (A[0], ) ))\n",
    "\n",
    "props = dict(boxstyle='round', facecolor='white', alpha=1)\n",
    "\n",
    "#place a text box in upper left in axes coords\n",
    "ax.text(0.04, 0.96, textstr, transform=ax.transAxes, fontsize=20,\n",
    "        verticalalignment='top')\n",
    "\n",
    "plt.savefig(\"R1_10_OPC.pdf\",format=\"pdf\", bbox_inches=\"tight\",dpi=1000)\n",
    "#plt.savefig(\"fig4d.pdf\", format=\"pdf\", bbox_inches=\"tight\")\n",
    "plt.show()"
   ]
  },
  {
   "cell_type": "code",
   "execution_count": 355,
   "id": "expanded-radar",
   "metadata": {},
   "outputs": [],
   "source": [
    "err=(np.array(lab1)-np.array(y_test))/np.array(y_test)\n",
    "err1=[]\n",
    "err2=[]\n",
    "y_test1=[]\n",
    "y_test2=[]\n",
    "for i in range(len(err)):\n",
    "    if err[i]>=-0.4 and err[i]<=0.4:\n",
    "        err1.append(err[i])\n",
    "        y_test1.append(y_test[i])\n",
    "    else:\n",
    "        err2.append(err[i])\n",
    "        y_test2.append(y_test[i])\n",
    "Err_lab=np.round((len(err1)/len(err))*100)"
   ]
  },
  {
   "cell_type": "code",
   "execution_count": 356,
   "id": "smooth-pleasure",
   "metadata": {},
   "outputs": [
    {
     "data": {
      "image/png": "[encoded data removed]",
      "text/plain": [
       "<Figure size 360x288 with 1 Axes>"
      ]
     },
     "metadata": {
      "needs_background": "light"
     },
     "output_type": "display_data"
    }
   ],
   "source": [
    "#err=(np.array(lab1)-np.array(y_test))/np.array(y_test)\n",
    "fig= plt.figure(figsize=(5,4))\n",
    "ax = fig.add_subplot(111)\n",
    "#ax.patch.set_facecolor('lightblue')\n",
    "#ax.patch.set_alpha(0.3)\n",
    "#m0, b0 = np.polyfit(np.array(y_test), np.array(lab1), 1)\n",
    "#plt.plot(np.array(y_test), m0*np.array(y_test) + b0,color='#426eff',linewidth=4)\n",
    "#m1, b1 = np.polyfit(np.array(y_test), np.array(pred_lr), 1)\n",
    "#plt.plot(np.array(y_test), m1*np.array(y_test) + b1,color='#513e00',linewidth=4)\n",
    "#m2, b2 = np.polyfit(np.array(y_test), np.array(pred_svr), 1)\n",
    "#plt.plot(np.array(y_test), m2*np.array(y_test) + b2,color='brown',linewidth=4)\n",
    "#m3, b3 = np.polyfit(np.array(y_test), np.array(pred_rf), 1)\n",
    "#plt.plot(np.array(y_test), m3*np.array(y_test) + b3,color='indigo',linewidth=4)\n",
    "#m4, b4 = np.polyfit(np.array(y_test), np.array(pred_ann), 1)\n",
    "#plt.plot(np.array(y_test), m4*np.array(y_test) + b4,color='tomato',linewidth=4)\n",
    "#m5, b5 = np.polyfit(np.array(y_test), np.array(pred_xgb), 1)\n",
    "#plt.plot(np.array(y_test), m5*np.array(y_test) + b5,color='darkgoldenrod',linewidth=4)\n",
    "#plt.scatter(np.array(y_test1),err1,color='teal',marker=\"$\\\\bigoplus$\",s=5)\n",
    "plt.scatter(np.array(y_test),err,color='#104E8B',marker=\"$\\\\bigoplus$\",s=5)\n",
    "#plt.scatter(np.array(y_test),np.array(pred),color='teal',marker=\"$\\\\bigoplus$\",s=10)\n",
    "#plt.scatter(np.array(y_test),np.array(pred_lr),color='#513e00',marker='P')\n",
    "#plt.scatter(np.array(y_test),np.array(pred_svr),color='brown',marker='d')\n",
    "#plt.scatter(np.array(y_test),np.array(pred_rf),color='indigo',marker='*',s=30)\n",
    "#plt.scatter(np.array(y_test),np.array(pred_ann),color='tomato',marker='s')\n",
    "#plt.scatter(np.array(y_test),np.array(pred_xgb),color='darkgoldenrod',marker='1',s=15)\n",
    "#plt.plot(np.array(y_test),np.array(y_test), c =\"black\",linewidth=1.5)\n",
    "#ax.spines['right'].set_visible(False)\n",
    "#ax.spines['top'].set_visible(False)\n",
    "ax.set_ylim(bottom=0)\n",
    "ax.set_xlim(left=0)\n",
    "plt.xlabel('Reference PM10'.translate(SUB) +  ' (µg/m3)'.translate(SUP),fontsize=15)\n",
    "plt.ylabel('Relative error',fontsize=15)\n",
    "#plt.legend(['1:1','N3','RF'\n",
    "            #], loc = 2, bbox_to_anchor = (0,1),fontsize=12)\n",
    "#plt.title('CO Sensor',fontsize=18 )\n",
    "A=[Pearson_1]\n",
    "#ax.text(1800, 2900, r'$ r=$'+str(A[0]), fontsize=13)\n",
    "#ax.text(200, 2900, 'LAB', fontsize=17)\n",
    "#plt.title(r'$ r=$'+str(A[0]))\n",
    "          #,\n",
    "          #fontsize=12)\n",
    "#plt.grid(linestyle='-.',linewidth=0.1)\n",
    "plt.xticks(fontsize=18)\n",
    "plt.yticks(fontsize=18)\n",
    "plt.show\n",
    "#plt.xticks(np.arange(0,2.9, step=1))\n",
    "plt.xticks(np.arange(0,201, step=40))\n",
    "plt.yticks(np.arange(-1,7, step=1))\n",
    "plt.ylim(-1, 6)\n",
    "plt.axhline(y=-0.4, color='black', linestyle='--', linewidth=2)\n",
    "plt.axhline(y=0.4, color='black', linestyle='--',linewidth=2)\n",
    "#textstr = '\\n'.join(('LAB',r'$r=%.2f$' % (A[0], ) ))\n",
    "\n",
    "#props = dict(boxstyle='round', facecolor='white', alpha=1)\n",
    "\n",
    "#place a text box in upper left in axes coords\n",
    "#ax.text(0.04, 0.96, textstr, transform=ax.transAxes, fontsize=20,\n",
    "        #verticalalignment='top', bbox=props)\n",
    "\n",
    "plt.savefig(\"R1_10_OPC_err.pdf\",format=\"pdf\", bbox_inches=\"tight\",dpi=1000)\n",
    "#plt.savefig(\"fig4d.pdf\", format=\"pdf\", bbox_inches=\"tight\")\n",
    "plt.show()"
   ]
  },
  {
   "cell_type": "code",
   "execution_count": 357,
   "id": "handmade-alexander",
   "metadata": {},
   "outputs": [
    {
     "data": {
      "image/png": "[encoded data removed]",
      "text/plain": [
       "<Figure size 360x288 with 1 Axes>"
      ]
     },
     "metadata": {
      "needs_background": "light"
     },
     "output_type": "display_data"
    }
   ],
   "source": [
    "fig= plt.figure(figsize=(5,4))\n",
    "ax = fig.add_subplot(111)\n",
    "#ax.patch.set_facecolor('lightblue')\n",
    "#ax.patch.set_alpha(0.3)\n",
    "#m0, b0 = np.polyfit(np.array(y_test), np.array(lab1), 1)\n",
    "#plt.plot(np.array(y_test), m0*np.array(y_test) + b0,color='#426eff',linewidth=4)\n",
    "#m1, b1 = np.polyfit(np.array(y_test), np.array(pred_lr), 1)\n",
    "#plt.plot(np.array(y_test), m1*np.array(y_test) + b1,color='#513e00',linewidth=4)\n",
    "#m2, b2 = np.polyfit(np.array(y_test), np.array(pred_svr), 1)\n",
    "#plt.plot(np.array(y_test), m2*np.array(y_test) + b2,color='brown',linewidth=4)\n",
    "#m3, b3 = np.polyfit(np.array(y_test), np.array(pred_rf), 1)\n",
    "#plt.plot(np.array(y_test), m3*np.array(y_test) + b3,color='indigo',linewidth=4)\n",
    "#m4, b4 = np.polyfit(np.array(y_test), np.array(pred_ann), 1)\n",
    "#plt.plot(np.array(y_test), m4*np.array(y_test) + b4,color='tomato',linewidth=4)\n",
    "#m5, b5 = np.polyfit(np.array(y_test), np.array(pred_xgb), 1)\n",
    "#plt.plot(np.array(y_test), m5*np.array(y_test) + b5,color='darkgoldenrod',linewidth=4)\n",
    "#plt.scatter(np.array(y_test),np.array(lab1),color='teal',marker=\"$\\\\bigoplus$\",s=10)\n",
    "plt.scatter(np.array(y_test),np.array(pred),color='#104E8B',marker=\"$\\\\bigoplus$\",s=5)\n",
    "#plt.scatter(np.array(y_test),np.array(pred_lr),color='#513e00',marker='P')\n",
    "#plt.scatter(np.array(y_test),np.array(pred_svr),color='brown',marker='d')\n",
    "#plt.scatter(np.array(y_test),np.array(pred_rf),color='indigo',marker='*',s=30)\n",
    "#plt.scatter(np.array(y_test),np.array(pred_ann),color='tomato',marker='s')\n",
    "#plt.scatter(np.array(y_test),np.array(pred_xgb),color='darkgoldenrod',marker='1',s=15)\n",
    "plt.plot(np.array(y_test),np.array(y_test), c =\"black\",linewidth=1.5)\n",
    "#ax.spines['right'].set_visible(False)\n",
    "#ax.spines['top'].set_visible(False)\n",
    "ax.set_ylim(bottom=0)\n",
    "ax.set_xlim(left=0)\n",
    "plt.xlabel('Reference PM10'.translate(SUB) +  ' (µg/m3)'.translate(SUP),fontsize=15)\n",
    "plt.ylabel('LCS PM10'.translate(SUB) +  ' (µg/m3)'.translate(SUP),fontsize=15)\n",
    "#plt.legend(['1:1','N3','RF'\n",
    "            #], loc = 2, bbox_to_anchor = (0,1),fontsize=12)\n",
    "#plt.title('CO Sensor',fontsize=18 )\n",
    "A=[Pearson_2]\n",
    "#ax.text(1800, 2900, r'$ r=$'+str(A[0]), fontsize=13)\n",
    "#ax.text(200, 2900, 'LAB', fontsize=17)\n",
    "#plt.title(r'$ r=$'+str(A[0]))\n",
    "          #,\n",
    "          #fontsize=12)\n",
    "#plt.grid(linestyle='-.',linewidth=0.1)\n",
    "plt.xticks(fontsize=18)\n",
    "plt.yticks(fontsize=18)\n",
    "plt.show\n",
    "#plt.xticks(np.arange(0,2.9, step=1))\n",
    "plt.xticks(np.arange(0,201, step=40))\n",
    "plt.yticks(np.arange(0,201, step=40))\n",
    "plt.show\n",
    "textstr = r'$r=%.2f$' % (A[0],)\n",
    "#'\\n'.join(('RF',r'$r=%.2f$' % (A[0], ) ))\n",
    "\n",
    "props = dict(boxstyle='round', facecolor='white', alpha=1)\n",
    "\n",
    "#place a text box in upper left in axes coords\n",
    "ax.text(0.04, 0.96, textstr, transform=ax.transAxes, fontsize=20,\n",
    "        verticalalignment='top')\n",
    "\n",
    "plt.savefig(\"R1_10_RF_O.pdf\",format=\"pdf\", bbox_inches=\"tight\")\n",
    "#plt.savefig(\"fig4d.pdf\", format=\"pdf\", bbox_inches=\"tight\")\n",
    "plt.show()"
   ]
  },
  {
   "cell_type": "code",
   "execution_count": 358,
   "id": "talented-burke",
   "metadata": {},
   "outputs": [
    {
     "data": {
      "image/png": "[encoded data removed]",
      "text/plain": [
       "<Figure size 360x288 with 1 Axes>"
      ]
     },
     "metadata": {
      "needs_background": "light"
     },
     "output_type": "display_data"
    }
   ],
   "source": [
    "err=(np.array(pred)-np.array(y_test))/np.array(y_test)\n",
    "fig= plt.figure(figsize=(5,4))\n",
    "ax = fig.add_subplot(111)\n",
    "#ax.patch.set_facecolor('lightblue')\n",
    "#ax.patch.set_alpha(0.3)\n",
    "#m0, b0 = np.polyfit(np.array(y_test), np.array(lab1), 1)\n",
    "#plt.plot(np.array(y_test), m0*np.array(y_test) + b0,color='#426eff',linewidth=4)\n",
    "#m1, b1 = np.polyfit(np.array(y_test), np.array(pred_lr), 1)\n",
    "#plt.plot(np.array(y_test), m1*np.array(y_test) + b1,color='#513e00',linewidth=4)\n",
    "#m2, b2 = np.polyfit(np.array(y_test), np.array(pred_svr), 1)\n",
    "#plt.plot(np.array(y_test), m2*np.array(y_test) + b2,color='brown',linewidth=4)\n",
    "#m3, b3 = np.polyfit(np.array(y_test), np.array(pred_rf), 1)\n",
    "#plt.plot(np.array(y_test), m3*np.array(y_test) + b3,color='indigo',linewidth=4)\n",
    "#m4, b4 = np.polyfit(np.array(y_test), np.array(pred_ann), 1)\n",
    "#plt.plot(np.array(y_test), m4*np.array(y_test) + b4,color='tomato',linewidth=4)\n",
    "#m5, b5 = np.polyfit(np.array(y_test), np.array(pred_xgb), 1)\n",
    "#plt.plot(np.array(y_test), m5*np.array(y_test) + b5,color='darkgoldenrod',linewidth=4)\n",
    "plt.scatter(np.array(y_test),err,color='#104E8B',marker=\"$\\\\bigoplus$\",s=5)\n",
    "#plt.scatter(np.array(y_test),np.array(pred),color='teal',marker=\"$\\\\bigoplus$\",s=10)\n",
    "#plt.scatter(np.array(y_test),np.array(pred_lr),color='#513e00',marker='P')\n",
    "#plt.scatter(np.array(y_test),np.array(pred_svr),color='brown',marker='d')\n",
    "#plt.scatter(np.array(y_test),np.array(pred_rf),color='indigo',marker='*',s=30)\n",
    "#plt.scatter(np.array(y_test),np.array(pred_ann),color='tomato',marker='s')\n",
    "#plt.scatter(np.array(y_test),np.array(pred_xgb),color='darkgoldenrod',marker='1',s=15)\n",
    "#plt.plot(np.array(y_test),np.array(y_test), c =\"black\",linewidth=1.5)\n",
    "#ax.spines['right'].set_visible(False)\n",
    "#ax.spines['top'].set_visible(False)\n",
    "ax.set_ylim(bottom=0)\n",
    "ax.set_xlim(left=0)\n",
    "plt.xlabel('TEOM PM10'.translate(SUB) +  ' (µg/m3)'.translate(SUP),fontsize=15)\n",
    "plt.ylabel('Relative error',fontsize=15)\n",
    "#plt.legend(['1:1','N3','RF'\n",
    "            #], loc = 2, bbox_to_anchor = (0,1),fontsize=12)\n",
    "#plt.title('CO Sensor',fontsize=18 )\n",
    "A=[Pearson_1]\n",
    "#ax.text(1800, 2900, r'$ r=$'+str(A[0]), fontsize=13)\n",
    "#ax.text(200, 2900, 'LAB', fontsize=17)\n",
    "#plt.title(r'$ r=$'+str(A[0]))\n",
    "          #,\n",
    "          #fontsize=12)\n",
    "#plt.grid(linestyle='-.',linewidth=0.1)\n",
    "plt.xticks(fontsize=18)\n",
    "plt.yticks(fontsize=18)\n",
    "plt.show\n",
    "#plt.xticks(np.arange(0,2.9, step=1))\n",
    "plt.xticks(np.arange(0,201, step=40))\n",
    "plt.yticks(np.arange(-1,7, step=1))\n",
    "plt.ylim(-1, 6)\n",
    "plt.axhline(y=-0.4, color='black', linestyle='--', linewidth=2)\n",
    "plt.axhline(y=0.4, color='black', linestyle='--',linewidth=2)\n",
    "#textstr = '\\n'.join(('LAB',r'$r=%.2f$' % (A[0], ) ))\n",
    "\n",
    "#props = dict(boxstyle='round', facecolor='white', alpha=1)\n",
    "\n",
    "#place a text box in upper left in axes coords\n",
    "#ax.text(0.04, 0.96, textstr, transform=ax.transAxes, fontsize=20,\n",
    "        #verticalalignment='top', bbox=props)\n",
    "\n",
    "plt.savefig(\"R1_10_RF_O_err.pdf\",format=\"pdf\", bbox_inches=\"tight\",dpi=1000)\n",
    "#plt.savefig(\"fig4d.pdf\", format=\"pdf\", bbox_inches=\"tight\")\n",
    "plt.show()"
   ]
  },
  {
   "cell_type": "markdown",
   "id": "starting-birmingham",
   "metadata": {},
   "source": [
    "## OPC+T"
   ]
  },
  {
   "cell_type": "code",
   "execution_count": 359,
   "id": "responsible-christmas",
   "metadata": {},
   "outputs": [
    {
     "data": {
      "text/plain": [
       "(-5.03, 0.36)"
      ]
     },
     "execution_count": 359,
     "metadata": {},
     "output_type": "execute_result"
    }
   ],
   "source": [
    "regressor=regressor.fit(X_train[['Sen_10','T']], y_train)\n",
    "pred = regressor.predict(X_test[['Sen_10','T']])\n",
    "lab1=X_test['Sen_10'].to_list()\n",
    "Pearson_1=round(np.corrcoef(y_test, lab1)[0, 1],2)\n",
    "Pearson_2=round(np.corrcoef(y_test, pred)[0, 1],2)\n",
    "R2_lab=round(sm.r2_score(y_test, lab1), 2)\n",
    "R2_RF=round(sm.r2_score(y_test, pred), 2)\n",
    "R2_lab,R2_RF"
   ]
  },
  {
   "cell_type": "code",
   "execution_count": 360,
   "id": "eastern-panic",
   "metadata": {},
   "outputs": [
    {
     "data": {
      "image/png": "[encoded data removed]",
      "text/plain": [
       "<Figure size 360x288 with 1 Axes>"
      ]
     },
     "metadata": {
      "needs_background": "light"
     },
     "output_type": "display_data"
    }
   ],
   "source": [
    "fig= plt.figure(figsize=(5,4))\n",
    "ax = fig.add_subplot(111)\n",
    "#ax.patch.set_facecolor('lightblue')\n",
    "#ax.patch.set_alpha(0.3)\n",
    "#m0, b0 = np.polyfit(np.array(y_test), np.array(lab1), 1)\n",
    "#plt.plot(np.array(y_test), m0*np.array(y_test) + b0,color='#426eff',linewidth=4)\n",
    "#m1, b1 = np.polyfit(np.array(y_test), np.array(pred_lr), 1)\n",
    "#plt.plot(np.array(y_test), m1*np.array(y_test) + b1,color='#513e00',linewidth=4)\n",
    "#m2, b2 = np.polyfit(np.array(y_test), np.array(pred_svr), 1)\n",
    "#plt.plot(np.array(y_test), m2*np.array(y_test) + b2,color='brown',linewidth=4)\n",
    "#m3, b3 = np.polyfit(np.array(y_test), np.array(pred_rf), 1)\n",
    "#plt.plot(np.array(y_test), m3*np.array(y_test) + b3,color='indigo',linewidth=4)\n",
    "#m4, b4 = np.polyfit(np.array(y_test), np.array(pred_ann), 1)\n",
    "#plt.plot(np.array(y_test), m4*np.array(y_test) + b4,color='tomato',linewidth=4)\n",
    "#m5, b5 = np.polyfit(np.array(y_test), np.array(pred_xgb), 1)\n",
    "#plt.plot(np.array(y_test), m5*np.array(y_test) + b5,color='darkgoldenrod',linewidth=4)\n",
    "#plt.scatter(np.array(y_test),np.array(lab1),color='teal',marker=\"$\\\\bigoplus$\",s=10)\n",
    "plt.scatter(np.array(y_test),np.array(pred),color='#104E8B',marker=\"$\\\\bigoplus$\",s=5)\n",
    "#plt.scatter(np.array(y_test),np.array(pred_lr),color='#513e00',marker='P')\n",
    "#plt.scatter(np.array(y_test),np.array(pred_svr),color='brown',marker='d')\n",
    "#plt.scatter(np.array(y_test),np.array(pred_rf),color='indigo',marker='*',s=30)\n",
    "#plt.scatter(np.array(y_test),np.array(pred_ann),color='tomato',marker='s')\n",
    "#plt.scatter(np.array(y_test),np.array(pred_xgb),color='darkgoldenrod',marker='1',s=15)\n",
    "plt.plot(np.array(y_test),np.array(y_test), c =\"black\",linewidth=1.5)\n",
    "#ax.spines['right'].set_visible(False)\n",
    "#ax.spines['top'].set_visible(False)\n",
    "ax.set_ylim(bottom=0)\n",
    "ax.set_xlim(left=0)\n",
    "plt.xlabel('Reference PM10'.translate(SUB) +  ' (µg/m3)'.translate(SUP),fontsize=15)\n",
    "plt.ylabel('LCS PM10'.translate(SUB) +  ' (µg/m3)'.translate(SUP),fontsize=15)\n",
    "#plt.legend(['1:1','N3','RF'\n",
    "            #], loc = 2, bbox_to_anchor = (0,1),fontsize=12)\n",
    "#plt.title('CO Sensor',fontsize=18 )\n",
    "A=[Pearson_2]\n",
    "#ax.text(1800, 2900, r'$ r=$'+str(A[0]), fontsize=13)\n",
    "#ax.text(200, 2900, 'LAB', fontsize=17)\n",
    "#plt.title(r'$ r=$'+str(A[0]))\n",
    "          #,\n",
    "          #fontsize=12)\n",
    "#plt.grid(linestyle='-.',linewidth=0.1)\n",
    "plt.xticks(fontsize=18)\n",
    "plt.yticks(fontsize=18)\n",
    "plt.show\n",
    "#plt.xticks(np.arange(0,2.9, step=1))\n",
    "plt.xticks(np.arange(0,201, step=40))\n",
    "plt.yticks(np.arange(0,201, step=40))\n",
    "plt.show\n",
    "textstr = r'$r=%.2f$' % (A[0],)\n",
    "#textstr = '\\n'.join(('RF',r'$r=%.2f$' % (A[0], ) ))\n",
    "\n",
    "props = dict(boxstyle='round', facecolor='white', alpha=1)\n",
    "\n",
    "#place a text box in upper left in axes coords\n",
    "ax.text(0.04, 0.96, textstr, transform=ax.transAxes, fontsize=20,\n",
    "        verticalalignment='top')\n",
    "\n",
    "plt.savefig(\"R1_10_RF_OT.pdf\",format=\"pdf\", bbox_inches=\"tight\")\n",
    "#plt.savefig(\"fig4d.pdf\", format=\"pdf\", bbox_inches=\"tight\")\n",
    "plt.show()"
   ]
  },
  {
   "cell_type": "code",
   "execution_count": 361,
   "id": "brutal-elephant",
   "metadata": {},
   "outputs": [
    {
     "data": {
      "image/png": "[encoded data removed]",
      "text/plain": [
       "<Figure size 360x288 with 1 Axes>"
      ]
     },
     "metadata": {
      "needs_background": "light"
     },
     "output_type": "display_data"
    }
   ],
   "source": [
    "err=(np.array(pred)-np.array(y_test))/np.array(y_test)\n",
    "fig= plt.figure(figsize=(5,4))\n",
    "ax = fig.add_subplot(111)\n",
    "#ax.patch.set_facecolor('lightblue')\n",
    "#ax.patch.set_alpha(0.3)\n",
    "#m0, b0 = np.polyfit(np.array(y_test), np.array(lab1), 1)\n",
    "#plt.plot(np.array(y_test), m0*np.array(y_test) + b0,color='#426eff',linewidth=4)\n",
    "#m1, b1 = np.polyfit(np.array(y_test), np.array(pred_lr), 1)\n",
    "#plt.plot(np.array(y_test), m1*np.array(y_test) + b1,color='#513e00',linewidth=4)\n",
    "#m2, b2 = np.polyfit(np.array(y_test), np.array(pred_svr), 1)\n",
    "#plt.plot(np.array(y_test), m2*np.array(y_test) + b2,color='brown',linewidth=4)\n",
    "#m3, b3 = np.polyfit(np.array(y_test), np.array(pred_rf), 1)\n",
    "#plt.plot(np.array(y_test), m3*np.array(y_test) + b3,color='indigo',linewidth=4)\n",
    "#m4, b4 = np.polyfit(np.array(y_test), np.array(pred_ann), 1)\n",
    "#plt.plot(np.array(y_test), m4*np.array(y_test) + b4,color='tomato',linewidth=4)\n",
    "#m5, b5 = np.polyfit(np.array(y_test), np.array(pred_xgb), 1)\n",
    "#plt.plot(np.array(y_test), m5*np.array(y_test) + b5,color='darkgoldenrod',linewidth=4)\n",
    "plt.scatter(np.array(y_test),err,color='#104E8B',marker=\"$\\\\bigoplus$\",s=5)\n",
    "#plt.scatter(np.array(y_test),np.array(pred),color='teal',marker=\"$\\\\bigoplus$\",s=10)\n",
    "#plt.scatter(np.array(y_test),np.array(pred_lr),color='#513e00',marker='P')\n",
    "#plt.scatter(np.array(y_test),np.array(pred_svr),color='brown',marker='d')\n",
    "#plt.scatter(np.array(y_test),np.array(pred_rf),color='indigo',marker='*',s=30)\n",
    "#plt.scatter(np.array(y_test),np.array(pred_ann),color='tomato',marker='s')\n",
    "#plt.scatter(np.array(y_test),np.array(pred_xgb),color='darkgoldenrod',marker='1',s=15)\n",
    "#plt.plot(np.array(y_test),np.array(y_test), c =\"black\",linewidth=1.5)\n",
    "#ax.spines['right'].set_visible(False)\n",
    "#ax.spines['top'].set_visible(False)\n",
    "ax.set_ylim(bottom=0)\n",
    "ax.set_xlim(left=0)\n",
    "plt.xlabel('TEOM PM10'.translate(SUB) +  ' (µg/m3)'.translate(SUP),fontsize=15)\n",
    "plt.ylabel('Relative error',fontsize=15)\n",
    "#plt.legend(['1:1','N3','RF'\n",
    "            #], loc = 2, bbox_to_anchor = (0,1),fontsize=12)\n",
    "#plt.title('CO Sensor',fontsize=18 )\n",
    "A=[Pearson_1]\n",
    "#ax.text(1800, 2900, r'$ r=$'+str(A[0]), fontsize=13)\n",
    "#ax.text(200, 2900, 'LAB', fontsize=17)\n",
    "#plt.title(r'$ r=$'+str(A[0]))\n",
    "          #,\n",
    "          #fontsize=12)\n",
    "#plt.grid(linestyle='-.',linewidth=0.1)\n",
    "plt.xticks(fontsize=18)\n",
    "plt.yticks(fontsize=18)\n",
    "plt.show\n",
    "#plt.xticks(np.arange(0,2.9, step=1))\n",
    "plt.xticks(np.arange(0,201, step=40))\n",
    "plt.yticks(np.arange(-1,7, step=1))\n",
    "plt.ylim(-1, 6)\n",
    "plt.axhline(y=-0.4, color='black', linestyle='--', linewidth=2)\n",
    "plt.axhline(y=0.4, color='black', linestyle='--',linewidth=2)\n",
    "#textstr = '\\n'.join(('LAB',r'$r=%.2f$' % (A[0], ) ))\n",
    "\n",
    "#props = dict(boxstyle='round', facecolor='white', alpha=1)\n",
    "\n",
    "#place a text box in upper left in axes coords\n",
    "#ax.text(0.04, 0.96, textstr, transform=ax.transAxes, fontsize=20,\n",
    "        #verticalalignment='top', bbox=props)\n",
    "\n",
    "plt.savefig(\"R1_10_RF_OT_err.pdf\",format=\"pdf\", bbox_inches=\"tight\",dpi=1000)\n",
    "#plt.savefig(\"fig4d.pdf\", format=\"pdf\", bbox_inches=\"tight\")\n",
    "plt.show()"
   ]
  },
  {
   "cell_type": "markdown",
   "id": "developmental-failure",
   "metadata": {},
   "source": [
    "## OPC+RH"
   ]
  },
  {
   "cell_type": "code",
   "execution_count": 362,
   "id": "weighted-operation",
   "metadata": {},
   "outputs": [
    {
     "data": {
      "text/plain": [
       "(-21.47, 0.41)"
      ]
     },
     "execution_count": 362,
     "metadata": {},
     "output_type": "execute_result"
    }
   ],
   "source": [
    "X_train, X_test, y_train, y_test =train_test_split(X, y, test_size = 0.2,shuffle=True)\n",
    "regressor=regressor.fit(X_train[['Sen_10','RH']], y_train)\n",
    "pred = regressor.predict(X_test[['Sen_10','RH']])\n",
    "lab1=X_test['Sen_10'].to_list()\n",
    "Pearson_1=round(np.corrcoef(y_test, lab1)[0, 1],2)\n",
    "Pearson_2=round(np.corrcoef(y_test, pred)[0, 1],2)\n",
    "R2_lab=round(sm.r2_score(y_test, lab1), 2)\n",
    "R2_RF=round(sm.r2_score(y_test, pred), 2)\n",
    "R2_lab,R2_RF"
   ]
  },
  {
   "cell_type": "code",
   "execution_count": 363,
   "id": "metric-adelaide",
   "metadata": {},
   "outputs": [
    {
     "data": {
      "image/png": "[encoded data removed]",
      "text/plain": [
       "<Figure size 360x288 with 1 Axes>"
      ]
     },
     "metadata": {
      "needs_background": "light"
     },
     "output_type": "display_data"
    }
   ],
   "source": [
    "fig= plt.figure(figsize=(5,4))\n",
    "ax = fig.add_subplot(111)\n",
    "#ax.patch.set_facecolor('lightblue')\n",
    "#ax.patch.set_alpha(0.3)\n",
    "#m0, b0 = np.polyfit(np.array(y_test), np.array(lab1), 1)\n",
    "#plt.plot(np.array(y_test), m0*np.array(y_test) + b0,color='#426eff',linewidth=4)\n",
    "#m1, b1 = np.polyfit(np.array(y_test), np.array(pred_lr), 1)\n",
    "#plt.plot(np.array(y_test), m1*np.array(y_test) + b1,color='#513e00',linewidth=4)\n",
    "#m2, b2 = np.polyfit(np.array(y_test), np.array(pred_svr), 1)\n",
    "#plt.plot(np.array(y_test), m2*np.array(y_test) + b2,color='brown',linewidth=4)\n",
    "#m3, b3 = np.polyfit(np.array(y_test), np.array(pred_rf), 1)\n",
    "#plt.plot(np.array(y_test), m3*np.array(y_test) + b3,color='indigo',linewidth=4)\n",
    "#m4, b4 = np.polyfit(np.array(y_test), np.array(pred_ann), 1)\n",
    "#plt.plot(np.array(y_test), m4*np.array(y_test) + b4,color='tomato',linewidth=4)\n",
    "#m5, b5 = np.polyfit(np.array(y_test), np.array(pred_xgb), 1)\n",
    "#plt.plot(np.array(y_test), m5*np.array(y_test) + b5,color='darkgoldenrod',linewidth=4)\n",
    "#plt.scatter(np.array(y_test),np.array(lab1),color='teal',marker=\"$\\\\bigoplus$\",s=10)\n",
    "plt.scatter(np.array(y_test),np.array(pred),color='#104E8B',marker=\"$\\\\bigoplus$\",s=5)\n",
    "#plt.scatter(np.array(y_test),np.array(pred_lr),color='#513e00',marker='P')\n",
    "#plt.scatter(np.array(y_test),np.array(pred_svr),color='brown',marker='d')\n",
    "#plt.scatter(np.array(y_test),np.array(pred_rf),color='indigo',marker='*',s=30)\n",
    "#plt.scatter(np.array(y_test),np.array(pred_ann),color='tomato',marker='s')\n",
    "#plt.scatter(np.array(y_test),np.array(pred_xgb),color='darkgoldenrod',marker='1',s=15)\n",
    "plt.plot(np.array(y_test),np.array(y_test), c =\"black\",linewidth=1.5)\n",
    "#ax.spines['right'].set_visible(False)\n",
    "#ax.spines['top'].set_visible(False)\n",
    "ax.set_ylim(bottom=0)\n",
    "ax.set_xlim(left=0)\n",
    "plt.xlabel('Reference PM10'.translate(SUB) +  ' (µg/m3)'.translate(SUP),fontsize=15)\n",
    "plt.ylabel('LCS PM10'.translate(SUB) +  ' (µg/m3)'.translate(SUP),fontsize=15)\n",
    "#plt.legend(['1:1','N3','RF'\n",
    "            #], loc = 2, bbox_to_anchor = (0,1),fontsize=12)\n",
    "#plt.title('CO Sensor',fontsize=18 )\n",
    "A=[Pearson_2]\n",
    "#ax.text(1800, 2900, r'$ r=$'+str(A[0]), fontsize=13)\n",
    "#ax.text(200, 2900, 'LAB', fontsize=17)\n",
    "#plt.title(r'$ r=$'+str(A[0]))\n",
    "          #,\n",
    "          #fontsize=12)\n",
    "#plt.grid(linestyle='-.',linewidth=0.1)\n",
    "plt.xticks(fontsize=18)\n",
    "plt.yticks(fontsize=18)\n",
    "plt.show\n",
    "#plt.xticks(np.arange(0,2.9, step=1))\n",
    "plt.xticks(np.arange(0,201, step=40))\n",
    "plt.yticks(np.arange(0,201, step=40))\n",
    "plt.show\n",
    "textstr = r'$r=%.2f$' % (A[0],)\n",
    "#textstr = '\\n'.join(('RF',r'$r=%.2f$' % (A[0], ) ))\n",
    "\n",
    "props = dict(boxstyle='round', facecolor='white', alpha=1)\n",
    "\n",
    "#place a text box in upper left in axes coords\n",
    "ax.text(0.04, 0.96, textstr, transform=ax.transAxes, fontsize=20,\n",
    "        verticalalignment='top')\n",
    "\n",
    "plt.savefig(\"R1_10_RF_ORH.pdf\",format=\"pdf\", bbox_inches=\"tight\")\n",
    "#plt.savefig(\"fig4d.pdf\", format=\"pdf\", bbox_inches=\"tight\")\n",
    "plt.show()"
   ]
  },
  {
   "cell_type": "code",
   "execution_count": 364,
   "id": "figured-polish",
   "metadata": {},
   "outputs": [
    {
     "data": {
      "image/png": "[encoded data removed]",
      "text/plain": [
       "<Figure size 360x288 with 1 Axes>"
      ]
     },
     "metadata": {
      "needs_background": "light"
     },
     "output_type": "display_data"
    }
   ],
   "source": [
    "err=(np.array(pred)-np.array(y_test))/np.array(y_test)\n",
    "fig= plt.figure(figsize=(5,4))\n",
    "ax = fig.add_subplot(111)\n",
    "#ax.patch.set_facecolor('lightblue')\n",
    "#ax.patch.set_alpha(0.3)\n",
    "#m0, b0 = np.polyfit(np.array(y_test), np.array(lab1), 1)\n",
    "#plt.plot(np.array(y_test), m0*np.array(y_test) + b0,color='#426eff',linewidth=4)\n",
    "#m1, b1 = np.polyfit(np.array(y_test), np.array(pred_lr), 1)\n",
    "#plt.plot(np.array(y_test), m1*np.array(y_test) + b1,color='#513e00',linewidth=4)\n",
    "#m2, b2 = np.polyfit(np.array(y_test), np.array(pred_svr), 1)\n",
    "#plt.plot(np.array(y_test), m2*np.array(y_test) + b2,color='brown',linewidth=4)\n",
    "#m3, b3 = np.polyfit(np.array(y_test), np.array(pred_rf), 1)\n",
    "#plt.plot(np.array(y_test), m3*np.array(y_test) + b3,color='indigo',linewidth=4)\n",
    "#m4, b4 = np.polyfit(np.array(y_test), np.array(pred_ann), 1)\n",
    "#plt.plot(np.array(y_test), m4*np.array(y_test) + b4,color='tomato',linewidth=4)\n",
    "#m5, b5 = np.polyfit(np.array(y_test), np.array(pred_xgb), 1)\n",
    "#plt.plot(np.array(y_test), m5*np.array(y_test) + b5,color='darkgoldenrod',linewidth=4)\n",
    "plt.scatter(np.array(y_test),err,color='#104E8B',marker=\"$\\\\bigoplus$\",s=5)\n",
    "#plt.scatter(np.array(y_test),np.array(pred),color='teal',marker=\"$\\\\bigoplus$\",s=10)\n",
    "#plt.scatter(np.array(y_test),np.array(pred_lr),color='#513e00',marker='P')\n",
    "#plt.scatter(np.array(y_test),np.array(pred_svr),color='brown',marker='d')\n",
    "#plt.scatter(np.array(y_test),np.array(pred_rf),color='indigo',marker='*',s=30)\n",
    "#plt.scatter(np.array(y_test),np.array(pred_ann),color='tomato',marker='s')\n",
    "#plt.scatter(np.array(y_test),np.array(pred_xgb),color='darkgoldenrod',marker='1',s=15)\n",
    "#plt.plot(np.array(y_test),np.array(y_test), c =\"black\",linewidth=1.5)\n",
    "#ax.spines['right'].set_visible(False)\n",
    "#ax.spines['top'].set_visible(False)\n",
    "ax.set_ylim(bottom=0)\n",
    "ax.set_xlim(left=0)\n",
    "plt.xlabel('TEOM PM10'.translate(SUB) +  ' (µg/m3)'.translate(SUP),fontsize=15)\n",
    "plt.ylabel('Relative error',fontsize=15)\n",
    "#plt.legend(['1:1','N3','RF'\n",
    "            #], loc = 2, bbox_to_anchor = (0,1),fontsize=12)\n",
    "#plt.title('CO Sensor',fontsize=18 )\n",
    "A=[Pearson_1]\n",
    "#ax.text(1800, 2900, r'$ r=$'+str(A[0]), fontsize=13)\n",
    "#ax.text(200, 2900, 'LAB', fontsize=17)\n",
    "#plt.title(r'$ r=$'+str(A[0]))\n",
    "          #,\n",
    "          #fontsize=12)\n",
    "#plt.grid(linestyle='-.',linewidth=0.1)\n",
    "plt.xticks(fontsize=18)\n",
    "plt.yticks(fontsize=18)\n",
    "plt.show\n",
    "#plt.xticks(np.arange(0,2.9, step=1))\n",
    "plt.xticks(np.arange(0,201, step=40))\n",
    "plt.yticks(np.arange(-1,7, step=1))\n",
    "plt.axhline(y=-0.4, color='black', linestyle='--', linewidth=2)\n",
    "plt.axhline(y=0.4, color='black', linestyle='--',linewidth=2)\n",
    "plt.ylim(-1, 6)\n",
    "#textstr = '\\n'.join(('LAB',r'$r=%.2f$' % (A[0], ) ))\n",
    "\n",
    "#props = dict(boxstyle='round', facecolor='white', alpha=1)\n",
    "\n",
    "#place a text box in upper left in axes coords\n",
    "#ax.text(0.04, 0.96, textstr, transform=ax.transAxes, fontsize=20,\n",
    "        #verticalalignment='top', bbox=props)\n",
    "\n",
    "plt.savefig(\"R1_10_RF_ORH_err.pdf\",format=\"pdf\", bbox_inches=\"tight\",dpi=1000)\n",
    "#plt.savefig(\"fig4d.pdf\", format=\"pdf\", bbox_inches=\"tight\")\n",
    "plt.show()"
   ]
  },
  {
   "cell_type": "markdown",
   "id": "physical-manor",
   "metadata": {},
   "source": [
    "## OPC+T+RH"
   ]
  },
  {
   "cell_type": "code",
   "execution_count": 386,
   "id": "adopted-polymer",
   "metadata": {},
   "outputs": [
    {
     "data": {
      "text/plain": [
       "(-0.09, 0.94)"
      ]
     },
     "execution_count": 386,
     "metadata": {},
     "output_type": "execute_result"
    }
   ],
   "source": [
    "regressor=regressor.fit(X_train[['Sen_2.5','T','RH','Month','Day_of_week','Hour']], y_train)\n",
    "pred = regressor.predict(X_test[['Sen_2.5','T','RH','Month','Day_of_week','Hour']])\n",
    "lab1=X_test['Sen_2.5'].to_list()\n",
    "Pearson_1=round(np.corrcoef(y_test, lab1)[0, 1],2)\n",
    "Pearson_2=round(np.corrcoef(y_test, pred)[0, 1],2)\n",
    "R2_lab=round(sm.r2_score(y_test, lab1), 2)\n",
    "R2_RF=round(sm.r2_score(y_test, pred), 2)\n",
    "R2_lab,R2_RF"
   ]
  },
  {
   "cell_type": "code",
   "execution_count": 388,
   "id": "atmospheric-artist",
   "metadata": {},
   "outputs": [
    {
     "data": {
      "image/png": "[encoded data removed]",
      "text/plain": [
       "<Figure size 360x288 with 1 Axes>"
      ]
     },
     "metadata": {
      "needs_background": "light"
     },
     "output_type": "display_data"
    }
   ],
   "source": [
    "fig= plt.figure(figsize=(5,4))\n",
    "ax = fig.add_subplot(111)\n",
    "#ax.patch.set_facecolor('lightblue')\n",
    "#ax.patch.set_alpha(0.3)\n",
    "#m0, b0 = np.polyfit(np.array(y_test), np.array(lab1), 1)\n",
    "#plt.plot(np.array(y_test), m0*np.array(y_test) + b0,color='#426eff',linewidth=4)\n",
    "#m1, b1 = np.polyfit(np.array(y_test), np.array(pred_lr), 1)\n",
    "#plt.plot(np.array(y_test), m1*np.array(y_test) + b1,color='#513e00',linewidth=4)\n",
    "#m2, b2 = np.polyfit(np.array(y_test), np.array(pred_svr), 1)\n",
    "#plt.plot(np.array(y_test), m2*np.array(y_test) + b2,color='brown',linewidth=4)\n",
    "#m3, b3 = np.polyfit(np.array(y_test), np.array(pred_rf), 1)\n",
    "#plt.plot(np.array(y_test), m3*np.array(y_test) + b3,color='indigo',linewidth=4)\n",
    "#m4, b4 = np.polyfit(np.array(y_test), np.array(pred_ann), 1)\n",
    "#plt.plot(np.array(y_test), m4*np.array(y_test) + b4,color='tomato',linewidth=4)\n",
    "#m5, b5 = np.polyfit(np.array(y_test), np.array(pred_xgb), 1)\n",
    "#plt.plot(np.array(y_test), m5*np.array(y_test) + b5,color='darkgoldenrod',linewidth=4)\n",
    "#plt.scatter(np.array(y_test),np.array(lab1),color='teal',marker=\"$\\\\bigoplus$\",s=10)\n",
    "plt.scatter(np.array(y_test),np.array(pred),color='#104E8B',marker=\"$\\\\bigoplus$\",s=20, alpha=0.9)\n",
    "#plt.scatter(np.array(y_test),np.array(pred_lr),color='#513e00',marker='P')\n",
    "#plt.scatter(np.array(y_test),np.array(pred_svr),color='brown',marker='d')\n",
    "#plt.scatter(np.array(y_test),np.array(pred_rf),color='indigo',marker='*',s=30)\n",
    "#plt.scatter(np.array(y_test),np.array(pred_ann),color='tomato',marker='s')\n",
    "#plt.scatter(np.array(y_test),np.array(pred_xgb),color='darkgoldenrod',marker='1',s=15)\n",
    "plt.plot(np.array(y_test),np.array(y_test), c =\"black\",linewidth=1.5)\n",
    "#ax.spines['right'].set_visible(False)\n",
    "#ax.spines['top'].set_visible(False)\n",
    "ax.set_ylim(bottom=0)\n",
    "ax.set_xlim(left=0)\n",
    "plt.xlabel('Reference PM10'.translate(SUB) +  ' (µg/m3)'.translate(SUP),fontsize=15)\n",
    "plt.ylabel('LCS PM10'.translate(SUB) +  ' (µg/m3)'.translate(SUP),fontsize=15)\n",
    "#plt.legend(['1:1','N3','RF'\n",
    "            #], loc = 2, bbox_to_anchor = (0,1),fontsize=12)\n",
    "#plt.title('CO Sensor',fontsize=18 )\n",
    "A=[Pearson_2]\n",
    "#ax.text(1800, 2900, r'$ r=$'+str(A[0]), fontsize=13)\n",
    "#ax.text(200, 2900, 'LAB', fontsize=17)\n",
    "#plt.title(r'$ r=$'+str(A[0]))\n",
    "          #,\n",
    "          #fontsize=12)\n",
    "#plt.grid(linestyle='-.',linewidth=0.1)\n",
    "plt.xticks(fontsize=18)\n",
    "plt.yticks(fontsize=18)\n",
    "plt.show\n",
    "#plt.xticks(np.arange(0,2.9, step=1))\n",
    "plt.xticks(np.arange(0,121, step=30))\n",
    "plt.yticks(np.arange(0,121, step=30))\n",
    "plt.show\n",
    "textstr = r'$r=%.2f$' % (0.97,)\n",
    "#textstr = '\\n'.join(('RF',r'$r=%.2f$' % (A[0], ) ))\n",
    "\n",
    "props = dict(boxstyle='round', facecolor='white', alpha=1)\n",
    "\n",
    "#place a text box in upper left in axes coords\n",
    "ax.text(0.04, 0.96, textstr, transform=ax.transAxes, fontsize=20,\n",
    "        verticalalignment='top')\n",
    "\n",
    "plt.savefig(\"R1_2.5_RF_OTRH.pdf\",format=\"pdf\", bbox_inches=\"tight\", dpi=1000)\n",
    "#plt.savefig(\"fig4d.pdf\", format=\"pdf\", bbox_inches=\"tight\")\n",
    "plt.show()"
   ]
  },
  {
   "cell_type": "code",
   "execution_count": 367,
   "id": "satellite-scott",
   "metadata": {},
   "outputs": [],
   "source": [
    "err=(np.array(pred)-np.array(y_test))/np.array(y_test)\n",
    "err1=[]\n",
    "err2=[]\n",
    "y_test1=[]\n",
    "y_test2=[]\n",
    "for i in range(len(err)):\n",
    "    if err[i]>=-0.4 and err[i]<=0.4:\n",
    "        err1.append(err[i])\n",
    "        y_test1.append(y_test[i])\n",
    "    else:\n",
    "        err2.append(err[i])\n",
    "        y_test2.append(y_test[i])\n",
    "Err_rf=np.round((len(err1)/len(err))*100)"
   ]
  },
  {
   "cell_type": "code",
   "execution_count": 368,
   "id": "following-optimization",
   "metadata": {},
   "outputs": [
    {
     "data": {
      "image/png": "[encoded data removed]",
      "text/plain": [
       "<Figure size 360x288 with 1 Axes>"
      ]
     },
     "metadata": {
      "needs_background": "light"
     },
     "output_type": "display_data"
    }
   ],
   "source": [
    "#err=(np.array(pred)-np.array(y_test))/np.array(y_test)\n",
    "fig= plt.figure(figsize=(5,4))\n",
    "ax = fig.add_subplot(111)\n",
    "#ax.patch.set_facecolor('lightblue')\n",
    "#ax.patch.set_alpha(0.3)\n",
    "#m0, b0 = np.polyfit(np.array(y_test), np.array(lab1), 1)\n",
    "#plt.plot(np.array(y_test), m0*np.array(y_test) + b0,color='#426eff',linewidth=4)\n",
    "#m1, b1 = np.polyfit(np.array(y_test), np.array(pred_lr), 1)\n",
    "#plt.plot(np.array(y_test), m1*np.array(y_test) + b1,color='#513e00',linewidth=4)\n",
    "#m2, b2 = np.polyfit(np.array(y_test), np.array(pred_svr), 1)\n",
    "#plt.plot(np.array(y_test), m2*np.array(y_test) + b2,color='brown',linewidth=4)\n",
    "#m3, b3 = np.polyfit(np.array(y_test), np.array(pred_rf), 1)\n",
    "#plt.plot(np.array(y_test), m3*np.array(y_test) + b3,color='indigo',linewidth=4)\n",
    "#m4, b4 = np.polyfit(np.array(y_test), np.array(pred_ann), 1)\n",
    "#plt.plot(np.array(y_test), m4*np.array(y_test) + b4,color='tomato',linewidth=4)\n",
    "#m5, b5 = np.polyfit(np.array(y_test), np.array(pred_xgb), 1)\n",
    "#plt.plot(np.array(y_test), m5*np.array(y_test) + b5,color='darkgoldenrod',linewidth=4)\n",
    "plt.scatter(np.array(y_test),err,color='#104E8B',marker=\"$\\\\bigoplus$\",s=5)\n",
    "#plt.scatter(np.array(y_test),np.array(pred),color='teal',marker=\"$\\\\bigoplus$\",s=10)\n",
    "#plt.scatter(np.array(y_test),np.array(pred_lr),color='#513e00',marker='P')\n",
    "#plt.scatter(np.array(y_test),np.array(pred_svr),color='brown',marker='d')\n",
    "#plt.scatter(np.array(y_test),np.array(pred_rf),color='indigo',marker='*',s=30)\n",
    "#plt.scatter(np.array(y_test),np.array(pred_ann),color='tomato',marker='s')\n",
    "#plt.scatter(np.array(y_test),np.array(pred_xgb),color='darkgoldenrod',marker='1',s=15)\n",
    "#plt.plot(np.array(y_test),np.array(y_test), c =\"black\",linewidth=1.5)\n",
    "#ax.spines['right'].set_visible(False)\n",
    "#ax.spines['top'].set_visible(False)\n",
    "ax.set_ylim(bottom=0)\n",
    "ax.set_xlim(left=0)\n",
    "plt.xlabel('TEOM PM10'.translate(SUB) +  ' (µg/m3)'.translate(SUP),fontsize=15)\n",
    "plt.ylabel('Relative error',fontsize=15)\n",
    "#plt.legend(['1:1','N3','RF'\n",
    "            #], loc = 2, bbox_to_anchor = (0,1),fontsize=12)\n",
    "#plt.title('CO Sensor',fontsize=18 )\n",
    "A=[Pearson_1]\n",
    "#ax.text(1800, 2900, r'$ r=$'+str(A[0]), fontsize=13)\n",
    "#ax.text(200, 2900, 'LAB', fontsize=17)\n",
    "#plt.title(r'$ r=$'+str(A[0]))\n",
    "          #,\n",
    "          #fontsize=12)\n",
    "#plt.grid(linestyle='-.',linewidth=0.1)\n",
    "plt.xticks(fontsize=18)\n",
    "plt.yticks(fontsize=18)\n",
    "plt.show\n",
    "#plt.xticks(np.arange(0,2.9, step=1))\n",
    "plt.xticks(np.arange(0,201, step=40))\n",
    "plt.yticks(np.arange(-1,7, step=1))\n",
    "plt.ylim(-1, 6)\n",
    "plt.axhline(y=-0.4, color='black', linestyle='--', linewidth=2)\n",
    "plt.axhline(y=0.4, color='black', linestyle='--',linewidth=2)\n",
    "#textstr = '\\n'.join(('LAB',r'$r=%.2f$' % (A[0], ) ))\n",
    "\n",
    "#props = dict(boxstyle='round', facecolor='white', alpha=1)\n",
    "\n",
    "#place a text box in upper left in axes coords\n",
    "#ax.text(0.04, 0.96, textstr, transform=ax.transAxes, fontsize=20,\n",
    "        #verticalalignment='top', bbox=props)\n",
    "\n",
    "plt.savefig(\"R1_10_RF_OTRH_err.pdf\",format=\"pdf\", bbox_inches=\"tight\",dpi=1000)\n",
    "#plt.savefig(\"fig4d.pdf\", format=\"pdf\", bbox_inches=\"tight\")\n",
    "plt.show()"
   ]
  },
  {
   "cell_type": "code",
   "execution_count": 369,
   "id": "adaptive-niger",
   "metadata": {},
   "outputs": [],
   "source": [
    "A1=R1_data['Sen_10'].to_list()\n",
    "B1=R1_data['Ref_10'].to_list()\n",
    "Pearson_1=round(np.corrcoef(y_test, lab1)[0, 1],2)\n",
    "Pearson_2=round(np.corrcoef(A1, B1)[0, 1],2)"
   ]
  },
  {
   "cell_type": "code",
   "execution_count": 370,
   "id": "protecting-bleeding",
   "metadata": {},
   "outputs": [
    {
     "data": {
      "image/png": "[encoded data removed]",
      "text/plain": [
       "<Figure size 360x288 with 1 Axes>"
      ]
     },
     "metadata": {
      "needs_background": "light"
     },
     "output_type": "display_data"
    }
   ],
   "source": [
    "fig= plt.figure(figsize=(5,4))\n",
    "ax = fig.add_subplot(111)\n",
    "#ax.patch.set_facecolor('lightblue')\n",
    "#ax.patch.set_alpha(0.3)\n",
    "#m0, b0 = np.polyfit(np.array(y_test), np.array(lab1), 1)\n",
    "#plt.plot(np.array(y_test), m0*np.array(y_test) + b0,color='#426eff',linewidth=4)\n",
    "#m1, b1 = np.polyfit(np.array(y_test), np.array(pred_lr), 1)\n",
    "#plt.plot(np.array(y_test), m1*np.array(y_test) + b1,color='#513e00',linewidth=4)\n",
    "#m2, b2 = np.polyfit(np.array(y_test), np.array(pred_svr), 1)\n",
    "#plt.plot(np.array(y_test), m2*np.array(y_test) + b2,color='brown',linewidth=4)\n",
    "#m3, b3 = np.polyfit(np.array(y_test), np.array(pred_rf), 1)\n",
    "#plt.plot(np.array(y_test), m3*np.array(y_test) + b3,color='indigo',linewidth=4)\n",
    "#m4, b4 = np.polyfit(np.array(y_test), np.array(pred_ann), 1)\n",
    "#plt.plot(np.array(y_test), m4*np.array(y_test) + b4,color='tomato',linewidth=4)\n",
    "#m5, b5 = np.polyfit(np.array(y_test), np.array(pred_xgb), 1)\n",
    "#plt.plot(np.array(y_test), m5*np.array(y_test) + b5,color='darkgoldenrod',linewidth=4)\n",
    "#plt.scatter(np.array(y_test),np.array(lab1),color='teal',marker=\"$\\\\bigoplus$\",s=10)\n",
    "plt.scatter(np.array(B),np.array(A1),color='#104E8B',marker=\"$\\\\bigoplus$\",s=5, alpha=1)\n",
    "#plt.scatter(np.array(y_test),np.array(pred_lr),color='#513e00',marker='P')\n",
    "#plt.scatter(np.array(y_test),np.array(pred_svr),color='brown',marker='d')\n",
    "#plt.scatter(np.array(y_test),np.array(pred_rf),color='indigo',marker='*',s=30)\n",
    "#plt.scatter(np.array(y_test),np.array(pred_ann),color='tomato',marker='s')\n",
    "#plt.scatter(np.array(y_test),np.array(pred_xgb),color='darkgoldenrod',marker='1',s=15)\n",
    "plt.plot(np.array(B1),np.array(B1), c =\"black\",linewidth=1.5)\n",
    "#ax.spines['right'].set_visible(False)\n",
    "#ax.spines['top'].set_visible(False)\n",
    "ax.set_ylim(bottom=0)\n",
    "ax.set_xlim(left=0)\n",
    "plt.xlabel('Reference PM10'.translate(SUB) +  ' (µg/m3)'.translate(SUP),fontsize=15)\n",
    "plt.ylabel('LCS PM10'.translate(SUB) +  ' (µg/m3)'.translate(SUP),fontsize=15)\n",
    "#plt.legend(['1:1','N3','RF'\n",
    "            #], loc = 2, bbox_to_anchor = (0,1),fontsize=12)\n",
    "#plt.title('CO Sensor',fontsize=18 )\n",
    "A=[Pearson_2]\n",
    "#ax.text(1800, 2900, r'$ r=$'+str(A[0]), fontsize=13)\n",
    "#ax.text(200, 2900, 'LAB', fontsize=17)\n",
    "#plt.title(r'$ r=$'+str(A[0]))\n",
    "          #,\n",
    "          #fontsize=12)\n",
    "#plt.grid(linestyle='-.',linewidth=0.1)\n",
    "plt.xticks(fontsize=18)\n",
    "plt.yticks(fontsize=18)\n",
    "plt.show\n",
    "#plt.xticks(np.arange(0,2.9, step=1))\n",
    "plt.xticks(np.arange(0,121, step=30))\n",
    "plt.yticks(np.arange(0,121, step=30))\n",
    "plt.show\n",
    "textstr = r'$r=%.2f$' % (A[0],)\n",
    "#textstr = '\\n'.join(('',r'$r=%.2f$' % (A[0], ) ))\n",
    "\n",
    "props = dict(boxstyle='round', facecolor='white', alpha=1)\n",
    "\n",
    "#place a text box in upper left in axes coords\n",
    "ax.text(0.04, 0.96, textstr, transform=ax.transAxes, fontsize=20,\n",
    "        verticalalignment='top')\n",
    "\n",
    "plt.savefig(\"R1_10_LAB.pdf\",format=\"pdf\", bbox_inches=\"tight\")\n",
    "#plt.savefig(\"fig4d.pdf\", format=\"pdf\", bbox_inches=\"tight\")\n",
    "plt.show()"
   ]
  },
  {
   "cell_type": "markdown",
   "id": "thousand-orleans",
   "metadata": {},
   "source": [
    "## Feature Importance"
   ]
  },
  {
   "cell_type": "code",
   "execution_count": 371,
   "id": "moving-protest",
   "metadata": {},
   "outputs": [
    {
     "data": {
      "text/plain": [
       "array([36., 13., 13., 10.,  7., 21.])"
      ]
     },
     "execution_count": 371,
     "metadata": {},
     "output_type": "execute_result"
    }
   ],
   "source": [
    "FI=regressor.feature_importances_\n",
    "FI=np.round(FI*100)\n",
    "FI"
   ]
  },
  {
   "cell_type": "code",
   "execution_count": 406,
   "id": "sealed-carroll",
   "metadata": {},
   "outputs": [
    {
     "data": {
      "image/png": "[encoded data removed]",
      "text/plain": [
       "<Figure size 432x288 with 1 Axes>"
      ]
     },
     "metadata": {
      "needs_background": "light"
     },
     "output_type": "display_data"
    }
   ],
   "source": [
    "import matplotlib.pyplot as plt\n",
    "fig = plt.figure()\n",
    "ax = fig.add_axes([0,0,1,1])\n",
    "langs = ['OPC', 'T', 'RH','Month','DoW','Hour']\n",
    "students = [int(FI[0]),int(FI[1]),int(FI[2]),int(FI[3]),int(FI[4]),int(FI[5])]\n",
    "graph=ax.bar(langs,students, color='#104E8B')\n",
    "i = 0\n",
    "for p in graph:\n",
    "    width = p.get_width()\n",
    "    height = p.get_height()\n",
    "    x, y = p.get_xy()\n",
    "    plt.text(x+width/2,\n",
    "             y+height*1.06,\n",
    "             str(students[i])+'%',\n",
    "             ha='center',\n",
    "             weight='bold',fontsize=24, color='teal')\n",
    "    i+=1\n",
    "plt.xticks(fontsize=20)\n",
    "plt.yticks(fontsize=20)\n",
    "plt.yticks(np.arange(0,61, step=10))\n",
    "plt.ylabel('Feature importance (%)', fontsize=25)\n",
    "plt.setp(ax.spines.values(), linewidth=1.5)\n",
    "#plt.title(r\"$O_3$\",fontsize=18)\n",
    "plt.savefig(\"R1_10_FI.pdf\", format=\"pdf\", bbox_inches=\"tight\")\n",
    "plt.show()"
   ]
  },
  {
   "cell_type": "markdown",
   "id": "northern-machine",
   "metadata": {},
   "source": [
    "## Points within error thresholds"
   ]
  },
  {
   "cell_type": "code",
   "execution_count": 373,
   "id": "impressive-eagle",
   "metadata": {},
   "outputs": [
    {
     "data": {
      "image/png": "[encoded data removed]",
      "text/plain": [
       "<Figure size 432x288 with 1 Axes>"
      ]
     },
     "metadata": {
      "needs_background": "light"
     },
     "output_type": "display_data"
    }
   ],
   "source": [
    "import matplotlib.pyplot as plt\n",
    "fig = plt.figure()\n",
    "ax = fig.add_axes([0,0,1,1])\n",
    "langs = ['LAB', 'RF']\n",
    "students = [int(Err_lab),int(Err_rf)]\n",
    "graph=ax.bar(langs,students, color='#104E8B')\n",
    "i = 0\n",
    "for p in graph:\n",
    "    width = p.get_width()\n",
    "    height = p.get_height()\n",
    "    x, y = p.get_xy()\n",
    "    plt.text(x+width/2,\n",
    "             y+height*1.01,\n",
    "             str(students[i])+'%',\n",
    "             ha='center',\n",
    "             weight='bold',fontsize=18, color='teal')\n",
    "    i+=1\n",
    "plt.xticks(fontsize=14)\n",
    "plt.yticks(fontsize=14)\n",
    "plt.yticks(np.arange(0,101, step=10))\n",
    "plt.ylabel('Points within threshold(%)', fontsize=20)\n",
    "#plt.title(r\"$O_3$\",fontsize=18)\n",
    "plt.savefig(\"R1_10_ET.pdf\", format=\"pdf\", bbox_inches=\"tight\")\n",
    "plt.show()"
   ]
  },
  {
   "cell_type": "markdown",
   "id": "running-surgeon",
   "metadata": {},
   "source": [
    "scaler = StandardScaler()\n",
    "scaler.fit(X_train)\n",
    "X_train_scaled=scaler.transform(X_train)\n",
    "X_test_scaled=scaler.transform(X_test)\n",
    "model.fit(X_train_scaled, y_train, batch_size= 100, epochs=100, verbose= 0)"
   ]
  },
  {
   "cell_type": "markdown",
   "id": "egyptian-modern",
   "metadata": {},
   "source": [
    "train_pred = model.predict(X_train_scaled)\n",
    "test_pred = model.predict(X_test_scaled)\n",
    "pred=[]\n",
    "for i in range(len(test_pred)):\n",
    "    pred.append(sum(list(test_pred[i])))\n",
    "len(y_test)"
   ]
  },
  {
   "cell_type": "code",
   "execution_count": 374,
   "id": "automatic-constraint",
   "metadata": {},
   "outputs": [],
   "source": [
    "subscript= str.maketrans(\"0123456789\", \"₀₁₂₃₄₅₆₇₈₉\")\n",
    "SUP = str.maketrans(\"0123456789\", \"⁰¹²³⁴⁵⁶⁷⁸⁹\")"
   ]
  },
  {
   "cell_type": "code",
   "execution_count": 11,
   "id": "billion-monkey",
   "metadata": {},
   "outputs": [
    {
     "name": "stdout",
     "output_type": "stream",
     "text": [
      "Requirement already satisfied: kaleido in /Library/Frameworks/Python.framework/Versions/3.8/lib/python3.8/site-packages (0.2.1)\n",
      "\u001b[33mWARNING: Retrying (Retry(total=4, connect=None, read=None, redirect=None, status=None)) after connection broken by 'NewConnectionError('<pip._vendor.urllib3.connection.HTTPSConnection object at 0x1051c12e0>: Failed to establish a new connection: [Errno 8] nodename nor servname provided, or not known')': /simple/kaleido/\u001b[0m\n",
      "\u001b[33mWARNING: Retrying (Retry(total=3, connect=None, read=None, redirect=None, status=None)) after connection broken by 'NewConnectionError('<pip._vendor.urllib3.connection.HTTPSConnection object at 0x1051a7100>: Failed to establish a new connection: [Errno 8] nodename nor servname provided, or not known')': /simple/kaleido/\u001b[0m\n",
      "\u001b[33mWARNING: Retrying (Retry(total=2, connect=None, read=None, redirect=None, status=None)) after connection broken by 'NewConnectionError('<pip._vendor.urllib3.connection.HTTPSConnection object at 0x1051a7670>: Failed to establish a new connection: [Errno 8] nodename nor servname provided, or not known')': /simple/kaleido/\u001b[0m\n",
      "\u001b[33mWARNING: Retrying (Retry(total=1, connect=None, read=None, redirect=None, status=None)) after connection broken by 'NewConnectionError('<pip._vendor.urllib3.connection.HTTPSConnection object at 0x1051a75b0>: Failed to establish a new connection: [Errno 8] nodename nor servname provided, or not known')': /simple/kaleido/\u001b[0m\n",
      "\u001b[33mWARNING: Retrying (Retry(total=0, connect=None, read=None, redirect=None, status=None)) after connection broken by 'NewConnectionError('<pip._vendor.urllib3.connection.HTTPSConnection object at 0x1051a7490>: Failed to establish a new connection: [Errno 8] nodename nor servname provided, or not known')': /simple/kaleido/\u001b[0m\n",
      "\u001b[33mWARNING: You are using pip version 21.1.2; however, version 22.2.2 is available.\n",
      "You should consider upgrading via the '/Library/Frameworks/Python.framework/Versions/3.8/bin/python3 -m pip install --upgrade pip' command.\u001b[0m\n"
     ]
    },
    {
     "data": {
      "application/vnd.plotly.v1+json": {
       "config": {
        "plotlyServerURL": "https://plot.ly"
       },
       "data": [
        {
         "colorscale": [
          [
           0,
           "#440154"
          ],
          [
           0.1111111111111111,
           "#482878"
          ],
          [
           0.2222222222222222,
           "#3e4989"
          ],
          [
           0.3333333333333333,
           "#31688e"
          ],
          [
           0.4444444444444444,
           "#26828e"
          ],
          [
           0.5555555555555556,
           "#1f9e89"
          ],
          [
           0.6666666666666666,
           "#35b779"
          ],
          [
           0.7777777777777778,
           "#6ece58"
          ],
          [
           0.8888888888888888,
           "#b5de2b"
          ],
          [
           1,
           "#fde725"
          ]
         ],
         "hoverongaps": true,
         "opacity": 0.7,
         "type": "heatmap",
         "x": [
          "<b>LAB</b>",
          "<b>LR</b>",
          "<b>SVR</b>",
          "<b>RF</b>",
          "<b>ANN</b>",
          "<b>XGBoost</b>"
         ],
         "y": [
          "<b>N3</b> <b>PM10</b>",
          "<b>N3</b> <b>PM2.5</b>",
          "<b>R1</b> <b>PM10</b>",
          "<b>R1</b> <b>PM2.5</b>"
         ],
         "z": [
          [
           0.12,
           0.23,
           0.51,
           0.64,
           0.61,
           0.62
          ],
          [
           0.11,
           0.21,
           0.49,
           0.53,
           0.51,
           0.51
          ],
          [
           0.61,
           0.64,
           0.62,
           0.74,
           0.7,
           0.69
          ],
          [
           0.58,
           0.58,
           0.6,
           0.66,
           0.62,
           0.6
          ]
         ]
        }
       ],
       "layout": {
        "annotations": [
         {
          "font": {
           "color": "black",
           "size": 22
          },
          "showarrow": false,
          "text": "0.12",
          "x": 0,
          "y": 0
         },
         {
          "font": {
           "color": "black",
           "size": 22
          },
          "showarrow": false,
          "text": "0.23",
          "x": 1,
          "y": 0
         },
         {
          "font": {
           "color": "black",
           "size": 22
          },
          "showarrow": false,
          "text": "0.51",
          "x": 2,
          "y": 0
         },
         {
          "font": {
           "color": "black",
           "size": 22
          },
          "showarrow": false,
          "text": "0.64",
          "x": 3,
          "y": 0
         },
         {
          "font": {
           "color": "black",
           "size": 22
          },
          "showarrow": false,
          "text": "0.61",
          "x": 4,
          "y": 0
         },
         {
          "font": {
           "color": "black",
           "size": 22
          },
          "showarrow": false,
          "text": "0.62",
          "x": 5,
          "y": 0
         },
         {
          "font": {
           "color": "black",
           "size": 22
          },
          "showarrow": false,
          "text": "0.11",
          "x": 0,
          "y": 1
         },
         {
          "font": {
           "color": "black",
           "size": 22
          },
          "showarrow": false,
          "text": "0.21",
          "x": 1,
          "y": 1
         },
         {
          "font": {
           "color": "black",
           "size": 22
          },
          "showarrow": false,
          "text": "0.49",
          "x": 2,
          "y": 1
         },
         {
          "font": {
           "color": "black",
           "size": 22
          },
          "showarrow": false,
          "text": "0.53",
          "x": 3,
          "y": 1
         },
         {
          "font": {
           "color": "black",
           "size": 22
          },
          "showarrow": false,
          "text": "0.51",
          "x": 4,
          "y": 1
         },
         {
          "font": {
           "color": "black",
           "size": 22
          },
          "showarrow": false,
          "text": "0.51",
          "x": 5,
          "y": 1
         },
         {
          "font": {
           "color": "black",
           "size": 22
          },
          "showarrow": false,
          "text": "0.61",
          "x": 0,
          "y": 2
         },
         {
          "font": {
           "color": "black",
           "size": 22
          },
          "showarrow": false,
          "text": "0.64",
          "x": 1,
          "y": 2
         },
         {
          "font": {
           "color": "black",
           "size": 22
          },
          "showarrow": false,
          "text": "0.62",
          "x": 2,
          "y": 2
         },
         {
          "font": {
           "color": "black",
           "size": 22
          },
          "showarrow": false,
          "text": "0.74",
          "x": 3,
          "y": 2
         },
         {
          "font": {
           "color": "black",
           "size": 22
          },
          "showarrow": false,
          "text": "0.7",
          "x": 4,
          "y": 2
         },
         {
          "font": {
           "color": "black",
           "size": 22
          },
          "showarrow": false,
          "text": "0.69",
          "x": 5,
          "y": 2
         },
         {
          "font": {
           "color": "black",
           "size": 22
          },
          "showarrow": false,
          "text": "0.58",
          "x": 0,
          "y": 3
         },
         {
          "font": {
           "color": "black",
           "size": 22
          },
          "showarrow": false,
          "text": "0.58",
          "x": 1,
          "y": 3
         },
         {
          "font": {
           "color": "black",
           "size": 22
          },
          "showarrow": false,
          "text": "0.6",
          "x": 2,
          "y": 3
         },
         {
          "font": {
           "color": "black",
           "size": 22
          },
          "showarrow": false,
          "text": "0.66",
          "x": 3,
          "y": 3
         },
         {
          "font": {
           "color": "black",
           "size": 22
          },
          "showarrow": false,
          "text": "0.62",
          "x": 4,
          "y": 3
         },
         {
          "font": {
           "color": "black",
           "size": 22
          },
          "showarrow": false,
          "text": "0.6",
          "x": 5,
          "y": 3
         }
        ],
        "height": 400,
        "plot_bgcolor": "rgba(0,0,0,0)",
        "template": {
         "data": {
          "bar": [
           {
            "error_x": {
             "color": "#2a3f5f"
            },
            "error_y": {
             "color": "#2a3f5f"
            },
            "marker": {
             "line": {
              "color": "#E5ECF6",
              "width": 0.5
             }
            },
            "type": "bar"
           }
          ],
          "barpolar": [
           {
            "marker": {
             "line": {
              "color": "#E5ECF6",
              "width": 0.5
             }
            },
            "type": "barpolar"
           }
          ],
          "carpet": [
           {
            "aaxis": {
             "endlinecolor": "#2a3f5f",
             "gridcolor": "white",
             "linecolor": "white",
             "minorgridcolor": "white",
             "startlinecolor": "#2a3f5f"
            },
            "baxis": {
             "endlinecolor": "#2a3f5f",
             "gridcolor": "white",
             "linecolor": "white",
             "minorgridcolor": "white",
             "startlinecolor": "#2a3f5f"
            },
            "type": "carpet"
           }
          ],
          "choropleth": [
           {
            "colorbar": {
             "outlinewidth": 0,
             "ticks": ""
            },
            "type": "choropleth"
           }
          ],
          "contour": [
           {
            "colorbar": {
             "outlinewidth": 0,
             "ticks": ""
            },
            "colorscale": [
             [
              0,
              "#0d0887"
             ],
             [
              0.1111111111111111,
              "#46039f"
             ],
             [
              0.2222222222222222,
              "#7201a8"
             ],
             [
              0.3333333333333333,
              "#9c179e"
             ],
             [
              0.4444444444444444,
              "#bd3786"
             ],
             [
              0.5555555555555556,
              "#d8576b"
             ],
             [
              0.6666666666666666,
              "#ed7953"
             ],
             [
              0.7777777777777778,
              "#fb9f3a"
             ],
             [
              0.8888888888888888,
              "#fdca26"
             ],
             [
              1,
              "#f0f921"
             ]
            ],
            "type": "contour"
           }
          ],
          "contourcarpet": [
           {
            "colorbar": {
             "outlinewidth": 0,
             "ticks": ""
            },
            "type": "contourcarpet"
           }
          ],
          "heatmap": [
           {
            "colorbar": {
             "outlinewidth": 0,
             "ticks": ""
            },
            "colorscale": [
             [
              0,
              "#0d0887"
             ],
             [
              0.1111111111111111,
              "#46039f"
             ],
             [
              0.2222222222222222,
              "#7201a8"
             ],
             [
              0.3333333333333333,
              "#9c179e"
             ],
             [
              0.4444444444444444,
              "#bd3786"
             ],
             [
              0.5555555555555556,
              "#d8576b"
             ],
             [
              0.6666666666666666,
              "#ed7953"
             ],
             [
              0.7777777777777778,
              "#fb9f3a"
             ],
             [
              0.8888888888888888,
              "#fdca26"
             ],
             [
              1,
              "#f0f921"
             ]
            ],
            "type": "heatmap"
           }
          ],
          "heatmapgl": [
           {
            "colorbar": {
             "outlinewidth": 0,
             "ticks": ""
            },
            "colorscale": [
             [
              0,
              "#0d0887"
             ],
             [
              0.1111111111111111,
              "#46039f"
             ],
             [
              0.2222222222222222,
              "#7201a8"
             ],
             [
              0.3333333333333333,
              "#9c179e"
             ],
             [
              0.4444444444444444,
              "#bd3786"
             ],
             [
              0.5555555555555556,
              "#d8576b"
             ],
             [
              0.6666666666666666,
              "#ed7953"
             ],
             [
              0.7777777777777778,
              "#fb9f3a"
             ],
             [
              0.8888888888888888,
              "#fdca26"
             ],
             [
              1,
              "#f0f921"
             ]
            ],
            "type": "heatmapgl"
           }
          ],
          "histogram": [
           {
            "marker": {
             "colorbar": {
              "outlinewidth": 0,
              "ticks": ""
             }
            },
            "type": "histogram"
           }
          ],
          "histogram2d": [
           {
            "colorbar": {
             "outlinewidth": 0,
             "ticks": ""
            },
            "colorscale": [
             [
              0,
              "#0d0887"
             ],
             [
              0.1111111111111111,
              "#46039f"
             ],
             [
              0.2222222222222222,
              "#7201a8"
             ],
             [
              0.3333333333333333,
              "#9c179e"
             ],
             [
              0.4444444444444444,
              "#bd3786"
             ],
             [
              0.5555555555555556,
              "#d8576b"
             ],
             [
              0.6666666666666666,
              "#ed7953"
             ],
             [
              0.7777777777777778,
              "#fb9f3a"
             ],
             [
              0.8888888888888888,
              "#fdca26"
             ],
             [
              1,
              "#f0f921"
             ]
            ],
            "type": "histogram2d"
           }
          ],
          "histogram2dcontour": [
           {
            "colorbar": {
             "outlinewidth": 0,
             "ticks": ""
            },
            "colorscale": [
             [
              0,
              "#0d0887"
             ],
             [
              0.1111111111111111,
              "#46039f"
             ],
             [
              0.2222222222222222,
              "#7201a8"
             ],
             [
              0.3333333333333333,
              "#9c179e"
             ],
             [
              0.4444444444444444,
              "#bd3786"
             ],
             [
              0.5555555555555556,
              "#d8576b"
             ],
             [
              0.6666666666666666,
              "#ed7953"
             ],
             [
              0.7777777777777778,
              "#fb9f3a"
             ],
             [
              0.8888888888888888,
              "#fdca26"
             ],
             [
              1,
              "#f0f921"
             ]
            ],
            "type": "histogram2dcontour"
           }
          ],
          "mesh3d": [
           {
            "colorbar": {
             "outlinewidth": 0,
             "ticks": ""
            },
            "type": "mesh3d"
           }
          ],
          "parcoords": [
           {
            "line": {
             "colorbar": {
              "outlinewidth": 0,
              "ticks": ""
             }
            },
            "type": "parcoords"
           }
          ],
          "pie": [
           {
            "automargin": true,
            "type": "pie"
           }
          ],
          "scatter": [
           {
            "marker": {
             "colorbar": {
              "outlinewidth": 0,
              "ticks": ""
             }
            },
            "type": "scatter"
           }
          ],
          "scatter3d": [
           {
            "line": {
             "colorbar": {
              "outlinewidth": 0,
              "ticks": ""
             }
            },
            "marker": {
             "colorbar": {
              "outlinewidth": 0,
              "ticks": ""
             }
            },
            "type": "scatter3d"
           }
          ],
          "scattercarpet": [
           {
            "marker": {
             "colorbar": {
              "outlinewidth": 0,
              "ticks": ""
             }
            },
            "type": "scattercarpet"
           }
          ],
          "scattergeo": [
           {
            "marker": {
             "colorbar": {
              "outlinewidth": 0,
              "ticks": ""
             }
            },
            "type": "scattergeo"
           }
          ],
          "scattergl": [
           {
            "marker": {
             "colorbar": {
              "outlinewidth": 0,
              "ticks": ""
             }
            },
            "type": "scattergl"
           }
          ],
          "scattermapbox": [
           {
            "marker": {
             "colorbar": {
              "outlinewidth": 0,
              "ticks": ""
             }
            },
            "type": "scattermapbox"
           }
          ],
          "scatterpolar": [
           {
            "marker": {
             "colorbar": {
              "outlinewidth": 0,
              "ticks": ""
             }
            },
            "type": "scatterpolar"
           }
          ],
          "scatterpolargl": [
           {
            "marker": {
             "colorbar": {
              "outlinewidth": 0,
              "ticks": ""
             }
            },
            "type": "scatterpolargl"
           }
          ],
          "scatterternary": [
           {
            "marker": {
             "colorbar": {
              "outlinewidth": 0,
              "ticks": ""
             }
            },
            "type": "scatterternary"
           }
          ],
          "surface": [
           {
            "colorbar": {
             "outlinewidth": 0,
             "ticks": ""
            },
            "colorscale": [
             [
              0,
              "#0d0887"
             ],
             [
              0.1111111111111111,
              "#46039f"
             ],
             [
              0.2222222222222222,
              "#7201a8"
             ],
             [
              0.3333333333333333,
              "#9c179e"
             ],
             [
              0.4444444444444444,
              "#bd3786"
             ],
             [
              0.5555555555555556,
              "#d8576b"
             ],
             [
              0.6666666666666666,
              "#ed7953"
             ],
             [
              0.7777777777777778,
              "#fb9f3a"
             ],
             [
              0.8888888888888888,
              "#fdca26"
             ],
             [
              1,
              "#f0f921"
             ]
            ],
            "type": "surface"
           }
          ],
          "table": [
           {
            "cells": {
             "fill": {
              "color": "#EBF0F8"
             },
             "line": {
              "color": "white"
             }
            },
            "header": {
             "fill": {
              "color": "#C8D4E3"
             },
             "line": {
              "color": "white"
             }
            },
            "type": "table"
           }
          ]
         },
         "layout": {
          "annotationdefaults": {
           "arrowcolor": "#2a3f5f",
           "arrowhead": 0,
           "arrowwidth": 1
          },
          "coloraxis": {
           "colorbar": {
            "outlinewidth": 0,
            "ticks": ""
           }
          },
          "colorscale": {
           "diverging": [
            [
             0,
             "#8e0152"
            ],
            [
             0.1,
             "#c51b7d"
            ],
            [
             0.2,
             "#de77ae"
            ],
            [
             0.3,
             "#f1b6da"
            ],
            [
             0.4,
             "#fde0ef"
            ],
            [
             0.5,
             "#f7f7f7"
            ],
            [
             0.6,
             "#e6f5d0"
            ],
            [
             0.7,
             "#b8e186"
            ],
            [
             0.8,
             "#7fbc41"
            ],
            [
             0.9,
             "#4d9221"
            ],
            [
             1,
             "#276419"
            ]
           ],
           "sequential": [
            [
             0,
             "#0d0887"
            ],
            [
             0.1111111111111111,
             "#46039f"
            ],
            [
             0.2222222222222222,
             "#7201a8"
            ],
            [
             0.3333333333333333,
             "#9c179e"
            ],
            [
             0.4444444444444444,
             "#bd3786"
            ],
            [
             0.5555555555555556,
             "#d8576b"
            ],
            [
             0.6666666666666666,
             "#ed7953"
            ],
            [
             0.7777777777777778,
             "#fb9f3a"
            ],
            [
             0.8888888888888888,
             "#fdca26"
            ],
            [
             1,
             "#f0f921"
            ]
           ],
           "sequentialminus": [
            [
             0,
             "#0d0887"
            ],
            [
             0.1111111111111111,
             "#46039f"
            ],
            [
             0.2222222222222222,
             "#7201a8"
            ],
            [
             0.3333333333333333,
             "#9c179e"
            ],
            [
             0.4444444444444444,
             "#bd3786"
            ],
            [
             0.5555555555555556,
             "#d8576b"
            ],
            [
             0.6666666666666666,
             "#ed7953"
            ],
            [
             0.7777777777777778,
             "#fb9f3a"
            ],
            [
             0.8888888888888888,
             "#fdca26"
            ],
            [
             1,
             "#f0f921"
            ]
           ]
          },
          "colorway": [
           "#636efa",
           "#EF553B",
           "#00cc96",
           "#ab63fa",
           "#FFA15A",
           "#19d3f3",
           "#FF6692",
           "#B6E880",
           "#FF97FF",
           "#FECB52"
          ],
          "font": {
           "color": "#2a3f5f"
          },
          "geo": {
           "bgcolor": "white",
           "lakecolor": "white",
           "landcolor": "#E5ECF6",
           "showlakes": true,
           "showland": true,
           "subunitcolor": "white"
          },
          "hoverlabel": {
           "align": "left"
          },
          "hovermode": "closest",
          "mapbox": {
           "style": "light"
          },
          "paper_bgcolor": "white",
          "plot_bgcolor": "#E5ECF6",
          "polar": {
           "angularaxis": {
            "gridcolor": "white",
            "linecolor": "white",
            "ticks": ""
           },
           "bgcolor": "#E5ECF6",
           "radialaxis": {
            "gridcolor": "white",
            "linecolor": "white",
            "ticks": ""
           }
          },
          "scene": {
           "xaxis": {
            "backgroundcolor": "#E5ECF6",
            "gridcolor": "white",
            "gridwidth": 2,
            "linecolor": "white",
            "showbackground": true,
            "ticks": "",
            "zerolinecolor": "white"
           },
           "yaxis": {
            "backgroundcolor": "#E5ECF6",
            "gridcolor": "white",
            "gridwidth": 2,
            "linecolor": "white",
            "showbackground": true,
            "ticks": "",
            "zerolinecolor": "white"
           },
           "zaxis": {
            "backgroundcolor": "#E5ECF6",
            "gridcolor": "white",
            "gridwidth": 2,
            "linecolor": "white",
            "showbackground": true,
            "ticks": "",
            "zerolinecolor": "white"
           }
          },
          "shapedefaults": {
           "line": {
            "color": "#2a3f5f"
           }
          },
          "ternary": {
           "aaxis": {
            "gridcolor": "white",
            "linecolor": "white",
            "ticks": ""
           },
           "baxis": {
            "gridcolor": "white",
            "linecolor": "white",
            "ticks": ""
           },
           "bgcolor": "#E5ECF6",
           "caxis": {
            "gridcolor": "white",
            "linecolor": "white",
            "ticks": ""
           }
          },
          "title": {
           "x": 0.05
          },
          "xaxis": {
           "automargin": true,
           "gridcolor": "white",
           "linecolor": "white",
           "ticks": "",
           "title": {
            "standoff": 15
           },
           "zerolinecolor": "white",
           "zerolinewidth": 2
          },
          "yaxis": {
           "automargin": true,
           "gridcolor": "white",
           "linecolor": "white",
           "ticks": "",
           "title": {
            "standoff": 15
           },
           "zerolinecolor": "white",
           "zerolinewidth": 2
          }
         }
        },
        "title": {
         "text": "",
         "x": 0.5,
         "xanchor": "center",
         "y": 0.8,
         "yanchor": "top"
        },
        "width": 1000,
        "xaxis": {
         "linecolor": "black",
         "linewidth": 0.3,
         "mirror": true,
         "side": "top",
         "tickfont": {
          "size": 16
         }
        },
        "yaxis": {
         "linecolor": "black",
         "linewidth": 0.3,
         "mirror": true,
         "tickfont": {
          "size": 16
         }
        }
       }
      },
      "text/html": [
       "<div>                            <div id=\"baf4cbe0-a80a-4ac5-82e9-f79b2775f397\" class=\"plotly-graph-div\" style=\"height:400px; width:1000px;\"></div>            <script type=\"text/javascript\">                require([\"plotly\"], function(Plotly) {                    window.PLOTLYENV=window.PLOTLYENV || {};                                    if (document.getElementById(\"baf4cbe0-a80a-4ac5-82e9-f79b2775f397\")) {                    Plotly.newPlot(                        \"baf4cbe0-a80a-4ac5-82e9-f79b2775f397\",                        [{\"colorscale\": [[0.0, \"#440154\"], [0.1111111111111111, \"#482878\"], [0.2222222222222222, \"#3e4989\"], [0.3333333333333333, \"#31688e\"], [0.4444444444444444, \"#26828e\"], [0.5555555555555556, \"#1f9e89\"], [0.6666666666666666, \"#35b779\"], [0.7777777777777778, \"#6ece58\"], [0.8888888888888888, \"#b5de2b\"], [1.0, \"#fde725\"]], \"hoverongaps\": true, \"opacity\": 0.7, \"type\": \"heatmap\", \"x\": [\"<b>LAB</b>\", \"<b>LR</b>\", \"<b>SVR</b>\", \"<b>RF</b>\", \"<b>ANN</b>\", \"<b>XGBoost</b>\"], \"y\": [\"<b>N3</b> <b>PM10</b>\", \"<b>N3</b> <b>PM2.5</b>\", \"<b>R1</b> <b>PM10</b>\", \"<b>R1</b> <b>PM2.5</b>\"], \"z\": [[0.12, 0.23, 0.51, 0.64, 0.61, 0.62], [0.11, 0.21, 0.49, 0.53, 0.51, 0.51], [0.61, 0.64, 0.62, 0.74, 0.7, 0.69], [0.58, 0.58, 0.6, 0.66, 0.62, 0.6]]}],                        {\"annotations\": [{\"font\": {\"color\": \"black\", \"size\": 22}, \"showarrow\": false, \"text\": \"0.12\", \"x\": 0, \"y\": 0}, {\"font\": {\"color\": \"black\", \"size\": 22}, \"showarrow\": false, \"text\": \"0.23\", \"x\": 1, \"y\": 0}, {\"font\": {\"color\": \"black\", \"size\": 22}, \"showarrow\": false, \"text\": \"0.51\", \"x\": 2, \"y\": 0}, {\"font\": {\"color\": \"black\", \"size\": 22}, \"showarrow\": false, \"text\": \"0.64\", \"x\": 3, \"y\": 0}, {\"font\": {\"color\": \"black\", \"size\": 22}, \"showarrow\": false, \"text\": \"0.61\", \"x\": 4, \"y\": 0}, {\"font\": {\"color\": \"black\", \"size\": 22}, \"showarrow\": false, \"text\": \"0.62\", \"x\": 5, \"y\": 0}, {\"font\": {\"color\": \"black\", \"size\": 22}, \"showarrow\": false, \"text\": \"0.11\", \"x\": 0, \"y\": 1}, {\"font\": {\"color\": \"black\", \"size\": 22}, \"showarrow\": false, \"text\": \"0.21\", \"x\": 1, \"y\": 1}, {\"font\": {\"color\": \"black\", \"size\": 22}, \"showarrow\": false, \"text\": \"0.49\", \"x\": 2, \"y\": 1}, {\"font\": {\"color\": \"black\", \"size\": 22}, \"showarrow\": false, \"text\": \"0.53\", \"x\": 3, \"y\": 1}, {\"font\": {\"color\": \"black\", \"size\": 22}, \"showarrow\": false, \"text\": \"0.51\", \"x\": 4, \"y\": 1}, {\"font\": {\"color\": \"black\", \"size\": 22}, \"showarrow\": false, \"text\": \"0.51\", \"x\": 5, \"y\": 1}, {\"font\": {\"color\": \"black\", \"size\": 22}, \"showarrow\": false, \"text\": \"0.61\", \"x\": 0, \"y\": 2}, {\"font\": {\"color\": \"black\", \"size\": 22}, \"showarrow\": false, \"text\": \"0.64\", \"x\": 1, \"y\": 2}, {\"font\": {\"color\": \"black\", \"size\": 22}, \"showarrow\": false, \"text\": \"0.62\", \"x\": 2, \"y\": 2}, {\"font\": {\"color\": \"black\", \"size\": 22}, \"showarrow\": false, \"text\": \"0.74\", \"x\": 3, \"y\": 2}, {\"font\": {\"color\": \"black\", \"size\": 22}, \"showarrow\": false, \"text\": \"0.7\", \"x\": 4, \"y\": 2}, {\"font\": {\"color\": \"black\", \"size\": 22}, \"showarrow\": false, \"text\": \"0.69\", \"x\": 5, \"y\": 2}, {\"font\": {\"color\": \"black\", \"size\": 22}, \"showarrow\": false, \"text\": \"0.58\", \"x\": 0, \"y\": 3}, {\"font\": {\"color\": \"black\", \"size\": 22}, \"showarrow\": false, \"text\": \"0.58\", \"x\": 1, \"y\": 3}, {\"font\": {\"color\": \"black\", \"size\": 22}, \"showarrow\": false, \"text\": \"0.6\", \"x\": 2, \"y\": 3}, {\"font\": {\"color\": \"black\", \"size\": 22}, \"showarrow\": false, \"text\": \"0.66\", \"x\": 3, \"y\": 3}, {\"font\": {\"color\": \"black\", \"size\": 22}, \"showarrow\": false, \"text\": \"0.62\", \"x\": 4, \"y\": 3}, {\"font\": {\"color\": \"black\", \"size\": 22}, \"showarrow\": false, \"text\": \"0.6\", \"x\": 5, \"y\": 3}], \"height\": 400, \"plot_bgcolor\": \"rgba(0,0,0,0)\", \"template\": {\"data\": {\"bar\": [{\"error_x\": {\"color\": \"#2a3f5f\"}, \"error_y\": {\"color\": \"#2a3f5f\"}, \"marker\": {\"line\": {\"color\": \"#E5ECF6\", \"width\": 0.5}}, \"type\": \"bar\"}], \"barpolar\": [{\"marker\": {\"line\": {\"color\": \"#E5ECF6\", \"width\": 0.5}}, \"type\": \"barpolar\"}], \"carpet\": [{\"aaxis\": {\"endlinecolor\": \"#2a3f5f\", \"gridcolor\": \"white\", \"linecolor\": \"white\", \"minorgridcolor\": \"white\", \"startlinecolor\": \"#2a3f5f\"}, \"baxis\": {\"endlinecolor\": \"#2a3f5f\", \"gridcolor\": \"white\", \"linecolor\": \"white\", \"minorgridcolor\": \"white\", \"startlinecolor\": \"#2a3f5f\"}, \"type\": \"carpet\"}], \"choropleth\": [{\"colorbar\": {\"outlinewidth\": 0, \"ticks\": \"\"}, \"type\": \"choropleth\"}], \"contour\": [{\"colorbar\": {\"outlinewidth\": 0, \"ticks\": \"\"}, \"colorscale\": [[0.0, \"#0d0887\"], [0.1111111111111111, \"#46039f\"], [0.2222222222222222, \"#7201a8\"], [0.3333333333333333, \"#9c179e\"], [0.4444444444444444, \"#bd3786\"], [0.5555555555555556, \"#d8576b\"], [0.6666666666666666, \"#ed7953\"], [0.7777777777777778, \"#fb9f3a\"], [0.8888888888888888, \"#fdca26\"], [1.0, \"#f0f921\"]], \"type\": \"contour\"}], \"contourcarpet\": [{\"colorbar\": {\"outlinewidth\": 0, \"ticks\": \"\"}, \"type\": \"contourcarpet\"}], \"heatmap\": [{\"colorbar\": {\"outlinewidth\": 0, \"ticks\": \"\"}, \"colorscale\": [[0.0, \"#0d0887\"], [0.1111111111111111, \"#46039f\"], [0.2222222222222222, \"#7201a8\"], [0.3333333333333333, \"#9c179e\"], [0.4444444444444444, \"#bd3786\"], [0.5555555555555556, \"#d8576b\"], [0.6666666666666666, \"#ed7953\"], [0.7777777777777778, \"#fb9f3a\"], [0.8888888888888888, \"#fdca26\"], [1.0, \"#f0f921\"]], \"type\": \"heatmap\"}], \"heatmapgl\": [{\"colorbar\": {\"outlinewidth\": 0, \"ticks\": \"\"}, \"colorscale\": [[0.0, \"#0d0887\"], [0.1111111111111111, \"#46039f\"], [0.2222222222222222, \"#7201a8\"], [0.3333333333333333, \"#9c179e\"], [0.4444444444444444, \"#bd3786\"], [0.5555555555555556, \"#d8576b\"], [0.6666666666666666, \"#ed7953\"], [0.7777777777777778, \"#fb9f3a\"], [0.8888888888888888, \"#fdca26\"], [1.0, \"#f0f921\"]], \"type\": \"heatmapgl\"}], \"histogram\": [{\"marker\": {\"colorbar\": {\"outlinewidth\": 0, \"ticks\": \"\"}}, \"type\": \"histogram\"}], \"histogram2d\": [{\"colorbar\": {\"outlinewidth\": 0, \"ticks\": \"\"}, \"colorscale\": [[0.0, \"#0d0887\"], [0.1111111111111111, \"#46039f\"], [0.2222222222222222, \"#7201a8\"], [0.3333333333333333, \"#9c179e\"], [0.4444444444444444, \"#bd3786\"], [0.5555555555555556, \"#d8576b\"], [0.6666666666666666, \"#ed7953\"], [0.7777777777777778, \"#fb9f3a\"], [0.8888888888888888, \"#fdca26\"], [1.0, \"#f0f921\"]], \"type\": \"histogram2d\"}], \"histogram2dcontour\": [{\"colorbar\": {\"outlinewidth\": 0, \"ticks\": \"\"}, \"colorscale\": [[0.0, \"#0d0887\"], [0.1111111111111111, \"#46039f\"], [0.2222222222222222, \"#7201a8\"], [0.3333333333333333, \"#9c179e\"], [0.4444444444444444, \"#bd3786\"], [0.5555555555555556, \"#d8576b\"], [0.6666666666666666, \"#ed7953\"], [0.7777777777777778, \"#fb9f3a\"], [0.8888888888888888, \"#fdca26\"], [1.0, \"#f0f921\"]], \"type\": \"histogram2dcontour\"}], \"mesh3d\": [{\"colorbar\": {\"outlinewidth\": 0, \"ticks\": \"\"}, \"type\": \"mesh3d\"}], \"parcoords\": [{\"line\": {\"colorbar\": {\"outlinewidth\": 0, \"ticks\": \"\"}}, \"type\": \"parcoords\"}], \"pie\": [{\"automargin\": true, \"type\": \"pie\"}], \"scatter\": [{\"marker\": {\"colorbar\": {\"outlinewidth\": 0, \"ticks\": \"\"}}, \"type\": \"scatter\"}], \"scatter3d\": [{\"line\": {\"colorbar\": {\"outlinewidth\": 0, \"ticks\": \"\"}}, \"marker\": {\"colorbar\": {\"outlinewidth\": 0, \"ticks\": \"\"}}, \"type\": \"scatter3d\"}], \"scattercarpet\": [{\"marker\": {\"colorbar\": {\"outlinewidth\": 0, \"ticks\": \"\"}}, \"type\": \"scattercarpet\"}], \"scattergeo\": [{\"marker\": {\"colorbar\": {\"outlinewidth\": 0, \"ticks\": \"\"}}, \"type\": \"scattergeo\"}], \"scattergl\": [{\"marker\": {\"colorbar\": {\"outlinewidth\": 0, \"ticks\": \"\"}}, \"type\": \"scattergl\"}], \"scattermapbox\": [{\"marker\": {\"colorbar\": {\"outlinewidth\": 0, \"ticks\": \"\"}}, \"type\": \"scattermapbox\"}], \"scatterpolar\": [{\"marker\": {\"colorbar\": {\"outlinewidth\": 0, \"ticks\": \"\"}}, \"type\": \"scatterpolar\"}], \"scatterpolargl\": [{\"marker\": {\"colorbar\": {\"outlinewidth\": 0, \"ticks\": \"\"}}, \"type\": \"scatterpolargl\"}], \"scatterternary\": [{\"marker\": {\"colorbar\": {\"outlinewidth\": 0, \"ticks\": \"\"}}, \"type\": \"scatterternary\"}], \"surface\": [{\"colorbar\": {\"outlinewidth\": 0, \"ticks\": \"\"}, \"colorscale\": [[0.0, \"#0d0887\"], [0.1111111111111111, \"#46039f\"], [0.2222222222222222, \"#7201a8\"], [0.3333333333333333, \"#9c179e\"], [0.4444444444444444, \"#bd3786\"], [0.5555555555555556, \"#d8576b\"], [0.6666666666666666, \"#ed7953\"], [0.7777777777777778, \"#fb9f3a\"], [0.8888888888888888, \"#fdca26\"], [1.0, \"#f0f921\"]], \"type\": \"surface\"}], \"table\": [{\"cells\": {\"fill\": {\"color\": \"#EBF0F8\"}, \"line\": {\"color\": \"white\"}}, \"header\": {\"fill\": {\"color\": \"#C8D4E3\"}, \"line\": {\"color\": \"white\"}}, \"type\": \"table\"}]}, \"layout\": {\"annotationdefaults\": {\"arrowcolor\": \"#2a3f5f\", \"arrowhead\": 0, \"arrowwidth\": 1}, \"coloraxis\": {\"colorbar\": {\"outlinewidth\": 0, \"ticks\": \"\"}}, \"colorscale\": {\"diverging\": [[0, \"#8e0152\"], [0.1, \"#c51b7d\"], [0.2, \"#de77ae\"], [0.3, \"#f1b6da\"], [0.4, \"#fde0ef\"], [0.5, \"#f7f7f7\"], [0.6, \"#e6f5d0\"], [0.7, \"#b8e186\"], [0.8, \"#7fbc41\"], [0.9, \"#4d9221\"], [1, \"#276419\"]], \"sequential\": [[0.0, \"#0d0887\"], [0.1111111111111111, \"#46039f\"], [0.2222222222222222, \"#7201a8\"], [0.3333333333333333, \"#9c179e\"], [0.4444444444444444, \"#bd3786\"], [0.5555555555555556, \"#d8576b\"], [0.6666666666666666, \"#ed7953\"], [0.7777777777777778, \"#fb9f3a\"], [0.8888888888888888, \"#fdca26\"], [1.0, \"#f0f921\"]], \"sequentialminus\": [[0.0, \"#0d0887\"], [0.1111111111111111, \"#46039f\"], [0.2222222222222222, \"#7201a8\"], [0.3333333333333333, \"#9c179e\"], [0.4444444444444444, \"#bd3786\"], [0.5555555555555556, \"#d8576b\"], [0.6666666666666666, \"#ed7953\"], [0.7777777777777778, \"#fb9f3a\"], [0.8888888888888888, \"#fdca26\"], [1.0, \"#f0f921\"]]}, \"colorway\": [\"#636efa\", \"#EF553B\", \"#00cc96\", \"#ab63fa\", \"#FFA15A\", \"#19d3f3\", \"#FF6692\", \"#B6E880\", \"#FF97FF\", \"#FECB52\"], \"font\": {\"color\": \"#2a3f5f\"}, \"geo\": {\"bgcolor\": \"white\", \"lakecolor\": \"white\", \"landcolor\": \"#E5ECF6\", \"showlakes\": true, \"showland\": true, \"subunitcolor\": \"white\"}, \"hoverlabel\": {\"align\": \"left\"}, \"hovermode\": \"closest\", \"mapbox\": {\"style\": \"light\"}, \"paper_bgcolor\": \"white\", \"plot_bgcolor\": \"#E5ECF6\", \"polar\": {\"angularaxis\": {\"gridcolor\": \"white\", \"linecolor\": \"white\", \"ticks\": \"\"}, \"bgcolor\": \"#E5ECF6\", \"radialaxis\": {\"gridcolor\": \"white\", \"linecolor\": \"white\", \"ticks\": \"\"}}, \"scene\": {\"xaxis\": {\"backgroundcolor\": \"#E5ECF6\", \"gridcolor\": \"white\", \"gridwidth\": 2, \"linecolor\": \"white\", \"showbackground\": true, \"ticks\": \"\", \"zerolinecolor\": \"white\"}, \"yaxis\": {\"backgroundcolor\": \"#E5ECF6\", \"gridcolor\": \"white\", \"gridwidth\": 2, \"linecolor\": \"white\", \"showbackground\": true, \"ticks\": \"\", \"zerolinecolor\": \"white\"}, \"zaxis\": {\"backgroundcolor\": \"#E5ECF6\", \"gridcolor\": \"white\", \"gridwidth\": 2, \"linecolor\": \"white\", \"showbackground\": true, \"ticks\": \"\", \"zerolinecolor\": \"white\"}}, \"shapedefaults\": {\"line\": {\"color\": \"#2a3f5f\"}}, \"ternary\": {\"aaxis\": {\"gridcolor\": \"white\", \"linecolor\": \"white\", \"ticks\": \"\"}, \"baxis\": {\"gridcolor\": \"white\", \"linecolor\": \"white\", \"ticks\": \"\"}, \"bgcolor\": \"#E5ECF6\", \"caxis\": {\"gridcolor\": \"white\", \"linecolor\": \"white\", \"ticks\": \"\"}}, \"title\": {\"x\": 0.05}, \"xaxis\": {\"automargin\": true, \"gridcolor\": \"white\", \"linecolor\": \"white\", \"ticks\": \"\", \"title\": {\"standoff\": 15}, \"zerolinecolor\": \"white\", \"zerolinewidth\": 2}, \"yaxis\": {\"automargin\": true, \"gridcolor\": \"white\", \"linecolor\": \"white\", \"ticks\": \"\", \"title\": {\"standoff\": 15}, \"zerolinecolor\": \"white\", \"zerolinewidth\": 2}}}, \"title\": {\"text\": \"\", \"x\": 0.5, \"xanchor\": \"center\", \"y\": 0.8, \"yanchor\": \"top\"}, \"width\": 1000, \"xaxis\": {\"linecolor\": \"black\", \"linewidth\": 0.3, \"mirror\": true, \"side\": \"top\", \"tickfont\": {\"size\": 16}}, \"yaxis\": {\"linecolor\": \"black\", \"linewidth\": 0.3, \"mirror\": true, \"tickfont\": {\"size\": 16}}},                        {\"responsive\": true}                    ).then(function(){\n",
       "                            \n",
       "var gd = document.getElementById('baf4cbe0-a80a-4ac5-82e9-f79b2775f397');\n",
       "var x = new MutationObserver(function (mutations, observer) {{\n",
       "        var display = window.getComputedStyle(gd).display;\n",
       "        if (!display || display === 'none') {{\n",
       "            console.log([gd, 'removed!']);\n",
       "            Plotly.purge(gd);\n",
       "            observer.disconnect();\n",
       "        }}\n",
       "}});\n",
       "\n",
       "// Listen for the removal of the full notebook cells\n",
       "var notebookContainer = gd.closest('#notebook-container');\n",
       "if (notebookContainer) {{\n",
       "    x.observe(notebookContainer, {childList: true});\n",
       "}}\n",
       "\n",
       "// Listen for the clearing of the current output cell\n",
       "var outputEl = gd.closest('.output');\n",
       "if (outputEl) {{\n",
       "    x.observe(outputEl, {childList: true});\n",
       "}}\n",
       "\n",
       "                        })                };                });            </script>        </div>"
      ]
     },
     "metadata": {},
     "output_type": "display_data"
    }
   ],
   "source": [
    "!pip install -U kaleido\n",
    "import plotly.graph_objects as go\n",
    "from functools import reduce\n",
    "from itertools import product\n",
    "\n",
    "z=[[0.12,0.23,0.51,0.64,0.61,0.62],\n",
    "  [0.11,0.21,0.49,0.53,0.51,0.51],\n",
    "  [0.61,0.64,0.62,0.74,0.7,0.69],\n",
    "  [0.58,0.58,0.6,0.66,0.62,0.6]]\n",
    "x=['<b>LAB</b>', '<b>LR</b>', '<b>SVR</b>', '<b>RF</b>', '<b>ANN</b>','<b>XGBoost</b>']\n",
    "y=['<b>N3</b>'+ ' <b>PM10</b>','<b>N3</b>'+ ' <b>PM2.5</b>' , \n",
    "   '<b>R1</b>'+ ' <b>PM10</b>','<b>R1</b>'+ ' <b>PM2.5</b>']\n",
    "\n",
    "def get_anno_text(z_value):\n",
    "    annotations=[]\n",
    "    a, b = len(z_value), len(z_value[0])\n",
    "    flat_z = reduce(lambda x,y: x+y, z_value) # z_value.flat if you deal with numpy\n",
    "    coords = product(range(a), range(b))\n",
    "    for pos, elem in zip(coords, flat_z):\n",
    "        annotations.append({'font': {'color': 'black'},\n",
    "                    'showarrow': False,\n",
    "                    'text': str(elem),\n",
    "                    'x': pos[1],\n",
    "                    'y': pos[0],\n",
    "                        'font.size':22   })\n",
    "    return annotations\n",
    "\n",
    "fig = go.Figure(data=go.Heatmap(\n",
    "                   z=z,\n",
    "                   x=x,\n",
    "                   y=y,\n",
    "                   hoverongaps = True, colorscale ='Viridis',opacity=0.7))#matter#\n",
    "\n",
    "fig.update_layout(title={'text': \"\",\n",
    "        'y':0.8,\n",
    "        'x':0.5,\n",
    "        'xanchor': 'center',\n",
    "        'yanchor': 'top'},\n",
    "           plot_bgcolor='rgba(0,0,0,0)',       \n",
    "    annotations = get_anno_text(z),\n",
    "                 width=1000,\n",
    "height=400,xaxis={'side': 'top'})\n",
    "\n",
    "fig.update_xaxes(tickfont = dict(size=16),linewidth=0.3, linecolor='black',\n",
    "    \n",
    "                 mirror=True)\n",
    "fig.update_yaxes(tickfont = dict(size=16),linewidth=0.3, linecolor='black',\n",
    "        \n",
    "                 mirror=True)\n",
    "fig.write_image(\"table1.pdf\",engine=\"kaleido\")\n",
    "#plt.savefig(\"table2a.pdf\", format=\"pdf\", bbox_inches=\"tight\")\n",
    "fig.show()\n"
   ]
  },
  {
   "cell_type": "code",
   "execution_count": 12,
   "id": "small-player",
   "metadata": {},
   "outputs": [
    {
     "data": {
      "application/vnd.plotly.v1+json": {
       "config": {
        "plotlyServerURL": "https://plot.ly"
       },
       "data": [
        {
         "colorscale": [
          [
           0,
           "#440154"
          ],
          [
           0.1111111111111111,
           "#482878"
          ],
          [
           0.2222222222222222,
           "#3e4989"
          ],
          [
           0.3333333333333333,
           "#31688e"
          ],
          [
           0.4444444444444444,
           "#26828e"
          ],
          [
           0.5555555555555556,
           "#1f9e89"
          ],
          [
           0.6666666666666666,
           "#35b779"
          ],
          [
           0.7777777777777778,
           "#6ece58"
          ],
          [
           0.8888888888888888,
           "#b5de2b"
          ],
          [
           1,
           "#fde725"
          ]
         ],
         "hoverongaps": true,
         "opacity": 0.7,
         "type": "heatmap",
         "x": [
          "<b>LAB</b>",
          "<b>LR</b>",
          "<b>SVR</b>",
          "<b>RF</b>",
          "<b>ANN</b>",
          "<b>XGBoost</b>"
         ],
         "y": [
          "<b>N3</b> <b>PM10</b>",
          "<b>N3</b> <b>PM2.5</b>",
          "<b>R1</b> <b>PM10</b>",
          "<b>R1</b> <b>PM2.5</b>"
         ],
         "z": [
          [
           0.12,
           0.59,
           0.69,
           0.96,
           0.75,
           0.87
          ],
          [
           0.11,
           0.51,
           0.63,
           0.98,
           0.72,
           0.86
          ],
          [
           0.61,
           0.76,
           0.79,
           0.97,
           0.79,
           0.9
          ],
          [
           0.58,
           0.61,
           0.7,
           0.98,
           0.79,
           0.9
          ]
         ]
        }
       ],
       "layout": {
        "annotations": [
         {
          "font": {
           "color": "black",
           "size": 22
          },
          "showarrow": false,
          "text": "0.12",
          "x": 0,
          "y": 0
         },
         {
          "font": {
           "color": "black",
           "size": 22
          },
          "showarrow": false,
          "text": "0.59",
          "x": 1,
          "y": 0
         },
         {
          "font": {
           "color": "black",
           "size": 22
          },
          "showarrow": false,
          "text": "0.69",
          "x": 2,
          "y": 0
         },
         {
          "font": {
           "color": "black",
           "size": 22
          },
          "showarrow": false,
          "text": "0.96",
          "x": 3,
          "y": 0
         },
         {
          "font": {
           "color": "black",
           "size": 22
          },
          "showarrow": false,
          "text": "0.75",
          "x": 4,
          "y": 0
         },
         {
          "font": {
           "color": "black",
           "size": 22
          },
          "showarrow": false,
          "text": "0.87",
          "x": 5,
          "y": 0
         },
         {
          "font": {
           "color": "black",
           "size": 22
          },
          "showarrow": false,
          "text": "0.11",
          "x": 0,
          "y": 1
         },
         {
          "font": {
           "color": "black",
           "size": 22
          },
          "showarrow": false,
          "text": "0.51",
          "x": 1,
          "y": 1
         },
         {
          "font": {
           "color": "black",
           "size": 22
          },
          "showarrow": false,
          "text": "0.63",
          "x": 2,
          "y": 1
         },
         {
          "font": {
           "color": "black",
           "size": 22
          },
          "showarrow": false,
          "text": "0.98",
          "x": 3,
          "y": 1
         },
         {
          "font": {
           "color": "black",
           "size": 22
          },
          "showarrow": false,
          "text": "0.72",
          "x": 4,
          "y": 1
         },
         {
          "font": {
           "color": "black",
           "size": 22
          },
          "showarrow": false,
          "text": "0.86",
          "x": 5,
          "y": 1
         },
         {
          "font": {
           "color": "black",
           "size": 22
          },
          "showarrow": false,
          "text": "0.61",
          "x": 0,
          "y": 2
         },
         {
          "font": {
           "color": "black",
           "size": 22
          },
          "showarrow": false,
          "text": "0.76",
          "x": 1,
          "y": 2
         },
         {
          "font": {
           "color": "black",
           "size": 22
          },
          "showarrow": false,
          "text": "0.79",
          "x": 2,
          "y": 2
         },
         {
          "font": {
           "color": "black",
           "size": 22
          },
          "showarrow": false,
          "text": "0.97",
          "x": 3,
          "y": 2
         },
         {
          "font": {
           "color": "black",
           "size": 22
          },
          "showarrow": false,
          "text": "0.79",
          "x": 4,
          "y": 2
         },
         {
          "font": {
           "color": "black",
           "size": 22
          },
          "showarrow": false,
          "text": "0.9",
          "x": 5,
          "y": 2
         },
         {
          "font": {
           "color": "black",
           "size": 22
          },
          "showarrow": false,
          "text": "0.58",
          "x": 0,
          "y": 3
         },
         {
          "font": {
           "color": "black",
           "size": 22
          },
          "showarrow": false,
          "text": "0.61",
          "x": 1,
          "y": 3
         },
         {
          "font": {
           "color": "black",
           "size": 22
          },
          "showarrow": false,
          "text": "0.7",
          "x": 2,
          "y": 3
         },
         {
          "font": {
           "color": "black",
           "size": 22
          },
          "showarrow": false,
          "text": "0.98",
          "x": 3,
          "y": 3
         },
         {
          "font": {
           "color": "black",
           "size": 22
          },
          "showarrow": false,
          "text": "0.79",
          "x": 4,
          "y": 3
         },
         {
          "font": {
           "color": "black",
           "size": 22
          },
          "showarrow": false,
          "text": "0.9",
          "x": 5,
          "y": 3
         }
        ],
        "height": 400,
        "plot_bgcolor": "rgba(0,0,0,0)",
        "template": {
         "data": {
          "bar": [
           {
            "error_x": {
             "color": "#2a3f5f"
            },
            "error_y": {
             "color": "#2a3f5f"
            },
            "marker": {
             "line": {
              "color": "#E5ECF6",
              "width": 0.5
             }
            },
            "type": "bar"
           }
          ],
          "barpolar": [
           {
            "marker": {
             "line": {
              "color": "#E5ECF6",
              "width": 0.5
             }
            },
            "type": "barpolar"
           }
          ],
          "carpet": [
           {
            "aaxis": {
             "endlinecolor": "#2a3f5f",
             "gridcolor": "white",
             "linecolor": "white",
             "minorgridcolor": "white",
             "startlinecolor": "#2a3f5f"
            },
            "baxis": {
             "endlinecolor": "#2a3f5f",
             "gridcolor": "white",
             "linecolor": "white",
             "minorgridcolor": "white",
             "startlinecolor": "#2a3f5f"
            },
            "type": "carpet"
           }
          ],
          "choropleth": [
           {
            "colorbar": {
             "outlinewidth": 0,
             "ticks": ""
            },
            "type": "choropleth"
           }
          ],
          "contour": [
           {
            "colorbar": {
             "outlinewidth": 0,
             "ticks": ""
            },
            "colorscale": [
             [
              0,
              "#0d0887"
             ],
             [
              0.1111111111111111,
              "#46039f"
             ],
             [
              0.2222222222222222,
              "#7201a8"
             ],
             [
              0.3333333333333333,
              "#9c179e"
             ],
             [
              0.4444444444444444,
              "#bd3786"
             ],
             [
              0.5555555555555556,
              "#d8576b"
             ],
             [
              0.6666666666666666,
              "#ed7953"
             ],
             [
              0.7777777777777778,
              "#fb9f3a"
             ],
             [
              0.8888888888888888,
              "#fdca26"
             ],
             [
              1,
              "#f0f921"
             ]
            ],
            "type": "contour"
           }
          ],
          "contourcarpet": [
           {
            "colorbar": {
             "outlinewidth": 0,
             "ticks": ""
            },
            "type": "contourcarpet"
           }
          ],
          "heatmap": [
           {
            "colorbar": {
             "outlinewidth": 0,
             "ticks": ""
            },
            "colorscale": [
             [
              0,
              "#0d0887"
             ],
             [
              0.1111111111111111,
              "#46039f"
             ],
             [
              0.2222222222222222,
              "#7201a8"
             ],
             [
              0.3333333333333333,
              "#9c179e"
             ],
             [
              0.4444444444444444,
              "#bd3786"
             ],
             [
              0.5555555555555556,
              "#d8576b"
             ],
             [
              0.6666666666666666,
              "#ed7953"
             ],
             [
              0.7777777777777778,
              "#fb9f3a"
             ],
             [
              0.8888888888888888,
              "#fdca26"
             ],
             [
              1,
              "#f0f921"
             ]
            ],
            "type": "heatmap"
           }
          ],
          "heatmapgl": [
           {
            "colorbar": {
             "outlinewidth": 0,
             "ticks": ""
            },
            "colorscale": [
             [
              0,
              "#0d0887"
             ],
             [
              0.1111111111111111,
              "#46039f"
             ],
             [
              0.2222222222222222,
              "#7201a8"
             ],
             [
              0.3333333333333333,
              "#9c179e"
             ],
             [
              0.4444444444444444,
              "#bd3786"
             ],
             [
              0.5555555555555556,
              "#d8576b"
             ],
             [
              0.6666666666666666,
              "#ed7953"
             ],
             [
              0.7777777777777778,
              "#fb9f3a"
             ],
             [
              0.8888888888888888,
              "#fdca26"
             ],
             [
              1,
              "#f0f921"
             ]
            ],
            "type": "heatmapgl"
           }
          ],
          "histogram": [
           {
            "marker": {
             "colorbar": {
              "outlinewidth": 0,
              "ticks": ""
             }
            },
            "type": "histogram"
           }
          ],
          "histogram2d": [
           {
            "colorbar": {
             "outlinewidth": 0,
             "ticks": ""
            },
            "colorscale": [
             [
              0,
              "#0d0887"
             ],
             [
              0.1111111111111111,
              "#46039f"
             ],
             [
              0.2222222222222222,
              "#7201a8"
             ],
             [
              0.3333333333333333,
              "#9c179e"
             ],
             [
              0.4444444444444444,
              "#bd3786"
             ],
             [
              0.5555555555555556,
              "#d8576b"
             ],
             [
              0.6666666666666666,
              "#ed7953"
             ],
             [
              0.7777777777777778,
              "#fb9f3a"
             ],
             [
              0.8888888888888888,
              "#fdca26"
             ],
             [
              1,
              "#f0f921"
             ]
            ],
            "type": "histogram2d"
           }
          ],
          "histogram2dcontour": [
           {
            "colorbar": {
             "outlinewidth": 0,
             "ticks": ""
            },
            "colorscale": [
             [
              0,
              "#0d0887"
             ],
             [
              0.1111111111111111,
              "#46039f"
             ],
             [
              0.2222222222222222,
              "#7201a8"
             ],
             [
              0.3333333333333333,
              "#9c179e"
             ],
             [
              0.4444444444444444,
              "#bd3786"
             ],
             [
              0.5555555555555556,
              "#d8576b"
             ],
             [
              0.6666666666666666,
              "#ed7953"
             ],
             [
              0.7777777777777778,
              "#fb9f3a"
             ],
             [
              0.8888888888888888,
              "#fdca26"
             ],
             [
              1,
              "#f0f921"
             ]
            ],
            "type": "histogram2dcontour"
           }
          ],
          "mesh3d": [
           {
            "colorbar": {
             "outlinewidth": 0,
             "ticks": ""
            },
            "type": "mesh3d"
           }
          ],
          "parcoords": [
           {
            "line": {
             "colorbar": {
              "outlinewidth": 0,
              "ticks": ""
             }
            },
            "type": "parcoords"
           }
          ],
          "pie": [
           {
            "automargin": true,
            "type": "pie"
           }
          ],
          "scatter": [
           {
            "marker": {
             "colorbar": {
              "outlinewidth": 0,
              "ticks": ""
             }
            },
            "type": "scatter"
           }
          ],
          "scatter3d": [
           {
            "line": {
             "colorbar": {
              "outlinewidth": 0,
              "ticks": ""
             }
            },
            "marker": {
             "colorbar": {
              "outlinewidth": 0,
              "ticks": ""
             }
            },
            "type": "scatter3d"
           }
          ],
          "scattercarpet": [
           {
            "marker": {
             "colorbar": {
              "outlinewidth": 0,
              "ticks": ""
             }
            },
            "type": "scattercarpet"
           }
          ],
          "scattergeo": [
           {
            "marker": {
             "colorbar": {
              "outlinewidth": 0,
              "ticks": ""
             }
            },
            "type": "scattergeo"
           }
          ],
          "scattergl": [
           {
            "marker": {
             "colorbar": {
              "outlinewidth": 0,
              "ticks": ""
             }
            },
            "type": "scattergl"
           }
          ],
          "scattermapbox": [
           {
            "marker": {
             "colorbar": {
              "outlinewidth": 0,
              "ticks": ""
             }
            },
            "type": "scattermapbox"
           }
          ],
          "scatterpolar": [
           {
            "marker": {
             "colorbar": {
              "outlinewidth": 0,
              "ticks": ""
             }
            },
            "type": "scatterpolar"
           }
          ],
          "scatterpolargl": [
           {
            "marker": {
             "colorbar": {
              "outlinewidth": 0,
              "ticks": ""
             }
            },
            "type": "scatterpolargl"
           }
          ],
          "scatterternary": [
           {
            "marker": {
             "colorbar": {
              "outlinewidth": 0,
              "ticks": ""
             }
            },
            "type": "scatterternary"
           }
          ],
          "surface": [
           {
            "colorbar": {
             "outlinewidth": 0,
             "ticks": ""
            },
            "colorscale": [
             [
              0,
              "#0d0887"
             ],
             [
              0.1111111111111111,
              "#46039f"
             ],
             [
              0.2222222222222222,
              "#7201a8"
             ],
             [
              0.3333333333333333,
              "#9c179e"
             ],
             [
              0.4444444444444444,
              "#bd3786"
             ],
             [
              0.5555555555555556,
              "#d8576b"
             ],
             [
              0.6666666666666666,
              "#ed7953"
             ],
             [
              0.7777777777777778,
              "#fb9f3a"
             ],
             [
              0.8888888888888888,
              "#fdca26"
             ],
             [
              1,
              "#f0f921"
             ]
            ],
            "type": "surface"
           }
          ],
          "table": [
           {
            "cells": {
             "fill": {
              "color": "#EBF0F8"
             },
             "line": {
              "color": "white"
             }
            },
            "header": {
             "fill": {
              "color": "#C8D4E3"
             },
             "line": {
              "color": "white"
             }
            },
            "type": "table"
           }
          ]
         },
         "layout": {
          "annotationdefaults": {
           "arrowcolor": "#2a3f5f",
           "arrowhead": 0,
           "arrowwidth": 1
          },
          "coloraxis": {
           "colorbar": {
            "outlinewidth": 0,
            "ticks": ""
           }
          },
          "colorscale": {
           "diverging": [
            [
             0,
             "#8e0152"
            ],
            [
             0.1,
             "#c51b7d"
            ],
            [
             0.2,
             "#de77ae"
            ],
            [
             0.3,
             "#f1b6da"
            ],
            [
             0.4,
             "#fde0ef"
            ],
            [
             0.5,
             "#f7f7f7"
            ],
            [
             0.6,
             "#e6f5d0"
            ],
            [
             0.7,
             "#b8e186"
            ],
            [
             0.8,
             "#7fbc41"
            ],
            [
             0.9,
             "#4d9221"
            ],
            [
             1,
             "#276419"
            ]
           ],
           "sequential": [
            [
             0,
             "#0d0887"
            ],
            [
             0.1111111111111111,
             "#46039f"
            ],
            [
             0.2222222222222222,
             "#7201a8"
            ],
            [
             0.3333333333333333,
             "#9c179e"
            ],
            [
             0.4444444444444444,
             "#bd3786"
            ],
            [
             0.5555555555555556,
             "#d8576b"
            ],
            [
             0.6666666666666666,
             "#ed7953"
            ],
            [
             0.7777777777777778,
             "#fb9f3a"
            ],
            [
             0.8888888888888888,
             "#fdca26"
            ],
            [
             1,
             "#f0f921"
            ]
           ],
           "sequentialminus": [
            [
             0,
             "#0d0887"
            ],
            [
             0.1111111111111111,
             "#46039f"
            ],
            [
             0.2222222222222222,
             "#7201a8"
            ],
            [
             0.3333333333333333,
             "#9c179e"
            ],
            [
             0.4444444444444444,
             "#bd3786"
            ],
            [
             0.5555555555555556,
             "#d8576b"
            ],
            [
             0.6666666666666666,
             "#ed7953"
            ],
            [
             0.7777777777777778,
             "#fb9f3a"
            ],
            [
             0.8888888888888888,
             "#fdca26"
            ],
            [
             1,
             "#f0f921"
            ]
           ]
          },
          "colorway": [
           "#636efa",
           "#EF553B",
           "#00cc96",
           "#ab63fa",
           "#FFA15A",
           "#19d3f3",
           "#FF6692",
           "#B6E880",
           "#FF97FF",
           "#FECB52"
          ],
          "font": {
           "color": "#2a3f5f"
          },
          "geo": {
           "bgcolor": "white",
           "lakecolor": "white",
           "landcolor": "#E5ECF6",
           "showlakes": true,
           "showland": true,
           "subunitcolor": "white"
          },
          "hoverlabel": {
           "align": "left"
          },
          "hovermode": "closest",
          "mapbox": {
           "style": "light"
          },
          "paper_bgcolor": "white",
          "plot_bgcolor": "#E5ECF6",
          "polar": {
           "angularaxis": {
            "gridcolor": "white",
            "linecolor": "white",
            "ticks": ""
           },
           "bgcolor": "#E5ECF6",
           "radialaxis": {
            "gridcolor": "white",
            "linecolor": "white",
            "ticks": ""
           }
          },
          "scene": {
           "xaxis": {
            "backgroundcolor": "#E5ECF6",
            "gridcolor": "white",
            "gridwidth": 2,
            "linecolor": "white",
            "showbackground": true,
            "ticks": "",
            "zerolinecolor": "white"
           },
           "yaxis": {
            "backgroundcolor": "#E5ECF6",
            "gridcolor": "white",
            "gridwidth": 2,
            "linecolor": "white",
            "showbackground": true,
            "ticks": "",
            "zerolinecolor": "white"
           },
           "zaxis": {
            "backgroundcolor": "#E5ECF6",
            "gridcolor": "white",
            "gridwidth": 2,
            "linecolor": "white",
            "showbackground": true,
            "ticks": "",
            "zerolinecolor": "white"
           }
          },
          "shapedefaults": {
           "line": {
            "color": "#2a3f5f"
           }
          },
          "ternary": {
           "aaxis": {
            "gridcolor": "white",
            "linecolor": "white",
            "ticks": ""
           },
           "baxis": {
            "gridcolor": "white",
            "linecolor": "white",
            "ticks": ""
           },
           "bgcolor": "#E5ECF6",
           "caxis": {
            "gridcolor": "white",
            "linecolor": "white",
            "ticks": ""
           }
          },
          "title": {
           "x": 0.05
          },
          "xaxis": {
           "automargin": true,
           "gridcolor": "white",
           "linecolor": "white",
           "ticks": "",
           "title": {
            "standoff": 15
           },
           "zerolinecolor": "white",
           "zerolinewidth": 2
          },
          "yaxis": {
           "automargin": true,
           "gridcolor": "white",
           "linecolor": "white",
           "ticks": "",
           "title": {
            "standoff": 15
           },
           "zerolinecolor": "white",
           "zerolinewidth": 2
          }
         }
        },
        "title": {
         "text": "",
         "x": 0.5,
         "xanchor": "center",
         "y": 0.8,
         "yanchor": "top"
        },
        "width": 1000,
        "xaxis": {
         "linecolor": "black",
         "linewidth": 0.3,
         "mirror": true,
         "side": "top",
         "tickfont": {
          "size": 16
         }
        },
        "yaxis": {
         "linecolor": "black",
         "linewidth": 0.3,
         "mirror": true,
         "tickfont": {
          "size": 16
         }
        }
       }
      },
      "text/html": [
       "<div>                            <div id=\"ba247c85-5276-4563-89e9-232f8f9cc28e\" class=\"plotly-graph-div\" style=\"height:400px; width:1000px;\"></div>            <script type=\"text/javascript\">                require([\"plotly\"], function(Plotly) {                    window.PLOTLYENV=window.PLOTLYENV || {};                                    if (document.getElementById(\"ba247c85-5276-4563-89e9-232f8f9cc28e\")) {                    Plotly.newPlot(                        \"ba247c85-5276-4563-89e9-232f8f9cc28e\",                        [{\"colorscale\": [[0.0, \"#440154\"], [0.1111111111111111, \"#482878\"], [0.2222222222222222, \"#3e4989\"], [0.3333333333333333, \"#31688e\"], [0.4444444444444444, \"#26828e\"], [0.5555555555555556, \"#1f9e89\"], [0.6666666666666666, \"#35b779\"], [0.7777777777777778, \"#6ece58\"], [0.8888888888888888, \"#b5de2b\"], [1.0, \"#fde725\"]], \"hoverongaps\": true, \"opacity\": 0.7, \"type\": \"heatmap\", \"x\": [\"<b>LAB</b>\", \"<b>LR</b>\", \"<b>SVR</b>\", \"<b>RF</b>\", \"<b>ANN</b>\", \"<b>XGBoost</b>\"], \"y\": [\"<b>N3</b> <b>PM10</b>\", \"<b>N3</b> <b>PM2.5</b>\", \"<b>R1</b> <b>PM10</b>\", \"<b>R1</b> <b>PM2.5</b>\"], \"z\": [[0.12, 0.59, 0.69, 0.96, 0.75, 0.87], [0.11, 0.51, 0.63, 0.98, 0.72, 0.86], [0.61, 0.76, 0.79, 0.97, 0.79, 0.9], [0.58, 0.61, 0.7, 0.98, 0.79, 0.9]]}],                        {\"annotations\": [{\"font\": {\"color\": \"black\", \"size\": 22}, \"showarrow\": false, \"text\": \"0.12\", \"x\": 0, \"y\": 0}, {\"font\": {\"color\": \"black\", \"size\": 22}, \"showarrow\": false, \"text\": \"0.59\", \"x\": 1, \"y\": 0}, {\"font\": {\"color\": \"black\", \"size\": 22}, \"showarrow\": false, \"text\": \"0.69\", \"x\": 2, \"y\": 0}, {\"font\": {\"color\": \"black\", \"size\": 22}, \"showarrow\": false, \"text\": \"0.96\", \"x\": 3, \"y\": 0}, {\"font\": {\"color\": \"black\", \"size\": 22}, \"showarrow\": false, \"text\": \"0.75\", \"x\": 4, \"y\": 0}, {\"font\": {\"color\": \"black\", \"size\": 22}, \"showarrow\": false, \"text\": \"0.87\", \"x\": 5, \"y\": 0}, {\"font\": {\"color\": \"black\", \"size\": 22}, \"showarrow\": false, \"text\": \"0.11\", \"x\": 0, \"y\": 1}, {\"font\": {\"color\": \"black\", \"size\": 22}, \"showarrow\": false, \"text\": \"0.51\", \"x\": 1, \"y\": 1}, {\"font\": {\"color\": \"black\", \"size\": 22}, \"showarrow\": false, \"text\": \"0.63\", \"x\": 2, \"y\": 1}, {\"font\": {\"color\": \"black\", \"size\": 22}, \"showarrow\": false, \"text\": \"0.98\", \"x\": 3, \"y\": 1}, {\"font\": {\"color\": \"black\", \"size\": 22}, \"showarrow\": false, \"text\": \"0.72\", \"x\": 4, \"y\": 1}, {\"font\": {\"color\": \"black\", \"size\": 22}, \"showarrow\": false, \"text\": \"0.86\", \"x\": 5, \"y\": 1}, {\"font\": {\"color\": \"black\", \"size\": 22}, \"showarrow\": false, \"text\": \"0.61\", \"x\": 0, \"y\": 2}, {\"font\": {\"color\": \"black\", \"size\": 22}, \"showarrow\": false, \"text\": \"0.76\", \"x\": 1, \"y\": 2}, {\"font\": {\"color\": \"black\", \"size\": 22}, \"showarrow\": false, \"text\": \"0.79\", \"x\": 2, \"y\": 2}, {\"font\": {\"color\": \"black\", \"size\": 22}, \"showarrow\": false, \"text\": \"0.97\", \"x\": 3, \"y\": 2}, {\"font\": {\"color\": \"black\", \"size\": 22}, \"showarrow\": false, \"text\": \"0.79\", \"x\": 4, \"y\": 2}, {\"font\": {\"color\": \"black\", \"size\": 22}, \"showarrow\": false, \"text\": \"0.9\", \"x\": 5, \"y\": 2}, {\"font\": {\"color\": \"black\", \"size\": 22}, \"showarrow\": false, \"text\": \"0.58\", \"x\": 0, \"y\": 3}, {\"font\": {\"color\": \"black\", \"size\": 22}, \"showarrow\": false, \"text\": \"0.61\", \"x\": 1, \"y\": 3}, {\"font\": {\"color\": \"black\", \"size\": 22}, \"showarrow\": false, \"text\": \"0.7\", \"x\": 2, \"y\": 3}, {\"font\": {\"color\": \"black\", \"size\": 22}, \"showarrow\": false, \"text\": \"0.98\", \"x\": 3, \"y\": 3}, {\"font\": {\"color\": \"black\", \"size\": 22}, \"showarrow\": false, \"text\": \"0.79\", \"x\": 4, \"y\": 3}, {\"font\": {\"color\": \"black\", \"size\": 22}, \"showarrow\": false, \"text\": \"0.9\", \"x\": 5, \"y\": 3}], \"height\": 400, \"plot_bgcolor\": \"rgba(0,0,0,0)\", \"template\": {\"data\": {\"bar\": [{\"error_x\": {\"color\": \"#2a3f5f\"}, \"error_y\": {\"color\": \"#2a3f5f\"}, \"marker\": {\"line\": {\"color\": \"#E5ECF6\", \"width\": 0.5}}, \"type\": \"bar\"}], \"barpolar\": [{\"marker\": {\"line\": {\"color\": \"#E5ECF6\", \"width\": 0.5}}, \"type\": \"barpolar\"}], \"carpet\": [{\"aaxis\": {\"endlinecolor\": \"#2a3f5f\", \"gridcolor\": \"white\", \"linecolor\": \"white\", \"minorgridcolor\": \"white\", \"startlinecolor\": \"#2a3f5f\"}, \"baxis\": {\"endlinecolor\": \"#2a3f5f\", \"gridcolor\": \"white\", \"linecolor\": \"white\", \"minorgridcolor\": \"white\", \"startlinecolor\": \"#2a3f5f\"}, \"type\": \"carpet\"}], \"choropleth\": [{\"colorbar\": {\"outlinewidth\": 0, \"ticks\": \"\"}, \"type\": \"choropleth\"}], \"contour\": [{\"colorbar\": {\"outlinewidth\": 0, \"ticks\": \"\"}, \"colorscale\": [[0.0, \"#0d0887\"], [0.1111111111111111, \"#46039f\"], [0.2222222222222222, \"#7201a8\"], [0.3333333333333333, \"#9c179e\"], [0.4444444444444444, \"#bd3786\"], [0.5555555555555556, \"#d8576b\"], [0.6666666666666666, \"#ed7953\"], [0.7777777777777778, \"#fb9f3a\"], [0.8888888888888888, \"#fdca26\"], [1.0, \"#f0f921\"]], \"type\": \"contour\"}], \"contourcarpet\": [{\"colorbar\": {\"outlinewidth\": 0, \"ticks\": \"\"}, \"type\": \"contourcarpet\"}], \"heatmap\": [{\"colorbar\": {\"outlinewidth\": 0, \"ticks\": \"\"}, \"colorscale\": [[0.0, \"#0d0887\"], [0.1111111111111111, \"#46039f\"], [0.2222222222222222, \"#7201a8\"], [0.3333333333333333, \"#9c179e\"], [0.4444444444444444, \"#bd3786\"], [0.5555555555555556, \"#d8576b\"], [0.6666666666666666, \"#ed7953\"], [0.7777777777777778, \"#fb9f3a\"], [0.8888888888888888, \"#fdca26\"], [1.0, \"#f0f921\"]], \"type\": \"heatmap\"}], \"heatmapgl\": [{\"colorbar\": {\"outlinewidth\": 0, \"ticks\": \"\"}, \"colorscale\": [[0.0, \"#0d0887\"], [0.1111111111111111, \"#46039f\"], [0.2222222222222222, \"#7201a8\"], [0.3333333333333333, \"#9c179e\"], [0.4444444444444444, \"#bd3786\"], [0.5555555555555556, \"#d8576b\"], [0.6666666666666666, \"#ed7953\"], [0.7777777777777778, \"#fb9f3a\"], [0.8888888888888888, \"#fdca26\"], [1.0, \"#f0f921\"]], \"type\": \"heatmapgl\"}], \"histogram\": [{\"marker\": {\"colorbar\": {\"outlinewidth\": 0, \"ticks\": \"\"}}, \"type\": \"histogram\"}], \"histogram2d\": [{\"colorbar\": {\"outlinewidth\": 0, \"ticks\": \"\"}, \"colorscale\": [[0.0, \"#0d0887\"], [0.1111111111111111, \"#46039f\"], [0.2222222222222222, \"#7201a8\"], [0.3333333333333333, \"#9c179e\"], [0.4444444444444444, \"#bd3786\"], [0.5555555555555556, \"#d8576b\"], [0.6666666666666666, \"#ed7953\"], [0.7777777777777778, \"#fb9f3a\"], [0.8888888888888888, \"#fdca26\"], [1.0, \"#f0f921\"]], \"type\": \"histogram2d\"}], \"histogram2dcontour\": [{\"colorbar\": {\"outlinewidth\": 0, \"ticks\": \"\"}, \"colorscale\": [[0.0, \"#0d0887\"], [0.1111111111111111, \"#46039f\"], [0.2222222222222222, \"#7201a8\"], [0.3333333333333333, \"#9c179e\"], [0.4444444444444444, \"#bd3786\"], [0.5555555555555556, \"#d8576b\"], [0.6666666666666666, \"#ed7953\"], [0.7777777777777778, \"#fb9f3a\"], [0.8888888888888888, \"#fdca26\"], [1.0, \"#f0f921\"]], \"type\": \"histogram2dcontour\"}], \"mesh3d\": [{\"colorbar\": {\"outlinewidth\": 0, \"ticks\": \"\"}, \"type\": \"mesh3d\"}], \"parcoords\": [{\"line\": {\"colorbar\": {\"outlinewidth\": 0, \"ticks\": \"\"}}, \"type\": \"parcoords\"}], \"pie\": [{\"automargin\": true, \"type\": \"pie\"}], \"scatter\": [{\"marker\": {\"colorbar\": {\"outlinewidth\": 0, \"ticks\": \"\"}}, \"type\": \"scatter\"}], \"scatter3d\": [{\"line\": {\"colorbar\": {\"outlinewidth\": 0, \"ticks\": \"\"}}, \"marker\": {\"colorbar\": {\"outlinewidth\": 0, \"ticks\": \"\"}}, \"type\": \"scatter3d\"}], \"scattercarpet\": [{\"marker\": {\"colorbar\": {\"outlinewidth\": 0, \"ticks\": \"\"}}, \"type\": \"scattercarpet\"}], \"scattergeo\": [{\"marker\": {\"colorbar\": {\"outlinewidth\": 0, \"ticks\": \"\"}}, \"type\": \"scattergeo\"}], \"scattergl\": [{\"marker\": {\"colorbar\": {\"outlinewidth\": 0, \"ticks\": \"\"}}, \"type\": \"scattergl\"}], \"scattermapbox\": [{\"marker\": {\"colorbar\": {\"outlinewidth\": 0, \"ticks\": \"\"}}, \"type\": \"scattermapbox\"}], \"scatterpolar\": [{\"marker\": {\"colorbar\": {\"outlinewidth\": 0, \"ticks\": \"\"}}, \"type\": \"scatterpolar\"}], \"scatterpolargl\": [{\"marker\": {\"colorbar\": {\"outlinewidth\": 0, \"ticks\": \"\"}}, \"type\": \"scatterpolargl\"}], \"scatterternary\": [{\"marker\": {\"colorbar\": {\"outlinewidth\": 0, \"ticks\": \"\"}}, \"type\": \"scatterternary\"}], \"surface\": [{\"colorbar\": {\"outlinewidth\": 0, \"ticks\": \"\"}, \"colorscale\": [[0.0, \"#0d0887\"], [0.1111111111111111, \"#46039f\"], [0.2222222222222222, \"#7201a8\"], [0.3333333333333333, \"#9c179e\"], [0.4444444444444444, \"#bd3786\"], [0.5555555555555556, \"#d8576b\"], [0.6666666666666666, \"#ed7953\"], [0.7777777777777778, \"#fb9f3a\"], [0.8888888888888888, \"#fdca26\"], [1.0, \"#f0f921\"]], \"type\": \"surface\"}], \"table\": [{\"cells\": {\"fill\": {\"color\": \"#EBF0F8\"}, \"line\": {\"color\": \"white\"}}, \"header\": {\"fill\": {\"color\": \"#C8D4E3\"}, \"line\": {\"color\": \"white\"}}, \"type\": \"table\"}]}, \"layout\": {\"annotationdefaults\": {\"arrowcolor\": \"#2a3f5f\", \"arrowhead\": 0, \"arrowwidth\": 1}, \"coloraxis\": {\"colorbar\": {\"outlinewidth\": 0, \"ticks\": \"\"}}, \"colorscale\": {\"diverging\": [[0, \"#8e0152\"], [0.1, \"#c51b7d\"], [0.2, \"#de77ae\"], [0.3, \"#f1b6da\"], [0.4, \"#fde0ef\"], [0.5, \"#f7f7f7\"], [0.6, \"#e6f5d0\"], [0.7, \"#b8e186\"], [0.8, \"#7fbc41\"], [0.9, \"#4d9221\"], [1, \"#276419\"]], \"sequential\": [[0.0, \"#0d0887\"], [0.1111111111111111, \"#46039f\"], [0.2222222222222222, \"#7201a8\"], [0.3333333333333333, \"#9c179e\"], [0.4444444444444444, \"#bd3786\"], [0.5555555555555556, \"#d8576b\"], [0.6666666666666666, \"#ed7953\"], [0.7777777777777778, \"#fb9f3a\"], [0.8888888888888888, \"#fdca26\"], [1.0, \"#f0f921\"]], \"sequentialminus\": [[0.0, \"#0d0887\"], [0.1111111111111111, \"#46039f\"], [0.2222222222222222, \"#7201a8\"], [0.3333333333333333, \"#9c179e\"], [0.4444444444444444, \"#bd3786\"], [0.5555555555555556, \"#d8576b\"], [0.6666666666666666, \"#ed7953\"], [0.7777777777777778, \"#fb9f3a\"], [0.8888888888888888, \"#fdca26\"], [1.0, \"#f0f921\"]]}, \"colorway\": [\"#636efa\", \"#EF553B\", \"#00cc96\", \"#ab63fa\", \"#FFA15A\", \"#19d3f3\", \"#FF6692\", \"#B6E880\", \"#FF97FF\", \"#FECB52\"], \"font\": {\"color\": \"#2a3f5f\"}, \"geo\": {\"bgcolor\": \"white\", \"lakecolor\": \"white\", \"landcolor\": \"#E5ECF6\", \"showlakes\": true, \"showland\": true, \"subunitcolor\": \"white\"}, \"hoverlabel\": {\"align\": \"left\"}, \"hovermode\": \"closest\", \"mapbox\": {\"style\": \"light\"}, \"paper_bgcolor\": \"white\", \"plot_bgcolor\": \"#E5ECF6\", \"polar\": {\"angularaxis\": {\"gridcolor\": \"white\", \"linecolor\": \"white\", \"ticks\": \"\"}, \"bgcolor\": \"#E5ECF6\", \"radialaxis\": {\"gridcolor\": \"white\", \"linecolor\": \"white\", \"ticks\": \"\"}}, \"scene\": {\"xaxis\": {\"backgroundcolor\": \"#E5ECF6\", \"gridcolor\": \"white\", \"gridwidth\": 2, \"linecolor\": \"white\", \"showbackground\": true, \"ticks\": \"\", \"zerolinecolor\": \"white\"}, \"yaxis\": {\"backgroundcolor\": \"#E5ECF6\", \"gridcolor\": \"white\", \"gridwidth\": 2, \"linecolor\": \"white\", \"showbackground\": true, \"ticks\": \"\", \"zerolinecolor\": \"white\"}, \"zaxis\": {\"backgroundcolor\": \"#E5ECF6\", \"gridcolor\": \"white\", \"gridwidth\": 2, \"linecolor\": \"white\", \"showbackground\": true, \"ticks\": \"\", \"zerolinecolor\": \"white\"}}, \"shapedefaults\": {\"line\": {\"color\": \"#2a3f5f\"}}, \"ternary\": {\"aaxis\": {\"gridcolor\": \"white\", \"linecolor\": \"white\", \"ticks\": \"\"}, \"baxis\": {\"gridcolor\": \"white\", \"linecolor\": \"white\", \"ticks\": \"\"}, \"bgcolor\": \"#E5ECF6\", \"caxis\": {\"gridcolor\": \"white\", \"linecolor\": \"white\", \"ticks\": \"\"}}, \"title\": {\"x\": 0.05}, \"xaxis\": {\"automargin\": true, \"gridcolor\": \"white\", \"linecolor\": \"white\", \"ticks\": \"\", \"title\": {\"standoff\": 15}, \"zerolinecolor\": \"white\", \"zerolinewidth\": 2}, \"yaxis\": {\"automargin\": true, \"gridcolor\": \"white\", \"linecolor\": \"white\", \"ticks\": \"\", \"title\": {\"standoff\": 15}, \"zerolinecolor\": \"white\", \"zerolinewidth\": 2}}}, \"title\": {\"text\": \"\", \"x\": 0.5, \"xanchor\": \"center\", \"y\": 0.8, \"yanchor\": \"top\"}, \"width\": 1000, \"xaxis\": {\"linecolor\": \"black\", \"linewidth\": 0.3, \"mirror\": true, \"side\": \"top\", \"tickfont\": {\"size\": 16}}, \"yaxis\": {\"linecolor\": \"black\", \"linewidth\": 0.3, \"mirror\": true, \"tickfont\": {\"size\": 16}}},                        {\"responsive\": true}                    ).then(function(){\n",
       "                            \n",
       "var gd = document.getElementById('ba247c85-5276-4563-89e9-232f8f9cc28e');\n",
       "var x = new MutationObserver(function (mutations, observer) {{\n",
       "        var display = window.getComputedStyle(gd).display;\n",
       "        if (!display || display === 'none') {{\n",
       "            console.log([gd, 'removed!']);\n",
       "            Plotly.purge(gd);\n",
       "            observer.disconnect();\n",
       "        }}\n",
       "}});\n",
       "\n",
       "// Listen for the removal of the full notebook cells\n",
       "var notebookContainer = gd.closest('#notebook-container');\n",
       "if (notebookContainer) {{\n",
       "    x.observe(notebookContainer, {childList: true});\n",
       "}}\n",
       "\n",
       "// Listen for the clearing of the current output cell\n",
       "var outputEl = gd.closest('.output');\n",
       "if (outputEl) {{\n",
       "    x.observe(outputEl, {childList: true});\n",
       "}}\n",
       "\n",
       "                        })                };                });            </script>        </div>"
      ]
     },
     "metadata": {},
     "output_type": "display_data"
    }
   ],
   "source": [
    "import plotly.graph_objects as go\n",
    "from functools import reduce\n",
    "from itertools import product\n",
    "\n",
    "z=[[0.12,0.59,0.69,0.96,0.75,0.87],\n",
    "  [0.11,0.51,0.63,0.98,0.72,0.86],\n",
    "  [0.61,0.76,0.79,0.97,0.79,0.9],\n",
    "  [0.58,0.61,0.7,0.98,0.79,0.9]]\n",
    "x=['<b>LAB</b>', '<b>LR</b>', '<b>SVR</b>', '<b>RF</b>', '<b>ANN</b>','<b>XGBoost</b>']\n",
    "y=['<b>N3</b>'+ ' <b>PM10</b>','<b>N3</b>'+ ' <b>PM2.5</b>' , \n",
    "   '<b>R1</b>'+ ' <b>PM10</b>','<b>R1</b>'+ ' <b>PM2.5</b>']\n",
    "\n",
    "def get_anno_text(z_value):\n",
    "    annotations=[]\n",
    "    a, b = len(z_value), len(z_value[0])\n",
    "    flat_z = reduce(lambda x,y: x+y, z_value) # z_value.flat if you deal with numpy\n",
    "    coords = product(range(a), range(b))\n",
    "    for pos, elem in zip(coords, flat_z):\n",
    "        annotations.append({'font': {'color': 'black'},\n",
    "                    'showarrow': False,\n",
    "                    'text': str(elem),\n",
    "                    'x': pos[1],\n",
    "                    'y': pos[0],\n",
    "                        'font.size':22   })\n",
    "    return annotations\n",
    "\n",
    "fig = go.Figure(data=go.Heatmap(\n",
    "                   z=z,\n",
    "                   x=x,\n",
    "                   y=y,\n",
    "                   hoverongaps = True, colorscale ='Viridis',opacity=0.7))#matter#\n",
    "\n",
    "fig.update_layout(title={'text': \"\",\n",
    "        'y':0.8,\n",
    "        'x':0.5,\n",
    "        'xanchor': 'center',\n",
    "        'yanchor': 'top'},\n",
    "           plot_bgcolor='rgba(0,0,0,0)',       \n",
    "    annotations = get_anno_text(z),\n",
    "                 width=1000,\n",
    "height=400,xaxis={'side': 'top'})\n",
    "\n",
    "fig.update_xaxes(tickfont = dict(size=16),linewidth=0.3, linecolor='black',\n",
    "    \n",
    "                 mirror=True)\n",
    "fig.update_yaxes(tickfont = dict(size=16),linewidth=0.3, linecolor='black',\n",
    "        \n",
    "                 mirror=True)\n",
    "fig.write_image(\"table2.pdf\",engine=\"kaleido\")\n",
    "#plt.savefig(\"table2a.pdf\", format=\"pdf\", bbox_inches=\"tight\")\n",
    "fig.show()\n"
   ]
  },
  {
   "cell_type": "code",
   "execution_count": null,
   "id": "piano-hydrogen",
   "metadata": {},
   "outputs": [],
   "source": []
  }
 ],
 "metadata": {
  "kernelspec": {
   "display_name": "Python 3",
   "language": "python",
   "name": "python3"
  },
  "language_info": {
   "codemirror_mode": {
    "name": "ipython",
    "version": 3
   },
   "file_extension": ".py",
   "mimetype": "text/x-python",
   "name": "python",
   "nbconvert_exporter": "python",
   "pygments_lexer": "ipython3",
   "version": "3.8.6"
  }
 },
 "nbformat": 4,
 "nbformat_minor": 5
}
