{
 "cells": [
  {
   "cell_type": "code",
   "execution_count": 1,
   "id": "massive-throat",
   "metadata": {},
   "outputs": [
    {
     "data": {
      "text/html": [
       "<div>\n",
       "<style scoped>\n",
       "    .dataframe tbody tr th:only-of-type {\n",
       "        vertical-align: middle;\n",
       "    }\n",
       "\n",
       "    .dataframe tbody tr th {\n",
       "        vertical-align: top;\n",
       "    }\n",
       "\n",
       "    .dataframe thead th {\n",
       "        text-align: right;\n",
       "    }\n",
       "</style>\n",
       "<table border=\"1\" class=\"dataframe\">\n",
       "  <thead>\n",
       "    <tr style=\"text-align: right;\">\n",
       "      <th></th>\n",
       "      <th>Date/Time</th>\n",
       "      <th>NO2 (μg/m3)</th>\n",
       "      <th>SO2 (μg/m3)</th>\n",
       "      <th>O3 (μg/m3)</th>\n",
       "      <th>CO (μg/m3)</th>\n",
       "      <th>PM10 (μg/m3)</th>\n",
       "      <th>PM 2.5 (μg/m3)</th>\n",
       "    </tr>\n",
       "  </thead>\n",
       "  <tbody>\n",
       "    <tr>\n",
       "      <th>7531</th>\n",
       "      <td>2020-11-09 19:00:00</td>\n",
       "      <td>123.66430</td>\n",
       "      <td>6.942140</td>\n",
       "      <td>2.626272</td>\n",
       "      <td>2626.576</td>\n",
       "      <td>112.54680</td>\n",
       "      <td>34.47053</td>\n",
       "    </tr>\n",
       "    <tr>\n",
       "      <th>7532</th>\n",
       "      <td>2020-11-09 20:00:00</td>\n",
       "      <td>102.62100</td>\n",
       "      <td>7.881799</td>\n",
       "      <td>2.665070</td>\n",
       "      <td>2744.537</td>\n",
       "      <td>185.77910</td>\n",
       "      <td>51.01247</td>\n",
       "    </tr>\n",
       "    <tr>\n",
       "      <th>7533</th>\n",
       "      <td>2020-11-09 21:00:00</td>\n",
       "      <td>83.50191</td>\n",
       "      <td>6.309392</td>\n",
       "      <td>1.787648</td>\n",
       "      <td>2180.894</td>\n",
       "      <td>152.05290</td>\n",
       "      <td>50.29734</td>\n",
       "    </tr>\n",
       "    <tr>\n",
       "      <th>7534</th>\n",
       "      <td>2020-11-09 22:00:00</td>\n",
       "      <td>65.23309</td>\n",
       "      <td>5.243093</td>\n",
       "      <td>1.287961</td>\n",
       "      <td>1759.910</td>\n",
       "      <td>122.83820</td>\n",
       "      <td>48.03581</td>\n",
       "    </tr>\n",
       "    <tr>\n",
       "      <th>7535</th>\n",
       "      <td>2020-11-09 23:00:00</td>\n",
       "      <td>56.35237</td>\n",
       "      <td>3.984219</td>\n",
       "      <td>1.077103</td>\n",
       "      <td>1304.964</td>\n",
       "      <td>94.77707</td>\n",
       "      <td>41.15864</td>\n",
       "    </tr>\n",
       "  </tbody>\n",
       "</table>\n",
       "</div>"
      ],
      "text/plain": [
       "               Date/Time  NO2 (μg/m3)  SO2 (μg/m3)  O3 (μg/m3)  CO (μg/m3)  \\\n",
       "7531 2020-11-09 19:00:00    123.66430     6.942140    2.626272    2626.576   \n",
       "7532 2020-11-09 20:00:00    102.62100     7.881799    2.665070    2744.537   \n",
       "7533 2020-11-09 21:00:00     83.50191     6.309392    1.787648    2180.894   \n",
       "7534 2020-11-09 22:00:00     65.23309     5.243093    1.287961    1759.910   \n",
       "7535 2020-11-09 23:00:00     56.35237     3.984219    1.077103    1304.964   \n",
       "\n",
       "      PM10 (μg/m3)  PM 2.5 (μg/m3)  \n",
       "7531     112.54680        34.47053  \n",
       "7532     185.77910        51.01247  \n",
       "7533     152.05290        50.29734  \n",
       "7534     122.83820        48.03581  \n",
       "7535      94.77707        41.15864  "
      ]
     },
     "execution_count": 1,
     "metadata": {},
     "output_type": "execute_result"
    }
   ],
   "source": [
    "#Importing the data labelled as excel file\n",
    "import pandas as pd\n",
    "data=pd.read_excel(\"DLI_CO_DATA.xlsx\")\n",
    "data=data.iloc[:,[0,1,2,3,4,5,6]]\n",
    "#Checking the first five rows of data\n",
    "data.tail()"
   ]
  },
  {
   "cell_type": "code",
   "execution_count": 2,
   "id": "virgin-stack",
   "metadata": {},
   "outputs": [
    {
     "data": {
      "text/plain": [
       "(7536, 7)"
      ]
     },
     "execution_count": 2,
     "metadata": {},
     "output_type": "execute_result"
    }
   ],
   "source": [
    "data.interpolate()\n",
    "data.shape"
   ]
  },
  {
   "cell_type": "code",
   "execution_count": 3,
   "id": "differential-princess",
   "metadata": {},
   "outputs": [
    {
     "data": {
      "text/html": [
       "<div>\n",
       "<style scoped>\n",
       "    .dataframe tbody tr th:only-of-type {\n",
       "        vertical-align: middle;\n",
       "    }\n",
       "\n",
       "    .dataframe tbody tr th {\n",
       "        vertical-align: top;\n",
       "    }\n",
       "\n",
       "    .dataframe thead th {\n",
       "        text-align: right;\n",
       "    }\n",
       "</style>\n",
       "<table border=\"1\" class=\"dataframe\">\n",
       "  <thead>\n",
       "    <tr style=\"text-align: right;\">\n",
       "      <th></th>\n",
       "      <th>CO</th>\n",
       "      <th>date</th>\n",
       "    </tr>\n",
       "    <tr>\n",
       "      <th>Date</th>\n",
       "      <th></th>\n",
       "      <th></th>\n",
       "    </tr>\n",
       "  </thead>\n",
       "  <tbody>\n",
       "    <tr>\n",
       "      <th>2020-01-01</th>\n",
       "      <td>894.455633</td>\n",
       "      <td>2020-01-01</td>\n",
       "    </tr>\n",
       "    <tr>\n",
       "      <th>2020-01-02</th>\n",
       "      <td>577.588292</td>\n",
       "      <td>2020-01-02</td>\n",
       "    </tr>\n",
       "    <tr>\n",
       "      <th>2020-01-03</th>\n",
       "      <td>402.879125</td>\n",
       "      <td>2020-01-03</td>\n",
       "    </tr>\n",
       "    <tr>\n",
       "      <th>2020-01-04</th>\n",
       "      <td>539.677329</td>\n",
       "      <td>2020-01-04</td>\n",
       "    </tr>\n",
       "    <tr>\n",
       "      <th>2020-01-05</th>\n",
       "      <td>704.075854</td>\n",
       "      <td>2020-01-05</td>\n",
       "    </tr>\n",
       "  </tbody>\n",
       "</table>\n",
       "</div>"
      ],
      "text/plain": [
       "                    CO        date\n",
       "Date                              \n",
       "2020-01-01  894.455633  2020-01-01\n",
       "2020-01-02  577.588292  2020-01-02\n",
       "2020-01-03  402.879125  2020-01-03\n",
       "2020-01-04  539.677329  2020-01-04\n",
       "2020-01-05  704.075854  2020-01-05"
      ]
     },
     "execution_count": 3,
     "metadata": {},
     "output_type": "execute_result"
    }
   ],
   "source": [
    "# Deriving the two columns: Date/Time and CO\n",
    "data=data.iloc[:,[0,4]]\n",
    "data.columns=['Date','CO']\n",
    "#Printing the date upto period 'Day'\n",
    "data['Date'] = pd.to_datetime(data['Date']).dt.to_period('H')\n",
    "#Drops all rows with missing values\n",
    "#data=data.dropna()\n",
    "#Setting the date column as an index column to allow resampling\n",
    "data=data.set_index('Date')\n",
    "#Resampling data to give only the mean daily CO concentrations\n",
    "data=data.resample('D').mean()\n",
    "data['date'] = data.index\n",
    "#data['date'] = pd.to_datetime(data['date']).dt.to_period('D')\n",
    "mean_value=data['CO'].mean()\n",
    "data['CO'].fillna(value=data['CO'].mean(), inplace=True)\n",
    "data.isnull().values.any()\n",
    "data.head()"
   ]
  },
  {
   "cell_type": "code",
   "execution_count": 4,
   "id": "executed-circus",
   "metadata": {},
   "outputs": [
    {
     "data": {
      "text/plain": [
       "2020-01-01    894.455633\n",
       "2020-01-02    577.588292\n",
       "2020-01-03    402.879125\n",
       "2020-01-04    539.677329\n",
       "2020-01-05    704.075854\n",
       "                 ...    \n",
       "2020-11-05    426.697750\n",
       "2020-11-06    782.375809\n",
       "2020-11-07    574.743696\n",
       "2020-11-08    494.527079\n",
       "2020-11-09    908.988788\n",
       "Freq: D, Length: 314, dtype: float64"
      ]
     },
     "execution_count": 4,
     "metadata": {},
     "output_type": "execute_result"
    }
   ],
   "source": [
    "#Deriving the lists of Date and CO columns of the data\n",
    "Date=data['date'].to_list()\n",
    "CO  =data['CO'].to_list()\n",
    "date=[i+1 for i in range(len(CO)) ]\n",
    "#Generating timeseries data based on the two lists\n",
    "data= pd.Series(CO,Date)\n",
    "CO=pd.Series(CO)\n",
    "data"
   ]
  },
  {
   "cell_type": "code",
   "execution_count": 5,
   "id": "capable-accreditation",
   "metadata": {},
   "outputs": [
    {
     "ename": "ImportError",
     "evalue": "cannot import name 'plot_series' from 'sktime.utils.plotting' (/Users/kipkemoivincent/opt/anaconda3/lib/python3.8/site-packages/sktime/utils/plotting/__init__.py)",
     "output_type": "error",
     "traceback": [
      "\u001b[0;31m---------------------------------------------------------------------------\u001b[0m",
      "\u001b[0;31mImportError\u001b[0m                               Traceback (most recent call last)",
      "\u001b[0;32m<ipython-input-5-032ed7e2958f>\u001b[0m in \u001b[0;36m<module>\u001b[0;34m\u001b[0m\n\u001b[1;32m      2\u001b[0m \u001b[0;32mfrom\u001b[0m \u001b[0msktime\u001b[0m\u001b[0;34m.\u001b[0m\u001b[0mforecasting\u001b[0m\u001b[0;34m.\u001b[0m\u001b[0mmodel_selection\u001b[0m \u001b[0;32mimport\u001b[0m \u001b[0mtemporal_train_test_split\u001b[0m\u001b[0;34m\u001b[0m\u001b[0;34m\u001b[0m\u001b[0m\n\u001b[1;32m      3\u001b[0m \u001b[0;32mfrom\u001b[0m \u001b[0msktime\u001b[0m\u001b[0;34m.\u001b[0m\u001b[0mperformance_metrics\u001b[0m\u001b[0;34m.\u001b[0m\u001b[0mforecasting\u001b[0m \u001b[0;32mimport\u001b[0m \u001b[0msmape_loss\u001b[0m\u001b[0;34m\u001b[0m\u001b[0;34m\u001b[0m\u001b[0m\n\u001b[0;32m----> 4\u001b[0;31m \u001b[0;32mfrom\u001b[0m \u001b[0msktime\u001b[0m\u001b[0;34m.\u001b[0m\u001b[0mutils\u001b[0m\u001b[0;34m.\u001b[0m\u001b[0mplotting\u001b[0m \u001b[0;32mimport\u001b[0m \u001b[0mplot_series\u001b[0m\u001b[0;34m\u001b[0m\u001b[0;34m\u001b[0m\u001b[0m\n\u001b[0m\u001b[1;32m      5\u001b[0m \u001b[0;32mfrom\u001b[0m \u001b[0mwarnings\u001b[0m \u001b[0;32mimport\u001b[0m \u001b[0msimplefilter\u001b[0m\u001b[0;34m\u001b[0m\u001b[0;34m\u001b[0m\u001b[0m\n\u001b[1;32m      6\u001b[0m \u001b[0;34m\u001b[0m\u001b[0m\n",
      "\u001b[0;31mImportError\u001b[0m: cannot import name 'plot_series' from 'sktime.utils.plotting' (/Users/kipkemoivincent/opt/anaconda3/lib/python3.8/site-packages/sktime/utils/plotting/__init__.py)"
     ]
    }
   ],
   "source": [
    "from sktime.datasets import load_airline\n",
    "from sktime.forecasting.model_selection import temporal_train_test_split\n",
    "from sktime.performance_metrics.forecasting import smape_loss\n",
    "from sktime.utils.plotting import plot_series\n",
    "from warnings import simplefilter\n",
    "\n",
    "import numpy as np\n",
    "\n",
    "simplefilter(\"ignore\", FutureWarning)\n",
    "\n",
    "y = data\n",
    "# our HCrystalball wrapper currently only supports pd.DatetimeIndex types\n",
    "y.index = y.index.to_timestamp()\n",
    "y_train, y_test = temporal_train_test_split(y, test_size=71)\n",
    "print(y_train.shape[0], y_test.shape[0])"
   ]
  },
  {
   "cell_type": "code",
   "execution_count": null,
   "id": "mineral-glenn",
   "metadata": {},
   "outputs": [],
   "source": [
    "from hcrystalball.ensemble import SimpleEnsemble\n",
    "from hcrystalball.wrappers import (\n",
    "    ExponentialSmoothingWrapper,\n",
    "    SarimaxWrapper,\n",
    "    get_sklearn_wrapper,\n",
    ")\n",
    "from sklearn.ensemble import RandomForestRegressor\n",
    "from sklearn.linear_model import ElasticNet\n",
    "\n",
    "from sktime.forecasting.hcrystalball import HCrystalBallForecaster"
   ]
  },
  {
   "cell_type": "code",
   "execution_count": null,
   "id": "searching-australian",
   "metadata": {},
   "outputs": [],
   "source": [
    "models = {\n",
    "    #\"sarimax\": SarimaxWrapper(init_with_autoarima=True, autoarima_dict={\"m\": 12}),\n",
    "    \"smoothing\": ExponentialSmoothingWrapper(\n",
    "        trend=\"add\", seasonal=\"multiplicative\", seasonal_periods=12\n",
    "    ),\n",
    "    \"sklearn_linear\": get_sklearn_wrapper(ElasticNet),\n",
    "    \"sklearn_forest\": get_sklearn_wrapper(RandomForestRegressor, n_estimators=100),\n",
    "    \"avg_ensemble\": SimpleEnsemble(\n",
    "        base_learners=[\n",
    "            get_sklearn_wrapper(ElasticNet, name=\"sklearn_linear\"),\n",
    "            ExponentialSmoothingWrapper(\n",
    "                trend=\"add\",\n",
    "                seasonal=\"multiplicative\",\n",
    "                seasonal_periods=12,\n",
    "                name=\"smoothing\",\n",
    "            ),\n",
    "        ],\n",
    "        ensemble_func=\"mean\",\n",
    "    ),\n",
    "}"
   ]
  },
  {
   "cell_type": "code",
   "execution_count": 7,
   "id": "following-metro",
   "metadata": {},
   "outputs": [
    {
     "ename": "NameError",
     "evalue": "name 'models' is not defined",
     "output_type": "error",
     "traceback": [
      "\u001b[0;31m---------------------------------------------------------------------------\u001b[0m",
      "\u001b[0;31mNameError\u001b[0m                                 Traceback (most recent call last)",
      "\u001b[0;32m<ipython-input-7-fc852a35a88b>\u001b[0m in \u001b[0;36m<module>\u001b[0;34m\u001b[0m\n\u001b[0;32m----> 1\u001b[0;31m \u001b[0;32mfor\u001b[0m \u001b[0mmodel_name\u001b[0m\u001b[0;34m,\u001b[0m \u001b[0mmodel\u001b[0m \u001b[0;32min\u001b[0m \u001b[0mmodels\u001b[0m\u001b[0;34m.\u001b[0m\u001b[0mitems\u001b[0m\u001b[0;34m(\u001b[0m\u001b[0;34m)\u001b[0m\u001b[0;34m:\u001b[0m\u001b[0;34m\u001b[0m\u001b[0;34m\u001b[0m\u001b[0m\n\u001b[0m\u001b[1;32m      2\u001b[0m     \u001b[0mforecaster\u001b[0m \u001b[0;34m=\u001b[0m \u001b[0mHCrystalBallForecaster\u001b[0m\u001b[0;34m(\u001b[0m\u001b[0mmodel\u001b[0m\u001b[0;34m)\u001b[0m\u001b[0;34m\u001b[0m\u001b[0;34m\u001b[0m\u001b[0m\n\u001b[1;32m      3\u001b[0m     \u001b[0;31m# if provided in the data, exogenous variables are supported over X_train, X_pred\u001b[0m\u001b[0;34m\u001b[0m\u001b[0;34m\u001b[0m\u001b[0;34m\u001b[0m\u001b[0m\n\u001b[1;32m      4\u001b[0m     \u001b[0mforecaster\u001b[0m\u001b[0;34m.\u001b[0m\u001b[0mfit\u001b[0m\u001b[0;34m(\u001b[0m\u001b[0my_train\u001b[0m\u001b[0;34m)\u001b[0m\u001b[0;34m\u001b[0m\u001b[0;34m\u001b[0m\u001b[0m\n\u001b[1;32m      5\u001b[0m     \u001b[0my_pred\u001b[0m \u001b[0;34m=\u001b[0m \u001b[0mforecaster\u001b[0m\u001b[0;34m.\u001b[0m\u001b[0mpredict\u001b[0m\u001b[0;34m(\u001b[0m\u001b[0mfh\u001b[0m\u001b[0;34m)\u001b[0m\u001b[0;34m\u001b[0m\u001b[0;34m\u001b[0m\u001b[0m\n",
      "\u001b[0;31mNameError\u001b[0m: name 'models' is not defined"
     ]
    }
   ],
   "source": [
    "fh = np.arange(len(y_test)) + 1\n",
    "for model_name, model in models.items():\n",
    "    forecaster = HCrystalBallForecaster(model)\n",
    "    # if provided in the data, exogenous variables are supported over X_train, X_pred\n",
    "    forecaster.fit(y_train)\n",
    "    y_pred = forecaster.predict(fh)\n",
    "    plot_series(\n",
    "        y_train,\n",
    "        y_test,\n",
    "        y_pred,\n",
    "        labels=[\n",
    "            \"y_train\",\n",
    "            \"y_test\",\n",
    "            f\"y_pred_{model_name}[smape_loss:{smape_loss(y_pred, y_test):.3}]\",\n",
    "        ],\n",
    "    )"
   ]
  },
  {
   "cell_type": "code",
   "execution_count": null,
   "id": "atlantic-ceramic",
   "metadata": {},
   "outputs": [],
   "source": []
  }
 ],
 "metadata": {
  "kernelspec": {
   "display_name": "Python 3",
   "language": "python",
   "name": "python3"
  },
  "language_info": {
   "codemirror_mode": {
    "name": "ipython",
    "version": 3
   },
   "file_extension": ".py",
   "mimetype": "text/x-python",
   "name": "python",
   "nbconvert_exporter": "python",
   "pygments_lexer": "ipython3",
   "version": "3.8.6"
  }
 },
 "nbformat": 4,
 "nbformat_minor": 5
}
