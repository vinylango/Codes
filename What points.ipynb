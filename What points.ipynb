{
 "cells": [
  {
   "cell_type": "code",
   "execution_count": 145,
   "metadata": {},
   "outputs": [],
   "source": [
    "import pandas as pd\n",
    "#import numpy as np\n",
    "import sklearn\n",
    "from sklearn import linear_model\n",
    "from sklearn.utils import shuffle\n",
    "\n",
    "#Importing and reading data.\n",
    "data = pd.read_csv(\"water_points.csv\")\n",
    "# Since our data is seperated by semicolons we need to do sep=\";\"\n",
    "#data.head(n=1)"
   ]
  },
  {
   "cell_type": "code",
   "execution_count": 129,
   "metadata": {},
   "outputs": [],
   "source": [
    "data=data[['respondent','water_point_condition']]"
   ]
  },
  {
   "cell_type": "code",
   "execution_count": 130,
   "metadata": {},
   "outputs": [],
   "source": [
    "condition=[data.values.tolist()[i][1] for i in range(len(data))]\n",
    "respondent =[data.values.tolist()[i][0] for i in range(len(data))]"
   ]
  },
  {
   "cell_type": "code",
   "execution_count": 131,
   "metadata": {},
   "outputs": [],
   "source": [
    "community_condition=[condition[i] for i in range(len(respondent)) if (respondent[i]=='community')]\n",
    "local_A_uth_condition=[condition[i] for i in range(len(respondent)) if (respondent[i]=='local_authority community')]"
   ]
  },
  {
   "cell_type": "code",
   "execution_count": 132,
   "metadata": {},
   "outputs": [
    {
     "data": {
      "text/plain": [
       "590"
      ]
     },
     "execution_count": 132,
     "metadata": {},
     "output_type": "execute_result"
    }
   ],
   "source": [
    "functioning=[condition[i] for i in range(len(condition)) if (condition[i]=='functioning')]\n",
    "len(functioning)"
   ]
  },
  {
   "cell_type": "markdown",
   "metadata": {},
   "source": [
    "## The total number of waterpoints functioning is 590 ##"
   ]
  },
  {
   "cell_type": "code",
   "execution_count": 133,
   "metadata": {},
   "outputs": [],
   "source": [
    "N_community=len(community_condition)\n",
    "N_local_Auth=len(local_A_uth_condition)"
   ]
  },
  {
   "cell_type": "code",
   "execution_count": 134,
   "metadata": {},
   "outputs": [
    {
     "data": {
      "text/plain": [
       "(640, 55)"
      ]
     },
     "execution_count": 134,
     "metadata": {},
     "output_type": "execute_result"
    }
   ],
   "source": [
    "N_community,N_local_Auth"
   ]
  },
  {
   "cell_type": "markdown",
   "metadata": {},
   "source": [
    "## There were 640 water points for community and 55 water points for local authority community ## "
   ]
  },
  {
   "cell_type": "code",
   "execution_count": 135,
   "metadata": {},
   "outputs": [],
   "source": [
    "Data=[N_community,N_local_Auth]"
   ]
  },
  {
   "cell_type": "code",
   "execution_count": 136,
   "metadata": {},
   "outputs": [
    {
     "data": {
      "image/png": "[encoded data removed]",
      "text/plain": [
       "<Figure size 432x288 with 1 Axes>"
      ]
     },
     "metadata": {
      "needs_background": "light"
     },
     "output_type": "display_data"
    }
   ],
   "source": [
    "import matplotlib.pyplot as plt\n",
    "fig = plt.figure()\n",
    "ax = fig.add_axes([0,0,0.8,0.8])\n",
    "Labels= ['Community', 'Local Authority Community']\n",
    "data =Data\n",
    "ax.bar(Labels,data)\n",
    "plt.ylabel('Number of water points')\n",
    "plt.show()"
   ]
  },
  {
   "cell_type": "code",
   "execution_count": 137,
   "metadata": {},
   "outputs": [],
   "source": [
    "broken_community=[community_condition[i] for i in range(len(community_condition)) if (community_condition[i]=='broken')]"
   ]
  },
  {
   "cell_type": "code",
   "execution_count": 138,
   "metadata": {},
   "outputs": [
    {
     "data": {
      "text/plain": [
       "5.3125"
      ]
     },
     "execution_count": 138,
     "metadata": {},
     "output_type": "execute_result"
    }
   ],
   "source": [
    "Percentage_broken_community=len(broken_community)/len(community_condition)*100\n",
    "Percentage_broken_community"
   ]
  },
  {
   "cell_type": "markdown",
   "metadata": {},
   "source": [
    "## Respondent classified as community has 5.3% of broken waterpoints ##"
   ]
  },
  {
   "cell_type": "code",
   "execution_count": 139,
   "metadata": {},
   "outputs": [
    {
     "data": {
      "text/plain": [
       "[34, 606]"
      ]
     },
     "execution_count": 139,
     "metadata": {},
     "output_type": "execute_result"
    }
   ],
   "source": [
    "broken_proportion_community=[len(broken_community), len(community_condition)-len(broken_community)]\n",
    "broken_proportion_community"
   ]
  },
  {
   "cell_type": "code",
   "execution_count": 150,
   "metadata": {},
   "outputs": [
    {
     "data": {
      "image/png": "[encoded data removed]",
      "text/plain": [
       "<Figure size 432x288 with 1 Axes>"
      ]
     },
     "metadata": {},
     "output_type": "display_data"
    }
   ],
   "source": [
    "from matplotlib import pyplot as plt \n",
    "import numpy as np \n",
    "  \n",
    "  # Creating dataset \n",
    "Condition= ['Broken','Unbroken']\n",
    "\n",
    "def func(pct, allvalues): \n",
    "    absolute = int(pct / 100.*np.sum(allvalues)) \n",
    "    return \"{:.1f}%\\n({:d} )\".format(pct,absolute)\n",
    "data =broken_proportion_community\n",
    "  \n",
    "# Creating plot \n",
    "#fig = plt.figure(figsize =(10, 7)) \n",
    "plt.pie(data,autopct = lambda pct: func(pct,data),  labels = Condition) \n",
    "plt.title('Percentage Proportion of Broken and Unbroken water points for respondents classified community')\n",
    "  # show plot \n",
    "plt.show() "
   ]
  },
  {
   "cell_type": "code",
   "execution_count": 141,
   "metadata": {},
   "outputs": [],
   "source": [
    "broken_local=[local_A_uth_condition[i] for i in range(len(local_A_uth_condition)) if (local_A_uth_condition[i]=='broken')]"
   ]
  },
  {
   "cell_type": "code",
   "execution_count": 142,
   "metadata": {},
   "outputs": [
    {
     "data": {
      "text/plain": [
       "9.090909090909092"
      ]
     },
     "execution_count": 142,
     "metadata": {},
     "output_type": "execute_result"
    }
   ],
   "source": [
    "Percentage_broken_local=len(broken_local)/len(local_A_uth_condition)*100\n",
    "Percentage_broken_local"
   ]
  },
  {
   "cell_type": "markdown",
   "metadata": {},
   "source": [
    "## Respondent classified as local authority community has 9.09% of broken waterpoints ##"
   ]
  },
  {
   "cell_type": "code",
   "execution_count": 143,
   "metadata": {},
   "outputs": [
    {
     "data": {
      "text/plain": [
       "[5, 50]"
      ]
     },
     "execution_count": 143,
     "metadata": {},
     "output_type": "execute_result"
    }
   ],
   "source": [
    "broken_proportion_local=[len(broken_local), len(local_A_uth_condition)-len(broken_local)]\n",
    "broken_proportion_local"
   ]
  },
  {
   "cell_type": "code",
   "execution_count": 151,
   "metadata": {},
   "outputs": [
    {
     "data": {
      "image/png": "[encoded data removed]",
      "text/plain": [
       "<Figure size 432x288 with 1 Axes>"
      ]
     },
     "metadata": {},
     "output_type": "display_data"
    }
   ],
   "source": [
    "from matplotlib import pyplot as plt \n",
    "import numpy as np \n",
    "  \n",
    "  # Creating dataset \n",
    "Condition= ['Broken','Unbroken']\n",
    "\n",
    "def func(pct, allvalues): \n",
    "    absolute = int(pct / 100.*np.sum(allvalues)) \n",
    "    return \"{:.1f}%\\n({:d})\".format(pct, absolute)\n",
    "data =broken_proportion_local\n",
    "colors = ['yellowgreen', 'lightgreen']\n",
    "# Creating plot \n",
    "#fig = plt.figure(figsize =(10, 7)) \n",
    "plt.pie(data,autopct = lambda pct: func(pct,data),  labels = Condition,colors=colors) \n",
    "plt.title('Percentage Proportion of Broken and Unbroken water points for respondents classified  local authority community')\n",
    "  # show plot \n",
    "plt.show() "
   ]
  },
  {
   "cell_type": "markdown",
   "metadata": {},
   "source": [
    "## Based on the data above community is ranked first with lower percentage of broken water point (5.3%) compared to local authority community (9.09%) ##"
   ]
  },
  {
   "cell_type": "code",
   "execution_count": null,
   "metadata": {},
   "outputs": [],
   "source": []
  }
 ],
 "metadata": {
  "kernelspec": {
   "display_name": "Python 3",
   "language": "python",
   "name": "python3"
  },
  "language_info": {
   "codemirror_mode": {
    "name": "ipython",
    "version": 3
   },
   "file_extension": ".py",
   "mimetype": "text/x-python",
   "name": "python",
   "nbconvert_exporter": "python",
   "pygments_lexer": "ipython3",
   "version": "3.8.5"
  }
 },
 "nbformat": 4,
 "nbformat_minor": 4
}
