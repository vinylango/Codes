{
 "cells": [
  {
   "cell_type": "markdown",
   "metadata": {},
   "source": [
    "# Modeling Time Series Problems using LSTMs\n",
    "\n",
    "Made for the Data Science Workshop 2018 (African Institute for Mathematical Sciences)\n",
    "\n",
    "Extended from (https://machinelearningmastery.com/regression-tutorial-keras-deep-learning-library-python/)"
   ]
  },
  {
   "cell_type": "markdown",
   "metadata": {},
   "source": [
    "## Imports"
   ]
  },
  {
   "cell_type": "code",
   "execution_count": 1,
   "metadata": {},
   "outputs": [
    {
     "name": "stderr",
     "output_type": "stream",
     "text": [
      "Using TensorFlow backend.\n"
     ]
    }
   ],
   "source": [
    "import numpy as np\n",
    "import tensorflow as tf\n",
    "import pandas as pd\n",
    "import matplotlib.pyplot as plt\n",
    "from sklearn.preprocessing import MinMaxScaler\n",
    "import math\n",
    "\n",
    "# Keras imports\n",
    "from keras.models import Sequential\n",
    "from keras.layers import Dense\n",
    "\n",
    "# Here we import the LSTM cell which allows us to make LSTM cells\n",
    "# Here is the documentation for the LSTM cell in Keras https://keras.io/layers/recurrent/#lstm\n",
    "from keras.layers import LSTM"
   ]
  },
  {
   "cell_type": "markdown",
   "metadata": {},
   "source": [
    "## Read dataset"
   ]
  },
  {
   "cell_type": "code",
   "execution_count": 2,
   "metadata": {},
   "outputs": [],
   "source": [
    "# Read in the data using Pandas\n",
    "dataframe = pd.read_csv('carbondata_clean.csv', engine= 'python', sep=';', header=None)\n",
    "\n",
    "# Labels the columns manually\n",
    "dataframe.columns = ['1', '2', '3', '4', '5', '6', '7', '8', '9', '10', '11', '12']\n",
    "\n",
    "# Store the dataset into a numpy array\n",
    "dataset = dataframe.values\n",
    "dataset = dataset.astype('float32')"
   ]
  },
  {
   "cell_type": "code",
   "execution_count": null,
   "metadata": {},
   "outputs": [],
   "source": []
  },
  {
   "cell_type": "markdown",
   "metadata": {},
   "source": [
    "### Print the shape of the dataset"
   ]
  },
  {
   "cell_type": "code",
   "execution_count": 3,
   "metadata": {
    "scrolled": true
   },
   "outputs": [
    {
     "data": {
      "text/plain": [
       "(53, 12)"
      ]
     },
     "execution_count": 3,
     "metadata": {},
     "output_type": "execute_result"
    }
   ],
   "source": [
    "dataset.shape"
   ]
  },
  {
   "cell_type": "markdown",
   "metadata": {},
   "source": [
    "### Display the dataset"
   ]
  },
  {
   "cell_type": "code",
   "execution_count": 4,
   "metadata": {
    "scrolled": false
   },
   "outputs": [
    {
     "data": {
      "text/html": [
       "<div>\n",
       "<style scoped>\n",
       "    .dataframe tbody tr th:only-of-type {\n",
       "        vertical-align: middle;\n",
       "    }\n",
       "\n",
       "    .dataframe tbody tr th {\n",
       "        vertical-align: top;\n",
       "    }\n",
       "\n",
       "    .dataframe thead th {\n",
       "        text-align: right;\n",
       "    }\n",
       "</style>\n",
       "<table border=\"1\" class=\"dataframe\">\n",
       "  <thead>\n",
       "    <tr style=\"text-align: right;\">\n",
       "      <th></th>\n",
       "      <th>1</th>\n",
       "      <th>2</th>\n",
       "      <th>3</th>\n",
       "      <th>4</th>\n",
       "      <th>5</th>\n",
       "      <th>6</th>\n",
       "      <th>7</th>\n",
       "      <th>8</th>\n",
       "      <th>9</th>\n",
       "      <th>10</th>\n",
       "      <th>11</th>\n",
       "      <th>12</th>\n",
       "    </tr>\n",
       "  </thead>\n",
       "  <tbody>\n",
       "    <tr>\n",
       "      <th>0</th>\n",
       "      <td>315.62</td>\n",
       "      <td>316.38</td>\n",
       "      <td>316.71</td>\n",
       "      <td>317.72</td>\n",
       "      <td>318.29</td>\n",
       "      <td>318.15</td>\n",
       "      <td>316.54</td>\n",
       "      <td>314.80</td>\n",
       "      <td>313.84</td>\n",
       "      <td>313.26</td>\n",
       "      <td>314.80</td>\n",
       "      <td>315.58</td>\n",
       "    </tr>\n",
       "    <tr>\n",
       "      <th>1</th>\n",
       "      <td>316.43</td>\n",
       "      <td>316.97</td>\n",
       "      <td>317.58</td>\n",
       "      <td>319.02</td>\n",
       "      <td>320.03</td>\n",
       "      <td>319.59</td>\n",
       "      <td>318.18</td>\n",
       "      <td>315.91</td>\n",
       "      <td>314.16</td>\n",
       "      <td>313.83</td>\n",
       "      <td>315.00</td>\n",
       "      <td>316.19</td>\n",
       "    </tr>\n",
       "    <tr>\n",
       "      <th>2</th>\n",
       "      <td>316.93</td>\n",
       "      <td>317.70</td>\n",
       "      <td>318.54</td>\n",
       "      <td>319.48</td>\n",
       "      <td>320.58</td>\n",
       "      <td>319.77</td>\n",
       "      <td>318.57</td>\n",
       "      <td>316.79</td>\n",
       "      <td>314.80</td>\n",
       "      <td>315.38</td>\n",
       "      <td>316.10</td>\n",
       "      <td>317.01</td>\n",
       "    </tr>\n",
       "    <tr>\n",
       "      <th>3</th>\n",
       "      <td>317.94</td>\n",
       "      <td>318.56</td>\n",
       "      <td>319.68</td>\n",
       "      <td>320.63</td>\n",
       "      <td>321.01</td>\n",
       "      <td>320.55</td>\n",
       "      <td>319.58</td>\n",
       "      <td>317.40</td>\n",
       "      <td>316.26</td>\n",
       "      <td>315.42</td>\n",
       "      <td>316.69</td>\n",
       "      <td>317.69</td>\n",
       "    </tr>\n",
       "    <tr>\n",
       "      <th>4</th>\n",
       "      <td>318.74</td>\n",
       "      <td>319.08</td>\n",
       "      <td>319.86</td>\n",
       "      <td>321.39</td>\n",
       "      <td>322.25</td>\n",
       "      <td>321.47</td>\n",
       "      <td>319.74</td>\n",
       "      <td>317.77</td>\n",
       "      <td>316.21</td>\n",
       "      <td>315.99</td>\n",
       "      <td>317.12</td>\n",
       "      <td>318.31</td>\n",
       "    </tr>\n",
       "  </tbody>\n",
       "</table>\n",
       "</div>"
      ],
      "text/plain": [
       "        1       2       3       4       5       6       7       8       9  \\\n",
       "0  315.62  316.38  316.71  317.72  318.29  318.15  316.54  314.80  313.84   \n",
       "1  316.43  316.97  317.58  319.02  320.03  319.59  318.18  315.91  314.16   \n",
       "2  316.93  317.70  318.54  319.48  320.58  319.77  318.57  316.79  314.80   \n",
       "3  317.94  318.56  319.68  320.63  321.01  320.55  319.58  317.40  316.26   \n",
       "4  318.74  319.08  319.86  321.39  322.25  321.47  319.74  317.77  316.21   \n",
       "\n",
       "       10      11      12  \n",
       "0  313.26  314.80  315.58  \n",
       "1  313.83  315.00  316.19  \n",
       "2  315.38  316.10  317.01  \n",
       "3  315.42  316.69  317.69  \n",
       "4  315.99  317.12  318.31  "
      ]
     },
     "execution_count": 4,
     "metadata": {},
     "output_type": "execute_result"
    }
   ],
   "source": [
    "dataframe.head()\n"
   ]
  },
  {
   "cell_type": "markdown",
   "metadata": {},
   "source": [
    "## Take a look at the numpy dataset"
   ]
  },
  {
   "cell_type": "code",
   "execution_count": 5,
   "metadata": {},
   "outputs": [
    {
     "data": {
      "text/plain": [
       "(53, 12)"
      ]
     },
     "execution_count": 5,
     "metadata": {},
     "output_type": "execute_result"
    }
   ],
   "source": [
    "dataset.shape"
   ]
  },
  {
   "cell_type": "markdown",
   "metadata": {},
   "source": [
    "## Reshape the data into a long vector"
   ]
  },
  {
   "cell_type": "code",
   "execution_count": 6,
   "metadata": {},
   "outputs": [],
   "source": [
    "dataset_vector = dataset.reshape(-1,1)"
   ]
  },
  {
   "cell_type": "code",
   "execution_count": 7,
   "metadata": {
    "scrolled": true
   },
   "outputs": [
    {
     "data": {
      "text/plain": [
       "(636, 1)"
      ]
     },
     "execution_count": 7,
     "metadata": {},
     "output_type": "execute_result"
    }
   ],
   "source": [
    "dataset_vector.shape"
   ]
  },
  {
   "cell_type": "markdown",
   "metadata": {},
   "source": [
    "## Plot all the data"
   ]
  },
  {
   "cell_type": "code",
   "execution_count": 8,
   "metadata": {},
   "outputs": [
    {
     "data": {
      "image/png": "[encoded data removed]",
      "text/plain": [
       "<matplotlib.figure.Figure at 0x7ff41c0435c0>"
      ]
     },
     "metadata": {},
     "output_type": "display_data"
    }
   ],
   "source": [
    "plt.plot(dataset_vector[0:])\n",
    "plt.show()"
   ]
  },
  {
   "cell_type": "markdown",
   "metadata": {},
   "source": [
    "## Take a look at data for 1 year (1959)"
   ]
  },
  {
   "cell_type": "code",
   "execution_count": 9,
   "metadata": {},
   "outputs": [
    {
     "data": {
      "text/plain": [
       "12"
      ]
     },
     "execution_count": 9,
     "metadata": {},
     "output_type": "execute_result"
    }
   ],
   "source": [
    "# 12 data points\n",
    "len(dataset_vector[1:13])"
   ]
  },
  {
   "cell_type": "code",
   "execution_count": 10,
   "metadata": {},
   "outputs": [
    {
     "data": {
      "text/plain": [
       "array([[316.38],\n",
       "       [316.71],\n",
       "       [317.72],\n",
       "       [318.29],\n",
       "       [318.15],\n",
       "       [316.54],\n",
       "       [314.8 ],\n",
       "       [313.84],\n",
       "       [313.26],\n",
       "       [314.8 ],\n",
       "       [315.58],\n",
       "       [316.43]], dtype=float32)"
      ]
     },
     "execution_count": 10,
     "metadata": {},
     "output_type": "execute_result"
    }
   ],
   "source": [
    "dataset_vector[1:13]"
   ]
  },
  {
   "cell_type": "code",
   "execution_count": 11,
   "metadata": {},
   "outputs": [
    {
     "data": {
      "image/png": "[encoded data removed]",
      "text/plain": [
       "<matplotlib.figure.Figure at 0x7ff419f3c8d0>"
      ]
     },
     "metadata": {},
     "output_type": "display_data"
    }
   ],
   "source": [
    "# Now do the plotting\n",
    "plt.plot(dataset_vector[0:13])\n",
    "plt.show()"
   ]
  },
  {
   "cell_type": "markdown",
   "metadata": {},
   "source": [
    "## Normalise\n",
    "\n",
    "Normalise the data so that all the values are between 0 and 1. Here we make use of ScikitLearn's MinMaxScaler() function. There are alternatives. Here is a link to various pre-processing steps that you can use: http://scikit-learn.org/stable/modules/classes.html#module-sklearn.preprocessing"
   ]
  },
  {
   "cell_type": "code",
   "execution_count": 12,
   "metadata": {},
   "outputs": [
    {
     "data": {
      "text/plain": [
       "array([[315.62],\n",
       "       [316.38],\n",
       "       [316.71],\n",
       "       [317.72],\n",
       "       [318.29]], dtype=float32)"
      ]
     },
     "execution_count": 12,
     "metadata": {},
     "output_type": "execute_result"
    }
   ],
   "source": [
    "# Take a look at the values before applying the normalisation\n",
    "dataset_vector[0:5]"
   ]
  },
  {
   "cell_type": "code",
   "execution_count": 13,
   "metadata": {},
   "outputs": [],
   "source": [
    "scaler = MinMaxScaler(feature_range=(0, 1))\n",
    "dataset_vector = scaler.fit_transform(dataset_vector)"
   ]
  },
  {
   "cell_type": "code",
   "execution_count": 14,
   "metadata": {},
   "outputs": [
    {
     "data": {
      "text/plain": [
       "array([[0.02917171],\n",
       "       [0.03856611],\n",
       "       [0.04264498],\n",
       "       [0.05512977],\n",
       "       [0.06217551]], dtype=float32)"
      ]
     },
     "execution_count": 14,
     "metadata": {},
     "output_type": "execute_result"
    }
   ],
   "source": [
    "# Now look at the values after applying the normalisation (Note: it's always a good idea to print \n",
    "# your data often to the screen so you can check what's going on. This way you can easily catch mistakes\n",
    "# at an early stage).\n",
    "dataset_vector[0:5]"
   ]
  },
  {
   "cell_type": "markdown",
   "metadata": {},
   "source": [
    "## Train/test split\n",
    "\n",
    "It's not a good idea to train your model on just your training data because then you cannot check it's performance on data that it has never seen before. A good idea is to split your data into at least a training and testing set.\n",
    "\n",
    "\"Training Dataset: The sample of data used to fit the model.\"\n",
    "\n",
    "\"Test Dataset: The sample of data used to provide an <b>unbiased evaluation</b> of a final model fit on the training dataset.\"\n",
    "\n",
    "You can read more about this here: https://towardsdatascience.com/train-validation-and-test-sets-72cb40cba9e7\n",
    "\n",
    "<b> Question: do you think it would be a good idea to shuffle this data? (hint: think about what the data actually is, what is the data about?) </b>"
   ]
  },
  {
   "cell_type": "code",
   "execution_count": 15,
   "metadata": {},
   "outputs": [],
   "source": [
    "# Define the amount of data that will be used for training. This is a slightly different approach to using Scikit\n",
    "# learn's built in function train_test_split. Here we are the splitting manually. It might be a good idea to try re\n",
    "# write this code to use scikit learn's function.\n",
    "train_size = int(len(dataset_vector) * 0.67)\n",
    "\n",
    "# Define the amount of data that will be used for testing (total length minus the amount of training data).\n",
    "test_size = len(dataset_vector) - train_size\n",
    "\n",
    "# Split the data manually (note that here we are not shuffling the data)\n",
    "train, test = dataset_vector[0:train_size,:], dataset_vector[train_size:len(dataset_vector),:]"
   ]
  },
  {
   "cell_type": "markdown",
   "metadata": {},
   "source": [
    "### Create the labels for the dataset\n",
    "\n",
    "As it stands, the dataset does not have labels (targets) - i.e. the things you want to predict. The dataset just has values of the carbon emission for each month across multiple years. We need to create our predictions manually by shifting the data. \n",
    "\n",
    "<b> Note: </b>\n",
    "\n",
    "The function <i>create_dataset</i> shifts the data in such a way that we can create features and targets. This will make sense in the figures below."
   ]
  },
  {
   "cell_type": "code",
   "execution_count": 16,
   "metadata": {
    "collapsed": true
   },
   "outputs": [],
   "source": [
    "def create_dataset(dataset, look_back=1):\n",
    "    dataX, dataY = [], []\n",
    "    for i in range(len(dataset)-look_back-1):\n",
    "        a = dataset[i:(i+look_back), 0]\n",
    "        dataX.append(a)\n",
    "        dataY.append(dataset[i + look_back, 0])\n",
    "    return np.array(dataX), np.array(dataY)"
   ]
  },
  {
   "cell_type": "code",
   "execution_count": 17,
   "metadata": {},
   "outputs": [
    {
     "data": {
      "text/plain": [
       "array([[0.02917171],\n",
       "       [0.03856611]], dtype=float32)"
      ]
     },
     "execution_count": 17,
     "metadata": {},
     "output_type": "execute_result"
    }
   ],
   "source": [
    "train[0:2]"
   ]
  },
  {
   "cell_type": "code",
   "execution_count": null,
   "metadata": {
    "collapsed": true
   },
   "outputs": [],
   "source": []
  },
  {
   "cell_type": "code",
   "execution_count": 18,
   "metadata": {},
   "outputs": [],
   "source": [
    "look_back = 12\n",
    "\n",
    "# Split the data into training features and training targets\n",
    "trainX, trainY = create_dataset(train, look_back)\n",
    "\n",
    "# Split the data into testing features and testing targets\n",
    "testX, testY = create_dataset(test, look_back)"
   ]
  },
  {
   "cell_type": "markdown",
   "metadata": {},
   "source": [
    "### Print out the shape of the data\n",
    "\n",
    "Always a good idea to print the shapes to make sure that everything worked well."
   ]
  },
  {
   "cell_type": "code",
   "execution_count": 19,
   "metadata": {
    "scrolled": false
   },
   "outputs": [
    {
     "name": "stdout",
     "output_type": "stream",
     "text": [
      "Train X shape  (413, 12)\n",
      "Train Y shape (413,)\n",
      "Test X shape  (197, 12)\n",
      "Test Y shape  (197,)\n"
     ]
    }
   ],
   "source": [
    "print('Train X shape ',trainX.shape)\n",
    "print('Train Y shape',trainY.shape)\n",
    "print('Test X shape ',testX.shape)\n",
    "print('Test Y shape ',testY.shape)"
   ]
  },
  {
   "cell_type": "markdown",
   "metadata": {},
   "source": [
    "## Things will start making sense from here onwards"
   ]
  },
  {
   "cell_type": "code",
   "execution_count": 20,
   "metadata": {
    "scrolled": false
   },
   "outputs": [
    {
     "data": {
      "text/html": [
       "<div>\n",
       "<style scoped>\n",
       "    .dataframe tbody tr th:only-of-type {\n",
       "        vertical-align: middle;\n",
       "    }\n",
       "\n",
       "    .dataframe tbody tr th {\n",
       "        vertical-align: top;\n",
       "    }\n",
       "\n",
       "    .dataframe thead th {\n",
       "        text-align: right;\n",
       "    }\n",
       "</style>\n",
       "<table border=\"1\" class=\"dataframe\">\n",
       "  <thead>\n",
       "    <tr style=\"text-align: right;\">\n",
       "      <th></th>\n",
       "      <th>1</th>\n",
       "      <th>2</th>\n",
       "      <th>3</th>\n",
       "      <th>4</th>\n",
       "      <th>5</th>\n",
       "      <th>6</th>\n",
       "      <th>7</th>\n",
       "      <th>8</th>\n",
       "      <th>9</th>\n",
       "      <th>10</th>\n",
       "      <th>11</th>\n",
       "      <th>12</th>\n",
       "    </tr>\n",
       "  </thead>\n",
       "  <tbody>\n",
       "    <tr>\n",
       "      <th>0</th>\n",
       "      <td>315.62</td>\n",
       "      <td>316.38</td>\n",
       "      <td>316.71</td>\n",
       "      <td>317.72</td>\n",
       "      <td>318.29</td>\n",
       "      <td>318.15</td>\n",
       "      <td>316.54</td>\n",
       "      <td>314.80</td>\n",
       "      <td>313.84</td>\n",
       "      <td>313.26</td>\n",
       "      <td>314.80</td>\n",
       "      <td>315.58</td>\n",
       "    </tr>\n",
       "    <tr>\n",
       "      <th>1</th>\n",
       "      <td>316.43</td>\n",
       "      <td>316.97</td>\n",
       "      <td>317.58</td>\n",
       "      <td>319.02</td>\n",
       "      <td>320.03</td>\n",
       "      <td>319.59</td>\n",
       "      <td>318.18</td>\n",
       "      <td>315.91</td>\n",
       "      <td>314.16</td>\n",
       "      <td>313.83</td>\n",
       "      <td>315.00</td>\n",
       "      <td>316.19</td>\n",
       "    </tr>\n",
       "    <tr>\n",
       "      <th>2</th>\n",
       "      <td>316.93</td>\n",
       "      <td>317.70</td>\n",
       "      <td>318.54</td>\n",
       "      <td>319.48</td>\n",
       "      <td>320.58</td>\n",
       "      <td>319.77</td>\n",
       "      <td>318.57</td>\n",
       "      <td>316.79</td>\n",
       "      <td>314.80</td>\n",
       "      <td>315.38</td>\n",
       "      <td>316.10</td>\n",
       "      <td>317.01</td>\n",
       "    </tr>\n",
       "    <tr>\n",
       "      <th>3</th>\n",
       "      <td>317.94</td>\n",
       "      <td>318.56</td>\n",
       "      <td>319.68</td>\n",
       "      <td>320.63</td>\n",
       "      <td>321.01</td>\n",
       "      <td>320.55</td>\n",
       "      <td>319.58</td>\n",
       "      <td>317.40</td>\n",
       "      <td>316.26</td>\n",
       "      <td>315.42</td>\n",
       "      <td>316.69</td>\n",
       "      <td>317.69</td>\n",
       "    </tr>\n",
       "    <tr>\n",
       "      <th>4</th>\n",
       "      <td>318.74</td>\n",
       "      <td>319.08</td>\n",
       "      <td>319.86</td>\n",
       "      <td>321.39</td>\n",
       "      <td>322.25</td>\n",
       "      <td>321.47</td>\n",
       "      <td>319.74</td>\n",
       "      <td>317.77</td>\n",
       "      <td>316.21</td>\n",
       "      <td>315.99</td>\n",
       "      <td>317.12</td>\n",
       "      <td>318.31</td>\n",
       "    </tr>\n",
       "  </tbody>\n",
       "</table>\n",
       "</div>"
      ],
      "text/plain": [
       "        1       2       3       4       5       6       7       8       9  \\\n",
       "0  315.62  316.38  316.71  317.72  318.29  318.15  316.54  314.80  313.84   \n",
       "1  316.43  316.97  317.58  319.02  320.03  319.59  318.18  315.91  314.16   \n",
       "2  316.93  317.70  318.54  319.48  320.58  319.77  318.57  316.79  314.80   \n",
       "3  317.94  318.56  319.68  320.63  321.01  320.55  319.58  317.40  316.26   \n",
       "4  318.74  319.08  319.86  321.39  322.25  321.47  319.74  317.77  316.21   \n",
       "\n",
       "       10      11      12  \n",
       "0  313.26  314.80  315.58  \n",
       "1  313.83  315.00  316.19  \n",
       "2  315.38  316.10  317.01  \n",
       "3  315.42  316.69  317.69  \n",
       "4  315.99  317.12  318.31  "
      ]
     },
     "execution_count": 20,
     "metadata": {},
     "output_type": "execute_result"
    }
   ],
   "source": [
    "dataframe.head()"
   ]
  },
  {
   "cell_type": "markdown",
   "metadata": {},
   "source": [
    "### Here is training example 1. \n",
    "\n",
    "Double (red) lines shows the 12 training examples, and the single (blue) line shows the 1 test example.\n",
    "\n",
    "Here of values are not normalised."
   ]
  },
  {
   "cell_type": "markdown",
   "metadata": {},
   "source": [
    "<img src=\"example1.png\">"
   ]
  },
  {
   "cell_type": "markdown",
   "metadata": {},
   "source": [
    "### Here is training example 2. \n",
    "\n",
    "Double (red) lines shows the 12 training examples, and the single (blue) line shows the 1 test example.\n",
    "\n",
    "Here of values are not normalised.\n",
    "\n",
    "<i> Can you notice how the lines have shifted? This is how we construct training and test data for time-series problems. </i>"
   ]
  },
  {
   "cell_type": "markdown",
   "metadata": {},
   "source": [
    "<img src=\"example2.png\">"
   ]
  },
  {
   "cell_type": "markdown",
   "metadata": {},
   "source": [
    "## We can also check this in numpy.\n",
    "\n",
    "You can verify the first and second training examples to the 14 first points in the vector below."
   ]
  },
  {
   "cell_type": "markdown",
   "metadata": {},
   "source": [
    "First take the look at the first 14 points in the normalised dataset. We will reference to this to show you how the training and testing data was constructed."
   ]
  },
  {
   "cell_type": "code",
   "execution_count": 21,
   "metadata": {},
   "outputs": [
    {
     "data": {
      "text/plain": [
       "array([[0.02917171],\n",
       "       [0.03856611],\n",
       "       [0.04264498],\n",
       "       [0.05512977],\n",
       "       [0.06217551],\n",
       "       [0.06044483],\n",
       "       [0.04054403],\n",
       "       [0.01903558],\n",
       "       [0.00716925],\n",
       "       [0.        ],\n",
       "       [0.01903558],\n",
       "       [0.02867723],\n",
       "       [0.03918409],\n",
       "       [0.0458591 ]], dtype=float32)"
      ]
     },
     "execution_count": 21,
     "metadata": {},
     "output_type": "execute_result"
    }
   ],
   "source": [
    "dataset_vector[0:14]"
   ]
  },
  {
   "cell_type": "markdown",
   "metadata": {},
   "source": [
    "The first training example was the first 12 data points"
   ]
  },
  {
   "cell_type": "code",
   "execution_count": 22,
   "metadata": {},
   "outputs": [
    {
     "data": {
      "text/plain": [
       "array([0.02917171, 0.03856611, 0.04264498, 0.05512977, 0.06217551,\n",
       "       0.06044483, 0.04054403, 0.01903558, 0.00716925, 0.        ,\n",
       "       0.01903558, 0.02867723], dtype=float32)"
      ]
     },
     "execution_count": 22,
     "metadata": {},
     "output_type": "execute_result"
    }
   ],
   "source": [
    "trainX[0]"
   ]
  },
  {
   "cell_type": "markdown",
   "metadata": {},
   "source": [
    "The test example is actually the 13th month (i.e. the first month in the 2nd year)"
   ]
  },
  {
   "cell_type": "code",
   "execution_count": 23,
   "metadata": {},
   "outputs": [
    {
     "data": {
      "text/plain": [
       "0.039184093"
      ]
     },
     "execution_count": 23,
     "metadata": {},
     "output_type": "execute_result"
    }
   ],
   "source": [
    "trainY[0]"
   ]
  },
  {
   "cell_type": "markdown",
   "metadata": {},
   "source": [
    "The second training example is the 2nd month to the 13th month <b>(can you see how we shifted everything by 1 time step) </b>"
   ]
  },
  {
   "cell_type": "code",
   "execution_count": 24,
   "metadata": {
    "scrolled": true
   },
   "outputs": [
    {
     "data": {
      "text/plain": [
       "array([0.03856611, 0.04264498, 0.05512977, 0.06217551, 0.06044483,\n",
       "       0.04054403, 0.01903558, 0.00716925, 0.        , 0.01903558,\n",
       "       0.02867723, 0.03918409], dtype=float32)"
      ]
     },
     "execution_count": 24,
     "metadata": {},
     "output_type": "execute_result"
    }
   ],
   "source": [
    "trainX[1]"
   ]
  },
  {
   "cell_type": "markdown",
   "metadata": {},
   "source": [
    "The second testing example is the 14th month (i.e. the second month in the 2nd year)."
   ]
  },
  {
   "cell_type": "code",
   "execution_count": 25,
   "metadata": {},
   "outputs": [
    {
     "data": {
      "text/plain": [
       "0.0458591"
      ]
     },
     "execution_count": 25,
     "metadata": {},
     "output_type": "execute_result"
    }
   ],
   "source": [
    "trainY[1]"
   ]
  },
  {
   "cell_type": "markdown",
   "metadata": {},
   "source": [
    "## Reshape to [samples, timesteps, features]\n",
    "\n",
    "We need to reshape the data into [samples, timesteps, features] as this is what Keras expects.\n",
    "\n",
    "Samples denotes each example. (e.g. we have 413 training examples and 197 test examples)\n",
    "\n",
    "Time steps denotes each time step for each of the points. In our case we have 12 time steps.\n",
    "\n",
    "It is possible that you have multiple features at each time step. In our dataset we just a single carbon emission feature at each time step hence we use a value of one."
   ]
  },
  {
   "cell_type": "code",
   "execution_count": 26,
   "metadata": {},
   "outputs": [],
   "source": [
    "trainX = np.reshape(trainX, (trainX.shape[0], trainX.shape[1], 1))\n",
    "testX = np.reshape(testX, (testX.shape[0], testX.shape[1], 1))"
   ]
  },
  {
   "cell_type": "markdown",
   "metadata": {},
   "source": [
    "### Check that the numpy reshape function actually did what we wanted.\n",
    "\n",
    "Here we want [samples, timesteps, features]. And indeed the output for training is (413, 12, 1) whereby we have 413 training samples, 12 time steps for each point, and there is only 1 feature per time step."
   ]
  },
  {
   "cell_type": "code",
   "execution_count": 27,
   "metadata": {
    "scrolled": false
   },
   "outputs": [
    {
     "name": "stdout",
     "output_type": "stream",
     "text": [
      "Train X shape  (413, 12, 1)\n",
      "Train Y shape (413,)\n",
      "Test X shape  (197, 12, 1)\n",
      "Test Y shape  (197,)\n"
     ]
    }
   ],
   "source": [
    "print('Train X shape ',trainX.shape)\n",
    "print('Train Y shape',trainY.shape)\n",
    "print('Test X shape ',testX.shape)\n",
    "print('Test Y shape ',testY.shape)"
   ]
  },
  {
   "cell_type": "markdown",
   "metadata": {},
   "source": [
    "# Now it's time to make the LSTM models!"
   ]
  },
  {
   "cell_type": "markdown",
   "metadata": {},
   "source": [
    "<hr>"
   ]
  },
  {
   "cell_type": "markdown",
   "metadata": {},
   "source": [
    "## Create a (stateless) LSTM model\n",
    "\n",
    "Here is where we create the LSTM model in Keras"
   ]
  },
  {
   "cell_type": "code",
   "execution_count": 28,
   "metadata": {
    "collapsed": true
   },
   "outputs": [],
   "source": [
    "# Define the model in Keras\n",
    "model = Sequential()\n",
    "\n",
    "# This is how we add an LSTM cell. (We can stack multiple cells on top of each other by repeating this line)\n",
    "model.add(LSTM(8, batch_input_shape=(None, 12, 1), stateful=False))\n",
    "\n",
    "# We have to add a fully connected layer of the LSTM to output the predictions. Here we only have 1 node because\n",
    "# our time-series prediction is expecting one output. \n",
    "model.add(Dense(1))\n",
    "\n",
    "# We define our loss function. Here since we are dealing with numerical data, one option is to use mean squared error.\n",
    "model.compile(loss='mean_squared_error', optimizer='adam')"
   ]
  },
  {
   "cell_type": "code",
   "execution_count": 29,
   "metadata": {
    "scrolled": false
   },
   "outputs": [
    {
     "name": "stdout",
     "output_type": "stream",
     "text": [
      "_________________________________________________________________\n",
      "Layer (type)                 Output Shape              Param #   \n",
      "=================================================================\n",
      "lstm_1 (LSTM)                (None, 8)                 320       \n",
      "_________________________________________________________________\n",
      "dense_1 (Dense)              (None, 1)                 9         \n",
      "=================================================================\n",
      "Total params: 329\n",
      "Trainable params: 329\n",
      "Non-trainable params: 0\n",
      "_________________________________________________________________\n"
     ]
    }
   ],
   "source": [
    "# Check the number of parameters. Always a good idea to take a look at the model from Keras' point of view\n",
    "model.summary()"
   ]
  },
  {
   "cell_type": "markdown",
   "metadata": {},
   "source": [
    "### Start training the model\n",
    "\n",
    "We need to specify a few things:\n",
    "\n",
    "<li> training features\n",
    "<li> training targets\n",
    "<li> number of epochs\n",
    "<li> batch size\n",
    "\n",
    "We also mention the verbose which denotes how much we are outputing to the screen during the training process"
   ]
  },
  {
   "cell_type": "code",
   "execution_count": 30,
   "metadata": {
    "scrolled": false
   },
   "outputs": [
    {
     "name": "stdout",
     "output_type": "stream",
     "text": [
      "Epoch 1/15\n",
      " - 3s - loss: 0.0042\n",
      "Epoch 2/15\n",
      " - 1s - loss: 0.0147\n",
      "Epoch 3/15\n",
      " - 1s - loss: 0.0057\n",
      "Epoch 4/15\n",
      " - 1s - loss: 0.0022\n",
      "Epoch 5/15\n",
      " - 1s - loss: 0.0011\n",
      "Epoch 6/15\n",
      " - 1s - loss: 8.9307e-04\n",
      "Epoch 7/15\n",
      " - 1s - loss: 8.7283e-04\n",
      "Epoch 8/15\n",
      " - 1s - loss: 8.7113e-04\n",
      "Epoch 9/15\n",
      " - 1s - loss: 8.6866e-04\n",
      "Epoch 10/15\n",
      " - 1s - loss: 8.6383e-04\n",
      "Epoch 11/15\n",
      " - 1s - loss: 8.5713e-04\n",
      "Epoch 12/15\n",
      " - 1s - loss: 8.4959e-04\n",
      "Epoch 13/15\n",
      " - 1s - loss: 8.4169e-04\n",
      "Epoch 14/15\n",
      " - 1s - loss: 8.3367e-04\n",
      "Epoch 15/15\n",
      " - 1s - loss: 8.2575e-04\n"
     ]
    },
    {
     "data": {
      "text/plain": [
       "<keras.callbacks.History at 0x7ff419fb75c0>"
      ]
     },
     "execution_count": 30,
     "metadata": {},
     "output_type": "execute_result"
    }
   ],
   "source": [
    "model.fit(trainX, trainY, epochs=15, batch_size=10, verbose = 2, shuffle=False)"
   ]
  },
  {
   "cell_type": "markdown",
   "metadata": {},
   "source": [
    "## Predict on the test data and prepare the data for plotting"
   ]
  },
  {
   "cell_type": "code",
   "execution_count": 31,
   "metadata": {},
   "outputs": [],
   "source": [
    "batch_size=10\n",
    "# Estimate model performance\n",
    "trainScore = model.evaluate(trainX, trainY, batch_size=batch_size, verbose=0)\n",
    "model.reset_states()\n",
    "trainScore = math.sqrt(trainScore)\n",
    "trainScore = scaler.inverse_transform(np.array([[trainScore]]))\n",
    "\n",
    "testScore = model.evaluate(testX, testY, batch_size=batch_size, verbose=0)\n",
    "model.reset_states()\n",
    "testScore = math.sqrt(testScore)\n",
    "testScore = scaler.inverse_transform(np.array([[testScore]]))\n",
    "\n",
    "# generate predictions for training\n",
    "trainPredict = model.predict(trainX, batch_size=batch_size)\n",
    "testPredict = model.predict(testX, batch_size=batch_size)\n",
    "# shift train predictions for plotting\n",
    "trainPredictPlot = np.empty_like(dataset_vector)\n",
    "trainPredictPlot[:, :] = np.nan\n",
    "trainPredictPlot[look_back:len(trainPredict)+look_back, :] = trainPredict\n",
    "\n",
    "# shift test predictions for plotting\n",
    "testPredictPlot = np.empty_like(dataset_vector)\n",
    "testPredictPlot[:, :] = np.nan\n",
    "testPredictPlot[len(trainPredict)+(look_back*2)+1:len(dataset_vector)-1, :] = testPredict"
   ]
  },
  {
   "cell_type": "markdown",
   "metadata": {},
   "source": [
    "## Plot the predictions and the correct targets"
   ]
  },
  {
   "cell_type": "code",
   "execution_count": 32,
   "metadata": {},
   "outputs": [
    {
     "data": {
      "image/png": "[encoded data removed]",
      "text/plain": [
       "<matplotlib.figure.Figure at 0x7ff4184cfeb8>"
      ]
     },
     "metadata": {},
     "output_type": "display_data"
    }
   ],
   "source": [
    "plt.plot(dataset_vector)\n",
    "plt.plot(trainPredictPlot)\n",
    "plt.plot(testPredictPlot)\n",
    "plt.show()"
   ]
  },
  {
   "cell_type": "markdown",
   "metadata": {},
   "source": [
    "<hr>"
   ]
  },
  {
   "cell_type": "markdown",
   "metadata": {},
   "source": [
    "# Stateful model\n",
    "\n",
    "In the stateless LSTM configuration, <b>internal state is reset after each training batch</b> or each batch when making predictions."
   ]
  },
  {
   "cell_type": "code",
   "execution_count": 33,
   "metadata": {
    "collapsed": true
   },
   "outputs": [],
   "source": [
    "# Define the model in Keras\n",
    "model = Sequential()"
   ]
  },
  {
   "cell_type": "code",
   "execution_count": 34,
   "metadata": {},
   "outputs": [],
   "source": [
    "# This is how we add an LSTM cell. (We can stack multiple cells on top of each other by repeating this line)\n",
    "model.add(LSTM(8, batch_input_shape=(1, 12, 1), stateful=True))"
   ]
  },
  {
   "cell_type": "code",
   "execution_count": 35,
   "metadata": {
    "collapsed": true
   },
   "outputs": [],
   "source": [
    "# We have to add a fully connected layer of the LSTM to output the predictions. Here we only have 1 node because\n",
    "# our time-series prediction is expecting one output. \n",
    "model.add(Dense(1))"
   ]
  },
  {
   "cell_type": "code",
   "execution_count": 36,
   "metadata": {
    "collapsed": true
   },
   "outputs": [],
   "source": [
    "# We define our loss function. Here since we are dealing with numerical data, one option is to use mean squared error.\n",
    "model.compile(loss='mean_squared_error', optimizer='adam')"
   ]
  },
  {
   "cell_type": "code",
   "execution_count": 37,
   "metadata": {
    "scrolled": true
   },
   "outputs": [
    {
     "name": "stdout",
     "output_type": "stream",
     "text": [
      "_________________________________________________________________\n",
      "Layer (type)                 Output Shape              Param #   \n",
      "=================================================================\n",
      "lstm_2 (LSTM)                (1, 8)                    320       \n",
      "_________________________________________________________________\n",
      "dense_2 (Dense)              (1, 1)                    9         \n",
      "=================================================================\n",
      "Total params: 329\n",
      "Trainable params: 329\n",
      "Non-trainable params: 0\n",
      "_________________________________________________________________\n"
     ]
    }
   ],
   "source": [
    "# Check the number of parameters. Always a good idea to take a look at the model from Keras' point of view\n",
    "model.summary()"
   ]
  },
  {
   "cell_type": "markdown",
   "metadata": {},
   "source": [
    "## Training is done slightly differently for a stateful model\n",
    "\n",
    "A number of points:\n",
    "\n",
    "<li>Here we have a for loop.\n",
    "\n",
    "<li>In each iteration of the for loop we fit the model on a number of epochs, in this case 1 epoch per iteration.\n",
    "\n",
    "<li>After each fitting of the model on the epochs, we reset the cell states by calling the reset_states() function. \n",
    "\n",
    "<li>Remember that in a stateless model the cell states are reset after each training batch. So here we keep the cell states between batches."
   ]
  },
  {
   "cell_type": "code",
   "execution_count": 38,
   "metadata": {},
   "outputs": [
    {
     "name": "stdout",
     "output_type": "stream",
     "text": [
      "Epoch 1/1\n",
      " - 8s - loss: 0.0011\n",
      "Epoch 1/1\n",
      " - 6s - loss: 0.0021\n",
      "Epoch 1/1\n",
      " - 6s - loss: 0.0015\n",
      "Epoch 1/1\n",
      " - 7s - loss: 0.0012\n",
      "Epoch 1/1\n",
      " - 7s - loss: 0.0010\n",
      "Epoch 1/1\n",
      " - 6s - loss: 9.4587e-04\n",
      "Epoch 1/1\n",
      " - 7s - loss: 9.0576e-04\n",
      "Epoch 1/1\n",
      " - 7s - loss: 8.7854e-04\n",
      "Epoch 1/1\n",
      " - 7s - loss: 8.5559e-04\n",
      "Epoch 1/1\n",
      " - 11s - loss: 8.3413e-04\n"
     ]
    }
   ],
   "source": [
    "for i in range(10):\n",
    "    model.fit(trainX, trainY, epochs=1, batch_size=1, verbose=2, shuffle=False)\n",
    "    model.reset_states()\n",
    "# Estimate model performance"
   ]
  },
  {
   "cell_type": "markdown",
   "metadata": {},
   "source": [
    "## Predict on the test data and prepare the data for plotting"
   ]
  },
  {
   "cell_type": "code",
   "execution_count": 39,
   "metadata": {},
   "outputs": [],
   "source": [
    "# Estimate model performance\n",
    "trainScore = model.evaluate(trainX, trainY, batch_size=1, verbose=0)\n",
    "model.reset_states()\n",
    "trainScore = math.sqrt(trainScore)\n",
    "trainScore = scaler.inverse_transform(np.array([[trainScore]]))\n",
    "\n",
    "testScore = model.evaluate(testX, testY, batch_size=1, verbose=0)\n",
    "model.reset_states()\n",
    "testScore = math.sqrt(testScore)\n",
    "testScore = scaler.inverse_transform(np.array([[testScore]]))\n",
    "\n",
    "# generate predictions for training\n",
    "trainPredict = model.predict(trainX, batch_size=1)\n",
    "testPredict = model.predict(testX, batch_size=1)\n",
    "# shift train predictions for plotting\n",
    "trainPredictPlot = np.empty_like(dataset_vector)\n",
    "trainPredictPlot[:, :] = np.nan\n",
    "trainPredictPlot[look_back:len(trainPredict)+look_back, :] = trainPredict\n",
    "\n",
    "# shift test predictions for plotting\n",
    "testPredictPlot = np.empty_like(dataset_vector)\n",
    "testPredictPlot[:, :] = np.nan\n",
    "testPredictPlot[len(trainPredict)+(look_back*2)+1:len(dataset_vector)-1, :] = testPredict"
   ]
  },
  {
   "cell_type": "markdown",
   "metadata": {},
   "source": [
    "## Plot the predictions and the correct targets"
   ]
  },
  {
   "cell_type": "code",
   "execution_count": 40,
   "metadata": {},
   "outputs": [
    {
     "data": {
      "image/png": "[encoded data removed]",
      "text/plain": [
       "<matplotlib.figure.Figure at 0x7ff40ebdd160>"
      ]
     },
     "metadata": {},
     "output_type": "display_data"
    }
   ],
   "source": [
    "plt.plot(dataset_vector)\n",
    "plt.plot(trainPredictPlot)\n",
    "plt.plot(testPredictPlot)\n",
    "plt.show()"
   ]
  },
  {
   "cell_type": "markdown",
   "metadata": {},
   "source": [
    "<hr>"
   ]
  },
  {
   "cell_type": "markdown",
   "metadata": {},
   "source": [
    "### Hyper-parameters\n",
    "\n",
    "There are a few tips on how to tune the hyper-parameters for LSTMs here: https://deeplearning4j.org/lstm.html#tuning Note that those tips contain information about another programming library (DL4J), however everything they refer to has equivalents in Keras."
   ]
  },
  {
   "cell_type": "code",
   "execution_count": null,
   "metadata": {
    "collapsed": true
   },
   "outputs": [],
   "source": []
  },
  {
   "cell_type": "code",
   "execution_count": 41,
   "metadata": {},
   "outputs": [],
   "source": [
    "dataframe = pd.read_csv('Hourly_scaled_data_2011_12.csv', engine= 'python')"
   ]
  },
  {
   "cell_type": "code",
   "execution_count": 42,
   "metadata": {
    "scrolled": true
   },
   "outputs": [
    {
     "data": {
      "text/html": [
       "<div>\n",
       "<style scoped>\n",
       "    .dataframe tbody tr th:only-of-type {\n",
       "        vertical-align: middle;\n",
       "    }\n",
       "\n",
       "    .dataframe tbody tr th {\n",
       "        vertical-align: top;\n",
       "    }\n",
       "\n",
       "    .dataframe thead th {\n",
       "        text-align: right;\n",
       "    }\n",
       "</style>\n",
       "<table border=\"1\" class=\"dataframe\">\n",
       "  <thead>\n",
       "    <tr style=\"text-align: right;\">\n",
       "      <th></th>\n",
       "      <th>WS_62_mean</th>\n",
       "      <th>WS_40_mean</th>\n",
       "      <th>WS_20_mean</th>\n",
       "      <th>WS_10_mean</th>\n",
       "      <th>WD_60_mean</th>\n",
       "      <th>WD_20_mean</th>\n",
       "      <th>Tair_mean</th>\n",
       "      <th>Tgrad_mean</th>\n",
       "      <th>Pbaro_mean</th>\n",
       "      <th>RH_mean</th>\n",
       "      <th>WS_60_mean</th>\n",
       "    </tr>\n",
       "  </thead>\n",
       "  <tbody>\n",
       "    <tr>\n",
       "      <th>0</th>\n",
       "      <td>0.262530</td>\n",
       "      <td>0.261919</td>\n",
       "      <td>0.134473</td>\n",
       "      <td>0.001165</td>\n",
       "      <td>-2.306711</td>\n",
       "      <td>2.005896</td>\n",
       "      <td>-0.033966</td>\n",
       "      <td>-0.452485</td>\n",
       "      <td>-0.126758</td>\n",
       "      <td>1.063844</td>\n",
       "      <td>0.296444</td>\n",
       "    </tr>\n",
       "    <tr>\n",
       "      <th>1</th>\n",
       "      <td>0.671738</td>\n",
       "      <td>0.712974</td>\n",
       "      <td>0.616906</td>\n",
       "      <td>0.494429</td>\n",
       "      <td>-2.316548</td>\n",
       "      <td>2.023062</td>\n",
       "      <td>-0.029837</td>\n",
       "      <td>-0.453142</td>\n",
       "      <td>-0.170394</td>\n",
       "      <td>1.137144</td>\n",
       "      <td>0.704231</td>\n",
       "    </tr>\n",
       "    <tr>\n",
       "      <th>2</th>\n",
       "      <td>0.383313</td>\n",
       "      <td>0.403471</td>\n",
       "      <td>0.343874</td>\n",
       "      <td>0.291723</td>\n",
       "      <td>1.850710</td>\n",
       "      <td>1.838378</td>\n",
       "      <td>-0.079384</td>\n",
       "      <td>-0.456427</td>\n",
       "      <td>-0.279494</td>\n",
       "      <td>1.160050</td>\n",
       "      <td>0.409122</td>\n",
       "    </tr>\n",
       "    <tr>\n",
       "      <th>3</th>\n",
       "      <td>0.698776</td>\n",
       "      <td>0.729941</td>\n",
       "      <td>0.577902</td>\n",
       "      <td>0.386307</td>\n",
       "      <td>1.465410</td>\n",
       "      <td>1.312413</td>\n",
       "      <td>0.228220</td>\n",
       "      <td>0.803476</td>\n",
       "      <td>-0.246765</td>\n",
       "      <td>0.674442</td>\n",
       "      <td>0.695297</td>\n",
       "    </tr>\n",
       "    <tr>\n",
       "      <th>4</th>\n",
       "      <td>-0.532456</td>\n",
       "      <td>-0.505240</td>\n",
       "      <td>-0.571279</td>\n",
       "      <td>-0.662186</td>\n",
       "      <td>1.921305</td>\n",
       "      <td>1.907377</td>\n",
       "      <td>-0.118608</td>\n",
       "      <td>-0.384826</td>\n",
       "      <td>-0.214036</td>\n",
       "      <td>1.219605</td>\n",
       "      <td>-0.504841</td>\n",
       "    </tr>\n",
       "  </tbody>\n",
       "</table>\n",
       "</div>"
      ],
      "text/plain": [
       "   WS_62_mean  WS_40_mean  WS_20_mean  WS_10_mean  WD_60_mean  WD_20_mean  \\\n",
       "0    0.262530    0.261919    0.134473    0.001165   -2.306711    2.005896   \n",
       "1    0.671738    0.712974    0.616906    0.494429   -2.316548    2.023062   \n",
       "2    0.383313    0.403471    0.343874    0.291723    1.850710    1.838378   \n",
       "3    0.698776    0.729941    0.577902    0.386307    1.465410    1.312413   \n",
       "4   -0.532456   -0.505240   -0.571279   -0.662186    1.921305    1.907377   \n",
       "\n",
       "   Tair_mean  Tgrad_mean  Pbaro_mean   RH_mean  WS_60_mean  \n",
       "0  -0.033966   -0.452485   -0.126758  1.063844    0.296444  \n",
       "1  -0.029837   -0.453142   -0.170394  1.137144    0.704231  \n",
       "2  -0.079384   -0.456427   -0.279494  1.160050    0.409122  \n",
       "3   0.228220    0.803476   -0.246765  0.674442    0.695297  \n",
       "4  -0.118608   -0.384826   -0.214036  1.219605   -0.504841  "
      ]
     },
     "execution_count": 42,
     "metadata": {},
     "output_type": "execute_result"
    }
   ],
   "source": [
    "dataframe.head()"
   ]
  },
  {
   "cell_type": "code",
   "execution_count": 43,
   "metadata": {},
   "outputs": [],
   "source": [
    "def create_dataset(dataset, look_back=1):\n",
    "    dataX, dataY = [], []\n",
    "    for i in range(len(dataset)-look_back-1):\n",
    "        a = dataset[i:(i+look_back), 0]\n",
    "        dataX.append(a)\n",
    "        dataY.append(dataset[i + look_back, 0])\n",
    "    return np.array(dataX), np.array(dataY)"
   ]
  },
  {
   "cell_type": "code",
   "execution_count": 44,
   "metadata": {
    "collapsed": true
   },
   "outputs": [],
   "source": [
    "train = (dataframe.values[0:10000,-1])"
   ]
  },
  {
   "cell_type": "code",
   "execution_count": 45,
   "metadata": {
    "collapsed": true
   },
   "outputs": [],
   "source": [
    "train = train.reshape(-1,1)"
   ]
  },
  {
   "cell_type": "code",
   "execution_count": 46,
   "metadata": {},
   "outputs": [
    {
     "data": {
      "text/plain": [
       "(10000, 1)"
      ]
     },
     "execution_count": 46,
     "metadata": {},
     "output_type": "execute_result"
    }
   ],
   "source": [
    "np.shape(train)"
   ]
  },
  {
   "cell_type": "code",
   "execution_count": 47,
   "metadata": {},
   "outputs": [],
   "source": [
    "look_back = 2\n",
    "\n",
    "# Split the data into training features and training targets\n",
    "trainX, trainY = create_dataset(train, look_back)\n",
    "\n",
    "# Split the data into testing features and testing targets\n",
    "#testX, testY = create_dataset(test, look_back)"
   ]
  },
  {
   "cell_type": "code",
   "execution_count": 48,
   "metadata": {
    "collapsed": true
   },
   "outputs": [],
   "source": [
    "trainX = np.reshape(trainX, (trainX.shape[0], trainX.shape[1], 1))\n",
    "testX = np.reshape(testX, (testX.shape[0], testX.shape[1], 1))"
   ]
  },
  {
   "cell_type": "code",
   "execution_count": 49,
   "metadata": {},
   "outputs": [
    {
     "data": {
      "text/plain": [
       "(9997, 2, 1)"
      ]
     },
     "execution_count": 49,
     "metadata": {},
     "output_type": "execute_result"
    }
   ],
   "source": [
    "np.shape(trainX)"
   ]
  },
  {
   "cell_type": "code",
   "execution_count": 50,
   "metadata": {},
   "outputs": [
    {
     "data": {
      "text/plain": [
       "(9997,)"
      ]
     },
     "execution_count": 50,
     "metadata": {},
     "output_type": "execute_result"
    }
   ],
   "source": [
    "np.shape(trainY)"
   ]
  },
  {
   "cell_type": "code",
   "execution_count": 51,
   "metadata": {},
   "outputs": [],
   "source": [
    "#trainX[0:2]"
   ]
  },
  {
   "cell_type": "code",
   "execution_count": 52,
   "metadata": {
    "collapsed": true
   },
   "outputs": [],
   "source": [
    "batch_size = 24"
   ]
  },
  {
   "cell_type": "code",
   "execution_count": 53,
   "metadata": {},
   "outputs": [],
   "source": [
    "# Define the model in Keras\n",
    "model = Sequential()\n",
    "\n",
    "# This is how we add an LSTM cell. (We can stack multiple cells on top of each other by repeating this line)\n",
    "model.add(LSTM(310, batch_input_shape=(batch_size, look_back, 1), stateful=True))\n",
    "# We have to add a fully connected layer of the LSTM to output the predictions. Here we only have 1 node because\n",
    "# our time-series prediction is expecting one output. \n",
    "model.add(Dense(1))\n",
    "\n",
    "# We define our loss function. Here since we are dealing with numerical data, one option is to use mean squared error.\n",
    "model.compile(loss='mean_squared_error', optimizer='adam')"
   ]
  },
  {
   "cell_type": "code",
   "execution_count": 54,
   "metadata": {},
   "outputs": [
    {
     "name": "stdout",
     "output_type": "stream",
     "text": [
      "_________________________________________________________________\n",
      "Layer (type)                 Output Shape              Param #   \n",
      "=================================================================\n",
      "lstm_3 (LSTM)                (24, 310)                 386880    \n",
      "_________________________________________________________________\n",
      "dense_3 (Dense)              (24, 1)                   311       \n",
      "=================================================================\n",
      "Total params: 387,191\n",
      "Trainable params: 387,191\n",
      "Non-trainable params: 0\n",
      "_________________________________________________________________\n"
     ]
    }
   ],
   "source": [
    "# Check the number of parameters. Always a good idea to take a look at the model from Keras' point of view\n",
    "model.summary()"
   ]
  },
  {
   "cell_type": "code",
   "execution_count": 55,
   "metadata": {
    "collapsed": true
   },
   "outputs": [],
   "source": [
    "trainbatch = (trainX.shape[0]//batch_size)*batch_size"
   ]
  },
  {
   "cell_type": "code",
   "execution_count": 56,
   "metadata": {
    "collapsed": true
   },
   "outputs": [],
   "source": [
    "trainX = trainX[:trainbatch]\n",
    "trainY = trainY[:trainbatch]"
   ]
  },
  {
   "cell_type": "code",
   "execution_count": 57,
   "metadata": {},
   "outputs": [
    {
     "name": "stdout",
     "output_type": "stream",
     "text": [
      "Train X shape  (9984, 2, 1)\n",
      "Train Y shape (9984,)\n",
      "Test X shape  (197, 12, 1)\n",
      "Test Y shape  (197,)\n"
     ]
    }
   ],
   "source": [
    "print('Train X shape ',trainX.shape)\n",
    "print('Train Y shape',trainY.shape)\n",
    "print('Test X shape ',testX.shape)\n",
    "print('Test Y shape ',testY.shape)"
   ]
  },
  {
   "cell_type": "code",
   "execution_count": 58,
   "metadata": {},
   "outputs": [
    {
     "name": "stdout",
     "output_type": "stream",
     "text": [
      "Epoch 1/5\n",
      "9984/9984 [==============================] - 30s 3ms/step - loss: 0.3027\n",
      "Epoch 2/5\n",
      "9984/9984 [==============================] - 39s 4ms/step - loss: 0.1992\n",
      "Epoch 3/5\n",
      "9984/9984 [==============================] - 43s 4ms/step - loss: 0.1987\n",
      "Epoch 4/5\n",
      "9984/9984 [==============================] - 53s 5ms/step - loss: 0.1986\n",
      "Epoch 5/5\n",
      "9984/9984 [==============================] - 68s 7ms/step - loss: 0.1986\n"
     ]
    },
    {
     "data": {
      "text/plain": [
       "<keras.callbacks.History at 0x7ff40e592198>"
      ]
     },
     "execution_count": 58,
     "metadata": {},
     "output_type": "execute_result"
    }
   ],
   "source": [
    "model.fit(trainX, trainY, epochs=5, batch_size=batch_size, verbose = 1, shuffle=False)"
   ]
  },
  {
   "cell_type": "code",
   "execution_count": 59,
   "metadata": {},
   "outputs": [
    {
     "name": "stdout",
     "output_type": "stream",
     "text": [
      "Epoch 1/1\n",
      "9984/9984 [==============================] - 62s 6ms/step - loss: 0.1985\n",
      "Epoch 1/1\n",
      "9984/9984 [==============================] - 56s 6ms/step - loss: 0.1986\n",
      "Epoch 1/1\n",
      "9984/9984 [==============================] - 46s 5ms/step - loss: 0.1987\n",
      "Epoch 1/1\n",
      "9984/9984 [==============================] - 43s 4ms/step - loss: 0.1988\n",
      "Epoch 1/1\n",
      "9984/9984 [==============================] - 39s 4ms/step - loss: 0.1987\n"
     ]
    }
   ],
   "source": [
    "#model.fit(trainX, trainY, epochs=20, batch_size=2, verbose = 1, shuffle=False)\n",
    "for i in range(5):\n",
    "    model.fit(trainX, trainY, epochs=1, batch_size=batch_size, verbose=1, shuffle=False)\n",
    "    model.reset_states()"
   ]
  },
  {
   "cell_type": "code",
   "execution_count": null,
   "metadata": {},
   "outputs": [],
   "source": []
  },
  {
   "cell_type": "code",
   "execution_count": 60,
   "metadata": {},
   "outputs": [
    {
     "ename": "ValueError",
     "evalue": "Error when checking : expected lstm_3_input to have shape (24, 2, 1) but got array with shape (9984, 2, 1)",
     "output_type": "error",
     "traceback": [
      "\u001b[0;31m---------------------------------------------------------------------------\u001b[0m",
      "\u001b[0;31mValueError\u001b[0m                                Traceback (most recent call last)",
      "\u001b[0;32m<ipython-input-60-3061dd5e58b5>\u001b[0m in \u001b[0;36m<module>\u001b[0;34m()\u001b[0m\n\u001b[1;32m      1\u001b[0m \u001b[0mplt\u001b[0m\u001b[0;34m.\u001b[0m\u001b[0mplot\u001b[0m\u001b[0;34m(\u001b[0m\u001b[0mtrainY\u001b[0m\u001b[0;34m[\u001b[0m\u001b[0;34m:\u001b[0m\u001b[0;36m100\u001b[0m\u001b[0;34m]\u001b[0m\u001b[0;34m)\u001b[0m\u001b[0;34m\u001b[0m\u001b[0m\n\u001b[0;32m----> 2\u001b[0;31m \u001b[0mplt\u001b[0m\u001b[0;34m.\u001b[0m\u001b[0mplot\u001b[0m\u001b[0;34m(\u001b[0m\u001b[0mmodel\u001b[0m\u001b[0;34m.\u001b[0m\u001b[0mpredict_on_batch\u001b[0m\u001b[0;34m(\u001b[0m\u001b[0mtrainX\u001b[0m\u001b[0;34m)\u001b[0m\u001b[0;34m[\u001b[0m\u001b[0;34m:\u001b[0m\u001b[0;36m100\u001b[0m\u001b[0;34m]\u001b[0m\u001b[0;34m)\u001b[0m\u001b[0;34m\u001b[0m\u001b[0m\n\u001b[0m\u001b[1;32m      3\u001b[0m \u001b[0mplt\u001b[0m\u001b[0;34m.\u001b[0m\u001b[0mshow\u001b[0m\u001b[0;34m(\u001b[0m\u001b[0;34m)\u001b[0m\u001b[0;34m\u001b[0m\u001b[0m\n",
      "\u001b[0;32m~/.local/lib/python3.5/site-packages/keras/models.py\u001b[0m in \u001b[0;36mpredict_on_batch\u001b[0;34m(self, x)\u001b[0m\n\u001b[1;32m   1037\u001b[0m         \u001b[0;32mif\u001b[0m \u001b[0;32mnot\u001b[0m \u001b[0mself\u001b[0m\u001b[0;34m.\u001b[0m\u001b[0mbuilt\u001b[0m\u001b[0;34m:\u001b[0m\u001b[0;34m\u001b[0m\u001b[0m\n\u001b[1;32m   1038\u001b[0m             \u001b[0mself\u001b[0m\u001b[0;34m.\u001b[0m\u001b[0mbuild\u001b[0m\u001b[0;34m(\u001b[0m\u001b[0;34m)\u001b[0m\u001b[0;34m\u001b[0m\u001b[0m\n\u001b[0;32m-> 1039\u001b[0;31m         \u001b[0;32mreturn\u001b[0m \u001b[0mself\u001b[0m\u001b[0;34m.\u001b[0m\u001b[0mmodel\u001b[0m\u001b[0;34m.\u001b[0m\u001b[0mpredict_on_batch\u001b[0m\u001b[0;34m(\u001b[0m\u001b[0mx\u001b[0m\u001b[0;34m)\u001b[0m\u001b[0;34m\u001b[0m\u001b[0m\n\u001b[0m\u001b[1;32m   1040\u001b[0m \u001b[0;34m\u001b[0m\u001b[0m\n\u001b[1;32m   1041\u001b[0m     def train_on_batch(self, x, y, class_weight=None,\n",
      "\u001b[0;32m~/.local/lib/python3.5/site-packages/keras/engine/training.py\u001b[0m in \u001b[0;36mpredict_on_batch\u001b[0;34m(self, x)\u001b[0m\n\u001b[1;32m   1944\u001b[0m         \"\"\"\n\u001b[1;32m   1945\u001b[0m         x = _standardize_input_data(x, self._feed_input_names,\n\u001b[0;32m-> 1946\u001b[0;31m                                     self._feed_input_shapes)\n\u001b[0m\u001b[1;32m   1947\u001b[0m         \u001b[0;32mif\u001b[0m \u001b[0mself\u001b[0m\u001b[0;34m.\u001b[0m\u001b[0muses_learning_phase\u001b[0m \u001b[0;32mand\u001b[0m \u001b[0;32mnot\u001b[0m \u001b[0misinstance\u001b[0m\u001b[0;34m(\u001b[0m\u001b[0mK\u001b[0m\u001b[0;34m.\u001b[0m\u001b[0mlearning_phase\u001b[0m\u001b[0;34m(\u001b[0m\u001b[0;34m)\u001b[0m\u001b[0;34m,\u001b[0m \u001b[0mint\u001b[0m\u001b[0;34m)\u001b[0m\u001b[0;34m:\u001b[0m\u001b[0;34m\u001b[0m\u001b[0m\n\u001b[1;32m   1948\u001b[0m             \u001b[0mins\u001b[0m \u001b[0;34m=\u001b[0m \u001b[0mx\u001b[0m \u001b[0;34m+\u001b[0m \u001b[0;34m[\u001b[0m\u001b[0;36m0.\u001b[0m\u001b[0;34m]\u001b[0m\u001b[0;34m\u001b[0m\u001b[0m\n",
      "\u001b[0;32m~/.local/lib/python3.5/site-packages/keras/engine/training.py\u001b[0m in \u001b[0;36m_standardize_input_data\u001b[0;34m(data, names, shapes, check_batch_axis, exception_prefix)\u001b[0m\n\u001b[1;32m    121\u001b[0m                             \u001b[0;34m': expected '\u001b[0m \u001b[0;34m+\u001b[0m \u001b[0mnames\u001b[0m\u001b[0;34m[\u001b[0m\u001b[0mi\u001b[0m\u001b[0;34m]\u001b[0m \u001b[0;34m+\u001b[0m \u001b[0;34m' to have shape '\u001b[0m \u001b[0;34m+\u001b[0m\u001b[0;34m\u001b[0m\u001b[0m\n\u001b[1;32m    122\u001b[0m                             \u001b[0mstr\u001b[0m\u001b[0;34m(\u001b[0m\u001b[0mshape\u001b[0m\u001b[0;34m)\u001b[0m \u001b[0;34m+\u001b[0m \u001b[0;34m' but got array with shape '\u001b[0m \u001b[0;34m+\u001b[0m\u001b[0;34m\u001b[0m\u001b[0m\n\u001b[0;32m--> 123\u001b[0;31m                             str(data_shape))\n\u001b[0m\u001b[1;32m    124\u001b[0m     \u001b[0;32mreturn\u001b[0m \u001b[0mdata\u001b[0m\u001b[0;34m\u001b[0m\u001b[0m\n\u001b[1;32m    125\u001b[0m \u001b[0;34m\u001b[0m\u001b[0m\n",
      "\u001b[0;31mValueError\u001b[0m: Error when checking : expected lstm_3_input to have shape (24, 2, 1) but got array with shape (9984, 2, 1)"
     ]
    }
   ],
   "source": [
    "plt.plot(trainY[:100])\n",
    "plt.plot(model.predict_on_batch(trainX)[:100])\n",
    "plt.show()"
   ]
  },
  {
   "cell_type": "code",
   "execution_count": null,
   "metadata": {
    "collapsed": true
   },
   "outputs": [],
   "source": []
  }
 ],
 "metadata": {
  "kernelspec": {
   "display_name": "Python 3",
   "language": "python",
   "name": "python3"
  },
  "language_info": {
   "codemirror_mode": {
    "name": "ipython",
    "version": 3
   },
   "file_extension": ".py",
   "mimetype": "text/x-python",
   "name": "python",
   "nbconvert_exporter": "python",
   "pygments_lexer": "ipython3",
   "version": "3.8.6"
  }
 },
 "nbformat": 4,
 "nbformat_minor": 2
}
