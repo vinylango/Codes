{
 "cells": [
  {
   "cell_type": "code",
   "execution_count": 662,
   "id": "attempted-compensation",
   "metadata": {},
   "outputs": [
    {
     "data": {
      "text/html": [
       "<div>\n",
       "<style scoped>\n",
       "    .dataframe tbody tr th:only-of-type {\n",
       "        vertical-align: middle;\n",
       "    }\n",
       "\n",
       "    .dataframe tbody tr th {\n",
       "        vertical-align: top;\n",
       "    }\n",
       "\n",
       "    .dataframe thead th {\n",
       "        text-align: right;\n",
       "    }\n",
       "</style>\n",
       "<table border=\"1\" class=\"dataframe\">\n",
       "  <thead>\n",
       "    <tr style=\"text-align: right;\">\n",
       "      <th></th>\n",
       "      <th>Sen_2.5</th>\n",
       "      <th>Sen_10</th>\n",
       "      <th>Ref_2.5</th>\n",
       "      <th>Ref_10</th>\n",
       "      <th>T</th>\n",
       "      <th>RH</th>\n",
       "    </tr>\n",
       "    <tr>\n",
       "      <th>Date</th>\n",
       "      <th></th>\n",
       "      <th></th>\n",
       "      <th></th>\n",
       "      <th></th>\n",
       "      <th></th>\n",
       "      <th></th>\n",
       "    </tr>\n",
       "  </thead>\n",
       "  <tbody>\n",
       "    <tr>\n",
       "      <th>2019-10-02 13:00:00</th>\n",
       "      <td>37.606508</td>\n",
       "      <td>61.467964</td>\n",
       "      <td>16.945596</td>\n",
       "      <td>31.358817</td>\n",
       "      <td>30.55</td>\n",
       "      <td>44.88</td>\n",
       "    </tr>\n",
       "    <tr>\n",
       "      <th>2019-10-02 14:00:00</th>\n",
       "      <td>37.606508</td>\n",
       "      <td>61.467964</td>\n",
       "      <td>22.114387</td>\n",
       "      <td>45.218727</td>\n",
       "      <td>28.72</td>\n",
       "      <td>56.78</td>\n",
       "    </tr>\n",
       "    <tr>\n",
       "      <th>2019-10-02 15:00:00</th>\n",
       "      <td>8.507763</td>\n",
       "      <td>42.813486</td>\n",
       "      <td>22.611759</td>\n",
       "      <td>61.807504</td>\n",
       "      <td>27.38</td>\n",
       "      <td>57.16</td>\n",
       "    </tr>\n",
       "    <tr>\n",
       "      <th>2019-10-02 16:00:00</th>\n",
       "      <td>8.507763</td>\n",
       "      <td>42.813486</td>\n",
       "      <td>19.652068</td>\n",
       "      <td>41.656351</td>\n",
       "      <td>26.31</td>\n",
       "      <td>58.61</td>\n",
       "    </tr>\n",
       "    <tr>\n",
       "      <th>2019-10-02 17:00:00</th>\n",
       "      <td>8.507763</td>\n",
       "      <td>42.813486</td>\n",
       "      <td>17.954197</td>\n",
       "      <td>30.121207</td>\n",
       "      <td>28.52</td>\n",
       "      <td>50.16</td>\n",
       "    </tr>\n",
       "  </tbody>\n",
       "</table>\n",
       "</div>"
      ],
      "text/plain": [
       "                       Sen_2.5     Sen_10    Ref_2.5     Ref_10      T     RH\n",
       "Date                                                                         \n",
       "2019-10-02 13:00:00  37.606508  61.467964  16.945596  31.358817  30.55  44.88\n",
       "2019-10-02 14:00:00  37.606508  61.467964  22.114387  45.218727  28.72  56.78\n",
       "2019-10-02 15:00:00   8.507763  42.813486  22.611759  61.807504  27.38  57.16\n",
       "2019-10-02 16:00:00   8.507763  42.813486  19.652068  41.656351  26.31  58.61\n",
       "2019-10-02 17:00:00   8.507763  42.813486  17.954197  30.121207  28.52  50.16"
      ]
     },
     "execution_count": 662,
     "metadata": {},
     "output_type": "execute_result"
    }
   ],
   "source": [
    "import pandas as pd\n",
    "import numpy as np\n",
    "R1_data= pd.read_csv('R1.csv')\n",
    "R1_data.columns=['Sen_2.5','Sen_10','Ref_2.5','Ref_10','Time','T','RH']\n",
    "R1_data=R1_data.dropna()\n",
    "Time=R1_data['Time'].to_list()\n",
    "time=[]\n",
    "for i in range(len(Time)):\n",
    "    time.append(float(abs(Time[i])))\n",
    "Time=np.array(time)\n",
    "Date=pd.to_datetime(Time-719529,unit='d').round('s')\n",
    "R1_data['Date'] = Date.tolist()\n",
    "R1_data=R1_data.set_index('Date')\n",
    "R1_data.drop('Time',axis = 1, inplace = True)\n",
    "R1_data.head()"
   ]
  },
  {
   "cell_type": "code",
   "execution_count": 663,
   "id": "constant-ordinance",
   "metadata": {},
   "outputs": [
    {
     "data": {
      "text/html": [
       "<div>\n",
       "<style scoped>\n",
       "    .dataframe tbody tr th:only-of-type {\n",
       "        vertical-align: middle;\n",
       "    }\n",
       "\n",
       "    .dataframe tbody tr th {\n",
       "        vertical-align: top;\n",
       "    }\n",
       "\n",
       "    .dataframe thead th {\n",
       "        text-align: right;\n",
       "    }\n",
       "</style>\n",
       "<table border=\"1\" class=\"dataframe\">\n",
       "  <thead>\n",
       "    <tr style=\"text-align: right;\">\n",
       "      <th></th>\n",
       "      <th>Sen_2.5</th>\n",
       "      <th>Sen_10</th>\n",
       "      <th>Ref_2.5</th>\n",
       "      <th>Ref_10</th>\n",
       "      <th>T</th>\n",
       "      <th>RH</th>\n",
       "    </tr>\n",
       "    <tr>\n",
       "      <th>Date</th>\n",
       "      <th></th>\n",
       "      <th></th>\n",
       "      <th></th>\n",
       "      <th></th>\n",
       "      <th></th>\n",
       "      <th></th>\n",
       "    </tr>\n",
       "  </thead>\n",
       "  <tbody>\n",
       "    <tr>\n",
       "      <th>2020-11-09 19:00:00</th>\n",
       "      <td>15.255277</td>\n",
       "      <td>59.432720</td>\n",
       "      <td>34.47053</td>\n",
       "      <td>112.54680</td>\n",
       "      <td>13.66</td>\n",
       "      <td>84.61</td>\n",
       "    </tr>\n",
       "    <tr>\n",
       "      <th>2020-11-09 20:00:00</th>\n",
       "      <td>13.595549</td>\n",
       "      <td>49.218701</td>\n",
       "      <td>51.01247</td>\n",
       "      <td>185.77910</td>\n",
       "      <td>13.35</td>\n",
       "      <td>85.21</td>\n",
       "    </tr>\n",
       "    <tr>\n",
       "      <th>2020-11-09 21:00:00</th>\n",
       "      <td>15.531131</td>\n",
       "      <td>47.994590</td>\n",
       "      <td>50.29734</td>\n",
       "      <td>152.05290</td>\n",
       "      <td>13.12</td>\n",
       "      <td>85.77</td>\n",
       "    </tr>\n",
       "    <tr>\n",
       "      <th>2020-11-09 22:00:00</th>\n",
       "      <td>12.958598</td>\n",
       "      <td>38.296699</td>\n",
       "      <td>48.03581</td>\n",
       "      <td>122.83820</td>\n",
       "      <td>13.02</td>\n",
       "      <td>85.93</td>\n",
       "    </tr>\n",
       "    <tr>\n",
       "      <th>2020-11-09 23:00:00</th>\n",
       "      <td>12.374930</td>\n",
       "      <td>35.061428</td>\n",
       "      <td>41.15864</td>\n",
       "      <td>94.77707</td>\n",
       "      <td>12.66</td>\n",
       "      <td>86.06</td>\n",
       "    </tr>\n",
       "  </tbody>\n",
       "</table>\n",
       "</div>"
      ],
      "text/plain": [
       "                       Sen_2.5     Sen_10   Ref_2.5     Ref_10      T     RH\n",
       "Date                                                                        \n",
       "2020-11-09 19:00:00  15.255277  59.432720  34.47053  112.54680  13.66  84.61\n",
       "2020-11-09 20:00:00  13.595549  49.218701  51.01247  185.77910  13.35  85.21\n",
       "2020-11-09 21:00:00  15.531131  47.994590  50.29734  152.05290  13.12  85.77\n",
       "2020-11-09 22:00:00  12.958598  38.296699  48.03581  122.83820  13.02  85.93\n",
       "2020-11-09 23:00:00  12.374930  35.061428  41.15864   94.77707  12.66  86.06"
      ]
     },
     "execution_count": 663,
     "metadata": {},
     "output_type": "execute_result"
    }
   ],
   "source": [
    "import pandas as pd\n",
    "import numpy as np\n",
    "N3_data= pd.read_csv('N3.csv')\n",
    "N3_data.columns=['Sen_2.5','Sen_10','Ref_2.5','Ref_10','Time','T','RH']\n",
    "N3_data=N3_data.dropna()\n",
    "Time=N3_data['Time'].to_list()\n",
    "time=[]\n",
    "for i in range(len(Time)):\n",
    "    time.append(float(abs(Time[i])))\n",
    "Time=np.array(time)\n",
    "Date=pd.to_datetime(Time-719529,unit='d').round('s')\n",
    "N3_data['Date'] = Date.tolist()\n",
    "N3_data=N3_data.set_index('Date')\n",
    "N3_data.drop('Time',axis = 1, inplace = True)\n",
    "N3_data.tail()"
   ]
  },
  {
   "cell_type": "code",
   "execution_count": 664,
   "id": "comparative-plaintiff",
   "metadata": {},
   "outputs": [],
   "source": [
    "SUB = str.maketrans(\"0123456789\", \"₀₁₂₃₄₅₆₇₈₉\")\n",
    "SUP = str.maketrans(\"0123456789\", \"⁰¹²³⁴⁵⁶⁷⁸⁹\")"
   ]
  },
  {
   "cell_type": "markdown",
   "id": "measured-feedback",
   "metadata": {},
   "source": [
    "# RF\n",
    "\n",
    "## PM2.5"
   ]
  },
  {
   "cell_type": "markdown",
   "id": "advisory-violin",
   "metadata": {},
   "source": [
    "## OPC"
   ]
  },
  {
   "cell_type": "code",
   "execution_count": 665,
   "id": "liberal-scroll",
   "metadata": {},
   "outputs": [],
   "source": [
    "from sktime.performance_metrics.forecasting import sMAPE, smape_loss\n",
    "from sklearn.model_selection import train_test_split\n",
    "from sklearn.linear_model import LinearRegression\n",
    "from sklearn.metrics import mean_absolute_error as mae\n",
    "import sklearn.metrics as sm\n",
    "import matplotlib.pyplot as plt\n",
    "#'Ref_NO2','Ref_SO2','Ref_O3',\n",
    "#,'Month','Day_of_week','Day','Hour'\n",
    "X=R1_data[['Sen_10']]\n",
    "y=R1_data['Ref_10']\n",
    "X_train, X_test, y_train, y_test =train_test_split(X, y, test_size = 0.2,shuffle=True)"
   ]
  },
  {
   "cell_type": "code",
   "execution_count": 666,
   "id": "casual-terminology",
   "metadata": {},
   "outputs": [
    {
     "data": {
      "text/plain": [
       "(2479, 1)"
      ]
     },
     "execution_count": 666,
     "metadata": {},
     "output_type": "execute_result"
    }
   ],
   "source": [
    "X_train.shape"
   ]
  },
  {
   "cell_type": "code",
   "execution_count": 667,
   "id": "bibliographic-suicide",
   "metadata": {},
   "outputs": [],
   "source": [
    "from sklearn.ensemble import RandomForestRegressor\n",
    "  \n",
    " # create regressor object\n",
    "regressor = RandomForestRegressor(n_estimators =500 ,min_samples_split=2,min_samples_leaf= 2,max_features= 'sqrt', \n",
    "                                  random_state = 0,max_depth=None,bootstrap=True)\n",
    "  \n",
    "  \n",
    "# fit the regressor with x and y data\n",
    "regressor=regressor.fit(X_train, y_train) "
   ]
  },
  {
   "cell_type": "code",
   "execution_count": 668,
   "id": "elementary-liabilities",
   "metadata": {},
   "outputs": [
    {
     "data": {
      "text/plain": [
       "(0.38, 0.55)"
      ]
     },
     "execution_count": 668,
     "metadata": {},
     "output_type": "execute_result"
    }
   ],
   "source": [
    "pred = regressor.predict(X_test)\n",
    "lab1=X_test['Sen_10'].to_list()\n",
    "Pearson_1=round(np.corrcoef(y_test, lab1)[0, 1],2)\n",
    "Pearson_2=round(np.corrcoef(y_test, pred)[0, 1],2)\n",
    "R2_lab=round(sm.r2_score(y_test, lab1), 2)\n",
    "R2_RF=round(sm.r2_score(y_test, pred), 2)\n",
    "R2_lab,R2_RF"
   ]
  },
  {
   "cell_type": "code",
   "execution_count": 669,
   "id": "weird-knitting",
   "metadata": {},
   "outputs": [
    {
     "data": {
      "text/plain": [
       "(0.8, 0.74)"
      ]
     },
     "execution_count": 669,
     "metadata": {},
     "output_type": "execute_result"
    }
   ],
   "source": [
    "Pearson_1,Pearson_2"
   ]
  },
  {
   "cell_type": "code",
   "execution_count": 670,
   "id": "downtown-daniel",
   "metadata": {},
   "outputs": [
    {
     "data": {
      "image/png": "[encoded data removed]",
      "text/plain": [
       "<Figure size 360x288 with 1 Axes>"
      ]
     },
     "metadata": {
      "needs_background": "light"
     },
     "output_type": "display_data"
    }
   ],
   "source": [
    "fig= plt.figure(figsize=(5,4))\n",
    "ax = fig.add_subplot(111)\n",
    "#ax.patch.set_facecolor('lightblue')\n",
    "#ax.patch.set_alpha(0.3)\n",
    "#m0, b0 = np.polyfit(np.array(y_test), np.array(lab1), 1)\n",
    "#plt.plot(np.array(y_test), m0*np.array(y_test) + b0,color='#426eff',linewidth=4)\n",
    "#m1, b1 = np.polyfit(np.array(y_test), np.array(pred_lr), 1)\n",
    "#plt.plot(np.array(y_test), m1*np.array(y_test) + b1,color='#513e00',linewidth=4)\n",
    "#m2, b2 = np.polyfit(np.array(y_test), np.array(pred_svr), 1)\n",
    "#plt.plot(np.array(y_test), m2*np.array(y_test) + b2,color='brown',linewidth=4)\n",
    "#m3, b3 = np.polyfit(np.array(y_test), np.array(pred_rf), 1)\n",
    "#plt.plot(np.array(y_test), m3*np.array(y_test) + b3,color='indigo',linewidth=4)\n",
    "#m4, b4 = np.polyfit(np.array(y_test), np.array(pred_ann), 1)\n",
    "#plt.plot(np.array(y_test), m4*np.array(y_test) + b4,color='tomato',linewidth=4)\n",
    "#m5, b5 = np.polyfit(np.array(y_test), np.array(pred_xgb), 1)\n",
    "#plt.plot(np.array(y_test), m5*np.array(y_test) + b5,color='darkgoldenrod',linewidth=4)\n",
    "plt.scatter(np.array(y_test),np.array(lab1),color='teal',marker=\"$\\\\bigoplus$\",s=10)\n",
    "#plt.scatter(np.array(y_test),np.array(pred),color='teal',marker=\"$\\\\bigoplus$\",s=10)\n",
    "#plt.scatter(np.array(y_test),np.array(pred_lr),color='#513e00',marker='P')\n",
    "#plt.scatter(np.array(y_test),np.array(pred_svr),color='brown',marker='d')\n",
    "#plt.scatter(np.array(y_test),np.array(pred_rf),color='indigo',marker='*',s=30)\n",
    "#plt.scatter(np.array(y_test),np.array(pred_ann),color='tomato',marker='s')\n",
    "#plt.scatter(np.array(y_test),np.array(pred_xgb),color='darkgoldenrod',marker='1',s=15)\n",
    "plt.plot(np.array(y_test),np.array(y_test), c =\"black\",linewidth=1.5)\n",
    "#ax.spines['right'].set_visible(False)\n",
    "#ax.spines['top'].set_visible(False)\n",
    "ax.set_ylim(bottom=0)\n",
    "ax.set_xlim(left=0)\n",
    "plt.xlabel('TEOM PM10'.translate(SUB) +  ' (µg/m3)'.translate(SUP),fontsize=15)\n",
    "plt.ylabel('Low-Cost PM10'.translate(SUB) +  ' (µg/m3)'.translate(SUP),fontsize=15)\n",
    "#plt.legend(['1:1','N3','RF'\n",
    "            #], loc = 2, bbox_to_anchor = (0,1),fontsize=12)\n",
    "#plt.title('CO Sensor',fontsize=18 )\n",
    "A=[Pearson_1]\n",
    "#ax.text(1800, 2900, r'$ r=$'+str(A[0]), fontsize=13)\n",
    "#ax.text(200, 2900, 'LAB', fontsize=17)\n",
    "#plt.title(r'$ r=$'+str(A[0]))\n",
    "          #,\n",
    "          #fontsize=12)\n",
    "#plt.grid(linestyle='-.',linewidth=0.1)\n",
    "plt.xticks(fontsize=18)\n",
    "plt.yticks(fontsize=18)\n",
    "plt.show\n",
    "#plt.xticks(np.arange(0,2.9, step=1))\n",
    "plt.xticks(np.arange(0,201, step=40))\n",
    "plt.yticks(np.arange(0,201, step=40))\n",
    "plt.show\n",
    "textstr = '\\n'.join(('LAB',r'$r=%.2f$' % (A[0], ) ))\n",
    "\n",
    "props = dict(boxstyle='round', facecolor='white', alpha=1)\n",
    "\n",
    "#place a text box in upper left in axes coords\n",
    "ax.text(0.04, 0.96, textstr, transform=ax.transAxes, fontsize=20,\n",
    "        verticalalignment='top', bbox=props)\n",
    "\n",
    "plt.savefig(\"R1_10_OPC.pdf\",format=\"pdf\", bbox_inches=\"tight\")\n",
    "#plt.savefig(\"fig4d.pdf\", format=\"pdf\", bbox_inches=\"tight\")\n",
    "plt.show()"
   ]
  },
  {
   "cell_type": "code",
   "execution_count": 671,
   "id": "collectible-confirmation",
   "metadata": {},
   "outputs": [
    {
     "data": {
      "text/plain": [
       "(184.08615397443, 163.854456666667)"
      ]
     },
     "execution_count": 671,
     "metadata": {},
     "output_type": "execute_result"
    }
   ],
   "source": [
    "max(np.array(lab1)),max(np.array(y_test))"
   ]
  },
  {
   "cell_type": "code",
   "execution_count": 672,
   "id": "handmade-alexander",
   "metadata": {},
   "outputs": [
    {
     "data": {
      "image/png": "[encoded data removed]",
      "text/plain": [
       "<Figure size 360x288 with 1 Axes>"
      ]
     },
     "metadata": {
      "needs_background": "light"
     },
     "output_type": "display_data"
    }
   ],
   "source": [
    "fig= plt.figure(figsize=(5,4))\n",
    "ax = fig.add_subplot(111)\n",
    "#ax.patch.set_facecolor('lightblue')\n",
    "#ax.patch.set_alpha(0.3)\n",
    "#m0, b0 = np.polyfit(np.array(y_test), np.array(lab1), 1)\n",
    "#plt.plot(np.array(y_test), m0*np.array(y_test) + b0,color='#426eff',linewidth=4)\n",
    "#m1, b1 = np.polyfit(np.array(y_test), np.array(pred_lr), 1)\n",
    "#plt.plot(np.array(y_test), m1*np.array(y_test) + b1,color='#513e00',linewidth=4)\n",
    "#m2, b2 = np.polyfit(np.array(y_test), np.array(pred_svr), 1)\n",
    "#plt.plot(np.array(y_test), m2*np.array(y_test) + b2,color='brown',linewidth=4)\n",
    "#m3, b3 = np.polyfit(np.array(y_test), np.array(pred_rf), 1)\n",
    "#plt.plot(np.array(y_test), m3*np.array(y_test) + b3,color='indigo',linewidth=4)\n",
    "#m4, b4 = np.polyfit(np.array(y_test), np.array(pred_ann), 1)\n",
    "#plt.plot(np.array(y_test), m4*np.array(y_test) + b4,color='tomato',linewidth=4)\n",
    "#m5, b5 = np.polyfit(np.array(y_test), np.array(pred_xgb), 1)\n",
    "#plt.plot(np.array(y_test), m5*np.array(y_test) + b5,color='darkgoldenrod',linewidth=4)\n",
    "#plt.scatter(np.array(y_test),np.array(lab1),color='teal',marker=\"$\\\\bigoplus$\",s=10)\n",
    "plt.scatter(np.array(y_test),np.array(pred),color='teal',marker=\"$\\\\bigoplus$\",s=10)\n",
    "#plt.scatter(np.array(y_test),np.array(pred_lr),color='#513e00',marker='P')\n",
    "#plt.scatter(np.array(y_test),np.array(pred_svr),color='brown',marker='d')\n",
    "#plt.scatter(np.array(y_test),np.array(pred_rf),color='indigo',marker='*',s=30)\n",
    "#plt.scatter(np.array(y_test),np.array(pred_ann),color='tomato',marker='s')\n",
    "#plt.scatter(np.array(y_test),np.array(pred_xgb),color='darkgoldenrod',marker='1',s=15)\n",
    "plt.plot(np.array(y_test),np.array(y_test), c =\"black\",linewidth=1.5)\n",
    "#ax.spines['right'].set_visible(False)\n",
    "#ax.spines['top'].set_visible(False)\n",
    "ax.set_ylim(bottom=0)\n",
    "ax.set_xlim(left=0)\n",
    "plt.xlabel('TEOM PM10'.translate(SUB) +  ' (µg/m3)'.translate(SUP),fontsize=15)\n",
    "plt.ylabel('Low-Cost PM10'.translate(SUB) +  ' (µg/m3)'.translate(SUP),fontsize=15)\n",
    "#plt.legend(['1:1','N3','RF'\n",
    "            #], loc = 2, bbox_to_anchor = (0,1),fontsize=12)\n",
    "#plt.title('CO Sensor',fontsize=18 )\n",
    "A=[Pearson_2]\n",
    "#ax.text(1800, 2900, r'$ r=$'+str(A[0]), fontsize=13)\n",
    "#ax.text(200, 2900, 'LAB', fontsize=17)\n",
    "#plt.title(r'$ r=$'+str(A[0]))\n",
    "          #,\n",
    "          #fontsize=12)\n",
    "#plt.grid(linestyle='-.',linewidth=0.1)\n",
    "plt.xticks(fontsize=18)\n",
    "plt.yticks(fontsize=18)\n",
    "plt.show\n",
    "#plt.xticks(np.arange(0,2.9, step=1))\n",
    "plt.xticks(np.arange(0,201, step=40))\n",
    "plt.yticks(np.arange(0,201, step=40))\n",
    "plt.show\n",
    "textstr = '\\n'.join(('RF',r'$r=%.2f$' % (A[0], ) ))\n",
    "\n",
    "props = dict(boxstyle='round', facecolor='white', alpha=1)\n",
    "\n",
    "#place a text box in upper left in axes coords\n",
    "ax.text(0.04, 0.96, textstr, transform=ax.transAxes, fontsize=20,\n",
    "        verticalalignment='top', bbox=props)\n",
    "\n",
    "plt.savefig(\"R1_10_RF_O.pdf\",format=\"pdf\", bbox_inches=\"tight\")\n",
    "#plt.savefig(\"fig4d.pdf\", format=\"pdf\", bbox_inches=\"tight\")\n",
    "plt.show()"
   ]
  },
  {
   "cell_type": "markdown",
   "id": "starting-birmingham",
   "metadata": {},
   "source": [
    "## OPC+T"
   ]
  },
  {
   "cell_type": "code",
   "execution_count": 673,
   "id": "responsible-christmas",
   "metadata": {},
   "outputs": [
    {
     "data": {
      "text/plain": [
       "(0.34, 0.65)"
      ]
     },
     "execution_count": 673,
     "metadata": {},
     "output_type": "execute_result"
    }
   ],
   "source": [
    "X=R1_data[['Sen_10','T']]\n",
    "y=R1_data['Ref_10']\n",
    "X_train, X_test, y_train, y_test =train_test_split(X, y, test_size = 0.2,shuffle=True)\n",
    "regressor=regressor.fit(X_train, y_train)\n",
    "pred = regressor.predict(X_test)\n",
    "lab1=X_test['Sen_10'].to_list()\n",
    "Pearson_1=round(np.corrcoef(y_test, lab1)[0, 1],2)\n",
    "Pearson_2=round(np.corrcoef(y_test, pred)[0, 1],2)\n",
    "R2_lab=round(sm.r2_score(y_test, lab1), 2)\n",
    "R2_RF=round(sm.r2_score(y_test, pred), 2)\n",
    "R2_lab,R2_RF"
   ]
  },
  {
   "cell_type": "code",
   "execution_count": 674,
   "id": "eastern-panic",
   "metadata": {},
   "outputs": [
    {
     "data": {
      "image/png": "[encoded data removed]",
      "text/plain": [
       "<Figure size 360x288 with 1 Axes>"
      ]
     },
     "metadata": {
      "needs_background": "light"
     },
     "output_type": "display_data"
    }
   ],
   "source": [
    "fig= plt.figure(figsize=(5,4))\n",
    "ax = fig.add_subplot(111)\n",
    "#ax.patch.set_facecolor('lightblue')\n",
    "#ax.patch.set_alpha(0.3)\n",
    "#m0, b0 = np.polyfit(np.array(y_test), np.array(lab1), 1)\n",
    "#plt.plot(np.array(y_test), m0*np.array(y_test) + b0,color='#426eff',linewidth=4)\n",
    "#m1, b1 = np.polyfit(np.array(y_test), np.array(pred_lr), 1)\n",
    "#plt.plot(np.array(y_test), m1*np.array(y_test) + b1,color='#513e00',linewidth=4)\n",
    "#m2, b2 = np.polyfit(np.array(y_test), np.array(pred_svr), 1)\n",
    "#plt.plot(np.array(y_test), m2*np.array(y_test) + b2,color='brown',linewidth=4)\n",
    "#m3, b3 = np.polyfit(np.array(y_test), np.array(pred_rf), 1)\n",
    "#plt.plot(np.array(y_test), m3*np.array(y_test) + b3,color='indigo',linewidth=4)\n",
    "#m4, b4 = np.polyfit(np.array(y_test), np.array(pred_ann), 1)\n",
    "#plt.plot(np.array(y_test), m4*np.array(y_test) + b4,color='tomato',linewidth=4)\n",
    "#m5, b5 = np.polyfit(np.array(y_test), np.array(pred_xgb), 1)\n",
    "#plt.plot(np.array(y_test), m5*np.array(y_test) + b5,color='darkgoldenrod',linewidth=4)\n",
    "#plt.scatter(np.array(y_test),np.array(lab1),color='teal',marker=\"$\\\\bigoplus$\",s=10)\n",
    "plt.scatter(np.array(y_test),np.array(pred),color='teal',marker=\"$\\\\bigoplus$\",s=10)\n",
    "#plt.scatter(np.array(y_test),np.array(pred_lr),color='#513e00',marker='P')\n",
    "#plt.scatter(np.array(y_test),np.array(pred_svr),color='brown',marker='d')\n",
    "#plt.scatter(np.array(y_test),np.array(pred_rf),color='indigo',marker='*',s=30)\n",
    "#plt.scatter(np.array(y_test),np.array(pred_ann),color='tomato',marker='s')\n",
    "#plt.scatter(np.array(y_test),np.array(pred_xgb),color='darkgoldenrod',marker='1',s=15)\n",
    "plt.plot(np.array(y_test),np.array(y_test), c =\"black\",linewidth=1.5)\n",
    "#ax.spines['right'].set_visible(False)\n",
    "#ax.spines['top'].set_visible(False)\n",
    "ax.set_ylim(bottom=0)\n",
    "ax.set_xlim(left=0)\n",
    "plt.xlabel('TEOM PM10'.translate(SUB) +  ' (µg/m3)'.translate(SUP),fontsize=15)\n",
    "plt.ylabel('Low-Cost PM10'.translate(SUB) +  ' (µg/m3)'.translate(SUP),fontsize=15)\n",
    "#plt.legend(['1:1','N3','RF'\n",
    "            #], loc = 2, bbox_to_anchor = (0,1),fontsize=12)\n",
    "#plt.title('CO Sensor',fontsize=18 )\n",
    "A=[Pearson_2]\n",
    "#ax.text(1800, 2900, r'$ r=$'+str(A[0]), fontsize=13)\n",
    "#ax.text(200, 2900, 'LAB', fontsize=17)\n",
    "#plt.title(r'$ r=$'+str(A[0]))\n",
    "          #,\n",
    "          #fontsize=12)\n",
    "#plt.grid(linestyle='-.',linewidth=0.1)\n",
    "plt.xticks(fontsize=18)\n",
    "plt.yticks(fontsize=18)\n",
    "plt.show\n",
    "#plt.xticks(np.arange(0,2.9, step=1))\n",
    "plt.xticks(np.arange(0,201, step=40))\n",
    "plt.yticks(np.arange(0,201, step=40))\n",
    "plt.show\n",
    "textstr = '\\n'.join(('RF',r'$r=%.2f$' % (A[0], ) ))\n",
    "\n",
    "props = dict(boxstyle='round', facecolor='white', alpha=1)\n",
    "\n",
    "#place a text box in upper left in axes coords\n",
    "ax.text(0.04, 0.96, textstr, transform=ax.transAxes, fontsize=20,\n",
    "        verticalalignment='top', bbox=props)\n",
    "\n",
    "plt.savefig(\"R1_10_RF_OT.pdf\",format=\"pdf\", bbox_inches=\"tight\")\n",
    "#plt.savefig(\"fig4d.pdf\", format=\"pdf\", bbox_inches=\"tight\")\n",
    "plt.show()"
   ]
  },
  {
   "cell_type": "markdown",
   "id": "developmental-failure",
   "metadata": {},
   "source": [
    "## OPC+RH"
   ]
  },
  {
   "cell_type": "code",
   "execution_count": 675,
   "id": "weighted-operation",
   "metadata": {},
   "outputs": [
    {
     "data": {
      "text/plain": [
       "(0.36, 0.63)"
      ]
     },
     "execution_count": 675,
     "metadata": {},
     "output_type": "execute_result"
    }
   ],
   "source": [
    "X=R1_data[['Sen_10','RH']]\n",
    "y=R1_data['Ref_10']\n",
    "X_train, X_test, y_train, y_test =train_test_split(X, y, test_size = 0.2,shuffle=True)\n",
    "regressor=regressor.fit(X_train, y_train)\n",
    "pred = regressor.predict(X_test)\n",
    "lab1=X_test['Sen_10'].to_list()\n",
    "Pearson_1=round(np.corrcoef(y_test, lab1)[0, 1],2)\n",
    "Pearson_2=round(np.corrcoef(y_test, pred)[0, 1],2)\n",
    "R2_lab=round(sm.r2_score(y_test, lab1), 2)\n",
    "R2_RF=round(sm.r2_score(y_test, pred), 2)\n",
    "R2_lab,R2_RF"
   ]
  },
  {
   "cell_type": "code",
   "execution_count": 676,
   "id": "metric-adelaide",
   "metadata": {},
   "outputs": [
    {
     "data": {
      "image/png": "[encoded data removed]",
      "text/plain": [
       "<Figure size 360x288 with 1 Axes>"
      ]
     },
     "metadata": {
      "needs_background": "light"
     },
     "output_type": "display_data"
    }
   ],
   "source": [
    "fig= plt.figure(figsize=(5,4))\n",
    "ax = fig.add_subplot(111)\n",
    "#ax.patch.set_facecolor('lightblue')\n",
    "#ax.patch.set_alpha(0.3)\n",
    "#m0, b0 = np.polyfit(np.array(y_test), np.array(lab1), 1)\n",
    "#plt.plot(np.array(y_test), m0*np.array(y_test) + b0,color='#426eff',linewidth=4)\n",
    "#m1, b1 = np.polyfit(np.array(y_test), np.array(pred_lr), 1)\n",
    "#plt.plot(np.array(y_test), m1*np.array(y_test) + b1,color='#513e00',linewidth=4)\n",
    "#m2, b2 = np.polyfit(np.array(y_test), np.array(pred_svr), 1)\n",
    "#plt.plot(np.array(y_test), m2*np.array(y_test) + b2,color='brown',linewidth=4)\n",
    "#m3, b3 = np.polyfit(np.array(y_test), np.array(pred_rf), 1)\n",
    "#plt.plot(np.array(y_test), m3*np.array(y_test) + b3,color='indigo',linewidth=4)\n",
    "#m4, b4 = np.polyfit(np.array(y_test), np.array(pred_ann), 1)\n",
    "#plt.plot(np.array(y_test), m4*np.array(y_test) + b4,color='tomato',linewidth=4)\n",
    "#m5, b5 = np.polyfit(np.array(y_test), np.array(pred_xgb), 1)\n",
    "#plt.plot(np.array(y_test), m5*np.array(y_test) + b5,color='darkgoldenrod',linewidth=4)\n",
    "#plt.scatter(np.array(y_test),np.array(lab1),color='teal',marker=\"$\\\\bigoplus$\",s=10)\n",
    "plt.scatter(np.array(y_test),np.array(pred),color='teal',marker=\"$\\\\bigoplus$\",s=10)\n",
    "#plt.scatter(np.array(y_test),np.array(pred_lr),color='#513e00',marker='P')\n",
    "#plt.scatter(np.array(y_test),np.array(pred_svr),color='brown',marker='d')\n",
    "#plt.scatter(np.array(y_test),np.array(pred_rf),color='indigo',marker='*',s=30)\n",
    "#plt.scatter(np.array(y_test),np.array(pred_ann),color='tomato',marker='s')\n",
    "#plt.scatter(np.array(y_test),np.array(pred_xgb),color='darkgoldenrod',marker='1',s=15)\n",
    "plt.plot(np.array(y_test),np.array(y_test), c =\"black\",linewidth=1.5)\n",
    "#ax.spines['right'].set_visible(False)\n",
    "#ax.spines['top'].set_visible(False)\n",
    "ax.set_ylim(bottom=0)\n",
    "ax.set_xlim(left=0)\n",
    "plt.xlabel('TEOM PM10'.translate(SUB) +  ' (µg/m3)'.translate(SUP),fontsize=15)\n",
    "plt.ylabel('Low-Cost PM10'.translate(SUB) +  ' (µg/m3)'.translate(SUP),fontsize=15)\n",
    "#plt.legend(['1:1','N3','RF'\n",
    "            #], loc = 2, bbox_to_anchor = (0,1),fontsize=12)\n",
    "#plt.title('CO Sensor',fontsize=18 )\n",
    "A=[Pearson_2]\n",
    "#ax.text(1800, 2900, r'$ r=$'+str(A[0]), fontsize=13)\n",
    "#ax.text(200, 2900, 'LAB', fontsize=17)\n",
    "#plt.title(r'$ r=$'+str(A[0]))\n",
    "          #,\n",
    "          #fontsize=12)\n",
    "#plt.grid(linestyle='-.',linewidth=0.1)\n",
    "plt.xticks(fontsize=18)\n",
    "plt.yticks(fontsize=18)\n",
    "plt.show\n",
    "#plt.xticks(np.arange(0,2.9, step=1))\n",
    "plt.xticks(np.arange(0,201, step=40))\n",
    "plt.yticks(np.arange(0,201, step=40))\n",
    "plt.show\n",
    "textstr = '\\n'.join(('RF',r'$r=%.2f$' % (A[0], ) ))\n",
    "\n",
    "props = dict(boxstyle='round', facecolor='white', alpha=1)\n",
    "\n",
    "#place a text box in upper left in axes coords\n",
    "ax.text(0.04, 0.96, textstr, transform=ax.transAxes, fontsize=20,\n",
    "        verticalalignment='top', bbox=props)\n",
    "\n",
    "plt.savefig(\"R1_10_RF_ORH.pdf\",format=\"pdf\", bbox_inches=\"tight\")\n",
    "#plt.savefig(\"fig4d.pdf\", format=\"pdf\", bbox_inches=\"tight\")\n",
    "plt.show()"
   ]
  },
  {
   "cell_type": "markdown",
   "id": "physical-manor",
   "metadata": {},
   "source": [
    "## OPC+T+RH"
   ]
  },
  {
   "cell_type": "code",
   "execution_count": 677,
   "id": "adopted-polymer",
   "metadata": {},
   "outputs": [
    {
     "data": {
      "text/plain": [
       "(0.42, 0.66)"
      ]
     },
     "execution_count": 677,
     "metadata": {},
     "output_type": "execute_result"
    }
   ],
   "source": [
    "X=R1_data[['Sen_10','T','RH']]\n",
    "y=R1_data['Ref_10']\n",
    "X_train, X_test, y_train, y_test =train_test_split(X, y, test_size = 0.2,shuffle=True)\n",
    "regressor=regressor.fit(X_train, y_train)\n",
    "pred = regressor.predict(X_test)\n",
    "lab1=X_test['Sen_10'].to_list()\n",
    "Pearson_1=round(np.corrcoef(y_test, lab1)[0, 1],2)\n",
    "Pearson_2=round(np.corrcoef(y_test, pred)[0, 1],2)\n",
    "R2_lab=round(sm.r2_score(y_test, lab1), 2)\n",
    "R2_RF=round(sm.r2_score(y_test, pred), 2)\n",
    "R2_lab,R2_RF"
   ]
  },
  {
   "cell_type": "code",
   "execution_count": 678,
   "id": "atmospheric-artist",
   "metadata": {},
   "outputs": [
    {
     "data": {
      "image/png": "[encoded data removed]",
      "text/plain": [
       "<Figure size 360x288 with 1 Axes>"
      ]
     },
     "metadata": {
      "needs_background": "light"
     },
     "output_type": "display_data"
    }
   ],
   "source": [
    "fig= plt.figure(figsize=(5,4))\n",
    "ax = fig.add_subplot(111)\n",
    "#ax.patch.set_facecolor('lightblue')\n",
    "#ax.patch.set_alpha(0.3)\n",
    "#m0, b0 = np.polyfit(np.array(y_test), np.array(lab1), 1)\n",
    "#plt.plot(np.array(y_test), m0*np.array(y_test) + b0,color='#426eff',linewidth=4)\n",
    "#m1, b1 = np.polyfit(np.array(y_test), np.array(pred_lr), 1)\n",
    "#plt.plot(np.array(y_test), m1*np.array(y_test) + b1,color='#513e00',linewidth=4)\n",
    "#m2, b2 = np.polyfit(np.array(y_test), np.array(pred_svr), 1)\n",
    "#plt.plot(np.array(y_test), m2*np.array(y_test) + b2,color='brown',linewidth=4)\n",
    "#m3, b3 = np.polyfit(np.array(y_test), np.array(pred_rf), 1)\n",
    "#plt.plot(np.array(y_test), m3*np.array(y_test) + b3,color='indigo',linewidth=4)\n",
    "#m4, b4 = np.polyfit(np.array(y_test), np.array(pred_ann), 1)\n",
    "#plt.plot(np.array(y_test), m4*np.array(y_test) + b4,color='tomato',linewidth=4)\n",
    "#m5, b5 = np.polyfit(np.array(y_test), np.array(pred_xgb), 1)\n",
    "#plt.plot(np.array(y_test), m5*np.array(y_test) + b5,color='darkgoldenrod',linewidth=4)\n",
    "#plt.scatter(np.array(y_test),np.array(lab1),color='teal',marker=\"$\\\\bigoplus$\",s=10)\n",
    "plt.scatter(np.array(y_test),np.array(pred),color='teal',marker=\"$\\\\bigoplus$\",s=10)\n",
    "#plt.scatter(np.array(y_test),np.array(pred_lr),color='#513e00',marker='P')\n",
    "#plt.scatter(np.array(y_test),np.array(pred_svr),color='brown',marker='d')\n",
    "#plt.scatter(np.array(y_test),np.array(pred_rf),color='indigo',marker='*',s=30)\n",
    "#plt.scatter(np.array(y_test),np.array(pred_ann),color='tomato',marker='s')\n",
    "#plt.scatter(np.array(y_test),np.array(pred_xgb),color='darkgoldenrod',marker='1',s=15)\n",
    "plt.plot(np.array(y_test),np.array(y_test), c =\"black\",linewidth=1.5)\n",
    "#ax.spines['right'].set_visible(False)\n",
    "#ax.spines['top'].set_visible(False)\n",
    "ax.set_ylim(bottom=0)\n",
    "ax.set_xlim(left=0)\n",
    "plt.xlabel('TEOM PM10'.translate(SUB) +  ' (µg/m3)'.translate(SUP),fontsize=15)\n",
    "plt.ylabel('Low-Cost PM10'.translate(SUB) +  ' (µg/m3)'.translate(SUP),fontsize=15)\n",
    "#plt.legend(['1:1','N3','RF'\n",
    "            #], loc = 2, bbox_to_anchor = (0,1),fontsize=12)\n",
    "#plt.title('CO Sensor',fontsize=18 )\n",
    "A=[Pearson_2]\n",
    "#ax.text(1800, 2900, r'$ r=$'+str(A[0]), fontsize=13)\n",
    "#ax.text(200, 2900, 'LAB', fontsize=17)\n",
    "#plt.title(r'$ r=$'+str(A[0]))\n",
    "          #,\n",
    "          #fontsize=12)\n",
    "#plt.grid(linestyle='-.',linewidth=0.1)\n",
    "plt.xticks(fontsize=18)\n",
    "plt.yticks(fontsize=18)\n",
    "plt.show\n",
    "#plt.xticks(np.arange(0,2.9, step=1))\n",
    "plt.xticks(np.arange(0,201, step=40))\n",
    "plt.yticks(np.arange(0,201, step=40))\n",
    "plt.show\n",
    "textstr = '\\n'.join(('RF',r'$r=%.2f$' % (A[0], ) ))\n",
    "\n",
    "props = dict(boxstyle='round', facecolor='white', alpha=1)\n",
    "\n",
    "#place a text box in upper left in axes coords\n",
    "ax.text(0.04, 0.96, textstr, transform=ax.transAxes, fontsize=20,\n",
    "        verticalalignment='top', bbox=props)\n",
    "\n",
    "plt.savefig(\"R1_10_RF_OTRH.pdf\",format=\"pdf\", bbox_inches=\"tight\")\n",
    "#plt.savefig(\"fig4d.pdf\", format=\"pdf\", bbox_inches=\"tight\")\n",
    "plt.show()"
   ]
  },
  {
   "cell_type": "markdown",
   "id": "thousand-orleans",
   "metadata": {},
   "source": [
    "## Feature Importance"
   ]
  },
  {
   "cell_type": "code",
   "execution_count": 679,
   "id": "moving-protest",
   "metadata": {},
   "outputs": [
    {
     "data": {
      "text/plain": [
       "array([75., 12., 12.])"
      ]
     },
     "execution_count": 679,
     "metadata": {},
     "output_type": "execute_result"
    }
   ],
   "source": [
    "FI=regressor.feature_importances_\n",
    "FI=np.round(FI*100)\n",
    "FI"
   ]
  },
  {
   "cell_type": "code",
   "execution_count": 680,
   "id": "sealed-carroll",
   "metadata": {},
   "outputs": [
    {
     "data": {
      "image/png": "[encoded data removed]",
      "text/plain": [
       "<Figure size 432x288 with 1 Axes>"
      ]
     },
     "metadata": {
      "needs_background": "light"
     },
     "output_type": "display_data"
    }
   ],
   "source": [
    "import matplotlib.pyplot as plt\n",
    "fig = plt.figure()\n",
    "ax = fig.add_axes([0,0,1,1])\n",
    "langs = ['OPC', 'T', 'RH']\n",
    "students = [int(FI[0]),int(FI[1]),int(FI[2])]\n",
    "graph=ax.bar(langs,students, color='#6495ED')\n",
    "i = 0\n",
    "for p in graph:\n",
    "    width = p.get_width()\n",
    "    height = p.get_height()\n",
    "    x, y = p.get_xy()\n",
    "    plt.text(x+width/2,\n",
    "             y+height*1.01,\n",
    "             str(students[i])+'%',\n",
    "             ha='center',\n",
    "             weight='bold',fontsize=18, color='teal')\n",
    "    i+=1\n",
    "plt.xticks(fontsize=14)\n",
    "plt.yticks(fontsize=14)\n",
    "plt.yticks(np.arange(0,100, step=10))\n",
    "plt.ylabel('Feature importance (%)', fontsize=20)\n",
    "#plt.title(r\"$O_3$\",fontsize=18)\n",
    "plt.savefig(\"R1_10_FI.pdf\", format=\"pdf\", bbox_inches=\"tight\")\n",
    "plt.show()"
   ]
  },
  {
   "cell_type": "code",
   "execution_count": null,
   "id": "progressive-hygiene",
   "metadata": {},
   "outputs": [],
   "source": []
  },
  {
   "cell_type": "code",
   "execution_count": null,
   "id": "canadian-neighbor",
   "metadata": {},
   "outputs": [],
   "source": []
  },
  {
   "cell_type": "code",
   "execution_count": null,
   "id": "regular-headline",
   "metadata": {},
   "outputs": [],
   "source": []
  },
  {
   "cell_type": "code",
   "execution_count": 681,
   "id": "authorized-organization",
   "metadata": {},
   "outputs": [
    {
     "name": "stdout",
     "output_type": "stream",
     "text": [
      "Model: \"sequential_24\"\n",
      "_________________________________________________________________\n",
      "Layer (type)                 Output Shape              Param #   \n",
      "=================================================================\n",
      "dense_120 (Dense)            (None, 6)                 24        \n",
      "_________________________________________________________________\n",
      "dense_121 (Dense)            (None, 128)               896       \n",
      "_________________________________________________________________\n",
      "dense_122 (Dense)            (None, 128)               16512     \n",
      "_________________________________________________________________\n",
      "dense_123 (Dense)            (None, 100)               12900     \n",
      "_________________________________________________________________\n",
      "dense_124 (Dense)            (None, 1)                 101       \n",
      "=================================================================\n",
      "Total params: 30,433\n",
      "Trainable params: 30,433\n",
      "Non-trainable params: 0\n",
      "_________________________________________________________________\n"
     ]
    }
   ],
   "source": [
    "from keras.models import Sequential\n",
    "from keras.layers import Dense\n",
    "from keras import optimizers\n",
    "from sklearn.preprocessing import StandardScaler\n",
    "model = Sequential()\n",
    "model.add(Dense(6, input_shape = (3,),kernel_initializer='normal', activation= 'linear'))\n",
    "model.add(Dense(128,kernel_initializer='normal', activation= 'relu'))\n",
    "model.add(Dense(128, kernel_initializer='normal',activation= 'relu'))\n",
    "model.add(Dense(100, kernel_initializer='normal',activation= 'relu'))\n",
    "model.add(Dense(1,kernel_initializer='normal',activation='linear',))\n",
    "sgd = optimizers.Adam(learning_rate=0.01)\n",
    "\n",
    "model.compile(optimizer = sgd, loss = 'mean_squared_error', metrics= ['mse', 'mae'])\n",
    "model.summary()"
   ]
  },
  {
   "cell_type": "markdown",
   "id": "running-surgeon",
   "metadata": {},
   "source": [
    "scaler = StandardScaler()\n",
    "scaler.fit(X_train)\n",
    "X_train_scaled=scaler.transform(X_train)\n",
    "X_test_scaled=scaler.transform(X_test)\n",
    "model.fit(X_train_scaled, y_train, batch_size= 100, epochs=100, verbose= 0)"
   ]
  },
  {
   "cell_type": "markdown",
   "id": "egyptian-modern",
   "metadata": {},
   "source": [
    "train_pred = model.predict(X_train_scaled)\n",
    "test_pred = model.predict(X_test_scaled)\n",
    "pred=[]\n",
    "for i in range(len(test_pred)):\n",
    "    pred.append(sum(list(test_pred[i])))\n",
    "len(y_test)"
   ]
  },
  {
   "cell_type": "code",
   "execution_count": 682,
   "id": "least-lease",
   "metadata": {},
   "outputs": [
    {
     "data": {
      "text/plain": [
       "(0.42, 0.66)"
      ]
     },
     "execution_count": 682,
     "metadata": {},
     "output_type": "execute_result"
    }
   ],
   "source": [
    "Pearson_1=round(np.corrcoef(y_test, lab1)[0, 1],2)\n",
    "Pearson_2=round(np.corrcoef(y_test, pred)[0, 1],2)\n",
    "R2_lab=round(sm.r2_score(y_test, lab1), 2)\n",
    "R2_RF=round(sm.r2_score(y_test, pred), 2)\n",
    "R2_lab,R2_RF"
   ]
  },
  {
   "cell_type": "code",
   "execution_count": 683,
   "id": "toxic-puppy",
   "metadata": {},
   "outputs": [
    {
     "data": {
      "text/plain": [
       "(0.82, 0.82)"
      ]
     },
     "execution_count": 683,
     "metadata": {},
     "output_type": "execute_result"
    }
   ],
   "source": [
    "Pearson_1,Pearson_2"
   ]
  },
  {
   "cell_type": "code",
   "execution_count": null,
   "id": "billion-monkey",
   "metadata": {},
   "outputs": [],
   "source": []
  }
 ],
 "metadata": {
  "kernelspec": {
   "display_name": "Python 3",
   "language": "python",
   "name": "python3"
  },
  "language_info": {
   "codemirror_mode": {
    "name": "ipython",
    "version": 3
   },
   "file_extension": ".py",
   "mimetype": "text/x-python",
   "name": "python",
   "nbconvert_exporter": "python",
   "pygments_lexer": "ipython3",
   "version": "3.8.6"
  }
 },
 "nbformat": 4,
 "nbformat_minor": 5
}
