{
 "cells": [
  {
   "cell_type": "markdown",
   "id": "aboriginal-deviation",
   "metadata": {},
   "source": [
    "# Reference Data"
   ]
  },
  {
   "cell_type": "code",
   "execution_count": 138,
   "id": "ranking-receiver",
   "metadata": {},
   "outputs": [],
   "source": [
    "import pandas as pd\n",
    "Ref=pd.read_csv('Ref.csv')\n",
    "Ref[\"CO\"] = 1000 * Ref[\"CO\"]\n",
    "Ref['Date'] = pd.to_datetime(Ref['Date_Time'])\n",
    "Ref=Ref.set_index('Date')\n",
    "Ref.drop('Date_Time',axis = 1, inplace = True)\n",
    "Ref=Ref.resample('5min').mean()\n",
    "Ref=Ref[76463:137376]"
   ]
  },
  {
   "cell_type": "code",
   "execution_count": 139,
   "id": "going-spyware",
   "metadata": {},
   "outputs": [],
   "source": [
    "Ref_CO=Ref['CO'].to_list()\n",
    "Ref_NO2=Ref['NO2'].to_list()\n",
    "Ref_SO2=Ref['SO2'].to_list()\n",
    "Ref_O3=Ref['O3'].to_list()"
   ]
  },
  {
   "cell_type": "markdown",
   "id": "speaking-connectivity",
   "metadata": {},
   "source": [
    "# CO DATA"
   ]
  },
  {
   "cell_type": "code",
   "execution_count": 150,
   "id": "important-amsterdam",
   "metadata": {},
   "outputs": [
    {
     "data": {
      "text/html": [
       "<div>\n",
       "<style scoped>\n",
       "    .dataframe tbody tr th:only-of-type {\n",
       "        vertical-align: middle;\n",
       "    }\n",
       "\n",
       "    .dataframe tbody tr th {\n",
       "        vertical-align: top;\n",
       "    }\n",
       "\n",
       "    .dataframe thead th {\n",
       "        text-align: right;\n",
       "    }\n",
       "</style>\n",
       "<table border=\"1\" class=\"dataframe\">\n",
       "  <thead>\n",
       "    <tr style=\"text-align: right;\">\n",
       "      <th></th>\n",
       "      <th>WE</th>\n",
       "      <th>AE</th>\n",
       "      <th>Temp</th>\n",
       "      <th>RH</th>\n",
       "      <th>Ref</th>\n",
       "      <th>Net Signal</th>\n",
       "      <th>Lab1</th>\n",
       "      <th>Month</th>\n",
       "      <th>Day_of_week</th>\n",
       "      <th>Day</th>\n",
       "      <th>Hour</th>\n",
       "    </tr>\n",
       "    <tr>\n",
       "      <th>Date</th>\n",
       "      <th></th>\n",
       "      <th></th>\n",
       "      <th></th>\n",
       "      <th></th>\n",
       "      <th></th>\n",
       "      <th></th>\n",
       "      <th></th>\n",
       "      <th></th>\n",
       "      <th></th>\n",
       "      <th></th>\n",
       "      <th></th>\n",
       "    </tr>\n",
       "  </thead>\n",
       "  <tbody>\n",
       "    <tr>\n",
       "      <th>2019-10-10 00:00:00</th>\n",
       "      <td>392.034683</td>\n",
       "      <td>339.190266</td>\n",
       "      <td>21.248222</td>\n",
       "      <td>79.362389</td>\n",
       "      <td>176.918267</td>\n",
       "      <td>52.844418</td>\n",
       "      <td>438</td>\n",
       "      <td>10</td>\n",
       "      <td>3</td>\n",
       "      <td>10</td>\n",
       "      <td>0</td>\n",
       "    </tr>\n",
       "    <tr>\n",
       "      <th>2019-10-10 00:05:00</th>\n",
       "      <td>390.594672</td>\n",
       "      <td>339.582500</td>\n",
       "      <td>21.250287</td>\n",
       "      <td>79.447932</td>\n",
       "      <td>162.943200</td>\n",
       "      <td>51.012172</td>\n",
       "      <td>1738</td>\n",
       "      <td>10</td>\n",
       "      <td>3</td>\n",
       "      <td>10</td>\n",
       "      <td>0</td>\n",
       "    </tr>\n",
       "    <tr>\n",
       "      <th>2019-10-10 00:15:00</th>\n",
       "      <td>387.038180</td>\n",
       "      <td>339.829106</td>\n",
       "      <td>21.201875</td>\n",
       "      <td>79.608125</td>\n",
       "      <td>161.517550</td>\n",
       "      <td>47.209074</td>\n",
       "      <td>1578</td>\n",
       "      <td>10</td>\n",
       "      <td>3</td>\n",
       "      <td>10</td>\n",
       "      <td>0</td>\n",
       "    </tr>\n",
       "    <tr>\n",
       "      <th>2019-10-10 00:20:00</th>\n",
       "      <td>388.694572</td>\n",
       "      <td>339.828444</td>\n",
       "      <td>21.153335</td>\n",
       "      <td>79.679358</td>\n",
       "      <td>148.941867</td>\n",
       "      <td>48.866128</td>\n",
       "      <td>494</td>\n",
       "      <td>10</td>\n",
       "      <td>3</td>\n",
       "      <td>10</td>\n",
       "      <td>0</td>\n",
       "    </tr>\n",
       "    <tr>\n",
       "      <th>2019-10-10 00:25:00</th>\n",
       "      <td>386.747476</td>\n",
       "      <td>339.956983</td>\n",
       "      <td>21.087582</td>\n",
       "      <td>79.734711</td>\n",
       "      <td>140.227950</td>\n",
       "      <td>46.790493</td>\n",
       "      <td>830</td>\n",
       "      <td>10</td>\n",
       "      <td>3</td>\n",
       "      <td>10</td>\n",
       "      <td>0</td>\n",
       "    </tr>\n",
       "  </tbody>\n",
       "</table>\n",
       "</div>"
      ],
      "text/plain": [
       "                             WE          AE       Temp         RH         Ref  \\\n",
       "Date                                                                            \n",
       "2019-10-10 00:00:00  392.034683  339.190266  21.248222  79.362389  176.918267   \n",
       "2019-10-10 00:05:00  390.594672  339.582500  21.250287  79.447932  162.943200   \n",
       "2019-10-10 00:15:00  387.038180  339.829106  21.201875  79.608125  161.517550   \n",
       "2019-10-10 00:20:00  388.694572  339.828444  21.153335  79.679358  148.941867   \n",
       "2019-10-10 00:25:00  386.747476  339.956983  21.087582  79.734711  140.227950   \n",
       "\n",
       "                     Net Signal  Lab1  Month  Day_of_week  Day  Hour  \n",
       "Date                                                                  \n",
       "2019-10-10 00:00:00   52.844418   438     10            3   10     0  \n",
       "2019-10-10 00:05:00   51.012172  1738     10            3   10     0  \n",
       "2019-10-10 00:15:00   47.209074  1578     10            3   10     0  \n",
       "2019-10-10 00:20:00   48.866128   494     10            3   10     0  \n",
       "2019-10-10 00:25:00   46.790493   830     10            3   10     0  "
      ]
     },
     "execution_count": 150,
     "metadata": {},
     "output_type": "execute_result"
    }
   ],
   "source": [
    "import random\n",
    "import pandas as pd\n",
    "import scipy.io\n",
    "import numpy as np\n",
    "data = pd.read_csv('CO.txt', header = None,low_memory=False)\n",
    "data.columns=['WE','AE','Temp','RH','Time']\n",
    "Time=data['Time'].to_list()\n",
    "time=[]\n",
    "for i in range(len(Time)):\n",
    "    time.append(float(abs(Time[i])))\n",
    "Time=np.array(time)\n",
    "Date=pd.to_datetime(Time-719529,unit='d').round('s')\n",
    "data['Date'] = Date.tolist()\n",
    "data=data.set_index('Date')\n",
    "data.drop('Time',axis = 1, inplace = True)\n",
    "data=data.resample('5min').mean()\n",
    "Data_CO=data\n",
    "Data_CO['Ref']=Ref_CO\n",
    "WE=Data_CO['WE'].to_list()\n",
    "AE=Data_CO['AE'].to_list()\n",
    "signal=np.array(WE)-np.array(AE)\n",
    "Data_CO['Net Signal']=signal\n",
    "Lab=[random.randint(200,1800) for i in range(Ref.shape[0])]\n",
    "Data_CO['Lab1']=Lab\n",
    "Data_CO['Month']=Data_CO.index.month\n",
    "Data_CO['Day_of_week']=Data_CO.index.dayofweek\n",
    "Data_CO['Day']=Data_CO.index.day\n",
    "Data_CO['Hour']=Data_CO.index.hour\n",
    "CO_Data=Data_CO\n",
    "CO_Data=CO_Data[(CO_Data[CO_Data.columns] >= 0).all(axis=1)]\n",
    "CO_Data=CO_Data.dropna() \n",
    "CO_Data.head()"
   ]
  },
  {
   "cell_type": "markdown",
   "id": "announced-rabbit",
   "metadata": {},
   "source": [
    "## Model 1: Linear Regression"
   ]
  },
  {
   "cell_type": "code",
   "execution_count": 144,
   "id": "funded-shooting",
   "metadata": {},
   "outputs": [
    {
     "data": {
      "text/plain": [
       "7367"
      ]
     },
     "execution_count": 144,
     "metadata": {},
     "output_type": "execute_result"
    }
   ],
   "source": [
    "from sklearn.model_selection import train_test_split\n",
    "from sklearn.linear_model import LinearRegression\n",
    "from sklearn.metrics import mean_absolute_error as mae\n",
    "import sklearn.metrics as sm\n",
    "import matplotlib.pyplot as plt\n",
    "from sktime.performance_metrics.forecasting import sMAPE, smape_loss\n",
    "#'Ref_NO2','Ref_SO2','Ref_O3',\n",
    "#,'Month','Day_of_week','Day','Hour'\n",
    "\n",
    "X=CO_Data[['Net Signal','Temp','RH','Month','Day_of_week','Day','Hour']]\n",
    "y=CO_Data['Ref']\n",
    "X_train, X_test, y_train, y_test = train_test_split(X, y, test_size = 0.2)\n",
    "len(y_test)"
   ]
  },
  {
   "cell_type": "code",
   "execution_count": 149,
   "id": "higher-nigeria",
   "metadata": {},
   "outputs": [
    {
     "data": {
      "text/plain": [
       "(0.79, 264.4)"
      ]
     },
     "execution_count": 149,
     "metadata": {},
     "output_type": "execute_result"
    }
   ],
   "source": [
    "lr = LinearRegression()\n",
    "model = lr.fit(X_train, y_train)\n",
    "pred = model.predict(X_test)\n",
    "#lab1=X_test['Lab1'].to_list()\n",
    "\n",
    "index=[i for i in range(len(y_test))]\n",
    "Y_test=y_test.to_list()\n",
    "Y_test=pd.Series(Y_test,index =index)\n",
    "Y_test\n",
    "Pred=pd.Series(pred,index =index)\n",
    "#Lab1=pd.Series(lab1,index =index)\n",
    "sMAPE_lr=round(smape_loss(Y_test,Pred),2)\n",
    "#sMAPE_lab=round (smape_loss(Y_test,Lab1),2)\n",
    "RMSE_lr=round(np.sqrt(sm.mean_squared_error(y_test, pred)),1)\n",
    "#RMSE_lab=round(np.sqrt(sm.mean_squared_error(y_test, lab1)),1)\n",
    "Pearson_lr=round(np.corrcoef(y_test, pred)[0, 1],2)\n",
    "#Pearson_lab=round(np.corrcoef(y_test, lab1)[0, 1],2)\n",
    "sMAPE_lr_CO=sMAPE_lr\n",
    "RMSE_lr_CO=round(RMSE_lr/np.mean(np.array(y_test)),2)\n",
    "Pearson_lr_CO=Pearson_lr\n",
    "#sMAPE_lab_CO=sMAPE_lab\n",
    "#RMSE_lab_CO=round(RMSE_lab/np.mean(np.array(lab1)),2)\n",
    "#Pearson_lab_CO=Pearson_lab\n",
    "R2_lr_CO=round(sm.r2_score(y_test, pred), 2)\n",
    "#R2_lab_CO=round(sm.r2_score(y_test, lab1), 2)\n",
    "RMSE_Lr_CO=RMSE_lr\n",
    "#RMSE_Lab_CO=RMSE_lab\n",
    "\n",
    "A=len(y_test)-100\n",
    "D=max(y_test[A:])-0.2*max(y_test[A:])\n",
    "C=max(y_test[A:])-0.1*max(y_test[A:])\n",
    "B=120\n",
    "Pearson_lr,RMSE_Lr_CO"
   ]
  },
  {
   "cell_type": "code",
   "execution_count": 147,
   "id": "abstract-westminster",
   "metadata": {},
   "outputs": [
    {
     "data": {
      "image/png": "[encoded data removed]",
      "text/plain": [
       "<Figure size 576x432 with 1 Axes>"
      ]
     },
     "metadata": {
      "needs_background": "light"
     },
     "output_type": "display_data"
    }
   ],
   "source": [
    "fig= plt.figure(figsize=(8,6))\n",
    "index=[i for i in range(1,101)]\n",
    "ax = fig.add_subplot(111)\n",
    "ax.patch.set_facecolor('lightblue')\n",
    "ax.patch.set_alpha(0.2)\n",
    "plt.plot(index,y_test[A:], color='limegreen',linewidth=3)\n",
    "plt.plot(index,pred[A:], color='#513e00',linewidth=3)\n",
    "#plt.plot(index,lab1[A:], color='#426eff',linewidth=3)\n",
    "plt.legend(['Ref', 'LR-Calibrated'], loc = 2, bbox_to_anchor = (0.74,1))\n",
    "plt.ylabel('CO Concentration(ppb)',fontsize=18)\n",
    "#plt.text(B-20, C, r'$R^{2}(LR)=$'+str(R2_lr_CO), fontsize = 14, color='#513e00')\n",
    "#plt.text(B-20, D, r'$R^{2}(Lab)=$' +str(R2_lab_CO), fontsize = 14, color='#426eff')\n",
    "#plt.text(B-70, C, 'Pearson r(LR)='+str(Pearson_lr), fontsize = 14, color='#513e00')\n",
    "#plt.text(B-70, D, 'Pearson r(Lab)='+str(Pearson_lab), fontsize = 14, color='#426eff')\n",
    "#plt.xlabel('Last 200 hours of testing period',fontsize=18)\n",
    "#plt.title('Visualization: Linear Regression Calibration vs Laboratory Calibration',fontsize=18)\n",
    "plt.grid(linestyle='-.',linewidth=0.3)\n",
    "plt.show()"
   ]
  },
  {
   "cell_type": "code",
   "execution_count": null,
   "id": "pointed-filename",
   "metadata": {},
   "outputs": [],
   "source": []
  },
  {
   "cell_type": "code",
   "execution_count": null,
   "id": "israeli-tomato",
   "metadata": {},
   "outputs": [],
   "source": []
  },
  {
   "cell_type": "code",
   "execution_count": null,
   "id": "medieval-recipient",
   "metadata": {},
   "outputs": [],
   "source": []
  },
  {
   "cell_type": "markdown",
   "id": "traditional-astronomy",
   "metadata": {},
   "source": [
    "# NO2 DATA"
   ]
  },
  {
   "cell_type": "code",
   "execution_count": 132,
   "id": "noted-barbados",
   "metadata": {},
   "outputs": [
    {
     "data": {
      "text/plain": [
       "(37638, 10)"
      ]
     },
     "execution_count": 132,
     "metadata": {},
     "output_type": "execute_result"
    }
   ],
   "source": [
    "import pandas as pd\n",
    "import scipy.io\n",
    "import numpy as np\n",
    "data = pd.read_csv('NO2.txt', header = None,low_memory=False)\n",
    "data.columns=['WE','AE','Temp','RH','Time']\n",
    "Time=data['Time'].to_list()\n",
    "time=[]\n",
    "for i in range(len(Time)):\n",
    "    time.append(float(abs(Time[i])))\n",
    "Time=np.array(time)\n",
    "Date=pd.to_datetime(Time-719529,unit='d').round('s')\n",
    "data['Date'] = Date.tolist()\n",
    "data=data.set_index('Date')\n",
    "data.drop('Time',axis = 1, inplace = True)\n",
    "data=data.resample('5min').mean()\n",
    "Data_NO2=data\n",
    "Data_NO2['Ref']=Ref_NO2\n",
    "WE=Data_NO2['WE'].to_list()\n",
    "AE=Data_NO2['AE'].to_list()\n",
    "signal=np.array(WE)-np.array(AE)\n",
    "Data_NO2['Net Signal']=signal\n",
    "Data_NO2['Month']=Data_NO2.index.month\n",
    "Data_NO2['Day_of_week']=Data_NO2.index.dayofweek\n",
    "Data_NO2['Day']=Data_NO2.index.day\n",
    "Data_NO2['Hour']=Data_NO2.index.hour\n",
    "NO2_Data=Data_NO2\n",
    "NO2_Data=NO2_Data[(NO2_Data[NO2_Data.columns] >= 0).all(axis=1)]\n",
    "NO2_Data=NO2_Data.dropna() \n",
    "NO2_Data.shape"
   ]
  },
  {
   "cell_type": "markdown",
   "id": "seeing-width",
   "metadata": {},
   "source": [
    "# SO2 DATA"
   ]
  },
  {
   "cell_type": "code",
   "execution_count": 133,
   "id": "awful-swimming",
   "metadata": {},
   "outputs": [
    {
     "data": {
      "text/plain": [
       "(17935, 10)"
      ]
     },
     "execution_count": 133,
     "metadata": {},
     "output_type": "execute_result"
    }
   ],
   "source": [
    "import pandas as pd\n",
    "import scipy.io\n",
    "import numpy as np\n",
    "data = pd.read_csv('SO2.txt', header = None,low_memory=False)\n",
    "data.columns=['WE','AE','Temp','RH','Time']\n",
    "Time=data['Time'].to_list()\n",
    "time=[]\n",
    "for i in range(len(Time)):\n",
    "    time.append(float(abs(Time[i])))\n",
    "Time=np.array(time)\n",
    "Date=pd.to_datetime(Time-719529,unit='d').round('s')\n",
    "data['Date'] = Date.tolist()\n",
    "data=data.set_index('Date')\n",
    "data.drop('Time',axis = 1, inplace = True)\n",
    "data=data.resample('5min').mean()\n",
    "Data_SO2=data\n",
    "Data_SO2['Ref']=Ref_SO2\n",
    "WE=Data_SO2['WE'].to_list()\n",
    "AE=Data_SO2['AE'].to_list()\n",
    "signal=np.array(WE)-np.array(AE)\n",
    "Data_SO2['Net Signal']=signal\n",
    "Data_SO2['Month']=Data_SO2.index.month\n",
    "Data_SO2['Day_of_week']=Data_SO2.index.dayofweek\n",
    "Data_SO2['Day']=Data_SO2.index.day\n",
    "Data_SO2['Hour']=Data_SO2.index.hour\n",
    "SO2_Data=Data_SO2\n",
    "SO2_Data=SO2_Data[(SO2_Data[SO2_Data.columns] >= 0).all(axis=1)]\n",
    "SO2_Data=SO2_Data.dropna() \n"
   ]
  },
  {
   "cell_type": "markdown",
   "id": "nutritional-editor",
   "metadata": {},
   "source": [
    "# O3 DATA"
   ]
  },
  {
   "cell_type": "code",
   "execution_count": 135,
   "id": "amended-malta",
   "metadata": {},
   "outputs": [
    {
     "data": {
      "text/plain": [
       "(33860, 10)"
      ]
     },
     "execution_count": 135,
     "metadata": {},
     "output_type": "execute_result"
    }
   ],
   "source": [
    "import pandas as pd\n",
    "import scipy.io\n",
    "import numpy as np\n",
    "data = pd.read_csv('O3.txt', header = None,low_memory=False)\n",
    "data.columns=['AE','WE','Temp','RH','Time']\n",
    "Time=data['Time'].to_list()\n",
    "time=[]\n",
    "for i in range(len(Time)):\n",
    "    time.append(float(abs(Time[i])))\n",
    "Time=np.array(time)\n",
    "Date=pd.to_datetime(Time-719529,unit='d').round('s')\n",
    "data['Date'] = Date.tolist()\n",
    "data=data.set_index('Date')\n",
    "data.drop('Time',axis = 1, inplace = True)\n",
    "data=data.resample('5min').mean()\n",
    "Data_O3=data\n",
    "Data_O3['Ref']=Ref_O3\n",
    "WE=Data_O3['WE'].to_list()\n",
    "AE=Data_O3['AE'].to_list()\n",
    "signal=np.array(WE)-np.array(AE)\n",
    "Data_O3['Net Signal']=signal\n",
    "Data_O3['Month']=Data_O3.index.month\n",
    "Data_O3['Day_of_week']=Data_O3.index.dayofweek\n",
    "Data_O3['Day']=Data_O3.index.day\n",
    "Data_O3['Hour']=Data_O3.index.hour\n",
    "O3_Data=Data_O3\n",
    "O3_Data=O3_Data[(O3_Data[O3_Data.columns] >= 0).all(axis=1)]\n",
    "O3_Data=O3_Data.dropna() \n",
    "O3_Data.shape"
   ]
  },
  {
   "cell_type": "code",
   "execution_count": null,
   "id": "optional-municipality",
   "metadata": {},
   "outputs": [],
   "source": []
  },
  {
   "cell_type": "code",
   "execution_count": null,
   "id": "comic-colon",
   "metadata": {},
   "outputs": [],
   "source": []
  }
 ],
 "metadata": {
  "kernelspec": {
   "display_name": "Python 3",
   "language": "python",
   "name": "python3"
  },
  "language_info": {
   "codemirror_mode": {
    "name": "ipython",
    "version": 3
   },
   "file_extension": ".py",
   "mimetype": "text/x-python",
   "name": "python",
   "nbconvert_exporter": "python",
   "pygments_lexer": "ipython3",
   "version": "3.8.6"
  }
 },
 "nbformat": 4,
 "nbformat_minor": 5
}
