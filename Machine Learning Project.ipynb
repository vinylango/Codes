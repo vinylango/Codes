{
 "cells": [
  {
   "cell_type": "code",
   "execution_count": 1,
   "metadata": {},
   "outputs": [],
   "source": [
    "#Importing useful libraries\n",
    "import pandas as pd\n",
    "#import numpy as np\n",
    "import sklearn\n",
    "from sklearn import linear_model\n",
    "from sklearn.utils import shuffle"
   ]
  },
  {
   "cell_type": "code",
   "execution_count": 2,
   "metadata": {},
   "outputs": [],
   "source": [
    "#Importing and reading data.\n",
    "data = pd.read_csv(\"student-mat.csv\", sep=\";\")\n",
    "# Since our data is seperated by semicolons we need to do sep=\";\""
   ]
  },
  {
   "cell_type": "code",
   "execution_count": 3,
   "metadata": {},
   "outputs": [
    {
     "data": {
      "text/html": [
       "<div>\n",
       "<style scoped>\n",
       "    .dataframe tbody tr th:only-of-type {\n",
       "        vertical-align: middle;\n",
       "    }\n",
       "\n",
       "    .dataframe tbody tr th {\n",
       "        vertical-align: top;\n",
       "    }\n",
       "\n",
       "    .dataframe thead th {\n",
       "        text-align: right;\n",
       "    }\n",
       "</style>\n",
       "<table border=\"1\" class=\"dataframe\">\n",
       "  <thead>\n",
       "    <tr style=\"text-align: right;\">\n",
       "      <th></th>\n",
       "      <th>school</th>\n",
       "      <th>sex</th>\n",
       "      <th>age</th>\n",
       "      <th>address</th>\n",
       "      <th>famsize</th>\n",
       "      <th>Pstatus</th>\n",
       "      <th>Medu</th>\n",
       "      <th>Fedu</th>\n",
       "      <th>Mjob</th>\n",
       "      <th>Fjob</th>\n",
       "      <th>...</th>\n",
       "      <th>famrel</th>\n",
       "      <th>freetime</th>\n",
       "      <th>goout</th>\n",
       "      <th>Dalc</th>\n",
       "      <th>Walc</th>\n",
       "      <th>health</th>\n",
       "      <th>absences</th>\n",
       "      <th>G1</th>\n",
       "      <th>G2</th>\n",
       "      <th>G3</th>\n",
       "    </tr>\n",
       "  </thead>\n",
       "  <tbody>\n",
       "    <tr>\n",
       "      <th>0</th>\n",
       "      <td>GP</td>\n",
       "      <td>F</td>\n",
       "      <td>18</td>\n",
       "      <td>U</td>\n",
       "      <td>GT3</td>\n",
       "      <td>A</td>\n",
       "      <td>4</td>\n",
       "      <td>4</td>\n",
       "      <td>at_home</td>\n",
       "      <td>teacher</td>\n",
       "      <td>...</td>\n",
       "      <td>4</td>\n",
       "      <td>3</td>\n",
       "      <td>4</td>\n",
       "      <td>1</td>\n",
       "      <td>1</td>\n",
       "      <td>3</td>\n",
       "      <td>6</td>\n",
       "      <td>5</td>\n",
       "      <td>6</td>\n",
       "      <td>6</td>\n",
       "    </tr>\n",
       "    <tr>\n",
       "      <th>1</th>\n",
       "      <td>GP</td>\n",
       "      <td>F</td>\n",
       "      <td>17</td>\n",
       "      <td>U</td>\n",
       "      <td>GT3</td>\n",
       "      <td>T</td>\n",
       "      <td>1</td>\n",
       "      <td>1</td>\n",
       "      <td>at_home</td>\n",
       "      <td>other</td>\n",
       "      <td>...</td>\n",
       "      <td>5</td>\n",
       "      <td>3</td>\n",
       "      <td>3</td>\n",
       "      <td>1</td>\n",
       "      <td>1</td>\n",
       "      <td>3</td>\n",
       "      <td>4</td>\n",
       "      <td>5</td>\n",
       "      <td>5</td>\n",
       "      <td>6</td>\n",
       "    </tr>\n",
       "    <tr>\n",
       "      <th>2</th>\n",
       "      <td>GP</td>\n",
       "      <td>F</td>\n",
       "      <td>15</td>\n",
       "      <td>U</td>\n",
       "      <td>LE3</td>\n",
       "      <td>T</td>\n",
       "      <td>1</td>\n",
       "      <td>1</td>\n",
       "      <td>at_home</td>\n",
       "      <td>other</td>\n",
       "      <td>...</td>\n",
       "      <td>4</td>\n",
       "      <td>3</td>\n",
       "      <td>2</td>\n",
       "      <td>2</td>\n",
       "      <td>3</td>\n",
       "      <td>3</td>\n",
       "      <td>10</td>\n",
       "      <td>7</td>\n",
       "      <td>8</td>\n",
       "      <td>10</td>\n",
       "    </tr>\n",
       "    <tr>\n",
       "      <th>3</th>\n",
       "      <td>GP</td>\n",
       "      <td>F</td>\n",
       "      <td>15</td>\n",
       "      <td>U</td>\n",
       "      <td>GT3</td>\n",
       "      <td>T</td>\n",
       "      <td>4</td>\n",
       "      <td>2</td>\n",
       "      <td>health</td>\n",
       "      <td>services</td>\n",
       "      <td>...</td>\n",
       "      <td>3</td>\n",
       "      <td>2</td>\n",
       "      <td>2</td>\n",
       "      <td>1</td>\n",
       "      <td>1</td>\n",
       "      <td>5</td>\n",
       "      <td>2</td>\n",
       "      <td>15</td>\n",
       "      <td>14</td>\n",
       "      <td>15</td>\n",
       "    </tr>\n",
       "    <tr>\n",
       "      <th>4</th>\n",
       "      <td>GP</td>\n",
       "      <td>F</td>\n",
       "      <td>16</td>\n",
       "      <td>U</td>\n",
       "      <td>GT3</td>\n",
       "      <td>T</td>\n",
       "      <td>3</td>\n",
       "      <td>3</td>\n",
       "      <td>other</td>\n",
       "      <td>other</td>\n",
       "      <td>...</td>\n",
       "      <td>4</td>\n",
       "      <td>3</td>\n",
       "      <td>2</td>\n",
       "      <td>1</td>\n",
       "      <td>2</td>\n",
       "      <td>5</td>\n",
       "      <td>4</td>\n",
       "      <td>6</td>\n",
       "      <td>10</td>\n",
       "      <td>10</td>\n",
       "    </tr>\n",
       "    <tr>\n",
       "      <th>5</th>\n",
       "      <td>GP</td>\n",
       "      <td>M</td>\n",
       "      <td>16</td>\n",
       "      <td>U</td>\n",
       "      <td>LE3</td>\n",
       "      <td>T</td>\n",
       "      <td>4</td>\n",
       "      <td>3</td>\n",
       "      <td>services</td>\n",
       "      <td>other</td>\n",
       "      <td>...</td>\n",
       "      <td>5</td>\n",
       "      <td>4</td>\n",
       "      <td>2</td>\n",
       "      <td>1</td>\n",
       "      <td>2</td>\n",
       "      <td>5</td>\n",
       "      <td>10</td>\n",
       "      <td>15</td>\n",
       "      <td>15</td>\n",
       "      <td>15</td>\n",
       "    </tr>\n",
       "  </tbody>\n",
       "</table>\n",
       "<p>6 rows × 33 columns</p>\n",
       "</div>"
      ],
      "text/plain": [
       "  school sex  age address famsize Pstatus  Medu  Fedu      Mjob      Fjob  \\\n",
       "0     GP   F   18       U     GT3       A     4     4   at_home   teacher   \n",
       "1     GP   F   17       U     GT3       T     1     1   at_home     other   \n",
       "2     GP   F   15       U     LE3       T     1     1   at_home     other   \n",
       "3     GP   F   15       U     GT3       T     4     2    health  services   \n",
       "4     GP   F   16       U     GT3       T     3     3     other     other   \n",
       "5     GP   M   16       U     LE3       T     4     3  services     other   \n",
       "\n",
       "   ... famrel freetime  goout  Dalc  Walc health absences  G1  G2  G3  \n",
       "0  ...      4        3      4     1     1      3        6   5   6   6  \n",
       "1  ...      5        3      3     1     1      3        4   5   5   6  \n",
       "2  ...      4        3      2     2     3      3       10   7   8  10  \n",
       "3  ...      3        2      2     1     1      5        2  15  14  15  \n",
       "4  ...      4        3      2     1     2      5        4   6  10  10  \n",
       "5  ...      5        4      2     1     2      5       10  15  15  15  \n",
       "\n",
       "[6 rows x 33 columns]"
      ]
     },
     "execution_count": 3,
     "metadata": {},
     "output_type": "execute_result"
    }
   ],
   "source": [
    "# Displaying the first 6 rows of the data.\n",
    "data.head(n=6)"
   ]
  },
  {
   "cell_type": "code",
   "execution_count": 4,
   "metadata": {},
   "outputs": [
    {
     "data": {
      "text/plain": [
       "(395, 33)"
      ]
     },
     "execution_count": 4,
     "metadata": {},
     "output_type": "execute_result"
    }
   ],
   "source": [
    "#Gives the number of columns and rows in our data\n",
    "data.shape\n",
    "\n"
   ]
  },
  {
   "cell_type": "code",
   "execution_count": 5,
   "metadata": {},
   "outputs": [
    {
     "data": {
      "text/plain": [
       "array([['GP', 'F', 18, ..., 5, 6, 6],\n",
       "       ['GP', 'F', 17, ..., 5, 5, 6],\n",
       "       ['GP', 'F', 15, ..., 7, 8, 10],\n",
       "       ...,\n",
       "       ['MS', 'M', 21, ..., 10, 8, 7],\n",
       "       ['MS', 'M', 18, ..., 11, 12, 10],\n",
       "       ['MS', 'M', 19, ..., 8, 9, 9]], dtype=object)"
      ]
     },
     "execution_count": 5,
     "metadata": {},
     "output_type": "execute_result"
    }
   ],
   "source": [
    "data.values"
   ]
  },
  {
   "cell_type": "code",
   "execution_count": 6,
   "metadata": {},
   "outputs": [
    {
     "data": {
      "text/html": [
       "<div>\n",
       "<style scoped>\n",
       "    .dataframe tbody tr th:only-of-type {\n",
       "        vertical-align: middle;\n",
       "    }\n",
       "\n",
       "    .dataframe tbody tr th {\n",
       "        vertical-align: top;\n",
       "    }\n",
       "\n",
       "    .dataframe thead th {\n",
       "        text-align: right;\n",
       "    }\n",
       "</style>\n",
       "<table border=\"1\" class=\"dataframe\">\n",
       "  <thead>\n",
       "    <tr style=\"text-align: right;\">\n",
       "      <th></th>\n",
       "      <th>age</th>\n",
       "      <th>Medu</th>\n",
       "      <th>Fedu</th>\n",
       "      <th>traveltime</th>\n",
       "      <th>studytime</th>\n",
       "      <th>failures</th>\n",
       "      <th>famrel</th>\n",
       "      <th>freetime</th>\n",
       "      <th>goout</th>\n",
       "      <th>Dalc</th>\n",
       "      <th>Walc</th>\n",
       "      <th>health</th>\n",
       "      <th>absences</th>\n",
       "      <th>G1</th>\n",
       "      <th>G2</th>\n",
       "      <th>G3</th>\n",
       "    </tr>\n",
       "  </thead>\n",
       "  <tbody>\n",
       "    <tr>\n",
       "      <th>count</th>\n",
       "      <td>395.000000</td>\n",
       "      <td>395.000000</td>\n",
       "      <td>395.000000</td>\n",
       "      <td>395.000000</td>\n",
       "      <td>395.000000</td>\n",
       "      <td>395.000000</td>\n",
       "      <td>395.000000</td>\n",
       "      <td>395.000000</td>\n",
       "      <td>395.000000</td>\n",
       "      <td>395.000000</td>\n",
       "      <td>395.000000</td>\n",
       "      <td>395.000000</td>\n",
       "      <td>395.000000</td>\n",
       "      <td>395.000000</td>\n",
       "      <td>395.000000</td>\n",
       "      <td>395.000000</td>\n",
       "    </tr>\n",
       "    <tr>\n",
       "      <th>mean</th>\n",
       "      <td>16.696203</td>\n",
       "      <td>2.749367</td>\n",
       "      <td>2.521519</td>\n",
       "      <td>1.448101</td>\n",
       "      <td>2.035443</td>\n",
       "      <td>0.334177</td>\n",
       "      <td>3.944304</td>\n",
       "      <td>3.235443</td>\n",
       "      <td>3.108861</td>\n",
       "      <td>1.481013</td>\n",
       "      <td>2.291139</td>\n",
       "      <td>3.554430</td>\n",
       "      <td>5.708861</td>\n",
       "      <td>10.908861</td>\n",
       "      <td>10.713924</td>\n",
       "      <td>10.415190</td>\n",
       "    </tr>\n",
       "    <tr>\n",
       "      <th>std</th>\n",
       "      <td>1.276043</td>\n",
       "      <td>1.094735</td>\n",
       "      <td>1.088201</td>\n",
       "      <td>0.697505</td>\n",
       "      <td>0.839240</td>\n",
       "      <td>0.743651</td>\n",
       "      <td>0.896659</td>\n",
       "      <td>0.998862</td>\n",
       "      <td>1.113278</td>\n",
       "      <td>0.890741</td>\n",
       "      <td>1.287897</td>\n",
       "      <td>1.390303</td>\n",
       "      <td>8.003096</td>\n",
       "      <td>3.319195</td>\n",
       "      <td>3.761505</td>\n",
       "      <td>4.581443</td>\n",
       "    </tr>\n",
       "    <tr>\n",
       "      <th>min</th>\n",
       "      <td>15.000000</td>\n",
       "      <td>0.000000</td>\n",
       "      <td>0.000000</td>\n",
       "      <td>1.000000</td>\n",
       "      <td>1.000000</td>\n",
       "      <td>0.000000</td>\n",
       "      <td>1.000000</td>\n",
       "      <td>1.000000</td>\n",
       "      <td>1.000000</td>\n",
       "      <td>1.000000</td>\n",
       "      <td>1.000000</td>\n",
       "      <td>1.000000</td>\n",
       "      <td>0.000000</td>\n",
       "      <td>3.000000</td>\n",
       "      <td>0.000000</td>\n",
       "      <td>0.000000</td>\n",
       "    </tr>\n",
       "    <tr>\n",
       "      <th>25%</th>\n",
       "      <td>16.000000</td>\n",
       "      <td>2.000000</td>\n",
       "      <td>2.000000</td>\n",
       "      <td>1.000000</td>\n",
       "      <td>1.000000</td>\n",
       "      <td>0.000000</td>\n",
       "      <td>4.000000</td>\n",
       "      <td>3.000000</td>\n",
       "      <td>2.000000</td>\n",
       "      <td>1.000000</td>\n",
       "      <td>1.000000</td>\n",
       "      <td>3.000000</td>\n",
       "      <td>0.000000</td>\n",
       "      <td>8.000000</td>\n",
       "      <td>9.000000</td>\n",
       "      <td>8.000000</td>\n",
       "    </tr>\n",
       "    <tr>\n",
       "      <th>50%</th>\n",
       "      <td>17.000000</td>\n",
       "      <td>3.000000</td>\n",
       "      <td>2.000000</td>\n",
       "      <td>1.000000</td>\n",
       "      <td>2.000000</td>\n",
       "      <td>0.000000</td>\n",
       "      <td>4.000000</td>\n",
       "      <td>3.000000</td>\n",
       "      <td>3.000000</td>\n",
       "      <td>1.000000</td>\n",
       "      <td>2.000000</td>\n",
       "      <td>4.000000</td>\n",
       "      <td>4.000000</td>\n",
       "      <td>11.000000</td>\n",
       "      <td>11.000000</td>\n",
       "      <td>11.000000</td>\n",
       "    </tr>\n",
       "    <tr>\n",
       "      <th>75%</th>\n",
       "      <td>18.000000</td>\n",
       "      <td>4.000000</td>\n",
       "      <td>3.000000</td>\n",
       "      <td>2.000000</td>\n",
       "      <td>2.000000</td>\n",
       "      <td>0.000000</td>\n",
       "      <td>5.000000</td>\n",
       "      <td>4.000000</td>\n",
       "      <td>4.000000</td>\n",
       "      <td>2.000000</td>\n",
       "      <td>3.000000</td>\n",
       "      <td>5.000000</td>\n",
       "      <td>8.000000</td>\n",
       "      <td>13.000000</td>\n",
       "      <td>13.000000</td>\n",
       "      <td>14.000000</td>\n",
       "    </tr>\n",
       "    <tr>\n",
       "      <th>max</th>\n",
       "      <td>22.000000</td>\n",
       "      <td>4.000000</td>\n",
       "      <td>4.000000</td>\n",
       "      <td>4.000000</td>\n",
       "      <td>4.000000</td>\n",
       "      <td>3.000000</td>\n",
       "      <td>5.000000</td>\n",
       "      <td>5.000000</td>\n",
       "      <td>5.000000</td>\n",
       "      <td>5.000000</td>\n",
       "      <td>5.000000</td>\n",
       "      <td>5.000000</td>\n",
       "      <td>75.000000</td>\n",
       "      <td>19.000000</td>\n",
       "      <td>19.000000</td>\n",
       "      <td>20.000000</td>\n",
       "    </tr>\n",
       "  </tbody>\n",
       "</table>\n",
       "</div>"
      ],
      "text/plain": [
       "              age        Medu        Fedu  traveltime   studytime    failures  \\\n",
       "count  395.000000  395.000000  395.000000  395.000000  395.000000  395.000000   \n",
       "mean    16.696203    2.749367    2.521519    1.448101    2.035443    0.334177   \n",
       "std      1.276043    1.094735    1.088201    0.697505    0.839240    0.743651   \n",
       "min     15.000000    0.000000    0.000000    1.000000    1.000000    0.000000   \n",
       "25%     16.000000    2.000000    2.000000    1.000000    1.000000    0.000000   \n",
       "50%     17.000000    3.000000    2.000000    1.000000    2.000000    0.000000   \n",
       "75%     18.000000    4.000000    3.000000    2.000000    2.000000    0.000000   \n",
       "max     22.000000    4.000000    4.000000    4.000000    4.000000    3.000000   \n",
       "\n",
       "           famrel    freetime       goout        Dalc        Walc      health  \\\n",
       "count  395.000000  395.000000  395.000000  395.000000  395.000000  395.000000   \n",
       "mean     3.944304    3.235443    3.108861    1.481013    2.291139    3.554430   \n",
       "std      0.896659    0.998862    1.113278    0.890741    1.287897    1.390303   \n",
       "min      1.000000    1.000000    1.000000    1.000000    1.000000    1.000000   \n",
       "25%      4.000000    3.000000    2.000000    1.000000    1.000000    3.000000   \n",
       "50%      4.000000    3.000000    3.000000    1.000000    2.000000    4.000000   \n",
       "75%      5.000000    4.000000    4.000000    2.000000    3.000000    5.000000   \n",
       "max      5.000000    5.000000    5.000000    5.000000    5.000000    5.000000   \n",
       "\n",
       "         absences          G1          G2          G3  \n",
       "count  395.000000  395.000000  395.000000  395.000000  \n",
       "mean     5.708861   10.908861   10.713924   10.415190  \n",
       "std      8.003096    3.319195    3.761505    4.581443  \n",
       "min      0.000000    3.000000    0.000000    0.000000  \n",
       "25%      0.000000    8.000000    9.000000    8.000000  \n",
       "50%      4.000000   11.000000   11.000000   11.000000  \n",
       "75%      8.000000   13.000000   13.000000   14.000000  \n",
       "max     75.000000   19.000000   19.000000   20.000000  "
      ]
     },
     "execution_count": 6,
     "metadata": {},
     "output_type": "execute_result"
    }
   ],
   "source": [
    "#Summary statistics of the data. Gives summary statistics of the data in numeric form.\n",
    "data.describe()"
   ]
  },
  {
   "cell_type": "code",
   "execution_count": 7,
   "metadata": {},
   "outputs": [
    {
     "data": {
      "text/plain": [
       "Index(['school', 'sex', 'age', 'address', 'famsize', 'Pstatus', 'Medu', 'Fedu',\n",
       "       'Mjob', 'Fjob', 'reason', 'guardian', 'traveltime', 'studytime',\n",
       "       'failures', 'schoolsup', 'famsup', 'paid', 'activities', 'nursery',\n",
       "       'higher', 'internet', 'romantic', 'famrel', 'freetime', 'goout', 'Dalc',\n",
       "       'Walc', 'health', 'absences', 'G1', 'G2', 'G3'],\n",
       "      dtype='object')"
      ]
     },
     "execution_count": 7,
     "metadata": {},
     "output_type": "execute_result"
    }
   ],
   "source": [
    "data.columns"
   ]
  },
  {
   "cell_type": "code",
   "execution_count": 8,
   "metadata": {},
   "outputs": [
    {
     "data": {
      "text/html": [
       "<div>\n",
       "<style scoped>\n",
       "    .dataframe tbody tr th:only-of-type {\n",
       "        vertical-align: middle;\n",
       "    }\n",
       "\n",
       "    .dataframe tbody tr th {\n",
       "        vertical-align: top;\n",
       "    }\n",
       "\n",
       "    .dataframe thead th {\n",
       "        text-align: right;\n",
       "    }\n",
       "</style>\n",
       "<table border=\"1\" class=\"dataframe\">\n",
       "  <thead>\n",
       "    <tr style=\"text-align: right;\">\n",
       "      <th></th>\n",
       "      <th>sex</th>\n",
       "      <th>age</th>\n",
       "      <th>G1</th>\n",
       "      <th>G2</th>\n",
       "      <th>G3</th>\n",
       "    </tr>\n",
       "  </thead>\n",
       "  <tbody>\n",
       "    <tr>\n",
       "      <th>0</th>\n",
       "      <td>F</td>\n",
       "      <td>18</td>\n",
       "      <td>5</td>\n",
       "      <td>6</td>\n",
       "      <td>6</td>\n",
       "    </tr>\n",
       "    <tr>\n",
       "      <th>1</th>\n",
       "      <td>F</td>\n",
       "      <td>17</td>\n",
       "      <td>5</td>\n",
       "      <td>5</td>\n",
       "      <td>6</td>\n",
       "    </tr>\n",
       "    <tr>\n",
       "      <th>2</th>\n",
       "      <td>F</td>\n",
       "      <td>15</td>\n",
       "      <td>7</td>\n",
       "      <td>8</td>\n",
       "      <td>10</td>\n",
       "    </tr>\n",
       "    <tr>\n",
       "      <th>3</th>\n",
       "      <td>F</td>\n",
       "      <td>15</td>\n",
       "      <td>15</td>\n",
       "      <td>14</td>\n",
       "      <td>15</td>\n",
       "    </tr>\n",
       "    <tr>\n",
       "      <th>4</th>\n",
       "      <td>F</td>\n",
       "      <td>16</td>\n",
       "      <td>6</td>\n",
       "      <td>10</td>\n",
       "      <td>10</td>\n",
       "    </tr>\n",
       "  </tbody>\n",
       "</table>\n",
       "</div>"
      ],
      "text/plain": [
       "  sex  age  G1  G2  G3\n",
       "0   F   18   5   6   6\n",
       "1   F   17   5   5   6\n",
       "2   F   15   7   8  10\n",
       "3   F   15  15  14  15\n",
       "4   F   16   6  10  10"
      ]
     },
     "execution_count": 8,
     "metadata": {},
     "output_type": "execute_result"
    }
   ],
   "source": [
    "#Picking only a few columns of the data and saving the new data as data1\n",
    "\n",
    "data1=data[[\"sex\",\"age\",\"G1\",\"G2\",\"G3\"]]\n",
    "data1.head()"
   ]
  },
  {
   "cell_type": "code",
   "execution_count": 9,
   "metadata": {},
   "outputs": [
    {
     "data": {
      "text/plain": [
       "school        object\n",
       "sex           object\n",
       "age            int64\n",
       "address       object\n",
       "famsize       object\n",
       "Pstatus       object\n",
       "Medu           int64\n",
       "Fedu           int64\n",
       "Mjob          object\n",
       "Fjob          object\n",
       "reason        object\n",
       "guardian      object\n",
       "traveltime     int64\n",
       "studytime      int64\n",
       "failures       int64\n",
       "schoolsup     object\n",
       "famsup        object\n",
       "paid          object\n",
       "activities    object\n",
       "nursery       object\n",
       "higher        object\n",
       "internet      object\n",
       "romantic      object\n",
       "famrel         int64\n",
       "freetime       int64\n",
       "goout          int64\n",
       "Dalc           int64\n",
       "Walc           int64\n",
       "health         int64\n",
       "absences       int64\n",
       "G1             int64\n",
       "G2             int64\n",
       "G3             int64\n",
       "dtype: object"
      ]
     },
     "execution_count": 9,
     "metadata": {},
     "output_type": "execute_result"
    }
   ],
   "source": [
    "data.dtypes"
   ]
  },
  {
   "cell_type": "code",
   "execution_count": 10,
   "metadata": {},
   "outputs": [
    {
     "data": {
      "text/html": [
       "<div>\n",
       "<style scoped>\n",
       "    .dataframe tbody tr th:only-of-type {\n",
       "        vertical-align: middle;\n",
       "    }\n",
       "\n",
       "    .dataframe tbody tr th {\n",
       "        vertical-align: top;\n",
       "    }\n",
       "\n",
       "    .dataframe thead th {\n",
       "        text-align: right;\n",
       "    }\n",
       "</style>\n",
       "<table border=\"1\" class=\"dataframe\">\n",
       "  <thead>\n",
       "    <tr style=\"text-align: right;\">\n",
       "      <th></th>\n",
       "      <th>school</th>\n",
       "      <th>sex</th>\n",
       "      <th>age</th>\n",
       "      <th>address</th>\n",
       "      <th>famsize</th>\n",
       "    </tr>\n",
       "  </thead>\n",
       "  <tbody>\n",
       "    <tr>\n",
       "      <th>0</th>\n",
       "      <td>GP</td>\n",
       "      <td>F</td>\n",
       "      <td>18</td>\n",
       "      <td>U</td>\n",
       "      <td>GT3</td>\n",
       "    </tr>\n",
       "    <tr>\n",
       "      <th>1</th>\n",
       "      <td>GP</td>\n",
       "      <td>F</td>\n",
       "      <td>17</td>\n",
       "      <td>U</td>\n",
       "      <td>GT3</td>\n",
       "    </tr>\n",
       "    <tr>\n",
       "      <th>2</th>\n",
       "      <td>GP</td>\n",
       "      <td>F</td>\n",
       "      <td>15</td>\n",
       "      <td>U</td>\n",
       "      <td>LE3</td>\n",
       "    </tr>\n",
       "    <tr>\n",
       "      <th>3</th>\n",
       "      <td>GP</td>\n",
       "      <td>F</td>\n",
       "      <td>15</td>\n",
       "      <td>U</td>\n",
       "      <td>GT3</td>\n",
       "    </tr>\n",
       "    <tr>\n",
       "      <th>4</th>\n",
       "      <td>GP</td>\n",
       "      <td>F</td>\n",
       "      <td>16</td>\n",
       "      <td>U</td>\n",
       "      <td>GT3</td>\n",
       "    </tr>\n",
       "    <tr>\n",
       "      <th>...</th>\n",
       "      <td>...</td>\n",
       "      <td>...</td>\n",
       "      <td>...</td>\n",
       "      <td>...</td>\n",
       "      <td>...</td>\n",
       "    </tr>\n",
       "    <tr>\n",
       "      <th>390</th>\n",
       "      <td>MS</td>\n",
       "      <td>M</td>\n",
       "      <td>20</td>\n",
       "      <td>U</td>\n",
       "      <td>LE3</td>\n",
       "    </tr>\n",
       "    <tr>\n",
       "      <th>391</th>\n",
       "      <td>MS</td>\n",
       "      <td>M</td>\n",
       "      <td>17</td>\n",
       "      <td>U</td>\n",
       "      <td>LE3</td>\n",
       "    </tr>\n",
       "    <tr>\n",
       "      <th>392</th>\n",
       "      <td>MS</td>\n",
       "      <td>M</td>\n",
       "      <td>21</td>\n",
       "      <td>R</td>\n",
       "      <td>GT3</td>\n",
       "    </tr>\n",
       "    <tr>\n",
       "      <th>393</th>\n",
       "      <td>MS</td>\n",
       "      <td>M</td>\n",
       "      <td>18</td>\n",
       "      <td>R</td>\n",
       "      <td>LE3</td>\n",
       "    </tr>\n",
       "    <tr>\n",
       "      <th>394</th>\n",
       "      <td>MS</td>\n",
       "      <td>M</td>\n",
       "      <td>19</td>\n",
       "      <td>U</td>\n",
       "      <td>LE3</td>\n",
       "    </tr>\n",
       "  </tbody>\n",
       "</table>\n",
       "<p>395 rows × 5 columns</p>\n",
       "</div>"
      ],
      "text/plain": [
       "    school sex  age address famsize\n",
       "0       GP   F   18       U     GT3\n",
       "1       GP   F   17       U     GT3\n",
       "2       GP   F   15       U     LE3\n",
       "3       GP   F   15       U     GT3\n",
       "4       GP   F   16       U     GT3\n",
       "..     ...  ..  ...     ...     ...\n",
       "390     MS   M   20       U     LE3\n",
       "391     MS   M   17       U     LE3\n",
       "392     MS   M   21       R     GT3\n",
       "393     MS   M   18       R     LE3\n",
       "394     MS   M   19       U     LE3\n",
       "\n",
       "[395 rows x 5 columns]"
      ]
     },
     "execution_count": 10,
     "metadata": {},
     "output_type": "execute_result"
    }
   ],
   "source": [
    "data.iloc[:,0:5]"
   ]
  },
  {
   "cell_type": "code",
   "execution_count": 11,
   "metadata": {},
   "outputs": [
    {
     "data": {
      "text/html": [
       "<div>\n",
       "<style scoped>\n",
       "    .dataframe tbody tr th:only-of-type {\n",
       "        vertical-align: middle;\n",
       "    }\n",
       "\n",
       "    .dataframe tbody tr th {\n",
       "        vertical-align: top;\n",
       "    }\n",
       "\n",
       "    .dataframe thead th {\n",
       "        text-align: right;\n",
       "    }\n",
       "</style>\n",
       "<table border=\"1\" class=\"dataframe\">\n",
       "  <thead>\n",
       "    <tr style=\"text-align: right;\">\n",
       "      <th></th>\n",
       "      <th>school</th>\n",
       "      <th>sex</th>\n",
       "      <th>age</th>\n",
       "      <th>address</th>\n",
       "    </tr>\n",
       "  </thead>\n",
       "  <tbody>\n",
       "    <tr>\n",
       "      <th>0</th>\n",
       "      <td>GP</td>\n",
       "      <td>F</td>\n",
       "      <td>18</td>\n",
       "      <td>U</td>\n",
       "    </tr>\n",
       "    <tr>\n",
       "      <th>1</th>\n",
       "      <td>GP</td>\n",
       "      <td>F</td>\n",
       "      <td>17</td>\n",
       "      <td>U</td>\n",
       "    </tr>\n",
       "    <tr>\n",
       "      <th>2</th>\n",
       "      <td>GP</td>\n",
       "      <td>F</td>\n",
       "      <td>15</td>\n",
       "      <td>U</td>\n",
       "    </tr>\n",
       "    <tr>\n",
       "      <th>3</th>\n",
       "      <td>GP</td>\n",
       "      <td>F</td>\n",
       "      <td>15</td>\n",
       "      <td>U</td>\n",
       "    </tr>\n",
       "    <tr>\n",
       "      <th>4</th>\n",
       "      <td>GP</td>\n",
       "      <td>F</td>\n",
       "      <td>16</td>\n",
       "      <td>U</td>\n",
       "    </tr>\n",
       "  </tbody>\n",
       "</table>\n",
       "</div>"
      ],
      "text/plain": [
       "  school sex  age address\n",
       "0     GP   F   18       U\n",
       "1     GP   F   17       U\n",
       "2     GP   F   15       U\n",
       "3     GP   F   15       U\n",
       "4     GP   F   16       U"
      ]
     },
     "execution_count": 11,
     "metadata": {},
     "output_type": "execute_result"
    }
   ],
   "source": [
    "data.iloc[0:5,0:4]"
   ]
  },
  {
   "cell_type": "code",
   "execution_count": 12,
   "metadata": {},
   "outputs": [
    {
     "data": {
      "text/html": [
       "<div>\n",
       "<style scoped>\n",
       "    .dataframe tbody tr th:only-of-type {\n",
       "        vertical-align: middle;\n",
       "    }\n",
       "\n",
       "    .dataframe tbody tr th {\n",
       "        vertical-align: top;\n",
       "    }\n",
       "\n",
       "    .dataframe thead th {\n",
       "        text-align: right;\n",
       "    }\n",
       "</style>\n",
       "<table border=\"1\" class=\"dataframe\">\n",
       "  <thead>\n",
       "    <tr style=\"text-align: right;\">\n",
       "      <th></th>\n",
       "      <th>Medu</th>\n",
       "      <th>failures</th>\n",
       "      <th>internet</th>\n",
       "      <th>G1</th>\n",
       "    </tr>\n",
       "  </thead>\n",
       "  <tbody>\n",
       "    <tr>\n",
       "      <th>0</th>\n",
       "      <td>4</td>\n",
       "      <td>0</td>\n",
       "      <td>no</td>\n",
       "      <td>5</td>\n",
       "    </tr>\n",
       "    <tr>\n",
       "      <th>1</th>\n",
       "      <td>1</td>\n",
       "      <td>0</td>\n",
       "      <td>yes</td>\n",
       "      <td>5</td>\n",
       "    </tr>\n",
       "    <tr>\n",
       "      <th>2</th>\n",
       "      <td>1</td>\n",
       "      <td>3</td>\n",
       "      <td>yes</td>\n",
       "      <td>7</td>\n",
       "    </tr>\n",
       "    <tr>\n",
       "      <th>3</th>\n",
       "      <td>4</td>\n",
       "      <td>0</td>\n",
       "      <td>yes</td>\n",
       "      <td>15</td>\n",
       "    </tr>\n",
       "    <tr>\n",
       "      <th>4</th>\n",
       "      <td>3</td>\n",
       "      <td>0</td>\n",
       "      <td>no</td>\n",
       "      <td>6</td>\n",
       "    </tr>\n",
       "  </tbody>\n",
       "</table>\n",
       "</div>"
      ],
      "text/plain": [
       "   Medu  failures internet  G1\n",
       "0     4         0       no   5\n",
       "1     1         0      yes   5\n",
       "2     1         3      yes   7\n",
       "3     4         0      yes  15\n",
       "4     3         0       no   6"
      ]
     },
     "execution_count": 12,
     "metadata": {},
     "output_type": "execute_result"
    }
   ],
   "source": [
    "data.iloc[0:5,[6,14,21,30]]"
   ]
  },
  {
   "cell_type": "code",
   "execution_count": 13,
   "metadata": {},
   "outputs": [
    {
     "data": {
      "text/html": [
       "<div>\n",
       "<style scoped>\n",
       "    .dataframe tbody tr th:only-of-type {\n",
       "        vertical-align: middle;\n",
       "    }\n",
       "\n",
       "    .dataframe tbody tr th {\n",
       "        vertical-align: top;\n",
       "    }\n",
       "\n",
       "    .dataframe thead th {\n",
       "        text-align: right;\n",
       "    }\n",
       "</style>\n",
       "<table border=\"1\" class=\"dataframe\">\n",
       "  <thead>\n",
       "    <tr style=\"text-align: right;\">\n",
       "      <th></th>\n",
       "      <th>G1</th>\n",
       "      <th>age</th>\n",
       "      <th>G3</th>\n",
       "    </tr>\n",
       "  </thead>\n",
       "  <tbody>\n",
       "    <tr>\n",
       "      <th>0</th>\n",
       "      <td>5</td>\n",
       "      <td>18</td>\n",
       "      <td>6</td>\n",
       "    </tr>\n",
       "    <tr>\n",
       "      <th>1</th>\n",
       "      <td>5</td>\n",
       "      <td>17</td>\n",
       "      <td>6</td>\n",
       "    </tr>\n",
       "    <tr>\n",
       "      <th>2</th>\n",
       "      <td>7</td>\n",
       "      <td>15</td>\n",
       "      <td>10</td>\n",
       "    </tr>\n",
       "    <tr>\n",
       "      <th>3</th>\n",
       "      <td>15</td>\n",
       "      <td>15</td>\n",
       "      <td>15</td>\n",
       "    </tr>\n",
       "    <tr>\n",
       "      <th>4</th>\n",
       "      <td>6</td>\n",
       "      <td>16</td>\n",
       "      <td>10</td>\n",
       "    </tr>\n",
       "    <tr>\n",
       "      <th>5</th>\n",
       "      <td>15</td>\n",
       "      <td>16</td>\n",
       "      <td>15</td>\n",
       "    </tr>\n",
       "  </tbody>\n",
       "</table>\n",
       "</div>"
      ],
      "text/plain": [
       "   G1  age  G3\n",
       "0   5   18   6\n",
       "1   5   17   6\n",
       "2   7   15  10\n",
       "3  15   15  15\n",
       "4   6   16  10\n",
       "5  15   16  15"
      ]
     },
     "execution_count": 13,
     "metadata": {},
     "output_type": "execute_result"
    }
   ],
   "source": [
    "data.loc[0:5,[\"G1\",\"age\",\"G3\"]]"
   ]
  },
  {
   "cell_type": "markdown",
   "metadata": {},
   "source": [
    "## DECISION TREE FOR CLASSIFICATION ##"
   ]
  },
  {
   "cell_type": "code",
   "execution_count": 14,
   "metadata": {},
   "outputs": [
    {
     "name": "stdout",
     "output_type": "stream",
     "text": [
      "   Age  Gender Preference\n",
      "0   29       1     rhumba\n",
      "1   26       1     rhumba\n",
      "2   21       1     rhumba\n",
      "3   40       1     reggae\n",
      "4   76       1     reggae\n",
      " Accuracy score is 1.0\n"
     ]
    }
   ],
   "source": [
    "import numpy as np\n",
    "import pandas as pd\n",
    "import random\n",
    "from sklearn.tree import DecisionTreeClassifier\n",
    "from sklearn.model_selection import train_test_split\n",
    "from sklearn.metrics import accuracy_score\n",
    "from sklearn import tree\n",
    "\n",
    "Age_male=[random.randint(5,80) for i in range(50000)]\n",
    "Age_female=[random.randint(5,80) for i in range(50000)]\n",
    "Gender_male=[1 for i in range(50000)]\n",
    "Gender_female=[0 for i in range(50000)]\n",
    "#Preference=[random.randint(1,3) for i in range(100000)]\n",
    "Preference=[]\n",
    "Age=Age_male+Age_female\n",
    "Gender=Gender_male+Gender_female\n",
    "for i in range(100000):\n",
    "    if (Age[i]<=35 and Gender[i]==1):\n",
    "        Preference.append('rhumba')\n",
    "    elif (Age[i]<=35 and Gender[i]==0):\n",
    "        Preference.append('bongo')\n",
    "    else:\n",
    "        Preference.append('reggae')\n",
    "\n",
    "\n",
    "data=[[Age[i],Gender[i],Preference[i]] for i in range(len(Age))]\n",
    "data=pd.DataFrame(data, columns=['Age','Gender','Preference'])\n",
    "data.shape\n",
    "\n",
    "print(data.head())\n",
    "X=data.drop(columns='Preference')\n",
    "y=data['Preference']\n",
    "\n",
    "X_train,X_test,y_train,y_test=train_test_split(X,y,test_size=0.2)\n",
    "\n",
    "model=DecisionTreeClassifier()\n",
    "model.fit(X_train,y_train)\n",
    "\n",
    "predictions=model.predict(X_test)\n",
    "\n",
    "score=accuracy_score(y_test,predictions)\n",
    "print(' Accuracy score is '+ str(score))\n"
   ]
  },
  {
   "cell_type": "code",
   "execution_count": 15,
   "metadata": {},
   "outputs": [
    {
     "data": {
      "text/plain": [
       "array(['rhumba'], dtype=object)"
      ]
     },
     "execution_count": 15,
     "metadata": {},
     "output_type": "execute_result"
    }
   ],
   "source": [
    "model.predict([[5,1]])"
   ]
  },
  {
   "cell_type": "markdown",
   "metadata": {},
   "source": [
    "## Logistic regression for Classication ##"
   ]
  },
  {
   "cell_type": "code",
   "execution_count": 1,
   "metadata": {},
   "outputs": [
    {
     "ename": "NameError",
     "evalue": "name 'X_train' is not defined",
     "output_type": "error",
     "traceback": [
      "\u001b[0;31m---------------------------------------------------------------------------\u001b[0m",
      "\u001b[0;31mNameError\u001b[0m                                 Traceback (most recent call last)",
      "\u001b[0;32m<ipython-input-1-b16f3e781325>\u001b[0m in \u001b[0;36m<module>\u001b[0;34m\u001b[0m\n\u001b[1;32m      3\u001b[0m \u001b[0;31m#logmodel.fit(X,y)\u001b[0m\u001b[0;34m\u001b[0m\u001b[0;34m\u001b[0m\u001b[0;34m\u001b[0m\u001b[0m\n\u001b[1;32m      4\u001b[0m \u001b[0;31m#predict=logmodel.predict([[60,1]])\u001b[0m\u001b[0;34m\u001b[0m\u001b[0;34m\u001b[0m\u001b[0;34m\u001b[0m\u001b[0m\n\u001b[0;32m----> 5\u001b[0;31m \u001b[0mlogmodel\u001b[0m\u001b[0;34m.\u001b[0m\u001b[0mfit\u001b[0m\u001b[0;34m(\u001b[0m\u001b[0mX_train\u001b[0m\u001b[0;34m,\u001b[0m\u001b[0my_train\u001b[0m\u001b[0;34m)\u001b[0m\u001b[0;34m\u001b[0m\u001b[0;34m\u001b[0m\u001b[0m\n\u001b[0m\u001b[1;32m      6\u001b[0m \u001b[0mpredict\u001b[0m\u001b[0;34m=\u001b[0m\u001b[0mlogmodel\u001b[0m\u001b[0;34m.\u001b[0m\u001b[0mpredict\u001b[0m\u001b[0;34m(\u001b[0m\u001b[0mX_test\u001b[0m\u001b[0;34m)\u001b[0m\u001b[0;34m\u001b[0m\u001b[0;34m\u001b[0m\u001b[0m\n\u001b[1;32m      7\u001b[0m \u001b[0mscore\u001b[0m\u001b[0;34m=\u001b[0m\u001b[0maccuracy_score\u001b[0m\u001b[0;34m(\u001b[0m\u001b[0my_test\u001b[0m\u001b[0;34m,\u001b[0m\u001b[0mpredict\u001b[0m\u001b[0;34m)\u001b[0m\u001b[0;34m\u001b[0m\u001b[0;34m\u001b[0m\u001b[0m\n",
      "\u001b[0;31mNameError\u001b[0m: name 'X_train' is not defined"
     ]
    }
   ],
   "source": [
    "from sklearn.linear_model import LogisticRegression\n",
    "logmodel=LogisticRegression()\n",
    "#logmodel.fit(X,y)\n",
    "#predict=logmodel.predict([[60,1]])\n",
    "logmodel.fit(X_train,y_train)\n",
    "predict=logmodel.predict(X_test)\n",
    "score=accuracy_score(y_test,predict)\n",
    "\n",
    "#tree.export_graphviz(model,out_file='music_recommender1.dot',feature_names=['age','sex'],class_names=sorted(y.unique()),label='all',rounded=True,filled=True)\n",
    "\n",
    "score"
   ]
  },
  {
   "cell_type": "code",
   "execution_count": 17,
   "metadata": {},
   "outputs": [
    {
     "data": {
      "text/plain": [
       "array([[ 4020,     0,     0],\n",
       "       [    0, 11832,     0],\n",
       "       [    0,     0,  4148]])"
      ]
     },
     "execution_count": 17,
     "metadata": {},
     "output_type": "execute_result"
    }
   ],
   "source": [
    "from sklearn.metrics import confusion_matrix\n",
    "confusion_matrix(y_test,predict)"
   ]
  },
  {
   "cell_type": "code",
   "execution_count": 2,
   "metadata": {},
   "outputs": [
    {
     "data": {
      "text/html": [
       "<div>\n",
       "<style scoped>\n",
       "    .dataframe tbody tr th:only-of-type {\n",
       "        vertical-align: middle;\n",
       "    }\n",
       "\n",
       "    .dataframe tbody tr th {\n",
       "        vertical-align: top;\n",
       "    }\n",
       "\n",
       "    .dataframe thead th {\n",
       "        text-align: right;\n",
       "    }\n",
       "</style>\n",
       "<table border=\"1\" class=\"dataframe\">\n",
       "  <thead>\n",
       "    <tr style=\"text-align: right;\">\n",
       "      <th></th>\n",
       "      <th>SepalLengthCm</th>\n",
       "      <th>SepalWidthCm</th>\n",
       "      <th>PetalLengthCm</th>\n",
       "      <th>PetalWidthCm</th>\n",
       "      <th>Species</th>\n",
       "    </tr>\n",
       "  </thead>\n",
       "  <tbody>\n",
       "    <tr>\n",
       "      <th>0</th>\n",
       "      <td>5.1</td>\n",
       "      <td>3.5</td>\n",
       "      <td>1.4</td>\n",
       "      <td>0.2</td>\n",
       "      <td>Iris-setosa</td>\n",
       "    </tr>\n",
       "    <tr>\n",
       "      <th>1</th>\n",
       "      <td>4.9</td>\n",
       "      <td>3.0</td>\n",
       "      <td>1.4</td>\n",
       "      <td>0.2</td>\n",
       "      <td>Iris-setosa</td>\n",
       "    </tr>\n",
       "    <tr>\n",
       "      <th>2</th>\n",
       "      <td>4.7</td>\n",
       "      <td>3.2</td>\n",
       "      <td>1.3</td>\n",
       "      <td>0.2</td>\n",
       "      <td>Iris-setosa</td>\n",
       "    </tr>\n",
       "    <tr>\n",
       "      <th>3</th>\n",
       "      <td>4.6</td>\n",
       "      <td>3.1</td>\n",
       "      <td>1.5</td>\n",
       "      <td>0.2</td>\n",
       "      <td>Iris-setosa</td>\n",
       "    </tr>\n",
       "    <tr>\n",
       "      <th>4</th>\n",
       "      <td>5.0</td>\n",
       "      <td>3.6</td>\n",
       "      <td>1.4</td>\n",
       "      <td>0.2</td>\n",
       "      <td>Iris-setosa</td>\n",
       "    </tr>\n",
       "  </tbody>\n",
       "</table>\n",
       "</div>"
      ],
      "text/plain": [
       "   SepalLengthCm  SepalWidthCm  PetalLengthCm  PetalWidthCm      Species\n",
       "0            5.1           3.5            1.4           0.2  Iris-setosa\n",
       "1            4.9           3.0            1.4           0.2  Iris-setosa\n",
       "2            4.7           3.2            1.3           0.2  Iris-setosa\n",
       "3            4.6           3.1            1.5           0.2  Iris-setosa\n",
       "4            5.0           3.6            1.4           0.2  Iris-setosa"
      ]
     },
     "execution_count": 2,
     "metadata": {},
     "output_type": "execute_result"
    }
   ],
   "source": [
    "import pandas as pd\n",
    "#Importing and reading data.\n",
    "Iris= pd.read_csv(\"Iris.csv\")\n",
    "# Since our data is seperated by semicolons we need to do sep=\";\"\n",
    "Iris=Iris.iloc[:,[1,2,3,4,5]]\n",
    "Iris.head()"
   ]
  },
  {
   "cell_type": "code",
   "execution_count": 3,
   "metadata": {},
   "outputs": [
    {
     "ename": "NameError",
     "evalue": "name 'train_test_split' is not defined",
     "output_type": "error",
     "traceback": [
      "\u001b[0;31m---------------------------------------------------------------------------\u001b[0m",
      "\u001b[0;31mNameError\u001b[0m                                 Traceback (most recent call last)",
      "\u001b[0;32m<ipython-input-3-4d5c162d51e0>\u001b[0m in \u001b[0;36m<module>\u001b[0;34m\u001b[0m\n\u001b[1;32m      2\u001b[0m \u001b[0my\u001b[0m\u001b[0;34m=\u001b[0m\u001b[0mIris\u001b[0m\u001b[0;34m[\u001b[0m\u001b[0;34m'Species'\u001b[0m\u001b[0;34m]\u001b[0m\u001b[0;34m\u001b[0m\u001b[0;34m\u001b[0m\u001b[0m\n\u001b[1;32m      3\u001b[0m \u001b[0;34m\u001b[0m\u001b[0m\n\u001b[0;32m----> 4\u001b[0;31m \u001b[0mX_train\u001b[0m\u001b[0;34m,\u001b[0m\u001b[0mX_test\u001b[0m\u001b[0;34m,\u001b[0m\u001b[0my_train\u001b[0m\u001b[0;34m,\u001b[0m\u001b[0my_test\u001b[0m\u001b[0;34m=\u001b[0m\u001b[0mtrain_test_split\u001b[0m\u001b[0;34m(\u001b[0m\u001b[0mX\u001b[0m\u001b[0;34m,\u001b[0m\u001b[0my\u001b[0m\u001b[0;34m,\u001b[0m\u001b[0mtest_size\u001b[0m\u001b[0;34m=\u001b[0m\u001b[0;36m0.2\u001b[0m\u001b[0;34m)\u001b[0m\u001b[0;34m\u001b[0m\u001b[0;34m\u001b[0m\u001b[0m\n\u001b[0m\u001b[1;32m      5\u001b[0m \u001b[0;34m\u001b[0m\u001b[0m\n\u001b[1;32m      6\u001b[0m \u001b[0mmodel\u001b[0m\u001b[0;34m=\u001b[0m\u001b[0mDecisionTreeClassifier\u001b[0m\u001b[0;34m(\u001b[0m\u001b[0;34m)\u001b[0m\u001b[0;34m\u001b[0m\u001b[0;34m\u001b[0m\u001b[0m\n",
      "\u001b[0;31mNameError\u001b[0m: name 'train_test_split' is not defined"
     ]
    }
   ],
   "source": [
    "X=Iris.drop(columns='Species')\n",
    "y=Iris['Species']\n",
    "\n",
    "X_train,X_test,y_train,y_test=train_test_split(X,y,test_size=0.2)\n",
    "\n",
    "model=DecisionTreeClassifier()\n",
    "model.fit(X_train,y_train)\n",
    "\n",
    "predictions=model.predict(X_test)\n",
    "\n",
    "A=[[y_test],[predictions]]\n",
    "score=accuracy_score(y_test,predictions)\n",
    "score\n"
   ]
  },
  {
   "cell_type": "code",
   "execution_count": 4,
   "metadata": {},
   "outputs": [
    {
     "ename": "NameError",
     "evalue": "name 'LogisticRegression' is not defined",
     "output_type": "error",
     "traceback": [
      "\u001b[0;31m---------------------------------------------------------------------------\u001b[0m",
      "\u001b[0;31mNameError\u001b[0m                                 Traceback (most recent call last)",
      "\u001b[0;32m<ipython-input-4-81df3114425f>\u001b[0m in \u001b[0;36m<module>\u001b[0;34m\u001b[0m\n\u001b[0;32m----> 1\u001b[0;31m \u001b[0mlogmodel\u001b[0m\u001b[0;34m=\u001b[0m\u001b[0mLogisticRegression\u001b[0m\u001b[0;34m(\u001b[0m\u001b[0;34m)\u001b[0m\u001b[0;34m\u001b[0m\u001b[0;34m\u001b[0m\u001b[0m\n\u001b[0m\u001b[1;32m      2\u001b[0m \u001b[0;31m#logmodel.fit(X,y)\u001b[0m\u001b[0;34m\u001b[0m\u001b[0;34m\u001b[0m\u001b[0;34m\u001b[0m\u001b[0m\n\u001b[1;32m      3\u001b[0m \u001b[0;31m#predict=logmodel.predict([[60,1]])\u001b[0m\u001b[0;34m\u001b[0m\u001b[0;34m\u001b[0m\u001b[0;34m\u001b[0m\u001b[0m\n\u001b[1;32m      4\u001b[0m \u001b[0mlogmodel\u001b[0m\u001b[0;34m.\u001b[0m\u001b[0mfit\u001b[0m\u001b[0;34m(\u001b[0m\u001b[0mX_train\u001b[0m\u001b[0;34m,\u001b[0m\u001b[0my_train\u001b[0m\u001b[0;34m)\u001b[0m\u001b[0;34m\u001b[0m\u001b[0;34m\u001b[0m\u001b[0m\n\u001b[1;32m      5\u001b[0m \u001b[0mpredict\u001b[0m\u001b[0;34m=\u001b[0m\u001b[0mlogmodel\u001b[0m\u001b[0;34m.\u001b[0m\u001b[0mpredict\u001b[0m\u001b[0;34m(\u001b[0m\u001b[0mX_test\u001b[0m\u001b[0;34m)\u001b[0m\u001b[0;34m\u001b[0m\u001b[0;34m\u001b[0m\u001b[0m\n",
      "\u001b[0;31mNameError\u001b[0m: name 'LogisticRegression' is not defined"
     ]
    }
   ],
   "source": [
    "logmodel=LogisticRegression()\n",
    "#logmodel.fit(X,y)\n",
    "#predict=logmodel.predict([[60,1]])\n",
    "logmodel.fit(X_train,y_train)\n",
    "predict=logmodel.predict(X_test)\n",
    "score=accuracy_score(y_test,predict)\n",
    "\n",
    "#tree.export_graphviz(model,out_file='music_recommender1.dot',feature_names=['age','sex'],class_names=sorted(y.unique()),label='all',rounded=True,filled=True)\n",
    "\n",
    "score"
   ]
  },
  {
   "cell_type": "code",
   "execution_count": 5,
   "metadata": {},
   "outputs": [
    {
     "data": {
      "text/plain": [
       "Species\n",
       "Iris-setosa        50\n",
       "Iris-versicolor    50\n",
       "Iris-virginica     50\n",
       "dtype: int64"
      ]
     },
     "execution_count": 5,
     "metadata": {},
     "output_type": "execute_result"
    }
   ],
   "source": [
    "Iris.groupby('Species').size()"
   ]
  },
  {
   "cell_type": "code",
   "execution_count": 6,
   "metadata": {},
   "outputs": [
    {
     "data": {
      "image/png": "[encoded data removed]",
      "text/plain": [
       "<Figure size 432x288 with 4 Axes>"
      ]
     },
     "metadata": {
      "needs_background": "light"
     },
     "output_type": "display_data"
    }
   ],
   "source": [
    "import matplotlib.pyplot as plt\n",
    "\n",
    "Iris.plot(kind='box',subplots=True,layout=(2,2),sharex=True,sharey=True)\n",
    "plt.show()"
   ]
  },
  {
   "cell_type": "code",
   "execution_count": 7,
   "metadata": {},
   "outputs": [
    {
     "data": {
      "image/png": "[encoded data removed]",
      "text/plain": [
       "<Figure size 432x288 with 16 Axes>"
      ]
     },
     "metadata": {
      "needs_background": "light"
     },
     "output_type": "display_data"
    }
   ],
   "source": [
    "Iris.plot(kind='box',subplots=True,layout=(4,4),sharex=True,sharey=True)\n",
    "plt.show()"
   ]
  },
  {
   "cell_type": "code",
   "execution_count": 8,
   "metadata": {},
   "outputs": [
    {
     "data": {
      "image/png": "[encoded data removed]",
      "text/plain": [
       "<Figure size 432x288 with 4 Axes>"
      ]
     },
     "metadata": {
      "needs_background": "light"
     },
     "output_type": "display_data"
    }
   ],
   "source": [
    "Iris.plot(kind='box',subplots=True,layout=(2,2),sharex=False,sharey=False)\n",
    "plt.show()"
   ]
  },
  {
   "cell_type": "code",
   "execution_count": 9,
   "metadata": {},
   "outputs": [
    {
     "data": {
      "image/png": "[encoded data removed]",
      "text/plain": [
       "<Figure size 432x288 with 4 Axes>"
      ]
     },
     "metadata": {
      "needs_background": "light"
     },
     "output_type": "display_data"
    }
   ],
   "source": [
    "Iris.hist()\n",
    "plt.show()"
   ]
  },
  {
   "cell_type": "code",
   "execution_count": 10,
   "metadata": {},
   "outputs": [
    {
     "data": {
      "image/png": "[encoded data removed]",
      "text/plain": [
       "<Figure size 432x288 with 16 Axes>"
      ]
     },
     "metadata": {
      "needs_background": "light"
     },
     "output_type": "display_data"
    }
   ],
   "source": [
    "from pandas.plotting import scatter_matrix\n",
    "\n",
    "\n",
    "scatter_matrix(Iris, color='orange')\n",
    "plt.show()"
   ]
  },
  {
   "cell_type": "code",
   "execution_count": 11,
   "metadata": {},
   "outputs": [
    {
     "data": {
      "text/plain": [
       "Index(['SepalLengthCm', 'SepalWidthCm', 'PetalLengthCm', 'PetalWidthCm',\n",
       "       'Species'],\n",
       "      dtype='object')"
      ]
     },
     "execution_count": 11,
     "metadata": {},
     "output_type": "execute_result"
    }
   ],
   "source": [
    "Iris.columns"
   ]
  },
  {
   "cell_type": "code",
   "execution_count": 12,
   "metadata": {},
   "outputs": [],
   "source": [
    "group_iris=Iris.groupby('Species')\n"
   ]
  },
  {
   "cell_type": "code",
   "execution_count": 13,
   "metadata": {},
   "outputs": [],
   "source": [
    "#for Species, Species_Iris in group_iris:\n",
    "    #print(Species)\n",
    "    #print(Species_Iris)\n",
    "    "
   ]
  },
  {
   "cell_type": "code",
   "execution_count": 14,
   "metadata": {},
   "outputs": [
    {
     "data": {
      "text/html": [
       "<div>\n",
       "<style scoped>\n",
       "    .dataframe tbody tr th:only-of-type {\n",
       "        vertical-align: middle;\n",
       "    }\n",
       "\n",
       "    .dataframe tbody tr th {\n",
       "        vertical-align: top;\n",
       "    }\n",
       "\n",
       "    .dataframe thead th {\n",
       "        text-align: right;\n",
       "    }\n",
       "</style>\n",
       "<table border=\"1\" class=\"dataframe\">\n",
       "  <thead>\n",
       "    <tr style=\"text-align: right;\">\n",
       "      <th></th>\n",
       "      <th>SepalLengthCm</th>\n",
       "      <th>SepalWidthCm</th>\n",
       "      <th>PetalLengthCm</th>\n",
       "      <th>PetalWidthCm</th>\n",
       "    </tr>\n",
       "    <tr>\n",
       "      <th>Species</th>\n",
       "      <th></th>\n",
       "      <th></th>\n",
       "      <th></th>\n",
       "      <th></th>\n",
       "    </tr>\n",
       "  </thead>\n",
       "  <tbody>\n",
       "    <tr>\n",
       "      <th>Iris-setosa</th>\n",
       "      <td>5.006</td>\n",
       "      <td>3.418</td>\n",
       "      <td>1.464</td>\n",
       "      <td>0.244</td>\n",
       "    </tr>\n",
       "    <tr>\n",
       "      <th>Iris-versicolor</th>\n",
       "      <td>5.936</td>\n",
       "      <td>2.770</td>\n",
       "      <td>4.260</td>\n",
       "      <td>1.326</td>\n",
       "    </tr>\n",
       "    <tr>\n",
       "      <th>Iris-virginica</th>\n",
       "      <td>6.588</td>\n",
       "      <td>2.974</td>\n",
       "      <td>5.552</td>\n",
       "      <td>2.026</td>\n",
       "    </tr>\n",
       "  </tbody>\n",
       "</table>\n",
       "</div>"
      ],
      "text/plain": [
       "                 SepalLengthCm  SepalWidthCm  PetalLengthCm  PetalWidthCm\n",
       "Species                                                                  \n",
       "Iris-setosa              5.006         3.418          1.464         0.244\n",
       "Iris-versicolor          5.936         2.770          4.260         1.326\n",
       "Iris-virginica           6.588         2.974          5.552         2.026"
      ]
     },
     "execution_count": 14,
     "metadata": {},
     "output_type": "execute_result"
    }
   ],
   "source": [
    "group_iris.mean()"
   ]
  },
  {
   "cell_type": "code",
   "execution_count": 15,
   "metadata": {},
   "outputs": [
    {
     "data": {
      "text/html": [
       "<div>\n",
       "<style scoped>\n",
       "    .dataframe tbody tr th:only-of-type {\n",
       "        vertical-align: middle;\n",
       "    }\n",
       "\n",
       "    .dataframe tbody tr th {\n",
       "        vertical-align: top;\n",
       "    }\n",
       "\n",
       "    .dataframe thead th {\n",
       "        text-align: right;\n",
       "    }\n",
       "</style>\n",
       "<table border=\"1\" class=\"dataframe\">\n",
       "  <thead>\n",
       "    <tr style=\"text-align: right;\">\n",
       "      <th></th>\n",
       "      <th>SepalLengthCm</th>\n",
       "      <th>SepalWidthCm</th>\n",
       "      <th>PetalLengthCm</th>\n",
       "      <th>PetalWidthCm</th>\n",
       "    </tr>\n",
       "    <tr>\n",
       "      <th>Species</th>\n",
       "      <th></th>\n",
       "      <th></th>\n",
       "      <th></th>\n",
       "      <th></th>\n",
       "    </tr>\n",
       "  </thead>\n",
       "  <tbody>\n",
       "    <tr>\n",
       "      <th>Iris-setosa</th>\n",
       "      <td>0.352490</td>\n",
       "      <td>0.381024</td>\n",
       "      <td>0.173511</td>\n",
       "      <td>0.107210</td>\n",
       "    </tr>\n",
       "    <tr>\n",
       "      <th>Iris-versicolor</th>\n",
       "      <td>0.516171</td>\n",
       "      <td>0.313798</td>\n",
       "      <td>0.469911</td>\n",
       "      <td>0.197753</td>\n",
       "    </tr>\n",
       "    <tr>\n",
       "      <th>Iris-virginica</th>\n",
       "      <td>0.635880</td>\n",
       "      <td>0.322497</td>\n",
       "      <td>0.551895</td>\n",
       "      <td>0.274650</td>\n",
       "    </tr>\n",
       "  </tbody>\n",
       "</table>\n",
       "</div>"
      ],
      "text/plain": [
       "                 SepalLengthCm  SepalWidthCm  PetalLengthCm  PetalWidthCm\n",
       "Species                                                                  \n",
       "Iris-setosa           0.352490      0.381024       0.173511      0.107210\n",
       "Iris-versicolor       0.516171      0.313798       0.469911      0.197753\n",
       "Iris-virginica        0.635880      0.322497       0.551895      0.274650"
      ]
     },
     "execution_count": 15,
     "metadata": {},
     "output_type": "execute_result"
    }
   ],
   "source": [
    "group_iris.std()"
   ]
  },
  {
   "cell_type": "code",
   "execution_count": 16,
   "metadata": {},
   "outputs": [
    {
     "data": {
      "text/html": [
       "<div>\n",
       "<style scoped>\n",
       "    .dataframe tbody tr th:only-of-type {\n",
       "        vertical-align: middle;\n",
       "    }\n",
       "\n",
       "    .dataframe tbody tr th {\n",
       "        vertical-align: top;\n",
       "    }\n",
       "\n",
       "    .dataframe thead th {\n",
       "        text-align: right;\n",
       "    }\n",
       "</style>\n",
       "<table border=\"1\" class=\"dataframe\">\n",
       "  <thead>\n",
       "    <tr style=\"text-align: right;\">\n",
       "      <th></th>\n",
       "      <th>SepalLengthCm</th>\n",
       "      <th>SepalWidthCm</th>\n",
       "      <th>PetalLengthCm</th>\n",
       "      <th>PetalWidthCm</th>\n",
       "    </tr>\n",
       "    <tr>\n",
       "      <th>Species</th>\n",
       "      <th></th>\n",
       "      <th></th>\n",
       "      <th></th>\n",
       "      <th></th>\n",
       "    </tr>\n",
       "  </thead>\n",
       "  <tbody>\n",
       "    <tr>\n",
       "      <th>Iris-setosa</th>\n",
       "      <td>50</td>\n",
       "      <td>50</td>\n",
       "      <td>50</td>\n",
       "      <td>50</td>\n",
       "    </tr>\n",
       "    <tr>\n",
       "      <th>Iris-versicolor</th>\n",
       "      <td>50</td>\n",
       "      <td>50</td>\n",
       "      <td>50</td>\n",
       "      <td>50</td>\n",
       "    </tr>\n",
       "    <tr>\n",
       "      <th>Iris-virginica</th>\n",
       "      <td>50</td>\n",
       "      <td>50</td>\n",
       "      <td>50</td>\n",
       "      <td>50</td>\n",
       "    </tr>\n",
       "  </tbody>\n",
       "</table>\n",
       "</div>"
      ],
      "text/plain": [
       "                 SepalLengthCm  SepalWidthCm  PetalLengthCm  PetalWidthCm\n",
       "Species                                                                  \n",
       "Iris-setosa                 50            50             50            50\n",
       "Iris-versicolor             50            50             50            50\n",
       "Iris-virginica              50            50             50            50"
      ]
     },
     "execution_count": 16,
     "metadata": {},
     "output_type": "execute_result"
    }
   ],
   "source": [
    "group_iris.count()"
   ]
  },
  {
   "cell_type": "code",
   "execution_count": 17,
   "metadata": {},
   "outputs": [
    {
     "data": {
      "text/plain": [
       "(                 SepalLengthCm  SepalWidthCm  PetalLengthCm  PetalWidthCm\n",
       " Species                                                                  \n",
       " Iris-setosa                5.8           4.4            1.9           0.6\n",
       " Iris-versicolor            7.0           3.4            5.1           1.8\n",
       " Iris-virginica             7.9           3.8            6.9           2.5,\n",
       "                  SepalLengthCm  SepalWidthCm  PetalLengthCm  PetalWidthCm\n",
       " Species                                                                  \n",
       " Iris-setosa                4.3           2.3            1.0           0.1\n",
       " Iris-versicolor            4.9           2.0            3.0           1.0\n",
       " Iris-virginica             4.9           2.2            4.5           1.4)"
      ]
     },
     "execution_count": 17,
     "metadata": {},
     "output_type": "execute_result"
    }
   ],
   "source": [
    "group_iris.max(),group_iris.min()"
   ]
  },
  {
   "cell_type": "code",
   "execution_count": 18,
   "metadata": {},
   "outputs": [
    {
     "data": {
      "text/html": [
       "<div>\n",
       "<style scoped>\n",
       "    .dataframe tbody tr th:only-of-type {\n",
       "        vertical-align: middle;\n",
       "    }\n",
       "\n",
       "    .dataframe tbody tr th {\n",
       "        vertical-align: top;\n",
       "    }\n",
       "\n",
       "    .dataframe thead th {\n",
       "        text-align: right;\n",
       "    }\n",
       "</style>\n",
       "<table border=\"1\" class=\"dataframe\">\n",
       "  <thead>\n",
       "    <tr style=\"text-align: right;\">\n",
       "      <th></th>\n",
       "      <th>SepalLengthCm</th>\n",
       "      <th>SepalWidthCm</th>\n",
       "      <th>PetalLengthCm</th>\n",
       "      <th>PetalWidthCm</th>\n",
       "    </tr>\n",
       "  </thead>\n",
       "  <tbody>\n",
       "    <tr>\n",
       "      <th>0</th>\n",
       "      <td>5.1</td>\n",
       "      <td>3.5</td>\n",
       "      <td>1.4</td>\n",
       "      <td>0.2</td>\n",
       "    </tr>\n",
       "    <tr>\n",
       "      <th>1</th>\n",
       "      <td>4.9</td>\n",
       "      <td>3.0</td>\n",
       "      <td>1.4</td>\n",
       "      <td>0.2</td>\n",
       "    </tr>\n",
       "    <tr>\n",
       "      <th>2</th>\n",
       "      <td>4.7</td>\n",
       "      <td>3.2</td>\n",
       "      <td>1.3</td>\n",
       "      <td>0.2</td>\n",
       "    </tr>\n",
       "    <tr>\n",
       "      <th>3</th>\n",
       "      <td>4.6</td>\n",
       "      <td>3.1</td>\n",
       "      <td>1.5</td>\n",
       "      <td>0.2</td>\n",
       "    </tr>\n",
       "    <tr>\n",
       "      <th>4</th>\n",
       "      <td>5.0</td>\n",
       "      <td>3.6</td>\n",
       "      <td>1.4</td>\n",
       "      <td>0.2</td>\n",
       "    </tr>\n",
       "  </tbody>\n",
       "</table>\n",
       "</div>"
      ],
      "text/plain": [
       "   SepalLengthCm  SepalWidthCm  PetalLengthCm  PetalWidthCm\n",
       "0            5.1           3.5            1.4           0.2\n",
       "1            4.9           3.0            1.4           0.2\n",
       "2            4.7           3.2            1.3           0.2\n",
       "3            4.6           3.1            1.5           0.2\n",
       "4            5.0           3.6            1.4           0.2"
      ]
     },
     "execution_count": 18,
     "metadata": {},
     "output_type": "execute_result"
    }
   ],
   "source": [
    "group_iris.get_group('Iris-setosa').head()"
   ]
  },
  {
   "cell_type": "code",
   "execution_count": 19,
   "metadata": {},
   "outputs": [
    {
     "data": {
      "text/html": [
       "<div>\n",
       "<style scoped>\n",
       "    .dataframe tbody tr th:only-of-type {\n",
       "        vertical-align: middle;\n",
       "    }\n",
       "\n",
       "    .dataframe tbody tr th {\n",
       "        vertical-align: top;\n",
       "    }\n",
       "\n",
       "    .dataframe thead th {\n",
       "        text-align: right;\n",
       "    }\n",
       "</style>\n",
       "<table border=\"1\" class=\"dataframe\">\n",
       "  <thead>\n",
       "    <tr style=\"text-align: right;\">\n",
       "      <th></th>\n",
       "      <th>SepalLengthCm</th>\n",
       "      <th>SepalWidthCm</th>\n",
       "      <th>PetalLengthCm</th>\n",
       "      <th>PetalWidthCm</th>\n",
       "    </tr>\n",
       "  </thead>\n",
       "  <tbody>\n",
       "    <tr>\n",
       "      <th>count</th>\n",
       "      <td>50.00000</td>\n",
       "      <td>50.000000</td>\n",
       "      <td>50.000000</td>\n",
       "      <td>50.00000</td>\n",
       "    </tr>\n",
       "    <tr>\n",
       "      <th>mean</th>\n",
       "      <td>5.00600</td>\n",
       "      <td>3.418000</td>\n",
       "      <td>1.464000</td>\n",
       "      <td>0.24400</td>\n",
       "    </tr>\n",
       "    <tr>\n",
       "      <th>std</th>\n",
       "      <td>0.35249</td>\n",
       "      <td>0.381024</td>\n",
       "      <td>0.173511</td>\n",
       "      <td>0.10721</td>\n",
       "    </tr>\n",
       "    <tr>\n",
       "      <th>min</th>\n",
       "      <td>4.30000</td>\n",
       "      <td>2.300000</td>\n",
       "      <td>1.000000</td>\n",
       "      <td>0.10000</td>\n",
       "    </tr>\n",
       "    <tr>\n",
       "      <th>25%</th>\n",
       "      <td>4.80000</td>\n",
       "      <td>3.125000</td>\n",
       "      <td>1.400000</td>\n",
       "      <td>0.20000</td>\n",
       "    </tr>\n",
       "    <tr>\n",
       "      <th>50%</th>\n",
       "      <td>5.00000</td>\n",
       "      <td>3.400000</td>\n",
       "      <td>1.500000</td>\n",
       "      <td>0.20000</td>\n",
       "    </tr>\n",
       "    <tr>\n",
       "      <th>75%</th>\n",
       "      <td>5.20000</td>\n",
       "      <td>3.675000</td>\n",
       "      <td>1.575000</td>\n",
       "      <td>0.30000</td>\n",
       "    </tr>\n",
       "    <tr>\n",
       "      <th>max</th>\n",
       "      <td>5.80000</td>\n",
       "      <td>4.400000</td>\n",
       "      <td>1.900000</td>\n",
       "      <td>0.60000</td>\n",
       "    </tr>\n",
       "  </tbody>\n",
       "</table>\n",
       "</div>"
      ],
      "text/plain": [
       "       SepalLengthCm  SepalWidthCm  PetalLengthCm  PetalWidthCm\n",
       "count       50.00000     50.000000      50.000000      50.00000\n",
       "mean         5.00600      3.418000       1.464000       0.24400\n",
       "std          0.35249      0.381024       0.173511       0.10721\n",
       "min          4.30000      2.300000       1.000000       0.10000\n",
       "25%          4.80000      3.125000       1.400000       0.20000\n",
       "50%          5.00000      3.400000       1.500000       0.20000\n",
       "75%          5.20000      3.675000       1.575000       0.30000\n",
       "max          5.80000      4.400000       1.900000       0.60000"
      ]
     },
     "execution_count": 19,
     "metadata": {},
     "output_type": "execute_result"
    }
   ],
   "source": [
    "group_iris.get_group('Iris-setosa').describe()"
   ]
  },
  {
   "cell_type": "code",
   "execution_count": 20,
   "metadata": {
    "scrolled": true
   },
   "outputs": [
    {
     "data": {
      "text/plain": [
       "Species\n",
       "Iris-setosa        AxesSubplot(0.125,0.125;0.775x0.755)\n",
       "Iris-versicolor    AxesSubplot(0.125,0.125;0.775x0.755)\n",
       "Iris-virginica     AxesSubplot(0.125,0.125;0.775x0.755)\n",
       "dtype: object"
      ]
     },
     "execution_count": 20,
     "metadata": {},
     "output_type": "execute_result"
    },
    {
     "data": {
      "image/png": "[encoded data removed]",
      "text/plain": [
       "<Figure size 432x288 with 1 Axes>"
      ]
     },
     "metadata": {
      "needs_background": "light"
     },
     "output_type": "display_data"
    },
    {
     "data": {
      "image/png": "[encoded data removed]",
      "text/plain": [
       "<Figure size 432x288 with 1 Axes>"
      ]
     },
     "metadata": {
      "needs_background": "light"
     },
     "output_type": "display_data"
    },
    {
     "data": {
      "image/png": "[encoded data removed]",
      "text/plain": [
       "<Figure size 432x288 with 1 Axes>"
      ]
     },
     "metadata": {
      "needs_background": "light"
     },
     "output_type": "display_data"
    }
   ],
   "source": [
    "group_iris.plot()\n"
   ]
  },
  {
   "cell_type": "markdown",
   "metadata": {},
   "source": [
    "## Data  ANALYSIS USING SEARBON LIBRARY ##"
   ]
  },
  {
   "cell_type": "code",
   "execution_count": 21,
   "metadata": {},
   "outputs": [],
   "source": [
    "#Importing and reading data.\n",
    "data = pd.read_csv(\"Titanic.csv\", sep=\";\")\n",
    "# Since our data is seperated by semicolons we need to do sep=\";\""
   ]
  },
  {
   "cell_type": "code",
   "execution_count": 22,
   "metadata": {},
   "outputs": [],
   "source": [
    "import numpy as np\n",
    "import seaborn as sns"
   ]
  },
  {
   "cell_type": "code",
   "execution_count": 23,
   "metadata": {},
   "outputs": [
    {
     "data": {
      "text/html": [
       "<div>\n",
       "<style scoped>\n",
       "    .dataframe tbody tr th:only-of-type {\n",
       "        vertical-align: middle;\n",
       "    }\n",
       "\n",
       "    .dataframe tbody tr th {\n",
       "        vertical-align: top;\n",
       "    }\n",
       "\n",
       "    .dataframe thead th {\n",
       "        text-align: right;\n",
       "    }\n",
       "</style>\n",
       "<table border=\"1\" class=\"dataframe\">\n",
       "  <thead>\n",
       "    <tr style=\"text-align: right;\">\n",
       "      <th></th>\n",
       "      <th>SepalLengthCm</th>\n",
       "      <th>SepalWidthCm</th>\n",
       "      <th>PetalLengthCm</th>\n",
       "      <th>PetalWidthCm</th>\n",
       "      <th>Species</th>\n",
       "    </tr>\n",
       "  </thead>\n",
       "  <tbody>\n",
       "    <tr>\n",
       "      <th>0</th>\n",
       "      <td>5.1</td>\n",
       "      <td>3.5</td>\n",
       "      <td>1.4</td>\n",
       "      <td>0.2</td>\n",
       "      <td>Iris-setosa</td>\n",
       "    </tr>\n",
       "    <tr>\n",
       "      <th>1</th>\n",
       "      <td>4.9</td>\n",
       "      <td>3.0</td>\n",
       "      <td>1.4</td>\n",
       "      <td>0.2</td>\n",
       "      <td>Iris-setosa</td>\n",
       "    </tr>\n",
       "    <tr>\n",
       "      <th>2</th>\n",
       "      <td>4.7</td>\n",
       "      <td>3.2</td>\n",
       "      <td>1.3</td>\n",
       "      <td>0.2</td>\n",
       "      <td>Iris-setosa</td>\n",
       "    </tr>\n",
       "    <tr>\n",
       "      <th>3</th>\n",
       "      <td>4.6</td>\n",
       "      <td>3.1</td>\n",
       "      <td>1.5</td>\n",
       "      <td>0.2</td>\n",
       "      <td>Iris-setosa</td>\n",
       "    </tr>\n",
       "    <tr>\n",
       "      <th>4</th>\n",
       "      <td>5.0</td>\n",
       "      <td>3.6</td>\n",
       "      <td>1.4</td>\n",
       "      <td>0.2</td>\n",
       "      <td>Iris-setosa</td>\n",
       "    </tr>\n",
       "  </tbody>\n",
       "</table>\n",
       "</div>"
      ],
      "text/plain": [
       "   SepalLengthCm  SepalWidthCm  PetalLengthCm  PetalWidthCm      Species\n",
       "0            5.1           3.5            1.4           0.2  Iris-setosa\n",
       "1            4.9           3.0            1.4           0.2  Iris-setosa\n",
       "2            4.7           3.2            1.3           0.2  Iris-setosa\n",
       "3            4.6           3.1            1.5           0.2  Iris-setosa\n",
       "4            5.0           3.6            1.4           0.2  Iris-setosa"
      ]
     },
     "execution_count": 23,
     "metadata": {},
     "output_type": "execute_result"
    }
   ],
   "source": [
    "Iris.head()"
   ]
  },
  {
   "cell_type": "code",
   "execution_count": 24,
   "metadata": {},
   "outputs": [
    {
     "data": {
      "text/plain": [
       "Index(['SepalLengthCm', 'SepalWidthCm', 'PetalLengthCm', 'PetalWidthCm',\n",
       "       'Species'],\n",
       "      dtype='object')"
      ]
     },
     "execution_count": 24,
     "metadata": {},
     "output_type": "execute_result"
    }
   ],
   "source": [
    "Iris.columns"
   ]
  },
  {
   "cell_type": "code",
   "execution_count": 25,
   "metadata": {},
   "outputs": [
    {
     "data": {
      "text/plain": [
       "<AxesSubplot:xlabel='PetalWidthCm', ylabel='count'>"
      ]
     },
     "execution_count": 25,
     "metadata": {},
     "output_type": "execute_result"
    },
    {
     "data": {
      "image/png": "[encoded data removed]",
      "text/plain": [
       "<Figure size 432x288 with 1 Axes>"
      ]
     },
     "metadata": {
      "needs_background": "light"
     },
     "output_type": "display_data"
    }
   ],
   "source": [
    "sns.countplot(x=\"PetalWidthCm\", data=Iris)"
   ]
  },
  {
   "cell_type": "code",
   "execution_count": 26,
   "metadata": {},
   "outputs": [
    {
     "data": {
      "text/plain": [
       "<seaborn.axisgrid.FacetGrid at 0x13c9912e0>"
      ]
     },
     "execution_count": 26,
     "metadata": {},
     "output_type": "execute_result"
    },
    {
     "data": {
      "image/png": "[encoded data removed]",
      "text/plain": [
       "<Figure size 360x360 with 1 Axes>"
      ]
     },
     "metadata": {
      "needs_background": "light"
     },
     "output_type": "display_data"
    }
   ],
   "source": [
    "sns.relplot(x=\"Species\", y=\"PetalWidthCm\", data=Iris, kind=\"line\")"
   ]
  },
  {
   "cell_type": "markdown",
   "metadata": {},
   "source": [
    "## More on plotting ##"
   ]
  },
  {
   "cell_type": "code",
   "execution_count": 27,
   "metadata": {},
   "outputs": [
    {
     "data": {
      "text/plain": [
       "<function matplotlib.pyplot.show(close=None, block=None)>"
      ]
     },
     "execution_count": 27,
     "metadata": {},
     "output_type": "execute_result"
    },
    {
     "data": {
      "image/png": "[encoded data removed]",
      "text/plain": [
       "<Figure size 432x288 with 1 Axes>"
      ]
     },
     "metadata": {
      "needs_background": "light"
     },
     "output_type": "display_data"
    }
   ],
   "source": [
    "import math\n",
    "\n",
    "X=[i for i in range(100)]\n",
    "y1=[math.sin(X[i]) for i in range(100)]\n",
    "plt.plot(X,y1,color='orange',linewidth=2,linestyle=':')\n",
    "plt.title('Sine function')\n",
    "plt.show"
   ]
  },
  {
   "cell_type": "code",
   "execution_count": 28,
   "metadata": {},
   "outputs": [
    {
     "data": {
      "text/plain": [
       "<function matplotlib.pyplot.show(close=None, block=None)>"
      ]
     },
     "execution_count": 28,
     "metadata": {},
     "output_type": "execute_result"
    },
    {
     "data": {
      "image/png": "[encoded data removed]",
      "text/plain": [
       "<Figure size 432x288 with 1 Axes>"
      ]
     },
     "metadata": {
      "needs_background": "light"
     },
     "output_type": "display_data"
    }
   ],
   "source": [
    "X1=[-i for i in range(10)]\n",
    "X2=[i for i in range(10)]\n",
    "X3=sorted(X1)+X2\n",
    "\n",
    "y2=[1/(1+math.exp(-x)) for x in X3]\n",
    "plt.plot(X3,y2,color='lightgreen',linewidth=10)\n",
    "plt.title('Sigmoid function')\n",
    "plt.grid(True)\n",
    "plt.show\n"
   ]
  },
  {
   "cell_type": "code",
   "execution_count": 29,
   "metadata": {
    "scrolled": true
   },
   "outputs": [
    {
     "data": {
      "text/plain": [
       "<function matplotlib.pyplot.show(close=None, block=None)>"
      ]
     },
     "execution_count": 29,
     "metadata": {},
     "output_type": "execute_result"
    },
    {
     "data": {
      "image/png": "[encoded data removed]",
      "text/plain": [
       "<Figure size 432x288 with 1 Axes>"
      ]
     },
     "metadata": {
      "needs_background": "light"
     },
     "output_type": "display_data"
    }
   ],
   "source": [
    "X1=[-i for i in range(10)]\n",
    "X2=[i for i in range(10)]\n",
    "X3=sorted(X1)+X2\n",
    "y1=[math.sin(x) for x in X3]\n",
    "y2=[1/(1+math.exp(-x)) for x in X3]\n",
    "plt.plot(X3,y2,color='lightgreen',linewidth=2)\n",
    "plt.plot(X3,y1,color='orange',linewidth=3)\n",
    "plt.title('Sigmoid and sine function')\n",
    "plt.grid(True)\n",
    "plt.show"
   ]
  },
  {
   "cell_type": "markdown",
   "metadata": {},
   "source": [
    "## Plotting Normal distribution ##"
   ]
  },
  {
   "cell_type": "code",
   "execution_count": 30,
   "metadata": {},
   "outputs": [
    {
     "data": {
      "text/plain": [
       "<function matplotlib.pyplot.show(close=None, block=None)>"
      ]
     },
     "execution_count": 30,
     "metadata": {},
     "output_type": "execute_result"
    },
    {
     "data": {
      "image/png": "[encoded data removed]",
      "text/plain": [
       "<Figure size 432x288 with 1 Axes>"
      ]
     },
     "metadata": {
      "needs_background": "light"
     },
     "output_type": "display_data"
    }
   ],
   "source": [
    "d_p=[i for i in range(100)] \n",
    "mu=50\n",
    "delta=0.5\n",
    "\n",
    "df=[(1/(delta*math.sqrt(2*math.pi)))*math.exp(-((d_p[i]-mu)/2*delta**2)**2) for i in range(100)]\n",
    "\n",
    "plt.plot(d_p,df,color='lightgreen',linewidth=3)\n",
    "plt.show\n"
   ]
  },
  {
   "cell_type": "code",
   "execution_count": 31,
   "metadata": {},
   "outputs": [
    {
     "data": {
      "text/plain": [
       "<function matplotlib.pyplot.show(close=None, block=None)>"
      ]
     },
     "execution_count": 31,
     "metadata": {},
     "output_type": "execute_result"
    },
    {
     "data": {
      "image/png": "[encoded data removed]",
      "text/plain": [
       "<Figure size 432x288 with 1 Axes>"
      ]
     },
     "metadata": {
      "needs_background": "light"
     },
     "output_type": "display_data"
    }
   ],
   "source": [
    "#Bar plot\n",
    "Students={\"Tom\":40,\"Kip\":85,\"Shery\":50}\n",
    "Names=list(Students.keys())\n",
    "Marks=list(Students.values())\n",
    "plt.bar(Names,Marks,color='yellow')\n",
    "plt.show"
   ]
  },
  {
   "cell_type": "code",
   "execution_count": 32,
   "metadata": {},
   "outputs": [
    {
     "data": {
      "text/plain": [
       "<function matplotlib.pyplot.show(close=None, block=None)>"
      ]
     },
     "execution_count": 32,
     "metadata": {},
     "output_type": "execute_result"
    },
    {
     "data": {
      "image/png": "[encoded data removed]",
      "text/plain": [
       "<Figure size 432x288 with 1 Axes>"
      ]
     },
     "metadata": {
      "needs_background": "light"
     },
     "output_type": "display_data"
    }
   ],
   "source": [
    "#Bar plot\n",
    "Students={\"Tom\":40,\"Kip\":85,\"Shery\":50}\n",
    "Names=list(Students.keys())\n",
    "Marks=list(Students.values())\n",
    "plt.barh(Names,Marks,color='yellow')\n",
    "plt.show"
   ]
  },
  {
   "cell_type": "markdown",
   "metadata": {},
   "source": [
    "## Scatter plot ##"
   ]
  },
  {
   "cell_type": "code",
   "execution_count": 33,
   "metadata": {},
   "outputs": [
    {
     "data": {
      "text/plain": [
       "<function matplotlib.pyplot.show(close=None, block=None)>"
      ]
     },
     "execution_count": 33,
     "metadata": {},
     "output_type": "execute_result"
    },
    {
     "data": {
      "image/png": "[encoded data removed]",
      "text/plain": [
       "<Figure size 432x288 with 1 Axes>"
      ]
     },
     "metadata": {
      "needs_background": "light"
     },
     "output_type": "display_data"
    }
   ],
   "source": [
    "import random\n",
    "def rand():\n",
    "    rand=random.randint(1,40)\n",
    "    return rand\n",
    "\n",
    "x=[i for i in range(100)]\n",
    "y=[i+rand() for i in range(len(x))]\n",
    "Z=[60+i+rand() for i in range(len(x))]\n",
    "\n",
    "plt.scatter(x,y,color='red')\n",
    "plt.scatter(x,Z,color='Blue')\n",
    "plt.show\n"
   ]
  },
  {
   "cell_type": "markdown",
   "metadata": {},
   "source": [
    "## Classifying Iris Data using Random Forest  ##"
   ]
  },
  {
   "cell_type": "code",
   "execution_count": 34,
   "metadata": {},
   "outputs": [],
   "source": [
    "# first neural network with keras tutorial\n",
    "import pandas as pd\n",
    "import numpy as np\n",
    "from sklearn.metrics import accuracy_score\n",
    "import matplotlib.pyplot as plt\n",
    "import seaborn as sn\n",
    "from numpy import loadtxt\n",
    "from keras.models import Sequential\n",
    "from keras.layers import Dense"
   ]
  },
  {
   "cell_type": "code",
   "execution_count": 56,
   "metadata": {},
   "outputs": [
    {
     "data": {
      "text/html": [
       "<div>\n",
       "<style scoped>\n",
       "    .dataframe tbody tr th:only-of-type {\n",
       "        vertical-align: middle;\n",
       "    }\n",
       "\n",
       "    .dataframe tbody tr th {\n",
       "        vertical-align: top;\n",
       "    }\n",
       "\n",
       "    .dataframe thead th {\n",
       "        text-align: right;\n",
       "    }\n",
       "</style>\n",
       "<table border=\"1\" class=\"dataframe\">\n",
       "  <thead>\n",
       "    <tr style=\"text-align: right;\">\n",
       "      <th></th>\n",
       "      <th>SepalLengthCm</th>\n",
       "      <th>SepalWidthCm</th>\n",
       "      <th>PetalLengthCm</th>\n",
       "      <th>PetalWidthCm</th>\n",
       "      <th>Species</th>\n",
       "    </tr>\n",
       "  </thead>\n",
       "  <tbody>\n",
       "    <tr>\n",
       "      <th>0</th>\n",
       "      <td>5.1</td>\n",
       "      <td>3.5</td>\n",
       "      <td>1.4</td>\n",
       "      <td>0.2</td>\n",
       "      <td>Iris-setosa</td>\n",
       "    </tr>\n",
       "    <tr>\n",
       "      <th>1</th>\n",
       "      <td>4.9</td>\n",
       "      <td>3.0</td>\n",
       "      <td>1.4</td>\n",
       "      <td>0.2</td>\n",
       "      <td>Iris-setosa</td>\n",
       "    </tr>\n",
       "    <tr>\n",
       "      <th>2</th>\n",
       "      <td>4.7</td>\n",
       "      <td>3.2</td>\n",
       "      <td>1.3</td>\n",
       "      <td>0.2</td>\n",
       "      <td>Iris-setosa</td>\n",
       "    </tr>\n",
       "    <tr>\n",
       "      <th>3</th>\n",
       "      <td>4.6</td>\n",
       "      <td>3.1</td>\n",
       "      <td>1.5</td>\n",
       "      <td>0.2</td>\n",
       "      <td>Iris-setosa</td>\n",
       "    </tr>\n",
       "    <tr>\n",
       "      <th>4</th>\n",
       "      <td>5.0</td>\n",
       "      <td>3.6</td>\n",
       "      <td>1.4</td>\n",
       "      <td>0.2</td>\n",
       "      <td>Iris-setosa</td>\n",
       "    </tr>\n",
       "  </tbody>\n",
       "</table>\n",
       "</div>"
      ],
      "text/plain": [
       "   SepalLengthCm  SepalWidthCm  PetalLengthCm  PetalWidthCm      Species\n",
       "0            5.1           3.5            1.4           0.2  Iris-setosa\n",
       "1            4.9           3.0            1.4           0.2  Iris-setosa\n",
       "2            4.7           3.2            1.3           0.2  Iris-setosa\n",
       "3            4.6           3.1            1.5           0.2  Iris-setosa\n",
       "4            5.0           3.6            1.4           0.2  Iris-setosa"
      ]
     },
     "execution_count": 56,
     "metadata": {},
     "output_type": "execute_result"
    }
   ],
   "source": [
    "#Importing and reading data.\n",
    "Iris= pd.read_csv(\"Iris.csv\")\n",
    "# Since our data is seperated by semicolons we need to do sep=\";\"\n",
    "Iris=Iris.iloc[:,[1,2,3,4,5]]\n",
    "Iris.head()"
   ]
  },
  {
   "cell_type": "code",
   "execution_count": 66,
   "metadata": {},
   "outputs": [
    {
     "data": {
      "text/html": [
       "<div>\n",
       "<style scoped>\n",
       "    .dataframe tbody tr th:only-of-type {\n",
       "        vertical-align: middle;\n",
       "    }\n",
       "\n",
       "    .dataframe tbody tr th {\n",
       "        vertical-align: top;\n",
       "    }\n",
       "\n",
       "    .dataframe thead th {\n",
       "        text-align: right;\n",
       "    }\n",
       "</style>\n",
       "<table border=\"1\" class=\"dataframe\">\n",
       "  <thead>\n",
       "    <tr style=\"text-align: right;\">\n",
       "      <th></th>\n",
       "      <th>SepalWidthCm</th>\n",
       "      <th>PetalLengthCm</th>\n",
       "      <th>PetalWidthCm</th>\n",
       "    </tr>\n",
       "  </thead>\n",
       "  <tbody>\n",
       "    <tr>\n",
       "      <th>0</th>\n",
       "      <td>8.037819</td>\n",
       "      <td>-16.897404</td>\n",
       "      <td>0.570057</td>\n",
       "    </tr>\n",
       "    <tr>\n",
       "      <th>1</th>\n",
       "      <td>10.679024</td>\n",
       "      <td>7.298798</td>\n",
       "      <td>-3.438588</td>\n",
       "    </tr>\n",
       "    <tr>\n",
       "      <th>2</th>\n",
       "      <td>-4.856265</td>\n",
       "      <td>-9.883119</td>\n",
       "      <td>-1.110540</td>\n",
       "    </tr>\n",
       "    <tr>\n",
       "      <th>3</th>\n",
       "      <td>14.430799</td>\n",
       "      <td>-18.018041</td>\n",
       "      <td>-6.398917</td>\n",
       "    </tr>\n",
       "    <tr>\n",
       "      <th>4</th>\n",
       "      <td>-7.798025</td>\n",
       "      <td>9.249575</td>\n",
       "      <td>-5.343096</td>\n",
       "    </tr>\n",
       "    <tr>\n",
       "      <th>...</th>\n",
       "      <td>...</td>\n",
       "      <td>...</td>\n",
       "      <td>...</td>\n",
       "    </tr>\n",
       "    <tr>\n",
       "      <th>145</th>\n",
       "      <td>5.014799</td>\n",
       "      <td>10.607736</td>\n",
       "      <td>-15.880776</td>\n",
       "    </tr>\n",
       "    <tr>\n",
       "      <th>146</th>\n",
       "      <td>2.006759</td>\n",
       "      <td>7.390336</td>\n",
       "      <td>-8.103303</td>\n",
       "    </tr>\n",
       "    <tr>\n",
       "      <th>147</th>\n",
       "      <td>19.739857</td>\n",
       "      <td>6.815593</td>\n",
       "      <td>17.634047</td>\n",
       "    </tr>\n",
       "    <tr>\n",
       "      <th>148</th>\n",
       "      <td>-4.505230</td>\n",
       "      <td>-3.673001</td>\n",
       "      <td>4.542522</td>\n",
       "    </tr>\n",
       "    <tr>\n",
       "      <th>149</th>\n",
       "      <td>-13.786884</td>\n",
       "      <td>7.249656</td>\n",
       "      <td>2.772192</td>\n",
       "    </tr>\n",
       "  </tbody>\n",
       "</table>\n",
       "<p>150 rows × 3 columns</p>\n",
       "</div>"
      ],
      "text/plain": [
       "     SepalWidthCm  PetalLengthCm  PetalWidthCm\n",
       "0        8.037819     -16.897404      0.570057\n",
       "1       10.679024       7.298798     -3.438588\n",
       "2       -4.856265      -9.883119     -1.110540\n",
       "3       14.430799     -18.018041     -6.398917\n",
       "4       -7.798025       9.249575     -5.343096\n",
       "..            ...            ...           ...\n",
       "145      5.014799      10.607736    -15.880776\n",
       "146      2.006759       7.390336     -8.103303\n",
       "147     19.739857       6.815593     17.634047\n",
       "148     -4.505230      -3.673001      4.542522\n",
       "149    -13.786884       7.249656      2.772192\n",
       "\n",
       "[150 rows x 3 columns]"
      ]
     },
     "execution_count": 66,
     "metadata": {},
     "output_type": "execute_result"
    }
   ],
   "source": [
    "X=Iris.iloc[:,[1,2,3]]\n",
    "\n",
    "y=Iris.iloc[:,4]\n",
    "Xn=X+np.random.normal(0,10,X.shape)\n",
    "Xn"
   ]
  },
  {
   "cell_type": "code",
   "execution_count": 36,
   "metadata": {},
   "outputs": [],
   "source": [
    "from sklearn.ensemble import RandomForestClassifier\n",
    "np.random.seed(0)"
   ]
  },
  {
   "cell_type": "code",
   "execution_count": 37,
   "metadata": {},
   "outputs": [
    {
     "data": {
      "text/html": [
       "<div>\n",
       "<style scoped>\n",
       "    .dataframe tbody tr th:only-of-type {\n",
       "        vertical-align: middle;\n",
       "    }\n",
       "\n",
       "    .dataframe tbody tr th {\n",
       "        vertical-align: top;\n",
       "    }\n",
       "\n",
       "    .dataframe thead th {\n",
       "        text-align: right;\n",
       "    }\n",
       "</style>\n",
       "<table border=\"1\" class=\"dataframe\">\n",
       "  <thead>\n",
       "    <tr style=\"text-align: right;\">\n",
       "      <th></th>\n",
       "      <th>SepalLengthCm</th>\n",
       "      <th>SepalWidthCm</th>\n",
       "      <th>PetalLengthCm</th>\n",
       "      <th>PetalWidthCm</th>\n",
       "      <th>Species</th>\n",
       "      <th>Is_train</th>\n",
       "    </tr>\n",
       "  </thead>\n",
       "  <tbody>\n",
       "    <tr>\n",
       "      <th>0</th>\n",
       "      <td>5.1</td>\n",
       "      <td>3.5</td>\n",
       "      <td>1.4</td>\n",
       "      <td>0.2</td>\n",
       "      <td>Iris-setosa</td>\n",
       "      <td>True</td>\n",
       "    </tr>\n",
       "    <tr>\n",
       "      <th>1</th>\n",
       "      <td>4.9</td>\n",
       "      <td>3.0</td>\n",
       "      <td>1.4</td>\n",
       "      <td>0.2</td>\n",
       "      <td>Iris-setosa</td>\n",
       "      <td>True</td>\n",
       "    </tr>\n",
       "    <tr>\n",
       "      <th>2</th>\n",
       "      <td>4.7</td>\n",
       "      <td>3.2</td>\n",
       "      <td>1.3</td>\n",
       "      <td>0.2</td>\n",
       "      <td>Iris-setosa</td>\n",
       "      <td>True</td>\n",
       "    </tr>\n",
       "    <tr>\n",
       "      <th>3</th>\n",
       "      <td>4.6</td>\n",
       "      <td>3.1</td>\n",
       "      <td>1.5</td>\n",
       "      <td>0.2</td>\n",
       "      <td>Iris-setosa</td>\n",
       "      <td>True</td>\n",
       "    </tr>\n",
       "    <tr>\n",
       "      <th>4</th>\n",
       "      <td>5.0</td>\n",
       "      <td>3.6</td>\n",
       "      <td>1.4</td>\n",
       "      <td>0.2</td>\n",
       "      <td>Iris-setosa</td>\n",
       "      <td>True</td>\n",
       "    </tr>\n",
       "  </tbody>\n",
       "</table>\n",
       "</div>"
      ],
      "text/plain": [
       "   SepalLengthCm  SepalWidthCm  PetalLengthCm  PetalWidthCm      Species  \\\n",
       "0            5.1           3.5            1.4           0.2  Iris-setosa   \n",
       "1            4.9           3.0            1.4           0.2  Iris-setosa   \n",
       "2            4.7           3.2            1.3           0.2  Iris-setosa   \n",
       "3            4.6           3.1            1.5           0.2  Iris-setosa   \n",
       "4            5.0           3.6            1.4           0.2  Iris-setosa   \n",
       "\n",
       "   Is_train  \n",
       "0      True  \n",
       "1      True  \n",
       "2      True  \n",
       "3      True  \n",
       "4      True  "
      ]
     },
     "execution_count": 37,
     "metadata": {},
     "output_type": "execute_result"
    }
   ],
   "source": [
    "Iris['Is_train']=np.random.uniform(0,1,len(Iris))<=0.75\n",
    "Iris.head()\n"
   ]
  },
  {
   "cell_type": "code",
   "execution_count": 38,
   "metadata": {},
   "outputs": [],
   "source": [
    "train,test=Iris[Iris['Is_train']==True],Iris[Iris['Is_train']==False]"
   ]
  },
  {
   "cell_type": "code",
   "execution_count": 39,
   "metadata": {},
   "outputs": [
    {
     "data": {
      "text/plain": [
       "(118, 32)"
      ]
     },
     "execution_count": 39,
     "metadata": {},
     "output_type": "execute_result"
    }
   ],
   "source": [
    "len(train), len(test)"
   ]
  },
  {
   "cell_type": "code",
   "execution_count": 40,
   "metadata": {},
   "outputs": [
    {
     "ename": "IndexError",
     "evalue": "positional indexers are out-of-bounds",
     "output_type": "error",
     "traceback": [
      "\u001b[0;31m---------------------------------------------------------------------------\u001b[0m",
      "\u001b[0;31mIndexError\u001b[0m                                Traceback (most recent call last)",
      "\u001b[0;32m<ipython-input-40-6a7f62e08fc7>\u001b[0m in \u001b[0;36m<module>\u001b[0;34m\u001b[0m\n\u001b[0;32m----> 1\u001b[0;31m \u001b[0mX_train\u001b[0m\u001b[0;34m=\u001b[0m\u001b[0mtrain\u001b[0m\u001b[0;34m.\u001b[0m\u001b[0miloc\u001b[0m\u001b[0;34m[\u001b[0m\u001b[0;34m:\u001b[0m\u001b[0;34m,\u001b[0m\u001b[0;34m[\u001b[0m\u001b[0;36m2\u001b[0m\u001b[0;34m,\u001b[0m\u001b[0;36m3\u001b[0m\u001b[0;34m,\u001b[0m\u001b[0;36m4\u001b[0m\u001b[0;34m,\u001b[0m\u001b[0;36m5\u001b[0m\u001b[0;34m,\u001b[0m\u001b[0;36m6\u001b[0m\u001b[0;34m,\u001b[0m\u001b[0;36m7\u001b[0m\u001b[0;34m,\u001b[0m\u001b[0;36m8\u001b[0m\u001b[0;34m,\u001b[0m\u001b[0;36m9\u001b[0m\u001b[0;34m,\u001b[0m\u001b[0;36m10\u001b[0m\u001b[0;34m,\u001b[0m\u001b[0;36m11\u001b[0m\u001b[0;34m,\u001b[0m\u001b[0;36m12\u001b[0m\u001b[0;34m,\u001b[0m\u001b[0;36m13\u001b[0m\u001b[0;34m]\u001b[0m\u001b[0;34m]\u001b[0m\u001b[0;34m\u001b[0m\u001b[0;34m\u001b[0m\u001b[0m\n\u001b[0m\u001b[1;32m      2\u001b[0m \u001b[0my_train\u001b[0m\u001b[0;34m=\u001b[0m\u001b[0mtrain\u001b[0m\u001b[0;34m.\u001b[0m\u001b[0miloc\u001b[0m\u001b[0;34m[\u001b[0m\u001b[0;34m:\u001b[0m\u001b[0;34m,\u001b[0m\u001b[0;36m15\u001b[0m\u001b[0;34m]\u001b[0m\u001b[0;34m\u001b[0m\u001b[0;34m\u001b[0m\u001b[0m\n\u001b[1;32m      3\u001b[0m \u001b[0mX_test\u001b[0m\u001b[0;34m=\u001b[0m\u001b[0mtest\u001b[0m\u001b[0;34m.\u001b[0m\u001b[0miloc\u001b[0m\u001b[0;34m[\u001b[0m\u001b[0;34m:\u001b[0m\u001b[0;34m,\u001b[0m\u001b[0;34m[\u001b[0m\u001b[0;36m2\u001b[0m\u001b[0;34m,\u001b[0m\u001b[0;36m3\u001b[0m\u001b[0;34m,\u001b[0m\u001b[0;36m4\u001b[0m\u001b[0;34m,\u001b[0m\u001b[0;36m5\u001b[0m\u001b[0;34m,\u001b[0m\u001b[0;36m6\u001b[0m\u001b[0;34m,\u001b[0m\u001b[0;36m7\u001b[0m\u001b[0;34m,\u001b[0m\u001b[0;36m8\u001b[0m\u001b[0;34m,\u001b[0m\u001b[0;36m9\u001b[0m\u001b[0;34m,\u001b[0m\u001b[0;36m10\u001b[0m\u001b[0;34m,\u001b[0m\u001b[0;36m11\u001b[0m\u001b[0;34m,\u001b[0m\u001b[0;36m12\u001b[0m\u001b[0;34m,\u001b[0m\u001b[0;36m13\u001b[0m\u001b[0;34m]\u001b[0m\u001b[0;34m]\u001b[0m\u001b[0;34m\u001b[0m\u001b[0;34m\u001b[0m\u001b[0m\n\u001b[1;32m      4\u001b[0m \u001b[0my_test\u001b[0m\u001b[0;34m=\u001b[0m\u001b[0mtest\u001b[0m\u001b[0;34m.\u001b[0m\u001b[0miloc\u001b[0m\u001b[0;34m[\u001b[0m\u001b[0;34m:\u001b[0m\u001b[0;34m,\u001b[0m\u001b[0;36m15\u001b[0m\u001b[0;34m]\u001b[0m\u001b[0;34m\u001b[0m\u001b[0;34m\u001b[0m\u001b[0m\n\u001b[1;32m      5\u001b[0m \u001b[0;34m\u001b[0m\u001b[0m\n",
      "\u001b[0;32m/opt/anaconda3/envs/Project/lib/python3.8/site-packages/pandas/core/indexing.py\u001b[0m in \u001b[0;36m__getitem__\u001b[0;34m(self, key)\u001b[0m\n\u001b[1;32m    871\u001b[0m                     \u001b[0;31m# AttributeError for IntervalTree get_value\u001b[0m\u001b[0;34m\u001b[0m\u001b[0;34m\u001b[0m\u001b[0;34m\u001b[0m\u001b[0m\n\u001b[1;32m    872\u001b[0m                     \u001b[0;32mpass\u001b[0m\u001b[0;34m\u001b[0m\u001b[0;34m\u001b[0m\u001b[0m\n\u001b[0;32m--> 873\u001b[0;31m             \u001b[0;32mreturn\u001b[0m \u001b[0mself\u001b[0m\u001b[0;34m.\u001b[0m\u001b[0m_getitem_tuple\u001b[0m\u001b[0;34m(\u001b[0m\u001b[0mkey\u001b[0m\u001b[0;34m)\u001b[0m\u001b[0;34m\u001b[0m\u001b[0;34m\u001b[0m\u001b[0m\n\u001b[0m\u001b[1;32m    874\u001b[0m         \u001b[0;32melse\u001b[0m\u001b[0;34m:\u001b[0m\u001b[0;34m\u001b[0m\u001b[0;34m\u001b[0m\u001b[0m\n\u001b[1;32m    875\u001b[0m             \u001b[0;31m# we by definition only have the 0th axis\u001b[0m\u001b[0;34m\u001b[0m\u001b[0;34m\u001b[0m\u001b[0;34m\u001b[0m\u001b[0m\n",
      "\u001b[0;32m/opt/anaconda3/envs/Project/lib/python3.8/site-packages/pandas/core/indexing.py\u001b[0m in \u001b[0;36m_getitem_tuple\u001b[0;34m(self, tup)\u001b[0m\n\u001b[1;32m   1441\u001b[0m     \u001b[0;32mdef\u001b[0m \u001b[0m_getitem_tuple\u001b[0m\u001b[0;34m(\u001b[0m\u001b[0mself\u001b[0m\u001b[0;34m,\u001b[0m \u001b[0mtup\u001b[0m\u001b[0;34m:\u001b[0m \u001b[0mTuple\u001b[0m\u001b[0;34m)\u001b[0m\u001b[0;34m:\u001b[0m\u001b[0;34m\u001b[0m\u001b[0;34m\u001b[0m\u001b[0m\n\u001b[1;32m   1442\u001b[0m \u001b[0;34m\u001b[0m\u001b[0m\n\u001b[0;32m-> 1443\u001b[0;31m         \u001b[0mself\u001b[0m\u001b[0;34m.\u001b[0m\u001b[0m_has_valid_tuple\u001b[0m\u001b[0;34m(\u001b[0m\u001b[0mtup\u001b[0m\u001b[0;34m)\u001b[0m\u001b[0;34m\u001b[0m\u001b[0;34m\u001b[0m\u001b[0m\n\u001b[0m\u001b[1;32m   1444\u001b[0m         \u001b[0;32mtry\u001b[0m\u001b[0;34m:\u001b[0m\u001b[0;34m\u001b[0m\u001b[0;34m\u001b[0m\u001b[0m\n\u001b[1;32m   1445\u001b[0m             \u001b[0;32mreturn\u001b[0m \u001b[0mself\u001b[0m\u001b[0;34m.\u001b[0m\u001b[0m_getitem_lowerdim\u001b[0m\u001b[0;34m(\u001b[0m\u001b[0mtup\u001b[0m\u001b[0;34m)\u001b[0m\u001b[0;34m\u001b[0m\u001b[0;34m\u001b[0m\u001b[0m\n",
      "\u001b[0;32m/opt/anaconda3/envs/Project/lib/python3.8/site-packages/pandas/core/indexing.py\u001b[0m in \u001b[0;36m_has_valid_tuple\u001b[0;34m(self, key)\u001b[0m\n\u001b[1;32m    700\u001b[0m                 \u001b[0;32mraise\u001b[0m \u001b[0mIndexingError\u001b[0m\u001b[0;34m(\u001b[0m\u001b[0;34m\"Too many indexers\"\u001b[0m\u001b[0;34m)\u001b[0m\u001b[0;34m\u001b[0m\u001b[0;34m\u001b[0m\u001b[0m\n\u001b[1;32m    701\u001b[0m             \u001b[0;32mtry\u001b[0m\u001b[0;34m:\u001b[0m\u001b[0;34m\u001b[0m\u001b[0;34m\u001b[0m\u001b[0m\n\u001b[0;32m--> 702\u001b[0;31m                 \u001b[0mself\u001b[0m\u001b[0;34m.\u001b[0m\u001b[0m_validate_key\u001b[0m\u001b[0;34m(\u001b[0m\u001b[0mk\u001b[0m\u001b[0;34m,\u001b[0m \u001b[0mi\u001b[0m\u001b[0;34m)\u001b[0m\u001b[0;34m\u001b[0m\u001b[0;34m\u001b[0m\u001b[0m\n\u001b[0m\u001b[1;32m    703\u001b[0m             \u001b[0;32mexcept\u001b[0m \u001b[0mValueError\u001b[0m \u001b[0;32mas\u001b[0m \u001b[0merr\u001b[0m\u001b[0;34m:\u001b[0m\u001b[0;34m\u001b[0m\u001b[0;34m\u001b[0m\u001b[0m\n\u001b[1;32m    704\u001b[0m                 raise ValueError(\n",
      "\u001b[0;32m/opt/anaconda3/envs/Project/lib/python3.8/site-packages/pandas/core/indexing.py\u001b[0m in \u001b[0;36m_validate_key\u001b[0;34m(self, key, axis)\u001b[0m\n\u001b[1;32m   1365\u001b[0m             \u001b[0;31m# check that the key does not exceed the maximum size of the index\u001b[0m\u001b[0;34m\u001b[0m\u001b[0;34m\u001b[0m\u001b[0;34m\u001b[0m\u001b[0m\n\u001b[1;32m   1366\u001b[0m             \u001b[0;32mif\u001b[0m \u001b[0mlen\u001b[0m\u001b[0;34m(\u001b[0m\u001b[0marr\u001b[0m\u001b[0;34m)\u001b[0m \u001b[0;32mand\u001b[0m \u001b[0;34m(\u001b[0m\u001b[0marr\u001b[0m\u001b[0;34m.\u001b[0m\u001b[0mmax\u001b[0m\u001b[0;34m(\u001b[0m\u001b[0;34m)\u001b[0m \u001b[0;34m>=\u001b[0m \u001b[0mlen_axis\u001b[0m \u001b[0;32mor\u001b[0m \u001b[0marr\u001b[0m\u001b[0;34m.\u001b[0m\u001b[0mmin\u001b[0m\u001b[0;34m(\u001b[0m\u001b[0;34m)\u001b[0m \u001b[0;34m<\u001b[0m \u001b[0;34m-\u001b[0m\u001b[0mlen_axis\u001b[0m\u001b[0;34m)\u001b[0m\u001b[0;34m:\u001b[0m\u001b[0;34m\u001b[0m\u001b[0;34m\u001b[0m\u001b[0m\n\u001b[0;32m-> 1367\u001b[0;31m                 \u001b[0;32mraise\u001b[0m \u001b[0mIndexError\u001b[0m\u001b[0;34m(\u001b[0m\u001b[0;34m\"positional indexers are out-of-bounds\"\u001b[0m\u001b[0;34m)\u001b[0m\u001b[0;34m\u001b[0m\u001b[0;34m\u001b[0m\u001b[0m\n\u001b[0m\u001b[1;32m   1368\u001b[0m         \u001b[0;32melse\u001b[0m\u001b[0;34m:\u001b[0m\u001b[0;34m\u001b[0m\u001b[0;34m\u001b[0m\u001b[0m\n\u001b[1;32m   1369\u001b[0m             \u001b[0;32mraise\u001b[0m \u001b[0mValueError\u001b[0m\u001b[0;34m(\u001b[0m\u001b[0;34mf\"Can only index by location with a [{self._valid_types}]\"\u001b[0m\u001b[0;34m)\u001b[0m\u001b[0;34m\u001b[0m\u001b[0;34m\u001b[0m\u001b[0m\n",
      "\u001b[0;31mIndexError\u001b[0m: positional indexers are out-of-bounds"
     ]
    }
   ],
   "source": [
    "X_train=train.iloc[:,[2,3,4,5,6,7,8,9,10,11,12,13]]\n",
    "y_train=train.iloc[:,15]\n",
    "X_test=test.iloc[:,[2,3,4,5,6,7,8,9,10,11,12,13]]\n",
    "y_test=test.iloc[:,15]\n",
    "\n",
    "X_train.head()"
   ]
  },
  {
   "cell_type": "code",
   "execution_count": 63,
   "metadata": {},
   "outputs": [
    {
     "data": {
      "text/plain": [
       "array([0, 0, 0, 0, 0, 0, 0, 0, 0, 0, 0, 0, 0, 0, 0, 0, 0, 0, 0, 0, 0, 0,\n",
       "       0, 0, 0, 0, 0, 0, 0, 0, 0, 0, 0, 0, 0, 0, 0, 1, 1, 1, 1, 1, 1, 1,\n",
       "       1, 1, 1, 1, 1, 1, 1, 1, 1, 1, 1, 1, 1, 1, 1, 1, 1, 1, 1, 1, 1, 1,\n",
       "       1, 1, 1, 1, 1, 1, 1, 1, 1, 1, 1, 1, 1, 1, 2, 2, 2, 2, 2, 2, 2, 2,\n",
       "       2, 2, 2, 2, 2, 2, 2, 2, 2, 2, 2, 2, 2, 2, 2, 2, 2, 2, 2, 2, 2, 2,\n",
       "       2, 2, 2, 2, 2, 2, 2, 2])"
      ]
     },
     "execution_count": 63,
     "metadata": {},
     "output_type": "execute_result"
    }
   ],
   "source": [
    "y_train=pd.factorize(train['Species'])[0]\n",
    "y_test=pd.factorize(test['Species'])[0]\n",
    "\n",
    "y_train"
   ]
  },
  {
   "cell_type": "code",
   "execution_count": 64,
   "metadata": {},
   "outputs": [
    {
     "data": {
      "text/plain": [
       "RandomForestClassifier(n_jobs=2, random_state=0)"
      ]
     },
     "execution_count": 64,
     "metadata": {},
     "output_type": "execute_result"
    }
   ],
   "source": [
    "## Creating a model\n",
    "model=RandomForestClassifier(n_jobs=2,random_state=0)\n",
    "model.fit(X_train,y_train)"
   ]
  },
  {
   "cell_type": "code",
   "execution_count": 65,
   "metadata": {},
   "outputs": [
    {
     "data": {
      "text/plain": [
       "0.9375"
      ]
     },
     "execution_count": 65,
     "metadata": {},
     "output_type": "execute_result"
    }
   ],
   "source": [
    "predictions=model.predict(X_test)\n",
    "score=accuracy_score(y_test,predictions)\n",
    "score"
   ]
  },
  {
   "cell_type": "code",
   "execution_count": 66,
   "metadata": {},
   "outputs": [
    {
     "data": {
      "text/html": [
       "<div>\n",
       "<style scoped>\n",
       "    .dataframe tbody tr th:only-of-type {\n",
       "        vertical-align: middle;\n",
       "    }\n",
       "\n",
       "    .dataframe tbody tr th {\n",
       "        vertical-align: top;\n",
       "    }\n",
       "\n",
       "    .dataframe thead th {\n",
       "        text-align: right;\n",
       "    }\n",
       "</style>\n",
       "<table border=\"1\" class=\"dataframe\">\n",
       "  <thead>\n",
       "    <tr style=\"text-align: right;\">\n",
       "      <th>predicted Species</th>\n",
       "      <th>0</th>\n",
       "      <th>1</th>\n",
       "      <th>2</th>\n",
       "    </tr>\n",
       "    <tr>\n",
       "      <th>Actual Species</th>\n",
       "      <th></th>\n",
       "      <th></th>\n",
       "      <th></th>\n",
       "    </tr>\n",
       "  </thead>\n",
       "  <tbody>\n",
       "    <tr>\n",
       "      <th>Iris-setosa</th>\n",
       "      <td>13</td>\n",
       "      <td>0</td>\n",
       "      <td>0</td>\n",
       "    </tr>\n",
       "    <tr>\n",
       "      <th>Iris-versicolor</th>\n",
       "      <td>0</td>\n",
       "      <td>5</td>\n",
       "      <td>2</td>\n",
       "    </tr>\n",
       "    <tr>\n",
       "      <th>Iris-virginica</th>\n",
       "      <td>0</td>\n",
       "      <td>0</td>\n",
       "      <td>12</td>\n",
       "    </tr>\n",
       "  </tbody>\n",
       "</table>\n",
       "</div>"
      ],
      "text/plain": [
       "predicted Species   0  1   2\n",
       "Actual Species              \n",
       "Iris-setosa        13  0   0\n",
       "Iris-versicolor     0  5   2\n",
       "Iris-virginica      0  0  12"
      ]
     },
     "execution_count": 66,
     "metadata": {},
     "output_type": "execute_result"
    }
   ],
   "source": [
    "pd.crosstab(test['Species'],predictions,rownames=['Actual Species'],colnames=['predicted Species'])"
   ]
  },
  {
   "cell_type": "markdown",
   "metadata": {},
   "source": [
    "# Deep Learning ##"
   ]
  },
  {
   "cell_type": "code",
   "execution_count": 70,
   "metadata": {},
   "outputs": [],
   "source": [
    "import tensorflow as tf\n",
    "\n",
    "import tensorflow.compat.v1 as tf\n",
    "tf.disable_v2_behavior() "
   ]
  },
  {
   "cell_type": "code",
   "execution_count": 71,
   "metadata": {},
   "outputs": [],
   "source": [
    "train_in=[[1,1,1],[1,0,1],[0,1,1],[0,0,1]]\n",
    "train_out=[[1],[0],[0],[0]]"
   ]
  },
  {
   "cell_type": "code",
   "execution_count": 72,
   "metadata": {},
   "outputs": [],
   "source": [
    "# Defining weights of the model\n",
    "w=tf.Variable(tf.random.normal([3,1], seed=12))"
   ]
  },
  {
   "cell_type": "code",
   "execution_count": 73,
   "metadata": {},
   "outputs": [],
   "source": [
    "# Place holders\n",
    "x=tf.placeholder(tf.float32,[None,3])\n",
    "x=tf.placeholder(tf.float32,[None,1])\n"
   ]
  },
  {
   "cell_type": "code",
   "execution_count": 74,
   "metadata": {},
   "outputs": [],
   "source": [
    "output=tf.nn.relu(tf.matmul(w,x))"
   ]
  },
  {
   "cell_type": "code",
   "execution_count": 75,
   "metadata": {},
   "outputs": [],
   "source": [
    "#Loss Function\n",
    "loss=tf.reduce_sum(tf.square(output-y))"
   ]
  },
  {
   "cell_type": "code",
   "execution_count": 76,
   "metadata": {},
   "outputs": [],
   "source": [
    "# Optimizer\n",
    "optimizer=tf.train.GradientDescentOptimizer(0.01)\n",
    "train=optimizer.minimize(loss)\n"
   ]
  },
  {
   "cell_type": "code",
   "execution_count": 79,
   "metadata": {},
   "outputs": [],
   "source": [
    "#Initizlizing my variables\n",
    "init=tf.global_variables_initializer()\n",
    "sess = tf.compat.v1.Session()\n",
    "sess.run(init)"
   ]
  },
  {
   "cell_type": "markdown",
   "metadata": {},
   "source": [
    "## A simple deep learning Example ##"
   ]
  },
  {
   "cell_type": "markdown",
   "metadata": {},
   "source": [
    "1. Load Data.\n",
    "\n",
    "The first step is to define the functions and classes we intend to use in this tutorial.\n",
    "\n",
    "We will use the NumPy library to load our dataset and we will use two classes from the Keras library to define our model.\n",
    "\n",
    "The imports required are listed below."
   ]
  },
  {
   "cell_type": "code",
   "execution_count": 80,
   "metadata": {},
   "outputs": [],
   "source": [
    "# first neural network with keras tutorial\n",
    "import random\n",
    "from numpy import loadtxt\n",
    "from keras.models import Sequential\n",
    "from keras.layers import Dense"
   ]
  },
  {
   "cell_type": "code",
   "execution_count": 81,
   "metadata": {},
   "outputs": [],
   "source": [
    "Numb1=[random.randint(20,25) for i in range(1000)]\n",
    "Numb2=[random.randint(45,50) for i in range(1000)]\n",
    "Numb3=[random.randint(67,70) for i in range(1000)]\n",
    "Numb4=[random.randint(0,1) for i in range(1000)]"
   ]
  },
  {
   "cell_type": "code",
   "execution_count": 82,
   "metadata": {},
   "outputs": [],
   "source": [
    "import numpy as np\n",
    "\n",
    "Numb=[[Numb1[i],Numb2[i],Numb3[i],Numb4[i]]  for i in range(1000)]\n",
    "Mydata=np.array(Numb)"
   ]
  },
  {
   "cell_type": "markdown",
   "metadata": {},
   "source": [
    "We can now load our dataset.\n",
    "\n",
    "In this Keras tutorial, we are going to use the Pima Indians onset of diabetes dataset. This is a standard machine learning dataset from the UCI Machine Learning repository. It describes patient medical record data for Pima Indians and whether they had an onset of diabetes within five years.\n",
    "\n",
    "As such, it is a binary classification problem (onset of diabetes as 1 or not as 0). All of the input variables that describe each patient are numerical. This makes it easy to use directly with neural networks that expect numerical input and output values, and ideal for our first neural network in Keras.\n",
    "\n"
   ]
  },
  {
   "cell_type": "code",
   "execution_count": 83,
   "metadata": {},
   "outputs": [
    {
     "data": {
      "text/plain": [
       "array([[  6.   , 148.   ,  72.   , ...,   0.627,  50.   ,   1.   ],\n",
       "       [  1.   ,  85.   ,  66.   , ...,   0.351,  31.   ,   0.   ],\n",
       "       [  8.   , 183.   ,  64.   , ...,   0.672,  32.   ,   1.   ],\n",
       "       ...,\n",
       "       [  5.   , 121.   ,  72.   , ...,   0.245,  30.   ,   0.   ],\n",
       "       [  1.   , 126.   ,  60.   , ...,   0.349,  47.   ,   1.   ],\n",
       "       [  1.   ,  93.   ,  70.   , ...,   0.315,  23.   ,   0.   ]])"
      ]
     },
     "execution_count": 83,
     "metadata": {},
     "output_type": "execute_result"
    }
   ],
   "source": [
    "# load the dataset\n",
    "dataset = loadtxt('pima-indians-diabetes.csv', delimiter=',')\n",
    "#dataset =Mydata\n",
    "# split into input (X) and output (y) variables\n",
    "X = dataset[:,0:8]\n",
    "y = dataset[:,8]\n",
    "dataset"
   ]
  },
  {
   "cell_type": "markdown",
   "metadata": {},
   "source": [
    "2. Define Keras Model\n",
    "\n",
    "Models in Keras are defined as a sequence of layers.\n",
    "\n",
    "We create a Sequential model and add layers one at a time until we are happy with our network architecture.\n",
    "\n",
    "The first thing to get right is to ensure the input layer has the right number of input features. This can be specified when creating the first layer with the input_dim argument and setting it to 8 for the 8 input variables.\n",
    "\n",
    "How do we know the number of layers and their types?\n",
    "\n",
    "This is a very hard question. There are heuristics that we can use and often the best network structure is found through a process of trial and error experimentation (I explain more about this here). Generally, you need a network large enough to capture the structure of the problem.\n",
    "\n",
    "In this example, we will use a fully-connected network structure with three layers.\n",
    "\n",
    "Fully connected layers are defined using the Dense class. We can specify the number of neurons or nodes in the layer as the first argument, and specify the activation function using the activation argument.\n",
    "\n",
    "We will use the rectified linear unit activation function referred to as ReLU on the first two layers and the Sigmoid function in the output layer.\n",
    "\n",
    "It used to be the case that Sigmoid and Tanh activation functions were preferred for all layers. These days, better performance is achieved using the ReLU activation function. We use a sigmoid on the output layer to ensure our network output is between 0 and 1 and easy to map to either a probability of class 1 or snap to a hard classification of either class with a default threshold of 0.5.\n",
    "\n",
    "We can piece it all together by adding each layer:\n",
    "\n",
    "The model expects rows of data with 8 variables (the input_dim=8 argument).\n",
    "\n",
    "The first hidden layer has 12 nodes and uses the relu activation function.\n",
    "\n",
    "The second hidden layer has 8 nodes and uses the relu activation function.\n",
    "\n",
    "The output layer has one node and uses the sigmoid activation function.\n"
   ]
  },
  {
   "cell_type": "code",
   "execution_count": 84,
   "metadata": {},
   "outputs": [],
   "source": [
    "# define the keras model\n",
    "model = Sequential()\n",
    "model.add(Dense(12, input_dim=8, activation='relu'))\n",
    "model.add(Dense(8, activation='relu'))\n",
    "model.add(Dense(1, activation='sigmoid'))"
   ]
  },
  {
   "cell_type": "markdown",
   "metadata": {},
   "source": [
    "3. Compile Keras Model.\n",
    "\n",
    "Now that the model is defined, we can compile it.\n",
    "\n",
    "Compiling the model uses the efficient numerical libraries under the covers (the so-called backend) such as Theano or TensorFlow. The backend automatically chooses the best way to represent the network for training and making predictions to run on your hardware, such as CPU or GPU or even distributed.\n",
    "\n",
    "When compiling, we must specify some additional properties required when training the network. Remember training a network means finding the best set of weights to map inputs to outputs in our dataset.\n",
    "\n",
    "We must specify the loss function to use to evaluate a set of weights, the optimizer is used to search through different weights for the network and any optional metrics we would like to collect and report during training.\n",
    "\n",
    "In this case, we will use cross entropy as the loss argument. This loss is for a binary classification problems and is defined in Keras as “binary_crossentropy“. You can learn more about choosing loss functions based on your problem here:\n",
    "\n",
    "How to Choose Loss Functions When Training Deep Learning Neural Networks\n",
    "We will define the optimizer as the efficient stochastic gradient descent algorithm “adam“. This is a popular version of gradient descent because it automatically tunes itself and gives good results in a wide range of problems. To learn more about the Adam version of stochastic gradient descent see the post:\n",
    "\n",
    "Gentle Introduction to the Adam Optimization Algorithm for Deep Learning\n",
    "Finally, because it is a classification problem, we will collect and report the classification accuracy, defined via the metrics argument."
   ]
  },
  {
   "cell_type": "code",
   "execution_count": 85,
   "metadata": {},
   "outputs": [],
   "source": [
    "# compile the keras model\n",
    "model.compile(loss='binary_crossentropy', optimizer='Adam', metrics=['accuracy'])"
   ]
  },
  {
   "cell_type": "markdown",
   "metadata": {},
   "source": [
    "4. Fit Keras Model.\n",
    "\n",
    "We have defined our model and compiled it ready for efficient computation.\n",
    "\n",
    "Now it is time to execute the model on some data.\n",
    "\n",
    "We can train or fit our model on our loaded data by calling the fit() function on the model.\n",
    "\n",
    "Training occurs over epochs and each epoch is split into batches.\n",
    "\n",
    "Epoch: One pass through all of the rows in the training dataset.\n",
    "Batch: One or more samples considered by the model within an epoch before weights are updated.\n",
    "One epoch is comprised of one or more batches, based on the chosen batch size and the model is fit for many epochs. For more on the difference between epochs and batches, see the post:\n",
    "\n",
    "What is the Difference Between a Batch and an Epoch in a Neural Network?\n",
    "The training process will run for a fixed number of iterations through the dataset called epochs, that we must specify using the epochs argument. We must also set the number of dataset rows that are considered before the model weights are updated within each epoch, called the batch size and set using the batch_size argument.\n",
    "\n",
    "For this problem, we will run for a small number of epochs (150) and use a relatively small batch size of 10.\n",
    "\n",
    "These configurations can be chosen experimentally by trial and error. We want to train the model enough so that it learns a good (or good enough) mapping of rows of input data to the output classification. The model will always have some error, but the amount of error will level out after some point for a given model configuration. This is called model convergence."
   ]
  },
  {
   "cell_type": "code",
   "execution_count": 86,
   "metadata": {},
   "outputs": [
    {
     "name": "stdout",
     "output_type": "stream",
     "text": [
      "Train on 514 samples, validate on 254 samples\n",
      "Epoch 1/150\n",
      "514/514 [==============================] - 0s 591us/sample - loss: 2.2004 - acc: 0.5486 - val_loss: 1.0577 - val_acc: 0.5433\n",
      "Epoch 2/150\n",
      "514/514 [==============================] - 0s 204us/sample - loss: 1.1585 - acc: 0.5759 - val_loss: 0.8943 - val_acc: 0.6693\n",
      "Epoch 3/150\n",
      " 10/514 [..............................] - ETA: 0s - loss: 2.9211 - acc: 0.2000"
     ]
    },
    {
     "name": "stderr",
     "output_type": "stream",
     "text": [
      "/opt/anaconda3/envs/Project/lib/python3.8/site-packages/tensorflow/python/keras/engine/training.py:2325: UserWarning: `Model.state_updates` will be removed in a future version. This property should not be used in TensorFlow 2.0, as `updates` are applied automatically.\n",
      "  warnings.warn('`Model.state_updates` will be removed in a future version. '\n"
     ]
    },
    {
     "name": "stdout",
     "output_type": "stream",
     "text": [
      "514/514 [==============================] - 0s 195us/sample - loss: 1.0649 - acc: 0.5895 - val_loss: 0.8646 - val_acc: 0.7087\n",
      "Epoch 4/150\n",
      "514/514 [==============================] - 0s 156us/sample - loss: 1.0220 - acc: 0.6051 - val_loss: 0.8051 - val_acc: 0.6811\n",
      "Epoch 5/150\n",
      "514/514 [==============================] - 0s 170us/sample - loss: 0.9155 - acc: 0.6265 - val_loss: 0.7440 - val_acc: 0.6496\n",
      "Epoch 6/150\n",
      "514/514 [==============================] - 0s 163us/sample - loss: 0.8771 - acc: 0.6245 - val_loss: 0.7406 - val_acc: 0.6220\n",
      "Epoch 7/150\n",
      "514/514 [==============================] - 0s 183us/sample - loss: 0.8228 - acc: 0.6245 - val_loss: 0.7125 - val_acc: 0.6417\n",
      "Epoch 8/150\n",
      "514/514 [==============================] - 0s 169us/sample - loss: 0.7930 - acc: 0.6304 - val_loss: 0.7044 - val_acc: 0.6299\n",
      "Epoch 9/150\n",
      "514/514 [==============================] - 0s 188us/sample - loss: 0.7408 - acc: 0.6420 - val_loss: 0.6954 - val_acc: 0.6496\n",
      "Epoch 10/150\n",
      "514/514 [==============================] - 0s 204us/sample - loss: 0.7279 - acc: 0.6576 - val_loss: 0.6750 - val_acc: 0.6732\n",
      "Epoch 11/150\n",
      "514/514 [==============================] - 0s 172us/sample - loss: 0.7108 - acc: 0.6556 - val_loss: 0.8102 - val_acc: 0.5433\n",
      "Epoch 12/150\n",
      "514/514 [==============================] - 0s 208us/sample - loss: 0.6775 - acc: 0.6615 - val_loss: 0.6969 - val_acc: 0.6299\n",
      "Epoch 13/150\n",
      "514/514 [==============================] - 0s 181us/sample - loss: 0.6905 - acc: 0.6576 - val_loss: 0.7374 - val_acc: 0.7008\n",
      "Epoch 14/150\n",
      "514/514 [==============================] - 0s 201us/sample - loss: 0.6882 - acc: 0.6556 - val_loss: 0.7242 - val_acc: 0.6850\n",
      "Epoch 15/150\n",
      "514/514 [==============================] - 0s 184us/sample - loss: 0.6619 - acc: 0.6537 - val_loss: 0.6847 - val_acc: 0.7047\n",
      "Epoch 16/150\n",
      "514/514 [==============================] - 0s 207us/sample - loss: 0.6565 - acc: 0.6556 - val_loss: 0.6735 - val_acc: 0.6496\n",
      "Epoch 17/150\n",
      "514/514 [==============================] - 0s 232us/sample - loss: 0.6427 - acc: 0.6693 - val_loss: 0.7166 - val_acc: 0.6102\n",
      "Epoch 18/150\n",
      "514/514 [==============================] - 0s 182us/sample - loss: 0.6345 - acc: 0.6654 - val_loss: 0.7236 - val_acc: 0.6220\n",
      "Epoch 19/150\n",
      "514/514 [==============================] - 0s 186us/sample - loss: 0.6537 - acc: 0.6518 - val_loss: 0.6892 - val_acc: 0.6220\n",
      "Epoch 20/150\n",
      "514/514 [==============================] - 0s 205us/sample - loss: 0.6273 - acc: 0.6751 - val_loss: 0.6652 - val_acc: 0.6654\n",
      "Epoch 21/150\n",
      "514/514 [==============================] - 0s 172us/sample - loss: 0.6389 - acc: 0.6848 - val_loss: 0.6506 - val_acc: 0.6693\n",
      "Epoch 22/150\n",
      "514/514 [==============================] - 0s 184us/sample - loss: 0.6316 - acc: 0.6809 - val_loss: 0.6967 - val_acc: 0.6063\n",
      "Epoch 23/150\n",
      "514/514 [==============================] - 0s 176us/sample - loss: 0.6426 - acc: 0.6809 - val_loss: 0.6495 - val_acc: 0.6693\n",
      "Epoch 24/150\n",
      "514/514 [==============================] - 0s 224us/sample - loss: 0.6498 - acc: 0.6946 - val_loss: 0.6454 - val_acc: 0.6929\n",
      "Epoch 25/150\n",
      "514/514 [==============================] - 0s 166us/sample - loss: 0.6036 - acc: 0.6790 - val_loss: 0.6547 - val_acc: 0.6890\n",
      "Epoch 26/150\n",
      "514/514 [==============================] - 0s 175us/sample - loss: 0.6061 - acc: 0.6829 - val_loss: 0.6685 - val_acc: 0.6535\n",
      "Epoch 27/150\n",
      "514/514 [==============================] - 0s 173us/sample - loss: 0.6008 - acc: 0.7023 - val_loss: 0.7377 - val_acc: 0.6181\n",
      "Epoch 28/150\n",
      "514/514 [==============================] - 0s 152us/sample - loss: 0.6132 - acc: 0.6868 - val_loss: 0.6515 - val_acc: 0.6417\n",
      "Epoch 29/150\n",
      "514/514 [==============================] - 0s 158us/sample - loss: 0.6153 - acc: 0.6732 - val_loss: 0.6463 - val_acc: 0.6614\n",
      "Epoch 30/150\n",
      "514/514 [==============================] - 0s 152us/sample - loss: 0.6078 - acc: 0.6809 - val_loss: 0.6665 - val_acc: 0.6378\n",
      "Epoch 31/150\n",
      "514/514 [==============================] - 0s 182us/sample - loss: 0.5980 - acc: 0.6946 - val_loss: 0.6589 - val_acc: 0.6732\n",
      "Epoch 32/150\n",
      "514/514 [==============================] - 0s 192us/sample - loss: 0.5954 - acc: 0.6926 - val_loss: 0.6292 - val_acc: 0.7087\n",
      "Epoch 33/150\n",
      "514/514 [==============================] - 0s 175us/sample - loss: 0.5839 - acc: 0.7179 - val_loss: 0.6627 - val_acc: 0.6535\n",
      "Epoch 34/150\n",
      "514/514 [==============================] - 0s 181us/sample - loss: 0.5927 - acc: 0.7023 - val_loss: 0.6384 - val_acc: 0.6496\n",
      "Epoch 35/150\n",
      "514/514 [==============================] - 0s 198us/sample - loss: 0.6434 - acc: 0.6712 - val_loss: 0.7541 - val_acc: 0.5394\n",
      "Epoch 36/150\n",
      "514/514 [==============================] - 0s 165us/sample - loss: 0.6006 - acc: 0.6926 - val_loss: 0.6395 - val_acc: 0.6654\n",
      "Epoch 37/150\n",
      "514/514 [==============================] - 0s 203us/sample - loss: 0.5918 - acc: 0.7004 - val_loss: 0.6405 - val_acc: 0.6575\n",
      "Epoch 38/150\n",
      "514/514 [==============================] - 0s 171us/sample - loss: 0.5882 - acc: 0.6984 - val_loss: 0.7111 - val_acc: 0.5984\n",
      "Epoch 39/150\n",
      "514/514 [==============================] - 0s 197us/sample - loss: 0.5749 - acc: 0.7121 - val_loss: 0.6336 - val_acc: 0.6654\n",
      "Epoch 40/150\n",
      "514/514 [==============================] - 0s 177us/sample - loss: 0.5707 - acc: 0.7160 - val_loss: 0.6142 - val_acc: 0.6772\n",
      "Epoch 41/150\n",
      "514/514 [==============================] - 0s 192us/sample - loss: 0.5786 - acc: 0.7101 - val_loss: 0.6218 - val_acc: 0.6614\n",
      "Epoch 42/150\n",
      "514/514 [==============================] - 0s 209us/sample - loss: 0.5797 - acc: 0.7101 - val_loss: 0.6138 - val_acc: 0.7205\n",
      "Epoch 43/150\n",
      "514/514 [==============================] - 0s 240us/sample - loss: 0.5874 - acc: 0.7140 - val_loss: 0.6815 - val_acc: 0.6969\n",
      "Epoch 44/150\n",
      "514/514 [==============================] - 0s 191us/sample - loss: 0.5712 - acc: 0.7140 - val_loss: 0.6399 - val_acc: 0.6654\n",
      "Epoch 45/150\n",
      "514/514 [==============================] - 0s 178us/sample - loss: 0.5933 - acc: 0.7043 - val_loss: 0.6062 - val_acc: 0.6732\n",
      "Epoch 46/150\n",
      "514/514 [==============================] - 0s 188us/sample - loss: 0.5695 - acc: 0.7237 - val_loss: 0.6038 - val_acc: 0.6850\n",
      "Epoch 47/150\n",
      "514/514 [==============================] - 0s 212us/sample - loss: 0.5679 - acc: 0.7198 - val_loss: 0.5970 - val_acc: 0.6929\n",
      "Epoch 48/150\n",
      "514/514 [==============================] - 0s 180us/sample - loss: 0.5743 - acc: 0.6984 - val_loss: 0.6542 - val_acc: 0.6181\n",
      "Epoch 49/150\n",
      "514/514 [==============================] - 0s 189us/sample - loss: 0.5655 - acc: 0.7354 - val_loss: 0.6047 - val_acc: 0.7205\n",
      "Epoch 50/150\n",
      "514/514 [==============================] - 0s 178us/sample - loss: 0.5603 - acc: 0.7121 - val_loss: 0.5995 - val_acc: 0.7126\n",
      "Epoch 51/150\n",
      "514/514 [==============================] - 0s 199us/sample - loss: 0.5761 - acc: 0.7276 - val_loss: 0.6998 - val_acc: 0.6063\n",
      "Epoch 52/150\n",
      "514/514 [==============================] - 0s 229us/sample - loss: 0.5607 - acc: 0.7237 - val_loss: 0.6260 - val_acc: 0.6772\n",
      "Epoch 53/150\n",
      "514/514 [==============================] - 0s 189us/sample - loss: 0.5570 - acc: 0.7257 - val_loss: 0.5959 - val_acc: 0.7126\n",
      "Epoch 54/150\n",
      "514/514 [==============================] - 0s 195us/sample - loss: 0.5629 - acc: 0.6887 - val_loss: 0.6000 - val_acc: 0.6929\n",
      "Epoch 55/150\n",
      "514/514 [==============================] - 0s 178us/sample - loss: 0.5758 - acc: 0.7082 - val_loss: 0.6802 - val_acc: 0.6339\n",
      "Epoch 56/150\n",
      "514/514 [==============================] - 0s 201us/sample - loss: 0.5774 - acc: 0.7101 - val_loss: 0.6082 - val_acc: 0.6929\n",
      "Epoch 57/150\n",
      "514/514 [==============================] - 0s 185us/sample - loss: 0.5681 - acc: 0.7062 - val_loss: 0.5983 - val_acc: 0.6929\n",
      "Epoch 58/150\n",
      "514/514 [==============================] - 0s 200us/sample - loss: 0.5483 - acc: 0.7374 - val_loss: 0.5867 - val_acc: 0.7205\n",
      "Epoch 59/150\n",
      "514/514 [==============================] - 0s 190us/sample - loss: 0.5477 - acc: 0.7237 - val_loss: 0.6274 - val_acc: 0.6417\n",
      "Epoch 60/150\n",
      "514/514 [==============================] - 0s 186us/sample - loss: 0.5640 - acc: 0.7218 - val_loss: 0.5873 - val_acc: 0.7008\n",
      "Epoch 61/150\n",
      "514/514 [==============================] - 0s 199us/sample - loss: 0.5602 - acc: 0.7160 - val_loss: 0.6001 - val_acc: 0.7126\n",
      "Epoch 62/150\n",
      "514/514 [==============================] - 0s 212us/sample - loss: 0.5604 - acc: 0.7315 - val_loss: 0.5879 - val_acc: 0.7244\n",
      "Epoch 63/150\n",
      "514/514 [==============================] - 0s 182us/sample - loss: 0.5591 - acc: 0.7198 - val_loss: 0.5997 - val_acc: 0.7087\n",
      "Epoch 64/150\n",
      "514/514 [==============================] - 0s 189us/sample - loss: 0.5502 - acc: 0.7296 - val_loss: 0.6070 - val_acc: 0.6890\n",
      "Epoch 65/150\n",
      "514/514 [==============================] - 0s 180us/sample - loss: 0.5507 - acc: 0.7374 - val_loss: 0.6010 - val_acc: 0.7087\n",
      "Epoch 66/150\n",
      "514/514 [==============================] - 0s 193us/sample - loss: 0.5521 - acc: 0.7315 - val_loss: 0.5835 - val_acc: 0.7126\n",
      "Epoch 67/150\n",
      "514/514 [==============================] - 0s 185us/sample - loss: 0.5502 - acc: 0.7276 - val_loss: 0.5906 - val_acc: 0.7244\n",
      "Epoch 68/150\n",
      "514/514 [==============================] - 0s 226us/sample - loss: 0.5639 - acc: 0.7354 - val_loss: 0.5839 - val_acc: 0.7126\n",
      "Epoch 69/150\n",
      "514/514 [==============================] - 0s 169us/sample - loss: 0.5532 - acc: 0.7432 - val_loss: 0.6091 - val_acc: 0.7047\n",
      "Epoch 70/150\n",
      "514/514 [==============================] - 0s 185us/sample - loss: 0.5715 - acc: 0.7062 - val_loss: 0.5959 - val_acc: 0.7047\n",
      "Epoch 71/150\n",
      "514/514 [==============================] - 0s 172us/sample - loss: 0.5697 - acc: 0.7140 - val_loss: 0.6557 - val_acc: 0.6339\n",
      "Epoch 72/150\n",
      "514/514 [==============================] - 0s 184us/sample - loss: 0.5898 - acc: 0.6984 - val_loss: 0.6174 - val_acc: 0.6654\n",
      "Epoch 73/150\n",
      "514/514 [==============================] - 0s 183us/sample - loss: 0.5530 - acc: 0.7140 - val_loss: 0.5869 - val_acc: 0.7087\n",
      "Epoch 74/150\n",
      "514/514 [==============================] - 0s 191us/sample - loss: 0.5492 - acc: 0.7296 - val_loss: 0.5878 - val_acc: 0.7087\n",
      "Epoch 75/150\n",
      "514/514 [==============================] - 0s 189us/sample - loss: 0.5466 - acc: 0.7296 - val_loss: 0.5884 - val_acc: 0.7165\n",
      "Epoch 76/150\n",
      "514/514 [==============================] - 0s 185us/sample - loss: 0.5436 - acc: 0.7335 - val_loss: 0.5996 - val_acc: 0.6890\n",
      "Epoch 77/150\n",
      "514/514 [==============================] - 0s 178us/sample - loss: 0.5591 - acc: 0.7082 - val_loss: 0.5892 - val_acc: 0.7205\n",
      "Epoch 78/150\n",
      "514/514 [==============================] - 0s 186us/sample - loss: 0.5566 - acc: 0.7121 - val_loss: 0.6146 - val_acc: 0.6929\n",
      "Epoch 79/150\n",
      "514/514 [==============================] - 0s 189us/sample - loss: 0.5815 - acc: 0.7218 - val_loss: 0.5972 - val_acc: 0.6811\n",
      "Epoch 80/150\n",
      "514/514 [==============================] - 0s 185us/sample - loss: 0.5600 - acc: 0.7276 - val_loss: 0.5799 - val_acc: 0.7087\n",
      "Epoch 81/150\n",
      "514/514 [==============================] - 0s 195us/sample - loss: 0.5709 - acc: 0.7160 - val_loss: 0.5951 - val_acc: 0.7126\n",
      "Epoch 82/150\n",
      "514/514 [==============================] - 0s 170us/sample - loss: 0.5435 - acc: 0.7257 - val_loss: 0.5814 - val_acc: 0.7087\n",
      "Epoch 83/150\n",
      "514/514 [==============================] - 0s 193us/sample - loss: 0.5413 - acc: 0.7335 - val_loss: 0.5822 - val_acc: 0.7244\n",
      "Epoch 84/150\n",
      "514/514 [==============================] - 0s 179us/sample - loss: 0.5437 - acc: 0.7393 - val_loss: 0.5802 - val_acc: 0.7323\n",
      "Epoch 85/150\n",
      "514/514 [==============================] - 0s 195us/sample - loss: 0.5651 - acc: 0.7043 - val_loss: 0.6082 - val_acc: 0.7047\n",
      "Epoch 86/150\n",
      "514/514 [==============================] - 0s 174us/sample - loss: 0.5338 - acc: 0.7432 - val_loss: 0.5917 - val_acc: 0.6929\n",
      "Epoch 87/150\n",
      "514/514 [==============================] - 0s 183us/sample - loss: 0.5644 - acc: 0.6984 - val_loss: 0.6777 - val_acc: 0.6890\n",
      "Epoch 88/150\n",
      "514/514 [==============================] - 0s 157us/sample - loss: 0.5628 - acc: 0.7121 - val_loss: 0.6051 - val_acc: 0.6850\n",
      "Epoch 89/150\n",
      "514/514 [==============================] - 0s 191us/sample - loss: 0.5307 - acc: 0.7549 - val_loss: 0.5824 - val_acc: 0.7126\n",
      "Epoch 90/150\n",
      "514/514 [==============================] - 0s 179us/sample - loss: 0.5457 - acc: 0.7412 - val_loss: 0.5905 - val_acc: 0.7047\n",
      "Epoch 91/150\n",
      "514/514 [==============================] - 0s 195us/sample - loss: 0.5631 - acc: 0.7315 - val_loss: 0.5917 - val_acc: 0.7126\n",
      "Epoch 92/150\n",
      "514/514 [==============================] - 0s 189us/sample - loss: 0.6133 - acc: 0.7082 - val_loss: 0.5835 - val_acc: 0.7008\n",
      "Epoch 93/150\n",
      "514/514 [==============================] - 0s 196us/sample - loss: 0.5489 - acc: 0.7315 - val_loss: 0.5896 - val_acc: 0.7205\n",
      "Epoch 94/150\n",
      "514/514 [==============================] - 0s 145us/sample - loss: 0.5480 - acc: 0.7393 - val_loss: 0.5762 - val_acc: 0.7323\n",
      "Epoch 95/150\n",
      "514/514 [==============================] - 0s 171us/sample - loss: 0.5365 - acc: 0.7374 - val_loss: 0.5829 - val_acc: 0.7244\n",
      "Epoch 96/150\n",
      "514/514 [==============================] - 0s 156us/sample - loss: 0.5481 - acc: 0.7257 - val_loss: 0.5762 - val_acc: 0.7126\n",
      "Epoch 97/150\n",
      "514/514 [==============================] - 0s 178us/sample - loss: 0.5400 - acc: 0.7393 - val_loss: 0.5745 - val_acc: 0.7362\n",
      "Epoch 98/150\n",
      "514/514 [==============================] - 0s 185us/sample - loss: 0.5432 - acc: 0.7296 - val_loss: 0.6065 - val_acc: 0.7008\n",
      "Epoch 99/150\n",
      "514/514 [==============================] - 0s 181us/sample - loss: 0.5401 - acc: 0.7218 - val_loss: 0.5900 - val_acc: 0.7126\n",
      "Epoch 100/150\n",
      "514/514 [==============================] - 0s 151us/sample - loss: 0.5461 - acc: 0.7179 - val_loss: 0.5652 - val_acc: 0.7323\n",
      "Epoch 101/150\n",
      "514/514 [==============================] - 0s 152us/sample - loss: 0.5322 - acc: 0.7432 - val_loss: 0.5766 - val_acc: 0.7087\n",
      "Epoch 102/150\n",
      "514/514 [==============================] - 0s 142us/sample - loss: 0.5273 - acc: 0.7471 - val_loss: 0.5664 - val_acc: 0.7205\n",
      "Epoch 103/150\n",
      "514/514 [==============================] - 0s 127us/sample - loss: 0.5304 - acc: 0.7451 - val_loss: 0.5721 - val_acc: 0.7520\n",
      "Epoch 104/150\n",
      "514/514 [==============================] - 0s 128us/sample - loss: 0.5333 - acc: 0.7490 - val_loss: 0.6220 - val_acc: 0.6654\n",
      "Epoch 105/150\n",
      "514/514 [==============================] - 0s 122us/sample - loss: 0.5365 - acc: 0.7412 - val_loss: 0.6227 - val_acc: 0.7126\n",
      "Epoch 106/150\n",
      "514/514 [==============================] - 0s 125us/sample - loss: 0.5971 - acc: 0.7004 - val_loss: 0.6501 - val_acc: 0.6378\n",
      "Epoch 107/150\n",
      "514/514 [==============================] - 0s 132us/sample - loss: 0.5438 - acc: 0.7276 - val_loss: 0.5841 - val_acc: 0.7205\n",
      "Epoch 108/150\n",
      "514/514 [==============================] - 0s 132us/sample - loss: 0.5312 - acc: 0.7432 - val_loss: 0.5797 - val_acc: 0.7047\n",
      "Epoch 109/150\n",
      "514/514 [==============================] - 0s 129us/sample - loss: 0.5319 - acc: 0.7374 - val_loss: 0.5709 - val_acc: 0.7283\n",
      "Epoch 110/150\n",
      "514/514 [==============================] - 0s 126us/sample - loss: 0.5328 - acc: 0.7510 - val_loss: 0.6029 - val_acc: 0.7126\n",
      "Epoch 111/150\n",
      "514/514 [==============================] - 0s 126us/sample - loss: 0.5325 - acc: 0.7374 - val_loss: 0.5637 - val_acc: 0.7362\n",
      "Epoch 112/150\n",
      "514/514 [==============================] - 0s 122us/sample - loss: 0.5488 - acc: 0.7354 - val_loss: 0.5833 - val_acc: 0.7244\n",
      "Epoch 113/150\n",
      "514/514 [==============================] - 0s 124us/sample - loss: 0.5249 - acc: 0.7393 - val_loss: 0.5696 - val_acc: 0.7283\n",
      "Epoch 114/150\n",
      "514/514 [==============================] - 0s 127us/sample - loss: 0.5330 - acc: 0.7374 - val_loss: 0.5745 - val_acc: 0.7205\n",
      "Epoch 115/150\n",
      "514/514 [==============================] - 0s 121us/sample - loss: 0.5638 - acc: 0.7335 - val_loss: 0.5626 - val_acc: 0.7362\n",
      "Epoch 116/150\n",
      "514/514 [==============================] - 0s 140us/sample - loss: 0.5359 - acc: 0.7257 - val_loss: 0.5698 - val_acc: 0.7323\n",
      "Epoch 117/150\n",
      "514/514 [==============================] - 0s 135us/sample - loss: 0.5328 - acc: 0.7374 - val_loss: 0.6395 - val_acc: 0.6772\n",
      "Epoch 118/150\n",
      "514/514 [==============================] - 0s 125us/sample - loss: 0.5347 - acc: 0.7335 - val_loss: 0.5602 - val_acc: 0.7283\n",
      "Epoch 119/150\n",
      "514/514 [==============================] - 0s 153us/sample - loss: 0.5383 - acc: 0.7374 - val_loss: 0.5699 - val_acc: 0.7283\n",
      "Epoch 120/150\n",
      "514/514 [==============================] - 0s 148us/sample - loss: 0.5467 - acc: 0.7335 - val_loss: 0.5663 - val_acc: 0.7441\n",
      "Epoch 121/150\n"
     ]
    },
    {
     "name": "stdout",
     "output_type": "stream",
     "text": [
      "514/514 [==============================] - 0s 167us/sample - loss: 0.5233 - acc: 0.7529 - val_loss: 0.5869 - val_acc: 0.7008\n",
      "Epoch 122/150\n",
      "514/514 [==============================] - 0s 164us/sample - loss: 0.5360 - acc: 0.7471 - val_loss: 0.5542 - val_acc: 0.7480\n",
      "Epoch 123/150\n",
      "514/514 [==============================] - 0s 146us/sample - loss: 0.5484 - acc: 0.7510 - val_loss: 0.6051 - val_acc: 0.6850\n",
      "Epoch 124/150\n",
      "514/514 [==============================] - 0s 161us/sample - loss: 0.5383 - acc: 0.7335 - val_loss: 0.5649 - val_acc: 0.7283\n",
      "Epoch 125/150\n",
      "514/514 [==============================] - 0s 192us/sample - loss: 0.5255 - acc: 0.7451 - val_loss: 0.5572 - val_acc: 0.7402\n",
      "Epoch 126/150\n",
      "514/514 [==============================] - 0s 192us/sample - loss: 0.5225 - acc: 0.7588 - val_loss: 0.5616 - val_acc: 0.7323\n",
      "Epoch 127/150\n",
      "514/514 [==============================] - 0s 156us/sample - loss: 0.5435 - acc: 0.7296 - val_loss: 0.7726 - val_acc: 0.5354\n",
      "Epoch 128/150\n",
      "514/514 [==============================] - 0s 184us/sample - loss: 0.5492 - acc: 0.7393 - val_loss: 0.5662 - val_acc: 0.7362\n",
      "Epoch 129/150\n",
      "514/514 [==============================] - 0s 165us/sample - loss: 0.5358 - acc: 0.7354 - val_loss: 0.5907 - val_acc: 0.7205\n",
      "Epoch 130/150\n",
      "514/514 [==============================] - 0s 185us/sample - loss: 0.5321 - acc: 0.7471 - val_loss: 0.5547 - val_acc: 0.7362\n",
      "Epoch 131/150\n",
      "514/514 [==============================] - 0s 175us/sample - loss: 0.5328 - acc: 0.7412 - val_loss: 0.5501 - val_acc: 0.7441\n",
      "Epoch 132/150\n",
      "514/514 [==============================] - 0s 205us/sample - loss: 0.5281 - acc: 0.7412 - val_loss: 0.5610 - val_acc: 0.7323\n",
      "Epoch 133/150\n",
      "514/514 [==============================] - 0s 162us/sample - loss: 0.5248 - acc: 0.7510 - val_loss: 0.6409 - val_acc: 0.6575\n",
      "Epoch 134/150\n",
      "514/514 [==============================] - 0s 206us/sample - loss: 0.5295 - acc: 0.7393 - val_loss: 0.5625 - val_acc: 0.7559\n",
      "Epoch 135/150\n",
      "514/514 [==============================] - 0s 188us/sample - loss: 0.5221 - acc: 0.7393 - val_loss: 0.6012 - val_acc: 0.6890\n",
      "Epoch 136/150\n",
      "514/514 [==============================] - 0s 206us/sample - loss: 0.5535 - acc: 0.7354 - val_loss: 0.5623 - val_acc: 0.7323\n",
      "Epoch 137/150\n",
      "514/514 [==============================] - ETA: 0s - loss: 0.5428 - acc: 0.714 - 0s 179us/sample - loss: 0.5474 - acc: 0.7140 - val_loss: 0.5566 - val_acc: 0.7520\n",
      "Epoch 138/150\n",
      "514/514 [==============================] - 0s 162us/sample - loss: 0.5569 - acc: 0.7179 - val_loss: 0.5953 - val_acc: 0.7008\n",
      "Epoch 139/150\n",
      "514/514 [==============================] - 0s 186us/sample - loss: 0.5326 - acc: 0.7276 - val_loss: 0.5623 - val_acc: 0.7323\n",
      "Epoch 140/150\n",
      "514/514 [==============================] - 0s 135us/sample - loss: 0.5343 - acc: 0.7354 - val_loss: 0.5598 - val_acc: 0.7441\n",
      "Epoch 141/150\n",
      "514/514 [==============================] - 0s 146us/sample - loss: 0.5201 - acc: 0.7510 - val_loss: 0.5554 - val_acc: 0.7362\n",
      "Epoch 142/150\n",
      "514/514 [==============================] - 0s 138us/sample - loss: 0.5355 - acc: 0.7451 - val_loss: 0.5568 - val_acc: 0.7323\n",
      "Epoch 143/150\n",
      "514/514 [==============================] - 0s 149us/sample - loss: 0.5200 - acc: 0.7374 - val_loss: 0.5545 - val_acc: 0.7402\n",
      "Epoch 144/150\n",
      "514/514 [==============================] - 0s 150us/sample - loss: 0.5261 - acc: 0.7296 - val_loss: 0.5786 - val_acc: 0.7165\n",
      "Epoch 145/150\n",
      "514/514 [==============================] - 0s 160us/sample - loss: 0.5356 - acc: 0.7354 - val_loss: 0.5909 - val_acc: 0.7008\n",
      "Epoch 146/150\n",
      "514/514 [==============================] - 0s 153us/sample - loss: 0.5227 - acc: 0.7451 - val_loss: 0.5476 - val_acc: 0.7402\n",
      "Epoch 147/150\n",
      "514/514 [==============================] - 0s 142us/sample - loss: 0.5196 - acc: 0.7549 - val_loss: 0.6007 - val_acc: 0.7008\n",
      "Epoch 148/150\n",
      "514/514 [==============================] - 0s 140us/sample - loss: 0.5453 - acc: 0.7315 - val_loss: 0.5506 - val_acc: 0.7402\n",
      "Epoch 149/150\n",
      "514/514 [==============================] - 0s 136us/sample - loss: 0.5196 - acc: 0.7432 - val_loss: 0.5504 - val_acc: 0.7520\n",
      "Epoch 150/150\n",
      "514/514 [==============================] - 0s 131us/sample - loss: 0.5234 - acc: 0.7451 - val_loss: 0.5648 - val_acc: 0.7205\n"
     ]
    }
   ],
   "source": [
    "# fit the keras model on the dataset\n",
    "model=model.fit(X, y, validation_split=0.33, epochs=150, batch_size=10)"
   ]
  },
  {
   "cell_type": "markdown",
   "metadata": {},
   "source": [
    "## Second example using Iris Data ##"
   ]
  },
  {
   "cell_type": "markdown",
   "metadata": {},
   "source": [
    "First we need to convert the species column in binary form. Next we retrieve the data as a list and convert back as an array"
   ]
  },
  {
   "cell_type": "code",
   "execution_count": 75,
   "metadata": {},
   "outputs": [],
   "source": [
    "import pandas as pd\n",
    "from numpy import loadtxt\n",
    "from keras.models import Sequential\n",
    "from keras.layers import Dense\n",
    "\n",
    "#Importing and reading data.\n",
    "Iris= pd.read_csv(\"Iris.csv\")\n",
    "# Since our data is seperated by semicolons we need to do sep=\";\"\n",
    "Iris=Iris.iloc[:,[1,2,3,4,5]]\n",
    "\n",
    "Iris_list=Iris.values.tolist()\n",
    "for i in range(50):\n",
    "    for j in range(50,100):\n",
    "        Iris_list[i][4]=1\n",
    "        Iris_list[j][4]=0\n",
    "        \n",
    "Iris_list1=[Iris_list[i] for i in range(40)]\n",
    "Iris_list2=[Iris_list[i] for i in range(50,90)]\n",
    "Iris_list3=Iris_list1+Iris_list2\n",
    "\n",
    "Iris_list4=[Iris_list[i] for i in range(40,50)]\n",
    "Iris_list5=[Iris_list[i] for i in range(90,100)]\n",
    "Iris_list6=Iris_list4+Iris_list5\n"
   ]
  },
  {
   "cell_type": "code",
   "execution_count": 76,
   "metadata": {},
   "outputs": [],
   "source": [
    "train=np.array(Iris_list3)\n",
    "train=train+np.random.normal(0,10,train.shape)\n",
    "test=np.array(Iris_list6)\n",
    "test=test+np.random.normal(0,10,test.shape)\n",
    "# load the dataset\n",
    "dataset =train\n",
    "X_train= dataset[:,0:4]\n",
    "y_train= dataset[:,4]\n",
    "X_test=test[:,0:4]\n",
    "y_test=test[:,4]"
   ]
  },
  {
   "cell_type": "code",
   "execution_count": 77,
   "metadata": {},
   "outputs": [],
   "source": [
    "# define the keras model\n",
    "model = Sequential()\n",
    "model.add(Dense(30, input_dim=4, activation='relu'))\n",
    "model.add(Dense(4, activation='relu'))\n",
    "model.add(Dense(1, activation='sigmoid'))"
   ]
  },
  {
   "cell_type": "code",
   "execution_count": 78,
   "metadata": {},
   "outputs": [],
   "source": [
    "# compile the keras model\n",
    "model.compile(loss='binary_crossentropy', optimizer='Adam', metrics=['accuracy'])"
   ]
  },
  {
   "cell_type": "code",
   "execution_count": 79,
   "metadata": {},
   "outputs": [
    {
     "name": "stdout",
     "output_type": "stream",
     "text": [
      "Epoch 1/100\n",
      "6/6 [==============================] - 1s 46ms/step - loss: 5.5296 - accuracy: 0.0000e+00 - val_loss: -22.5639 - val_accuracy: 0.0000e+00\n",
      "Epoch 2/100\n",
      "6/6 [==============================] - 0s 12ms/step - loss: 9.4528 - accuracy: 0.0000e+00 - val_loss: -22.0321 - val_accuracy: 0.0000e+00\n",
      "Epoch 3/100\n",
      "6/6 [==============================] - 0s 12ms/step - loss: 0.4527 - accuracy: 0.0000e+00 - val_loss: -21.7011 - val_accuracy: 0.0000e+00\n",
      "Epoch 4/100\n",
      "6/6 [==============================] - 0s 12ms/step - loss: -3.2205 - accuracy: 0.0000e+00 - val_loss: -21.3742 - val_accuracy: 0.0000e+00\n",
      "Epoch 5/100\n",
      "6/6 [==============================] - 0s 9ms/step - loss: 1.2213 - accuracy: 0.0000e+00 - val_loss: -20.9858 - val_accuracy: 0.0000e+00\n",
      "Epoch 6/100\n",
      "6/6 [==============================] - 0s 14ms/step - loss: -5.4259 - accuracy: 0.0000e+00 - val_loss: -20.9449 - val_accuracy: 0.0000e+00\n",
      "Epoch 7/100\n",
      "6/6 [==============================] - 0s 12ms/step - loss: -1.5994 - accuracy: 0.0000e+00 - val_loss: -20.5780 - val_accuracy: 0.0000e+00\n",
      "Epoch 8/100\n",
      "6/6 [==============================] - 0s 12ms/step - loss: -12.2830 - accuracy: 0.0000e+00 - val_loss: -20.2285 - val_accuracy: 0.0000e+00\n",
      "Epoch 9/100\n",
      "6/6 [==============================] - 0s 14ms/step - loss: -8.7506 - accuracy: 0.0000e+00 - val_loss: -19.7237 - val_accuracy: 0.0000e+00\n",
      "Epoch 10/100\n",
      "6/6 [==============================] - 0s 13ms/step - loss: -12.8178 - accuracy: 0.0000e+00 - val_loss: -19.6739 - val_accuracy: 0.0000e+00\n",
      "Epoch 11/100\n",
      "6/6 [==============================] - 0s 14ms/step - loss: -11.2020 - accuracy: 0.0000e+00 - val_loss: -19.6014 - val_accuracy: 0.0000e+00\n",
      "Epoch 12/100\n",
      "6/6 [==============================] - 0s 12ms/step - loss: -13.9146 - accuracy: 0.0000e+00 - val_loss: -19.5185 - val_accuracy: 0.0000e+00\n",
      "Epoch 13/100\n",
      "6/6 [==============================] - 0s 15ms/step - loss: -8.5914 - accuracy: 0.0000e+00 - val_loss: -19.2496 - val_accuracy: 0.0000e+00\n",
      "Epoch 14/100\n",
      "6/6 [==============================] - 0s 14ms/step - loss: -26.4099 - accuracy: 0.0000e+00 - val_loss: -18.8971 - val_accuracy: 0.0000e+00\n",
      "Epoch 15/100\n",
      "6/6 [==============================] - 0s 13ms/step - loss: -3.4573 - accuracy: 0.0000e+00 - val_loss: -18.4768 - val_accuracy: 0.0000e+00\n",
      "Epoch 16/100\n",
      "6/6 [==============================] - 0s 11ms/step - loss: -26.8783 - accuracy: 0.0000e+00 - val_loss: -18.8509 - val_accuracy: 0.0000e+00\n",
      "Epoch 17/100\n",
      "6/6 [==============================] - 0s 14ms/step - loss: -14.8959 - accuracy: 0.0000e+00 - val_loss: -19.0514 - val_accuracy: 0.0000e+00\n",
      "Epoch 18/100\n",
      "6/6 [==============================] - 0s 13ms/step - loss: -28.4216 - accuracy: 0.0000e+00 - val_loss: -19.5341 - val_accuracy: 0.0000e+00\n",
      "Epoch 19/100\n",
      "6/6 [==============================] - 0s 13ms/step - loss: -21.0527 - accuracy: 0.0000e+00 - val_loss: -19.5619 - val_accuracy: 0.0000e+00\n",
      "Epoch 20/100\n",
      "6/6 [==============================] - 0s 12ms/step - loss: -14.9446 - accuracy: 0.0000e+00 - val_loss: -19.4513 - val_accuracy: 0.0000e+00\n",
      "Epoch 21/100\n",
      "6/6 [==============================] - 0s 14ms/step - loss: -16.2596 - accuracy: 0.0000e+00 - val_loss: -19.6134 - val_accuracy: 0.0000e+00\n",
      "Epoch 22/100\n",
      "6/6 [==============================] - ETA: 0s - loss: -50.0278 - accuracy: 0.0000e+ - 0s 11ms/step - loss: -28.0645 - accuracy: 0.0000e+00 - val_loss: -19.6207 - val_accuracy: 0.0000e+00\n",
      "Epoch 23/100\n",
      "6/6 [==============================] - 0s 12ms/step - loss: -28.8804 - accuracy: 0.0000e+00 - val_loss: -19.5397 - val_accuracy: 0.0000e+00\n",
      "Epoch 24/100\n",
      "6/6 [==============================] - 0s 14ms/step - loss: -28.5418 - accuracy: 0.0000e+00 - val_loss: -19.5474 - val_accuracy: 0.0000e+00\n",
      "Epoch 25/100\n",
      "6/6 [==============================] - 0s 14ms/step - loss: -41.4781 - accuracy: 0.0000e+00 - val_loss: -19.6378 - val_accuracy: 0.0000e+00\n",
      "Epoch 26/100\n",
      "6/6 [==============================] - 0s 14ms/step - loss: -20.5467 - accuracy: 0.0000e+00 - val_loss: -19.2985 - val_accuracy: 0.0000e+00\n",
      "Epoch 27/100\n",
      "6/6 [==============================] - 0s 11ms/step - loss: -44.0416 - accuracy: 0.0000e+00 - val_loss: -19.3759 - val_accuracy: 0.0000e+00\n",
      "Epoch 28/100\n",
      "6/6 [==============================] - 0s 13ms/step - loss: -22.7624 - accuracy: 0.0000e+00 - val_loss: -19.3819 - val_accuracy: 0.0000e+00\n",
      "Epoch 29/100\n",
      "6/6 [==============================] - 0s 12ms/step - loss: -36.2763 - accuracy: 0.0000e+00 - val_loss: -19.8851 - val_accuracy: 0.0000e+00\n",
      "Epoch 30/100\n",
      "6/6 [==============================] - 0s 14ms/step - loss: -26.5608 - accuracy: 0.0000e+00 - val_loss: -20.3497 - val_accuracy: 0.0000e+00\n",
      "Epoch 31/100\n",
      "6/6 [==============================] - 0s 13ms/step - loss: -47.4665 - accuracy: 0.0000e+00 - val_loss: -20.5067 - val_accuracy: 0.0000e+00\n",
      "Epoch 32/100\n",
      "6/6 [==============================] - 0s 14ms/step - loss: -47.4722 - accuracy: 0.0000e+00 - val_loss: -20.6341 - val_accuracy: 0.0000e+00\n",
      "Epoch 33/100\n",
      "6/6 [==============================] - 0s 13ms/step - loss: -26.0575 - accuracy: 0.0000e+00 - val_loss: -20.7389 - val_accuracy: 0.0000e+00\n",
      "Epoch 34/100\n",
      "6/6 [==============================] - 0s 14ms/step - loss: -32.1847 - accuracy: 0.0000e+00 - val_loss: -21.2769 - val_accuracy: 0.0000e+00\n",
      "Epoch 35/100\n",
      "6/6 [==============================] - 0s 12ms/step - loss: -30.3718 - accuracy: 0.0000e+00 - val_loss: -21.5327 - val_accuracy: 0.0000e+00\n",
      "Epoch 36/100\n",
      "6/6 [==============================] - 0s 14ms/step - loss: -40.3625 - accuracy: 0.0000e+00 - val_loss: -21.8416 - val_accuracy: 0.0000e+00\n",
      "Epoch 37/100\n",
      "6/6 [==============================] - 0s 15ms/step - loss: -54.6598 - accuracy: 0.0000e+00 - val_loss: -22.3994 - val_accuracy: 0.0000e+00\n",
      "Epoch 38/100\n",
      "6/6 [==============================] - 0s 12ms/step - loss: -58.1028 - accuracy: 0.0000e+00 - val_loss: -23.2267 - val_accuracy: 0.0000e+00\n",
      "Epoch 39/100\n",
      "6/6 [==============================] - 0s 16ms/step - loss: -29.2339 - accuracy: 0.0000e+00 - val_loss: -23.9544 - val_accuracy: 0.0000e+00\n",
      "Epoch 40/100\n",
      "6/6 [==============================] - 0s 15ms/step - loss: -32.5209 - accuracy: 0.0000e+00 - val_loss: -24.5521 - val_accuracy: 0.0000e+00\n",
      "Epoch 41/100\n",
      "6/6 [==============================] - 0s 11ms/step - loss: -57.4719 - accuracy: 0.0000e+00 - val_loss: -26.1896 - val_accuracy: 0.0000e+00\n",
      "Epoch 42/100\n",
      "6/6 [==============================] - 0s 14ms/step - loss: -35.7421 - accuracy: 0.0000e+00 - val_loss: -27.1363 - val_accuracy: 0.0000e+00\n",
      "Epoch 43/100\n",
      "6/6 [==============================] - 0s 13ms/step - loss: -27.8223 - accuracy: 0.0000e+00 - val_loss: -27.8911 - val_accuracy: 0.0000e+00\n",
      "Epoch 44/100\n",
      "6/6 [==============================] - 0s 15ms/step - loss: -44.1945 - accuracy: 0.0000e+00 - val_loss: -28.7405 - val_accuracy: 0.0000e+00\n",
      "Epoch 45/100\n",
      "6/6 [==============================] - 0s 17ms/step - loss: -43.3079 - accuracy: 0.0000e+00 - val_loss: -29.5176 - val_accuracy: 0.0000e+00\n",
      "Epoch 46/100\n",
      "6/6 [==============================] - 0s 17ms/step - loss: -46.1292 - accuracy: 0.0000e+00 - val_loss: -30.3047 - val_accuracy: 0.0000e+00\n",
      "Epoch 47/100\n",
      "6/6 [==============================] - 0s 17ms/step - loss: -69.7764 - accuracy: 0.0000e+00 - val_loss: -30.9031 - val_accuracy: 0.0000e+00\n",
      "Epoch 48/100\n",
      "6/6 [==============================] - 0s 18ms/step - loss: -46.4587 - accuracy: 0.0000e+00 - val_loss: -31.9148 - val_accuracy: 0.0000e+00\n",
      "Epoch 49/100\n",
      "6/6 [==============================] - 0s 15ms/step - loss: -63.2033 - accuracy: 0.0000e+00 - val_loss: -33.2945 - val_accuracy: 0.0000e+00\n",
      "Epoch 50/100\n",
      "6/6 [==============================] - 0s 17ms/step - loss: -51.7353 - accuracy: 0.0000e+00 - val_loss: -34.0121 - val_accuracy: 0.0000e+00\n",
      "Epoch 51/100\n",
      "6/6 [==============================] - 0s 11ms/step - loss: -102.4959 - accuracy: 0.0000e+00 - val_loss: -34.7947 - val_accuracy: 0.0000e+00\n",
      "Epoch 52/100\n",
      "6/6 [==============================] - 0s 12ms/step - loss: -84.1046 - accuracy: 0.0000e+00 - val_loss: -35.4863 - val_accuracy: 0.0000e+00\n",
      "Epoch 53/100\n",
      "6/6 [==============================] - 0s 13ms/step - loss: -44.6094 - accuracy: 0.0000e+00 - val_loss: -36.3535 - val_accuracy: 0.0000e+00\n",
      "Epoch 54/100\n",
      "6/6 [==============================] - 0s 12ms/step - loss: -48.4791 - accuracy: 0.0000e+00 - val_loss: -37.4296 - val_accuracy: 0.0000e+00\n",
      "Epoch 55/100\n",
      "6/6 [==============================] - 0s 12ms/step - loss: -116.0825 - accuracy: 0.0000e+00 - val_loss: -39.0799 - val_accuracy: 0.0000e+00\n",
      "Epoch 56/100\n",
      "6/6 [==============================] - 0s 12ms/step - loss: -86.1726 - accuracy: 0.0000e+00 - val_loss: -40.5645 - val_accuracy: 0.0000e+00\n",
      "Epoch 57/100\n",
      "6/6 [==============================] - 0s 10ms/step - loss: -88.9899 - accuracy: 0.0000e+00 - val_loss: -41.8455 - val_accuracy: 0.0000e+00\n",
      "Epoch 58/100\n",
      "6/6 [==============================] - 0s 13ms/step - loss: -55.2879 - accuracy: 0.0000e+00 - val_loss: -42.3583 - val_accuracy: 0.0000e+00\n",
      "Epoch 59/100\n",
      "6/6 [==============================] - 0s 13ms/step - loss: -88.5719 - accuracy: 0.0000e+00 - val_loss: -43.3875 - val_accuracy: 0.0000e+00\n",
      "Epoch 60/100\n",
      "6/6 [==============================] - 0s 14ms/step - loss: -99.2751 - accuracy: 0.0000e+00 - val_loss: -45.3317 - val_accuracy: 0.0000e+00\n",
      "Epoch 61/100\n",
      "6/6 [==============================] - 0s 13ms/step - loss: -74.3642 - accuracy: 0.0000e+00 - val_loss: -46.4528 - val_accuracy: 0.0000e+00\n",
      "Epoch 62/100\n",
      "6/6 [==============================] - 0s 14ms/step - loss: -49.7480 - accuracy: 0.0000e+00 - val_loss: -47.0818 - val_accuracy: 0.0000e+00\n",
      "Epoch 63/100\n",
      "6/6 [==============================] - 0s 13ms/step - loss: -123.3102 - accuracy: 0.0000e+00 - val_loss: -47.9164 - val_accuracy: 0.0000e+00\n",
      "Epoch 64/100\n",
      "6/6 [==============================] - 0s 13ms/step - loss: -40.4122 - accuracy: 0.0000e+00 - val_loss: -48.6501 - val_accuracy: 0.0000e+00\n",
      "Epoch 65/100\n",
      "6/6 [==============================] - 0s 14ms/step - loss: -77.2391 - accuracy: 0.0000e+00 - val_loss: -49.7246 - val_accuracy: 0.0000e+00\n",
      "Epoch 66/100\n",
      "6/6 [==============================] - 0s 12ms/step - loss: -105.3440 - accuracy: 0.0000e+00 - val_loss: -50.9541 - val_accuracy: 0.0000e+00\n",
      "Epoch 67/100\n",
      "6/6 [==============================] - 0s 12ms/step - loss: -113.4174 - accuracy: 0.0000e+00 - val_loss: -51.8312 - val_accuracy: 0.0000e+00\n",
      "Epoch 68/100\n",
      "6/6 [==============================] - 0s 12ms/step - loss: -160.3341 - accuracy: 0.0000e+00 - val_loss: -52.4636 - val_accuracy: 0.0000e+00\n",
      "Epoch 69/100\n",
      "6/6 [==============================] - 0s 12ms/step - loss: -55.1092 - accuracy: 0.0000e+00 - val_loss: -53.3100 - val_accuracy: 0.0000e+00\n",
      "Epoch 70/100\n",
      "6/6 [==============================] - 0s 15ms/step - loss: -122.5891 - accuracy: 0.0000e+00 - val_loss: -54.3123 - val_accuracy: 0.0000e+00\n",
      "Epoch 71/100\n",
      "6/6 [==============================] - 0s 15ms/step - loss: -108.1598 - accuracy: 0.0000e+00 - val_loss: -55.0940 - val_accuracy: 0.0000e+00\n",
      "Epoch 72/100\n",
      "6/6 [==============================] - 0s 14ms/step - loss: -97.6528 - accuracy: 0.0000e+00 - val_loss: -55.5024 - val_accuracy: 0.0000e+00\n",
      "Epoch 73/100\n",
      "6/6 [==============================] - 0s 16ms/step - loss: -47.9994 - accuracy: 0.0000e+00 - val_loss: -56.1709 - val_accuracy: 0.0000e+00\n",
      "Epoch 74/100\n",
      "6/6 [==============================] - 0s 14ms/step - loss: -99.1516 - accuracy: 0.0000e+00 - val_loss: -57.7565 - val_accuracy: 0.0000e+00\n",
      "Epoch 75/100\n",
      "6/6 [==============================] - 0s 15ms/step - loss: -147.0015 - accuracy: 0.0000e+00 - val_loss: -59.0263 - val_accuracy: 0.0000e+00\n",
      "Epoch 76/100\n",
      "6/6 [==============================] - 0s 12ms/step - loss: -71.9224 - accuracy: 0.0000e+00 - val_loss: -60.0429 - val_accuracy: 0.0000e+00\n",
      "Epoch 77/100\n",
      "6/6 [==============================] - 0s 14ms/step - loss: -238.0992 - accuracy: 0.0000e+00 - val_loss: -62.3633 - val_accuracy: 0.0000e+00\n",
      "Epoch 78/100\n",
      "6/6 [==============================] - 0s 15ms/step - loss: -102.4890 - accuracy: 0.0000e+00 - val_loss: -63.2379 - val_accuracy: 0.0000e+00\n",
      "Epoch 79/100\n",
      "6/6 [==============================] - 0s 12ms/step - loss: -49.4484 - accuracy: 0.0000e+00 - val_loss: -63.9212 - val_accuracy: 0.0000e+00\n",
      "Epoch 80/100\n",
      "6/6 [==============================] - 0s 13ms/step - loss: -152.5462 - accuracy: 0.0000e+00 - val_loss: -66.8190 - val_accuracy: 0.0000e+00\n",
      "Epoch 81/100\n",
      "6/6 [==============================] - 0s 12ms/step - loss: -124.2960 - accuracy: 0.0000e+00 - val_loss: -68.4202 - val_accuracy: 0.0000e+00\n",
      "Epoch 82/100\n",
      "6/6 [==============================] - 0s 13ms/step - loss: -246.0487 - accuracy: 0.0000e+00 - val_loss: -70.0693 - val_accuracy: 0.0000e+00\n",
      "Epoch 83/100\n",
      "6/6 [==============================] - 0s 12ms/step - loss: -113.4953 - accuracy: 0.0000e+00 - val_loss: -71.3820 - val_accuracy: 0.0000e+00\n",
      "Epoch 84/100\n",
      "6/6 [==============================] - 0s 14ms/step - loss: -149.1151 - accuracy: 0.0000e+00 - val_loss: -73.0004 - val_accuracy: 0.0000e+00\n",
      "Epoch 85/100\n",
      "6/6 [==============================] - 0s 15ms/step - loss: -133.6067 - accuracy: 0.0000e+00 - val_loss: -74.5233 - val_accuracy: 0.0000e+00\n",
      "Epoch 86/100\n",
      "6/6 [==============================] - 0s 15ms/step - loss: -146.8012 - accuracy: 0.0000e+00 - val_loss: -75.1368 - val_accuracy: 0.0000e+00\n",
      "Epoch 87/100\n",
      "6/6 [==============================] - 0s 15ms/step - loss: -95.6296 - accuracy: 0.0000e+00 - val_loss: -76.0191 - val_accuracy: 0.0000e+00\n",
      "Epoch 88/100\n",
      "6/6 [==============================] - 0s 12ms/step - loss: -234.8985 - accuracy: 0.0000e+00 - val_loss: -77.4795 - val_accuracy: 0.0000e+00\n",
      "Epoch 89/100\n",
      "6/6 [==============================] - 0s 12ms/step - loss: -248.1344 - accuracy: 0.0000e+00 - val_loss: -79.1433 - val_accuracy: 0.0000e+00\n",
      "Epoch 90/100\n",
      "6/6 [==============================] - 0s 13ms/step - loss: -170.7168 - accuracy: 0.0000e+00 - val_loss: -80.7605 - val_accuracy: 0.0000e+00\n",
      "Epoch 91/100\n",
      "6/6 [==============================] - 0s 11ms/step - loss: -99.0315 - accuracy: 0.0000e+00 - val_loss: -82.3805 - val_accuracy: 0.0000e+00\n",
      "Epoch 92/100\n",
      "6/6 [==============================] - 0s 13ms/step - loss: -106.0420 - accuracy: 0.0000e+00 - val_loss: -83.7104 - val_accuracy: 0.0000e+00\n",
      "Epoch 93/100\n",
      "6/6 [==============================] - 0s 16ms/step - loss: -224.0792 - accuracy: 0.0000e+00 - val_loss: -84.8463 - val_accuracy: 0.0000e+00\n",
      "Epoch 94/100\n",
      "6/6 [==============================] - 0s 18ms/step - loss: -208.3514 - accuracy: 0.0000e+00 - val_loss: -85.5043 - val_accuracy: 0.0000e+00\n",
      "Epoch 95/100\n",
      "6/6 [==============================] - 0s 17ms/step - loss: -291.2307 - accuracy: 0.0000e+00 - val_loss: -86.7501 - val_accuracy: 0.0000e+00\n",
      "Epoch 96/100\n",
      "6/6 [==============================] - 0s 12ms/step - loss: -338.4808 - accuracy: 0.0000e+00 - val_loss: -88.1641 - val_accuracy: 0.0000e+00\n",
      "Epoch 97/100\n",
      "6/6 [==============================] - 0s 11ms/step - loss: -270.8459 - accuracy: 0.0000e+00 - val_loss: -89.3843 - val_accuracy: 0.0000e+00\n",
      "Epoch 98/100\n",
      "6/6 [==============================] - 0s 13ms/step - loss: -344.4174 - accuracy: 0.0000e+00 - val_loss: -91.0022 - val_accuracy: 0.0000e+00\n",
      "Epoch 99/100\n",
      "6/6 [==============================] - 0s 11ms/step - loss: -236.7900 - accuracy: 0.0000e+00 - val_loss: -91.5900 - val_accuracy: 0.0000e+00\n",
      "Epoch 100/100\n",
      "6/6 [==============================] - 0s 13ms/step - loss: -190.3697 - accuracy: 0.0000e+00 - val_loss: -91.9207 - val_accuracy: 0.0000e+00\n"
     ]
    }
   ],
   "source": [
    "# fit the keras model on the dataset\n",
    "model=model.fit(X_train, y_train,validation_split=0.33, epochs=100, batch_size=10)\n"
   ]
  },
  {
   "cell_type": "code",
   "execution_count": 80,
   "metadata": {},
   "outputs": [
    {
     "data": {
      "image/png": "[encoded data removed]",
      "text/plain": [
       "<Figure size 432x288 with 1 Axes>"
      ]
     },
     "metadata": {
      "needs_background": "light"
     },
     "output_type": "display_data"
    },
    {
     "data": {
      "image/png": "[encoded data removed]",
      "text/plain": [
       "<Figure size 432x288 with 1 Axes>"
      ]
     },
     "metadata": {
      "needs_background": "light"
     },
     "output_type": "display_data"
    }
   ],
   "source": [
    "loss=list(model.history.values())[0]\n",
    "accuracy=list(model.history.values())[1]\n",
    "val_loss=list(model.history.values())[2]\n",
    "val_accuracy=list(model.history.values())[3]\n",
    "\n",
    "# summarize history for accuracy\n",
    "plt.plot(accuracy,color='orange', linewidth=5)\n",
    "plt.plot(val_accuracy)\n",
    "plt.title('model accuracy')\n",
    "plt.ylabel('accuracy')\n",
    "plt.xlabel('epoch')\n",
    "plt.legend(['train', 'test'], loc='upper left')\n",
    "plt.show()\n",
    "# summarize history for loss\n",
    "plt.plot(loss, color='red', linewidth=5)\n",
    "plt.plot(val_loss)\n",
    "plt.title('model loss')\n",
    "plt.ylabel('loss')\n",
    "plt.xlabel('epoch')\n",
    "plt.legend(['train', 'test'], loc='upper left')\n",
    "plt.show()"
   ]
  },
  {
   "cell_type": "code",
   "execution_count": 95,
   "metadata": {},
   "outputs": [],
   "source": [
    "#predictions=model.predict(X_test)\n",
    "#pred=[round(sum(predictions[i])) for i in range(len(predictions))]\n",
    "#score=accuracy_score(y_test,pred)\n",
    "\n",
    "#tree.export_graphviz(model,out_file='music_recommender1.dot',feature_names=['age','sex'],class_names=sorted(y.unique()),label='all',rounded=True,filled=True)\n",
    "\n",
    "#score"
   ]
  },
  {
   "cell_type": "markdown",
   "metadata": {},
   "source": [
    "## Image Classification Using Deep Learning, MNIST DATASET ##"
   ]
  },
  {
   "cell_type": "markdown",
   "metadata": {},
   "source": [
    "Import the required python libraries for Image Classification\n"
   ]
  },
  {
   "cell_type": "code",
   "execution_count": 2,
   "metadata": {},
   "outputs": [],
   "source": [
    "#install required libraries\n",
    "import pandas as pd\n",
    "import numpy as np\n",
    "import matplotlib.pyplot as plt\n",
    "import keras\n",
    "from keras.models import Sequential\n",
    "from keras.layers import Convolution2D\n",
    "from keras.layers import MaxPooling2D\n",
    "from keras.layers import Flatten\n",
    "from keras.layers import Dense\n",
    "from keras.wrappers.scikit_learn import KerasClassifier\n",
    "from keras.layers import Dropout\n",
    "#model evaluation packages\n",
    "from sklearn.metrics import f1_score, roc_auc_score, log_loss\n",
    "from sklearn.model_selection import cross_val_score, cross_validate"
   ]
  },
  {
   "cell_type": "code",
   "execution_count": 3,
   "metadata": {},
   "outputs": [
    {
     "name": "stdout",
     "output_type": "stream",
     "text": [
      "(60000, 28, 28) (60000,) (10000, 28, 28) (10000,)\n"
     ]
    }
   ],
   "source": [
    "#read mnist fashion dataset\n",
    "mnist = keras.datasets.fashion_mnist\n",
    "(X_train, y_train), (X_test, y_test) = mnist.load_data()\n",
    "print(X_train.shape, y_train.shape, X_test.shape, y_test.shape)\n"
   ]
  },
  {
   "cell_type": "code",
   "execution_count": 8,
   "metadata": {},
   "outputs": [
    {
     "name": "stdout",
     "output_type": "stream",
     "text": [
      "Number of unique classes:  10\n",
      "Classes:  [0 1 2 3 4 5 6 7 8 9]\n"
     ]
    }
   ],
   "source": [
    "#reshape data from 3-D to 2-D array\n",
    "X_train = X_train.reshape(60000, 784)\n",
    "X_test = X_test.reshape(10000, 784)\n",
    "#feature scaling\n",
    "from sklearn.preprocessing import MinMaxScaler\n",
    "minmax = MinMaxScaler()\n",
    "#fit and transform training dataset\n",
    "X_train = minmax.fit_transform(X_train)\n",
    "X_train=X_train/255\n",
    "#transform testing dataset\n",
    "X_test = minmax.transform(X_test)\n",
    "print('Number of unique classes: ', len(np.unique(y_train)))\n",
    "print('Classes: ', np.unique(y_train))"
   ]
  },
  {
   "cell_type": "code",
   "execution_count": 9,
   "metadata": {},
   "outputs": [
    {
     "data": {
      "image/png": "[encoded data removed]",
      "text/plain": [
       "<Figure size 1080x360 with 10 Axes>"
      ]
     },
     "metadata": {
      "needs_background": "light"
     },
     "output_type": "display_data"
    }
   ],
   "source": [
    "fig, axes = plt.subplots(nrows=2, ncols=5,figsize=(15,5))          \n",
    "ax = axes.ravel()\n",
    "for i in range(10):\n",
    "    ax[i].imshow(X_train[i].reshape(28,28))\n",
    "    ax[i].title.set_text('Class: ' + str(y_train[i]))              \n",
    "plt.subplots_adjust(hspace=0.5)                                    \n",
    "plt.show()"
   ]
  },
  {
   "cell_type": "code",
   "execution_count": 100,
   "metadata": {},
   "outputs": [
    {
     "name": "stdout",
     "output_type": "stream",
     "text": [
      "WARNING:tensorflow:From /opt/anaconda3/envs/Project/lib/python3.8/site-packages/tensorflow/python/keras/initializers/initializers_v1.py:58: calling RandomUniform.__init__ (from tensorflow.python.ops.init_ops) with dtype is deprecated and will be removed in a future version.\n",
      "Instructions for updating:\n",
      "Call initializer instance with the dtype argument instead of passing it to the constructor\n",
      "Model: \"sequential_2\"\n",
      "_________________________________________________________________\n",
      "Layer (type)                 Output Shape              Param #   \n",
      "=================================================================\n",
      "dense_6 (Dense)              (None, 256)               200960    \n",
      "_________________________________________________________________\n",
      "dense_7 (Dense)              (None, 10)                2570      \n",
      "=================================================================\n",
      "Total params: 203,530\n",
      "Trainable params: 203,530\n",
      "Non-trainable params: 0\n",
      "_________________________________________________________________\n"
     ]
    }
   ],
   "source": [
    "#initializing CNN model\n",
    "classifier_e25 = Sequential()\n",
    "#add 1st hidden layer\n",
    "classifier_e25.add(Dense(input_dim = X_train.shape[1], units = 256, kernel_initializer='uniform', activation='relu'))\n",
    "#add output layer\n",
    "classifier_e25.add(Dense(units = 10, kernel_initializer='uniform', activation='softmax'))\n",
    "#compile the neural network\n",
    "classifier_e25.compile(optimizer='adam', loss='sparse_categorical_crossentropy', metrics=['accuracy'])\n",
    "#model summary\n",
    "classifier_e25.summary()"
   ]
  },
  {
   "cell_type": "code",
   "execution_count": 101,
   "metadata": {},
   "outputs": [
    {
     "name": "stdout",
     "output_type": "stream",
     "text": [
      "Train on 40199 samples, validate on 19801 samples\n",
      "Epoch 1/25\n",
      "40130/40199 [============================>.] - ETA: 0s - loss: 0.5094 - acc: 0.8178"
     ]
    },
    {
     "name": "stderr",
     "output_type": "stream",
     "text": [
      "/opt/anaconda3/envs/Project/lib/python3.8/site-packages/tensorflow/python/keras/engine/training.py:2325: UserWarning: `Model.state_updates` will be removed in a future version. This property should not be used in TensorFlow 2.0, as `updates` are applied automatically.\n",
      "  warnings.warn('`Model.state_updates` will be removed in a future version. '\n"
     ]
    },
    {
     "name": "stdout",
     "output_type": "stream",
     "text": [
      "40199/40199 [==============================] - 12s 297us/sample - loss: 0.5091 - acc: 0.8179 - val_loss: 0.4233 - val_acc: 0.8508\n",
      "Epoch 2/25\n",
      "40199/40199 [==============================] - 11s 283us/sample - loss: 0.3782 - acc: 0.8612 - val_loss: 0.3847 - val_acc: 0.8650\n",
      "Epoch 3/25\n",
      "40199/40199 [==============================] - 11s 283us/sample - loss: 0.3391 - acc: 0.8753 - val_loss: 0.3732 - val_acc: 0.8645\n",
      "Epoch 4/25\n",
      "40199/40199 [==============================] - 13s 333us/sample - loss: 0.3178 - acc: 0.8824 - val_loss: 0.3771 - val_acc: 0.8671\n",
      "Epoch 5/25\n",
      "40199/40199 [==============================] - 14s 353us/sample - loss: 0.2944 - acc: 0.8911 - val_loss: 0.3385 - val_acc: 0.8760\n",
      "Epoch 6/25\n",
      "40199/40199 [==============================] - 15s 362us/sample - loss: 0.2818 - acc: 0.8945 - val_loss: 0.4338 - val_acc: 0.8533\n",
      "Epoch 7/25\n",
      "40199/40199 [==============================] - 14s 342us/sample - loss: 0.2677 - acc: 0.8992 - val_loss: 0.3272 - val_acc: 0.8861\n",
      "Epoch 8/25\n",
      "40199/40199 [==============================] - 12s 294us/sample - loss: 0.2574 - acc: 0.9034 - val_loss: 0.3365 - val_acc: 0.8829\n",
      "Epoch 9/25\n",
      "40199/40199 [==============================] - 11s 271us/sample - loss: 0.2474 - acc: 0.9060 - val_loss: 0.3263 - val_acc: 0.8891s - loss: 0.2472 - \n",
      "Epoch 10/25\n",
      "40199/40199 [==============================] - 11s 277us/sample - loss: 0.2377 - acc: 0.9105 - val_loss: 0.3379 - val_acc: 0.8864\n",
      "Epoch 11/25\n",
      "40199/40199 [==============================] - 12s 307us/sample - loss: 0.2302 - acc: 0.9130 - val_loss: 0.3470 - val_acc: 0.8847: 0.\n",
      "Epoch 12/25\n",
      "40199/40199 [==============================] - 12s 292us/sample - loss: 0.2198 - acc: 0.9163 - val_loss: 0.3668 - val_acc: 0.8851\n",
      "Epoch 13/25\n",
      "40199/40199 [==============================] - 10s 258us/sample - loss: 0.2178 - acc: 0.9172 - val_loss: 0.3840 - val_acc: 0.8749\n",
      "Epoch 14/25\n",
      "40199/40199 [==============================] - 11s 283us/sample - loss: 0.2089 - acc: 0.9213 - val_loss: 0.3373 - val_acc: 0.8928\n",
      "Epoch 15/25\n",
      "40199/40199 [==============================] - 13s 330us/sample - loss: 0.2026 - acc: 0.9230 - val_loss: 0.3603 - val_acc: 0.8872\n",
      "Epoch 16/25\n",
      "40199/40199 [==============================] - 14s 353us/sample - loss: 0.1975 - acc: 0.9251 - val_loss: 0.3660 - val_acc: 0.8859\n",
      "Epoch 17/25\n",
      "40199/40199 [==============================] - 15s 376us/sample - loss: 0.1889 - acc: 0.9282 - val_loss: 0.3899 - val_acc: 0.8886\n",
      "Epoch 18/25\n",
      "40199/40199 [==============================] - 14s 357us/sample - loss: 0.1863 - acc: 0.9308 - val_loss: 0.3744 - val_acc: 0.8908\n",
      "Epoch 19/25\n",
      "40199/40199 [==============================] - 17s 421us/sample - loss: 0.1785 - acc: 0.9329 - val_loss: 0.3882 - val_acc: 0.8909\n",
      "Epoch 20/25\n",
      "40199/40199 [==============================] - 12s 306us/sample - loss: 0.1763 - acc: 0.9336 - val_loss: 0.3823 - val_acc: 0.8896\n",
      "Epoch 21/25\n",
      "40199/40199 [==============================] - 14s 345us/sample - loss: 0.1708 - acc: 0.9353 - val_loss: 0.4276 - val_acc: 0.8853\n",
      "Epoch 22/25\n",
      "40199/40199 [==============================] - 18s 445us/sample - loss: 0.1678 - acc: 0.9377 - val_loss: 0.4146 - val_acc: 0.8865\n",
      "Epoch 23/25\n",
      "40199/40199 [==============================] - 15s 362us/sample - loss: 0.1643 - acc: 0.9385 - val_loss: 0.4048 - val_acc: 0.8901\n",
      "Epoch 24/25\n",
      "40199/40199 [==============================] - 20s 496us/sample - loss: 0.1619 - acc: 0.9395 - val_loss: 0.3859 - val_acc: 0.8913\n",
      "Epoch 25/25\n",
      "40199/40199 [==============================] - 22s 544us/sample - loss: 0.1534 - acc: 0.9429 - val_loss: 0.4537 - val_acc: 0.8841\n"
     ]
    }
   ],
   "source": [
    "#fit training dataset into the model\n",
    "model= classifier_e25.fit(X_train, y_train, validation_split=0.33, epochs=25, batch_size=10)\n",
    "\n"
   ]
  },
  {
   "cell_type": "code",
   "execution_count": 102,
   "metadata": {},
   "outputs": [
    {
     "data": {
      "image/png": "[encoded data removed]",
      "text/plain": [
       "<Figure size 432x288 with 1 Axes>"
      ]
     },
     "metadata": {
      "needs_background": "light"
     },
     "output_type": "display_data"
    },
    {
     "data": {
      "image/png": "[encoded data removed]",
      "text/plain": [
       "<Figure size 432x288 with 1 Axes>"
      ]
     },
     "metadata": {
      "needs_background": "light"
     },
     "output_type": "display_data"
    }
   ],
   "source": [
    "loss=list(model.history.values())[0]\n",
    "accuracy=list(model.history.values())[1]\n",
    "val_loss=list(model.history.values())[2]\n",
    "val_accuracy=list(model.history.values())[3]\n",
    "\n",
    "# summarize history for accuracy\n",
    "plt.plot(accuracy,color='orange', linewidth=5)\n",
    "plt.plot(val_accuracy)\n",
    "plt.title('model accuracy')\n",
    "plt.ylabel('accuracy')\n",
    "plt.xlabel('epoch')\n",
    "plt.legend(['train', 'test'], loc='upper left')\n",
    "plt.show()\n",
    "# summarize history for loss\n",
    "plt.plot(loss, color='red', linewidth=5)\n",
    "plt.plot(val_loss)\n",
    "plt.title('model loss')\n",
    "plt.ylabel('loss')\n",
    "plt.xlabel('epoch')\n",
    "plt.legend(['train', 'test'], loc='upper left')\n",
    "plt.show()"
   ]
  },
  {
   "cell_type": "code",
   "execution_count": 141,
   "metadata": {},
   "outputs": [
    {
     "name": "stdout",
     "output_type": "stream",
     "text": [
      "WARNING:tensorflow:From <ipython-input-141-513845c4a642>:4: Sequential.predict_classes (from tensorflow.python.keras.engine.sequential) is deprecated and will be removed after 2021-01-01.\n",
      "Instructions for updating:\n",
      "Please use instead:* `np.argmax(model.predict(x), axis=-1)`,   if your model does multi-class classification   (e.g. if it uses a `softmax` last-layer activation).* `(model.predict(x) > 0.5).astype(\"int32\")`,   if your model does binary classification   (e.g. if it uses a `sigmoid` last-layer activation).\n",
      "WARNING:tensorflow:From <ipython-input-141-513845c4a642>:5: Sequential.predict_proba (from tensorflow.python.keras.engine.sequential) is deprecated and will be removed after 2021-01-01.\n",
      "Instructions for updating:\n",
      "Please use `model.predict()` instead.\n"
     ]
    },
    {
     "data": {
      "text/html": [
       "<div>\n",
       "<style scoped>\n",
       "    .dataframe tbody tr th:only-of-type {\n",
       "        vertical-align: middle;\n",
       "    }\n",
       "\n",
       "    .dataframe tbody tr th {\n",
       "        vertical-align: top;\n",
       "    }\n",
       "\n",
       "    .dataframe thead th {\n",
       "        text-align: right;\n",
       "    }\n",
       "</style>\n",
       "<table border=\"1\" class=\"dataframe\">\n",
       "  <thead>\n",
       "    <tr style=\"text-align: right;\">\n",
       "      <th></th>\n",
       "      <th>Test accuracy</th>\n",
       "      <th>F1 score</th>\n",
       "      <th>ROC AUC score</th>\n",
       "      <th>Total Loss</th>\n",
       "    </tr>\n",
       "  </thead>\n",
       "  <tbody>\n",
       "    <tr>\n",
       "      <th>0</th>\n",
       "      <td>86.94</td>\n",
       "      <td>0.869</td>\n",
       "      <td>0.989</td>\n",
       "      <td>0.543</td>\n",
       "    </tr>\n",
       "  </tbody>\n",
       "</table>\n",
       "</div>"
      ],
      "text/plain": [
       "   Test accuracy  F1 score  ROC AUC score  Total Loss\n",
       "0          86.94     0.869          0.989       0.543"
      ]
     },
     "metadata": {},
     "output_type": "display_data"
    }
   ],
   "source": [
    "#evaluate the model for testing dataset\n",
    "test_loss_e25 = classifier_e25.evaluate(X_test, y_test, verbose=0)\n",
    "#calculate evaluation parameters\n",
    "f1_e25 = f1_score(y_test, classifier_e25.predict_classes(X_test), average='micro')\n",
    "roc_e25 = roc_auc_score(y_test, classifier_e25.predict_proba(X_test), multi_class='ovo')\n",
    "#create evaluation dataframe\n",
    "stats_e25 = pd.DataFrame({'Test accuracy' :  round(test_loss_e25[1]*100,3),\n",
    "                      'F1 score'      : round(f1_e25,3),\n",
    "                      'ROC AUC score' : round(roc_e25,3),\n",
    "                      'Total Loss'    : round(test_loss_e25[0],3)}, index=[0])\n",
    "#print evaluation dataframe\n",
    "display(stats_e25)"
   ]
  },
  {
   "cell_type": "markdown",
   "metadata": {},
   "source": [
    "## Character Classification Using Deep Learning, MNIST DATASET ##"
   ]
  },
  {
   "cell_type": "code",
   "execution_count": 142,
   "metadata": {},
   "outputs": [
    {
     "name": "stdout",
     "output_type": "stream",
     "text": [
      "(60000, 28, 28) (60000,) (10000, 28, 28) (10000,)\n"
     ]
    },
    {
     "data": {
      "text/plain": [
       "array([5, 0, 4, ..., 5, 6, 8], dtype=uint8)"
      ]
     },
     "execution_count": 142,
     "metadata": {},
     "output_type": "execute_result"
    }
   ],
   "source": [
    "#install required libraries\n",
    "import pandas as pd\n",
    "import numpy as np\n",
    "#data visualization packages\n",
    "import matplotlib.pyplot as plt\n",
    "#keras packages\n",
    "import keras\n",
    "from keras.models import Sequential\n",
    "from keras.layers import Convolution2D\n",
    "from keras.layers import MaxPooling2D\n",
    "from keras.layers import Flatten\n",
    "from keras.layers import Dense\n",
    "from keras.wrappers.scikit_learn import KerasClassifier\n",
    "from keras.layers import Dropout\n",
    "#model evaluation packages\n",
    "from sklearn.metrics import f1_score, roc_auc_score, log_loss\n",
    "from sklearn.model_selection import cross_val_score, cross_validate\n",
    "\n",
    "#read mnist fashion dataset\n",
    "mnist = keras.datasets.mnist\n",
    "(X_train, y_train), (X_test, y_test) = mnist.load_data()\n",
    "print(X_train.shape, y_train.shape, X_test.shape, y_test.shape)\n",
    "y_train"
   ]
  },
  {
   "cell_type": "code",
   "execution_count": 143,
   "metadata": {},
   "outputs": [
    {
     "data": {
      "text/plain": [
       "<function matplotlib.pyplot.show(close=None, block=None)>"
      ]
     },
     "execution_count": 143,
     "metadata": {},
     "output_type": "execute_result"
    },
    {
     "data": {
      "image/png": "[encoded data removed]",
      "text/plain": [
       "<Figure size 432x288 with 1 Axes>"
      ]
     },
     "metadata": {
      "needs_background": "light"
     },
     "output_type": "display_data"
    }
   ],
   "source": [
    "plt.imshow(X_train[2])\n",
    "plt.show"
   ]
  },
  {
   "cell_type": "code",
   "execution_count": 144,
   "metadata": {},
   "outputs": [
    {
     "data": {
      "text/plain": [
       "<function matplotlib.pyplot.show(close=None, block=None)>"
      ]
     },
     "execution_count": 144,
     "metadata": {},
     "output_type": "execute_result"
    },
    {
     "data": {
      "image/png": "[encoded data removed]",
      "text/plain": [
       "<Figure size 432x288 with 1 Axes>"
      ]
     },
     "metadata": {
      "needs_background": "light"
     },
     "output_type": "display_data"
    }
   ],
   "source": [
    "plt.imshow(X_train[2],cmap=plt.cm.binary)\n",
    "plt.show"
   ]
  },
  {
   "cell_type": "code",
   "execution_count": 145,
   "metadata": {},
   "outputs": [
    {
     "name": "stdout",
     "output_type": "stream",
     "text": [
      "Number of unique classes:  10\n",
      "Classes:  [0 1 2 3 4 5 6 7 8 9]\n"
     ]
    }
   ],
   "source": [
    "#reshape data from 3-D to 2-D array\n",
    "X_train = X_train.reshape(60000, 784)\n",
    "X_test = X_test.reshape(10000, 784)\n",
    "#feature scaling\n",
    "from sklearn.preprocessing import MinMaxScaler\n",
    "minmax = MinMaxScaler()\n",
    "#fit and transform training dataset\n",
    "X_train = minmax.fit_transform(X_train)\n",
    "#transform testing dataset\n",
    "X_test = minmax.transform(X_test)\n",
    "print('Number of unique classes: ', len(np.unique(y_train)))\n",
    "print('Classes: ', np.unique(y_train))"
   ]
  },
  {
   "cell_type": "code",
   "execution_count": 146,
   "metadata": {},
   "outputs": [
    {
     "data": {
      "image/png": "[encoded data removed]",
      "text/plain": [
       "<Figure size 1080x360 with 10 Axes>"
      ]
     },
     "metadata": {
      "needs_background": "light"
     },
     "output_type": "display_data"
    }
   ],
   "source": [
    "fig, axes = plt.subplots(nrows=2, ncols=5,figsize=(15,5))          \n",
    "ax = axes.ravel()\n",
    "for i in range(10):\n",
    "    ax[i].imshow(X_train[i].reshape(28,28))\n",
    "    ax[i].title.set_text('Class: ' + str(y_train[i]))              \n",
    "plt.subplots_adjust(hspace=0.5)                                    \n",
    "plt.show()"
   ]
  },
  {
   "cell_type": "code",
   "execution_count": 147,
   "metadata": {},
   "outputs": [
    {
     "name": "stdout",
     "output_type": "stream",
     "text": [
      "Model: \"sequential_7\"\n",
      "_________________________________________________________________\n",
      "Layer (type)                 Output Shape              Param #   \n",
      "=================================================================\n",
      "dense_16 (Dense)             (None, 256)               200960    \n",
      "_________________________________________________________________\n",
      "dense_17 (Dense)             (None, 10)                2570      \n",
      "=================================================================\n",
      "Total params: 203,530\n",
      "Trainable params: 203,530\n",
      "Non-trainable params: 0\n",
      "_________________________________________________________________\n"
     ]
    }
   ],
   "source": [
    "#initializing CNN model\n",
    "classifier_e25 = Sequential()\n",
    "#add 1st hidden layer\n",
    "classifier_e25.add(Dense(input_dim = X_train.shape[1], units = 256, kernel_initializer='uniform', activation='relu'))\n",
    "#add output layer\n",
    "classifier_e25.add(Dense(units = 10, kernel_initializer='uniform', activation='softmax'))\n",
    "#compile the neural network\n",
    "classifier_e25.compile(optimizer='adam', loss='sparse_categorical_crossentropy', metrics=['accuracy'])\n",
    "#model summary\n",
    "classifier_e25.summary()"
   ]
  },
  {
   "cell_type": "code",
   "execution_count": 148,
   "metadata": {},
   "outputs": [
    {
     "name": "stdout",
     "output_type": "stream",
     "text": [
      "Train on 40199 samples, validate on 19801 samples\n",
      "Epoch 1/25\n",
      "40199/40199 [==============================] - 9s 215us/sample - loss: 0.2471 - acc: 0.9270 - val_loss: 0.1409 - val_acc: 0.9575\n",
      "Epoch 2/25\n",
      "40199/40199 [==============================] - 8s 205us/sample - loss: 0.0984 - acc: 0.9699 - val_loss: 0.1034 - val_acc: 0.9677\n",
      "Epoch 3/25\n",
      "40199/40199 [==============================] - 9s 224us/sample - loss: 0.0644 - acc: 0.9798 - val_loss: 0.1108 - val_acc: 0.9679\n",
      "Epoch 4/25\n",
      "40199/40199 [==============================] - 9s 217us/sample - loss: 0.0467 - acc: 0.9852 - val_loss: 0.1052 - val_acc: 0.9705\n",
      "Epoch 5/25\n",
      "40199/40199 [==============================] - 9s 215us/sample - loss: 0.0334 - acc: 0.9892 - val_loss: 0.1133 - val_acc: 0.9719\n",
      "Epoch 6/25\n",
      "40199/40199 [==============================] - 9s 213us/sample - loss: 0.0267 - acc: 0.9907 - val_loss: 0.1185 - val_acc: 0.9727\n",
      "Epoch 7/25\n",
      "40199/40199 [==============================] - 9s 212us/sample - loss: 0.0222 - acc: 0.9921 - val_loss: 0.1331 - val_acc: 0.9710\n",
      "Epoch 8/25\n",
      "40199/40199 [==============================] - 9s 216us/sample - loss: 0.0190 - acc: 0.9939 - val_loss: 0.1286 - val_acc: 0.9734\n",
      "Epoch 9/25\n",
      "40199/40199 [==============================] - 9s 212us/sample - loss: 0.0166 - acc: 0.9948 - val_loss: 0.1236 - val_acc: 0.9744\n",
      "Epoch 10/25\n",
      "40199/40199 [==============================] - 9s 216us/sample - loss: 0.0134 - acc: 0.9955 - val_loss: 0.1513 - val_acc: 0.9722\n",
      "Epoch 11/25\n",
      "40199/40199 [==============================] - 9s 213us/sample - loss: 0.0137 - acc: 0.9957 - val_loss: 0.1512 - val_acc: 0.9704\n",
      "Epoch 12/25\n",
      "40199/40199 [==============================] - 8s 208us/sample - loss: 0.0131 - acc: 0.9958 - val_loss: 0.1580 - val_acc: 0.9731\n",
      "Epoch 13/25\n",
      "40199/40199 [==============================] - 8s 211us/sample - loss: 0.0108 - acc: 0.9963 - val_loss: 0.1690 - val_acc: 0.9714\n",
      "Epoch 14/25\n",
      "40199/40199 [==============================] - 9s 217us/sample - loss: 0.0115 - acc: 0.9964 - val_loss: 0.1705 - val_acc: 0.9726\n",
      "Epoch 15/25\n",
      "40199/40199 [==============================] - 9s 212us/sample - loss: 0.0093 - acc: 0.9970 - val_loss: 0.1764 - val_acc: 0.9725\n",
      "Epoch 16/25\n",
      "40199/40199 [==============================] - 8s 211us/sample - loss: 0.0089 - acc: 0.9971 - val_loss: 0.1716 - val_acc: 0.9752\n",
      "Epoch 17/25\n",
      "40199/40199 [==============================] - 9s 213us/sample - loss: 0.0105 - acc: 0.9967 - val_loss: 0.1698 - val_acc: 0.9754\n",
      "Epoch 18/25\n",
      "40199/40199 [==============================] - 9s 213us/sample - loss: 0.0091 - acc: 0.9972 - val_loss: 0.2010 - val_acc: 0.9739\n",
      "Epoch 19/25\n",
      "40199/40199 [==============================] - 9s 212us/sample - loss: 0.0072 - acc: 0.9977 - val_loss: 0.1879 - val_acc: 0.9747\n",
      "Epoch 20/25\n",
      "40199/40199 [==============================] - 9s 213us/sample - loss: 0.0064 - acc: 0.9980 - val_loss: 0.2029 - val_acc: 0.9739\n",
      "Epoch 21/25\n",
      "40199/40199 [==============================] - 9s 213us/sample - loss: 0.0111 - acc: 0.9974 - val_loss: 0.2231 - val_acc: 0.9714\n",
      "Epoch 22/25\n",
      "40199/40199 [==============================] - 8s 210us/sample - loss: 0.0074 - acc: 0.9977 - val_loss: 0.2168 - val_acc: 0.9720\n",
      "Epoch 23/25\n",
      "40199/40199 [==============================] - 9s 214us/sample - loss: 0.0077 - acc: 0.9977 - val_loss: 0.2325 - val_acc: 0.9728\n",
      "Epoch 24/25\n",
      "40199/40199 [==============================] - 9s 218us/sample - loss: 0.0061 - acc: 0.9980 - val_loss: 0.2321 - val_acc: 0.9732\n",
      "Epoch 25/25\n",
      "40199/40199 [==============================] - 9s 212us/sample - loss: 0.0063 - acc: 0.9982 - val_loss: 0.2285 - val_acc: 0.9733\n"
     ]
    }
   ],
   "source": [
    "model= classifier_e25.fit(X_train, y_train, validation_split=0.33, epochs=25, batch_size=10)"
   ]
  },
  {
   "cell_type": "code",
   "execution_count": 149,
   "metadata": {},
   "outputs": [
    {
     "data": {
      "image/png": "[encoded data removed]",
      "text/plain": [
       "<Figure size 432x288 with 1 Axes>"
      ]
     },
     "metadata": {
      "needs_background": "light"
     },
     "output_type": "display_data"
    },
    {
     "data": {
      "image/png": "[encoded data removed]",
      "text/plain": [
       "<Figure size 432x288 with 1 Axes>"
      ]
     },
     "metadata": {
      "needs_background": "light"
     },
     "output_type": "display_data"
    }
   ],
   "source": [
    "#model= classifier_e25.fit(X_train, y_train, validation_split=0.33, epochs=10, batch_size=10)\n",
    "\n",
    "loss=list(model.history.values())[0]\n",
    "accuracy=list(model.history.values())[1]\n",
    "val_loss=list(model.history.values())[2]\n",
    "val_accuracy=list(model.history.values())[3]\n",
    "\n",
    "# summarize history for accuracy\n",
    "plt.plot(accuracy,color='orange', linewidth=5)\n",
    "plt.plot(val_accuracy)\n",
    "plt.title('model accuracy')\n",
    "plt.ylabel('accuracy')\n",
    "plt.xlabel('epoch')\n",
    "plt.legend(['train', 'test'], loc='upper left')\n",
    "plt.show()\n",
    "# summarize history for loss\n",
    "plt.plot(loss, color='red', linewidth=5)\n",
    "plt.plot(val_loss)\n",
    "plt.title('model loss')\n",
    "plt.ylabel('loss')\n",
    "plt.xlabel('epoch')\n",
    "plt.legend(['train', 'test'], loc='upper left')\n",
    "plt.show()"
   ]
  },
  {
   "cell_type": "markdown",
   "metadata": {},
   "source": [
    "## Air Quality Prediction Using Machine Learning ##"
   ]
  },
  {
   "cell_type": "code",
   "execution_count": 150,
   "metadata": {},
   "outputs": [],
   "source": [
    "import pandas as pd\n",
    "import numpy  as np"
   ]
  },
  {
   "cell_type": "code",
   "execution_count": 151,
   "metadata": {},
   "outputs": [],
   "source": [
    "import warnings\n",
    "warnings.filterwarnings(\"ignore\")"
   ]
  },
  {
   "cell_type": "code",
   "execution_count": 152,
   "metadata": {},
   "outputs": [
    {
     "data": {
      "text/html": [
       "<div>\n",
       "<style scoped>\n",
       "    .dataframe tbody tr th:only-of-type {\n",
       "        vertical-align: middle;\n",
       "    }\n",
       "\n",
       "    .dataframe tbody tr th {\n",
       "        vertical-align: top;\n",
       "    }\n",
       "\n",
       "    .dataframe thead th {\n",
       "        text-align: right;\n",
       "    }\n",
       "</style>\n",
       "<table border=\"1\" class=\"dataframe\">\n",
       "  <thead>\n",
       "    <tr style=\"text-align: right;\">\n",
       "      <th></th>\n",
       "      <th>StationId</th>\n",
       "      <th>Date</th>\n",
       "      <th>PM2.5</th>\n",
       "      <th>PM10</th>\n",
       "      <th>NO</th>\n",
       "      <th>NO2</th>\n",
       "      <th>NOx</th>\n",
       "      <th>NH3</th>\n",
       "      <th>CO</th>\n",
       "      <th>SO2</th>\n",
       "      <th>O3</th>\n",
       "      <th>Benzene</th>\n",
       "      <th>Toluene</th>\n",
       "      <th>Xylene</th>\n",
       "      <th>AQI</th>\n",
       "      <th>AQI_Bucket</th>\n",
       "    </tr>\n",
       "  </thead>\n",
       "  <tbody>\n",
       "    <tr>\n",
       "      <th>0</th>\n",
       "      <td>AP001</td>\n",
       "      <td>2017-11-24</td>\n",
       "      <td>71.36</td>\n",
       "      <td>115.75</td>\n",
       "      <td>1.75</td>\n",
       "      <td>20.65</td>\n",
       "      <td>12.40</td>\n",
       "      <td>12.19</td>\n",
       "      <td>0.10</td>\n",
       "      <td>10.76</td>\n",
       "      <td>109.26</td>\n",
       "      <td>0.17</td>\n",
       "      <td>5.92</td>\n",
       "      <td>0.10</td>\n",
       "      <td>NaN</td>\n",
       "      <td>NaN</td>\n",
       "    </tr>\n",
       "    <tr>\n",
       "      <th>1</th>\n",
       "      <td>AP001</td>\n",
       "      <td>2017-11-25</td>\n",
       "      <td>81.40</td>\n",
       "      <td>124.50</td>\n",
       "      <td>1.44</td>\n",
       "      <td>20.50</td>\n",
       "      <td>12.08</td>\n",
       "      <td>10.72</td>\n",
       "      <td>0.12</td>\n",
       "      <td>15.24</td>\n",
       "      <td>127.09</td>\n",
       "      <td>0.20</td>\n",
       "      <td>6.50</td>\n",
       "      <td>0.06</td>\n",
       "      <td>184.0</td>\n",
       "      <td>Moderate</td>\n",
       "    </tr>\n",
       "    <tr>\n",
       "      <th>2</th>\n",
       "      <td>AP001</td>\n",
       "      <td>2017-11-26</td>\n",
       "      <td>78.32</td>\n",
       "      <td>129.06</td>\n",
       "      <td>1.26</td>\n",
       "      <td>26.00</td>\n",
       "      <td>14.85</td>\n",
       "      <td>10.28</td>\n",
       "      <td>0.14</td>\n",
       "      <td>26.96</td>\n",
       "      <td>117.44</td>\n",
       "      <td>0.22</td>\n",
       "      <td>7.95</td>\n",
       "      <td>0.08</td>\n",
       "      <td>197.0</td>\n",
       "      <td>Moderate</td>\n",
       "    </tr>\n",
       "    <tr>\n",
       "      <th>3</th>\n",
       "      <td>AP001</td>\n",
       "      <td>2017-11-27</td>\n",
       "      <td>88.76</td>\n",
       "      <td>135.32</td>\n",
       "      <td>6.60</td>\n",
       "      <td>30.85</td>\n",
       "      <td>21.77</td>\n",
       "      <td>12.91</td>\n",
       "      <td>0.11</td>\n",
       "      <td>33.59</td>\n",
       "      <td>111.81</td>\n",
       "      <td>0.29</td>\n",
       "      <td>7.63</td>\n",
       "      <td>0.12</td>\n",
       "      <td>198.0</td>\n",
       "      <td>Moderate</td>\n",
       "    </tr>\n",
       "    <tr>\n",
       "      <th>4</th>\n",
       "      <td>AP001</td>\n",
       "      <td>2017-11-28</td>\n",
       "      <td>64.18</td>\n",
       "      <td>104.09</td>\n",
       "      <td>2.56</td>\n",
       "      <td>28.07</td>\n",
       "      <td>17.01</td>\n",
       "      <td>11.42</td>\n",
       "      <td>0.09</td>\n",
       "      <td>19.00</td>\n",
       "      <td>138.18</td>\n",
       "      <td>0.17</td>\n",
       "      <td>5.02</td>\n",
       "      <td>0.07</td>\n",
       "      <td>188.0</td>\n",
       "      <td>Moderate</td>\n",
       "    </tr>\n",
       "    <tr>\n",
       "      <th>...</th>\n",
       "      <td>...</td>\n",
       "      <td>...</td>\n",
       "      <td>...</td>\n",
       "      <td>...</td>\n",
       "      <td>...</td>\n",
       "      <td>...</td>\n",
       "      <td>...</td>\n",
       "      <td>...</td>\n",
       "      <td>...</td>\n",
       "      <td>...</td>\n",
       "      <td>...</td>\n",
       "      <td>...</td>\n",
       "      <td>...</td>\n",
       "      <td>...</td>\n",
       "      <td>...</td>\n",
       "      <td>...</td>\n",
       "    </tr>\n",
       "    <tr>\n",
       "      <th>108030</th>\n",
       "      <td>WB013</td>\n",
       "      <td>2020-06-27</td>\n",
       "      <td>8.65</td>\n",
       "      <td>16.46</td>\n",
       "      <td>NaN</td>\n",
       "      <td>NaN</td>\n",
       "      <td>NaN</td>\n",
       "      <td>NaN</td>\n",
       "      <td>0.69</td>\n",
       "      <td>4.36</td>\n",
       "      <td>30.59</td>\n",
       "      <td>1.32</td>\n",
       "      <td>7.26</td>\n",
       "      <td>NaN</td>\n",
       "      <td>50.0</td>\n",
       "      <td>Good</td>\n",
       "    </tr>\n",
       "    <tr>\n",
       "      <th>108031</th>\n",
       "      <td>WB013</td>\n",
       "      <td>2020-06-28</td>\n",
       "      <td>11.80</td>\n",
       "      <td>18.47</td>\n",
       "      <td>NaN</td>\n",
       "      <td>NaN</td>\n",
       "      <td>NaN</td>\n",
       "      <td>NaN</td>\n",
       "      <td>0.68</td>\n",
       "      <td>3.49</td>\n",
       "      <td>38.95</td>\n",
       "      <td>1.42</td>\n",
       "      <td>7.92</td>\n",
       "      <td>NaN</td>\n",
       "      <td>65.0</td>\n",
       "      <td>Satisfactory</td>\n",
       "    </tr>\n",
       "    <tr>\n",
       "      <th>108032</th>\n",
       "      <td>WB013</td>\n",
       "      <td>2020-06-29</td>\n",
       "      <td>18.60</td>\n",
       "      <td>32.26</td>\n",
       "      <td>13.65</td>\n",
       "      <td>200.87</td>\n",
       "      <td>214.20</td>\n",
       "      <td>11.40</td>\n",
       "      <td>0.78</td>\n",
       "      <td>5.12</td>\n",
       "      <td>38.17</td>\n",
       "      <td>3.52</td>\n",
       "      <td>8.64</td>\n",
       "      <td>NaN</td>\n",
       "      <td>63.0</td>\n",
       "      <td>Satisfactory</td>\n",
       "    </tr>\n",
       "    <tr>\n",
       "      <th>108033</th>\n",
       "      <td>WB013</td>\n",
       "      <td>2020-06-30</td>\n",
       "      <td>16.07</td>\n",
       "      <td>39.30</td>\n",
       "      <td>7.56</td>\n",
       "      <td>29.13</td>\n",
       "      <td>36.69</td>\n",
       "      <td>29.26</td>\n",
       "      <td>0.69</td>\n",
       "      <td>5.88</td>\n",
       "      <td>29.64</td>\n",
       "      <td>1.86</td>\n",
       "      <td>8.40</td>\n",
       "      <td>NaN</td>\n",
       "      <td>57.0</td>\n",
       "      <td>Satisfactory</td>\n",
       "    </tr>\n",
       "    <tr>\n",
       "      <th>108034</th>\n",
       "      <td>WB013</td>\n",
       "      <td>2020-07-01</td>\n",
       "      <td>10.50</td>\n",
       "      <td>36.50</td>\n",
       "      <td>7.78</td>\n",
       "      <td>22.50</td>\n",
       "      <td>30.25</td>\n",
       "      <td>27.23</td>\n",
       "      <td>0.58</td>\n",
       "      <td>2.80</td>\n",
       "      <td>13.10</td>\n",
       "      <td>1.31</td>\n",
       "      <td>7.39</td>\n",
       "      <td>NaN</td>\n",
       "      <td>59.0</td>\n",
       "      <td>Satisfactory</td>\n",
       "    </tr>\n",
       "  </tbody>\n",
       "</table>\n",
       "<p>108035 rows × 16 columns</p>\n",
       "</div>"
      ],
      "text/plain": [
       "       StationId        Date  PM2.5    PM10     NO     NO2     NOx    NH3  \\\n",
       "0          AP001  2017-11-24  71.36  115.75   1.75   20.65   12.40  12.19   \n",
       "1          AP001  2017-11-25  81.40  124.50   1.44   20.50   12.08  10.72   \n",
       "2          AP001  2017-11-26  78.32  129.06   1.26   26.00   14.85  10.28   \n",
       "3          AP001  2017-11-27  88.76  135.32   6.60   30.85   21.77  12.91   \n",
       "4          AP001  2017-11-28  64.18  104.09   2.56   28.07   17.01  11.42   \n",
       "...          ...         ...    ...     ...    ...     ...     ...    ...   \n",
       "108030     WB013  2020-06-27   8.65   16.46    NaN     NaN     NaN    NaN   \n",
       "108031     WB013  2020-06-28  11.80   18.47    NaN     NaN     NaN    NaN   \n",
       "108032     WB013  2020-06-29  18.60   32.26  13.65  200.87  214.20  11.40   \n",
       "108033     WB013  2020-06-30  16.07   39.30   7.56   29.13   36.69  29.26   \n",
       "108034     WB013  2020-07-01  10.50   36.50   7.78   22.50   30.25  27.23   \n",
       "\n",
       "          CO    SO2      O3  Benzene  Toluene  Xylene    AQI    AQI_Bucket  \n",
       "0       0.10  10.76  109.26     0.17     5.92    0.10    NaN           NaN  \n",
       "1       0.12  15.24  127.09     0.20     6.50    0.06  184.0      Moderate  \n",
       "2       0.14  26.96  117.44     0.22     7.95    0.08  197.0      Moderate  \n",
       "3       0.11  33.59  111.81     0.29     7.63    0.12  198.0      Moderate  \n",
       "4       0.09  19.00  138.18     0.17     5.02    0.07  188.0      Moderate  \n",
       "...      ...    ...     ...      ...      ...     ...    ...           ...  \n",
       "108030  0.69   4.36   30.59     1.32     7.26     NaN   50.0          Good  \n",
       "108031  0.68   3.49   38.95     1.42     7.92     NaN   65.0  Satisfactory  \n",
       "108032  0.78   5.12   38.17     3.52     8.64     NaN   63.0  Satisfactory  \n",
       "108033  0.69   5.88   29.64     1.86     8.40     NaN   57.0  Satisfactory  \n",
       "108034  0.58   2.80   13.10     1.31     7.39     NaN   59.0  Satisfactory  \n",
       "\n",
       "[108035 rows x 16 columns]"
      ]
     },
     "execution_count": 152,
     "metadata": {},
     "output_type": "execute_result"
    }
   ],
   "source": [
    "airdata=pd.read_csv('station_day.csv')\n",
    "airdata"
   ]
  },
  {
   "cell_type": "code",
   "execution_count": 153,
   "metadata": {},
   "outputs": [
    {
     "data": {
      "text/plain": [
       "(108035, 16)"
      ]
     },
     "execution_count": 153,
     "metadata": {},
     "output_type": "execute_result"
    }
   ],
   "source": [
    "airdata.shape\n"
   ]
  },
  {
   "cell_type": "markdown",
   "metadata": {},
   "source": [
    "Notice from the description of the data below, Each column has alot of missing data"
   ]
  },
  {
   "cell_type": "code",
   "execution_count": 154,
   "metadata": {
    "scrolled": true
   },
   "outputs": [
    {
     "data": {
      "text/html": [
       "<div>\n",
       "<style scoped>\n",
       "    .dataframe tbody tr th:only-of-type {\n",
       "        vertical-align: middle;\n",
       "    }\n",
       "\n",
       "    .dataframe tbody tr th {\n",
       "        vertical-align: top;\n",
       "    }\n",
       "\n",
       "    .dataframe thead th {\n",
       "        text-align: right;\n",
       "    }\n",
       "</style>\n",
       "<table border=\"1\" class=\"dataframe\">\n",
       "  <thead>\n",
       "    <tr style=\"text-align: right;\">\n",
       "      <th></th>\n",
       "      <th>PM2.5</th>\n",
       "      <th>PM10</th>\n",
       "      <th>NO</th>\n",
       "      <th>NO2</th>\n",
       "      <th>NOx</th>\n",
       "      <th>NH3</th>\n",
       "      <th>CO</th>\n",
       "      <th>SO2</th>\n",
       "      <th>O3</th>\n",
       "      <th>Benzene</th>\n",
       "      <th>Toluene</th>\n",
       "      <th>Xylene</th>\n",
       "      <th>AQI</th>\n",
       "    </tr>\n",
       "  </thead>\n",
       "  <tbody>\n",
       "    <tr>\n",
       "      <th>count</th>\n",
       "      <td>86410.000000</td>\n",
       "      <td>65329.000000</td>\n",
       "      <td>90929.000000</td>\n",
       "      <td>91488.000000</td>\n",
       "      <td>92535.000000</td>\n",
       "      <td>59930.000000</td>\n",
       "      <td>95037.000000</td>\n",
       "      <td>82831.000000</td>\n",
       "      <td>82467.000000</td>\n",
       "      <td>76580.000000</td>\n",
       "      <td>69333.000000</td>\n",
       "      <td>22898.000000</td>\n",
       "      <td>87025.000000</td>\n",
       "    </tr>\n",
       "    <tr>\n",
       "      <th>mean</th>\n",
       "      <td>80.272571</td>\n",
       "      <td>157.968427</td>\n",
       "      <td>23.123424</td>\n",
       "      <td>35.240760</td>\n",
       "      <td>41.195055</td>\n",
       "      <td>28.732875</td>\n",
       "      <td>1.605749</td>\n",
       "      <td>12.257634</td>\n",
       "      <td>38.134836</td>\n",
       "      <td>3.358029</td>\n",
       "      <td>15.345394</td>\n",
       "      <td>2.423446</td>\n",
       "      <td>179.749290</td>\n",
       "    </tr>\n",
       "    <tr>\n",
       "      <th>std</th>\n",
       "      <td>76.526403</td>\n",
       "      <td>123.418672</td>\n",
       "      <td>34.491019</td>\n",
       "      <td>29.510827</td>\n",
       "      <td>45.145976</td>\n",
       "      <td>24.897797</td>\n",
       "      <td>4.369578</td>\n",
       "      <td>12.984723</td>\n",
       "      <td>39.128004</td>\n",
       "      <td>11.156234</td>\n",
       "      <td>29.348587</td>\n",
       "      <td>6.472409</td>\n",
       "      <td>131.324339</td>\n",
       "    </tr>\n",
       "    <tr>\n",
       "      <th>min</th>\n",
       "      <td>0.020000</td>\n",
       "      <td>0.010000</td>\n",
       "      <td>0.010000</td>\n",
       "      <td>0.010000</td>\n",
       "      <td>0.000000</td>\n",
       "      <td>0.010000</td>\n",
       "      <td>0.000000</td>\n",
       "      <td>0.010000</td>\n",
       "      <td>0.010000</td>\n",
       "      <td>0.000000</td>\n",
       "      <td>0.000000</td>\n",
       "      <td>0.000000</td>\n",
       "      <td>8.000000</td>\n",
       "    </tr>\n",
       "    <tr>\n",
       "      <th>25%</th>\n",
       "      <td>31.880000</td>\n",
       "      <td>70.150000</td>\n",
       "      <td>4.840000</td>\n",
       "      <td>15.090000</td>\n",
       "      <td>13.970000</td>\n",
       "      <td>11.900000</td>\n",
       "      <td>0.530000</td>\n",
       "      <td>5.040000</td>\n",
       "      <td>18.895000</td>\n",
       "      <td>0.160000</td>\n",
       "      <td>0.690000</td>\n",
       "      <td>0.000000</td>\n",
       "      <td>86.000000</td>\n",
       "    </tr>\n",
       "    <tr>\n",
       "      <th>50%</th>\n",
       "      <td>55.950000</td>\n",
       "      <td>122.090000</td>\n",
       "      <td>10.290000</td>\n",
       "      <td>27.210000</td>\n",
       "      <td>26.660000</td>\n",
       "      <td>23.590000</td>\n",
       "      <td>0.910000</td>\n",
       "      <td>8.950000</td>\n",
       "      <td>30.840000</td>\n",
       "      <td>1.210000</td>\n",
       "      <td>4.330000</td>\n",
       "      <td>0.400000</td>\n",
       "      <td>132.000000</td>\n",
       "    </tr>\n",
       "    <tr>\n",
       "      <th>75%</th>\n",
       "      <td>99.920000</td>\n",
       "      <td>208.670000</td>\n",
       "      <td>24.980000</td>\n",
       "      <td>46.930000</td>\n",
       "      <td>50.500000</td>\n",
       "      <td>38.137500</td>\n",
       "      <td>1.450000</td>\n",
       "      <td>14.920000</td>\n",
       "      <td>47.140000</td>\n",
       "      <td>3.610000</td>\n",
       "      <td>17.510000</td>\n",
       "      <td>2.110000</td>\n",
       "      <td>254.000000</td>\n",
       "    </tr>\n",
       "    <tr>\n",
       "      <th>max</th>\n",
       "      <td>1000.000000</td>\n",
       "      <td>1000.000000</td>\n",
       "      <td>470.000000</td>\n",
       "      <td>448.050000</td>\n",
       "      <td>467.630000</td>\n",
       "      <td>418.900000</td>\n",
       "      <td>175.810000</td>\n",
       "      <td>195.650000</td>\n",
       "      <td>963.000000</td>\n",
       "      <td>455.030000</td>\n",
       "      <td>454.850000</td>\n",
       "      <td>170.370000</td>\n",
       "      <td>2049.000000</td>\n",
       "    </tr>\n",
       "  </tbody>\n",
       "</table>\n",
       "</div>"
      ],
      "text/plain": [
       "              PM2.5          PM10            NO           NO2           NOx  \\\n",
       "count  86410.000000  65329.000000  90929.000000  91488.000000  92535.000000   \n",
       "mean      80.272571    157.968427     23.123424     35.240760     41.195055   \n",
       "std       76.526403    123.418672     34.491019     29.510827     45.145976   \n",
       "min        0.020000      0.010000      0.010000      0.010000      0.000000   \n",
       "25%       31.880000     70.150000      4.840000     15.090000     13.970000   \n",
       "50%       55.950000    122.090000     10.290000     27.210000     26.660000   \n",
       "75%       99.920000    208.670000     24.980000     46.930000     50.500000   \n",
       "max     1000.000000   1000.000000    470.000000    448.050000    467.630000   \n",
       "\n",
       "                NH3            CO           SO2            O3       Benzene  \\\n",
       "count  59930.000000  95037.000000  82831.000000  82467.000000  76580.000000   \n",
       "mean      28.732875      1.605749     12.257634     38.134836      3.358029   \n",
       "std       24.897797      4.369578     12.984723     39.128004     11.156234   \n",
       "min        0.010000      0.000000      0.010000      0.010000      0.000000   \n",
       "25%       11.900000      0.530000      5.040000     18.895000      0.160000   \n",
       "50%       23.590000      0.910000      8.950000     30.840000      1.210000   \n",
       "75%       38.137500      1.450000     14.920000     47.140000      3.610000   \n",
       "max      418.900000    175.810000    195.650000    963.000000    455.030000   \n",
       "\n",
       "            Toluene        Xylene           AQI  \n",
       "count  69333.000000  22898.000000  87025.000000  \n",
       "mean      15.345394      2.423446    179.749290  \n",
       "std       29.348587      6.472409    131.324339  \n",
       "min        0.000000      0.000000      8.000000  \n",
       "25%        0.690000      0.000000     86.000000  \n",
       "50%        4.330000      0.400000    132.000000  \n",
       "75%       17.510000      2.110000    254.000000  \n",
       "max      454.850000    170.370000   2049.000000  "
      ]
     },
     "execution_count": 154,
     "metadata": {},
     "output_type": "execute_result"
    }
   ],
   "source": [
    "airdata.describe()"
   ]
  },
  {
   "cell_type": "markdown",
   "metadata": {},
   "source": [
    "Now have created a new data set, by deleting rows with missing values."
   ]
  },
  {
   "cell_type": "code",
   "execution_count": 155,
   "metadata": {},
   "outputs": [
    {
     "data": {
      "text/plain": [
       "(10314, 16)"
      ]
     },
     "execution_count": 155,
     "metadata": {},
     "output_type": "execute_result"
    }
   ],
   "source": [
    "data = airdata.dropna(axis = 0, how ='any')  \n",
    "data.shape "
   ]
  },
  {
   "cell_type": "code",
   "execution_count": 156,
   "metadata": {},
   "outputs": [
    {
     "data": {
      "text/plain": [
       "Index(['StationId', 'Date', 'PM2.5', 'PM10', 'NO', 'NO2', 'NOx', 'NH3', 'CO',\n",
       "       'SO2', 'O3', 'Benzene', 'Toluene', 'Xylene', 'AQI', 'AQI_Bucket'],\n",
       "      dtype='object')"
      ]
     },
     "execution_count": 156,
     "metadata": {},
     "output_type": "execute_result"
    }
   ],
   "source": [
    "data.columns"
   ]
  },
  {
   "cell_type": "code",
   "execution_count": 157,
   "metadata": {},
   "outputs": [
    {
     "name": "stdout",
     "output_type": "stream",
     "text": [
      "<class 'pandas.core.frame.DataFrame'>\n",
      "Int64Index: 10314 entries, 1 to 106147\n",
      "Data columns (total 16 columns):\n",
      " #   Column      Non-Null Count  Dtype  \n",
      "---  ------      --------------  -----  \n",
      " 0   StationId   10314 non-null  object \n",
      " 1   Date        10314 non-null  object \n",
      " 2   PM2.5       10314 non-null  float64\n",
      " 3   PM10        10314 non-null  float64\n",
      " 4   NO          10314 non-null  float64\n",
      " 5   NO2         10314 non-null  float64\n",
      " 6   NOx         10314 non-null  float64\n",
      " 7   NH3         10314 non-null  float64\n",
      " 8   CO          10314 non-null  float64\n",
      " 9   SO2         10314 non-null  float64\n",
      " 10  O3          10314 non-null  float64\n",
      " 11  Benzene     10314 non-null  float64\n",
      " 12  Toluene     10314 non-null  float64\n",
      " 13  Xylene      10314 non-null  float64\n",
      " 14  AQI         10314 non-null  float64\n",
      " 15  AQI_Bucket  10314 non-null  object \n",
      "dtypes: float64(13), object(3)\n",
      "memory usage: 1.3+ MB\n"
     ]
    }
   ],
   "source": [
    "data.info()"
   ]
  },
  {
   "cell_type": "code",
   "execution_count": 158,
   "metadata": {},
   "outputs": [
    {
     "data": {
      "text/plain": [
       "array(['Moderate', 'Poor', 'Very Poor', 'Satisfactory', 'Good', 'Severe'],\n",
       "      dtype=object)"
      ]
     },
     "execution_count": 158,
     "metadata": {},
     "output_type": "execute_result"
    }
   ],
   "source": [
    "data.AQI_Bucket.unique()"
   ]
  },
  {
   "cell_type": "code",
   "execution_count": 159,
   "metadata": {},
   "outputs": [
    {
     "name": "stdout",
     "output_type": "stream",
     "text": [
      "0.01\n",
      "254.78\n"
     ]
    }
   ],
   "source": [
    "print(data.NO2.min())\n",
    "print(data.NO2.max())"
   ]
  },
  {
   "cell_type": "code",
   "execution_count": 160,
   "metadata": {},
   "outputs": [
    {
     "data": {
      "text/html": [
       "<div>\n",
       "<style scoped>\n",
       "    .dataframe tbody tr th:only-of-type {\n",
       "        vertical-align: middle;\n",
       "    }\n",
       "\n",
       "    .dataframe tbody tr th {\n",
       "        vertical-align: top;\n",
       "    }\n",
       "\n",
       "    .dataframe thead th {\n",
       "        text-align: right;\n",
       "    }\n",
       "</style>\n",
       "<table border=\"1\" class=\"dataframe\">\n",
       "  <thead>\n",
       "    <tr style=\"text-align: right;\">\n",
       "      <th></th>\n",
       "      <th>counts</th>\n",
       "      <th>freqs</th>\n",
       "    </tr>\n",
       "    <tr>\n",
       "      <th>categories</th>\n",
       "      <th></th>\n",
       "      <th></th>\n",
       "    </tr>\n",
       "  </thead>\n",
       "  <tbody>\n",
       "    <tr>\n",
       "      <th>Good</th>\n",
       "      <td>1073</td>\n",
       "      <td>0.104033</td>\n",
       "    </tr>\n",
       "    <tr>\n",
       "      <th>Moderate</th>\n",
       "      <td>4402</td>\n",
       "      <td>0.426799</td>\n",
       "    </tr>\n",
       "    <tr>\n",
       "      <th>Poor</th>\n",
       "      <td>610</td>\n",
       "      <td>0.059143</td>\n",
       "    </tr>\n",
       "    <tr>\n",
       "      <th>Satisfactory</th>\n",
       "      <td>3730</td>\n",
       "      <td>0.361644</td>\n",
       "    </tr>\n",
       "    <tr>\n",
       "      <th>Severe</th>\n",
       "      <td>100</td>\n",
       "      <td>0.009696</td>\n",
       "    </tr>\n",
       "    <tr>\n",
       "      <th>Very Poor</th>\n",
       "      <td>399</td>\n",
       "      <td>0.038685</td>\n",
       "    </tr>\n",
       "  </tbody>\n",
       "</table>\n",
       "</div>"
      ],
      "text/plain": [
       "              counts     freqs\n",
       "categories                    \n",
       "Good            1073  0.104033\n",
       "Moderate        4402  0.426799\n",
       "Poor             610  0.059143\n",
       "Satisfactory    3730  0.361644\n",
       "Severe           100  0.009696\n",
       "Very Poor        399  0.038685"
      ]
     },
     "execution_count": 160,
     "metadata": {},
     "output_type": "execute_result"
    }
   ],
   "source": [
    "pd.Categorical(data['AQI_Bucket']).describe()"
   ]
  },
  {
   "cell_type": "code",
   "execution_count": 161,
   "metadata": {},
   "outputs": [
    {
     "data": {
      "text/plain": [
       "Index(['StationId', 'Date', 'PM2.5', 'PM10', 'NO', 'NO2', 'NOx', 'NH3', 'CO',\n",
       "       'SO2', 'O3', 'Benzene', 'Toluene', 'Xylene', 'AQI', 'AQI_Bucket'],\n",
       "      dtype='object')"
      ]
     },
     "execution_count": 161,
     "metadata": {},
     "output_type": "execute_result"
    }
   ],
   "source": [
    "data.columns"
   ]
  },
  {
   "cell_type": "code",
   "execution_count": 162,
   "metadata": {},
   "outputs": [
    {
     "data": {
      "text/plain": [
       "<function matplotlib.pyplot.show(close=None, block=None)>"
      ]
     },
     "execution_count": 162,
     "metadata": {},
     "output_type": "execute_result"
    },
    {
     "data": {
      "image/png": "[encoded data removed]",
      "text/plain": [
       "<Figure size 1152x720 with 1 Axes>"
      ]
     },
     "metadata": {
      "needs_background": "light"
     },
     "output_type": "display_data"
    }
   ],
   "source": [
    "import matplotlib.pyplot as plt\n",
    "import seaborn as s\n",
    "\n",
    "fig,ax=plt.subplots(figsize=(16,10))\n",
    "ax=s.barplot(x='AQI_Bucket',y='PM2.5', data=data)\n",
    "plt.show"
   ]
  },
  {
   "cell_type": "code",
   "execution_count": 163,
   "metadata": {},
   "outputs": [
    {
     "data": {
      "text/plain": [
       "<function matplotlib.pyplot.show(close=None, block=None)>"
      ]
     },
     "execution_count": 163,
     "metadata": {},
     "output_type": "execute_result"
    },
    {
     "data": {
      "image/png": "[encoded data removed]",
      "text/plain": [
       "<Figure size 1152x720 with 1 Axes>"
      ]
     },
     "metadata": {
      "needs_background": "light"
     },
     "output_type": "display_data"
    }
   ],
   "source": [
    "import matplotlib.pyplot as plt\n",
    "import seaborn as s\n",
    "\n",
    "fig,ax=plt.subplots(figsize=(16,10))\n",
    "ax=s.barplot(x='AQI_Bucket',y='NO2', data=data)\n",
    "plt.show"
   ]
  },
  {
   "cell_type": "code",
   "execution_count": 1,
   "metadata": {},
   "outputs": [],
   "source": [
    "#Heatmap plot Diagram\n",
    "#fig,ax=plt.subplots(figsize=(16,10))\n",
    "#s.heatmap(data.corr(),ax=ax, annot=True)\n"
   ]
  },
  {
   "cell_type": "markdown",
   "metadata": {},
   "source": [
    "## CHECKING AIR QUALITY INDEX USING DECISION TREE ##"
   ]
  },
  {
   "cell_type": "code",
   "execution_count": 165,
   "metadata": {},
   "outputs": [
    {
     "data": {
      "text/html": [
       "<div>\n",
       "<style scoped>\n",
       "    .dataframe tbody tr th:only-of-type {\n",
       "        vertical-align: middle;\n",
       "    }\n",
       "\n",
       "    .dataframe tbody tr th {\n",
       "        vertical-align: top;\n",
       "    }\n",
       "\n",
       "    .dataframe thead th {\n",
       "        text-align: right;\n",
       "    }\n",
       "</style>\n",
       "<table border=\"1\" class=\"dataframe\">\n",
       "  <thead>\n",
       "    <tr style=\"text-align: right;\">\n",
       "      <th></th>\n",
       "      <th>PM2.5</th>\n",
       "      <th>PM10</th>\n",
       "      <th>NO</th>\n",
       "      <th>NO2</th>\n",
       "      <th>NOx</th>\n",
       "      <th>NH3</th>\n",
       "      <th>CO</th>\n",
       "      <th>SO2</th>\n",
       "      <th>O3</th>\n",
       "      <th>Benzene</th>\n",
       "      <th>Toluene</th>\n",
       "      <th>Xylene</th>\n",
       "      <th>AQI</th>\n",
       "      <th>AQI_Bucket</th>\n",
       "    </tr>\n",
       "  </thead>\n",
       "  <tbody>\n",
       "    <tr>\n",
       "      <th>1</th>\n",
       "      <td>81.40</td>\n",
       "      <td>124.50</td>\n",
       "      <td>1.44</td>\n",
       "      <td>20.50</td>\n",
       "      <td>12.08</td>\n",
       "      <td>10.72</td>\n",
       "      <td>0.12</td>\n",
       "      <td>15.24</td>\n",
       "      <td>127.09</td>\n",
       "      <td>0.20</td>\n",
       "      <td>6.50</td>\n",
       "      <td>0.06</td>\n",
       "      <td>184.0</td>\n",
       "      <td>Moderate</td>\n",
       "    </tr>\n",
       "    <tr>\n",
       "      <th>2</th>\n",
       "      <td>78.32</td>\n",
       "      <td>129.06</td>\n",
       "      <td>1.26</td>\n",
       "      <td>26.00</td>\n",
       "      <td>14.85</td>\n",
       "      <td>10.28</td>\n",
       "      <td>0.14</td>\n",
       "      <td>26.96</td>\n",
       "      <td>117.44</td>\n",
       "      <td>0.22</td>\n",
       "      <td>7.95</td>\n",
       "      <td>0.08</td>\n",
       "      <td>197.0</td>\n",
       "      <td>Moderate</td>\n",
       "    </tr>\n",
       "    <tr>\n",
       "      <th>3</th>\n",
       "      <td>88.76</td>\n",
       "      <td>135.32</td>\n",
       "      <td>6.60</td>\n",
       "      <td>30.85</td>\n",
       "      <td>21.77</td>\n",
       "      <td>12.91</td>\n",
       "      <td>0.11</td>\n",
       "      <td>33.59</td>\n",
       "      <td>111.81</td>\n",
       "      <td>0.29</td>\n",
       "      <td>7.63</td>\n",
       "      <td>0.12</td>\n",
       "      <td>198.0</td>\n",
       "      <td>Moderate</td>\n",
       "    </tr>\n",
       "    <tr>\n",
       "      <th>4</th>\n",
       "      <td>64.18</td>\n",
       "      <td>104.09</td>\n",
       "      <td>2.56</td>\n",
       "      <td>28.07</td>\n",
       "      <td>17.01</td>\n",
       "      <td>11.42</td>\n",
       "      <td>0.09</td>\n",
       "      <td>19.00</td>\n",
       "      <td>138.18</td>\n",
       "      <td>0.17</td>\n",
       "      <td>5.02</td>\n",
       "      <td>0.07</td>\n",
       "      <td>188.0</td>\n",
       "      <td>Moderate</td>\n",
       "    </tr>\n",
       "    <tr>\n",
       "      <th>5</th>\n",
       "      <td>72.47</td>\n",
       "      <td>114.84</td>\n",
       "      <td>5.23</td>\n",
       "      <td>23.20</td>\n",
       "      <td>16.59</td>\n",
       "      <td>12.25</td>\n",
       "      <td>0.16</td>\n",
       "      <td>10.55</td>\n",
       "      <td>109.74</td>\n",
       "      <td>0.21</td>\n",
       "      <td>4.71</td>\n",
       "      <td>0.08</td>\n",
       "      <td>173.0</td>\n",
       "      <td>Moderate</td>\n",
       "    </tr>\n",
       "  </tbody>\n",
       "</table>\n",
       "</div>"
      ],
      "text/plain": [
       "   PM2.5    PM10    NO    NO2    NOx    NH3    CO    SO2      O3  Benzene  \\\n",
       "1  81.40  124.50  1.44  20.50  12.08  10.72  0.12  15.24  127.09     0.20   \n",
       "2  78.32  129.06  1.26  26.00  14.85  10.28  0.14  26.96  117.44     0.22   \n",
       "3  88.76  135.32  6.60  30.85  21.77  12.91  0.11  33.59  111.81     0.29   \n",
       "4  64.18  104.09  2.56  28.07  17.01  11.42  0.09  19.00  138.18     0.17   \n",
       "5  72.47  114.84  5.23  23.20  16.59  12.25  0.16  10.55  109.74     0.21   \n",
       "\n",
       "   Toluene  Xylene    AQI AQI_Bucket  \n",
       "1     6.50    0.06  184.0   Moderate  \n",
       "2     7.95    0.08  197.0   Moderate  \n",
       "3     7.63    0.12  198.0   Moderate  \n",
       "4     5.02    0.07  188.0   Moderate  \n",
       "5     4.71    0.08  173.0   Moderate  "
      ]
     },
     "execution_count": 165,
     "metadata": {},
     "output_type": "execute_result"
    }
   ],
   "source": [
    "#Importing useful libraries\n",
    "import pandas as pd\n",
    "#import numpy as np\n",
    "import sklearn\n",
    "from sklearn import linear_model\n",
    "from sklearn.utils import shuffle\n",
    "from sklearn.tree import DecisionTreeClassifier\n",
    "from sklearn.model_selection import train_test_split\n",
    "from sklearn.metrics import accuracy_score\n",
    "from sklearn import tree\n",
    "\n",
    "airdata=pd.read_csv('station_day.csv')\n",
    "\n",
    "\n",
    "New_data=data.iloc[:,[2,3,4,5,6,7,8,9,10,11,12,13,14,15]]\n",
    "\n",
    "New_data.head()"
   ]
  },
  {
   "cell_type": "code",
   "execution_count": 166,
   "metadata": {},
   "outputs": [
    {
     "data": {
      "text/plain": [
       "1.0"
      ]
     },
     "execution_count": 166,
     "metadata": {},
     "output_type": "execute_result"
    }
   ],
   "source": [
    "mydata=New_data\n",
    "X=mydata.drop(columns='AQI_Bucket')\n",
    "y=mydata['AQI_Bucket']\n",
    "\n",
    "X_train,X_test,y_train,y_test=train_test_split(X,y,test_size=0.2)\n",
    "\n",
    "model=DecisionTreeClassifier()\n",
    "model.fit(X_train,y_train)\n",
    "\n",
    "predictions=model.predict(X_test)\n",
    "\n",
    "A=[[y_test],[predictions]]\n",
    "score=accuracy_score(y_test,predictions)\n",
    "\n",
    "#tree.export_graphviz(model,out_file='music_recommender.dot',feature_names=['age','sex'],class_names=sorted(y.unique()),label='all',rounded=True,filled=True)\n",
    "score"
   ]
  },
  {
   "cell_type": "markdown",
   "metadata": {},
   "source": [
    "## DEEP LEARNING ALGORITHM FOR PREDICTING THE AIR QUALITY ##"
   ]
  },
  {
   "cell_type": "code",
   "execution_count": 167,
   "metadata": {},
   "outputs": [
    {
     "name": "stdout",
     "output_type": "stream",
     "text": [
      "Model: \"sequential_8\"\n",
      "_________________________________________________________________\n",
      "Layer (type)                 Output Shape              Param #   \n",
      "=================================================================\n",
      "dense_18 (Dense)             (None, 13)                182       \n",
      "_________________________________________________________________\n",
      "dense_19 (Dense)             (None, 13)                182       \n",
      "=================================================================\n",
      "Total params: 364\n",
      "Trainable params: 364\n",
      "Non-trainable params: 0\n",
      "_________________________________________________________________\n"
     ]
    }
   ],
   "source": [
    "#Importing useful libraries\n",
    "import pandas as pd\n",
    "#import numpy as np\n",
    "import sklearn\n",
    "from sklearn import linear_model\n",
    "from sklearn.utils import shuffle\n",
    "from sklearn.tree import DecisionTreeClassifier\n",
    "from sklearn.model_selection import train_test_split\n",
    "from sklearn.metrics import accuracy_score\n",
    "from sklearn import tree\n",
    "\n",
    "airdata=pd.read_csv('station_day.csv')\n",
    "\n",
    "\n",
    "New_data=data.iloc[:,[2,3,4,5,6,7,8,9,10,11,12,13,14,15]]\n",
    "\n",
    "dataset=New_data\n",
    "\n",
    "from sklearn.impute import SimpleImputer\n",
    "\n",
    "imputer = SimpleImputer(missing_values= np.nan, strategy= 'mean')\n",
    "\n",
    "imputer = imputer.fit(dataset.iloc[:, 0:13])\n",
    "X= imputer.transform(dataset.iloc[:, 0:13])\n",
    "\n",
    "y=list(dataset.iloc[:,13])\n",
    "\n",
    "from sklearn.preprocessing import LabelEncoder\n",
    "encoder=LabelEncoder\n",
    "#y1=encoder.fit_transform(y)\n",
    "Y=pd.get_dummies(y)\n",
    "for i in range(len(y)) :\n",
    "    if(y[i]=='Very Poor'):\n",
    "        y[i]=1\n",
    "    elif (y[i]=='Poor'):\n",
    "        y[i]=2\n",
    "    elif (y[i]=='Moderate'):\n",
    "        y[i]=3\n",
    "    elif (y[i]=='Satisfactory'):\n",
    "        y[i]=4\n",
    "    elif (y[i]=='Good'):\n",
    "        y[i]=5\n",
    "    else:\n",
    "        y[i]=6\n",
    "\n",
    "\n",
    "\n",
    "\n",
    "\n",
    "#initializing CNN model\n",
    "classifier_e25 = Sequential()\n",
    "#add 1st hidden layer\n",
    "classifier_e25.add(Dense(input_dim = 13, units = 13, kernel_initializer='uniform', activation='relu'))\n",
    "#add output layer\n",
    "classifier_e25.add(Dense(units = 13, kernel_initializer='uniform', activation='softmax'))\n",
    "#compile the neural network\n",
    "classifier_e25.compile(optimizer='adam', loss='sparse_categorical_crossentropy', metrics=['accuracy'])\n",
    "#model summary\n",
    "classifier_e25.summary()"
   ]
  },
  {
   "cell_type": "code",
   "execution_count": 168,
   "metadata": {},
   "outputs": [
    {
     "name": "stdout",
     "output_type": "stream",
     "text": [
      "Train on 6910 samples, validate on 3404 samples\n",
      "Epoch 1/100\n",
      "6910/6910 [==============================] - 1s 163us/sample - loss: 1.1402 - acc: 0.5401 - val_loss: 1.0592 - val_acc: 0.5076\n",
      "Epoch 2/100\n",
      "6910/6910 [==============================] - 1s 165us/sample - loss: 0.8598 - acc: 0.6253 - val_loss: 1.0988 - val_acc: 0.5308\n",
      "Epoch 3/100\n",
      "6910/6910 [==============================] - 1s 133us/sample - loss: 0.7840 - acc: 0.6677 - val_loss: 0.9924 - val_acc: 0.6266\n",
      "Epoch 4/100\n",
      "6910/6910 [==============================] - 1s 132us/sample - loss: 0.7170 - acc: 0.7133 - val_loss: 0.9615 - val_acc: 0.7045\n",
      "Epoch 5/100\n",
      "6910/6910 [==============================] - 1s 133us/sample - loss: 0.6532 - acc: 0.7499 - val_loss: 0.8814 - val_acc: 0.7115\n",
      "Epoch 6/100\n",
      "6910/6910 [==============================] - 1s 133us/sample - loss: 0.5945 - acc: 0.7832 - val_loss: 0.8670 - val_acc: 0.7206\n",
      "Epoch 7/100\n",
      "6910/6910 [==============================] - 1s 144us/sample - loss: 0.5349 - acc: 0.8127 - val_loss: 0.7805 - val_acc: 0.7938\n",
      "Epoch 8/100\n",
      "6910/6910 [==============================] - 1s 135us/sample - loss: 0.4835 - acc: 0.8285 - val_loss: 0.7018 - val_acc: 0.8237\n",
      "Epoch 9/100\n",
      "6910/6910 [==============================] - 1s 134us/sample - loss: 0.4411 - acc: 0.8492 - val_loss: 0.7508 - val_acc: 0.8314\n",
      "Epoch 10/100\n",
      "6910/6910 [==============================] - 1s 132us/sample - loss: 0.4031 - acc: 0.8630 - val_loss: 0.6568 - val_acc: 0.8273\n",
      "Epoch 11/100\n",
      "6910/6910 [==============================] - 1s 132us/sample - loss: 0.3774 - acc: 0.8650 - val_loss: 0.6794 - val_acc: 0.8543\n",
      "Epoch 12/100\n",
      "6910/6910 [==============================] - 1s 134us/sample - loss: 0.3492 - acc: 0.8771 - val_loss: 0.5850 - val_acc: 0.8422\n",
      "Epoch 13/100\n",
      "6910/6910 [==============================] - 1s 147us/sample - loss: 0.3288 - acc: 0.8839 - val_loss: 0.5227 - val_acc: 0.8831\n",
      "Epoch 14/100\n",
      "6910/6910 [==============================] - 1s 134us/sample - loss: 0.3115 - acc: 0.8983 - val_loss: 0.5619 - val_acc: 0.8546\n",
      "Epoch 15/100\n",
      "6910/6910 [==============================] - 1s 131us/sample - loss: 0.2983 - acc: 0.8952 - val_loss: 0.5105 - val_acc: 0.8687\n",
      "Epoch 16/100\n",
      "6910/6910 [==============================] - 1s 131us/sample - loss: 0.2829 - acc: 0.8991 - val_loss: 0.5356 - val_acc: 0.8505\n",
      "Epoch 17/100\n",
      "6910/6910 [==============================] - 1s 140us/sample - loss: 0.2671 - acc: 0.9091 - val_loss: 0.4559 - val_acc: 0.8916\n",
      "Epoch 18/100\n",
      "6910/6910 [==============================] - 1s 152us/sample - loss: 0.2587 - acc: 0.9109 - val_loss: 0.4935 - val_acc: 0.8904\n",
      "Epoch 19/100\n",
      "6910/6910 [==============================] - 1s 135us/sample - loss: 0.2528 - acc: 0.9116 - val_loss: 0.4668 - val_acc: 0.9130\n",
      "Epoch 20/100\n",
      "6910/6910 [==============================] - 1s 138us/sample - loss: 0.2435 - acc: 0.9107 - val_loss: 0.3956 - val_acc: 0.8848\n",
      "Epoch 21/100\n",
      "6910/6910 [==============================] - 1s 131us/sample - loss: 0.2335 - acc: 0.9208 - val_loss: 0.3779 - val_acc: 0.9227\n",
      "Epoch 22/100\n",
      "6910/6910 [==============================] - 1s 132us/sample - loss: 0.2276 - acc: 0.9185 - val_loss: 0.4221 - val_acc: 0.8751\n",
      "Epoch 23/100\n",
      "6910/6910 [==============================] - 1s 141us/sample - loss: 0.2251 - acc: 0.9182 - val_loss: 0.3602 - val_acc: 0.9036\n",
      "Epoch 24/100\n",
      "6910/6910 [==============================] - 1s 138us/sample - loss: 0.2163 - acc: 0.9205 - val_loss: 0.3236 - val_acc: 0.9145\n",
      "Epoch 25/100\n",
      "6910/6910 [==============================] - 1s 133us/sample - loss: 0.2109 - acc: 0.9256 - val_loss: 0.4417 - val_acc: 0.9145\n",
      "Epoch 26/100\n",
      "6910/6910 [==============================] - 1s 131us/sample - loss: 0.2079 - acc: 0.9229 - val_loss: 0.3264 - val_acc: 0.9119\n",
      "Epoch 27/100\n",
      "6910/6910 [==============================] - 1s 150us/sample - loss: 0.2012 - acc: 0.9245 - val_loss: 0.3711 - val_acc: 0.9142\n",
      "Epoch 28/100\n",
      "6910/6910 [==============================] - 1s 148us/sample - loss: 0.2000 - acc: 0.9278 - val_loss: 0.3139 - val_acc: 0.9160\n",
      "Epoch 29/100\n",
      "6910/6910 [==============================] - 1s 165us/sample - loss: 0.1925 - acc: 0.9275 - val_loss: 0.3230 - val_acc: 0.9239\n",
      "Epoch 30/100\n",
      "6910/6910 [==============================] - 1s 143us/sample - loss: 0.1898 - acc: 0.9317 - val_loss: 0.3615 - val_acc: 0.9069\n",
      "Epoch 31/100\n",
      "6910/6910 [==============================] - 1s 143us/sample - loss: 0.1830 - acc: 0.9333 - val_loss: 0.3222 - val_acc: 0.9051\n",
      "Epoch 32/100\n",
      "6910/6910 [==============================] - 1s 152us/sample - loss: 0.1867 - acc: 0.9330 - val_loss: 0.2783 - val_acc: 0.9345\n",
      "Epoch 33/100\n",
      "6910/6910 [==============================] - 1s 161us/sample - loss: 0.1751 - acc: 0.9407 - val_loss: 0.2893 - val_acc: 0.9266\n",
      "Epoch 34/100\n",
      "6910/6910 [==============================] - 1s 150us/sample - loss: 0.1812 - acc: 0.9313 - val_loss: 0.3349 - val_acc: 0.9260\n",
      "Epoch 35/100\n",
      "6910/6910 [==============================] - 1s 153us/sample - loss: 0.1754 - acc: 0.9399 - val_loss: 0.2721 - val_acc: 0.9166\n",
      "Epoch 36/100\n",
      "6910/6910 [==============================] - 1s 162us/sample - loss: 0.1750 - acc: 0.9311 - val_loss: 0.3339 - val_acc: 0.9104\n",
      "Epoch 37/100\n",
      "6910/6910 [==============================] - 1s 141us/sample - loss: 0.1790 - acc: 0.9305 - val_loss: 0.2514 - val_acc: 0.9365\n",
      "Epoch 38/100\n",
      "6910/6910 [==============================] - 1s 179us/sample - loss: 0.1656 - acc: 0.9370 - val_loss: 0.2571 - val_acc: 0.9239\n",
      "Epoch 39/100\n",
      "6910/6910 [==============================] - 1s 144us/sample - loss: 0.1665 - acc: 0.9382 - val_loss: 0.2390 - val_acc: 0.9183\n",
      "Epoch 40/100\n",
      "6910/6910 [==============================] - 1s 141us/sample - loss: 0.1559 - acc: 0.9436 - val_loss: 0.3249 - val_acc: 0.8722\n",
      "Epoch 41/100\n",
      "6910/6910 [==============================] - 1s 139us/sample - loss: 0.1653 - acc: 0.9370 - val_loss: 0.2584 - val_acc: 0.9239\n",
      "Epoch 42/100\n",
      "6910/6910 [==============================] - 1s 140us/sample - loss: 0.1551 - acc: 0.9444 - val_loss: 0.2866 - val_acc: 0.9213\n",
      "Epoch 43/100\n",
      "6910/6910 [==============================] - 1s 145us/sample - loss: 0.1591 - acc: 0.9365 - val_loss: 0.2327 - val_acc: 0.9321\n",
      "Epoch 44/100\n",
      "6910/6910 [==============================] - 1s 138us/sample - loss: 0.1489 - acc: 0.9452 - val_loss: 0.2839 - val_acc: 0.8890\n",
      "Epoch 45/100\n",
      "6910/6910 [==============================] - 1s 133us/sample - loss: 0.1604 - acc: 0.9381 - val_loss: 0.2196 - val_acc: 0.9462\n",
      "Epoch 46/100\n",
      "6910/6910 [==============================] - 1s 133us/sample - loss: 0.1556 - acc: 0.9394 - val_loss: 0.3635 - val_acc: 0.8634\n",
      "Epoch 47/100\n",
      "6910/6910 [==============================] - 1s 150us/sample - loss: 0.1545 - acc: 0.9407 - val_loss: 0.2097 - val_acc: 0.9222\n",
      "Epoch 48/100\n",
      "6910/6910 [==============================] - 1s 140us/sample - loss: 0.1453 - acc: 0.9447 - val_loss: 0.1882 - val_acc: 0.9410\n",
      "Epoch 49/100\n",
      "6910/6910 [==============================] - 1s 135us/sample - loss: 0.1441 - acc: 0.9420 - val_loss: 0.2195 - val_acc: 0.9233\n",
      "Epoch 50/100\n",
      "6910/6910 [==============================] - 1s 132us/sample - loss: 0.1446 - acc: 0.9447 - val_loss: 0.2084 - val_acc: 0.9251\n",
      "Epoch 51/100\n",
      "6910/6910 [==============================] - 1s 143us/sample - loss: 0.1484 - acc: 0.9453 - val_loss: 0.1801 - val_acc: 0.9357\n",
      "Epoch 52/100\n",
      "6910/6910 [==============================] - 1s 134us/sample - loss: 0.1508 - acc: 0.9379 - val_loss: 0.2961 - val_acc: 0.8913\n",
      "Epoch 53/100\n",
      "6910/6910 [==============================] - 1s 132us/sample - loss: 0.1420 - acc: 0.9440 - val_loss: 0.1894 - val_acc: 0.9407\n",
      "Epoch 54/100\n",
      "6910/6910 [==============================] - 1s 144us/sample - loss: 0.1398 - acc: 0.9454 - val_loss: 0.2530 - val_acc: 0.9210\n",
      "Epoch 55/100\n",
      "6910/6910 [==============================] - 1s 131us/sample - loss: 0.1386 - acc: 0.9454 - val_loss: 0.1604 - val_acc: 0.9501\n",
      "Epoch 56/100\n",
      "6910/6910 [==============================] - 1s 132us/sample - loss: 0.1344 - acc: 0.9485 - val_loss: 0.1722 - val_acc: 0.9548\n",
      "Epoch 57/100\n",
      "6910/6910 [==============================] - 1s 131us/sample - loss: 0.1361 - acc: 0.9467 - val_loss: 0.1811 - val_acc: 0.9468\n",
      "Epoch 58/100\n",
      "6910/6910 [==============================] - 1s 138us/sample - loss: 0.1363 - acc: 0.9463 - val_loss: 0.2011 - val_acc: 0.9339\n",
      "Epoch 59/100\n",
      "6910/6910 [==============================] - 1s 150us/sample - loss: 0.1351 - acc: 0.9446 - val_loss: 0.2302 - val_acc: 0.9069\n",
      "Epoch 60/100\n",
      "6910/6910 [==============================] - 1s 131us/sample - loss: 0.1351 - acc: 0.9456 - val_loss: 0.1722 - val_acc: 0.9477\n",
      "Epoch 61/100\n",
      "6910/6910 [==============================] - 1s 132us/sample - loss: 0.1272 - acc: 0.9546 - val_loss: 0.2002 - val_acc: 0.9201\n",
      "Epoch 62/100\n",
      "6910/6910 [==============================] - 1s 131us/sample - loss: 0.1266 - acc: 0.9520 - val_loss: 0.2394 - val_acc: 0.9075\n",
      "Epoch 63/100\n",
      "6910/6910 [==============================] - 1s 130us/sample - loss: 0.1419 - acc: 0.9437 - val_loss: 0.2204 - val_acc: 0.9127\n",
      "Epoch 64/100\n",
      "6910/6910 [==============================] - 1s 137us/sample - loss: 0.1239 - acc: 0.9520 - val_loss: 0.1556 - val_acc: 0.9551\n",
      "Epoch 65/100\n",
      "6910/6910 [==============================] - 1s 144us/sample - loss: 0.1292 - acc: 0.9473 - val_loss: 0.1835 - val_acc: 0.9483\n",
      "Epoch 66/100\n",
      "6910/6910 [==============================] - 1s 137us/sample - loss: 0.1243 - acc: 0.9541 - val_loss: 0.1778 - val_acc: 0.9512\n",
      "Epoch 67/100\n",
      "6910/6910 [==============================] - 1s 145us/sample - loss: 0.1274 - acc: 0.9515 - val_loss: 0.1699 - val_acc: 0.9539\n",
      "Epoch 68/100\n",
      "6910/6910 [==============================] - 1s 127us/sample - loss: 0.1332 - acc: 0.9423 - val_loss: 0.1752 - val_acc: 0.9468\n",
      "Epoch 69/100\n",
      "6910/6910 [==============================] - 1s 127us/sample - loss: 0.1346 - acc: 0.9441 - val_loss: 0.2335 - val_acc: 0.9342\n",
      "Epoch 70/100\n",
      "6910/6910 [==============================] - 1s 142us/sample - loss: 0.1266 - acc: 0.9472 - val_loss: 0.1762 - val_acc: 0.9583\n",
      "Epoch 71/100\n",
      "6910/6910 [==============================] - 1s 128us/sample - loss: 0.1240 - acc: 0.9485 - val_loss: 0.1607 - val_acc: 0.9439\n",
      "Epoch 72/100\n",
      "6910/6910 [==============================] - 1s 127us/sample - loss: 0.1243 - acc: 0.9489 - val_loss: 0.2596 - val_acc: 0.9180\n",
      "Epoch 73/100\n",
      "6910/6910 [==============================] - 1s 127us/sample - loss: 0.1250 - acc: 0.9511 - val_loss: 0.2231 - val_acc: 0.9233\n",
      "Epoch 74/100\n",
      "6910/6910 [==============================] - 1s 127us/sample - loss: 0.1179 - acc: 0.9554 - val_loss: 0.2556 - val_acc: 0.9389\n",
      "Epoch 75/100\n",
      "6910/6910 [==============================] - 1s 132us/sample - loss: 0.1226 - acc: 0.9522 - val_loss: 0.2199 - val_acc: 0.9410\n",
      "Epoch 76/100\n",
      "6910/6910 [==============================] - 1s 137us/sample - loss: 0.1255 - acc: 0.9485 - val_loss: 0.1591 - val_acc: 0.9518\n",
      "Epoch 77/100\n",
      "6910/6910 [==============================] - 1s 128us/sample - loss: 0.1176 - acc: 0.9538 - val_loss: 0.1869 - val_acc: 0.9357\n",
      "Epoch 78/100\n",
      "6910/6910 [==============================] - 1s 130us/sample - loss: 0.1152 - acc: 0.9559 - val_loss: 0.2140 - val_acc: 0.9257\n",
      "Epoch 79/100\n",
      "6910/6910 [==============================] - 1s 139us/sample - loss: 0.1273 - acc: 0.9470 - val_loss: 0.2387 - val_acc: 0.9348\n",
      "Epoch 80/100\n",
      "6910/6910 [==============================] - 1s 132us/sample - loss: 0.1219 - acc: 0.9509 - val_loss: 0.2004 - val_acc: 0.9410\n",
      "Epoch 81/100\n",
      "6910/6910 [==============================] - 1s 145us/sample - loss: 0.1164 - acc: 0.9541 - val_loss: 0.1610 - val_acc: 0.9468\n",
      "Epoch 82/100\n",
      "6910/6910 [==============================] - 1s 134us/sample - loss: 0.1171 - acc: 0.9538 - val_loss: 0.1542 - val_acc: 0.9512\n",
      "Epoch 83/100\n",
      "6910/6910 [==============================] - 1s 133us/sample - loss: 0.1231 - acc: 0.9520 - val_loss: 0.1934 - val_acc: 0.9504\n",
      "Epoch 84/100\n",
      "6910/6910 [==============================] - 1s 131us/sample - loss: 0.1251 - acc: 0.9462 - val_loss: 0.1944 - val_acc: 0.9495\n",
      "Epoch 85/100\n",
      "6910/6910 [==============================] - 1s 136us/sample - loss: 0.1173 - acc: 0.9501 - val_loss: 0.1775 - val_acc: 0.9504\n",
      "Epoch 86/100\n",
      "6910/6910 [==============================] - 1s 152us/sample - loss: 0.1128 - acc: 0.9564 - val_loss: 0.1516 - val_acc: 0.9551\n",
      "Epoch 87/100\n",
      "6910/6910 [==============================] - 1s 148us/sample - loss: 0.1105 - acc: 0.9553 - val_loss: 0.2503 - val_acc: 0.9007\n",
      "Epoch 88/100\n",
      "6910/6910 [==============================] - 1s 140us/sample - loss: 0.1124 - acc: 0.9548 - val_loss: 0.2180 - val_acc: 0.9277\n",
      "Epoch 89/100\n",
      "6910/6910 [==============================] - 1s 137us/sample - loss: 0.1196 - acc: 0.9520 - val_loss: 0.1682 - val_acc: 0.9474\n",
      "Epoch 90/100\n",
      "6910/6910 [==============================] - 1s 166us/sample - loss: 0.1205 - acc: 0.9509 - val_loss: 0.3081 - val_acc: 0.9110\n",
      "Epoch 91/100\n",
      "6910/6910 [==============================] - 1s 200us/sample - loss: 0.1149 - acc: 0.9517 - val_loss: 0.2230 - val_acc: 0.9365\n",
      "Epoch 92/100\n",
      "6910/6910 [==============================] - 2s 235us/sample - loss: 0.1171 - acc: 0.9492 - val_loss: 0.1706 - val_acc: 0.9483\n",
      "Epoch 93/100\n",
      "6910/6910 [==============================] - 1s 200us/sample - loss: 0.1084 - acc: 0.9562 - val_loss: 0.2857 - val_acc: 0.9374\n",
      "Epoch 94/100\n",
      "6910/6910 [==============================] - 1s 153us/sample - loss: 0.1124 - acc: 0.9528 - val_loss: 0.2277 - val_acc: 0.9307\n",
      "Epoch 95/100\n",
      "6910/6910 [==============================] - 1s 174us/sample - loss: 0.1106 - acc: 0.9537 - val_loss: 0.1838 - val_acc: 0.9600\n",
      "Epoch 96/100\n",
      "6910/6910 [==============================] - 1s 176us/sample - loss: 0.1158 - acc: 0.9512 - val_loss: 0.2171 - val_acc: 0.9480\n",
      "Epoch 97/100\n",
      "6910/6910 [==============================] - 1s 138us/sample - loss: 0.0992 - acc: 0.9625 - val_loss: 0.1924 - val_acc: 0.9336\n",
      "Epoch 98/100\n",
      "6910/6910 [==============================] - 1s 157us/sample - loss: 0.1165 - acc: 0.9515 - val_loss: 0.2219 - val_acc: 0.9383\n",
      "Epoch 99/100\n",
      "6910/6910 [==============================] - 2s 233us/sample - loss: 0.1174 - acc: 0.9515 - val_loss: 0.1665 - val_acc: 0.9439\n",
      "Epoch 100/100\n",
      "6910/6910 [==============================] - 2s 229us/sample - loss: 0.1105 - acc: 0.9554 - val_loss: 0.1579 - val_acc: 0.9530\n"
     ]
    }
   ],
   "source": [
    "model=classifier_e25.fit(X, y, validation_split=0.33, epochs=100, batch_size=10)"
   ]
  },
  {
   "cell_type": "code",
   "execution_count": 169,
   "metadata": {},
   "outputs": [
    {
     "data": {
      "image/png": "[encoded data removed]",
      "text/plain": [
       "<Figure size 432x288 with 1 Axes>"
      ]
     },
     "metadata": {
      "needs_background": "light"
     },
     "output_type": "display_data"
    },
    {
     "data": {
      "image/png": "[encoded data removed]",
      "text/plain": [
       "<Figure size 432x288 with 1 Axes>"
      ]
     },
     "metadata": {
      "needs_background": "light"
     },
     "output_type": "display_data"
    }
   ],
   "source": [
    "\n",
    "\n",
    "loss=list(model.history.values())[0]\n",
    "accuracy=list(model.history.values())[1]\n",
    "val_loss=list(model.history.values())[2]\n",
    "val_accuracy=list(model.history.values())[3]\n",
    "\n",
    "# summarize history for accuracy\n",
    "plt.plot(accuracy,color='orange', linewidth=5)\n",
    "plt.plot(val_accuracy)\n",
    "plt.title('model accuracy')\n",
    "plt.ylabel('accuracy')\n",
    "plt.xlabel('epoch')\n",
    "plt.legend(['train', 'test'], loc='upper left')\n",
    "plt.show()\n",
    "# summarize history for loss\n",
    "plt.plot(loss, color='red', linewidth=5)\n",
    "plt.plot(val_loss)\n",
    "plt.title('model loss')\n",
    "plt.ylabel('loss')\n",
    "plt.xlabel('epoch')\n",
    "plt.legend(['train', 'test'], loc='upper left')\n",
    "plt.show()"
   ]
  },
  {
   "cell_type": "markdown",
   "metadata": {},
   "source": [
    "## Matrix Decomposition ##"
   ]
  },
  {
   "cell_type": "code",
   "execution_count": 170,
   "metadata": {},
   "outputs": [
    {
     "name": "stdout",
     "output_type": "stream",
     "text": [
      "[[1 2 3]\n",
      " [4 5 6]\n",
      " [7 8 9]]\n"
     ]
    }
   ],
   "source": [
    "# LU decomposition\n",
    "from numpy import array\n",
    "from scipy.linalg import lu\n",
    "# define a square matrix\n",
    "A = array([\n",
    "[1, 2, 3],\n",
    "[4, 5, 6],\n",
    "[7, 8, 9]])\n",
    "print(A)\n",
    "# factorize"
   ]
  },
  {
   "cell_type": "code",
   "execution_count": 171,
   "metadata": {},
   "outputs": [
    {
     "name": "stdout",
     "output_type": "stream",
     "text": [
      "[[0. 1. 0.]\n",
      " [0. 0. 1.]\n",
      " [1. 0. 0.]]\n",
      "[[1.         0.         0.        ]\n",
      " [0.14285714 1.         0.        ]\n",
      " [0.57142857 0.5        1.        ]]\n",
      "[[7.         8.         9.        ]\n",
      " [0.         0.85714286 1.71428571]\n",
      " [0.         0.         0.        ]]\n"
     ]
    },
    {
     "data": {
      "text/plain": [
       "array([[1., 2., 3.],\n",
       "       [4., 5., 6.],\n",
       "       [7., 8., 9.]])"
      ]
     },
     "execution_count": 171,
     "metadata": {},
     "output_type": "execute_result"
    }
   ],
   "source": [
    "P, L, U = lu(A)\n",
    "print(P)\n",
    "print(L)\n",
    "print(U)\n",
    "# reconstruct\n",
    "B = P.dot(L).dot(U)\n",
    "B"
   ]
  },
  {
   "cell_type": "code",
   "execution_count": 172,
   "metadata": {},
   "outputs": [
    {
     "name": "stdout",
     "output_type": "stream",
     "text": [
      "[[1 2]\n",
      " [3 4]\n",
      " [5 6]]\n",
      "[[-0.16903085  0.89708523  0.40824829]\n",
      " [-0.50709255  0.27602622 -0.81649658]\n",
      " [-0.84515425 -0.34503278  0.40824829]]\n",
      "[[-5.91607978 -7.43735744]\n",
      " [ 0.          0.82807867]\n",
      " [ 0.          0.        ]]\n",
      "[[1. 2.]\n",
      " [3. 4.]\n",
      " [5. 6.]]\n"
     ]
    }
   ],
   "source": [
    "# QR decomposition\n",
    "from numpy import array\n",
    "from numpy.linalg import qr\n",
    "# define rectangular matrix\n",
    "A = array([\n",
    "[1, 2],\n",
    "[3, 4],\n",
    "[5, 6]])\n",
    "print(A)\n",
    "# factorize\n",
    "Q, R = qr(A, 'complete')\n",
    "print(Q)\n",
    "print(R)\n",
    "# reconstruct\n",
    "B = Q.dot(R)\n",
    "print(B)"
   ]
  },
  {
   "cell_type": "code",
   "execution_count": 173,
   "metadata": {},
   "outputs": [
    {
     "name": "stdout",
     "output_type": "stream",
     "text": [
      "[[2 1 1]\n",
      " [1 2 1]\n",
      " [1 1 2]]\n",
      "[[1.41421356 0.         0.        ]\n",
      " [0.70710678 1.22474487 0.        ]\n",
      " [0.70710678 0.40824829 1.15470054]]\n",
      "[[2. 1. 1.]\n",
      " [1. 2. 1.]\n",
      " [1. 1. 2.]]\n"
     ]
    }
   ],
   "source": [
    "# Cholesky decomposition\n",
    "from numpy import array\n",
    "from numpy.linalg import cholesky\n",
    "# define symmetrical matrix\n",
    "A = array([\n",
    "[2, 1, 1],\n",
    "[1, 2, 1],\n",
    "[1, 1, 2]])\n",
    "print(A)\n",
    "# factorize\n",
    "L = cholesky(A)\n",
    "print(L)\n",
    "# reconstruct\n",
    "B = L.dot(L.T)\n",
    "print(B)\n"
   ]
  },
  {
   "cell_type": "code",
   "execution_count": 174,
   "metadata": {},
   "outputs": [
    {
     "name": "stdout",
     "output_type": "stream",
     "text": [
      "[[1 2 3]\n",
      " [4 5 6]\n",
      " [7 8 9]]\n"
     ]
    }
   ],
   "source": [
    "# eigendecomposition\n",
    "from numpy import array\n",
    "from numpy.linalg import eig\n",
    "# define matrix\n",
    "A = array([\n",
    "[1, 2, 3],\n",
    "[4, 5, 6],\n",
    "[7, 8, 9]])\n",
    "print(A)\n",
    "# factorize\n",
    "values, vectors = eig(A)"
   ]
  },
  {
   "cell_type": "code",
   "execution_count": 175,
   "metadata": {},
   "outputs": [
    {
     "name": "stdout",
     "output_type": "stream",
     "text": [
      "[ 1.61168440e+01 -1.11684397e+00 -1.30367773e-15]\n",
      "[[-0.23197069 -0.78583024  0.40824829]\n",
      " [-0.52532209 -0.08675134 -0.81649658]\n",
      " [-0.8186735   0.61232756  0.40824829]]\n"
     ]
    }
   ],
   "source": [
    "print(values)\n",
    "print(vectors)"
   ]
  },
  {
   "cell_type": "code",
   "execution_count": 176,
   "metadata": {},
   "outputs": [
    {
     "data": {
      "text/plain": [
       "array([ -2.86098561,  -8.3696465 , -13.87830739])"
      ]
     },
     "execution_count": 176,
     "metadata": {},
     "output_type": "execute_result"
    }
   ],
   "source": [
    "vectors.dot(values)"
   ]
  },
  {
   "cell_type": "code",
   "execution_count": 177,
   "metadata": {},
   "outputs": [
    {
     "name": "stdout",
     "output_type": "stream",
     "text": [
      "[[1 2]\n",
      " [3 4]\n",
      " [5 6]]\n",
      "[[-0.2298477   0.88346102  0.40824829]\n",
      " [-0.52474482  0.24078249 -0.81649658]\n",
      " [-0.81964194 -0.40189603  0.40824829]]\n",
      "[9.52551809 0.51430058]\n",
      "[[-0.61962948 -0.78489445]\n",
      " [-0.78489445  0.61962948]]\n"
     ]
    }
   ],
   "source": [
    "# singular-value decomposition\n",
    "from numpy import array\n",
    "from scipy.linalg import svd\n",
    "# define a matrix\n",
    "A = array([\n",
    "[1, 2],\n",
    "[3, 4],\n",
    "[5, 6]])\n",
    "print(A)\n",
    "# factorize\n",
    "U, s, V = svd(A)\n",
    "print(U)\n",
    "print(s)\n",
    "print(V)"
   ]
  },
  {
   "cell_type": "markdown",
   "metadata": {},
   "source": [
    "## Calculate Principal Component Analysis ##"
   ]
  },
  {
   "cell_type": "code",
   "execution_count": 178,
   "metadata": {},
   "outputs": [
    {
     "name": "stdout",
     "output_type": "stream",
     "text": [
      "[[1 2]\n",
      " [3 4]\n",
      " [5 6]]\n",
      "[[ 0.70710678 -0.70710678]\n",
      " [ 0.70710678  0.70710678]]\n",
      "[8. 0.]\n",
      "[[-2.82842712  0.        ]\n",
      " [ 0.          0.        ]\n",
      " [ 2.82842712  0.        ]]\n"
     ]
    }
   ],
   "source": [
    "# principal component analysis\n",
    "from numpy import array\n",
    "from numpy import mean\n",
    "from numpy import cov\n",
    "from numpy.linalg import eig\n",
    "# define matrix\n",
    "A = array([\n",
    "[1, 2],\n",
    "[3, 4],\n",
    "[5, 6]])\n",
    "print(A)\n",
    "# column means\n",
    "M = mean(A.T, axis=1)\n",
    "# center columns by subtracting column means\n",
    "C = A - M\n",
    "# calculate covariance matrix of centered matrix\n",
    "V = cov(C.T)\n",
    "# factorize covariance matrix\n",
    "values, vectors = eig(V)\n",
    "print(vectors)\n",
    "print(values)\n",
    "# project data\n",
    "P = vectors.T.dot(C.T)\n",
    "print(P.T)"
   ]
  },
  {
   "cell_type": "markdown",
   "metadata": {},
   "source": [
    "## Principal Component Analysis in scikit-learn"
   ]
  },
  {
   "cell_type": "code",
   "execution_count": 179,
   "metadata": {},
   "outputs": [
    {
     "name": "stdout",
     "output_type": "stream",
     "text": [
      "[[1 2]\n",
      " [3 4]\n",
      " [5 6]]\n",
      "[[ 0.70710678  0.70710678]\n",
      " [-0.70710678  0.70710678]]\n",
      "[8. 0.]\n",
      "[[-2.82842712e+00 -2.22044605e-16]\n",
      " [ 0.00000000e+00  0.00000000e+00]\n",
      " [ 2.82842712e+00  2.22044605e-16]]\n"
     ]
    }
   ],
   "source": [
    "# principal component analysis with scikit-learn\n",
    "from numpy import array\n",
    "from sklearn.decomposition import PCA\n",
    "# define matrix\n",
    "A = array([\n",
    "[1, 2],\n",
    "[3, 4],\n",
    "[5, 6]])\n",
    "print(A)\n",
    "# create the transform\n",
    "pca = PCA(2)\n",
    "# fit transform\n",
    "pca.fit(A)\n",
    "# access values and vectors\n",
    "print(pca.components_)\n",
    "print(pca.explained_variance_)\n",
    "# transform data\n",
    "B = pca.transform(A)\n",
    "print(B)"
   ]
  }
 ],
 "metadata": {
  "kernelspec": {
   "display_name": "Python 3",
   "language": "python",
   "name": "python3"
  },
  "language_info": {
   "codemirror_mode": {
    "name": "ipython",
    "version": 3
   },
   "file_extension": ".py",
   "mimetype": "text/x-python",
   "name": "python",
   "nbconvert_exporter": "python",
   "pygments_lexer": "ipython3",
   "version": "3.8.6"
  }
 },
 "nbformat": 4,
 "nbformat_minor": 2
}
