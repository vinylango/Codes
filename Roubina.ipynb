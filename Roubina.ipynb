{
 "cells": [
  {
   "cell_type": "markdown",
   "id": "static-mistress",
   "metadata": {},
   "source": [
    "#  CO "
   ]
  },
  {
   "cell_type": "code",
   "execution_count": 97,
   "id": "female-clinton",
   "metadata": {},
   "outputs": [
    {
     "data": {
      "text/plain": [
       "(5962, 4)"
      ]
     },
     "execution_count": 97,
     "metadata": {},
     "output_type": "execute_result"
    }
   ],
   "source": [
    "import pandas as pd\n",
    "import numpy as np\n",
    "data= pd.read_csv('CO.csv')\n",
    "data.columns=['Lab','T','RH','Ref','Time']\n",
    "data=data.dropna()\n",
    "Time=data['Time'].to_list()\n",
    "time=[]\n",
    "for i in range(len(Time)):\n",
    "    time.append(float(abs(Time[i])))\n",
    "Time=np.array(time)\n",
    "Date=pd.to_datetime(Time-719529,unit='d').round('s')\n",
    "data['Date'] = Date.tolist()\n",
    "data=data.set_index('Date')\n",
    "data.drop('Time',axis = 1, inplace = True)\n",
    "data.shape"
   ]
  },
  {
   "cell_type": "code",
   "execution_count": 98,
   "id": "roman-overview",
   "metadata": {},
   "outputs": [],
   "source": [
    "Lab=data['Lab'].to_list()\n",
    "T=data['T'].to_list()\n",
    "Ref=data['Ref'].to_list()\n",
    "Lab_10=[]\n",
    "Lab_10_20=[]\n",
    "Lab_20_30=[]\n",
    "Lab_30=[]\n",
    "Ref_10=[]\n",
    "Ref_10_20=[]\n",
    "Ref_20_30=[]\n",
    "Ref_30=[]\n",
    "for i  in range(len(T)):\n",
    "    if T[i]<=10 and Lab[i]>0 and Lab[i]<1000 and Ref[i]>0 and Ref[i]<1000:\n",
    "        Lab_10.append(Lab[i])\n",
    "        Ref_10.append(Ref[i])\n",
    "    elif T[i]>10 and T[i]<=20 and Lab[i]>0 and Lab[i]<1000 and Ref[i]>0 and Ref[i]<1000 :\n",
    "        Lab_10_20.append(Lab[i])\n",
    "        Ref_10_20.append(Ref[i])\n",
    "    elif T[i]>20 and T[i]<=30 and Lab[i]>0 and Lab[i]<1000 and Ref[i]>0 and Ref[i]<1000:\n",
    "        Lab_20_30.append(Lab[i])\n",
    "        Ref_20_30.append(Ref[i])\n",
    "    elif T[i]>30 and Lab[i]>0 and Lab[i]<1000 and Ref[i]>0 and Ref[i]<1000:\n",
    "        Lab_30.append(Lab[i])\n",
    "        Ref_30.append(Ref[i])"
   ]
  },
  {
   "cell_type": "code",
   "execution_count": 99,
   "id": "double-novel",
   "metadata": {},
   "outputs": [
    {
     "data": {
      "text/plain": [
       "(946, 2632, 1111, 197)"
      ]
     },
     "execution_count": 99,
     "metadata": {},
     "output_type": "execute_result"
    }
   ],
   "source": [
    "len(Lab_10),len(Lab_10_20),len(Lab_20_30),len(Lab_30)"
   ]
  },
  {
   "cell_type": "code",
   "execution_count": 101,
   "id": "north-carnival",
   "metadata": {},
   "outputs": [
    {
     "data": {
      "text/plain": [
       "0.73"
      ]
     },
     "execution_count": 101,
     "metadata": {},
     "output_type": "execute_result"
    }
   ],
   "source": [
    "corr=round(np.corrcoef(Ref, Lab)[0, 1],2)\n",
    "corr"
   ]
  },
  {
   "cell_type": "code",
   "execution_count": 102,
   "id": "configured-czech",
   "metadata": {},
   "outputs": [
    {
     "data": {
      "text/plain": [
       "(0.69, 0.66, 0.22, 0.24)"
      ]
     },
     "execution_count": 102,
     "metadata": {},
     "output_type": "execute_result"
    }
   ],
   "source": [
    "corr_1=round(np.corrcoef(Ref_10, Lab_10)[0, 1],2)\n",
    "corr_2=round(np.corrcoef(Ref_10_20, Lab_10_20)[0, 1],2)\n",
    "corr_3=round(np.corrcoef(Ref_20_30, Lab_20_30)[0, 1],2)\n",
    "corr_4=round(np.corrcoef(Ref_30, Lab_30)[0, 1],2)\n",
    "corr_1,corr_2,corr_3,corr_4"
   ]
  },
  {
   "cell_type": "code",
   "execution_count": 110,
   "id": "historic-miniature",
   "metadata": {},
   "outputs": [
    {
     "data": {
      "text/plain": [
       "0.33"
      ]
     },
     "execution_count": 110,
     "metadata": {},
     "output_type": "execute_result"
    }
   ],
   "source": [
    "import sklearn.metrics as sm\n",
    "round(sm.r2_score(Ref, Lab),2)"
   ]
  },
  {
   "cell_type": "markdown",
   "id": "removed-proportion",
   "metadata": {},
   "source": [
    "#  Regression\n",
    "\n",
    "##  T<10"
   ]
  },
  {
   "cell_type": "code",
   "execution_count": 107,
   "id": "tribal-salem",
   "metadata": {},
   "outputs": [
    {
     "name": "stdout",
     "output_type": "stream",
     "text": [
      "                            OLS Regression Results                            \n",
      "==============================================================================\n",
      "Dep. Variable:                      y   R-squared:                       0.477\n",
      "Model:                            OLS   Adj. R-squared:                  0.477\n",
      "Method:                 Least Squares   F-statistic:                     861.6\n",
      "Date:                Thu, 24 Mar 2022   Prob (F-statistic):          4.33e-135\n",
      "Time:                        10:50:21   Log-Likelihood:                -6173.3\n",
      "No. Observations:                 946   AIC:                         1.235e+04\n",
      "Df Residuals:                     944   BIC:                         1.236e+04\n",
      "Df Model:                           1                                         \n",
      "Covariance Type:            nonrobust                                         \n",
      "==============================================================================\n",
      "                 coef    std err          t      P>|t|      [0.025      0.975]\n",
      "------------------------------------------------------------------------------\n",
      "const        156.4506     11.952     13.090      0.000     132.995     179.906\n",
      "x1             1.0778      0.037     29.353      0.000       1.006       1.150\n",
      "==============================================================================\n",
      "Omnibus:                      130.584   Durbin-Watson:                   0.710\n",
      "Prob(Omnibus):                  0.000   Jarque-Bera (JB):             1315.188\n",
      "Skew:                          -0.204   Prob(JB):                    2.57e-286\n",
      "Kurtosis:                       8.762   Cond. No.                         724.\n",
      "==============================================================================\n",
      "\n",
      "Notes:\n",
      "[1] Standard Errors assume that the covariance matrix of the errors is correctly specified.\n"
     ]
    }
   ],
   "source": [
    "import statsmodels.api as sm\n",
    "X = Lab_10 # here we have gression, then use X = df['Interest_Rate'] for example\n",
    "Y = Ref_10\n",
    "X = sm.add_constant(X) # adding a constant\n",
    "model = sm.OLS(Y, X).fit()\n",
    "predictions = model.predict(X) \n",
    "print_model = model.summary()\n",
    "print(print_model)"
   ]
  },
  {
   "cell_type": "markdown",
   "id": "editorial-buyer",
   "metadata": {},
   "source": [
    "#  10< T< 20"
   ]
  },
  {
   "cell_type": "code",
   "execution_count": 104,
   "id": "premier-satin",
   "metadata": {},
   "outputs": [
    {
     "name": "stdout",
     "output_type": "stream",
     "text": [
      "                            OLS Regression Results                            \n",
      "==============================================================================\n",
      "Dep. Variable:                      y   R-squared:                       0.429\n",
      "Model:                            OLS   Adj. R-squared:                  0.429\n",
      "Method:                 Least Squares   F-statistic:                     1979.\n",
      "Date:                Thu, 24 Mar 2022   Prob (F-statistic):          9.39e-323\n",
      "Time:                        10:48:12   Log-Likelihood:                -17220.\n",
      "No. Observations:                2632   AIC:                         3.444e+04\n",
      "Df Residuals:                    2630   BIC:                         3.446e+04\n",
      "Df Model:                           1                                         \n",
      "Covariance Type:            nonrobust                                         \n",
      "==============================================================================\n",
      "                 coef    std err          t      P>|t|      [0.025      0.975]\n",
      "------------------------------------------------------------------------------\n",
      "const         99.2969      8.107     12.248      0.000      83.400     115.194\n",
      "x1             0.9909      0.022     44.487      0.000       0.947       1.035\n",
      "==============================================================================\n",
      "Omnibus:                      166.579   Durbin-Watson:                   0.373\n",
      "Prob(Omnibus):                  0.000   Jarque-Bera (JB):              203.090\n",
      "Skew:                           0.618   Prob(JB):                     7.94e-45\n",
      "Kurtosis:                       3.569   Cond. No.                         901.\n",
      "==============================================================================\n",
      "\n",
      "Notes:\n",
      "[1] Standard Errors assume that the covariance matrix of the errors is correctly specified.\n"
     ]
    }
   ],
   "source": [
    "import statsmodels.api as sm\n",
    "X = Lab_10_20 # here we have gression, then use X = df['Interest_Rate'] for example\n",
    "Y = Ref_10_20\n",
    "X = sm.add_constant(X) # adding a constant\n",
    "model = sm.OLS(Y, X).fit()\n",
    "predictions = model.predict(X) \n",
    "print_model = model.summary()\n",
    "print(print_model)"
   ]
  },
  {
   "cell_type": "markdown",
   "id": "emotional-plenty",
   "metadata": {},
   "source": [
    "# 20< T<30"
   ]
  },
  {
   "cell_type": "code",
   "execution_count": 105,
   "id": "junior-franklin",
   "metadata": {},
   "outputs": [
    {
     "name": "stdout",
     "output_type": "stream",
     "text": [
      "                            OLS Regression Results                            \n",
      "==============================================================================\n",
      "Dep. Variable:                      y   R-squared:                       0.049\n",
      "Model:                            OLS   Adj. R-squared:                  0.048\n",
      "Method:                 Least Squares   F-statistic:                     57.34\n",
      "Date:                Thu, 24 Mar 2022   Prob (F-statistic):           7.69e-14\n",
      "Time:                        10:48:18   Log-Likelihood:                -7480.9\n",
      "No. Observations:                1111   AIC:                         1.497e+04\n",
      "Df Residuals:                    1109   BIC:                         1.498e+04\n",
      "Df Model:                           1                                         \n",
      "Covariance Type:            nonrobust                                         \n",
      "==============================================================================\n",
      "                 coef    std err          t      P>|t|      [0.025      0.975]\n",
      "------------------------------------------------------------------------------\n",
      "const        332.9120     15.383     21.641      0.000     302.728     363.096\n",
      "x1             0.2562      0.034      7.572      0.000       0.190       0.323\n",
      "==============================================================================\n",
      "Omnibus:                      224.888   Durbin-Watson:                   0.322\n",
      "Prob(Omnibus):                  0.000   Jarque-Bera (JB):               60.113\n",
      "Skew:                           0.296   Prob(JB):                     8.85e-14\n",
      "Kurtosis:                       2.026   Cond. No.                     1.15e+03\n",
      "==============================================================================\n",
      "\n",
      "Notes:\n",
      "[1] Standard Errors assume that the covariance matrix of the errors is correctly specified.\n",
      "[2] The condition number is large, 1.15e+03. This might indicate that there are\n",
      "strong multicollinearity or other numerical problems.\n"
     ]
    }
   ],
   "source": [
    "import statsmodels.api as sm\n",
    "X = Lab_20_30 # here we have gression, then use X = df['Interest_Rate'] for example\n",
    "Y = Ref_20_30\n",
    "X = sm.add_constant(X) # adding a constant\n",
    "model = sm.OLS(Y, X).fit()\n",
    "predictions = model.predict(X) \n",
    "print_model = model.summary()\n",
    "print(print_model)"
   ]
  },
  {
   "cell_type": "markdown",
   "id": "consolidated-evanescence",
   "metadata": {},
   "source": [
    "#  T>30"
   ]
  },
  {
   "cell_type": "code",
   "execution_count": 106,
   "id": "toxic-permit",
   "metadata": {},
   "outputs": [
    {
     "name": "stdout",
     "output_type": "stream",
     "text": [
      "                            OLS Regression Results                            \n",
      "==============================================================================\n",
      "Dep. Variable:                      y   R-squared:                       0.059\n",
      "Model:                            OLS   Adj. R-squared:                  0.055\n",
      "Method:                 Least Squares   F-statistic:                     12.30\n",
      "Date:                Thu, 24 Mar 2022   Prob (F-statistic):           0.000562\n",
      "Time:                        10:48:26   Log-Likelihood:                -1279.0\n",
      "No. Observations:                 197   AIC:                             2562.\n",
      "Df Residuals:                     195   BIC:                             2569.\n",
      "Df Model:                           1                                         \n",
      "Covariance Type:            nonrobust                                         \n",
      "==============================================================================\n",
      "                 coef    std err          t      P>|t|      [0.025      0.975]\n",
      "------------------------------------------------------------------------------\n",
      "const        405.1620     27.843     14.552      0.000     350.251     460.073\n",
      "x1             0.1996      0.057      3.507      0.001       0.087       0.312\n",
      "==============================================================================\n",
      "Omnibus:                        9.414   Durbin-Watson:                   0.374\n",
      "Prob(Omnibus):                  0.009   Jarque-Bera (JB):                8.173\n",
      "Skew:                          -0.421   Prob(JB):                       0.0168\n",
      "Kurtosis:                       2.464   Cond. No.                     1.19e+03\n",
      "==============================================================================\n",
      "\n",
      "Notes:\n",
      "[1] Standard Errors assume that the covariance matrix of the errors is correctly specified.\n",
      "[2] The condition number is large, 1.19e+03. This might indicate that there are\n",
      "strong multicollinearity or other numerical problems.\n"
     ]
    }
   ],
   "source": [
    "import statsmodels.api as sm\n",
    "X = Lab_30 # here we have gression, then use X = df['Interest_Rate'] for example\n",
    "Y = Ref_30\n",
    "X = sm.add_constant(X) # adding a constant\n",
    "model = sm.OLS(Y, X).fit()\n",
    "predictions = model.predict(X) \n",
    "print_model = model.summary()\n",
    "print(print_model)"
   ]
  },
  {
   "cell_type": "markdown",
   "id": "elect-entrance",
   "metadata": {},
   "source": [
    "# NO2 DATA "
   ]
  },
  {
   "cell_type": "code",
   "execution_count": 86,
   "id": "concrete-extent",
   "metadata": {},
   "outputs": [
    {
     "data": {
      "text/html": [
       "<div>\n",
       "<style scoped>\n",
       "    .dataframe tbody tr th:only-of-type {\n",
       "        vertical-align: middle;\n",
       "    }\n",
       "\n",
       "    .dataframe tbody tr th {\n",
       "        vertical-align: top;\n",
       "    }\n",
       "\n",
       "    .dataframe thead th {\n",
       "        text-align: right;\n",
       "    }\n",
       "</style>\n",
       "<table border=\"1\" class=\"dataframe\">\n",
       "  <thead>\n",
       "    <tr style=\"text-align: right;\">\n",
       "      <th></th>\n",
       "      <th>Lab</th>\n",
       "      <th>T</th>\n",
       "      <th>RH</th>\n",
       "      <th>Ref</th>\n",
       "    </tr>\n",
       "    <tr>\n",
       "      <th>Date</th>\n",
       "      <th></th>\n",
       "      <th></th>\n",
       "      <th></th>\n",
       "      <th></th>\n",
       "    </tr>\n",
       "  </thead>\n",
       "  <tbody>\n",
       "    <tr>\n",
       "      <th>2019-10-02 12:00:00</th>\n",
       "      <td>16.194840</td>\n",
       "      <td>30.21</td>\n",
       "      <td>39.15</td>\n",
       "      <td>9.928468</td>\n",
       "    </tr>\n",
       "    <tr>\n",
       "      <th>2019-10-02 13:00:00</th>\n",
       "      <td>6.764827</td>\n",
       "      <td>31.15</td>\n",
       "      <td>35.27</td>\n",
       "      <td>15.201376</td>\n",
       "    </tr>\n",
       "    <tr>\n",
       "      <th>2019-10-02 14:00:00</th>\n",
       "      <td>6.764827</td>\n",
       "      <td>31.15</td>\n",
       "      <td>35.27</td>\n",
       "      <td>10.904321</td>\n",
       "    </tr>\n",
       "    <tr>\n",
       "      <th>2019-10-02 15:00:00</th>\n",
       "      <td>11.775937</td>\n",
       "      <td>27.38</td>\n",
       "      <td>57.16</td>\n",
       "      <td>11.956694</td>\n",
       "    </tr>\n",
       "    <tr>\n",
       "      <th>2019-10-02 16:00:00</th>\n",
       "      <td>11.775937</td>\n",
       "      <td>27.38</td>\n",
       "      <td>57.16</td>\n",
       "      <td>12.957107</td>\n",
       "    </tr>\n",
       "  </tbody>\n",
       "</table>\n",
       "</div>"
      ],
      "text/plain": [
       "                           Lab      T     RH        Ref\n",
       "Date                                                   \n",
       "2019-10-02 12:00:00  16.194840  30.21  39.15   9.928468\n",
       "2019-10-02 13:00:00   6.764827  31.15  35.27  15.201376\n",
       "2019-10-02 14:00:00   6.764827  31.15  35.27  10.904321\n",
       "2019-10-02 15:00:00  11.775937  27.38  57.16  11.956694\n",
       "2019-10-02 16:00:00  11.775937  27.38  57.16  12.957107"
      ]
     },
     "execution_count": 86,
     "metadata": {},
     "output_type": "execute_result"
    }
   ],
   "source": [
    "import pandas as pd\n",
    "import numpy as np\n",
    "data= pd.read_csv('NO2.csv')\n",
    "data.columns=['Lab','T','RH','Ref','Time']\n",
    "data=data.dropna()\n",
    "Time=data['Time'].to_list()\n",
    "time=[]\n",
    "for i in range(len(Time)):\n",
    "    time.append(float(abs(Time[i])))\n",
    "Time=np.array(time)\n",
    "Date=pd.to_datetime(Time-719529,unit='d').round('s')\n",
    "data['Date'] = Date.tolist()\n",
    "data=data.set_index('Date')\n",
    "data.drop('Time',axis = 1, inplace = True)\n",
    "data.head()"
   ]
  },
  {
   "cell_type": "code",
   "execution_count": 87,
   "id": "given-strengthening",
   "metadata": {},
   "outputs": [],
   "source": [
    "Lab=data['Lab'].to_list()\n",
    "T=data['T'].to_list()\n",
    "Ref=data['Ref'].to_list()\n",
    "Lab_10=[]\n",
    "Lab_10_20=[]\n",
    "Lab_20_30=[]\n",
    "Lab_30=[]\n",
    "Ref_10=[]\n",
    "Ref_10_20=[]\n",
    "Ref_20_30=[]\n",
    "Ref_30=[]\n",
    "for i  in range(len(T)):\n",
    "    if T[i]<10 and Lab[i]>0 and Lab[i]<1000:\n",
    "        Lab_10.append(Lab[i])\n",
    "        Ref_10.append(Ref[i])\n",
    "    elif T[i]>=10 and T[i]<20 and Lab[i]>0 and Lab[i]<1000:\n",
    "        Lab_10_20.append(Lab[i])\n",
    "        Ref_10_20.append(Ref[i])\n",
    "    elif T[i]>=20 and T[i]<30 and Lab[i]>0 and Lab[i]<1000:\n",
    "        Lab_20_30.append(Lab[i])\n",
    "        Ref_20_30.append(Ref[i])\n",
    "    elif T[i]>30 and Lab[i]>0 and Lab[i]<1000:\n",
    "        Lab_30.append(Lab[i])\n",
    "        Ref_30.append(Ref[i])"
   ]
  },
  {
   "cell_type": "code",
   "execution_count": 89,
   "id": "loaded-disclosure",
   "metadata": {},
   "outputs": [
    {
     "data": {
      "text/plain": [
       "(1056, 2105, 782, 74)"
      ]
     },
     "execution_count": 89,
     "metadata": {},
     "output_type": "execute_result"
    }
   ],
   "source": [
    "len(Lab_10),len(Lab_10_20),len(Lab_20_30),len(Lab_30)"
   ]
  },
  {
   "cell_type": "code",
   "execution_count": 90,
   "id": "theoretical-writer",
   "metadata": {},
   "outputs": [
    {
     "data": {
      "text/plain": [
       "-0.12"
      ]
     },
     "execution_count": 90,
     "metadata": {},
     "output_type": "execute_result"
    }
   ],
   "source": [
    "corr=round(np.corrcoef(Ref, Lab)[0, 1],2)\n",
    "corr"
   ]
  },
  {
   "cell_type": "code",
   "execution_count": 91,
   "id": "deluxe-conjunction",
   "metadata": {},
   "outputs": [
    {
     "data": {
      "text/plain": [
       "(0.89, 0.6, 0.34, 0.22)"
      ]
     },
     "execution_count": 91,
     "metadata": {},
     "output_type": "execute_result"
    }
   ],
   "source": [
    "corr_1=round(np.corrcoef(Ref_10, Lab_10)[0, 1],2)\n",
    "corr_2=round(np.corrcoef(Ref_10_20, Lab_10_20)[0, 1],2)\n",
    "corr_3=round(np.corrcoef(Ref_20_30, Lab_20_30)[0, 1],2)\n",
    "corr_4=round(np.corrcoef(Ref_30, Lab_30)[0, 1],2)\n",
    "corr_1,corr_2,corr_3,corr_4"
   ]
  },
  {
   "cell_type": "code",
   "execution_count": null,
   "id": "spectacular-vinyl",
   "metadata": {},
   "outputs": [],
   "source": []
  },
  {
   "cell_type": "code",
   "execution_count": null,
   "id": "detected-jacob",
   "metadata": {},
   "outputs": [],
   "source": []
  }
 ],
 "metadata": {
  "kernelspec": {
   "display_name": "Python 3",
   "language": "python",
   "name": "python3"
  },
  "language_info": {
   "codemirror_mode": {
    "name": "ipython",
    "version": 3
   },
   "file_extension": ".py",
   "mimetype": "text/x-python",
   "name": "python",
   "nbconvert_exporter": "python",
   "pygments_lexer": "ipython3",
   "version": "3.8.6"
  }
 },
 "nbformat": 4,
 "nbformat_minor": 5
}
