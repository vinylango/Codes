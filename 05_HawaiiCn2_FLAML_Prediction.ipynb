{
 "cells": [
  {
   "cell_type": "markdown",
   "id": "eb5c1f35",
   "metadata": {},
   "source": [
    "# Cn2 Predictions via FLAML #\n",
    "\n",
    "### Sukanta Basu (Delft University of Technology) ###\n",
    "\n",
    "**Last updated: November 3, 2022**"
   ]
  },
  {
   "cell_type": "markdown",
   "id": "ef68ec49",
   "metadata": {},
   "source": [
    "Notes: \n",
    "\n",
    "1. "
   ]
  },
  {
   "cell_type": "markdown",
   "id": "b2aeff27",
   "metadata": {},
   "source": [
    "**Load the necessary packages**"
   ]
  },
  {
   "cell_type": "code",
   "execution_count": 1,
   "id": "dd6767ac",
   "metadata": {},
   "outputs": [
    {
     "name": "stderr",
     "output_type": "stream",
     "text": [
      "/Library/Frameworks/Python.framework/Versions/3.8/lib/python3.8/site-packages/xgboost/compat.py:93: FutureWarning: pandas.Int64Index is deprecated and will be removed from pandas in a future version. Use pandas.Index with the appropriate dtype instead.\n",
      "  from pandas import MultiIndex, Int64Index\n"
     ]
    }
   ],
   "source": [
    "import numpy as np\n",
    "import matplotlib.pyplot as plt\n",
    "import pandas as pd\n",
    "from pathlib import Path\n",
    "\n",
    "import pickle\n",
    "from pickle import dump, load\n",
    "import time\n",
    "\n",
    "from flaml import AutoML\n",
    "\n",
    "#For reproducibility of the results, the following seeds should be selected \n",
    "from numpy.random import seed\n",
    "seed(20)\n",
    "randSeed = np.random.randint(1000)"
   ]
  },
  {
   "cell_type": "markdown",
   "id": "7a49591d",
   "metadata": {},
   "source": [
    "**User input**"
   ]
  },
  {
   "cell_type": "code",
   "execution_count": 2,
   "id": "4f6081e3",
   "metadata": {},
   "outputs": [],
   "source": [
    "#Number of ensembles\n",
    "nEns    = 25\n",
    "\n",
    "#Model\n",
    "mod     = ['lgbm', 'xgboost', 'xgb_limitdepth', 'catboost', 'rf', 'extra_tree']\n",
    "modOpt  = 0 #[0:'lgbm', 1:'xgboost', 2:'xgb_limitdepth', 3:'catboost', 4:'rf', 5:'extra_tree'],\n",
    "\n",
    "#Time budget\n",
    "maxTime = 60 #in seconds\n",
    "\n",
    "#Cn2 is measured at 6 m, 15 m, and 25 m\n",
    "zLev    = 6 \n",
    "\n",
    "#1:ERA5, 2:MERRA2, 3:COMBO\n",
    "inpOpt  = 3 \n",
    "\n",
    "#Sampling opt\n",
    "sOpt = 1 #0: hourly, 1: 5 min\n",
    "\n",
    "#Train-validation ratio\n",
    "split_ratio = 0.2"
   ]
  },
  {
   "cell_type": "markdown",
   "id": "ce5f8209",
   "metadata": {},
   "source": [
    "**Input & output directories**"
   ]
  },
  {
   "cell_type": "code",
   "execution_count": 3,
   "id": "ed7f647e",
   "metadata": {},
   "outputs": [],
   "source": [
    "ROOT_DIR = \"/Users/sukantabasu/Dropbox/Priority/Works_Ongoing/AIML/2022_HawaiiCn2Reanalysis/\"\n",
    "\n",
    "INPUT_DIR  = ROOT_DIR + \"ExtractedDATA/v02/Tuning/\"\n",
    "OUTPUT_DIR = ROOT_DIR + \"ExtractedDATA/v02/Tuning/\" "
   ]
  },
  {
   "cell_type": "code",
   "execution_count": 4,
   "id": "a881224a",
   "metadata": {},
   "outputs": [],
   "source": [
    "if modOpt == 0:\n",
    "    TUNING_DIR  = OUTPUT_DIR + 'LGBM/'\n",
    "elif modOpt == 1:\n",
    "    TUNING_DIR  = OUTPUT_DIR + 'XGB/'\n",
    "elif modOpt == 2:\n",
    "    TUNING_DIR  = OUTPUT_DIR + 'XGBL/'\n",
    "elif modOpt == 3:\n",
    "    TUNING_DIR  = OUTPUT_DIR + 'CAT/'\n",
    "elif modOpt == 4:\n",
    "    TUNING_DIR  = OUTPUT_DIR + 'RF/'\n",
    "elif modOpt == 5:\n",
    "    TUNING_DIR  = OUTPUT_DIR + 'EXT/'    "
   ]
  },
  {
   "cell_type": "markdown",
   "id": "64d00645",
   "metadata": {},
   "source": [
    "**Test data**"
   ]
  },
  {
   "cell_type": "code",
   "execution_count": 5,
   "id": "202ae570",
   "metadata": {},
   "outputs": [
    {
     "ename": "FileNotFoundError",
     "evalue": "[Errno 2] No such file or directory: '/Users/sukantabasu/Dropbox/Priority/Works_Ongoing/AIML/2022_HawaiiCn2Reanalysis/ExtractedDATA/v02/Tuning/Tst_COMBO_5min.csv'",
     "output_type": "error",
     "traceback": [
      "\u001b[0;31m---------------------------------------------------------------------------\u001b[0m",
      "\u001b[0;31mFileNotFoundError\u001b[0m                         Traceback (most recent call last)",
      "\u001b[0;32m<ipython-input-5-6b9284c5fb57>\u001b[0m in \u001b[0;36m<module>\u001b[0;34m\u001b[0m\n\u001b[1;32m     21\u001b[0m         \u001b[0mdf_F_Tst\u001b[0m \u001b[0;34m=\u001b[0m \u001b[0mpd\u001b[0m\u001b[0;34m.\u001b[0m\u001b[0mread_csv\u001b[0m\u001b[0;34m(\u001b[0m\u001b[0mOUTPUT_DIR\u001b[0m\u001b[0;34m+\u001b[0m\u001b[0;34m'Tst_COMBO_60min.csv'\u001b[0m\u001b[0;34m)\u001b[0m\u001b[0;34m\u001b[0m\u001b[0;34m\u001b[0m\u001b[0m\n\u001b[1;32m     22\u001b[0m     \u001b[0;32melse\u001b[0m\u001b[0;34m:\u001b[0m\u001b[0;34m\u001b[0m\u001b[0;34m\u001b[0m\u001b[0m\n\u001b[0;32m---> 23\u001b[0;31m         \u001b[0mdf_F_Tst\u001b[0m \u001b[0;34m=\u001b[0m \u001b[0mpd\u001b[0m\u001b[0;34m.\u001b[0m\u001b[0mread_csv\u001b[0m\u001b[0;34m(\u001b[0m\u001b[0mOUTPUT_DIR\u001b[0m\u001b[0;34m+\u001b[0m\u001b[0;34m'Tst_COMBO_5min.csv'\u001b[0m\u001b[0;34m)\u001b[0m\u001b[0;34m\u001b[0m\u001b[0;34m\u001b[0m\u001b[0m\n\u001b[0m\u001b[1;32m     24\u001b[0m \u001b[0;34m\u001b[0m\u001b[0m\n\u001b[1;32m     25\u001b[0m     \u001b[0mXTst\u001b[0m \u001b[0;34m=\u001b[0m \u001b[0mdf_F_Tst\u001b[0m\u001b[0;34m[\u001b[0m\u001b[0;34m[\u001b[0m\u001b[0;34m'sinDY'\u001b[0m\u001b[0;34m,\u001b[0m\u001b[0;34m'cosDY'\u001b[0m\u001b[0;34m,\u001b[0m\u001b[0;34m'sinHR'\u001b[0m\u001b[0;34m,\u001b[0m\u001b[0;34m'cosHR'\u001b[0m\u001b[0;34m,\u001b[0m\u001b[0;34m'ERA5_WSPD_10m'\u001b[0m\u001b[0;34m,\u001b[0m\u001b[0;34m'ERA5_WSPD_100m'\u001b[0m\u001b[0;34m,\u001b[0m\u001b[0;34m'ERA5_GUST_10m'\u001b[0m\u001b[0;34m,\u001b[0m\u001b[0;34m'ERA5_alpha'\u001b[0m\u001b[0;34m,\u001b[0m\u001b[0;34m'ERA5_beta'\u001b[0m\u001b[0;34m,\u001b[0m\u001b[0;34m'ERA5_T_2m'\u001b[0m\u001b[0;34m,\u001b[0m\u001b[0;34m'ERA5_TSK'\u001b[0m\u001b[0;34m,\u001b[0m\u001b[0;34m'ERA5_TSL'\u001b[0m\u001b[0;34m,\u001b[0m\u001b[0;34m'ERA5_Td_2m'\u001b[0m\u001b[0;34m,\u001b[0m\u001b[0;34m'ERA5_dT1'\u001b[0m\u001b[0;34m,\u001b[0m\u001b[0;34m'ERA5_dT2'\u001b[0m\u001b[0;34m,\u001b[0m\u001b[0;34m'ERA5_dT3'\u001b[0m\u001b[0;34m,\u001b[0m\u001b[0;34m'ERA5_UST'\u001b[0m\u001b[0;34m,\u001b[0m\u001b[0;34m'ERA5_SHFX'\u001b[0m\u001b[0;34m,\u001b[0m\u001b[0;34m'ERA5_LH'\u001b[0m\u001b[0;34m,\u001b[0m\u001b[0;34m'ERA5_PMSL'\u001b[0m\u001b[0;34m,\u001b[0m\u001b[0;34m'ERA5_PBLH'\u001b[0m\u001b[0;34m,\u001b[0m\u001b[0;34m'ERA5_TCC'\u001b[0m\u001b[0;34m,\u001b[0m\u001b[0;34m'ERA5_LCC'\u001b[0m\u001b[0;34m,\u001b[0m\u001b[0;34m'ERA5_EDR'\u001b[0m\u001b[0;34m,\u001b[0m\u001b[0;34m'ERA5_CAPE'\u001b[0m\u001b[0;34m,\u001b[0m\u001b[0;34m'MRA2_WSPD_2m'\u001b[0m\u001b[0;34m,\u001b[0m\u001b[0;34m'MRA2_WSPD_10m'\u001b[0m\u001b[0;34m,\u001b[0m\u001b[0;34m'MRA2_WSPD_50m'\u001b[0m\u001b[0;34m,\u001b[0m\u001b[0;34m'MRA2_GUST'\u001b[0m\u001b[0;34m,\u001b[0m\u001b[0;34m'MRA2_alpha1'\u001b[0m\u001b[0;34m,\u001b[0m\u001b[0;34m'MRA2_alpha2'\u001b[0m\u001b[0;34m,\u001b[0m\u001b[0;34m'MRA2_beta1'\u001b[0m\u001b[0;34m,\u001b[0m\u001b[0;34m'MRA2_beta2'\u001b[0m\u001b[0;34m,\u001b[0m\u001b[0;34m'MRA2_T_2m'\u001b[0m\u001b[0;34m,\u001b[0m\u001b[0;34m'MRA2_T_10m'\u001b[0m\u001b[0;34m,\u001b[0m\u001b[0;34m'MRA2_TSK'\u001b[0m\u001b[0;34m,\u001b[0m\u001b[0;34m'MRA2_dT1'\u001b[0m\u001b[0;34m,\u001b[0m\u001b[0;34m'MRA2_dT2'\u001b[0m\u001b[0;34m,\u001b[0m\u001b[0;34m'MRA2_Q_2m'\u001b[0m\u001b[0;34m,\u001b[0m\u001b[0;34m'MRA2_Q_10m'\u001b[0m\u001b[0;34m,\u001b[0m\u001b[0;34m'MRA2_dQ'\u001b[0m\u001b[0;34m,\u001b[0m\u001b[0;34m'MRA2_UST'\u001b[0m\u001b[0;34m,\u001b[0m\u001b[0;34m'MRA2_SHFX'\u001b[0m\u001b[0;34m,\u001b[0m\u001b[0;34m'MRA2_LH'\u001b[0m\u001b[0;34m,\u001b[0m\u001b[0;34m'MRA2_PMSL'\u001b[0m\u001b[0;34m,\u001b[0m\u001b[0;34m'MRA2_PBLH'\u001b[0m\u001b[0;34m,\u001b[0m\u001b[0;34m'MRA2_RHO'\u001b[0m\u001b[0;34m,\u001b[0m\u001b[0;34m'MRA2_RIB'\u001b[0m\u001b[0;34m]\u001b[0m\u001b[0;34m]\u001b[0m\u001b[0;34m.\u001b[0m\u001b[0mvalues\u001b[0m\u001b[0;34m\u001b[0m\u001b[0;34m\u001b[0m\u001b[0m\n",
      "\u001b[0;32m/Library/Frameworks/Python.framework/Versions/3.8/lib/python3.8/site-packages/pandas/util/_decorators.py\u001b[0m in \u001b[0;36mwrapper\u001b[0;34m(*args, **kwargs)\u001b[0m\n\u001b[1;32m    209\u001b[0m                 \u001b[0;32melse\u001b[0m\u001b[0;34m:\u001b[0m\u001b[0;34m\u001b[0m\u001b[0;34m\u001b[0m\u001b[0m\n\u001b[1;32m    210\u001b[0m                     \u001b[0mkwargs\u001b[0m\u001b[0;34m[\u001b[0m\u001b[0mnew_arg_name\u001b[0m\u001b[0;34m]\u001b[0m \u001b[0;34m=\u001b[0m \u001b[0mnew_arg_value\u001b[0m\u001b[0;34m\u001b[0m\u001b[0;34m\u001b[0m\u001b[0m\n\u001b[0;32m--> 211\u001b[0;31m             \u001b[0;32mreturn\u001b[0m \u001b[0mfunc\u001b[0m\u001b[0;34m(\u001b[0m\u001b[0;34m*\u001b[0m\u001b[0margs\u001b[0m\u001b[0;34m,\u001b[0m \u001b[0;34m**\u001b[0m\u001b[0mkwargs\u001b[0m\u001b[0;34m)\u001b[0m\u001b[0;34m\u001b[0m\u001b[0;34m\u001b[0m\u001b[0m\n\u001b[0m\u001b[1;32m    212\u001b[0m \u001b[0;34m\u001b[0m\u001b[0m\n\u001b[1;32m    213\u001b[0m         \u001b[0;32mreturn\u001b[0m \u001b[0mcast\u001b[0m\u001b[0;34m(\u001b[0m\u001b[0mF\u001b[0m\u001b[0;34m,\u001b[0m \u001b[0mwrapper\u001b[0m\u001b[0;34m)\u001b[0m\u001b[0;34m\u001b[0m\u001b[0;34m\u001b[0m\u001b[0m\n",
      "\u001b[0;32m/Library/Frameworks/Python.framework/Versions/3.8/lib/python3.8/site-packages/pandas/util/_decorators.py\u001b[0m in \u001b[0;36mwrapper\u001b[0;34m(*args, **kwargs)\u001b[0m\n\u001b[1;32m    329\u001b[0m                     \u001b[0mstacklevel\u001b[0m\u001b[0;34m=\u001b[0m\u001b[0mfind_stack_level\u001b[0m\u001b[0;34m(\u001b[0m\u001b[0;34m)\u001b[0m\u001b[0;34m,\u001b[0m\u001b[0;34m\u001b[0m\u001b[0;34m\u001b[0m\u001b[0m\n\u001b[1;32m    330\u001b[0m                 )\n\u001b[0;32m--> 331\u001b[0;31m             \u001b[0;32mreturn\u001b[0m \u001b[0mfunc\u001b[0m\u001b[0;34m(\u001b[0m\u001b[0;34m*\u001b[0m\u001b[0margs\u001b[0m\u001b[0;34m,\u001b[0m \u001b[0;34m**\u001b[0m\u001b[0mkwargs\u001b[0m\u001b[0;34m)\u001b[0m\u001b[0;34m\u001b[0m\u001b[0;34m\u001b[0m\u001b[0m\n\u001b[0m\u001b[1;32m    332\u001b[0m \u001b[0;34m\u001b[0m\u001b[0m\n\u001b[1;32m    333\u001b[0m         \u001b[0;31m# error: \"Callable[[VarArg(Any), KwArg(Any)], Any]\" has no\u001b[0m\u001b[0;34m\u001b[0m\u001b[0;34m\u001b[0m\u001b[0;34m\u001b[0m\u001b[0m\n",
      "\u001b[0;32m/Library/Frameworks/Python.framework/Versions/3.8/lib/python3.8/site-packages/pandas/io/parsers/readers.py\u001b[0m in \u001b[0;36mread_csv\u001b[0;34m(filepath_or_buffer, sep, delimiter, header, names, index_col, usecols, squeeze, prefix, mangle_dupe_cols, dtype, engine, converters, true_values, false_values, skipinitialspace, skiprows, skipfooter, nrows, na_values, keep_default_na, na_filter, verbose, skip_blank_lines, parse_dates, infer_datetime_format, keep_date_col, date_parser, dayfirst, cache_dates, iterator, chunksize, compression, thousands, decimal, lineterminator, quotechar, quoting, doublequote, escapechar, comment, encoding, encoding_errors, dialect, error_bad_lines, warn_bad_lines, on_bad_lines, delim_whitespace, low_memory, memory_map, float_precision, storage_options)\u001b[0m\n\u001b[1;32m    948\u001b[0m     \u001b[0mkwds\u001b[0m\u001b[0;34m.\u001b[0m\u001b[0mupdate\u001b[0m\u001b[0;34m(\u001b[0m\u001b[0mkwds_defaults\u001b[0m\u001b[0;34m)\u001b[0m\u001b[0;34m\u001b[0m\u001b[0;34m\u001b[0m\u001b[0m\n\u001b[1;32m    949\u001b[0m \u001b[0;34m\u001b[0m\u001b[0m\n\u001b[0;32m--> 950\u001b[0;31m     \u001b[0;32mreturn\u001b[0m \u001b[0m_read\u001b[0m\u001b[0;34m(\u001b[0m\u001b[0mfilepath_or_buffer\u001b[0m\u001b[0;34m,\u001b[0m \u001b[0mkwds\u001b[0m\u001b[0;34m)\u001b[0m\u001b[0;34m\u001b[0m\u001b[0;34m\u001b[0m\u001b[0m\n\u001b[0m\u001b[1;32m    951\u001b[0m \u001b[0;34m\u001b[0m\u001b[0m\n\u001b[1;32m    952\u001b[0m \u001b[0;34m\u001b[0m\u001b[0m\n",
      "\u001b[0;32m/Library/Frameworks/Python.framework/Versions/3.8/lib/python3.8/site-packages/pandas/io/parsers/readers.py\u001b[0m in \u001b[0;36m_read\u001b[0;34m(filepath_or_buffer, kwds)\u001b[0m\n\u001b[1;32m    603\u001b[0m \u001b[0;34m\u001b[0m\u001b[0m\n\u001b[1;32m    604\u001b[0m     \u001b[0;31m# Create the parser.\u001b[0m\u001b[0;34m\u001b[0m\u001b[0;34m\u001b[0m\u001b[0;34m\u001b[0m\u001b[0m\n\u001b[0;32m--> 605\u001b[0;31m     \u001b[0mparser\u001b[0m \u001b[0;34m=\u001b[0m \u001b[0mTextFileReader\u001b[0m\u001b[0;34m(\u001b[0m\u001b[0mfilepath_or_buffer\u001b[0m\u001b[0;34m,\u001b[0m \u001b[0;34m**\u001b[0m\u001b[0mkwds\u001b[0m\u001b[0;34m)\u001b[0m\u001b[0;34m\u001b[0m\u001b[0;34m\u001b[0m\u001b[0m\n\u001b[0m\u001b[1;32m    606\u001b[0m \u001b[0;34m\u001b[0m\u001b[0m\n\u001b[1;32m    607\u001b[0m     \u001b[0;32mif\u001b[0m \u001b[0mchunksize\u001b[0m \u001b[0;32mor\u001b[0m \u001b[0miterator\u001b[0m\u001b[0;34m:\u001b[0m\u001b[0;34m\u001b[0m\u001b[0;34m\u001b[0m\u001b[0m\n",
      "\u001b[0;32m/Library/Frameworks/Python.framework/Versions/3.8/lib/python3.8/site-packages/pandas/io/parsers/readers.py\u001b[0m in \u001b[0;36m__init__\u001b[0;34m(self, f, engine, **kwds)\u001b[0m\n\u001b[1;32m   1440\u001b[0m \u001b[0;34m\u001b[0m\u001b[0m\n\u001b[1;32m   1441\u001b[0m         \u001b[0mself\u001b[0m\u001b[0;34m.\u001b[0m\u001b[0mhandles\u001b[0m\u001b[0;34m:\u001b[0m \u001b[0mIOHandles\u001b[0m \u001b[0;34m|\u001b[0m \u001b[0;32mNone\u001b[0m \u001b[0;34m=\u001b[0m \u001b[0;32mNone\u001b[0m\u001b[0;34m\u001b[0m\u001b[0;34m\u001b[0m\u001b[0m\n\u001b[0;32m-> 1442\u001b[0;31m         \u001b[0mself\u001b[0m\u001b[0;34m.\u001b[0m\u001b[0m_engine\u001b[0m \u001b[0;34m=\u001b[0m \u001b[0mself\u001b[0m\u001b[0;34m.\u001b[0m\u001b[0m_make_engine\u001b[0m\u001b[0;34m(\u001b[0m\u001b[0mf\u001b[0m\u001b[0;34m,\u001b[0m \u001b[0mself\u001b[0m\u001b[0;34m.\u001b[0m\u001b[0mengine\u001b[0m\u001b[0;34m)\u001b[0m\u001b[0;34m\u001b[0m\u001b[0;34m\u001b[0m\u001b[0m\n\u001b[0m\u001b[1;32m   1443\u001b[0m \u001b[0;34m\u001b[0m\u001b[0m\n\u001b[1;32m   1444\u001b[0m     \u001b[0;32mdef\u001b[0m \u001b[0mclose\u001b[0m\u001b[0;34m(\u001b[0m\u001b[0mself\u001b[0m\u001b[0;34m)\u001b[0m \u001b[0;34m->\u001b[0m \u001b[0;32mNone\u001b[0m\u001b[0;34m:\u001b[0m\u001b[0;34m\u001b[0m\u001b[0;34m\u001b[0m\u001b[0m\n",
      "\u001b[0;32m/Library/Frameworks/Python.framework/Versions/3.8/lib/python3.8/site-packages/pandas/io/parsers/readers.py\u001b[0m in \u001b[0;36m_make_engine\u001b[0;34m(self, f, engine)\u001b[0m\n\u001b[1;32m   1733\u001b[0m                 \u001b[0;32mif\u001b[0m \u001b[0;34m\"b\"\u001b[0m \u001b[0;32mnot\u001b[0m \u001b[0;32min\u001b[0m \u001b[0mmode\u001b[0m\u001b[0;34m:\u001b[0m\u001b[0;34m\u001b[0m\u001b[0;34m\u001b[0m\u001b[0m\n\u001b[1;32m   1734\u001b[0m                     \u001b[0mmode\u001b[0m \u001b[0;34m+=\u001b[0m \u001b[0;34m\"b\"\u001b[0m\u001b[0;34m\u001b[0m\u001b[0;34m\u001b[0m\u001b[0m\n\u001b[0;32m-> 1735\u001b[0;31m             self.handles = get_handle(\n\u001b[0m\u001b[1;32m   1736\u001b[0m                 \u001b[0mf\u001b[0m\u001b[0;34m,\u001b[0m\u001b[0;34m\u001b[0m\u001b[0;34m\u001b[0m\u001b[0m\n\u001b[1;32m   1737\u001b[0m                 \u001b[0mmode\u001b[0m\u001b[0;34m,\u001b[0m\u001b[0;34m\u001b[0m\u001b[0;34m\u001b[0m\u001b[0m\n",
      "\u001b[0;32m/Library/Frameworks/Python.framework/Versions/3.8/lib/python3.8/site-packages/pandas/io/common.py\u001b[0m in \u001b[0;36mget_handle\u001b[0;34m(path_or_buf, mode, encoding, compression, memory_map, is_text, errors, storage_options)\u001b[0m\n\u001b[1;32m    854\u001b[0m         \u001b[0;32mif\u001b[0m \u001b[0mioargs\u001b[0m\u001b[0;34m.\u001b[0m\u001b[0mencoding\u001b[0m \u001b[0;32mand\u001b[0m \u001b[0;34m\"b\"\u001b[0m \u001b[0;32mnot\u001b[0m \u001b[0;32min\u001b[0m \u001b[0mioargs\u001b[0m\u001b[0;34m.\u001b[0m\u001b[0mmode\u001b[0m\u001b[0;34m:\u001b[0m\u001b[0;34m\u001b[0m\u001b[0;34m\u001b[0m\u001b[0m\n\u001b[1;32m    855\u001b[0m             \u001b[0;31m# Encoding\u001b[0m\u001b[0;34m\u001b[0m\u001b[0;34m\u001b[0m\u001b[0;34m\u001b[0m\u001b[0m\n\u001b[0;32m--> 856\u001b[0;31m             handle = open(\n\u001b[0m\u001b[1;32m    857\u001b[0m                 \u001b[0mhandle\u001b[0m\u001b[0;34m,\u001b[0m\u001b[0;34m\u001b[0m\u001b[0;34m\u001b[0m\u001b[0m\n\u001b[1;32m    858\u001b[0m                 \u001b[0mioargs\u001b[0m\u001b[0;34m.\u001b[0m\u001b[0mmode\u001b[0m\u001b[0;34m,\u001b[0m\u001b[0;34m\u001b[0m\u001b[0;34m\u001b[0m\u001b[0m\n",
      "\u001b[0;31mFileNotFoundError\u001b[0m: [Errno 2] No such file or directory: '/Users/sukantabasu/Dropbox/Priority/Works_Ongoing/AIML/2022_HawaiiCn2Reanalysis/ExtractedDATA/v02/Tuning/Tst_COMBO_5min.csv'"
     ]
    }
   ],
   "source": [
    "if inpOpt == 1:\n",
    "\n",
    "    if sOpt == 0:\n",
    "        df_F_Tst = pd.read_csv(OUTPUT_DIR+'Tst_ERA5_60min.csv')\n",
    "    else:\n",
    "        df_F_Tst = pd.read_csv(OUTPUT_DIR+'Tst_ERA5_5min.csv')    \n",
    "    XTst = df_F_Tst[['sinDY','cosDY','sinHR','cosHR','ERA5_WSPD_10m','ERA5_WSPD_100m','ERA5_GUST_10m','ERA5_alpha','ERA5_beta','ERA5_T_2m','ERA5_TSK','ERA5_TSL','ERA5_Td_2m','ERA5_dT1','ERA5_dT2','ERA5_dT3','ERA5_UST','ERA5_SHFX','ERA5_LH','ERA5_PMSL','ERA5_PBLH','ERA5_TCC','ERA5_LCC','ERA5_EDR','ERA5_CAPE']].values\n",
    "\n",
    "elif inpOpt == 2: \n",
    "    \n",
    "    if sOpt == 0:\n",
    "        df_F_Tst = pd.read_csv(OUTPUT_DIR+'Tst_MERRA2_60min.csv')\n",
    "    else:\n",
    "        df_F_Tst = pd.read_csv(OUTPUT_DIR+'Tst_MERRA2_5min.csv')\n",
    "            \n",
    "    XTst = df_F_Tst[['sinDY','cosDY','sinHR','cosHR','MRA2_WSPD_2m','MRA2_WSPD_10m','MRA2_WSPD_50m','MRA2_GUST','MRA2_alpha1','MRA2_alpha2','MRA2_beta1','MRA2_beta2','MRA2_T_2m','MRA2_T_10m','MRA2_TSK','MRA2_dT1','MRA2_dT2','MRA2_Q_2m','MRA2_Q_10m','MRA2_dQ','MRA2_UST','MRA2_SHFX','MRA2_LH','MRA2_PMSL','MRA2_PBLH','MRA2_RHO','MRA2_RIB']].values    \n",
    "\n",
    "elif inpOpt == 3:\n",
    "    \n",
    "    if sOpt == 0:\n",
    "        df_F_Tst = pd.read_csv(OUTPUT_DIR+'Tst_COMBO_60min.csv')\n",
    "    else:\n",
    "        df_F_Tst = pd.read_csv(OUTPUT_DIR+'Tst_COMBO_5min.csv')\n",
    "            \n",
    "    XTst = df_F_Tst[['sinDY','cosDY','sinHR','cosHR','ERA5_WSPD_10m','ERA5_WSPD_100m','ERA5_GUST_10m','ERA5_alpha','ERA5_beta','ERA5_T_2m','ERA5_TSK','ERA5_TSL','ERA5_Td_2m','ERA5_dT1','ERA5_dT2','ERA5_dT3','ERA5_UST','ERA5_SHFX','ERA5_LH','ERA5_PMSL','ERA5_PBLH','ERA5_TCC','ERA5_LCC','ERA5_EDR','ERA5_CAPE','MRA2_WSPD_2m','MRA2_WSPD_10m','MRA2_WSPD_50m','MRA2_GUST','MRA2_alpha1','MRA2_alpha2','MRA2_beta1','MRA2_beta2','MRA2_T_2m','MRA2_T_10m','MRA2_TSK','MRA2_dT1','MRA2_dT2','MRA2_Q_2m','MRA2_Q_10m','MRA2_dQ','MRA2_UST','MRA2_SHFX','MRA2_LH','MRA2_PMSL','MRA2_PBLH','MRA2_RHO','MRA2_RIB']].values\n",
    "    \n",
    "if zLev == 6:\n",
    "    yTst_true = df_F_Tst[['LCn2_06m']].values\n",
    "elif zLev == 15: \n",
    "    yTst_true = df_F_Tst[['LCn2_15m']].values\n",
    "elif zLev == 25:\n",
    "    yTst_true = df_F_Tst[['LCn2_25m']].values"
   ]
  },
  {
   "cell_type": "markdown",
   "id": "d17ac69f",
   "metadata": {},
   "source": [
    "#### FLAML-based predictions"
   ]
  },
  {
   "cell_type": "code",
   "execution_count": null,
   "id": "8942e6df",
   "metadata": {},
   "outputs": [],
   "source": [
    "nSamples, nFeatures = np.shape(XTst)\n",
    "\n",
    "yTst = np.zeros((nSamples,nEns))\n",
    "for n in range(nEns):\n",
    "\n",
    "    fSTR = TUNING_DIR + 'FLAML' + '_zLev' + str(zLev) + '_inpOpt' + str(inpOpt) + '_sOpt' + str(sOpt) + '_modOpt' + str(modOpt) + '_maxT' + str(maxTime) + '_Ens' + str(n) + '.pkl'\n",
    "    with open(fSTR, \"rb\") as f:\n",
    "        automl = pickle.load(f)\n",
    "\n",
    "    modFLAML = automl.best_model_for_estimator(mod[modOpt])\n",
    "    yTst[:,n]     = modFLAML.predict(XTst)"
   ]
  },
  {
   "cell_type": "markdown",
   "id": "0cf6b973",
   "metadata": {},
   "source": [
    "#### Compute median and pecentile predictions"
   ]
  },
  {
   "cell_type": "code",
   "execution_count": null,
   "id": "677702df",
   "metadata": {},
   "outputs": [],
   "source": [
    "yTst_p10 = np.percentile(yTst,10, axis = 1)\n",
    "yTst_p50 = np.percentile(yTst,50, axis = 1)\n",
    "yTst_p90 = np.percentile(yTst,90, axis = 1)"
   ]
  },
  {
   "cell_type": "code",
   "execution_count": null,
   "id": "f3340c13",
   "metadata": {},
   "outputs": [],
   "source": [
    "plt.plot(yTst_p50,'-k')\n",
    "plt.plot(yTst_true,'-m')"
   ]
  },
  {
   "cell_type": "code",
   "execution_count": null,
   "id": "bbc41f84",
   "metadata": {},
   "outputs": [],
   "source": [
    "i = 3000\n",
    "plt.plot(yTst_p50[i:i+200],'-k')\n",
    "plt.plot(yTst_true[i:i+200],'-m')\n",
    "plt.show()"
   ]
  },
  {
   "cell_type": "code",
   "execution_count": null,
   "id": "a2a635ab",
   "metadata": {},
   "outputs": [],
   "source": [
    "plt.plot(yTst_true,yTst_p50,'.k')\n",
    "plt.xlim((-16.5,-11.5))\n",
    "plt.ylim((-16.5,-11.5))\n",
    "plt.xlabel('Observed Cn2')\n",
    "plt.ylabel('Predicted Cn2')"
   ]
  },
  {
   "cell_type": "code",
   "execution_count": null,
   "id": "92db2991",
   "metadata": {},
   "outputs": [],
   "source": []
  }
 ],
 "metadata": {
  "kernelspec": {
   "display_name": "Python 3",
   "language": "python",
   "name": "python3"
  },
  "language_info": {
   "codemirror_mode": {
    "name": "ipython",
    "version": 3
   },
   "file_extension": ".py",
   "mimetype": "text/x-python",
   "name": "python",
   "nbconvert_exporter": "python",
   "pygments_lexer": "ipython3",
   "version": "3.8.6"
  }
 },
 "nbformat": 4,
 "nbformat_minor": 5
}
