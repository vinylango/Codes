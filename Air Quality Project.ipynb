{
 "cells": [
  {
   "cell_type": "code",
   "execution_count": 7,
   "id": "artistic-sense",
   "metadata": {},
   "outputs": [],
   "source": [
    "import pandas as pd\n",
    "import numpy as np\n",
    "import seaborn as sns\n",
    "#import cufflinks as cf\n",
    "import warnings\n",
    "import itertools\n",
    "import matplotlib.pyplot as plt\n",
    "warnings.filterwarnings(\"ignore\")\n",
    "plt.style.use('fivethirtyeight')\n",
    "import statsmodels.api as sm\n",
    "import matplotlib\n",
    "matplotlib.rcParams['axes.labelsize'] = 14\n",
    "matplotlib.rcParams['xtick.labelsize'] = 12\n",
    "matplotlib.rcParams['ytick.labelsize'] = 12\n",
    "matplotlib.rcParams['text.color'] = 'k'\n",
    "\n",
    "\n",
    "data1=pd.read_csv(\"Data_2017.csv\")\n",
    "data2=pd.read_csv(\"Data_2018.csv\")\n",
    "data3=pd.read_csv(\"Data_2019.csv\")\n",
    "data4=pd.read_csv(\"Data_2020.csv\")\n",
    "data5=pd.read_csv(\"Data_PM_2017.csv\")\n",
    "data6=pd.read_csv(\"Data_PM_2018.csv\")\n",
    "data7=pd.read_csv(\"Data_PM_2019.csv\")\n",
    "p_id1=data1['pollutant_id'].to_list()\n",
    "date1=data1['date_time'].to_list()\n",
    "p_value1=data1['pollutant_value'].to_list()\n",
    "s_code1=data1['station_code'].to_list()\n",
    "\n",
    "p_id2=data2['pollutant_id'].to_list()\n",
    "date2=data2['date_time'].to_list()\n",
    "p_value2=data2['pollutant_value'].to_list()\n",
    "s_code2=data2['station_code'].to_list()\n",
    "\n",
    "\n",
    "p_id3=data3['pollutant_id'].to_list()\n",
    "date3=data3['date_time'].to_list()\n",
    "p_value3=data3['pollutant_value'].to_list()\n",
    "s_code3=data3['station_code'].to_list()\n",
    "\n",
    "p_id4=data4['pollutant_id'].to_list()\n",
    "date4=data4['date_time'].to_list()\n",
    "p_value4=data4['pollutant_value'].to_list()\n",
    "s_code4=data4['station_code'].to_list()\n",
    "\n",
    "p_id=p_id1+p_id2+p_id3+p_id4\n",
    "date=date1+date2+date3+date4\n",
    "p_value=p_value1+p_value2+p_value3+p_value4\n",
    "s_code=s_code1+s_code2+s_code3+s_code4\n",
    "\n",
    "#Particulate matter\n",
    "p_id5=data5['Pollutant_Id'].to_list()\n",
    "#date5=data5['date_time'].to_list()\n",
    "p_value5=data5['Pollutant_Value'].to_list()\n",
    "s_code5=data5['Station_code'].to_list()\n",
    "\n",
    "p_id6=data6['pollutant_id'].to_list()\n",
    "#date6=data6['date_time'].to_list()\n",
    "p_value6=data6['pollutant_value'].to_list()\n",
    "s_code6=data6['station_code'].to_list()\n",
    "\n",
    "\n",
    "p_id7=data7['pollutant_id'].to_list()\n",
    "#date7=data7['date_time'].to_list()\n",
    "p_value7=data7['pollutant_value'].to_list()\n",
    "s_code7=data7['station_code'].to_list()\n",
    "\n",
    "P_id=p_id5+p_id6+p_id7\n",
    "P_value=p_value5+p_value6+p_value7\n",
    "S_code=s_code5+s_code6+s_code7"
   ]
  },
  {
   "cell_type": "code",
   "execution_count": 8,
   "id": "southwest-barbados",
   "metadata": {},
   "outputs": [
    {
     "data": {
      "text/plain": [
       "('31/12/2020 22:00', '4196.2')"
      ]
     },
     "execution_count": 8,
     "metadata": {},
     "output_type": "execute_result"
    }
   ],
   "source": [
    "date_NT=[date[i] for i in range(len(p_id)) if p_id[i]==6 and s_code[i]==1]\n",
    "NO_2=[p_value[i] for i in range(len(p_id)) if p_id[i]==2 and  s_code[i]==1]\n",
    "SO_2=[p_value[i] for i in range(len(p_id)) if(p_id[i]==4 and s_code[i]==1)]\n",
    "O_3=[p_value[i] for i in range(len(p_id)) if(p_id[i]==5 and s_code[i]==1)]\n",
    "CO=[p_value[i] for i in range(len(p_id)) if(p_id[i]==6 and s_code[i]==1)]\n",
    "date_NT[35062],CO[35062]"
   ]
  },
  {
   "cell_type": "markdown",
   "id": "accompanied-malpractice",
   "metadata": {},
   "source": [
    " ##  NICOSIA TRAFFIC"
   ]
  },
  {
   "cell_type": "code",
   "execution_count": 9,
   "id": "failing-punch",
   "metadata": {},
   "outputs": [
    {
     "ename": "ValueError",
     "evalue": "Length of values does not match length of index",
     "output_type": "error",
     "traceback": [
      "\u001b[0;31m---------------------------------------------------------------------------\u001b[0m",
      "\u001b[0;31mValueError\u001b[0m                                Traceback (most recent call last)",
      "\u001b[0;32m<ipython-input-9-b91463d0568b>\u001b[0m in \u001b[0;36m<module>\u001b[0;34m\u001b[0m\n\u001b[1;32m     67\u001b[0m \u001b[0mPM_2_5_NT\u001b[0m\u001b[0;34m=\u001b[0m\u001b[0;34m[\u001b[0m\u001b[0mP_value\u001b[0m\u001b[0;34m[\u001b[0m\u001b[0mi\u001b[0m\u001b[0;34m]\u001b[0m \u001b[0;32mfor\u001b[0m \u001b[0mi\u001b[0m \u001b[0;32min\u001b[0m \u001b[0mrange\u001b[0m\u001b[0;34m(\u001b[0m\u001b[0mlen\u001b[0m\u001b[0;34m(\u001b[0m\u001b[0mP_id\u001b[0m\u001b[0;34m)\u001b[0m\u001b[0;34m)\u001b[0m \u001b[0;32mif\u001b[0m\u001b[0;34m(\u001b[0m\u001b[0mP_id\u001b[0m\u001b[0;34m[\u001b[0m\u001b[0mi\u001b[0m\u001b[0;34m]\u001b[0m\u001b[0;34m==\u001b[0m\u001b[0;36m26\u001b[0m \u001b[0;32mand\u001b[0m \u001b[0mS_code\u001b[0m\u001b[0;34m[\u001b[0m\u001b[0mi\u001b[0m\u001b[0;34m]\u001b[0m\u001b[0;34m==\u001b[0m\u001b[0;36m1\u001b[0m\u001b[0;34m)\u001b[0m\u001b[0;34m]\u001b[0m\u001b[0;34m\u001b[0m\u001b[0;34m\u001b[0m\u001b[0m\n\u001b[1;32m     68\u001b[0m \u001b[0mPM_10_NT\u001b[0m\u001b[0;34m=\u001b[0m\u001b[0;34m[\u001b[0m\u001b[0mP_value\u001b[0m\u001b[0;34m[\u001b[0m\u001b[0mi\u001b[0m\u001b[0;34m]\u001b[0m \u001b[0;32mfor\u001b[0m \u001b[0mi\u001b[0m \u001b[0;32min\u001b[0m \u001b[0mrange\u001b[0m\u001b[0;34m(\u001b[0m\u001b[0mlen\u001b[0m\u001b[0;34m(\u001b[0m\u001b[0mP_id\u001b[0m\u001b[0;34m)\u001b[0m\u001b[0;34m)\u001b[0m \u001b[0;32mif\u001b[0m\u001b[0;34m(\u001b[0m\u001b[0mP_id\u001b[0m\u001b[0;34m[\u001b[0m\u001b[0mi\u001b[0m\u001b[0;34m]\u001b[0m\u001b[0;34m==\u001b[0m\u001b[0;36m25\u001b[0m \u001b[0;32mand\u001b[0m \u001b[0mS_code\u001b[0m\u001b[0;34m[\u001b[0m\u001b[0mi\u001b[0m\u001b[0;34m]\u001b[0m\u001b[0;34m==\u001b[0m\u001b[0;36m1\u001b[0m\u001b[0;34m)\u001b[0m\u001b[0;34m]\u001b[0m\u001b[0;34m\u001b[0m\u001b[0;34m\u001b[0m\u001b[0m\n\u001b[0;32m---> 69\u001b[0;31m \u001b[0mdata_NT\u001b[0m\u001b[0;34m[\u001b[0m\u001b[0;34m'PM_2.5'\u001b[0m\u001b[0;34m]\u001b[0m\u001b[0;34m=\u001b[0m\u001b[0mPM_2_5_NT\u001b[0m\u001b[0;34m\u001b[0m\u001b[0;34m\u001b[0m\u001b[0m\n\u001b[0m\u001b[1;32m     70\u001b[0m \u001b[0mdata_NT\u001b[0m\u001b[0;34m[\u001b[0m\u001b[0;34m'PM_10'\u001b[0m\u001b[0;34m]\u001b[0m\u001b[0;34m=\u001b[0m\u001b[0mPM_10_NT\u001b[0m\u001b[0;34m\u001b[0m\u001b[0;34m\u001b[0m\u001b[0m\n\u001b[1;32m     71\u001b[0m \u001b[0mcolumn_mean9\u001b[0m \u001b[0;34m=\u001b[0m \u001b[0mdata_NT\u001b[0m\u001b[0;34m[\u001b[0m\u001b[0;34m'PM_2.5'\u001b[0m\u001b[0;34m]\u001b[0m\u001b[0;34m.\u001b[0m\u001b[0mmean\u001b[0m\u001b[0;34m(\u001b[0m\u001b[0;34m)\u001b[0m\u001b[0;34m\u001b[0m\u001b[0;34m\u001b[0m\u001b[0m\n",
      "\u001b[0;32m/Library/Frameworks/Python.framework/Versions/3.8/lib/python3.8/site-packages/pandas/core/frame.py\u001b[0m in \u001b[0;36m__setitem__\u001b[0;34m(self, key, value)\u001b[0m\n\u001b[1;32m   2936\u001b[0m         \u001b[0;32melse\u001b[0m\u001b[0;34m:\u001b[0m\u001b[0;34m\u001b[0m\u001b[0;34m\u001b[0m\u001b[0m\n\u001b[1;32m   2937\u001b[0m             \u001b[0;31m# set column\u001b[0m\u001b[0;34m\u001b[0m\u001b[0;34m\u001b[0m\u001b[0;34m\u001b[0m\u001b[0m\n\u001b[0;32m-> 2938\u001b[0;31m             \u001b[0mself\u001b[0m\u001b[0;34m.\u001b[0m\u001b[0m_set_item\u001b[0m\u001b[0;34m(\u001b[0m\u001b[0mkey\u001b[0m\u001b[0;34m,\u001b[0m \u001b[0mvalue\u001b[0m\u001b[0;34m)\u001b[0m\u001b[0;34m\u001b[0m\u001b[0;34m\u001b[0m\u001b[0m\n\u001b[0m\u001b[1;32m   2939\u001b[0m \u001b[0;34m\u001b[0m\u001b[0m\n\u001b[1;32m   2940\u001b[0m     \u001b[0;32mdef\u001b[0m \u001b[0m_setitem_slice\u001b[0m\u001b[0;34m(\u001b[0m\u001b[0mself\u001b[0m\u001b[0;34m,\u001b[0m \u001b[0mkey\u001b[0m\u001b[0;34m,\u001b[0m \u001b[0mvalue\u001b[0m\u001b[0;34m)\u001b[0m\u001b[0;34m:\u001b[0m\u001b[0;34m\u001b[0m\u001b[0;34m\u001b[0m\u001b[0m\n",
      "\u001b[0;32m/Library/Frameworks/Python.framework/Versions/3.8/lib/python3.8/site-packages/pandas/core/frame.py\u001b[0m in \u001b[0;36m_set_item\u001b[0;34m(self, key, value)\u001b[0m\n\u001b[1;32m   2998\u001b[0m \u001b[0;34m\u001b[0m\u001b[0m\n\u001b[1;32m   2999\u001b[0m         \u001b[0mself\u001b[0m\u001b[0;34m.\u001b[0m\u001b[0m_ensure_valid_index\u001b[0m\u001b[0;34m(\u001b[0m\u001b[0mvalue\u001b[0m\u001b[0;34m)\u001b[0m\u001b[0;34m\u001b[0m\u001b[0;34m\u001b[0m\u001b[0m\n\u001b[0;32m-> 3000\u001b[0;31m         \u001b[0mvalue\u001b[0m \u001b[0;34m=\u001b[0m \u001b[0mself\u001b[0m\u001b[0;34m.\u001b[0m\u001b[0m_sanitize_column\u001b[0m\u001b[0;34m(\u001b[0m\u001b[0mkey\u001b[0m\u001b[0;34m,\u001b[0m \u001b[0mvalue\u001b[0m\u001b[0;34m)\u001b[0m\u001b[0;34m\u001b[0m\u001b[0;34m\u001b[0m\u001b[0m\n\u001b[0m\u001b[1;32m   3001\u001b[0m         \u001b[0mNDFrame\u001b[0m\u001b[0;34m.\u001b[0m\u001b[0m_set_item\u001b[0m\u001b[0;34m(\u001b[0m\u001b[0mself\u001b[0m\u001b[0;34m,\u001b[0m \u001b[0mkey\u001b[0m\u001b[0;34m,\u001b[0m \u001b[0mvalue\u001b[0m\u001b[0;34m)\u001b[0m\u001b[0;34m\u001b[0m\u001b[0;34m\u001b[0m\u001b[0m\n\u001b[1;32m   3002\u001b[0m \u001b[0;34m\u001b[0m\u001b[0m\n",
      "\u001b[0;32m/Library/Frameworks/Python.framework/Versions/3.8/lib/python3.8/site-packages/pandas/core/frame.py\u001b[0m in \u001b[0;36m_sanitize_column\u001b[0;34m(self, key, value, broadcast)\u001b[0m\n\u001b[1;32m   3634\u001b[0m \u001b[0;34m\u001b[0m\u001b[0m\n\u001b[1;32m   3635\u001b[0m             \u001b[0;31m# turn me into an ndarray\u001b[0m\u001b[0;34m\u001b[0m\u001b[0;34m\u001b[0m\u001b[0;34m\u001b[0m\u001b[0m\n\u001b[0;32m-> 3636\u001b[0;31m             \u001b[0mvalue\u001b[0m \u001b[0;34m=\u001b[0m \u001b[0msanitize_index\u001b[0m\u001b[0;34m(\u001b[0m\u001b[0mvalue\u001b[0m\u001b[0;34m,\u001b[0m \u001b[0mself\u001b[0m\u001b[0;34m.\u001b[0m\u001b[0mindex\u001b[0m\u001b[0;34m,\u001b[0m \u001b[0mcopy\u001b[0m\u001b[0;34m=\u001b[0m\u001b[0;32mFalse\u001b[0m\u001b[0;34m)\u001b[0m\u001b[0;34m\u001b[0m\u001b[0;34m\u001b[0m\u001b[0m\n\u001b[0m\u001b[1;32m   3637\u001b[0m             \u001b[0;32mif\u001b[0m \u001b[0;32mnot\u001b[0m \u001b[0misinstance\u001b[0m\u001b[0;34m(\u001b[0m\u001b[0mvalue\u001b[0m\u001b[0;34m,\u001b[0m \u001b[0;34m(\u001b[0m\u001b[0mnp\u001b[0m\u001b[0;34m.\u001b[0m\u001b[0mndarray\u001b[0m\u001b[0;34m,\u001b[0m \u001b[0mIndex\u001b[0m\u001b[0;34m)\u001b[0m\u001b[0;34m)\u001b[0m\u001b[0;34m:\u001b[0m\u001b[0;34m\u001b[0m\u001b[0;34m\u001b[0m\u001b[0m\n\u001b[1;32m   3638\u001b[0m                 \u001b[0;32mif\u001b[0m \u001b[0misinstance\u001b[0m\u001b[0;34m(\u001b[0m\u001b[0mvalue\u001b[0m\u001b[0;34m,\u001b[0m \u001b[0mlist\u001b[0m\u001b[0;34m)\u001b[0m \u001b[0;32mand\u001b[0m \u001b[0mlen\u001b[0m\u001b[0;34m(\u001b[0m\u001b[0mvalue\u001b[0m\u001b[0;34m)\u001b[0m \u001b[0;34m>\u001b[0m \u001b[0;36m0\u001b[0m\u001b[0;34m:\u001b[0m\u001b[0;34m\u001b[0m\u001b[0;34m\u001b[0m\u001b[0m\n",
      "\u001b[0;32m/Library/Frameworks/Python.framework/Versions/3.8/lib/python3.8/site-packages/pandas/core/internals/construction.py\u001b[0m in \u001b[0;36msanitize_index\u001b[0;34m(data, index, copy)\u001b[0m\n\u001b[1;32m    609\u001b[0m \u001b[0;34m\u001b[0m\u001b[0m\n\u001b[1;32m    610\u001b[0m     \u001b[0;32mif\u001b[0m \u001b[0mlen\u001b[0m\u001b[0;34m(\u001b[0m\u001b[0mdata\u001b[0m\u001b[0;34m)\u001b[0m \u001b[0;34m!=\u001b[0m \u001b[0mlen\u001b[0m\u001b[0;34m(\u001b[0m\u001b[0mindex\u001b[0m\u001b[0;34m)\u001b[0m\u001b[0;34m:\u001b[0m\u001b[0;34m\u001b[0m\u001b[0;34m\u001b[0m\u001b[0m\n\u001b[0;32m--> 611\u001b[0;31m         \u001b[0;32mraise\u001b[0m \u001b[0mValueError\u001b[0m\u001b[0;34m(\u001b[0m\u001b[0;34m\"Length of values does not match length of index\"\u001b[0m\u001b[0;34m)\u001b[0m\u001b[0;34m\u001b[0m\u001b[0;34m\u001b[0m\u001b[0m\n\u001b[0m\u001b[1;32m    612\u001b[0m \u001b[0;34m\u001b[0m\u001b[0m\n\u001b[1;32m    613\u001b[0m     \u001b[0;32mif\u001b[0m \u001b[0misinstance\u001b[0m\u001b[0;34m(\u001b[0m\u001b[0mdata\u001b[0m\u001b[0;34m,\u001b[0m \u001b[0mABCIndexClass\u001b[0m\u001b[0;34m)\u001b[0m \u001b[0;32mand\u001b[0m \u001b[0;32mnot\u001b[0m \u001b[0mcopy\u001b[0m\u001b[0;34m:\u001b[0m\u001b[0;34m\u001b[0m\u001b[0;34m\u001b[0m\u001b[0m\n",
      "\u001b[0;31mValueError\u001b[0m: Length of values does not match length of index"
     ]
    }
   ],
   "source": [
    "date_NT=[date[i] for i in range(len(p_id)) if p_id[i]==6 and s_code[i]==1]\n",
    "NO_2=[p_value[i] for i in range(len(p_id)) if p_id[i]==2 and  s_code[i]==1]\n",
    "SO_2=[p_value[i] for i in range(len(p_id)) if(p_id[i]==4 and s_code[i]==1)]\n",
    "O_3=[p_value[i] for i in range(len(p_id)) if(p_id[i]==5 and s_code[i]==1)]\n",
    "CO=[p_value[i] for i in range(len(p_id)) if(p_id[i]==6 and s_code[i]==1)]\n",
    "for i in range(len(CO)):\n",
    "    if (CO[i]=='BDL'):\n",
    "        CO[i]='nan'\n",
    "    elif NO_2[i]=='BDL':\n",
    "        NO_2[i]='nan'\n",
    "    elif SO_2[i]=='BDL':\n",
    "        SO_2[i]='nan'\n",
    "    elif O_3[i]==\"BDL\":\n",
    "        O_3[i]='nan'\n",
    "    else:\n",
    "        pass\n",
    "\n",
    "for i in range(len(CO)):\n",
    "    if (CO[i]=='nan'):\n",
    "        CO[i]='0'\n",
    "    elif SO_2[i]=='nan':\n",
    "        SO_2[i]='0'\n",
    "    elif NO_2[i]=='nan':\n",
    "        NO_2[i]='0'\n",
    "    elif O_3[i]=='nan':\n",
    "        O_3[i]='0'\n",
    "    else:\n",
    "        pass\n",
    "    \n",
    "for i in range(len(SO_2)):\n",
    "    if SO_2[i]=='BDL':\n",
    "        SO_2[i]='nan'\n",
    "for i in range(len(O_3)):\n",
    "    if O_3[i]=='BDL':\n",
    "        O_3[i]='nan'\n",
    "for i in range(len(SO_2)):\n",
    "    if (SO_2[i]=='nan'):\n",
    "        SO_2[i]='0'\n",
    "for i in range(len(O_3)):\n",
    "    if (O_3[i]=='nan'):\n",
    "        O_3[i]='0'\n",
    "    \n",
    "    \n",
    "data_NT=[[date_NT[i],NO_2[i],SO_2[i],O_3[i], CO[i]] for i in range(len(date_NT))] \n",
    "data_NT= pd.DataFrame(data_NT, columns = ['Date','NO_2','SO_2','O_3', 'CO'])\n",
    "data_NT[\"CO\"] = pd.to_numeric(data_NT[\"CO\"], downcast=\"float\")\n",
    "data_NT[\"NO_2\"] = pd.to_numeric(data_NT[\"NO_2\"], downcast=\"float\")\n",
    "data_NT[\"SO_2\"] = pd.to_numeric(data_NT[\"SO_2\"], downcast=\"float\")\n",
    "data_NT[\"O_3\"] = pd.to_numeric(data_NT[\"O_3\"], downcast=\"float\")\n",
    "\n",
    "column_mean1 = data_NT['CO'].mean()\n",
    "column_mean2 = data_NT['NO_2'].mean()\n",
    "column_mean3 = data_NT['SO_2'].mean()\n",
    "column_mean4 = data_NT['O_3'].mean()\n",
    "\n",
    "data_NT['CO'].fillna(column_mean1)\n",
    "data_NT['NO_2'].fillna(column_mean2)\n",
    "data_NT['SO_2'].fillna(column_mean3)\n",
    "data_NT['O_3'].fillna(column_mean4)\n",
    "\n",
    "data_NT['Date'] = pd.to_datetime(data_NT['Date'])\n",
    "data_NT=data_NT.set_index('Date')\n",
    "data_NT_O=data_NT\n",
    "\n",
    "data_NT=data_NT.resample('D').mean()\n",
    "#Nicosia Traffic\n",
    "PM_2_5_NT=[P_value[i] for i in range(len(P_id)) if(P_id[i]==26 and S_code[i]==1)]\n",
    "PM_10_NT=[P_value[i] for i in range(len(P_id)) if(P_id[i]==25 and S_code[i]==1)]\n",
    "data_NT['PM_2.5']=PM_2_5_NT\n",
    "data_NT['PM_10']=PM_10_NT\n",
    "column_mean9 = data_NT['PM_2.5'].mean()\n",
    "column_mean10 = data_NT['PM_10'].mean()\n",
    "\n",
    "data_NT['PM_2.5'].fillna(column_mean9)\n",
    "data_NT['PM_10'].fillna(column_mean10)\n",
    "data_NT_O.shape\n"
   ]
  },
  {
   "cell_type": "code",
   "execution_count": null,
   "id": "fuzzy-lindsay",
   "metadata": {},
   "outputs": [],
   "source": [
    "data_NT_O[24000:24290]"
   ]
  },
  {
   "cell_type": "code",
   "execution_count": null,
   "id": "pleased-kenya",
   "metadata": {},
   "outputs": [],
   "source": [
    "data_NT.describe()"
   ]
  },
  {
   "cell_type": "markdown",
   "id": "mobile-youth",
   "metadata": {},
   "source": [
    "# Variance Inflator factor(VIF)\n",
    "\n",
    "A value of 1 indicates there is no correlation between a given explanatory variable and \n",
    "any other explanatory variables in the model.A value between 1 and 5 indicates moderate correlation between a given explanatory variable and other explanatory variables in the model, but this is often not severe enough to require attention.A value greater than 5 indicates potentially severe correlation between a given explanatory variable and other explanatory variables in the model. In this case, the coefficient estimates and p-values in the regression output are likely unreliable."
   ]
  },
  {
   "cell_type": "code",
   "execution_count": null,
   "id": "smoking-victory",
   "metadata": {},
   "outputs": [],
   "source": [
    "from patsy import dmatrices\n",
    "from statsmodels.stats.outliers_influence import variance_inflation_factor\n",
    "y, X = dmatrices('NO_2 ~ SO_2+O_3+CO', data=data_NT, return_type='dataframe')\n",
    "#calculate VIF for each explanatory variable\n",
    "vif = pd.DataFrame()\n",
    "vif['VIF'] = [variance_inflation_factor(X.values, i) for i in range(X.shape[1])]\n",
    "vif['variable'] = X.columns\n",
    "vif"
   ]
  },
  {
   "cell_type": "code",
   "execution_count": null,
   "id": "returning-perry",
   "metadata": {},
   "outputs": [],
   "source": [
    "date_NR=[date[i] for i in range(len(p_id)) if p_id[i]==6 and s_code[i]==2]\n",
    "NO_2=[p_value[i] for i in range(len(p_id)) if p_id[i]==2 and  s_code[i]==2]\n",
    "SO_2=[p_value[i] for i in range(len(p_id)) if(p_id[i]==4 and s_code[i]==2)]\n",
    "O_3=[p_value[i] for i in range(len(p_id)) if(p_id[i]==5 and s_code[i]==2)]\n",
    "CO=[p_value[i] for i in range(len(p_id)) if(p_id[i]==6 and s_code[i]==2)]"
   ]
  },
  {
   "cell_type": "markdown",
   "id": "elect-split",
   "metadata": {},
   "source": [
    "## NICOSIA RESIDENCE"
   ]
  },
  {
   "cell_type": "code",
   "execution_count": 6,
   "id": "offshore-point",
   "metadata": {},
   "outputs": [
    {
     "ename": "ValueError",
     "evalue": "Length of values does not match length of index",
     "output_type": "error",
     "traceback": [
      "\u001b[0;31m---------------------------------------------------------------------------\u001b[0m",
      "\u001b[0;31mValueError\u001b[0m                                Traceback (most recent call last)",
      "\u001b[0;32m<ipython-input-6-06b37a85a11a>\u001b[0m in \u001b[0;36m<module>\u001b[0;34m\u001b[0m\n\u001b[1;32m     65\u001b[0m \u001b[0mPM_2_5_NR\u001b[0m\u001b[0;34m=\u001b[0m\u001b[0;34m[\u001b[0m\u001b[0mP_value\u001b[0m\u001b[0;34m[\u001b[0m\u001b[0mi\u001b[0m\u001b[0;34m]\u001b[0m \u001b[0;32mfor\u001b[0m \u001b[0mi\u001b[0m \u001b[0;32min\u001b[0m \u001b[0mrange\u001b[0m\u001b[0;34m(\u001b[0m\u001b[0mlen\u001b[0m\u001b[0;34m(\u001b[0m\u001b[0mP_id\u001b[0m\u001b[0;34m)\u001b[0m\u001b[0;34m)\u001b[0m \u001b[0;32mif\u001b[0m\u001b[0;34m(\u001b[0m\u001b[0mP_id\u001b[0m\u001b[0;34m[\u001b[0m\u001b[0mi\u001b[0m\u001b[0;34m]\u001b[0m\u001b[0;34m==\u001b[0m\u001b[0;36m26\u001b[0m \u001b[0;32mand\u001b[0m \u001b[0mS_code\u001b[0m\u001b[0;34m[\u001b[0m\u001b[0mi\u001b[0m\u001b[0;34m]\u001b[0m\u001b[0;34m==\u001b[0m\u001b[0;36m2\u001b[0m\u001b[0;34m)\u001b[0m\u001b[0;34m]\u001b[0m\u001b[0;34m\u001b[0m\u001b[0;34m\u001b[0m\u001b[0m\n\u001b[1;32m     66\u001b[0m \u001b[0mPM_10_NR\u001b[0m\u001b[0;34m=\u001b[0m\u001b[0;34m[\u001b[0m\u001b[0mP_value\u001b[0m\u001b[0;34m[\u001b[0m\u001b[0mi\u001b[0m\u001b[0;34m]\u001b[0m \u001b[0;32mfor\u001b[0m \u001b[0mi\u001b[0m \u001b[0;32min\u001b[0m \u001b[0mrange\u001b[0m\u001b[0;34m(\u001b[0m\u001b[0mlen\u001b[0m\u001b[0;34m(\u001b[0m\u001b[0mP_id\u001b[0m\u001b[0;34m)\u001b[0m\u001b[0;34m)\u001b[0m \u001b[0;32mif\u001b[0m\u001b[0;34m(\u001b[0m\u001b[0mP_id\u001b[0m\u001b[0;34m[\u001b[0m\u001b[0mi\u001b[0m\u001b[0;34m]\u001b[0m\u001b[0;34m==\u001b[0m\u001b[0;36m25\u001b[0m \u001b[0;32mand\u001b[0m \u001b[0mS_code\u001b[0m\u001b[0;34m[\u001b[0m\u001b[0mi\u001b[0m\u001b[0;34m]\u001b[0m\u001b[0;34m==\u001b[0m\u001b[0;36m2\u001b[0m\u001b[0;34m)\u001b[0m\u001b[0;34m]\u001b[0m\u001b[0;34m\u001b[0m\u001b[0;34m\u001b[0m\u001b[0m\n\u001b[0;32m---> 67\u001b[0;31m \u001b[0mdata_NR\u001b[0m\u001b[0;34m[\u001b[0m\u001b[0;34m'PM_2.5'\u001b[0m\u001b[0;34m]\u001b[0m\u001b[0;34m=\u001b[0m\u001b[0mPM_2_5_NR\u001b[0m\u001b[0;34m\u001b[0m\u001b[0;34m\u001b[0m\u001b[0m\n\u001b[0m\u001b[1;32m     68\u001b[0m \u001b[0mdata_NR\u001b[0m\u001b[0;34m[\u001b[0m\u001b[0;34m'PM_10'\u001b[0m\u001b[0;34m]\u001b[0m\u001b[0;34m=\u001b[0m\u001b[0mPM_10_NR\u001b[0m\u001b[0;34m\u001b[0m\u001b[0;34m\u001b[0m\u001b[0m\n\u001b[1;32m     69\u001b[0m \u001b[0mcolumn_mean11\u001b[0m \u001b[0;34m=\u001b[0m \u001b[0mdata_NR\u001b[0m\u001b[0;34m[\u001b[0m\u001b[0;34m'PM_2.5'\u001b[0m\u001b[0;34m]\u001b[0m\u001b[0;34m.\u001b[0m\u001b[0mmean\u001b[0m\u001b[0;34m(\u001b[0m\u001b[0;34m)\u001b[0m\u001b[0;34m\u001b[0m\u001b[0;34m\u001b[0m\u001b[0m\n",
      "\u001b[0;32m/Library/Frameworks/Python.framework/Versions/3.8/lib/python3.8/site-packages/pandas/core/frame.py\u001b[0m in \u001b[0;36m__setitem__\u001b[0;34m(self, key, value)\u001b[0m\n\u001b[1;32m   2936\u001b[0m         \u001b[0;32melse\u001b[0m\u001b[0;34m:\u001b[0m\u001b[0;34m\u001b[0m\u001b[0;34m\u001b[0m\u001b[0m\n\u001b[1;32m   2937\u001b[0m             \u001b[0;31m# set column\u001b[0m\u001b[0;34m\u001b[0m\u001b[0;34m\u001b[0m\u001b[0;34m\u001b[0m\u001b[0m\n\u001b[0;32m-> 2938\u001b[0;31m             \u001b[0mself\u001b[0m\u001b[0;34m.\u001b[0m\u001b[0m_set_item\u001b[0m\u001b[0;34m(\u001b[0m\u001b[0mkey\u001b[0m\u001b[0;34m,\u001b[0m \u001b[0mvalue\u001b[0m\u001b[0;34m)\u001b[0m\u001b[0;34m\u001b[0m\u001b[0;34m\u001b[0m\u001b[0m\n\u001b[0m\u001b[1;32m   2939\u001b[0m \u001b[0;34m\u001b[0m\u001b[0m\n\u001b[1;32m   2940\u001b[0m     \u001b[0;32mdef\u001b[0m \u001b[0m_setitem_slice\u001b[0m\u001b[0;34m(\u001b[0m\u001b[0mself\u001b[0m\u001b[0;34m,\u001b[0m \u001b[0mkey\u001b[0m\u001b[0;34m,\u001b[0m \u001b[0mvalue\u001b[0m\u001b[0;34m)\u001b[0m\u001b[0;34m:\u001b[0m\u001b[0;34m\u001b[0m\u001b[0;34m\u001b[0m\u001b[0m\n",
      "\u001b[0;32m/Library/Frameworks/Python.framework/Versions/3.8/lib/python3.8/site-packages/pandas/core/frame.py\u001b[0m in \u001b[0;36m_set_item\u001b[0;34m(self, key, value)\u001b[0m\n\u001b[1;32m   2998\u001b[0m \u001b[0;34m\u001b[0m\u001b[0m\n\u001b[1;32m   2999\u001b[0m         \u001b[0mself\u001b[0m\u001b[0;34m.\u001b[0m\u001b[0m_ensure_valid_index\u001b[0m\u001b[0;34m(\u001b[0m\u001b[0mvalue\u001b[0m\u001b[0;34m)\u001b[0m\u001b[0;34m\u001b[0m\u001b[0;34m\u001b[0m\u001b[0m\n\u001b[0;32m-> 3000\u001b[0;31m         \u001b[0mvalue\u001b[0m \u001b[0;34m=\u001b[0m \u001b[0mself\u001b[0m\u001b[0;34m.\u001b[0m\u001b[0m_sanitize_column\u001b[0m\u001b[0;34m(\u001b[0m\u001b[0mkey\u001b[0m\u001b[0;34m,\u001b[0m \u001b[0mvalue\u001b[0m\u001b[0;34m)\u001b[0m\u001b[0;34m\u001b[0m\u001b[0;34m\u001b[0m\u001b[0m\n\u001b[0m\u001b[1;32m   3001\u001b[0m         \u001b[0mNDFrame\u001b[0m\u001b[0;34m.\u001b[0m\u001b[0m_set_item\u001b[0m\u001b[0;34m(\u001b[0m\u001b[0mself\u001b[0m\u001b[0;34m,\u001b[0m \u001b[0mkey\u001b[0m\u001b[0;34m,\u001b[0m \u001b[0mvalue\u001b[0m\u001b[0;34m)\u001b[0m\u001b[0;34m\u001b[0m\u001b[0;34m\u001b[0m\u001b[0m\n\u001b[1;32m   3002\u001b[0m \u001b[0;34m\u001b[0m\u001b[0m\n",
      "\u001b[0;32m/Library/Frameworks/Python.framework/Versions/3.8/lib/python3.8/site-packages/pandas/core/frame.py\u001b[0m in \u001b[0;36m_sanitize_column\u001b[0;34m(self, key, value, broadcast)\u001b[0m\n\u001b[1;32m   3634\u001b[0m \u001b[0;34m\u001b[0m\u001b[0m\n\u001b[1;32m   3635\u001b[0m             \u001b[0;31m# turn me into an ndarray\u001b[0m\u001b[0;34m\u001b[0m\u001b[0;34m\u001b[0m\u001b[0;34m\u001b[0m\u001b[0m\n\u001b[0;32m-> 3636\u001b[0;31m             \u001b[0mvalue\u001b[0m \u001b[0;34m=\u001b[0m \u001b[0msanitize_index\u001b[0m\u001b[0;34m(\u001b[0m\u001b[0mvalue\u001b[0m\u001b[0;34m,\u001b[0m \u001b[0mself\u001b[0m\u001b[0;34m.\u001b[0m\u001b[0mindex\u001b[0m\u001b[0;34m,\u001b[0m \u001b[0mcopy\u001b[0m\u001b[0;34m=\u001b[0m\u001b[0;32mFalse\u001b[0m\u001b[0;34m)\u001b[0m\u001b[0;34m\u001b[0m\u001b[0;34m\u001b[0m\u001b[0m\n\u001b[0m\u001b[1;32m   3637\u001b[0m             \u001b[0;32mif\u001b[0m \u001b[0;32mnot\u001b[0m \u001b[0misinstance\u001b[0m\u001b[0;34m(\u001b[0m\u001b[0mvalue\u001b[0m\u001b[0;34m,\u001b[0m \u001b[0;34m(\u001b[0m\u001b[0mnp\u001b[0m\u001b[0;34m.\u001b[0m\u001b[0mndarray\u001b[0m\u001b[0;34m,\u001b[0m \u001b[0mIndex\u001b[0m\u001b[0;34m)\u001b[0m\u001b[0;34m)\u001b[0m\u001b[0;34m:\u001b[0m\u001b[0;34m\u001b[0m\u001b[0;34m\u001b[0m\u001b[0m\n\u001b[1;32m   3638\u001b[0m                 \u001b[0;32mif\u001b[0m \u001b[0misinstance\u001b[0m\u001b[0;34m(\u001b[0m\u001b[0mvalue\u001b[0m\u001b[0;34m,\u001b[0m \u001b[0mlist\u001b[0m\u001b[0;34m)\u001b[0m \u001b[0;32mand\u001b[0m \u001b[0mlen\u001b[0m\u001b[0;34m(\u001b[0m\u001b[0mvalue\u001b[0m\u001b[0;34m)\u001b[0m \u001b[0;34m>\u001b[0m \u001b[0;36m0\u001b[0m\u001b[0;34m:\u001b[0m\u001b[0;34m\u001b[0m\u001b[0;34m\u001b[0m\u001b[0m\n",
      "\u001b[0;32m/Library/Frameworks/Python.framework/Versions/3.8/lib/python3.8/site-packages/pandas/core/internals/construction.py\u001b[0m in \u001b[0;36msanitize_index\u001b[0;34m(data, index, copy)\u001b[0m\n\u001b[1;32m    609\u001b[0m \u001b[0;34m\u001b[0m\u001b[0m\n\u001b[1;32m    610\u001b[0m     \u001b[0;32mif\u001b[0m \u001b[0mlen\u001b[0m\u001b[0;34m(\u001b[0m\u001b[0mdata\u001b[0m\u001b[0;34m)\u001b[0m \u001b[0;34m!=\u001b[0m \u001b[0mlen\u001b[0m\u001b[0;34m(\u001b[0m\u001b[0mindex\u001b[0m\u001b[0;34m)\u001b[0m\u001b[0;34m:\u001b[0m\u001b[0;34m\u001b[0m\u001b[0;34m\u001b[0m\u001b[0m\n\u001b[0;32m--> 611\u001b[0;31m         \u001b[0;32mraise\u001b[0m \u001b[0mValueError\u001b[0m\u001b[0;34m(\u001b[0m\u001b[0;34m\"Length of values does not match length of index\"\u001b[0m\u001b[0;34m)\u001b[0m\u001b[0;34m\u001b[0m\u001b[0;34m\u001b[0m\u001b[0m\n\u001b[0m\u001b[1;32m    612\u001b[0m \u001b[0;34m\u001b[0m\u001b[0m\n\u001b[1;32m    613\u001b[0m     \u001b[0;32mif\u001b[0m \u001b[0misinstance\u001b[0m\u001b[0;34m(\u001b[0m\u001b[0mdata\u001b[0m\u001b[0;34m,\u001b[0m \u001b[0mABCIndexClass\u001b[0m\u001b[0;34m)\u001b[0m \u001b[0;32mand\u001b[0m \u001b[0;32mnot\u001b[0m \u001b[0mcopy\u001b[0m\u001b[0;34m:\u001b[0m\u001b[0;34m\u001b[0m\u001b[0;34m\u001b[0m\u001b[0m\n",
      "\u001b[0;31mValueError\u001b[0m: Length of values does not match length of index"
     ]
    }
   ],
   "source": [
    "date_NR=[date[i] for i in range(len(p_id)) if p_id[i]==6 and s_code[i]==2]\n",
    "NO_2=[p_value[i] for i in range(len(p_id)) if p_id[i]==2 and  s_code[i]==2]\n",
    "SO_2=[p_value[i] for i in range(len(p_id)) if(p_id[i]==4 and s_code[i]==2)]\n",
    "O_3=[p_value[i] for i in range(len(p_id)) if(p_id[i]==5 and s_code[i]==2)]\n",
    "CO=[p_value[i] for i in range(len(p_id)) if(p_id[i]==6 and s_code[i]==2)]\n",
    "for i in range(len(CO)):\n",
    "    if (CO[i]=='BDL'):\n",
    "        CO[i]='nan'\n",
    "    elif NO_2[i]=='BDL':\n",
    "        NO_2[i]='nan'\n",
    "    elif SO_2[i]=='BDL':\n",
    "        SO_2[i]='nan'\n",
    "    elif O_3[i]==\"BDL\":\n",
    "        O_3[i]='nan'\n",
    "    else:\n",
    "        pass\n",
    "\n",
    "for i in range(len(CO)):\n",
    "    if (CO[i]=='nan'):\n",
    "        CO[i]='0'\n",
    "    elif SO_2[i]=='nan':\n",
    "        SO_2[i]='0'\n",
    "    elif NO_2[i]=='nan':\n",
    "        NO_2[i]='0'\n",
    "    elif O_3[i]=='nan':\n",
    "        O_3[i]='0'\n",
    "    else:\n",
    "        pass\n",
    "    \n",
    "for i in range(len(SO_2)):\n",
    "    if SO_2[i]=='BDL':\n",
    "        SO_2[i]='nan'\n",
    "for i in range(len(O_3)):\n",
    "    if O_3[i]=='BDL':\n",
    "        O_3[i]='nan'\n",
    "for i in range(len(SO_2)):\n",
    "    if (SO_2[i]=='nan'):\n",
    "        SO_2[i]='0'\n",
    "for i in range(len(O_3)):\n",
    "    if (O_3[i]=='nan'):\n",
    "        O_3[i]='0'\n",
    "    \n",
    "    \n",
    "data_NR=[[date_NR[i],NO_2[i],SO_2[i],O_3[i], CO[i]] for i in range(len(date_NR))] \n",
    "data_NR= pd.DataFrame(data_NR, columns = ['Date','NO_2','SO_2','O_3', 'CO'])\n",
    "data_NR[\"CO\"] = pd.to_numeric(data_NR[\"CO\"], downcast=\"float\")\n",
    "data_NR[\"NO_2\"] = pd.to_numeric(data_NR[\"NO_2\"], downcast=\"float\")\n",
    "data_NR[\"SO_2\"] = pd.to_numeric(data_NR[\"SO_2\"], downcast=\"float\")\n",
    "data_NR[\"O_3\"] = pd.to_numeric(data_NR[\"O_3\"], downcast=\"float\")\n",
    "\n",
    "column_mean5 = data_NR['CO'].mean()\n",
    "column_mean6 = data_NR['NO_2'].mean()\n",
    "column_mean7 = data_NR['SO_2'].mean()\n",
    "column_mean8 = data_NR['O_3'].mean()\n",
    "\n",
    "data_NR['CO'].fillna(column_mean5)\n",
    "data_NR['NO_2'].fillna(column_mean6)\n",
    "data_NR['SO_2'].fillna(column_mean7)\n",
    "data_NR['O_3'].fillna(column_mean8)\n",
    "\n",
    "data_NR['Date'] = pd.to_datetime(data_NR['Date'])\n",
    "data_NR=data_NR.set_index('Date')\n",
    "data_NR_O=data_NR\n",
    "data_NR=data_NR.resample('D').mean()\n",
    "PM_2_5_NR=[P_value[i] for i in range(len(P_id)) if(P_id[i]==26 and S_code[i]==2)]\n",
    "PM_10_NR=[P_value[i] for i in range(len(P_id)) if(P_id[i]==25 and S_code[i]==2)]\n",
    "data_NR['PM_2.5']=PM_2_5_NR\n",
    "data_NR['PM_10']=PM_10_NR\n",
    "column_mean11 = data_NR['PM_2.5'].mean()\n",
    "column_mean12 = data_NR['PM_10'].mean()\n",
    "\n",
    "data_NR['PM_2.5'].fillna(column_mean11)\n",
    "data_NR['PM_10'].fillna(column_mean12)\n",
    "\n",
    "data_NR.head()\n"
   ]
  },
  {
   "cell_type": "code",
   "execution_count": null,
   "id": "american-richmond",
   "metadata": {},
   "outputs": [],
   "source": [
    "data_NR.describe()"
   ]
  },
  {
   "cell_type": "markdown",
   "id": "found-applicant",
   "metadata": {},
   "source": [
    "## EMEP-Ayia Marina -Background"
   ]
  },
  {
   "cell_type": "code",
   "execution_count": null,
   "id": "ahead-importance",
   "metadata": {},
   "outputs": [],
   "source": [
    "date_Z=[date[i] for i in range(len(p_id)) if p_id[i]==6 and s_code[i]==9]\n",
    "NO_2=[p_value[i] for i in range(len(p_id)) if p_id[i]==2 and  s_code[i]==8]\n",
    "SO_2=[p_value[i] for i in range(len(p_id)) if(p_id[i]==4 and s_code[i]==9)]\n",
    "O_3=[p_value[i] for i in range(len(p_id)) if(p_id[i]==5 and s_code[i]==9)]\n",
    "CO=[p_value[i] for i in range(len(p_id)) if(p_id[i]==6 and s_code[i]==9)]\n",
    "for i in range(len(CO)):\n",
    "    if (CO[i]=='BDL'):\n",
    "        CO[i]='nan'\n",
    "    elif NO_2[i]=='BDL':\n",
    "        NO_2[i]='nan'\n",
    "    elif SO_2[i]=='BDL':\n",
    "        SO_2[i]='nan'\n",
    "    elif O_3[i]==\"BDL\":\n",
    "        O_3[i]='nan'\n",
    "    else:\n",
    "        pass\n",
    "\n",
    "for i in range(len(CO)):\n",
    "    if (CO[i]=='nan'):\n",
    "        CO[i]='0'\n",
    "    elif SO_2[i]=='nan':\n",
    "        SO_2[i]='0'\n",
    "    elif NO_2[i]=='nan':\n",
    "        NO_2[i]='0'\n",
    "    elif O_3[i]=='nan':\n",
    "        O_3[i]='0'\n",
    "    else:\n",
    "        pass\n",
    "    \n",
    "for i in range(len(SO_2)):\n",
    "    if SO_2[i]=='BDL':\n",
    "        SO_2[i]='nan'\n",
    "for i in range(len(O_3)):\n",
    "    if O_3[i]=='BDL':\n",
    "        O_3[i]='nan'\n",
    "for i in range(len(SO_2)):\n",
    "    if (SO_2[i]=='nan'):\n",
    "        SO_2[i]='0'\n",
    "for i in range(len(O_3)):\n",
    "    if (O_3[i]=='nan'):\n",
    "        O_3[i]='0'\n",
    "    \n",
    "    \n",
    "data_Z=[[date_Z[i],NO_2[i],SO_2[i],O_3[i], CO[i]] for i in range(len(date_Z))] \n",
    "data_Z= pd.DataFrame(data_Z, columns = ['Date','NO_2','SO_2','O_3', 'CO'])\n",
    "data_Z[\"CO\"] = pd.to_numeric(data_Z[\"CO\"], downcast=\"float\")\n",
    "data_Z[\"NO_2\"] = pd.to_numeric(data_Z[\"NO_2\"], downcast=\"float\")\n",
    "data_Z[\"SO_2\"] = pd.to_numeric(data_Z[\"SO_2\"], downcast=\"float\")\n",
    "data_Z[\"O_3\"] = pd.to_numeric(data_Z[\"O_3\"], downcast=\"float\")\n",
    "\n",
    "column_mean13 = data_Z['CO'].mean()\n",
    "column_mean14 = data_Z['NO_2'].mean()\n",
    "column_mean15 = data_Z['SO_2'].mean()\n",
    "column_mean16 = data_Z['O_3'].mean()\n",
    "\n",
    "data_Z['CO'].fillna(column_mean13)\n",
    "data_Z['NO_2'].fillna(column_mean14)\n",
    "data_Z['SO_2'].fillna(column_mean15)\n",
    "data_Z['O_3'].fillna(column_mean16)\n",
    "data_Z['Date'] = pd.to_datetime(data_Z['Date'])\n",
    "data_Z=data_Z.set_index('Date')\n",
    "data_Z_O=data_Z\n",
    "data_Z=data_Z.resample('D').mean()\n",
    "PM_2_5_Z=[P_value[i] for i in range(len(P_id)) if(P_id[i]==26 and S_code[i]==9)]\n",
    "PM_10_Z=[P_value[i] for i in range(len(P_id)) if(P_id[i]==25 and S_code[i]==9)]\n",
    "PM_10_Z[0]=6.9\n",
    "data_Z['PM_2.5']=PM_2_5_Z\n",
    "data_Z['PM_10']=PM_10_Z\n",
    "column_mean17 = data_Z['PM_2.5'].mean()\n",
    "column_mean18 = data_Z['PM_10'].mean()\n",
    "PM_10_Z[0]=column_mean18\n",
    "#data_Z['PM_2.5'].fillna(column_mean17)\n",
    "#data_Z['PM_10'].fillna(column_mean18)\n",
    "\n",
    "data_Z=data_Z.interpolate()\n",
    "data_AM=data_Z\n",
    "data_AM.head()\n"
   ]
  },
  {
   "cell_type": "code",
   "execution_count": null,
   "id": "going-february",
   "metadata": {},
   "outputs": [],
   "source": [
    "data_AM.describe()"
   ]
  },
  {
   "cell_type": "code",
   "execution_count": null,
   "id": "infrared-delhi",
   "metadata": {},
   "outputs": [],
   "source": [
    "subscript = str.maketrans(\"0123456789\", \"₀₁₂₃₄₅₆₇₈₉\")\n",
    "print(\"NO2\".translate(subscript))"
   ]
  },
  {
   "cell_type": "markdown",
   "id": "supported-chancellor",
   "metadata": {},
   "source": [
    "## Data visualization and Analytics"
   ]
  },
  {
   "cell_type": "code",
   "execution_count": null,
   "id": "ruled-cream",
   "metadata": {},
   "outputs": [],
   "source": [
    "import matplotlib.pyplot as plt\n",
    "import seaborn as sns\n",
    "data_NT_by_month=data_NT.resample('M').mean()\n",
    "data_NR_by_month=data_NR.resample('M').mean()\n",
    "data_AM_by_month=data_AM.resample('M').mean()\n",
    "fig= plt.figure(figsize=(10,4))\n",
    "#colors = ['lightpink','pink','fuchsia','mistyrose','hotpink','deeppink','magenta']\n",
    "sns.lineplot(x=data_NT_by_month.index,y='CO',data=data_NT_by_month,color='hotpink')\n",
    "sns.lineplot(x=data_NR_by_month.index,y='CO',data=data_NR_by_month,color='cornflowerblue')\n",
    "sns.lineplot(x=data_AM_by_month.index,y='CO',data=data_AM_by_month,color='darkorange')\n",
    "plt.legend(['Nicosia Traffic', 'Nicosia Residence', 'EMEP-AM-Background'], loc = 2, bbox_to_anchor = (0.7,1.2))\n",
    "plt.ylabel(' CO concentration (μg/m^3)')"
   ]
  },
  {
   "cell_type": "code",
   "execution_count": null,
   "id": "selective-deviation",
   "metadata": {},
   "outputs": [],
   "source": [
    "fig= plt.figure(figsize=(10,4))\n",
    "#colors = ['lightpink','pink','fuchsia','mistyrose','hotpink','deeppink','magenta']\n",
    "sns.lineplot(x=data_NT_by_month.index,y='NO_2',data=data_NT_by_month,color='teal')\n",
    "sns.lineplot(x=data_NR_by_month.index,y='NO_2',data=data_NR_by_month,color='darkgoldenrod')\n",
    "sns.lineplot(x=data_AM_by_month.index,y='NO_2',data=data_AM_by_month,color='firebrick')\n",
    "plt.legend(['Nicosia Traffic', 'Nicosia Residence','EMEP-AM-Background'], loc = 2, bbox_to_anchor = (0.7,1.2))\n",
    "plt.ylabel( r'$NO_{2}$'  + ' Concentration (µg/m³)')"
   ]
  },
  {
   "cell_type": "code",
   "execution_count": null,
   "id": "orange-greene",
   "metadata": {},
   "outputs": [],
   "source": [
    "fig= plt.figure(figsize=(10,4))\n",
    "#colors = ['lightpink','pink','fuchsia','mistyrose','hotpink','deeppink','magenta']\n",
    "sns.lineplot(x=data_NT_by_month.index,y='SO_2',data=data_NT_by_month,color='rebeccapurple')\n",
    "sns.lineplot(x=data_NR_by_month.index,y='SO_2',data=data_NR_by_month,color='lightseagreen')\n",
    "sns.lineplot(x=data_AM_by_month.index,y='SO_2',data=data_AM_by_month,color='yellowgreen')\n",
    "plt.legend(['Nicosia Traffic', 'Nicosia Residence','EMEP-AM-Background'],loc = 2, bbox_to_anchor = (0.7,1.2))\n",
    "plt.ylabel( r'$SO_{2}$'  + ' Concentration (µg/m³)')\n",
    "plt.show()"
   ]
  },
  {
   "cell_type": "code",
   "execution_count": null,
   "id": "sharp-quilt",
   "metadata": {},
   "outputs": [],
   "source": [
    "fig= plt.figure(figsize=(10,4))\n",
    "#colors = ['lightpink','pink','fuchsia','mistyrose','hotpink','deeppink','magenta']\n",
    "sns.lineplot(x=data_NT_by_month.index,y='O_3',data=data_NT_by_month,color='lawngreen')\n",
    "sns.lineplot(x=data_NR_by_month.index,y='O_3',data=data_NR_by_month,color='cyan')\n",
    "sns.lineplot(x=data_AM_by_month.index,y='O_3',data=data_AM_by_month,color='darkorchid')\n",
    "plt.legend(['Nicosia Traffic', 'Nicosia Residence','EMEP-AM-Background'], loc = 2, bbox_to_anchor = (0.7,1.2))\n",
    "plt.ylabel( r'$O_{3}$'  + ' Concentration (µg/m³)')\n",
    "plt.show()"
   ]
  },
  {
   "cell_type": "code",
   "execution_count": null,
   "id": "wrapped-covering",
   "metadata": {},
   "outputs": [],
   "source": [
    "fig= plt.figure(figsize=(10,4))\n",
    "#colors = ['lightpink','pink','fuchsia','mistyrose','hotpink','deeppink','magenta']\n",
    "sns.lineplot(x=data_NT_by_month.index,y='PM_2.5',data=data_NT_by_month,color='dodgerblue')\n",
    "sns.lineplot(x=data_NR_by_month.index,y='PM_2.5',data=data_NR_by_month,color='deeppink')\n",
    "sns.lineplot(x=data_AM_by_month.index,y='PM_2.5',data=data_AM_by_month,color='lime')\n",
    "plt.legend(['Nicosia Traffic', 'Nicosia Residence','EMEP-AM-Background'], loc = 2, bbox_to_anchor = (0.7,1.2))\n",
    "plt.ylabel( r'$PM_{2.5}$'  + ' Concentration (µg/m³)')\n",
    "plt.show()"
   ]
  },
  {
   "cell_type": "code",
   "execution_count": null,
   "id": "christian-paint",
   "metadata": {},
   "outputs": [],
   "source": [
    "fig= plt.figure(figsize=(10,4))\n",
    "#colors = ['lightpink','pink','fuchsia','mistyrose','hotpink','deeppink','magenta']\n",
    "sns.lineplot(x=data_NT_by_month.index,y='PM_10',data=data_NT_by_month,color='cadetblue')\n",
    "sns.lineplot(x=data_NR_by_month.index,y='PM_10',data=data_NR_by_month,color='palegreen')\n",
    "sns.lineplot(x=data_AM_by_month.index,y='PM_10',data=data_AM_by_month,color='purple')\n",
    "plt.legend(['Nicosia Traffic', 'Nicosia Residence','EMEP-AM-Background'], loc = 2, bbox_to_anchor = (0.7,1.2))\n",
    "plt.ylabel( r'$PM_{10}$'  + ' Concentration (µg/m³)')\n",
    "plt.show()"
   ]
  },
  {
   "cell_type": "code",
   "execution_count": null,
   "id": "illegal-georgia",
   "metadata": {},
   "outputs": [],
   "source": [
    "data_NT['Year']=data_NT.index.year\n",
    "data_NT['Month']=data_NT.index.month\n",
    "data_NT['Day_of_week']=data_NT.index.dayofweek\n",
    "data_NT['Day']=data_NT.index.day\n",
    "data_NT['Hour']=data_NT.index.hour\n",
    "data_NT['Year']=data_NT.index.year\n",
    "data_NT_O['Hour']=data_NT_O.index.hour"
   ]
  },
  {
   "cell_type": "code",
   "execution_count": null,
   "id": "becoming-technology",
   "metadata": {},
   "outputs": [],
   "source": [
    "data_NR['Year']=data_NT.index.year\n",
    "data_NR['Month']=data_NR.index.month\n",
    "data_NR['Day_of_week']=data_NR.index.dayofweek\n",
    "data_NR['Day']=data_NR.index.day\n",
    "data_NR['Hour']=data_NR.index.hour\n",
    "data_NR['Year']=data_NR.index.year\n",
    "data_NR_O['Hour']=data_NR_O.index.hour"
   ]
  },
  {
   "cell_type": "code",
   "execution_count": null,
   "id": "differential-gardening",
   "metadata": {},
   "outputs": [],
   "source": [
    "data_AM['Year']=data_NT.index.year\n",
    "data_AM['Month']=data_AM.index.month\n",
    "data_AM['Day_of_week']=data_AM.index.dayofweek\n",
    "data_AM['Day']=data_AM.index.day\n",
    "data_AM['Hour']=data_AM.index.hour\n",
    "data_AM['Year']=data_AM.index.year\n",
    "data_Z_O['Hour']=data_Z_O.index.hour"
   ]
  },
  {
   "cell_type": "code",
   "execution_count": null,
   "id": "flexible-onion",
   "metadata": {},
   "outputs": [],
   "source": [
    "frames = [data_NT, data_NR, data_AM]\n",
    "result = pd.concat(frames)\n",
    "A=['Nicosia Traffic' for i in range(1095)]\n",
    "B=['Nicosia Residence' for i in range(1095)]\n",
    "C=['EMEP-AM-Background' for i in range(1095)]\n",
    "D=A+B+C\n",
    "result['Station']=D\n",
    "#result.head()"
   ]
  },
  {
   "cell_type": "code",
   "execution_count": null,
   "id": "consistent-gilbert",
   "metadata": {},
   "outputs": [],
   "source": [
    "frame = [data_NT_O, data_NR_O, data_Z_O]\n",
    "original = pd.concat(frame)\n",
    "E=['Nicosia Traffic' for i in range(26280)]\n",
    "F=['Nicosia Residence' for i in range(26280)]\n",
    "G=['EMEP-AM-Background' for i in range(26280)]\n",
    "H=E+F+G\n",
    "original['Station']=H\n",
    "#original.head()"
   ]
  },
  {
   "cell_type": "markdown",
   "id": "familiar-lodge",
   "metadata": {},
   "source": [
    "## Hourly Visualization"
   ]
  },
  {
   "cell_type": "code",
   "execution_count": null,
   "id": "cooked-animal",
   "metadata": {},
   "outputs": [],
   "source": [
    "fig= plt.figure(figsize=(10,4))\n",
    "sns.pointplot(x=\"Hour\", y=\"CO\", hue=\"Station\", data=original,\n",
    "              ci=None)\n",
    "#plt.legend(['Nicosia Traffic', 'Nicosia Residence','EMEP-AM-Background'], loc = 2, bbox_to_anchor = (0.7,1.2))\n",
    "plt.ylabel( 'Average ' + r'$CO_{}$'  + ' Concentration (µg/m³)')\n",
    "plt.legend(loc = 2, bbox_to_anchor = (0.7,1.25))\n",
    "plt.show()"
   ]
  },
  {
   "cell_type": "code",
   "execution_count": null,
   "id": "muslim-stress",
   "metadata": {},
   "outputs": [],
   "source": [
    "fig= plt.figure(figsize=(10,4))\n",
    "sns.pointplot(x=\"Hour\", y=\"NO_2\", hue=\"Station\", data=original,palette=['cyan','olive','green'],\n",
    "              ci=None)\n",
    "#plt.legend(['Nicosia Traffic', 'Nicosia Residence','EMEP-AM-Background'], loc = 2, bbox_to_anchor = (0.7,1.2))\n",
    "plt.ylabel( 'Average ' + r'$NO_{2}$'  + ' Concentration (µg/m³)')\n",
    "plt.legend(loc = 2, bbox_to_anchor = (0.7,1.25))\n",
    "plt.show()"
   ]
  },
  {
   "cell_type": "code",
   "execution_count": null,
   "id": "automated-exchange",
   "metadata": {},
   "outputs": [],
   "source": [
    "fig= plt.figure(figsize=(10,4))\n",
    "sns.pointplot(x=\"Hour\", y=\"SO_2\", hue=\"Station\", data=original,palette=['plum','aqua','chartreuse'],\n",
    "              ci=None)\n",
    "#plt.legend(['Nicosia Traffic', 'Nicosia Residence','EMEP-AM-Background'], loc = 2, bbox_to_anchor = (0.7,1.2))\n",
    "plt.ylabel( 'Average ' + r'$SO_{2}$'  + ' Concentration (µg/m³)')\n",
    "plt.legend(loc = 2, bbox_to_anchor = (0.7,1.25))\n",
    "plt.show()"
   ]
  },
  {
   "cell_type": "code",
   "execution_count": null,
   "id": "liked-easter",
   "metadata": {},
   "outputs": [],
   "source": [
    "fig= plt.figure(figsize=(10,4))\n",
    "sns.pointplot(x=\"Hour\", y=\"O_3\", hue=\"Station\", data=original,palette=['palevioletred','steelblue','darkkhaki'],\n",
    "              ci=None)\n",
    "#plt.legend(['Nicosia Traffic', 'Nicosia Residence','EMEP-AM-Background'], loc = 2, bbox_to_anchor = (0.7,1.2))\n",
    "plt.ylabel( 'Average ' + r'$O_{3}$'  + ' Concentration (µg/m³)')\n",
    "plt.legend(loc = 2, bbox_to_anchor = (0.7,1.3))\n",
    "plt.show()"
   ]
  },
  {
   "cell_type": "markdown",
   "id": "killing-subject",
   "metadata": {},
   "source": [
    "## Day of Week visualization"
   ]
  },
  {
   "cell_type": "code",
   "execution_count": null,
   "id": "prostate-exercise",
   "metadata": {},
   "outputs": [],
   "source": [
    "fig= plt.figure(figsize=(10,4))\n",
    "sns.barplot(x=\"Day_of_week\", y=\"CO\", hue=\"Station\", data=result)\n",
    "#plt.legend(['Nicosia Traffic', 'Nicosia Residence','EMEP-AM-Background'], loc = 2, bbox_to_anchor = (0.7,1.2))\n",
    "plt.ylabel( 'Average ' + r'$CO_{}$'  + ' Concentration (µg/m³)')\n",
    "plt.legend(loc = 2, bbox_to_anchor = (0.7,1.25))\n",
    "plt.show()"
   ]
  },
  {
   "cell_type": "code",
   "execution_count": null,
   "id": "supposed-implement",
   "metadata": {},
   "outputs": [],
   "source": [
    "fig= plt.figure(figsize=(10,4))\n",
    "sns.barplot(x=\"Day_of_week\", y=\"NO_2\", hue=\"Station\", data=result, palette=['cyan','olive','green'])\n",
    "#plt.legend(['Nicosia Traffic', 'Nicosia Residence','EMEP-AM-Background'], loc = 2, bbox_to_anchor = (0.7,1.2))\n",
    "plt.ylabel( 'Average ' + r'$NO_{2}$'  + ' Concentration (µg/m³)')\n",
    "plt.legend(loc = 2, bbox_to_anchor = (0.7,1.25))\n",
    "plt.show()"
   ]
  },
  {
   "cell_type": "code",
   "execution_count": null,
   "id": "clean-deputy",
   "metadata": {},
   "outputs": [],
   "source": [
    "fig= plt.figure(figsize=(10,4))\n",
    "sns.barplot(x=\"Day_of_week\", y=\"SO_2\", hue=\"Station\", data=result, palette=['plum','aqua','chartreuse'])\n",
    "#plt.legend(['Nicosia Traffic', 'Nicosia Residence','EMEP-AM-Background'], loc = 2, bbox_to_anchor = (0.7,1.2))\n",
    "plt.ylabel( 'Average ' + r'$SO_{2}$'  + ' Concentration (µg/m³)')\n",
    "plt.legend(loc = 2, bbox_to_anchor = (0.7,1.25))\n",
    "plt.show()"
   ]
  },
  {
   "cell_type": "code",
   "execution_count": null,
   "id": "restricted-signature",
   "metadata": {},
   "outputs": [],
   "source": [
    "fig= plt.figure(figsize=(10,4))\n",
    "sns.barplot(x=\"Day_of_week\", y=\"O_3\", hue=\"Station\", data=result, palette=['palevioletred','steelblue','darkkhaki'])\n",
    "#plt.legend(['Nicosia Traffic', 'Nicosia Residence','EMEP-AM-Background'], loc = 2, bbox_to_anchor = (0.7,1.2))\n",
    "plt.ylabel( 'Average ' + r'$O_{3}$'  + ' Concentration (µg/m³)')\n",
    "plt.legend(loc = 2, bbox_to_anchor = (0.7,1.25))\n",
    "plt.show()"
   ]
  },
  {
   "cell_type": "code",
   "execution_count": null,
   "id": "proof-hepatitis",
   "metadata": {},
   "outputs": [],
   "source": [
    "fig= plt.figure(figsize=(10,4))\n",
    "sns.barplot(x=\"Day_of_week\", y=\"PM_2.5\", hue=\"Station\", data=result, palette=['sienna','olivedrab','lightskyblue'])\n",
    "#plt.legend(['Nicosia Traffic', 'Nicosia Residence','EMEP-AM-Background'], loc = 2, bbox_to_anchor = (0.7,1.2))\n",
    "plt.ylabel( 'Average ' + r'$PM_{2.5}$'  + ' Concentration (µg/m³)')\n",
    "plt.legend(loc = 2, bbox_to_anchor = (0.7,1.25))\n",
    "plt.show()"
   ]
  },
  {
   "cell_type": "code",
   "execution_count": null,
   "id": "classified-burton",
   "metadata": {},
   "outputs": [],
   "source": [
    "fig= plt.figure(figsize=(10,4))\n",
    "sns.barplot(x=\"Day_of_week\", y=\"PM_10\", hue=\"Station\", data=result, palette=['gold','rebeccapurple','salmon'])\n",
    "#plt.legend(['Nicosia Traffic', 'Nicosia Residence','EMEP-AM-Background'], loc = 2, bbox_to_anchor = (0.7,1.2))\n",
    "plt.ylabel( 'Average ' + r'$PM_{10}$'  + ' Concentration (µg/m³)')\n",
    "plt.legend(loc = 2, bbox_to_anchor = (0.7,1.25))\n",
    "plt.show()"
   ]
  },
  {
   "cell_type": "markdown",
   "id": "controversial-glory",
   "metadata": {},
   "source": [
    "## Monthly Visualization"
   ]
  },
  {
   "cell_type": "code",
   "execution_count": null,
   "id": "gorgeous-collins",
   "metadata": {},
   "outputs": [],
   "source": [
    "fig= plt.figure(figsize=(10,4))\n",
    "sns.pointplot(x=\"Month\", y=\"CO\", hue=\"Station\", data=result,\n",
    "              ci=None)\n",
    "#plt.legend(['Nicosia Traffic', 'Nicosia Residence','EMEP-AM-Background'], loc = 2, bbox_to_anchor = (0.7,1.2))\n",
    "plt.ylabel( 'Average ' + r'$CO_{}$'  + ' Concentration (µg/m³)')\n",
    "plt.legend(loc = 2, bbox_to_anchor = (0.7,1.25))\n",
    "plt.show()"
   ]
  },
  {
   "cell_type": "code",
   "execution_count": null,
   "id": "superior-symposium",
   "metadata": {},
   "outputs": [],
   "source": [
    "fig= plt.figure(figsize=(10,4))\n",
    "sns.pointplot(x=\"Month\", y=\"NO_2\", hue=\"Station\", data=result,palette=['cyan','olive','green'],\n",
    "              ci=None)\n",
    "#plt.legend(['Nicosia Traffic', 'Nicosia Residence','EMEP-AM-Background'], loc = 2, bbox_to_anchor = (0.7,1.2))\n",
    "plt.ylabel( 'Average ' + r'$NO_{2}$'  + ' Concentration (µg/m³)')\n",
    "plt.legend(loc = 2, bbox_to_anchor = (0.7,1.4))\n",
    "plt.show()"
   ]
  },
  {
   "cell_type": "code",
   "execution_count": null,
   "id": "indoor-growth",
   "metadata": {},
   "outputs": [],
   "source": [
    "fig= plt.figure(figsize=(10,4))\n",
    "sns.pointplot(x=\"Month\", y=\"SO_2\", hue=\"Station\", data=result,palette=['plum','aqua','chartreuse'],\n",
    "              ci=None)\n",
    "#plt.legend(['Nicosia Traffic', 'Nicosia Residence','EMEP-AM-Background'], loc = 2, bbox_to_anchor = (0.7,1.2))\n",
    "plt.ylabel( 'Average ' + r'$SO_{2}$'  + ' Concentration (µg/m³)')\n",
    "plt.legend(loc = 2, bbox_to_anchor = (0.7,1.4))\n",
    "plt.show()"
   ]
  },
  {
   "cell_type": "code",
   "execution_count": null,
   "id": "checked-holiday",
   "metadata": {},
   "outputs": [],
   "source": [
    "fig= plt.figure(figsize=(10,4))\n",
    "sns.pointplot(x=\"Month\", y=\"O_3\", hue=\"Station\", data=result,palette=['palevioletred','steelblue','darkkhaki'],\n",
    "              ci=None)\n",
    "#plt.legend(['Nicosia Traffic', 'Nicosia Residence','EMEP-AM-Background'], loc = 2, bbox_to_anchor = (0.7,1.2))\n",
    "plt.ylabel( 'Average ' + r'$O_{3}$'  + ' Concentration (µg/m³)')\n",
    "plt.legend(loc = 2, bbox_to_anchor = (0.7,1.25))\n",
    "plt.show()"
   ]
  },
  {
   "cell_type": "code",
   "execution_count": null,
   "id": "circular-premium",
   "metadata": {},
   "outputs": [],
   "source": [
    "fig= plt.figure(figsize=(10,4))\n",
    "sns.pointplot(x=\"Month\", y=\"PM_2.5\", hue=\"Station\", data=result,palette=['sienna','olivedrab','lightskyblue'],\n",
    "              ci=None)\n",
    "#plt.legend(['Nicosia Traffic', 'Nicosia Residence','EMEP-AM-Background'], loc = 2, bbox_to_anchor = (0.7,1.2))\n",
    "plt.ylabel( 'Average ' + r'$PM_{2.5}$'  + ' Concentration (µg/m³)')\n",
    "plt.legend(loc = 2, bbox_to_anchor = (0.7,1.25))\n",
    "plt.show()"
   ]
  },
  {
   "cell_type": "code",
   "execution_count": null,
   "id": "grave-indonesian",
   "metadata": {},
   "outputs": [],
   "source": [
    "fig= plt.figure(figsize=(10,4))\n",
    "sns.pointplot(x=\"Month\", y=\"PM_10\", hue=\"Station\", data=result,palette=['gold','rebeccapurple','salmon'],\n",
    "              ci=None)\n",
    "#plt.legend(['Nicosia Traffic', 'Nicosia Residence','EMEP-AM-Background'], loc = 2, bbox_to_anchor = (0.7,1.2))\n",
    "plt.ylabel( 'Average ' + r'$PM_{10}$'  + ' Concentration (µg/m³)')\n",
    "plt.legend(loc = 2, bbox_to_anchor = (0.7,1.25))\n",
    "plt.show()"
   ]
  },
  {
   "cell_type": "code",
   "execution_count": null,
   "id": "innovative-playing",
   "metadata": {},
   "outputs": [],
   "source": [
    "palette=[['cyan','olive','green'],['plum','aqua','chartreuse'],['palevioletred','steelblue','darkkhaki'],\n",
    "         ['sienna','olivedrab','lightskyblue'],['gold','rebeccapurple','salmon'],['plum','olivedrab','salmon']]"
   ]
  },
  {
   "cell_type": "code",
   "execution_count": null,
   "id": "muslim-guide",
   "metadata": {},
   "outputs": [],
   "source": [
    "column=['CO','NO_2','SO_2','O_3','PM_2.5','PM_10']\n",
    "for i in range(len(column)):\n",
    "    fig= plt.figure(figsize=(10,4))\n",
    "    sns.boxplot(data=data_NT, x='Month', y=column[i])\n",
    "    plt.title('Nicosia Traffic')\n",
    "    plt.show()"
   ]
  },
  {
   "cell_type": "code",
   "execution_count": null,
   "id": "foreign-zambia",
   "metadata": {},
   "outputs": [],
   "source": [
    "column=['CO','NO_2','SO_2','O_3','PM_2.5','PM_10']\n",
    "for i in range(len(column)):\n",
    "    fig= plt.figure(figsize=(10,4))\n",
    "    sns.boxplot(data=data_NR, x='Month', y=column[i])\n",
    "    plt.title('Nicosia Residence')\n",
    "    plt.show()"
   ]
  },
  {
   "cell_type": "code",
   "execution_count": null,
   "id": "romantic-water",
   "metadata": {},
   "outputs": [],
   "source": [
    "column=['CO','NO_2','SO_2','O_3','PM_2.5','PM_10']\n",
    "for i in range(len(column)):\n",
    "    fig= plt.figure(figsize=(10,4))\n",
    "    sns.boxplot(data=data_AM, x='Month', y=column[i])\n",
    "    plt.title('Ayia Marina-Background')\n",
    "    plt.show()"
   ]
  },
  {
   "cell_type": "code",
   "execution_count": null,
   "id": "motivated-portal",
   "metadata": {},
   "outputs": [],
   "source": [
    "fig= plt.figure(figsize=(13,6))\n",
    "sns.heatmap(result[['CO','NO_2','SO_2','O_3','PM_2.5','PM_10']].corr(), annot = True, vmin=-1, vmax=1, \n",
    "            center= 0, cmap= 'coolwarm')\n"
   ]
  },
  {
   "cell_type": "markdown",
   "id": "fifth-toyota",
   "metadata": {},
   "source": [
    "## AQI Nicosia Traffic"
   ]
  },
  {
   "cell_type": "code",
   "execution_count": null,
   "id": "presidential-finnish",
   "metadata": {},
   "outputs": [],
   "source": [
    "NO_2=data_NT['NO_2'].to_list()\n",
    "I_NO_2=[]\n",
    "for i in range(len(NO_2)):\n",
    "    if NO_2[i]>=0 and NO_2[i]<=50:\n",
    "        I=((25-0)/(50-0))*(NO_2[i]-0)+0\n",
    "    elif NO_2[i]>=51 and NO_2[i]<=100:\n",
    "        I=((50-25)/(100-50))*(NO_2[i]-50)+25\n",
    "    elif NO_2[i]>=101 and NO_2[i]<=200:\n",
    "        I=((75-50)/(200-100))*(NO_2[i]-100)+50\n",
    "    elif NO_2[i]>=201 and NO_2[i]<=400:\n",
    "        I=((100-75)/(400-200))*(NO_2[i]-200)+75\n",
    "    else:\n",
    "        I=101\n",
    "    I_NO_2.append(I)"
   ]
  },
  {
   "cell_type": "code",
   "execution_count": null,
   "id": "varying-horse",
   "metadata": {},
   "outputs": [],
   "source": [
    "O_3=data_NT['O_3'].to_list()\n",
    "I_O_3=[]\n",
    "for i in range(len(O_3)):\n",
    "    if O_3[i]>=0 and O_3[i]<=60:\n",
    "        I=((25-0)/(60-0))*(O_3[i]-0)+0\n",
    "    elif O_3[i]>=61 and O_3[i]<=120:\n",
    "        I=((50-25)/(120-60))*(O_3[i]-60)+25\n",
    "    elif O_3[i]>=121 and O_3[i]<=180:\n",
    "        I=((75-50)/(180-120))*(O_3[i]-120)+50\n",
    "    elif O_3[i]>=181 and O_3[i]<=240:\n",
    "        I=((100-75)/(240-180))*(O_3[i]-180)+75\n",
    "    else:\n",
    "        I=101\n",
    "    I_O_3.append(I)\n",
    "len(I_O_3)"
   ]
  },
  {
   "cell_type": "code",
   "execution_count": null,
   "id": "funny-membrane",
   "metadata": {},
   "outputs": [],
   "source": [
    "PM_2_5=data_NT['PM_2.5'].to_list()\n",
    "I_PM_2_5=[]\n",
    "for i in range(len(PM_2_5)):\n",
    "    if PM_2_5[i]>=0 and PM_2_5[i]<=15:\n",
    "        I=((25-0)/(15-0))*(PM_2_5[i]-0)+0\n",
    "    elif PM_2_5[i]>=16 and PM_2_5[i]<=30:\n",
    "        I=((50-25)/(30-15))*(PM_2_5[i]-15)+25\n",
    "    elif PM_2_5[i]>=31 and PM_2_5[i]<=55:\n",
    "        I=((75-50)/(55-30))*(PM_2_5[i]-30)+50\n",
    "    elif PM_2_5[i]>=56 and PM_2_5[i]<=110:\n",
    "        I=((100-75)/(110-55))*(PM_2_5[i]-55)+75\n",
    "    else:\n",
    "        I=101\n",
    "    I_PM_2_5.append(I)\n",
    "    \n",
    "len(I_PM_2_5)"
   ]
  },
  {
   "cell_type": "code",
   "execution_count": null,
   "id": "featured-agriculture",
   "metadata": {},
   "outputs": [],
   "source": [
    "PM_10=data_NT['PM_10'].to_list()\n",
    "I_PM_10=[]\n",
    "for i in range(len(PM_10)):\n",
    "    if PM_10[i]>=0 and PM_10[i]<=25:\n",
    "        I=((25-0)/(25-0))*(PM_10[i]-0)+0\n",
    "    elif PM_10[i]>=26 and PM_10[i]<=50:\n",
    "        I=((50-25)/(50-25))*(PM_10[i]-25)+25\n",
    "    elif PM_10[i]>=51 and PM_10[i]<=90:\n",
    "        I=((75-50)/(90-50))*(PM_10[i]-50)+50\n",
    "    elif PM_10[i]>=91 and PM_10[i]<=180:\n",
    "        I=((100-75)/(180-90))*(PM_10[i]-90)+75\n",
    "    else:\n",
    "        I=101\n",
    "    I_PM_10.append(I)"
   ]
  },
  {
   "cell_type": "code",
   "execution_count": null,
   "id": "compliant-conditions",
   "metadata": {},
   "outputs": [],
   "source": [
    "l=[[I_NO_2[i],I_O_3[i],I_PM_2_5[i],I_PM_10[i]] for i in range(1095)]\n",
    "AQI=[np.round(max(l[i]),2) for i in range(1095)]\n",
    "l_pollution=[]\n",
    "for i in range(len(AQI)):\n",
    "    if AQI[i]>=0 and AQI[i]<=50:\n",
    "        l_pollution.append('Good')\n",
    "    elif AQI[i]>=51 and AQI[i]<=75:\n",
    "        l_pollution.append('Moderate')\n",
    "    else:\n",
    "        l_pollution.append('Unhealthy') \n",
    "    \n",
    "data_NT['AQI']=AQI\n",
    "data_NT['Pollution Level']=l_pollution\n",
    "data_NT.head()"
   ]
  },
  {
   "cell_type": "markdown",
   "id": "referenced-removal",
   "metadata": {},
   "source": [
    "## AQI Nicosia Residence"
   ]
  },
  {
   "cell_type": "code",
   "execution_count": null,
   "id": "right-cannon",
   "metadata": {},
   "outputs": [],
   "source": [
    "NO_2=data_NR['NO_2'].to_list()\n",
    "I_NO_2=[]\n",
    "for i in range(len(NO_2)):\n",
    "    if NO_2[i]>=0 and NO_2[i]<=50:\n",
    "        I=((25-0)/(50-0))*(NO_2[i]-0)+0\n",
    "    elif NO_2[i]>=51 and NO_2[i]<=100:\n",
    "        I=((50-25)/(100-50))*(NO_2[i]-50)+25\n",
    "    elif NO_2[i]>=101 and NO_2[i]<=200:\n",
    "        I=((75-50)/(200-100))*(NO_2[i]-100)+50\n",
    "    elif NO_2[i]>=201 and NO_2[i]<=400:\n",
    "        I=((100-75)/(400-200))*(NO_2[i]-200)+75\n",
    "    else:\n",
    "        I=101\n",
    "    I_NO_2.append(I)\n"
   ]
  },
  {
   "cell_type": "code",
   "execution_count": null,
   "id": "stainless-sunrise",
   "metadata": {},
   "outputs": [],
   "source": [
    "O_3=data_NR['O_3'].to_list()\n",
    "I_O_3=[]\n",
    "for i in range(len(O_3)):\n",
    "    if O_3[i]>=0 and O_3[i]<=60:\n",
    "        I=((25-0)/(60-0))*(O_3[i]-0)+0\n",
    "    elif O_3[i]>=61 and O_3[i]<=120:\n",
    "        I=((50-25)/(120-60))*(O_3[i]-60)+25\n",
    "    elif O_3[i]>=121 and O_3[i]<=180:\n",
    "        I=((75-50)/(180-120))*(O_3[i]-120)+50\n",
    "    elif O_3[i]>=181 and O_3[i]<=240:\n",
    "        I=((100-75)/(240-180))*(O_3[i]-180)+75\n",
    "    else:\n",
    "        I=101\n",
    "    I_O_3.append(I)"
   ]
  },
  {
   "cell_type": "code",
   "execution_count": null,
   "id": "valued-catalog",
   "metadata": {},
   "outputs": [],
   "source": [
    "PM_2_5=data_NR['PM_2.5'].to_list()\n",
    "I_PM_2_5=[]\n",
    "for i in range(len(PM_2_5)):\n",
    "    if PM_2_5[i]>=0 and PM_2_5[i]<=15:\n",
    "        I=((25-0)/(15-0))*(PM_2_5[i]-0)+0\n",
    "    elif PM_2_5[i]>=16 and PM_2_5[i]<=30:\n",
    "        I=((50-25)/(30-15))*(PM_2_5[i]-15)+25\n",
    "    elif PM_2_5[i]>=31 and PM_2_5[i]<=55:\n",
    "        I=((75-50)/(55-30))*(PM_2_5[i]-30)+50\n",
    "    elif PM_2_5[i]>=56 and PM_2_5[i]<=110:\n",
    "        I=((100-75)/(110-55))*(PM_2_5[i]-55)+75\n",
    "    else:\n",
    "        I=101\n",
    "    I_PM_2_5.append(I)"
   ]
  },
  {
   "cell_type": "code",
   "execution_count": null,
   "id": "molecular-renewal",
   "metadata": {},
   "outputs": [],
   "source": [
    "PM_10=data_NR['PM_10'].to_list()\n",
    "I_PM_10=[]\n",
    "for i in range(len(PM_10)):\n",
    "    if PM_10[i]>=0 and PM_10[i]<=25:\n",
    "        I=((25-0)/(25-0))*(PM_10[i]-0)+0\n",
    "    elif PM_10[i]>=26 and PM_10[i]<=50:\n",
    "        I=((50-25)/(50-25))*(PM_10[i]-25)+25\n",
    "    elif PM_10[i]>=51 and PM_10[i]<=90:\n",
    "        I=((75-50)/(90-50))*(PM_10[i]-50)+50\n",
    "    elif PM_10[i]>=91 and PM_10[i]<=180:\n",
    "        I=((100-75)/(180-90))*(PM_10[i]-90)+75\n",
    "    else:\n",
    "        I=101\n",
    "    I_PM_10.append(I)"
   ]
  },
  {
   "cell_type": "code",
   "execution_count": null,
   "id": "flexible-sacramento",
   "metadata": {},
   "outputs": [],
   "source": [
    "l=[[I_NO_2[i],I_O_3[i],I_PM_2_5[i],I_PM_10[i]] for i in range(1095)]\n",
    "AQI=[np.round(max(l[i]),2) for i in range(1095)]\n",
    "l_pollution=[]\n",
    "for i in range(len(AQI)):\n",
    "    if AQI[i]>=0 and AQI[i]<=50:\n",
    "        l_pollution.append('Good')\n",
    "    elif AQI[i]>=51 and AQI[i]<=75:\n",
    "        l_pollution.append('Moderate')\n",
    "    else:\n",
    "        l_pollution.append('Unhealthy') \n",
    "        \n",
    "data_NR['AQI']=AQI\n",
    "data_NR['Pollution Level']=l_pollution\n",
    "data_NR.head()"
   ]
  },
  {
   "cell_type": "markdown",
   "id": "protective-vertical",
   "metadata": {},
   "source": [
    "## EMEP-AM-Background"
   ]
  },
  {
   "cell_type": "code",
   "execution_count": null,
   "id": "identified-wages",
   "metadata": {},
   "outputs": [],
   "source": [
    "NO_2=data_AM['NO_2'].to_list()\n",
    "I_NO_2=[]\n",
    "for i in range(len(NO_2)):\n",
    "    if NO_2[i]>=0 and NO_2[i]<=50:\n",
    "        I=((25-0)/(50-0))*(NO_2[i]-0)+0\n",
    "    elif NO_2[i]>=51 and NO_2[i]<=100:\n",
    "        I=((50-25)/(100-50))*(NO_2[i]-50)+25\n",
    "    elif NO_2[i]>=101 and NO_2[i]<=200:\n",
    "        I=((75-50)/(200-100))*(NO_2[i]-100)+50\n",
    "    elif NO_2[i]>=201 and NO_2[i]<=400:\n",
    "        I=((100-75)/(400-200))*(NO_2[i]-200)+75\n",
    "    else:\n",
    "        I=101\n",
    "    I_NO_2.append(I)\n"
   ]
  },
  {
   "cell_type": "code",
   "execution_count": null,
   "id": "academic-glossary",
   "metadata": {},
   "outputs": [],
   "source": [
    "O_3=data_AM['O_3'].to_list()\n",
    "I_O_3=[]\n",
    "for i in range(len(O_3)):\n",
    "    if O_3[i]>=0 and O_3[i]<=60:\n",
    "        I=((25-0)/(60-0))*(O_3[i]-0)+0\n",
    "    elif O_3[i]>=61 and O_3[i]<=120:\n",
    "        I=((50-25)/(120-60))*(O_3[i]-60)+25\n",
    "    elif O_3[i]>=121 and O_3[i]<=180:\n",
    "        I=((75-50)/(180-120))*(O_3[i]-120)+50\n",
    "    elif O_3[i]>=181 and O_3[i]<=240:\n",
    "        I=((100-75)/(240-180))*(O_3[i]-180)+75\n",
    "    else:\n",
    "        I=101\n",
    "    I_O_3.append(I)"
   ]
  },
  {
   "cell_type": "code",
   "execution_count": null,
   "id": "progressive-sympathy",
   "metadata": {},
   "outputs": [],
   "source": [
    "PM_2_5=data_AM['PM_2.5'].to_list()\n",
    "I_PM_2_5=[]\n",
    "for i in range(len(PM_2_5)):\n",
    "    if PM_2_5[i]>=0 and PM_2_5[i]<=15:\n",
    "        I=((25-0)/(15-0))*(PM_2_5[i]-0)+0\n",
    "    elif PM_2_5[i]>=16 and PM_2_5[i]<=30:\n",
    "        I=((50-25)/(30-15))*(PM_2_5[i]-15)+25\n",
    "    elif PM_2_5[i]>=31 and PM_2_5[i]<=55:\n",
    "        I=((75-50)/(55-30))*(PM_2_5[i]-30)+50\n",
    "    elif PM_2_5[i]>=56 and PM_2_5[i]<=110:\n",
    "        I=((100-75)/(110-55))*(PM_2_5[i]-55)+75\n",
    "    else:\n",
    "        I=101\n",
    "    I_PM_2_5.append(I)"
   ]
  },
  {
   "cell_type": "code",
   "execution_count": null,
   "id": "dutch-jurisdiction",
   "metadata": {},
   "outputs": [],
   "source": [
    "PM_10=data_AM['PM_10'].to_list()\n",
    "I_PM_10=[]\n",
    "for i in range(len(PM_10)):\n",
    "    if PM_10[i]>=0 and PM_10[i]<=25:\n",
    "        I=((25-0)/(25-0))*(PM_10[i]-0)+0\n",
    "    elif PM_10[i]>=26 and PM_10[i]<=50:\n",
    "        I=((50-25)/(50-25))*(PM_10[i]-25)+25\n",
    "    elif PM_10[i]>=51 and PM_10[i]<=90:\n",
    "        I=((75-50)/(90-50))*(PM_10[i]-50)+50\n",
    "    elif PM_10[i]>=91 and PM_10[i]<=180:\n",
    "        I=((100-75)/(180-90))*(PM_10[i]-90)+75\n",
    "    else:\n",
    "        I=101\n",
    "    I_PM_10.append(I)"
   ]
  },
  {
   "cell_type": "code",
   "execution_count": null,
   "id": "abroad-boulder",
   "metadata": {},
   "outputs": [],
   "source": [
    "l=[[I_NO_2[i],I_O_3[i],I_PM_2_5[i],I_PM_10[i]] for i in range(1095)]\n",
    "AQI=[np.round(max(l[i]),2) for i in range(1095)]\n",
    "l_pollution=[]\n",
    "for i in range(len(AQI)):\n",
    "    if AQI[i]>=0 and AQI[i]<=50:\n",
    "        l_pollution.append('Good')\n",
    "    elif AQI[i]>=51 and AQI[i]<=75:\n",
    "        l_pollution.append('Moderate')\n",
    "    else:\n",
    "        l_pollution.append('Unhealthy')   \n",
    "data_AM['AQI']=AQI\n",
    "data_AM['Pollution Level']=l_pollution\n",
    "data_AM.head()"
   ]
  },
  {
   "cell_type": "code",
   "execution_count": null,
   "id": "bronze-passenger",
   "metadata": {},
   "outputs": [],
   "source": [
    "fig= plt.figure(figsize=(10,4))\n",
    "sns.countplot(x = 'Month', data = data_NT,hue='Pollution Level',palette=['lime','red','orange'])\n",
    "plt.legend(loc = 2, bbox_to_anchor = (0.7,1.4))\n",
    "plt.title('Nicosia Traffic')\n",
    "plt.show()"
   ]
  },
  {
   "cell_type": "code",
   "execution_count": null,
   "id": "rocky-institute",
   "metadata": {},
   "outputs": [],
   "source": [
    "fig= plt.figure(figsize=(10,4))\n",
    "sns.countplot(x = 'Month', data = data_NR,hue='Pollution Level',palette=['lime','red','orange'])\n",
    "plt.legend(loc = 2, bbox_to_anchor = (0.7,1.25))\n",
    "plt.title('Nicosia Residence')\n",
    "plt.show()"
   ]
  },
  {
   "cell_type": "code",
   "execution_count": null,
   "id": "wireless-translation",
   "metadata": {},
   "outputs": [],
   "source": [
    "fig= plt.figure(figsize=(10,4))\n",
    "sns.countplot(x = 'Month', data = data_AM,hue='Pollution Level',palette=['lime','red','orange'])\n",
    "plt.legend(loc = 2, bbox_to_anchor = (0.7,1.25))\n",
    "plt.title('EMEP-AM-Background')\n",
    "plt.show()"
   ]
  },
  {
   "cell_type": "code",
   "execution_count": null,
   "id": "generic-kansas",
   "metadata": {},
   "outputs": [],
   "source": [
    "# importing packages\n",
    "fig= plt.figure(figsize=(10,4))  \n",
    "sns.histplot(x='NO_2', data=result, kde=True, hue='Station',palette=palette[0])\n",
    "  \n",
    "plt.show()"
   ]
  },
  {
   "cell_type": "code",
   "execution_count": null,
   "id": "incident-vertical",
   "metadata": {},
   "outputs": [],
   "source": [
    "# importing packages\n",
    "fig= plt.figure(figsize=(10,4))  \n",
    "sns.histplot(x='SO_2', data=result, kde=True, hue='Station',palette=palette[1])\n",
    "  \n",
    "plt.show()"
   ]
  },
  {
   "cell_type": "code",
   "execution_count": null,
   "id": "polished-processor",
   "metadata": {},
   "outputs": [],
   "source": [
    "# importing packages\n",
    "fig= plt.figure(figsize=(10,4))  \n",
    "sns.histplot(x='O_3', data=result, kde=True, hue='Station',palette=palette[2])\n",
    "  \n",
    "plt.show()"
   ]
  },
  {
   "cell_type": "code",
   "execution_count": null,
   "id": "extensive-examination",
   "metadata": {},
   "outputs": [],
   "source": [
    "# importing packages\n",
    "fig= plt.figure(figsize=(10,4))  \n",
    "sns.histplot(x='CO', data=result, kde=True, hue='Station',palette=palette[3])\n",
    "  \n",
    "plt.show()"
   ]
  },
  {
   "cell_type": "code",
   "execution_count": null,
   "id": "animated-composition",
   "metadata": {},
   "outputs": [],
   "source": [
    "# importing packages\n",
    "fig= plt.figure(figsize=(10,4))  \n",
    "sns.histplot(x='PM_2.5', data=result, kde=True, hue='Station',palette=palette[4])\n",
    "  \n",
    "plt.show()"
   ]
  },
  {
   "cell_type": "code",
   "execution_count": null,
   "id": "mature-miller",
   "metadata": {},
   "outputs": [],
   "source": [
    "# importing packages\n",
    "fig= plt.figure(figsize=(10,4))  \n",
    "sns.histplot(x='PM_10', data=result, kde=True, hue='Station',palette=palette[5])\n",
    "  \n",
    "plt.show()"
   ]
  },
  {
   "cell_type": "code",
   "execution_count": null,
   "id": "filled-humidity",
   "metadata": {},
   "outputs": [],
   "source": [
    "fig= plt.figure(figsize=(10,4))\n",
    "sns.countplot(x = 'Year', data = data_NT,hue='Pollution Level',palette=['green','red','orange'])\n",
    "plt.legend(loc = 2, bbox_to_anchor = (0.7,1.4))\n",
    "plt.title('Nicosia Traffic')\n",
    "plt.show()"
   ]
  },
  {
   "cell_type": "code",
   "execution_count": null,
   "id": "military-chest",
   "metadata": {},
   "outputs": [],
   "source": [
    "fig= plt.figure(figsize=(10,4))\n",
    "sns.countplot(x = 'Year', data = data_NR,hue='Pollution Level',palette=['green','red','orange'])\n",
    "plt.legend(loc = 2, bbox_to_anchor = (0.7,1.4))\n",
    "plt.title('Nicosia Residence')\n",
    "plt.show()"
   ]
  },
  {
   "cell_type": "code",
   "execution_count": null,
   "id": "common-functionality",
   "metadata": {},
   "outputs": [],
   "source": [
    "fig= plt.figure(figsize=(10,4))\n",
    "sns.countplot(x = 'Year', data = data_AM,hue='Pollution Level',palette=['lime','red','orange'])\n",
    "plt.legend(loc = 2, bbox_to_anchor = (0.7,1.4))\n",
    "plt.title('EMEP-AM-Background')\n",
    "plt.show()"
   ]
  },
  {
   "cell_type": "code",
   "execution_count": null,
   "id": "plastic-kingdom",
   "metadata": {},
   "outputs": [],
   "source": [
    "import plotly.graph_objects as go\n",
    "import numpy as np\n",
    "def scaler(x):\n",
    "    A=np.array(x)\n",
    "    A=(A-min(A))/(max(A)-min(A))\n",
    "    A=list(A)\n",
    "    return A\n",
    "    \n",
    "\n",
    "NO_2_NT=scaler(data_NT['NO_2'].to_list())\n",
    "SO_2_NT=scaler(data_NT['SO_2'].to_list())\n",
    "CO_NT=scaler(data_NT['CO'].to_list())\n",
    "O_3_NT=scaler(data_NT['O_3'].to_list())\n",
    "PM_2_5_NT=scaler(data_NT['PM_2.5'].to_list())\n",
    "PM_10_NT=scaler(data_NT['PM_10'].to_list())\n",
    "\n",
    "\n",
    "NO_2_NR=scaler(data_NR['NO_2'].to_list())\n",
    "SO_2_NR=scaler(data_NR['SO_2'].to_list())\n",
    "CO_NR=scaler(data_NR['CO'].to_list())\n",
    "O_3_NR=scaler(data_NR['O_3'].to_list())\n",
    "PM_2_5_NR=scaler(data_NR['PM_2.5'].to_list())\n",
    "PM_10_NR=scaler(data_NR['PM_10'].to_list())\n",
    "\n",
    "NO_2_AM=scaler(data_AM['NO_2'].to_list())\n",
    "SO_2_AM=scaler(data_AM['SO_2'].to_list())\n",
    "CO_AM=scaler(data_AM['CO'].to_list())\n",
    "O_3_AM=scaler(data_AM['O_3'].to_list())\n",
    "PM_2_5_AM=scaler(data_AM['PM_2.5'].to_list())\n",
    "PM_10_AM=scaler(data_AM['PM_10'].to_list())\n",
    "\n",
    "L_NT=NO_2_NT+SO_2_NT+CO_NT+O_3_NT+PM_2_5_NT+PM_10_NT\n",
    "L_NR=NO_2_NR+SO_2_NR+CO_NR+O_3_NR+PM_2_5_NR+PM_10_NR\n",
    "L_AM=NO_2_AM+SO_2_AM+CO_AM+O_3_AM+PM_2_5_AM+PM_10_AM\n",
    "\n",
    "\n",
    "x1=['NO_2' for i in range(1095)]\n",
    "x2=['SO_2' for i in range(1095)]\n",
    "x3=['CO' for i in range(1095)]\n",
    "x4=['O_3' for i in range(1095)]\n",
    "x5=['PM_2.5' for i in range(1095)]\n",
    "x6=['PM_10' for i in range(1095)]\n",
    "x=x1+x2+x3+x4+x5+x6\n",
    "\n",
    "fig = go.Figure()  \n",
    "# Defining x axis\n",
    "x = x\n",
    "\n",
    "fig.add_trace(go.Box(\n",
    "  \n",
    "    # defining y axis in corresponding\n",
    "    # to x-axis\n",
    "    y=L_NT,\n",
    "    x=x,\n",
    "    name='Nicosia Traffic',\n",
    "    marker_color='blue'\n",
    "))\n",
    "  \n",
    "fig.add_trace(go.Box(\n",
    "    y=L_NR,\n",
    "    x=x,\n",
    "    name='Nicosia Residence',\n",
    "    marker_color='lime'\n",
    "))\n",
    "  \n",
    "fig.add_trace(go.Box(\n",
    "    y=L_AM,\n",
    "    x=x,\n",
    "    name='EMEP-AM Background',\n",
    "    marker_color='sienna'\n",
    "\n",
    "))\n",
    "  \n",
    "fig.update_layout(\n",
    "  \n",
    "    # group together boxes of the different\n",
    "    # traces for each value of x\n",
    "    boxmode='group'\n",
    ")\n",
    "\n",
    "fig.update_xaxes(title_text=\"Pollutants\")\n",
    "fig.update_yaxes(title_text=\"Normalized Concentrations\")\n",
    "fig.show()"
   ]
  },
  {
   "cell_type": "markdown",
   "id": "aggressive-layout",
   "metadata": {},
   "source": [
    "## Checking distribution of data"
   ]
  },
  {
   "cell_type": "code",
   "execution_count": null,
   "id": "forward-student",
   "metadata": {},
   "outputs": [],
   "source": [
    "import numpy as np  # numpy used to create data from plotting\n",
    "import seaborn as sns  # common form of importing seaborn\n",
    "\n",
    "# Generate normally distributed data\n",
    "#data = np.random.randn(1000)\n",
    "data=O_3_AM\n",
    "\n",
    "# Plot a histogram with both a rugplot and kde graph superimposed\n",
    "sns.distplot(data, kde=True, rug=True)\n"
   ]
  },
  {
   "cell_type": "code",
   "execution_count": null,
   "id": "important-toner",
   "metadata": {},
   "outputs": [],
   "source": [
    "import pandas as pd\n",
    "import numpy as np\n",
    "import seaborn as sns\n",
    "import cufflinks as cf\n",
    "import warnings\n",
    "import itertools\n",
    "import matplotlib.pyplot as plt\n",
    "warnings.filterwarnings(\"ignore\")\n",
    "plt.style.use('fivethirtyeight')\n",
    "import statsmodels.api as sm\n",
    "import matplotlib\n",
    "matplotlib.rcParams['axes.labelsize'] = 14\n",
    "matplotlib.rcParams['xtick.labelsize'] = 12\n",
    "matplotlib.rcParams['ytick.labelsize'] = 12\n",
    "matplotlib.rcParams['text.color'] = 'k'\n",
    "\n",
    "\n",
    "data1=pd.read_csv(\"Data_2017.csv\")\n",
    "data2=pd.read_csv(\"Data_2018.csv\")\n",
    "data3=pd.read_csv(\"Data_2019.csv\")"
   ]
  },
  {
   "cell_type": "code",
   "execution_count": null,
   "id": "narrow-invitation",
   "metadata": {},
   "outputs": [],
   "source": [
    "p_id1=data1['pollutant_id'].to_list()\n",
    "date1=data1['date_time'].to_list()\n",
    "p_value1=data1['pollutant_value'].to_list()\n",
    "\n",
    "p_id2=data2['pollutant_id'].to_list()\n",
    "date2=data2['date_time'].to_list()\n",
    "p_value2=data2['pollutant_value'].to_list()\n",
    "\n",
    "p_id3=data3['pollutant_id'].to_list()\n",
    "date3=data3['date_time'].to_list()\n",
    "p_value3=data3['pollutant_value'].to_list()\n",
    "\n",
    "p_id=p_id1+p_id2+p_id3\n",
    "date=date1+date2+date3\n",
    "p_value=p_value1+p_value2+p_value3\n",
    "\n",
    "date=[date[i] for i in range(len(p_id)) if(p_id[i]==6)]\n",
    "CO_2017=[p_value[i] for i in range(len(p_id)) if(p_id[i]==6)]\n",
    "\n",
    "for i in range(len(CO_2017)):\n",
    "    if (CO_2017[i]=='BDL'):\n",
    "        CO_2017[i]='nan'\n",
    "    else:\n",
    "        pass\n",
    "\n",
    "for i in range(len(CO_2017)):\n",
    "    if (CO_2017[i]=='nan'):\n",
    "        CO_2017[i]='0'\n",
    "    else:\n",
    "        pass\n",
    "\n",
    "        \n",
    "#CO_2017=[int(CO_2017[i]) for i in range(len(CO_2017))]    \n",
    "data=[[date[i], CO_2017[i]] for i in range(len(date))] \n",
    "data= pd.DataFrame(data, columns = ['Date', 'CO'])\n",
    "data[\"CO\"] = pd.to_numeric(data[\"CO\"], downcast=\"float\")\n",
    "column_means = data['CO'].mean()\n",
    "data['CO'].fillna(column_means)\n",
    "\n",
    "data.shape"
   ]
  },
  {
   "cell_type": "code",
   "execution_count": null,
   "id": "athletic-industry",
   "metadata": {},
   "outputs": [],
   "source": [
    "data1=data\n",
    "data1['Date'] = pd.to_datetime(data1['Date'])\n",
    "data1=data1.set_index('Date')"
   ]
  },
  {
   "cell_type": "code",
   "execution_count": null,
   "id": "civic-harvey",
   "metadata": {},
   "outputs": [],
   "source": [
    "data1['Month']=data1.index.month\n",
    "data1['Day_of_week']=data1.index.dayofweek\n",
    "data1['Day']=data1.index.day\n",
    "data1['Hour']=data1.index.hour\n",
    "data1['Year']=data1.index.year\n",
    "data1.head()\n",
    "data5=data1\n",
    "data5.tail()"
   ]
  },
  {
   "cell_type": "markdown",
   "id": "independent-instruction",
   "metadata": {},
   "source": [
    "## Determining  Skewness and Curtosis of Data"
   ]
  },
  {
   "cell_type": "code",
   "execution_count": null,
   "id": "dried-agreement",
   "metadata": {},
   "outputs": [],
   "source": [
    "from scipy.stats import skew,kurtosis\n",
    "skew(data1['CO'].dropna())"
   ]
  },
  {
   "cell_type": "code",
   "execution_count": null,
   "id": "honey-pasta",
   "metadata": {},
   "outputs": [],
   "source": [
    "import numpy as np\n",
    "kurtosis(data1['CO'].dropna())"
   ]
  },
  {
   "cell_type": "code",
   "execution_count": null,
   "id": "overall-africa",
   "metadata": {},
   "outputs": [],
   "source": [
    "L=np.random.normal(0,1,1000)"
   ]
  },
  {
   "cell_type": "markdown",
   "id": "prospective-berkeley",
   "metadata": {},
   "source": [
    "## Data Visualization ##"
   ]
  },
  {
   "cell_type": "code",
   "execution_count": null,
   "id": "outside-apparatus",
   "metadata": {},
   "outputs": [],
   "source": [
    "import matplotlib.pyplot as plt\n",
    "import seaborn as sns\n",
    "data_by_month=data1.resample('M').mean()\n",
    "fig= plt.figure(figsize=(16,6))\n",
    "#colors = ['lightpink','pink','fuchsia','mistyrose','hotpink','deeppink','magenta']\n",
    "sns.lineplot(x=data_by_month.index,y='CO',data=data_by_month,color='hotpink')"
   ]
  },
  {
   "cell_type": "code",
   "execution_count": null,
   "id": "expired-penetration",
   "metadata": {},
   "outputs": [],
   "source": [
    "fig= plt.figure(figsize=(16,6))\n",
    "sns.pointplot(data=data1,x='Month',y='CO',colr='magenda')"
   ]
  },
  {
   "cell_type": "code",
   "execution_count": null,
   "id": "loose-roberts",
   "metadata": {},
   "outputs": [],
   "source": [
    "fig= plt.figure(figsize=(16,6))\n",
    "sns.pointplot(data=data1,x='Hour',y='CO')"
   ]
  },
  {
   "cell_type": "markdown",
   "id": "objective-paste",
   "metadata": {},
   "source": [
    "As expected, the CO concentration is higher during morning hours and evening hours, attributed to high traffic during those hours."
   ]
  },
  {
   "cell_type": "code",
   "execution_count": null,
   "id": "extended-sydney",
   "metadata": {},
   "outputs": [],
   "source": [
    "fig= plt.figure(figsize=(16,6))\n",
    "sns.pointplot(data=data1,x='Day_of_week',y='CO',color='orange')"
   ]
  },
  {
   "cell_type": "code",
   "execution_count": null,
   "id": "alleged-canyon",
   "metadata": {},
   "outputs": [],
   "source": [
    "fig= plt.figure(figsize=(13,6))\n",
    "data2=data1.resample('D').mean()\n",
    "sns.histplot(data2, x=\"CO\",color='fuchsia')"
   ]
  },
  {
   "cell_type": "code",
   "execution_count": null,
   "id": "adjacent-rotation",
   "metadata": {},
   "outputs": [],
   "source": [
    "fig= plt.figure(figsize=(13,6))\n",
    "sns.displot(data2, x=\"CO\", col=\"Day_of_week\",multiple=\"dodge\")"
   ]
  },
  {
   "cell_type": "code",
   "execution_count": null,
   "id": "filled-emperor",
   "metadata": {},
   "outputs": [],
   "source": [
    "fig= plt.figure(figsize=(13,6))\n",
    "sns.boxplot(data=data2, x='Month', y='CO')"
   ]
  },
  {
   "cell_type": "markdown",
   "id": "dimensional-being",
   "metadata": {},
   "source": [
    "## Time Series Lag Plot ##\n",
    "A lag plot helps to check if a time series data set is random or not. A random data will be evenly spread whereas a shape or trend indicates the data is not random."
   ]
  },
  {
   "cell_type": "code",
   "execution_count": null,
   "id": "advanced-pulse",
   "metadata": {},
   "outputs": [],
   "source": [
    "pd.plotting.lag_plot(data2['CO'])"
   ]
  },
  {
   "cell_type": "code",
   "execution_count": null,
   "id": "stylish-controversy",
   "metadata": {},
   "outputs": [],
   "source": [
    "#Printing the date upto period 'Day'\n",
    "data['Date'] = pd.to_datetime(data['Date']).dt.to_period('H')\n",
    "#Drops all rows with missing values\n",
    "#data=data.dropna()\n",
    "#Setting the date column as an index column to allow resampling\n",
    "data=data.set_index('Date')\n",
    "#Resampling data to give only the mean daily CO concentrations\n",
    "data=data.resample('D').mean()\n",
    "\n",
    "data['date'] = data.index\n",
    "#data['date'] = pd.to_datetime(data['date']).dt.to_period('D')\n",
    "#mean_value=data['CO'].mean()\n",
    "data=data.fillna(column_means)\n",
    "data.head()\n"
   ]
  },
  {
   "cell_type": "code",
   "execution_count": null,
   "id": "straight-spending",
   "metadata": {},
   "outputs": [],
   "source": [
    "CO  =data['CO'].to_list()\n",
    "date=data['date'].to_list()\n",
    "CO=pd.Series(CO,date)\n",
    "CO2017=list(CO['2017'])\n",
    "CO2018=list(CO['2018'])\n",
    "CO2019=list(CO['2019'])\n",
    "a_dict = {'Date':CO.index[:365],\n",
    "    \"2017\":CO2017,\n",
    "                  \"2018\":CO2018,\"2019\":CO2019}\n",
    "df = pd.DataFrame(a_dict)\n",
    "df=df.set_index('Date')\n",
    "df['Day_of_week']=df.index.dayofweek\n",
    "df.head()"
   ]
  },
  {
   "cell_type": "code",
   "execution_count": null,
   "id": "conventional-uruguay",
   "metadata": {},
   "outputs": [],
   "source": [
    "import joypy\n",
    "# Draw Plot\n",
    "plt.figure(figsize=(14,6), dpi= 80)\n",
    "fig, axes = joypy.joyplot(df, column=['2017', '2018', '2019'], by=\"Day_of_week\", ylim='own',overlap=0, figsize=(14,10),grid=True, legend=True)\n",
    "\n",
    "# Decoration\n",
    "plt.title('CO concentration per day of the week for the three years', fontsize=22)\n",
    "plt.legend(['2017', '2018', '2019'])\n",
    "plt.show()"
   ]
  },
  {
   "cell_type": "code",
   "execution_count": null,
   "id": "spoken-helen",
   "metadata": {},
   "outputs": [],
   "source": [
    "monthly_totals = df.groupby(df.index.month).mean()\n",
    "monthly_totals.reset_index(inplace=True)\n"
   ]
  },
  {
   "cell_type": "code",
   "execution_count": null,
   "id": "stuck-training",
   "metadata": {},
   "outputs": [],
   "source": [
    "df.drop(['Day_of_week'], axis=1).plot(subplots=True, figsize=(14,12))"
   ]
  },
  {
   "cell_type": "code",
   "execution_count": null,
   "id": "prompt-hours",
   "metadata": {},
   "outputs": [],
   "source": [
    "def plot_polar(df, error_alpha=0.5):\n",
    "    \"\"\"Plot DataFrame of day-of-week data as a polar plot with shaded regions\n",
    "    representing S.E.M.\n",
    "    \n",
    "    DataFrame should be indexed 0-6 with 0=Monday, 6=Sunday\n",
    "    \"\"\"\n",
    "    # add last row to complete cycle (otherwise plot lines don't connect)\n",
    "    df = df.append(df.iloc[0, :])\n",
    "    #convert index to radians\n",
    "    radians = np.linspace(0, 2 * np.pi, num=12, endpoint=False)\n",
    "    df.index = [radians[day] for day in df.index]\n",
    "    plt.figure(figsize=(8, 8))\n",
    "    ax = plt.axes(polar=True)\n",
    "    ax.set_theta_zero_location('N')\n",
    "    # Set up labels\n",
    "    ax.set_xticks(radians)\n",
    "    ax.set_xticklabels(['JAN', 'FEB', 'MAR', 'APRIL', 'MAY', 'JUN', 'JUL','AUG','SEP','OCT',\n",
    "                        'NOV','DEC'], size=14, weight='bold')\n",
    "\n",
    "    df.plot(ax=ax, lw=4)\n",
    "    # need to lookup line color for shaded error region\n",
    "    line_colors = {line.get_label(): line.get_color() for line in ax.get_lines()}\n",
    "    def plot_errors(series):\n",
    "        sem = series.sem()\n",
    "        ax.fill_between(np.append(radians, 0), \n",
    "                        series - sem, series + sem,\n",
    "                        color=line_colors[series.name], alpha=error_alpha)\n",
    "    df.apply(plot_errors)\n",
    "    ax.legend( fontsize=14)\n",
    "\n",
    "\n",
    "plot_polar(monthly_totals.drop(['Date','Day_of_week'], axis=1))"
   ]
  },
  {
   "cell_type": "code",
   "execution_count": null,
   "id": "reserved-december",
   "metadata": {},
   "outputs": [],
   "source": [
    "weekly_totals = df.groupby(df.index.dayofweek).mean()\n",
    "def plot_polar(df, error_alpha=0.5):\n",
    "    # add last row to complete cycle (otherwise plot lines don't connect)\n",
    "    df = df.append(df.iloc[0, :])\n",
    "    #convert index to radians\n",
    "    radians = np.linspace(0, 2 * np.pi, num=7, endpoint=False)\n",
    "    df.index = [radians[day] for day in df.index]\n",
    "    plt.figure(figsize=(8, 8))\n",
    "    ax = plt.axes(polar=True)\n",
    "    ax.set_theta_zero_location('N')\n",
    "    # Set up labels\n",
    "    ax.set_xticks(radians)\n",
    "    ax.set_xticklabels(['MON', 'TUE', 'WED', 'THU', 'FRI', 'SAT', 'SUN'], size=14, weight='bold')\n",
    "\n",
    "    df.plot(ax=ax, lw=4)\n",
    "    # need to lookup line color for shaded error region\n",
    "    line_colors = {line.get_label(): line.get_color() for line in ax.get_lines()}\n",
    "    def plot_errors(series):\n",
    "        sem = series.sem()\n",
    "        ax.fill_between(np.append(radians, 0), \n",
    "                        series - sem, series + sem,\n",
    "                        color=line_colors[series.name], alpha=error_alpha)\n",
    "    df.apply(plot_errors)\n",
    "    ax.legend(loc=4, fontsize=14)\n",
    "\n",
    "\n",
    "plot_polar(weekly_totals.drop(['Day_of_week'], axis=1))"
   ]
  },
  {
   "cell_type": "code",
   "execution_count": null,
   "id": "average-level",
   "metadata": {},
   "outputs": [],
   "source": [
    "cf.getThemes()"
   ]
  },
  {
   "cell_type": "code",
   "execution_count": null,
   "id": "inner-surgery",
   "metadata": {},
   "outputs": [],
   "source": [
    "cf.go_offline()\n",
    "weekly_means = df.groupby(df.index.dayofweek).mean()\n",
    "\n",
    "weekly_means.iplot(kind = 'bar', x = 'Day_of_week', y ='2017')"
   ]
  },
  {
   "cell_type": "code",
   "execution_count": null,
   "id": "virtual-brick",
   "metadata": {},
   "outputs": [],
   "source": [
    "from plotly.offline import iplot\n",
    "cf.go_offline()\n",
    "theme=['polar','pearl','ggplot']\n",
    "year=['2017','2018','2019']\n",
    "for i in range(3):\n",
    "    cf.set_config_file(theme=theme[i])\n",
    "    figsize=(2, 1)\n",
    "    weekly_means.iplot(kind = 'bar', x = 'Day_of_week', y =year[i], title=year[i])"
   ]
  },
  {
   "cell_type": "markdown",
   "id": "african-sitting",
   "metadata": {},
   "source": [
    " ## Checking stationarity of data\n",
    " \n",
    " To check the stationarity of the TS, we perform two tests.\n",
    "  1. Rolling statistics (rolling mean and rolling std)\n",
    "  2. Dickey Fuller(ADCF) test. \n",
    "  \n",
    "  \n",
    "  ##### Rolling statistics"
   ]
  },
  {
   "cell_type": "code",
   "execution_count": null,
   "id": "outstanding-alloy",
   "metadata": {},
   "outputs": [],
   "source": [
    "rolmean=data.rolling(window=7).mean()\n",
    "rolstd=data.rolling(window=7).std()\n",
    "data1"
   ]
  },
  {
   "cell_type": "code",
   "execution_count": null,
   "id": "numeric-spirit",
   "metadata": {},
   "outputs": [],
   "source": [
    "import matplotlib.pyplot as plt\n",
    "fig= plt.figure(figsize=(20,8)) \n",
    "y=data.iloc[:,0]\n",
    "y.index = y.index.to_timestamp()\n",
    "plt.plot(y,color='blue',linewidth=2)\n",
    "plt.plot(rolmean,color='green',linewidth=2)\n",
    "plt.plot(rolstd,color='red',linewidth=2)\n",
    "plt.legend(['original data', 'rolling mean','rolling std'], loc='best')\n",
    "#plt.scatter(y.index,CO, color='blue')\n",
    "plt.xlabel('Date', fontsize=18)\n",
    "plt.ylabel( 'CO concentrationCO (μg/m3)', fontsize=18)\n",
    "plt.grid(True)\n",
    "#plt.plot(X3,y1,color='orange',linewidth=3)\n",
    "#plt.title('Sigmoid and sine function')\n",
    "#plt.grid(True)\n",
    "plt.show"
   ]
  },
  {
   "cell_type": "markdown",
   "id": "excessive-artist",
   "metadata": {},
   "source": [
    "From the graph, the rolling mean and the rolling standard deviation does not depict an upward trend hence stationary. \n"
   ]
  },
  {
   "cell_type": "markdown",
   "id": "catholic-necessity",
   "metadata": {},
   "source": [
    "#### Dickey Fuller Test"
   ]
  },
  {
   "cell_type": "code",
   "execution_count": null,
   "id": "solid-blank",
   "metadata": {},
   "outputs": [],
   "source": [
    "#Hypothesis\n",
    "#H_0 : It is not stationary\n",
    "#H_1 : It is stationary\n",
    "from statsmodels.tsa.stattools import adfuller\n",
    "print('Dickey Fuller Test Results:')\n",
    "dftest=adfuller(data['CO'], autolag='AIC')\n",
    "dfoutput=pd.Series(dftest[0:4], index=['Test statistic','p-value','#lags Used','Number of Observations'])\n",
    "for key,value in dftest[4].items():\n",
    "    dfoutput['Critical Value(%s)'%key]=value\n",
    "print(dfoutput)"
   ]
  },
  {
   "cell_type": "markdown",
   "id": "cooked-robertson",
   "metadata": {},
   "source": [
    "From the results, the p-value<0.05, we reject the null hyphothesis and conclude that the data is stationary. \n"
   ]
  },
  {
   "cell_type": "code",
   "execution_count": null,
   "id": "minute-customer",
   "metadata": {},
   "outputs": [],
   "source": [
    "data.head()"
   ]
  },
  {
   "cell_type": "code",
   "execution_count": null,
   "id": "fixed-federal",
   "metadata": {},
   "outputs": [],
   "source": [
    "import math\n",
    "#Deriving the lists of Date and CO columns of the data\n",
    "Date=data['date'].to_list()\n",
    "CO  =data['CO'].to_list()\n",
    "date=[i+1 for i in range(len(CO)) ]\n",
    "#CO=[math.log(CO[i]) for i in range(len(CO))]\n",
    "#Generating timeseries data based on the two lists\n",
    "data1= pd.Series(CO,Date)\n",
    "CO=pd.Series(CO)"
   ]
  },
  {
   "cell_type": "code",
   "execution_count": null,
   "id": "encouraging-thumbnail",
   "metadata": {},
   "outputs": [],
   "source": [
    "import matplotlib.pyplot as plt\n",
    "fig= plt.figure(figsize=(20,8)) \n",
    "y=data1\n",
    "y.index = y.index.to_timestamp()\n",
    "plt.plot(y,color='blue',linewidth=2)\n",
    "plt.scatter(y.index,CO, color='blue')\n",
    "plt.xlabel('Date', fontsize=18)\n",
    "plt.ylabel( 'CO concentrationCO (μg/m3)', fontsize=18)\n",
    "plt.grid(True)\n",
    "#plt.plot(X3,y1,color='orange',linewidth=3)\n",
    "#plt.title('Sigmoid and sine function')\n",
    "#plt.grid(True)\n",
    "plt.show"
   ]
  },
  {
   "cell_type": "markdown",
   "id": "healthy-little",
   "metadata": {},
   "source": [
    "## Decomposing my time series into components"
   ]
  },
  {
   "cell_type": "code",
   "execution_count": null,
   "id": "classical-variation",
   "metadata": {},
   "outputs": [],
   "source": [
    "from sktime.utils.plotting import plot_series\n",
    "from statsmodels.tsa.seasonal import seasonal_decompose\n",
    "\n",
    "result = seasonal_decompose(data1, model='additive')\n",
    "plot_series(result.trend)\n",
    "plot_series(result.seasonal)\n",
    "plot_series(result.resid)\n",
    "\n"
   ]
  },
  {
   "cell_type": "code",
   "execution_count": null,
   "id": "mathematical-robert",
   "metadata": {},
   "outputs": [],
   "source": [
    "#Seasonality for 2017 January, we might suspect a weekly seasonality.\n",
    "plot_series(result.seasonal['2018-07'])\n",
    "plot_series(result.seasonal['2017-07'])"
   ]
  },
  {
   "cell_type": "code",
   "execution_count": null,
   "id": "athletic-richardson",
   "metadata": {},
   "outputs": [],
   "source": [
    "resample = result.seasonal.resample('M')\n",
    "monthly_mean = resample.mean()\n",
    "plot_series(monthly_mean)"
   ]
  },
  {
   "cell_type": "markdown",
   "id": "activated-celebrity",
   "metadata": {},
   "source": [
    "Data is split such that the first 895days is used for training the model and the last 200days for testing the model.\n"
   ]
  },
  {
   "cell_type": "code",
   "execution_count": null,
   "id": "cosmetic-bradley",
   "metadata": {},
   "outputs": [],
   "source": [
    "from warnings import simplefilter\n",
    "\n",
    "import numpy as np\n",
    "import pandas as pd\n",
    "\n",
    "from sktime.datasets import load_airline\n",
    "from sktime.forecasting.arima import ARIMA, AutoARIMA\n",
    "from sktime.forecasting.base import ForecastingHorizon\n",
    "from sktime.forecasting.compose import (\n",
    "    EnsembleForecaster,\n",
    "    ReducedRegressionForecaster,\n",
    "    TransformedTargetForecaster,\n",
    ")\n",
    "from sktime.forecasting.exp_smoothing import ExponentialSmoothing\n",
    "from sktime.forecasting.model_selection import (\n",
    "    ForecastingGridSearchCV,\n",
    "    SlidingWindowSplitter,\n",
    "    temporal_train_test_split,\n",
    ")\n",
    "from sktime.forecasting.naive import NaiveForecaster\n",
    "from sktime.forecasting.theta import ThetaForecaster\n",
    "from sktime.forecasting.trend import PolynomialTrendForecaster\n",
    "from sktime.performance_metrics.forecasting import sMAPE, smape_loss\n",
    "from sktime.transformations.series.detrend import Deseasonalizer, Detrender\n",
    "from sktime.utils.plotting import plot_series\n",
    "\n",
    "simplefilter(\"ignore\", FutureWarning)\n",
    "%matplotlib inline\n",
    "import matplotlib.pyplot as plt\n",
    "fig= plt.figure(figsize=(20,8))\n",
    "ts=200\n",
    "y_train, y_test = temporal_train_test_split(y, test_size=ts)\n",
    "y_train_ind, y_test_ind = temporal_train_test_split(y.index, test_size=ts)\n",
    "CO_train, CO_test = temporal_train_test_split(CO, test_size=ts)\n",
    "#print(y_train.shape[0], y_test.shape[0])\n",
    "#x_train=[i+1 for i in range(len(y_train))]\n",
    "#x_test=[i+1 for i in range(len(y_train),len(y))]\n",
    "plt.plot(y_train,color='blue',linewidth=2)\n",
    "plt.scatter(y_train_ind,CO_train, color='blue')\n",
    "plt.plot(y_test,color='orange',linewidth=2)\n",
    "plt.scatter(y_test_ind,CO_test, color='orange')\n",
    "plt.legend(['y_train', 'y_test'], loc='upper right')\n",
    "plt.xlabel('Date', fontsize=18)\n",
    "plt.ylabel( 'CO concentrationCO (μg/m3)', fontsize=18)\n",
    "plt.grid(True)\n",
    "#plt.plot(X3,y1,color='orange',linewidth=3)\n",
    "#plt.title('Sigmoid and sine function')\n",
    "#plt.grid(True)\n",
    "plt.show"
   ]
  },
  {
   "cell_type": "code",
   "execution_count": null,
   "id": "french-watch",
   "metadata": {},
   "outputs": [],
   "source": [
    "##Relative forecasting horizon¶\n",
    "fh = np.arange(len(y_test)) + 1\n",
    "#fh"
   ]
  },
  {
   "cell_type": "code",
   "execution_count": null,
   "id": "simple-december",
   "metadata": {},
   "outputs": [],
   "source": [
    "fh = ForecastingHorizon(y_test.index, is_relative=False)\n",
    "fh"
   ]
  },
  {
   "cell_type": "markdown",
   "id": "upset-senate",
   "metadata": {},
   "source": [
    "# Generating forecasts\n",
    "\n",
    "Like in scikit-learn, in order to make forecasts, we need to first specify (or build) a model, then fit it to the training data, and finally call predict to generate forecasts for the given forecasting horizon.\n",
    "\n",
    "`sktime` comes with several forecasting algorithms (or forecasters) and tools for composite model building. All forecaster share a common interface. Forecasters are trained on a single series of data and make forecasts for the provided forecasting horizon.\n",
    "\n",
    "### Naïve baselines\n",
    "Let's start with two naïve forecasting strategies which can serve as references for comparison of more sophisticated approaches.\n",
    "\n",
    "#### ( a) Predicting the last value\n",
    "\n",
    "We use the SMAPE (symmetric mean absolute percentage error) to quantify the accuracy of our forecasts. A lower sMAPE means higher accuracy."
   ]
  },
  {
   "cell_type": "code",
   "execution_count": null,
   "id": "temporal-simulation",
   "metadata": {},
   "outputs": [],
   "source": [
    "# using sktime\n",
    "forecaster = NaiveForecaster(strategy=\"last\")\n",
    "forecaster.fit(y_train)\n",
    "y_pred = forecaster.predict(fh)\n",
    "fig= plt.figure(figsize=(20,8))\n",
    "y_train, y_test = temporal_train_test_split(y, test_size=ts)\n",
    "y_train_ind, y_test_ind = temporal_train_test_split(y.index, test_size=ts)\n",
    "CO_train, CO_test = temporal_train_test_split(CO, test_size=ts)\n",
    "#print(y_train.shape[0], y_test.shape[0])\n",
    "#x_train=[i+1 for i in range(len(y_train))]\n",
    "#x_test=[i+1 for i in range(len(y_train),len(y))]\n",
    "plt.plot(y_train,color='blue',linewidth=2)\n",
    "plt.scatter(y_train_ind,CO_train, color='blue')\n",
    "plt.plot(y_test,color='orange',linewidth=2)\n",
    "plt.scatter(y_test_ind,CO_test, color='orange')\n",
    "plt.plot(y_pred,color='green',linewidth=2)\n",
    "plt.scatter(y_test_ind,y_pred, color='green')\n",
    "plt.legend(['y_train', 'y_test','y_pred'], loc='upper right')\n",
    "plt.xlabel('Date',fontsize=18)\n",
    "plt.ylabel( 'CO concentrationCO (μg/m3)',fontsize=18)\n",
    "plt.grid(True)\n",
    "#plt.plot(X3,y1,color='orange',linewidth=3)\n",
    "#plt.title('Sigmoid and sine function')\n",
    "#plt.grid(True)\n",
    "plt.show()\n",
    "smape_loss(y_pred, y_test)\n"
   ]
  },
  {
   "cell_type": "markdown",
   "id": "fitted-publisher",
   "metadata": {},
   "source": [
    "#### (b) Predicting the last value of the same season"
   ]
  },
  {
   "cell_type": "code",
   "execution_count": null,
   "id": "colonial-breast",
   "metadata": {},
   "outputs": [],
   "source": [
    "forecaster = NaiveForecaster(strategy=\"last\", sp=12)\n",
    "forecaster.fit(y_train)\n",
    "y_pred = forecaster.predict(fh)\n",
    "fig= plt.figure(figsize=(20,8))\n",
    "y_train, y_test = temporal_train_test_split(y, test_size=ts)\n",
    "y_train_ind, y_test_ind = temporal_train_test_split(y.index, test_size=ts)\n",
    "CO_train, CO_test = temporal_train_test_split(CO, test_size=ts)\n",
    "#print(y_train.shape[0], y_test.shape[0])\n",
    "#x_train=[i+1 for i in range(len(y_train))]\n",
    "#x_test=[i+1 for i in range(len(y_train),len(y))]\n",
    "plt.plot(y_train,color='blue',linewidth=2)\n",
    "plt.scatter(y_train_ind,CO_train, color='blue')\n",
    "plt.plot(y_test,color='orange',linewidth=2)\n",
    "plt.scatter(y_test_ind,CO_test, color='orange')\n",
    "plt.plot(y_pred,color='green',linewidth=2)\n",
    "plt.scatter(y_test_ind,y_pred, color='green')\n",
    "plt.legend(['y_train', 'y_test','y_pred'], loc='upper right')\n",
    "plt.xlabel('Date',fontsize=18)\n",
    "plt.ylabel( 'CO concentrationCO (μg/m3)',fontsize=18)\n",
    "plt.grid(True)\n",
    "#plt.plot(X3,y1,color='orange',linewidth=3)\n",
    "#plt.title('Sigmoid and sine function')\n",
    "#plt.grid(True)\n",
    "plt.show()\n",
    "smape_loss(y_pred, y_test)\n"
   ]
  },
  {
   "cell_type": "markdown",
   "id": "enabling-forward",
   "metadata": {},
   "source": [
    "## Forecasting with sktime\n",
    "\n",
    "### Reduction: from forecasting to regression\n",
    "\n",
    "`sktime` provides a meta-estimator for this approach, which is:\n",
    "\n",
    "* **modular** and **compatible with scikit-learn**, so that we can easily apply any scikit-learn regressor to solve our forecasting problem,\n",
    "* **tuneable**, allowing us to tune hyper-parameters like the window length or strategy to generate forecasts\n",
    "* **adaptive**, in the sense that it adapts the scikit-learn's estimator interface to that of a forecaster, making sure that we can tune and properly evaluate our model"
   ]
  },
  {
   "cell_type": "markdown",
   "id": "general-equipment",
   "metadata": {},
   "source": [
    "## K Neighbors Regressor"
   ]
  },
  {
   "cell_type": "code",
   "execution_count": null,
   "id": "experimental-norwegian",
   "metadata": {},
   "outputs": [],
   "source": [
    "from sklearn.neighbors import KNeighborsRegressor\n",
    "\n",
    "regressor = KNeighborsRegressor(n_neighbors=1)\n",
    "forecaster = ReducedRegressionForecaster(\n",
    "    regressor=regressor, window_length=12, strategy=\"recursive\"\n",
    ")\n",
    "forecaster.fit(y_train)\n",
    "y_pred = forecaster.predict(fh)\n",
    "fig= plt.figure(figsize=(20,8))\n",
    "y_train, y_test = temporal_train_test_split(y, test_size=ts)\n",
    "y_train_ind, y_test_ind = temporal_train_test_split(y.index, test_size=ts)\n",
    "CO_train, CO_test = temporal_train_test_split(CO, test_size=ts)\n",
    "#print(y_train.shape[0], y_test.shape[0])\n",
    "#x_train=[i+1 for i in range(len(y_train))]\n",
    "#x_test=[i+1 for i in range(len(y_train),len(y))]\n",
    "plt.plot(y_train,color='blue',linewidth=2)\n",
    "plt.scatter(y_train_ind,CO_train, color='blue')\n",
    "plt.plot(y_test,color='orange',linewidth=2)\n",
    "plt.scatter(y_test_ind,CO_test, color='orange')\n",
    "plt.plot(y_pred,color='green',linewidth=2)\n",
    "plt.scatter(y_test_ind,y_pred, color='green')\n",
    "plt.legend(['y_train', 'y_test','y_pred'], loc='upper right')\n",
    "plt.xlabel('Date',fontsize=18)\n",
    "plt.ylabel( 'CO concentrationCO (μg/m3)',fontsize=18)\n",
    "plt.grid(True)\n",
    "#plt.plot(X3,y1,color='orange',linewidth=3)\n",
    "#plt.title('Sigmoid and sine function')\n",
    "#plt.grid(True)\n",
    "plt.show()\n",
    "smape_loss(y_pred, y_test)"
   ]
  },
  {
   "cell_type": "code",
   "execution_count": null,
   "id": "flying-indianapolis",
   "metadata": {},
   "outputs": [],
   "source": [
    "from sklearn.neighbors import KNeighborsRegressor\n",
    "\n",
    "regressor = [KNeighborsRegressor(n_neighbors=k) for k in range(1,101)]\n",
    "forecaster = [ReducedRegressionForecaster(\n",
    "    regressor=regressor[i], window_length=12, strategy=\"recursive\"\n",
    ") for i in range(len(regressor))]\n",
    "model=[forecaster[i].fit(y_train) for i in range(len(regressor))]\n",
    "y_pred =[ model[i].predict(fh) for i in range(len(regressor))]\n",
    "loss=[smape_loss(y_pred[i], y_test) for i in range(len(regressor))]\n"
   ]
  },
  {
   "cell_type": "markdown",
   "id": "aerial-soldier",
   "metadata": {},
   "source": [
    "# Exploring different values of k #"
   ]
  },
  {
   "cell_type": "code",
   "execution_count": null,
   "id": "brutal-supplement",
   "metadata": {},
   "outputs": [],
   "source": [
    "index=[k for k in range(1,101)]\n",
    "\n",
    "plt.plot(index,loss)"
   ]
  },
  {
   "cell_type": "markdown",
   "id": "occasional-citizenship",
   "metadata": {},
   "source": [
    "### Statistical forecasters\n",
    "\n",
    "`sktime` has a number of statistical forecasting algorithms, based on implementations in statsmodels. For example, to use exponential smoothing with an additive trend component and multiplicative seasonality, we can write the following.\n",
    "\n",
    "Note that since this is monthly data, the seasonal periodicity (sp), or the number of periods per year, is 12."
   ]
  },
  {
   "cell_type": "code",
   "execution_count": null,
   "id": "armed-mystery",
   "metadata": {},
   "outputs": [],
   "source": [
    "# ARIMA example\n",
    "from statsmodels.tsa.arima.model import ARIMA\n",
    "from random import random\n",
    "model = ARIMA(y, order=(2, 1, 2))\n",
    "model_fit = model.fit()\n",
    "# make prediction\n",
    "y_pred = model_fit.predict(len(y_train), len(y_train)+199, typ='levels')\n",
    "fig= plt.figure(figsize=(20,8))\n",
    "\n",
    "plt.plot(y_train,color='blue',linewidth=2)\n",
    "plt.scatter(y_train_ind,CO_train, color='blue')\n",
    "plt.plot(y_test,color='orange',linewidth=2)\n",
    "plt.scatter(y_test_ind,CO_test, color='orange')\n",
    "plt.plot(y_pred,color='green',linewidth=2)\n",
    "plt.scatter(y_test_ind,y_pred, color='green')\n",
    "plt.legend(['y_train', 'y_test','y_pred'], loc='upper right')\n",
    "plt.xlabel('Date',fontsize=18)\n",
    "plt.ylabel( 'CO concentrationCO (μg/m3)',fontsize=18)\n",
    "plt.grid(True)\n",
    "#plt.plot(X3,y1,color='orange',linewidth=3)\n",
    "#plt.title('Sigmoid and sine function')\n",
    "#plt.grid(True)\n",
    "plt.show()\n",
    "smape_loss(y_pred, y_test)\n",
    "#model_fit.summary()"
   ]
  },
  {
   "cell_type": "code",
   "execution_count": null,
   "id": "broken-particular",
   "metadata": {},
   "outputs": [],
   "source": [
    "model_fit.summary(1)"
   ]
  },
  {
   "cell_type": "markdown",
   "id": "opening-correlation",
   "metadata": {},
   "source": [
    "##  Calculating number of lags, p and q of ARIMA(p,d,q) using ACF and PACF"
   ]
  },
  {
   "cell_type": "code",
   "execution_count": null,
   "id": "exempt-rocket",
   "metadata": {},
   "outputs": [],
   "source": [
    "from statsmodels.graphics.tsaplots import plot_acf,plot_pacf\n",
    "fig= plt.figure(figsize=(20,8))\n",
    "plot_acf(y)"
   ]
  },
  {
   "cell_type": "markdown",
   "id": "presidential-bandwidth",
   "metadata": {},
   "source": [
    "From the ACF plot, the value of q is 5"
   ]
  },
  {
   "cell_type": "code",
   "execution_count": null,
   "id": "hungarian-massachusetts",
   "metadata": {},
   "outputs": [],
   "source": [
    "plot_pacf(y)"
   ]
  },
  {
   "cell_type": "markdown",
   "id": "premier-garbage",
   "metadata": {},
   "source": [
    "From the PACF, the value of p is 3"
   ]
  },
  {
   "cell_type": "code",
   "execution_count": null,
   "id": "finite-bobby",
   "metadata": {},
   "outputs": [],
   "source": [
    "# Determining the value of d\n",
    "from pmdarima.arima.utils import ndiffs\n",
    "ndiffs(y,test=\"adf\")"
   ]
  },
  {
   "cell_type": "code",
   "execution_count": null,
   "id": "known-graphic",
   "metadata": {},
   "outputs": [],
   "source": [
    "# Accuracy metrics\n",
    "def forecast_accuracy(forecast, actual):\n",
    "    mape = np.mean(np.abs(forecast - actual)/np.abs(actual))  # MAPE\n",
    "    mae = np.mean(np.abs(forecast - actual))    # MAE\n",
    "    mpe = np.mean((forecast - actual)/actual)   # MPE\n",
    "    rmse = np.mean((forecast - actual)**2)**.5  # RMSE\n",
    "    \n",
    "    return( {'mape':mape, 'mae': mae, \n",
    "            'mpe': mpe, 'rmse':rmse})"
   ]
  },
  {
   "cell_type": "code",
   "execution_count": null,
   "id": "surgical-benjamin",
   "metadata": {},
   "outputs": [],
   "source": [
    "# ARMA example\n",
    "from statsmodels.tsa.arima.model import ARIMA\n",
    "model = ARIMA(y, order=(3, 0, 5))\n",
    "model_fit = model.fit()\n",
    "# make prediction\n",
    "y_pred= model_fit.predict(len(y_train), len(y_train)+199)\n",
    "\n",
    "fig= plt.figure(figsize=(20,8))\n",
    "\n",
    "plt.plot(y_train,color='blue',linewidth=2)\n",
    "plt.scatter(y_train_ind,CO_train, color='blue')\n",
    "plt.plot(y_test,color='orange',linewidth=2)\n",
    "plt.scatter(y_test_ind,CO_test, color='orange')\n",
    "plt.plot(y_pred,color='green',linewidth=2)\n",
    "plt.scatter(y_test_ind,y_pred, color='green')\n",
    "plt.legend(['y_train', 'y_test','y_pred'], loc='upper right')\n",
    "plt.xlabel('Date',fontsize=18)\n",
    "plt.ylabel( 'CO concentrationCO (μg/m3)',fontsize=18)\n",
    "plt.grid(True)\n",
    "#plt.plot(X3,y1,color='orange',linewidth=3)\n",
    "#plt.title('Sigmoid and sine function')\n",
    "#plt.grid(True)\n",
    "plt.show()\n",
    "smape_loss(y_pred, y_test)"
   ]
  },
  {
   "cell_type": "code",
   "execution_count": null,
   "id": "fabulous-damages",
   "metadata": {},
   "outputs": [],
   "source": [
    "forecast_accuracy(y_pred, y_test)"
   ]
  },
  {
   "cell_type": "code",
   "execution_count": null,
   "id": "controversial-former",
   "metadata": {},
   "outputs": [],
   "source": [
    "model_fit.plot_diagnostics(figsize=(14,6))\n",
    "plt.show()"
   ]
  },
  {
   "cell_type": "markdown",
   "id": "latin-necklace",
   "metadata": {},
   "source": [
    "\n",
    "More details can be found in here.\n",
    "https://www.machinelearningplus.com/time-series/arima-model-time-series-forecasting-python/"
   ]
  },
  {
   "cell_type": "markdown",
   "id": "conventional-drunk",
   "metadata": {},
   "source": [
    "## Grid Search "
   ]
  },
  {
   "cell_type": "code",
   "execution_count": null,
   "id": "incorporate-working",
   "metadata": {},
   "outputs": [],
   "source": [
    "# ARIMA example\n",
    "import warnings\n",
    "warnings.filterwarnings(\"ignore\")\n",
    "from statsmodels.tsa.arima.model import ARIMA\n",
    "from sklearn.metrics import mean_squared_error\n",
    "from random import random\n",
    "import itertools\n",
    "import math\n",
    "p=range(0,7)\n",
    "d=range(0,1)\n",
    "q=range(0,7)\n",
    "L_model_order=[]\n",
    "L_loss1=[]\n",
    "L_loss2=[]\n",
    "AIC=[]\n",
    "pdq_comb=list(itertools.product(p,d,q))\n",
    "for pdq in pdq_comb:\n",
    "    model = [ARIMA(y, order=pdq ) ]\n",
    "    model_fit = [model[i].fit() for i in range(len(model))]\n",
    "    #make prediction\n",
    "    y_pred = [model_fit[i].predict(len(y_train), len(y_train)+199, typ='levels') for i in range(len(model)) ] \n",
    "    loss1=[smape_loss(y_pred[i], y_test)for i in range(len(model)) ]\n",
    "    loss2=[math.sqrt(mean_squared_error(list(y_pred[i]), list(y_test))) for i in range(len(model))]\n",
    "    for i in range(len(model)):\n",
    "        L_model_order.append(model[i].order)\n",
    "        L_loss1.append(loss1[i])\n",
    "        L_loss2.append(loss2[i])\n",
    "        AIC.append(model_fit[i].aic)\n",
    "        print(model[i].order,model_fit[i].aic,loss1[i],loss2[i])\n",
    "        \n",
    "for i in range(len(L_loss1)):\n",
    "    if (L_loss1[i]==min(L_loss1)):\n",
    "        A=str(L_model_order[i])\n",
    "        B=str(L_loss1[i])\n",
    "        C=str(L_loss2[i])\n",
    "        Model_loss=['\\x1b[6;30;43m'+'SMAPE:' + A + B+  '\\x1b[0m' for i in range(5)]\n",
    "        #A=[print(Happy_New_Year[i]) for i in range(5)]\n",
    "        B=[print(Model_loss[i]) for i in range(1)]\n",
    "\n",
    "for i in range(len(L_loss1)):\n",
    "    if (L_loss2[i]==min(L_loss2)):\n",
    "        A=str(L_model_order[i])\n",
    "        B=str(L_loss1[i])\n",
    "        C=str(L_loss2[i])\n",
    "        Model_loss=['\\x1b[6;30;46m'+'MSE:' + A +  C+ '\\x1b[0m' for i in range(5)]\n",
    "        #A=[print(Happy_New_Year[i]) for i in range(5)]\n",
    "        B=[print(Model_loss[i]) for i in range(1)]\n",
    "        \n",
    "for i in range(len(L_loss1)):\n",
    "    if (AIC[i]==min(AIC)):\n",
    "        A=str(L_model_order[i])\n",
    "        B=str(L_loss1[i])\n",
    "        C=str(L_loss2[i])\n",
    "        D=str(AIC[i])\n",
    "        Model_loss=['\\x1b[6;30;42m'+'AIC:' + A + D+ '\\x1b[0m' for i in range(5)]\n",
    "        #A=[print(Happy_New_Year[i]) for i in range(5)]\n",
    "        B=[print(Model_loss[i]) for i in range(1)]\n",
    "     \n",
    "        "
   ]
  },
  {
   "cell_type": "code",
   "execution_count": null,
   "id": "interior-homeless",
   "metadata": {},
   "outputs": [],
   "source": [
    "import pmdarima as pm\n",
    "model=pm.auto_arima(y,m=12,seasonal=False,start_p=0,d=0,start_q=0,max_p=6,max_d=1,max_q=6, start_P=0,D=0,start_Q=0,max_P=3,max_D=3,max_Q=3,max_order=50,error_action='ignore',scoring='mae',suppress_warnings=True,stepwise=False,trace=True\n",
    "                )"
   ]
  },
  {
   "cell_type": "code",
   "execution_count": null,
   "id": "romantic-trinity",
   "metadata": {},
   "outputs": [],
   "source": [
    "# ARMA example\n",
    "from statsmodels.tsa.arima.model import ARIMA\n",
    "model = ARIMA(y, order=(6, 0, 5))\n",
    "model_fit = model.fit()\n",
    "# make prediction\n",
    "y_pred= model_fit.predict(len(y_train), len(y_train)+199)\n",
    "\n",
    "fig= plt.figure(figsize=(20,8))\n",
    "\n",
    "plt.plot(y_train,color='blue',linewidth=2)\n",
    "plt.scatter(y_train_ind,CO_train, color='blue')\n",
    "plt.plot(y_test,color='orange',linewidth=2)\n",
    "plt.scatter(y_test_ind,CO_test, color='orange')\n",
    "plt.plot(y_pred,color='green',linewidth=2)\n",
    "plt.scatter(y_test_ind,y_pred, color='green')\n",
    "plt.legend(['y_train', 'y_test','y_pred'], loc='upper right')\n",
    "plt.xlabel('Date',fontsize=18)\n",
    "plt.ylabel( 'CO concentrationCO (μg/m3)',fontsize=18)\n",
    "plt.grid(True)\n",
    "#plt.plot(X3,y1,color='orange',linewidth=3)\n",
    "#plt.title('Sigmoid and sine function')\n",
    "#plt.grid(True)\n",
    "plt.show()\n",
    "smape_loss(y_pred, y_test)"
   ]
  },
  {
   "cell_type": "markdown",
   "id": "nutritional-breath",
   "metadata": {},
   "source": [
    "## Rolling  Cross-Validation for Time Series ##\n"
   ]
  },
  {
   "cell_type": "code",
   "execution_count": 2,
   "id": "inside-destiny",
   "metadata": {},
   "outputs": [
    {
     "data": {
      "image/png": "[encoded data removed]",
      "text/plain": [
       "<Figure size 432x288 with 1 Axes>"
      ]
     },
     "metadata": {
      "needs_background": "light"
     },
     "output_type": "display_data"
    }
   ],
   "source": [
    "import matplotlib.pyplot as plt\n",
    "Fold= [\"Fold4\",\"Fold3\",\"Fold2\",\"Fold1\"]  \n",
    "Training= [995,895,795,695]  \n",
    "Testing= [100,100,100,100]\n",
    "\n",
    "plt.barh(Fold,Training, color=\"#f3e151\")  \n",
    "# careful: notice \"bottom\" parameter became \"left\"\n",
    "plt.barh(Fold,Testing, left=Training, color=\"#6c3376\")\n",
    "\n",
    "# we also need to switch the labels\n",
    "plt.xlabel('Number of Days')  \n",
    "plt.ylabel('Fold')\n",
    "plt.legend(['Training', 'Testing'], loc='upper right')\n",
    "plt.show()"
   ]
  },
  {
   "cell_type": "code",
   "execution_count": 20,
   "id": "graduate-public",
   "metadata": {},
   "outputs": [
    {
     "data": {
      "image/png": "[encoded data removed]",
      "text/plain": [
       "<Figure size 432x288 with 1 Axes>"
      ]
     },
     "metadata": {
      "needs_background": "light"
     },
     "output_type": "display_data"
    }
   ],
   "source": [
    "import matplotlib.pyplot as plt\n",
    "Fold= [\"Fold7\",\"Fold6\",\"Fold5\",\"Fold4\",\"Fold3\",\"Fold2\",\"Fold1\"]  \n",
    "Training2= [600,500,400,300,200,100,0]  \n",
    "Testing= [100,100,100,100,100,100,100]\n",
    "Training1=[0,100,200,300,400,500,600]\n",
    "\n",
    "plt.barh(Fold,Training1, color='lime')  \n",
    "# careful: notice \"bottom\" parameter became \"left\"\n",
    "plt.barh(Fold,Testing, left=Training1, color=\"#6c3376\")\n",
    "plt.barh(Fold,Training2,left=[i+j for i,j in zip(Training1, Testing)], color='lime')\n",
    "# we also need to switch the labels\n",
    "plt.xlabel('Number of Days')  \n",
    "plt.ylabel('Fold')\n",
    "plt.vlines(100, -0.4, 6.4, color='white', linewidth=3)\n",
    "plt.vlines(200, -0.4, 6.4, color='white', linewidth=3)\n",
    "plt.vlines(300, -0.4, 6.4, color='white', linewidth=3)\n",
    "plt.vlines(400, -0.4, 6.4, color='white', linewidth=3)\n",
    "plt.vlines(500, -0.4, 6.4, color='white', linewidth=3)\n",
    "plt.vlines(600, -0.4, 6.4, color='white', linewidth=3)\n",
    "#plt.legend(['Training', 'Testing'], loc='upper right')\n",
    "plt.savefig(\"Fold.pdf\",format=\"pdf\", bbox_inches=\"tight\",dpi=1000)\n",
    "plt.show()"
   ]
  },
  {
   "cell_type": "code",
   "execution_count": null,
   "id": "demographic-forestry",
   "metadata": {},
   "outputs": [],
   "source": [
    "def Cross_valid(data):\n",
    "    fold1_train=data[0:695]\n",
    "    fold1_test=data[695:795]\n",
    "    fold2_train=data[0:795]\n",
    "    fold2_test=data[795:895]\n",
    "    fold3_train=data[0:895]\n",
    "    fold3_test=data[895:995]\n",
    "    fold4_train=data[0:995]\n",
    "    fold4_test=data[995:1095]\n",
    "    train=[fold1_train,fold2_train,fold3_train,fold4_train]\n",
    "    test= [fold1_test,fold2_test,fold3_test,fold4_test]\n",
    "    return train,test"
   ]
  },
  {
   "cell_type": "code",
   "execution_count": null,
   "id": "talented-blocking",
   "metadata": {},
   "outputs": [],
   "source": [
    "Cross_valid(y)[0][0]"
   ]
  },
  {
   "cell_type": "code",
   "execution_count": null,
   "id": "engaged-summary",
   "metadata": {},
   "outputs": [],
   "source": [
    "#  Cross Validation ARIMA example\n",
    "from statsmodels.tsa.arima.model import ARIMA\n",
    "model = ARIMA(y, order=(6, 0, 5))\n",
    "model_fit = model.fit()\n",
    "# make prediction\n",
    "y_pred_list= [model_fit.predict(len(Cross_valid(y)[0][i]), len(Cross_valid(y)[0][i])+99) for i in range(4)]\n",
    "y_test_list=Cross_valid(y)[1]\n",
    "Smape_loss=[smape_loss(y_pred_list[i], y_test_list[i]) for i in range(4)]\n",
    "Smape_loss"
   ]
  },
  {
   "cell_type": "code",
   "execution_count": null,
   "id": "regulation-helping",
   "metadata": {},
   "outputs": [],
   "source": [
    "from statsmodels.tsa.statespace.sarimax import SARIMAX\n",
    "# fit model\n",
    "model = SARIMAX(y, order=(2, 0, 2), seasonal_order=(0, 0, 0, 12))\n",
    "model_fit = model.fit(disp=False)\n",
    "# make prediction\n",
    "y_pred = model_fit.predict(len(y_train), len(y_train)+199)\n",
    "fig= plt.figure(figsize=(20,8))\n",
    "\n",
    "plt.plot(y_train,color='blue',linewidth=2)\n",
    "plt.scatter(y_train_ind,CO_train, color='blue')\n",
    "plt.plot(y_test,color='orange',linewidth=2)\n",
    "plt.scatter(y_test_ind,CO_test, color='orange')\n",
    "plt.plot(y_pred,color='green',linewidth=2)\n",
    "plt.scatter(y_test_ind,y_pred, color='green')\n",
    "plt.legend(['y_train', 'y_test','y_pred'], loc='upper right')\n",
    "plt.xlabel('Date')\n",
    "plt.ylabel( 'CO concentrationCO (μg/m3)')\n",
    "plt.grid(True)\n",
    "#plt.plot(X3,y1,color='orange',linewidth=3)\n",
    "#plt.title('Sigmoid and sine function')\n",
    "#plt.grid(True)\n",
    "plt.show()\n",
    "smape_loss(y_pred,y_test)"
   ]
  },
  {
   "cell_type": "code",
   "execution_count": null,
   "id": "medieval-selling",
   "metadata": {},
   "outputs": [],
   "source": [
    "forecaster = ExponentialSmoothing(trend=\"add\", seasonal='add', sp=12)\n",
    "forecaster.fit(y_train)\n",
    "y_pred = forecaster.predict(fh)\n",
    "fig= plt.figure(figsize=(20,8))\n",
    "y_train, y_test = temporal_train_test_split(y, test_size=ts)\n",
    "y_train_ind, y_test_ind = temporal_train_test_split(y.index, test_size=ts)\n",
    "CO_train, CO_test = temporal_train_test_split(CO, test_size=ts)\n",
    "#print(y_train.shape[0], y_test.shape[0])\n",
    "#x_train=[i+1 for i in range(len(y_train))]\n",
    "#x_test=[i+1 for i in range(len(y_train),len(y))]\n",
    "plt.plot(y_train,color='blue',linewidth=2)\n",
    "plt.scatter(y_train_ind,CO_train, color='blue')\n",
    "plt.plot(y_test,color='orange',linewidth=2)\n",
    "plt.scatter(y_test_ind,CO_test, color='orange')\n",
    "plt.plot(y_pred,color='green',linewidth=2)\n",
    "plt.scatter(y_test_ind,y_pred, color='green')\n",
    "plt.legend(['y_train', 'y_test','y_pred'], loc='upper right')\n",
    "plt.xlabel('Date')\n",
    "plt.ylabel( 'CO concentrationCO (μg/m3)')\n",
    "plt.grid(True)\n",
    "#plt.plot(X3,y1,color='orange',linewidth=3)\n",
    "#plt.title('Sigmoid and sine function')\n",
    "#plt.grid(True)\n",
    "plt.show()\n",
    "smape_loss(y_pred, y_test)"
   ]
  },
  {
   "cell_type": "markdown",
   "id": "laughing-calcium",
   "metadata": {},
   "source": [
    "The exponential smoothing of state space model can also be automated similar\n",
    " to the [ets](https://www.rdocumentation.org/packages/forecast/versions/8.13/topics/ets) function in R."
   ]
  },
  {
   "cell_type": "code",
   "execution_count": null,
   "id": "floating-roman",
   "metadata": {},
   "outputs": [],
   "source": [
    "from sktime.forecasting.ets import AutoETS\n",
    "forecaster = AutoETS(auto=False, sp=12, n_jobs=-1)\n",
    "forecaster.fit(y_train)\n",
    "y_pred = forecaster.predict(fh)\n",
    "fig= plt.figure(figsize=(20,8))\n",
    "y_train, y_test = temporal_train_test_split(y, test_size=ts)\n",
    "y_train_ind, y_test_ind = temporal_train_test_split(y.index, test_size=ts)\n",
    "CO_train, CO_test = temporal_train_test_split(CO, test_size=ts)\n",
    "#print(y_train.shape[0], y_test.shape[0])\n",
    "#x_train=[i+1 for i in range(len(y_train))]\n",
    "#x_test=[i+1 for i in range(len(y_train),len(y))]\n",
    "plt.plot(y_train,color='blue',linewidth=2)\n",
    "plt.scatter(y_train_ind,CO_train, color='blue')\n",
    "plt.plot(y_test,color='orange',linewidth=2)\n",
    "plt.scatter(y_test_ind,CO_test, color='orange')\n",
    "plt.plot(y_pred,color='green',linewidth=2)\n",
    "plt.scatter(y_test_ind,y_pred, color='green')\n",
    "plt.legend(['y_train', 'y_test','y_pred'], loc='upper right')\n",
    "plt.xlabel('Date')\n",
    "plt.ylabel( 'CO concentrationCO (μg/m3)')\n",
    "plt.grid(True)\n",
    "#plt.plot(X3,y1,color='orange',linewidth=3)\n",
    "#plt.title('Sigmoid and sine function')\n",
    "#plt.grid(True)\n",
    "plt.show()\n",
    "smape_loss(y_pred, y_test)"
   ]
  },
  {
   "cell_type": "markdown",
   "id": "unlikely-pencil",
   "metadata": {},
   "source": [
    "Another common model is the ARIMA model. In `sktime`, we interface [`pmdarima`](https://github.com/alkaline-ml/pmdarima), a package for automatically selecting the best ARIMA model. This since searches over a number of possible model parametrisations, it may take a bit longer."
   ]
  },
  {
   "cell_type": "code",
   "execution_count": null,
   "id": "suitable-booth",
   "metadata": {},
   "outputs": [],
   "source": [
    "forecaster = AutoARIMA(sp=12, suppress_warnings=True)\n",
    "forecaster.fit(y_train)\n",
    "y_pred = forecaster.predict(fh)\n",
    "fig= plt.figure(figsize=(20,8))\n",
    "y_train, y_test = temporal_train_test_split(y, test_size=ts)\n",
    "y_train_ind, y_test_ind = temporal_train_test_split(y.index, test_size=ts)\n",
    "CO_train, CO_test = temporal_train_test_split(CO, test_size=ts)\n",
    "#print(y_train.shape[0], y_test.shape[0])\n",
    "#x_train=[i+1 for i in range(len(y_train))]\n",
    "#x_test=[i+1 for i in range(len(y_train),len(y))]\n",
    "plt.plot(y_train,color='blue',linewidth=2)\n",
    "plt.scatter(y_train_ind,CO_train, color='blue')\n",
    "plt.plot(y_test,color='orange',linewidth=2)\n",
    "plt.scatter(y_test_ind,CO_test, color='orange')\n",
    "plt.plot(y_pred,color='green',linewidth=2)\n",
    "plt.scatter(y_test_ind,y_pred, color='green')\n",
    "plt.legend(['y_train', 'y_test','y_pred'], loc='upper right')\n",
    "plt.xlabel('Date',fontsize=18)\n",
    "plt.ylabel( 'CO concentrationCO (μg/m3)',fontsize=18)\n",
    "plt.grid(True)\n",
    "#plt.plot(X3,y1,color='orange',linewidth=3)\n",
    "#plt.title('Sigmoid and sine function')\n",
    "#plt.grid(True)\n",
    "plt.show()\n",
    "smape_loss(y_pred, y_test)"
   ]
  },
  {
   "cell_type": "markdown",
   "id": "pointed-serial",
   "metadata": {},
   "source": [
    "BATS and TBATS are two other time series forecasting algorithms that are contained in `sktime` by means of wrapping the package [`tbats`](https://github.com/intive-DataScience/tbats)."
   ]
  },
  {
   "cell_type": "code",
   "execution_count": null,
   "id": "elect-receiver",
   "metadata": {},
   "outputs": [],
   "source": [
    "from sktime.forecasting.bats import BATS\n",
    "\n",
    "forecaster = BATS(sp=12, use_trend=True, use_box_cox=False)\n",
    "forecaster.fit(y_train)\n",
    "y_pred = forecaster.predict(fh)\n",
    "fig= plt.figure(figsize=(20,8))\n",
    "y_train, y_test = temporal_train_test_split(y, test_size=ts)\n",
    "y_train_ind, y_test_ind = temporal_train_test_split(y.index, test_size=ts)\n",
    "CO_train, CO_test = temporal_train_test_split(CO, test_size=ts)\n",
    "#print(y_train.shape[0], y_test.shape[0])\n",
    "#x_train=[i+1 for i in range(len(y_train))]\n",
    "#x_test=[i+1 for i in range(len(y_train),len(y))]\n",
    "plt.plot(y_train,color='blue',linewidth=2)\n",
    "plt.scatter(y_train_ind,CO_train, color='blue')\n",
    "plt.plot(y_test,color='orange',linewidth=2)\n",
    "plt.scatter(y_test_ind,CO_test, color='orange')\n",
    "plt.plot(y_pred,color='green',linewidth=2)\n",
    "plt.scatter(y_test_ind,y_pred, color='green')\n",
    "plt.legend(['y_train', 'y_test','y_pred'], loc='upper right')\n",
    "plt.xlabel('Date')\n",
    "plt.ylabel( 'CO concentrationCO (μg/m3)')\n",
    "plt.grid(True)\n",
    "#plt.plot(X3,y1,color='orange',linewidth=3)\n",
    "#plt.title('Sigmoid and sine function')\n",
    "#plt.grid(True)\n",
    "plt.show()\n",
    "smape_loss(y_pred, y_test)"
   ]
  },
  {
   "cell_type": "code",
   "execution_count": null,
   "id": "piano-ratio",
   "metadata": {},
   "outputs": [],
   "source": [
    "y_train"
   ]
  },
  {
   "cell_type": "markdown",
   "id": "restricted-installation",
   "metadata": {},
   "source": [
    "### Detrending\n",
    "Note that so far the reduction approach above does not take any seasonal or trend into account, but we can easily specify a pipeline which first detrends the data.\n",
    "\n",
    "`sktime` provides a generic detrender, a transformer which uses any forecaster and returns the in-sample residuals of the forecaster's predicted values. For example, to remove the linear trend of a time series, we can write:"
   ]
  },
  {
   "cell_type": "code",
   "execution_count": null,
   "id": "liberal-error",
   "metadata": {},
   "outputs": [],
   "source": [
    "# liner detrending\n",
    "forecaster = PolynomialTrendForecaster(degree=1)\n",
    "transformer = Detrender(forecaster=forecaster)\n",
    "yt = transformer.fit_transform(y_train)\n",
    "\n",
    "# internally, the Detrender uses the in-sample predictions\n",
    "# of the PolynomialTrendForecaster\n",
    "forecaster = PolynomialTrendForecaster(degree=1)\n",
    "fh_ins = -np.arange(len(y_train))  # in-sample forecasting horizon\n",
    "y_pred = forecaster.fit(y_train).predict(fh=fh_ins)\n",
    "\n",
    "plot_series(y_train, y_pred, yt, labels=[\"y_train\", \"fitted linear trend\", \"residuals\"]);"
   ]
  },
  {
   "cell_type": "markdown",
   "id": "modular-elite",
   "metadata": {},
   "source": [
    "## Prediction intervals\n",
    "So far, we've only looked at point forecasts. In many cases, we're also interested in prediction intervals. `sktime`'s interface support prediction intervals, but we haven't implemented them for all algorithms yet.\n",
    "\n",
    "Here, we use the Theta forecasting algorithm:"
   ]
  },
  {
   "cell_type": "code",
   "execution_count": null,
   "id": "entitled-resource",
   "metadata": {},
   "outputs": [],
   "source": [
    "forecaster = ThetaForecaster(sp=12)\n",
    "forecaster.fit(y_train)\n",
    "alpha = 0.05  # 95% prediction intervals\n",
    "y_pred, pred_ints = forecaster.predict(fh, return_pred_int=True, alpha=alpha)\n",
    "fig, ax = plot_series(y_train, y_test, y_pred, labels=[\"y_train\", \"y_test\", \"y_pred\"])\n",
    "\n",
    "ax.fill_between(\n",
    "    ax.get_lines()[-1].get_xdata(),\n",
    "    pred_ints[\"lower\"],\n",
    "    pred_ints[\"upper\"],\n",
    "    alpha=0.2,\n",
    "    color=ax.get_lines()[-1].get_c(),\n",
    "    label=f\"{1 - alpha}% prediction intervals\",\n",
    ")\n",
    "ax.legend();\n",
    "smape_loss(y_test, y_pred)"
   ]
  },
  {
   "cell_type": "markdown",
   "id": "therapeutic-philip",
   "metadata": {},
   "source": [
    "## Forecasting with fbprophet ##"
   ]
  },
  {
   "cell_type": "code",
   "execution_count": null,
   "id": "generous-laptop",
   "metadata": {},
   "outputs": [],
   "source": [
    "import pandas as pd\n",
    "data1=pd.read_csv(\"Data_2017.csv\")\n",
    "data2=pd.read_csv(\"Data_2018.csv\")\n",
    "data3=pd.read_csv(\"Data_2019.csv\")\n",
    "p_id1=data1['pollutant_id'].to_list()\n",
    "date1=data1['date_time'].to_list()\n",
    "p_value1=data1['pollutant_value'].to_list()\n",
    "\n",
    "p_id2=data2['pollutant_id'].to_list()\n",
    "date2=data2['date_time'].to_list()\n",
    "p_value2=data2['pollutant_value'].to_list()\n",
    "p_id3=data3['pollutant_id'].to_list()\n",
    "date3=data3['date_time'].to_list()\n",
    "p_value3=data3['pollutant_value'].to_list()\n",
    "\n",
    "p_id=p_id1+p_id2+p_id3\n",
    "date=date1+date2+date3\n",
    "p_value=p_value1+p_value2+p_value3\n",
    "\n",
    "date=[date[i] for i in range(len(p_id)) if(p_id[i]==6)]\n",
    "CO_2017=[p_value[i] for i in range(len(p_id)) if(p_id[i]==6)]\n",
    "\n",
    "for i in range(len(CO_2017)):\n",
    "    if (CO_2017[i]=='BDL'):\n",
    "        CO_2017[i]='nan'\n",
    "    else:\n",
    "        pass\n",
    "\n",
    "for i in range(len(CO_2017)):\n",
    "    if (CO_2017[i]=='nan'):\n",
    "        CO_2017[i]='0'\n",
    "    else:\n",
    "        pass\n",
    "\n",
    "        \n",
    "#CO_2017=[int(CO_2017[i]) for i in range(len(CO_2017))]    \n",
    "data=[[date[i], CO_2017[i]] for i in range(len(date))] \n",
    "data= pd.DataFrame(data, columns = ['Date', 'CO'])\n",
    "data[\"CO\"] = pd.to_numeric(data[\"CO\"], downcast=\"float\")\n",
    "column_means = data['CO'].mean()\n",
    "data['CO'].fillna(column_means)\n",
    "\n"
   ]
  },
  {
   "cell_type": "code",
   "execution_count": null,
   "id": "superb-survival",
   "metadata": {},
   "outputs": [],
   "source": [
    "#Printing the date upto period 'Day'\n",
    "data['Date'] = pd.to_datetime(data['Date'])\n",
    "#Drops all rows with missing values\n",
    "#data=data.dropna()\n",
    "#Setting the date column as an index column to allow resampling\n",
    "data=data.set_index('Date')\n",
    "#Resampling data to give only the mean daily CO concentrations\n",
    "data=data.resample('D').mean()\n",
    "data['date'] = data.index\n",
    "#data['date'] = pd.to_datetime(data['date']).dt.to_period('D')\n",
    "#mean_value=data['CO'].mean()\n",
    "data['CO'].values"
   ]
  },
  {
   "cell_type": "code",
   "execution_count": null,
   "id": "decent-portland",
   "metadata": {},
   "outputs": [],
   "source": [
    "from warnings import simplefilter\n",
    "\n",
    "import numpy as np\n",
    "import pandas as pd\n",
    "\n",
    "from sktime.datasets import load_airline\n",
    "from sktime.forecasting.arima import ARIMA, AutoARIMA\n",
    "from sktime.forecasting.base import ForecastingHorizon\n",
    "from sktime.forecasting.compose import (\n",
    "    EnsembleForecaster,\n",
    "    ReducedRegressionForecaster,\n",
    "    TransformedTargetForecaster,\n",
    ")\n",
    "from sktime.forecasting.exp_smoothing import ExponentialSmoothing\n",
    "from sktime.forecasting.model_selection import (\n",
    "    ForecastingGridSearchCV,\n",
    "    SlidingWindowSplitter,\n",
    "    temporal_train_test_split,\n",
    ")\n",
    "from sktime.forecasting.naive import NaiveForecaster\n",
    "from sktime.forecasting.theta import ThetaForecaster\n",
    "from sktime.forecasting.trend import PolynomialTrendForecaster\n",
    "from sktime.performance_metrics.forecasting import sMAPE, smape_loss\n",
    "from sktime.transformations.series.detrend import Deseasonalizer, Detrender\n",
    "from sktime.utils.plotting import plot_series\n",
    "\n",
    "simplefilter(\"ignore\", FutureWarning)\n",
    "%matplotlib inline\n",
    "import matplotlib.pyplot as plt\n"
   ]
  },
  {
   "cell_type": "code",
   "execution_count": null,
   "id": "conventional-conjunction",
   "metadata": {},
   "outputs": [],
   "source": [
    "from fbprophet import Prophet\n",
    "from fbprophet.diagnostics import cross_validation\n",
    "from fbprophet.diagnostics import performance_metrics\n",
    "from fbprophet.plot import plot_cross_validation_metric\n"
   ]
  },
  {
   "cell_type": "code",
   "execution_count": null,
   "id": "cardiac-landscape",
   "metadata": {},
   "outputs": [],
   "source": [
    "import math\n",
    "#Deriving the lists of Date and CO columns of the data\n",
    "Date=data['date'].to_list()\n",
    "CO  =data['CO'].to_list()\n",
    "date=[i+1 for i in range(len(CO)) ]\n",
    "#CO=[math.log(CO[i]) for i in range(len(CO))]\n",
    "#Generating timeseries data based on the two lists\n",
    "data1= pd.Series(CO,Date)\n",
    "#CO=pd.Series(CO)\n"
   ]
  },
  {
   "cell_type": "code",
   "execution_count": null,
   "id": "superb-roots",
   "metadata": {},
   "outputs": [],
   "source": [
    "ts=200\n",
    "z_train, z_test = temporal_train_test_split(data1, test_size=ts)\n",
    "Date_train, Date_test = temporal_train_test_split(Date, test_size=ts)\n",
    "date=Date_train\n",
    "z=list(z_train)\n",
    "len(Date_train)"
   ]
  },
  {
   "cell_type": "code",
   "execution_count": null,
   "id": "tight-district",
   "metadata": {},
   "outputs": [],
   "source": [
    "data2=[[ z[i],date[i]] for i in range(len(z))] \n",
    "data2= pd.DataFrame(data2, columns = ['y', 'ds'])\n",
    "\n",
    "#data['ds']=pd.DatetimeIndex(data['date'])\n",
    "data2.dtypes\n",
    "data2['ds']=pd.to_datetime(data2.ds)"
   ]
  },
  {
   "cell_type": "code",
   "execution_count": null,
   "id": "separated-picture",
   "metadata": {},
   "outputs": [],
   "source": [
    "train=data2[:895]\n",
    "test=data2[895:]"
   ]
  },
  {
   "cell_type": "markdown",
   "id": "suspected-weather",
   "metadata": {},
   "source": [
    "## Useful resources\n",
    "https://towardsdatascience.com/a-quick-start-of-time-series-forecasting-with-a-practical-example-using-fb-prophet-31c4447a2274\n",
    "\n",
    "https://sailajakarra.medium.com/facebook-prophet-for-time-series-cf26be1be274#:~:text=Facebook%20Prophet%20uses%20an%20elegant,along%"
   ]
  },
  {
   "cell_type": "markdown",
   "id": "seven-jones",
   "metadata": {},
   "source": [
    "## Model ##"
   ]
  },
  {
   "cell_type": "code",
   "execution_count": null,
   "id": "selective-conference",
   "metadata": {},
   "outputs": [],
   "source": [
    "from fbprophet import Prophet\n",
    "m=Prophet(growth='linear',interval_width=0.95,seasonality_mode='additive', yearly_seasonality=False,\n",
    "          weekly_seasonality=False,daily_seasonality=True )\n",
    "m.add_seasonality(name='monthly', period=30.5, fourier_order=30, prior_scale=10,mode='additive')\n",
    "m.add_seasonality(name='weakly', period=7, fourier_order=40, prior_scale=15,mode='additive')\n",
    "m.add_seasonality(name='daily', period=1, fourier_order=10, prior_scale=15,mode='additive')\n",
    "m.add_seasonality(name='yearly', period=365.25, fourier_order=25, prior_scale=15,mode='additive')\n",
    "m.add_seasonality(name='quarterly', period=365.25/4, fourier_order=22, prior_scale=15,mode='additive')\n",
    "model=m.fit(train)"
   ]
  },
  {
   "cell_type": "code",
   "execution_count": null,
   "id": "packed-mistake",
   "metadata": {},
   "outputs": [],
   "source": [
    "future=m.make_future_dataframe(periods=200,freq='D')\n",
    "forecast=m.predict(future)\n",
    "pred=forecast['yhat'].to_list()\n",
    "pred= pd.Series(pred,Date)\n",
    "forecast.head()"
   ]
  },
  {
   "cell_type": "code",
   "execution_count": null,
   "id": "fresh-luxembourg",
   "metadata": {},
   "outputs": [],
   "source": [
    "import matplotlib.pyplot as plt\n",
    "fig= plt.figure(figsize=(20,8))\n",
    "plt.plot(data1,color='blue',linewidth=2)\n",
    "#plt.scatter(y_train_ind,CO_train, color='blue')\n",
    "plt.plot(pred,color='orange',linewidth=2)\n",
    "plt.legend(['real','y_pred'], loc='upper right')\n",
    "#plt.xlabel('Days from Jan 9th to Nov 9th')\n",
    "#plt.ylabel( 'CO concentrationCO (μg/m3)')\n",
    "plt.grid(True)"
   ]
  },
  {
   "cell_type": "code",
   "execution_count": null,
   "id": "rotary-anger",
   "metadata": {},
   "outputs": [],
   "source": [
    "z_pred=forecast.iloc[895:,:]\n",
    "z_pred=z_pred['yhat'].to_list()\n",
    "z_pred= pd.Series(z_pred,Date_test)\n"
   ]
  },
  {
   "cell_type": "code",
   "execution_count": null,
   "id": "structured-wheel",
   "metadata": {},
   "outputs": [],
   "source": [
    "fig= plt.figure(figsize=(20,8))\n",
    "plt.plot(z_train,color='blue',linewidth=2)\n",
    "plt.plot(z_test,color='orange',linewidth=2)\n",
    "plt.plot(z_pred,color='green',linewidth=2)\n",
    "plt.legend(['y_train', 'y_test','y_pred'], loc='upper right')\n",
    "plt.xlabel('Date',fontsize=18)\n",
    "plt.ylabel( 'CO concentrationCO (μg/m3)',fontsize=18)\n",
    "plt.grid(True)\n",
    "#plt.plot(X3,y1,color='orange',linewidth=3)\n",
    "#plt.title('Sigmoid and sine function')\n",
    "#plt.grid(True)\n",
    "plt.show()\n",
    "smape_loss(z_pred, z_test)"
   ]
  },
  {
   "cell_type": "code",
   "execution_count": null,
   "id": "dangerous-eclipse",
   "metadata": {},
   "outputs": [],
   "source": [
    "import warnings\n",
    "warnings.filterwarnings(\"ignore\")\n",
    "fig=m.plot_components(forecast)"
   ]
  },
  {
   "cell_type": "code",
   "execution_count": null,
   "id": "civil-handbook",
   "metadata": {},
   "outputs": [],
   "source": [
    "import warnings\n",
    "warnings.filterwarnings(\"ignore\")\n",
    "from ipywidgets import IntProgress\n",
    "\n",
    "# Initial training period.\n",
    "initial= 600\n",
    "initial= str(initial)+' days'\n",
    "#Period length that we perform the cross validation for.\n",
    "period= 100\n",
    "period=str(period)+' days'\n",
    "#Horizon of prediction essentially for each fold.\n",
    "horizon = 200\n",
    "horizon=str(horizon)+' days'\n",
    "fb_cv=cross_validation(m,initial=initial,period=period,\n",
    "horizon=horizon,parallel=\"processes\")\n",
    "# Performance Metrics of fb_cv\n",
    "performance_metrics(fb_cv)"
   ]
  },
  {
   "cell_type": "code",
   "execution_count": null,
   "id": "charged-value",
   "metadata": {},
   "outputs": [],
   "source": [
    "fb_cv.head()"
   ]
  },
  {
   "cell_type": "code",
   "execution_count": null,
   "id": "according-football",
   "metadata": {},
   "outputs": [],
   "source": [
    "plot_cross_validation_metric(fb_cv,'mape');"
   ]
  },
  {
   "cell_type": "code",
   "execution_count": null,
   "id": "electric-costa",
   "metadata": {},
   "outputs": [],
   "source": [
    "# changing trend points\n",
    "from fbprophet.plot import add_changepoints_to_plot\n",
    "fig=m.plot(forecast)\n",
    "a=add_changepoints_to_plot(fig.gca(),m,forecast)"
   ]
  },
  {
   "cell_type": "code",
   "execution_count": null,
   "id": "pharmaceutical-appointment",
   "metadata": {},
   "outputs": [],
   "source": [
    "from fbprophet.plot import plot_plotly, plot_components_plotly\n",
    "\n",
    "plot_plotly(m, forecast)"
   ]
  },
  {
   "cell_type": "code",
   "execution_count": null,
   "id": "impressed-philip",
   "metadata": {},
   "outputs": [],
   "source": [
    "plot_components_plotly(m, forecast)"
   ]
  },
  {
   "cell_type": "code",
   "execution_count": null,
   "id": "intimate-cemetery",
   "metadata": {},
   "outputs": [],
   "source": [
    "# Python\n",
    "#import itertools\n",
    "#import numpy as np\n",
    "#import pandas as pd\n",
    "#cutoffs = pd.to_datetime(['2018-02-15', '2018-08-15', '2019-02-15'])\n",
    "#param_grid = {  \n",
    "    #'changepoint_prior_scale': [0.001, 0.01, 0.1, 0.5],\n",
    "    #'seasonality_prior_scale': [0.01, 0.1, 1.0, 10.0],\n",
    "#}\n",
    "\n",
    "# Generate all combinations of parameters\n",
    "#all_params = [dict(zip(param_grid.keys(), v)) for v in itertools.product(*param_grid.values())]\n",
    "#rmses = []  # Store the RMSEs for each params here\n",
    "\n",
    "# Use cross validation to evaluate all parameters\n",
    "#for params in all_params:\n",
    "    #m = Prophet(**params,daily_seasonality=True).fit(train)  # Fit model with given params\n",
    "    #df_cv = cross_validation(m, cutoffs=cutoffs, horizon='200 days', parallel=None)\n",
    "    #df_p = performance_metrics(df_cv, rolling_window=1)\n",
    "    #rmses.append(df_p['rmse'].values[0])\n",
    "\n",
    "# Find the best parameters\n",
    "#tuning_results = pd.DataFrame(all_params)\n",
    "#tuning_results['rmse'] = rmses\n",
    "#print(tuning_results)"
   ]
  },
  {
   "cell_type": "code",
   "execution_count": null,
   "id": "important-elimination",
   "metadata": {},
   "outputs": [],
   "source": [
    "#best_params = all_params[np.argmin(rmses)]\n",
    "#print(best_params)"
   ]
  },
  {
   "cell_type": "code",
   "execution_count": null,
   "id": "metallic-butler",
   "metadata": {},
   "outputs": [],
   "source": []
  },
  {
   "cell_type": "code",
   "execution_count": null,
   "id": "annoying-protest",
   "metadata": {},
   "outputs": [],
   "source": []
  },
  {
   "cell_type": "markdown",
   "id": "expensive-circumstances",
   "metadata": {},
   "source": [
    "## Forecasting with LSTM ##"
   ]
  },
  {
   "cell_type": "code",
   "execution_count": null,
   "id": "vanilla-option",
   "metadata": {},
   "outputs": [],
   "source": [
    "import numpy as np\n",
    "from tensorflow.keras.models import Sequential\n",
    "from tensorflow.keras.layers import LSTM\n",
    "from tensorflow.keras.layers import Dense\n",
    "from tensorflow.keras.layers import Flatten\n",
    "from sklearn.preprocessing import MinMaxScaler"
   ]
  },
  {
   "cell_type": "code",
   "execution_count": null,
   "id": "tired-creature",
   "metadata": {},
   "outputs": [],
   "source": [
    "data=[(CO[i]-min(CO))/(max(CO)-min(CO)) for i in range(len(CO))]\n",
    "\n",
    "len(data)"
   ]
  },
  {
   "cell_type": "code",
   "execution_count": null,
   "id": "convinced-province",
   "metadata": {},
   "outputs": [],
   "source": [
    "data_train, data_test = temporal_train_test_split(data, test_size=200)"
   ]
  },
  {
   "cell_type": "code",
   "execution_count": null,
   "id": "derived-programmer",
   "metadata": {},
   "outputs": [],
   "source": [
    "#data=np.array(ts_data)\n",
    "#scaler=MinMaxScaler(feature_range=(0,1))\n",
    "#scaled_data=scaler.fit_transform(ts_data)"
   ]
  },
  {
   "cell_type": "code",
   "execution_count": null,
   "id": "juvenile-singer",
   "metadata": {},
   "outputs": [],
   "source": [
    "def prepare_data(ts_data,n_steps):\n",
    "    X,y=[],[]\n",
    "    for i in range(len(ts_data)):\n",
    "        end_ix=i+n_steps\n",
    "        if end_ix>len(ts_data)-1:\n",
    "            break\n",
    "        seq_x,seq_y=ts_data[i:end_ix],ts_data[end_ix]\n",
    "        X.append(seq_x)\n",
    "        y.append(seq_y)\n",
    "    return np.array(X),np.array(y)\n",
    "    "
   ]
  },
  {
   "cell_type": "code",
   "execution_count": null,
   "id": "boolean-contractor",
   "metadata": {},
   "outputs": [],
   "source": [
    "import math\n",
    "CO_train, CO_test = temporal_train_test_split(CO, test_size=200)\n",
    "ts_data=CO_train\n",
    "\n",
    "n_steps=20\n",
    "\n",
    "X,y=prepare_data(data_train,n_steps)\n"
   ]
  },
  {
   "cell_type": "code",
   "execution_count": null,
   "id": "passing-channel",
   "metadata": {},
   "outputs": [],
   "source": [
    "#print(X),print(y)"
   ]
  },
  {
   "cell_type": "code",
   "execution_count": null,
   "id": "opposite-reducing",
   "metadata": {},
   "outputs": [],
   "source": [
    "# Reshape from [samples,timesteps] to [samples,timesteps,features]\n",
    "n_features=1\n",
    "X=X.reshape(X.shape[0],X.shape[1],n_features)\n",
    "y=y.reshape(X.shape[0],n_features)\n"
   ]
  },
  {
   "cell_type": "markdown",
   "id": "leading-mouth",
   "metadata": {},
   "source": [
    "# Building LSTM Model ####"
   ]
  },
  {
   "cell_type": "code",
   "execution_count": null,
   "id": "adopted-baptist",
   "metadata": {},
   "outputs": [],
   "source": [
    "from keras.models import Sequential\n",
    "import tensorflow as tf\n",
    "from keras.layers import LSTM\n",
    "from keras.layers import Dense, Dropout\n",
    "model = Sequential()\n",
    "# 50 neurons in first hidden layer\n",
    "model.add(LSTM(units=200, input_shape=(X.shape[1], X.shape[2]), activation='tanh'))\n",
    "model.add(Dense(units=100,activation='tanh'))\n",
    "model.add(Dense(units=20,activation='tanh'))\n",
    "model.add(Dense(1,kernel_initializer='normal', activation='linear'))\n",
    "model.compile(loss='mae', optimizer=tf.keras.optimizers.Adam(lr=0.01))\n",
    "\n",
    "model.fit(X,y,epochs=100,verbose=1)"
   ]
  },
  {
   "cell_type": "code",
   "execution_count": null,
   "id": "funky-share",
   "metadata": {},
   "outputs": [],
   "source": [
    "import numpy as np\n",
    "test_data=[data[i] for i in range(895,1095)]\n",
    "X_test=[]\n",
    "y_test=[CO[i] for i in range(905,1095)]\n",
    "y_test=np.array(y_test)\n",
    "for i in range(10, len(test_data)):\n",
    "    X_test.append(test_data[i-10:i])\n",
    "Y_test=np.array(y_test)\n",
    "y_test.shape"
   ]
  },
  {
   "cell_type": "code",
   "execution_count": null,
   "id": "comic-graphics",
   "metadata": {},
   "outputs": [],
   "source": [
    "X_test=np.array(X_test)\n",
    "X_test.shape\n",
    "\n",
    "X_test=np.reshape(X_test,(190,10,1))\n",
    "X_test.shape"
   ]
  },
  {
   "cell_type": "code",
   "execution_count": null,
   "id": "weekly-struggle",
   "metadata": {},
   "outputs": [],
   "source": [
    "y_pred=model.predict(X_test)\n",
    "#y_pred=y_pred.reshape(y_test.shape)"
   ]
  },
  {
   "cell_type": "code",
   "execution_count": null,
   "id": "everyday-darwin",
   "metadata": {},
   "outputs": [],
   "source": [
    "y_pred=[y_pred[i]*(max(CO)-min(CO))+min(CO) for i in range(190)]\n"
   ]
  },
  {
   "cell_type": "code",
   "execution_count": null,
   "id": "greatest-balance",
   "metadata": {},
   "outputs": [],
   "source": [
    "Date_test=[i for i in range(190)]\n"
   ]
  },
  {
   "cell_type": "code",
   "execution_count": null,
   "id": "stopped-giving",
   "metadata": {},
   "outputs": [],
   "source": [
    "x1=[i for i in range(895)]\n",
    "x2=[i for i in range(895,1085)]\n",
    "fig= plt.figure(figsize=(20,8))\n",
    "plt.plot(x1,CO_train, color='blue')\n",
    "plt.plot(x2,y_pred,color='green')\n",
    "plt.plot(x2,Y_test,color='orange')\n",
    "plt.legend(['y_train','y_pred', 'y_test'], loc='upper right')\n",
    "plt.xlabel('Date',fontsize=18)\n",
    "plt.ylabel( 'CO concentrationCO (μg/m3)',fontsize=18)\n",
    "plt.grid(True)\n",
    "plt.show()\n",
    "y_pred=[sum(list(y_pred[i])) for i in range(190)]\n",
    "y_test= pd.Series(y_test,Date_test)\n",
    "y_pred= pd.Series(y_pred,Date_test)\n",
    "smape_loss(y_pred, y_test)"
   ]
  },
  {
   "cell_type": "markdown",
   "id": "toxic-coordination",
   "metadata": {},
   "source": [
    "### Forecasting with XGBoost ##"
   ]
  },
  {
   "cell_type": "code",
   "execution_count": null,
   "id": "focal-script",
   "metadata": {},
   "outputs": [],
   "source": [
    "data= pd.DataFrame(CO, columns = [ 'CO'])\n",
    "data.head()"
   ]
  },
  {
   "cell_type": "code",
   "execution_count": null,
   "id": "collaborative-maldives",
   "metadata": {},
   "outputs": [],
   "source": [
    "data[\"target\"]=data.CO.shift(-1)"
   ]
  },
  {
   "cell_type": "code",
   "execution_count": null,
   "id": "talented-venezuela",
   "metadata": {},
   "outputs": [],
   "source": [
    "data.dropna(inplace=True)"
   ]
  },
  {
   "cell_type": "code",
   "execution_count": null,
   "id": "bibliographic-incentive",
   "metadata": {},
   "outputs": [],
   "source": [
    "def train_test_split(data,perc):\n",
    "    data=data.values\n",
    "    n=int(len(data)*(1-perc))\n",
    "    return data[:n],data[n:]\n"
   ]
  },
  {
   "cell_type": "code",
   "execution_count": null,
   "id": "remarkable-nancy",
   "metadata": {},
   "outputs": [],
   "source": [
    "train, test = train_test_split(data,200/1093)\n",
    "X=train[:,:-1]\n",
    "y=train[:,-1]\n"
   ]
  },
  {
   "cell_type": "code",
   "execution_count": null,
   "id": "raising-donna",
   "metadata": {},
   "outputs": [],
   "source": [
    "from xgboost import XGBRegressor\n",
    "model=XGBRegressor(objective=\"reg:squarederror\",n_estimators=100)\n",
    "model.fit(X,y)"
   ]
  },
  {
   "cell_type": "code",
   "execution_count": null,
   "id": "eight-piece",
   "metadata": {},
   "outputs": [],
   "source": [
    "test[2]"
   ]
  },
  {
   "cell_type": "code",
   "execution_count": null,
   "id": "mounted-colleague",
   "metadata": {},
   "outputs": [],
   "source": [
    "val=np.array(test[3,0]).reshape(1,-1)\n",
    "pred=model.predict(val)\n",
    "pred[0]"
   ]
  },
  {
   "cell_type": "markdown",
   "id": "global-briefing",
   "metadata": {},
   "source": [
    "## Work forward validation ## "
   ]
  },
  {
   "cell_type": "code",
   "execution_count": null,
   "id": "informed-combining",
   "metadata": {},
   "outputs": [],
   "source": [
    "def xgb_predict(train,val):\n",
    "    train=np.array(train)\n",
    "    X,y=train[:,:-1],train[:,-1]\n",
    "    model=XGBRegressor(objective=\"reg:squarederror\",n_estimators=500)\n",
    "    model.fit(X,y)\n",
    "    val=np.array(val).reshape(1,-1)\n",
    "    pred=model.predict(val)\n",
    "    return pred[0]\n",
    "    "
   ]
  },
  {
   "cell_type": "code",
   "execution_count": null,
   "id": "raised-tamil",
   "metadata": {},
   "outputs": [],
   "source": [
    "from sklearn.metrics import mean_squared_error\n",
    "def validate(data,perc):\n",
    "    predictions=[]\n",
    "    train, test = train_test_split(data,perc)\n",
    "    history=[x for x in train]\n",
    "    for i in range(len(test)):\n",
    "        test_X,test_y=test[i,:-1],test[i,-1]\n",
    "        pred=xgb_predict(history,test_X[0])\n",
    "        predictions.append(pred)\n",
    "        history.append(test[i])\n",
    "    error=mean_squared_error(test[:,-1],predictions,squared=False)\n",
    "    return error, test[:,-1] ,predictions  \n",
    "    "
   ]
  },
  {
   "cell_type": "code",
   "execution_count": null,
   "id": "piano-control",
   "metadata": {},
   "outputs": [],
   "source": [
    "%%time\n",
    "rmse,y,pred=validate(data,200/1093)\n",
    "print(rmse)"
   ]
  },
  {
   "cell_type": "code",
   "execution_count": null,
   "id": "norwegian-mechanism",
   "metadata": {},
   "outputs": [],
   "source": [
    "ind=[i for i in range(201)]\n",
    "y_pred= pd.Series(pred,ind)\n",
    "y_test= pd.Series(y,ind)\n",
    "fig= plt.figure(figsize=(20,8))\n",
    "plt.plot(y_pred,color='darkgreen')\n",
    "plt.plot(y_test,color='darkorange')\n",
    "plt.legend(['y_pred','y_test'], loc='upper right')\n",
    "plt.xlabel('Forecast horizon(days)',fontsize=18)\n",
    "plt.ylabel( 'CO concentrationCO (μg/m3)',fontsize=18)\n",
    "plt.grid(True)\n",
    "plt.show()\n",
    "smape_loss(y_pred, y_test)"
   ]
  },
  {
   "cell_type": "markdown",
   "id": "funny-lover",
   "metadata": {},
   "source": [
    "## Summary\n",
    "\n",
    "As we have seen, in order to make forecasts, we need to first specify (or build) a model, then fit it to the training data, and finally call predict to generate forecasts for the given forecasting horizon.\n",
    "\n",
    "* `sktime` comes with several forecasting algorithms (or forecasters) and tools for composite model building. All forecaster share a common interface. Forecasters are trained on a single series of data and make forecasts for the provided forecasting horizon.\n",
    "\n",
    "* `sktime` has a number of statistical forecasting algorithms, based on implementations in statsmodels. For example, to use exponential smoothing with an additive trend component and multiplicative seasonality, we can write the following.\n",
    "\n",
    "\n",
    "## Useful resources\n",
    "* For more details, take a look at [our paper on forecasting with sktime](https://arxiv.org/abs/2005.08067) in which we discuss the forecasting API in more detail and use it to replicate and extend the M4 study.\n",
    "* For a good introduction to forecasting, see [Hyndman, Rob J., and George Athanasopoulos. Forecasting: principles and practice. OTexts, 2018](https://otexts.com/fpp2/).\n",
    "* For comparative benchmarking studies/forecasting competitions, see the [M4 competition](https://www.sciencedirect.com/science/article/pii/S0169207019301128) and the currently running [M5 competition](https://www.kaggle.com/c/m5-forecasting-accuracy/overview)."
   ]
  },
  {
   "cell_type": "code",
   "execution_count": null,
   "id": "stopped-stopping",
   "metadata": {},
   "outputs": [],
   "source": [
    "import xlwt\n",
    "from tempfile import TemporaryFile\n",
    "book = xlwt.Workbook()\n",
    "sheet1 = book.add_sheet('sheet1')\n",
    "\n",
    "supersecretdata = CO\n",
    "\n",
    "for i,e in enumerate(supersecretdata):\n",
    "    sheet1.write(i,1,e)\n",
    "\n",
    "name = \"random.xls\"\n",
    "book.save(name)\n",
    "book.save(TemporaryFile())"
   ]
  },
  {
   "cell_type": "code",
   "execution_count": null,
   "id": "fleet-magic",
   "metadata": {},
   "outputs": [],
   "source": []
  },
  {
   "cell_type": "code",
   "execution_count": null,
   "id": "important-playing",
   "metadata": {},
   "outputs": [],
   "source": []
  }
 ],
 "metadata": {
  "kernelspec": {
   "display_name": "Python 3",
   "language": "python",
   "name": "python3"
  },
  "language_info": {
   "codemirror_mode": {
    "name": "ipython",
    "version": 3
   },
   "file_extension": ".py",
   "mimetype": "text/x-python",
   "name": "python",
   "nbconvert_exporter": "python",
   "pygments_lexer": "ipython3",
   "version": "3.8.6"
  }
 },
 "nbformat": 4,
 "nbformat_minor": 5
}
