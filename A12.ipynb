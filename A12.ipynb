{
 "cells": [
  {
   "cell_type": "markdown",
   "id": "adult-tractor",
   "metadata": {},
   "source": [
    "# Zindi: CGIAR Crop Damage Competion Challenge-Ongoing"
   ]
  },
  {
   "cell_type": "code",
   "execution_count": null,
   "id": "uniform-magazine",
   "metadata": {},
   "outputs": [],
   "source": [
    "#Importing relevant packages\n",
    "import os\n",
    "import numpy as np\n",
    "import keras\n",
    "import pandas as pd\n",
    "from keras import layers\n",
    "from tensorflow import data as tf_data\n",
    "import matplotlib.pyplot as plt\n",
    "import tensorflow as tf\n",
    "import tensorflow.compat.v2 as tf\n",
    "import tensorflow.compat.v2.keras as keras\n",
    "tf.enable_v2_behavior()\n",
    "import tensorflow as tf\n",
    "import numpy as np\n",
    "import os\n",
    "import matplotlib.pyplot as plt\n",
    "# image processing\n",
    "import tflearn\n",
    "from tflearn.layers.conv import conv_2d, max_pool_2d\n",
    "from tflearn.layers.core import input_data,dropout, fully_connected\n",
    "from tflearn.layers.estimator import regression\n",
    "from keras.layers import Activation, Dense, Flatten,BatchNormalization\n",
    "from tensorflow.keras.preprocessing import image\n",
    "from tensorflow.keras.preprocessing.image import ImageDataGenerator, load_img\n",
    "# model / neural network\n",
    "from tensorflow.keras import layers\n",
    "from tensorflow.keras.models import Sequential, Model\n",
    "from tensorflow.keras.applications import ResNet50\n",
    "from tensorflow.keras.applications.resnet50 import preprocess_input"
   ]
  },
  {
   "cell_type": "code",
   "execution_count": 105,
   "id": "chinese-patrick",
   "metadata": {},
   "outputs": [],
   "source": [
    "import keras\n",
    "tf.random.set_seed(812)"
   ]
  },
  {
   "cell_type": "code",
   "execution_count": 33,
   "id": "accomplished-harassment",
   "metadata": {},
   "outputs": [
    {
     "name": "stdout",
     "output_type": "stream",
     "text": [
      "Requirement already satisfied: tflearn==0.5.0 in /Library/Frameworks/Python.framework/Versions/3.8/lib/python3.8/site-packages (0.5.0)\r\n",
      "Requirement already satisfied: numpy in /Library/Frameworks/Python.framework/Versions/3.8/lib/python3.8/site-packages (from tflearn==0.5.0) (1.23.5)\r\n",
      "Requirement already satisfied: six in /Library/Frameworks/Python.framework/Versions/3.8/lib/python3.8/site-packages (from tflearn==0.5.0) (1.15.0)\r\n",
      "Requirement already satisfied: Pillow in /Library/Frameworks/Python.framework/Versions/3.8/lib/python3.8/site-packages (from tflearn==0.5.0) (8.1.0)\r\n"
     ]
    }
   ],
   "source": [
    "!pip install tflearn==0.5.0"
   ]
  },
  {
   "cell_type": "markdown",
   "id": "mathematical-associate",
   "metadata": {},
   "source": [
    "train=pd.read_csv('train.csv')\n",
    "test=pd.read_csv('test.csv')"
   ]
  },
  {
   "cell_type": "markdown",
   "id": "stopped-winter",
   "metadata": {},
   "source": [
    "train.head()"
   ]
  },
  {
   "cell_type": "markdown",
   "id": "systematic-prefix",
   "metadata": {},
   "source": [
    "train['damage'].unique()"
   ]
  },
  {
   "cell_type": "markdown",
   "id": "rough-reception",
   "metadata": {},
   "source": [
    "train= train[train[\"damage\"]=='other']\n",
    "train.shape"
   ]
  },
  {
   "cell_type": "markdown",
   "id": "sunrise-credit",
   "metadata": {},
   "source": [
    "test.head()"
   ]
  },
  {
   "cell_type": "markdown",
   "id": "alien-stephen",
   "metadata": {},
   "source": [
    "od='/Users/kipkemoivincent/Desktop/cgiar-crop-damage-classification-challenge20231201-29880-1s2g3v7/CGFR_Images/Train/'\n",
    "td='/Users/kipkemoivincent/Desktop/cgiar-crop-damage-classification-challenge20231201-29880-1s2g3v7/CGFR_Images/train_data/other/'\n"
   ]
  },
  {
   "cell_type": "markdown",
   "id": "checked-ballet",
   "metadata": {},
   "source": [
    "fn_train=train['filename'].to_list()\n",
    "#fn_test=test['filename'].to_list()"
   ]
  },
  {
   "cell_type": "markdown",
   "id": "atmospheric-allah",
   "metadata": {},
   "source": [
    "import shutil\n",
    "for i in range(len(fn_train)):\n",
    "    shutil.copy2(od+fn_train[i],td+fn_train[i])"
   ]
  },
  {
   "cell_type": "markdown",
   "id": "express-inspector",
   "metadata": {},
   "source": [
    "import shutil\n",
    "for i in range(len(fn_test)):\n",
    "    shutil.copy2(od+fn_test[i],td+fn_test[i])"
   ]
  },
  {
   "cell_type": "code",
   "execution_count": 101,
   "id": "internal-potential",
   "metadata": {},
   "outputs": [
    {
     "name": "stdout",
     "output_type": "stream",
     "text": [
      "Found 26068 files belonging to 5 classes.\n",
      "Using 20855 files for training.\n",
      "Found 26068 files belonging to 5 classes.\n",
      "Using 5213 files for validation.\n"
     ]
    }
   ],
   "source": [
    "image_size = (150, 150)\n",
    "batch_size = 26068\n",
    "train_ds= keras.preprocessing.image_dataset_from_directory(\n",
    "    \"/Users/kipkemoivincent/Desktop/cgiar-crop-damage-classification-challenge20231201-29880-1s2g3v7/train_data\",\n",
    "    validation_split=0.2,\n",
    "    subset=\"training\",\n",
    "    seed=1337,\n",
    "    image_size=image_size,\n",
    "    batch_size=batch_size\n",
    ")\n",
    "val_ds= keras.preprocessing.image_dataset_from_directory(\n",
    "    \"/Users/kipkemoivincent/Desktop/cgiar-crop-damage-classification-challenge20231201-29880-1s2g3v7/train_data\",\n",
    "    validation_split=0.2,\n",
    "    subset=\"validation\",\n",
    "    seed=1337,\n",
    "    image_size=image_size,\n",
    "    batch_size=batch_size\n",
    ")"
   ]
  },
  {
   "cell_type": "code",
   "execution_count": 3,
   "id": "weekly-arbor",
   "metadata": {},
   "outputs": [
    {
     "name": "stdout",
     "output_type": "stream",
     "text": [
      "Found 8663 files belonging to 1 classes.\n"
     ]
    }
   ],
   "source": [
    "Test_ds= keras.preprocessing.image_dataset_from_directory(\n",
    "    \"/Users/kipkemoivincent/Desktop/cgiar-crop-damage-classification-challenge20231201-29880-1s2g3v7/T_data\",seed=1337,\n",
    "    image_size=image_size,\n",
    "    batch_size=batch_size\n",
    ")"
   ]
  },
  {
   "cell_type": "code",
   "execution_count": 4,
   "id": "aggregate-desperate",
   "metadata": {},
   "outputs": [],
   "source": [
    "file_paths = Test_ds.file_paths\n",
    "Test_fn=[]\n",
    "for i in range(len(file_paths)):\n",
    "    Test_fn.append(file_paths[i][113:])"
   ]
  },
  {
   "cell_type": "code",
   "execution_count": 5,
   "id": "latin-shade",
   "metadata": {},
   "outputs": [],
   "source": [
    "@tf.function\n",
    "def input_fn():\n",
    "    dataset = tf.data.TFRecordDataset(filenames = filenames)\n",
    "    \n",
    "    dataset = dataset.map(_parse_function)\n",
    "    iterator = iter(dataset)\n",
    "    next_element = iterator.get_next()\n",
    "    return next_element"
   ]
  },
  {
   "cell_type": "markdown",
   "id": "engaged-milwaukee",
   "metadata": {},
   "source": [
    "plt.figure(figsize=(15, 15))\n",
    "for images, labels in train_ds:\n",
    "    labels=[int(labels[i]) for i in range(len(labels))]\n",
    "    for i in range(len(labels)):\n",
    "        if int(labels[i])==1:\n",
    "            labels[i]='DR'\n",
    "        elif int(labels[i])==2:\n",
    "            labels[i]='G'\n",
    "        elif int(labels[i])==3:\n",
    "            labels[i]='NR'\n",
    "        elif int(labels[i])==4:\n",
    "            labels[i]='other'\n",
    "        else:\n",
    "            labels[i]='WR'\n",
    "    for i in range(16):\n",
    "        ax = plt.subplot(4, 4, i + 1)\n",
    "        plt.imshow(np.array(images[i]).astype(\"uint8\"))\n",
    "        plt.title(labels[i])\n",
    "        plt.axis(\"off\")"
   ]
  },
  {
   "cell_type": "code",
   "execution_count": 6,
   "id": "alternate-commonwealth",
   "metadata": {},
   "outputs": [],
   "source": [
    "X_train1=[]\n",
    "y_train1=[]\n",
    "X_test1=[]\n",
    "y_test1=[]\n",
    "for images, labels in train_ds:\n",
    "    X_train1.append(images)\n",
    "    y_train1.append(labels)\n",
    "for images, labels in val_ds:\n",
    "    X_train1.append(images)\n",
    "    y_train1.append(labels)"
   ]
  },
  {
   "cell_type": "code",
   "execution_count": 7,
   "id": "boring-blackberry",
   "metadata": {},
   "outputs": [],
   "source": [
    "Test1=[]\n",
    "for images, labels in Test_ds:\n",
    "    Test1.append(images)"
   ]
  },
  {
   "cell_type": "code",
   "execution_count": 8,
   "id": "familiar-balloon",
   "metadata": {},
   "outputs": [],
   "source": [
    "Test=np.array(Test1[0])\n",
    "Test=Test.astype('float32')"
   ]
  },
  {
   "cell_type": "code",
   "execution_count": 9,
   "id": "parental-mobile",
   "metadata": {},
   "outputs": [],
   "source": [
    "import numpy as np\n",
    "X_train=np.array(X_train1[0])\n",
    "X_test=np.array(X_train1[1])\n",
    "y_train=np.array(y_train1[0])\n",
    "y_test=np.array(y_train1[1])\n",
    "#X_train=X_train.reshape(4800,67500)\n",
    "#X_test=X_test.reshape(1200,67500)\n",
    "X_train = X_train.astype('float32')\n",
    "X_test = X_test.astype('float32')"
   ]
  },
  {
   "cell_type": "code",
   "execution_count": 131,
   "id": "outside-empty",
   "metadata": {},
   "outputs": [
    {
     "data": {
      "text/plain": [
       "(array([0, 1, 2, 3, 4], dtype=int32), array([ 883, 2314,   49,  103, 1864]))"
      ]
     },
     "execution_count": 131,
     "metadata": {},
     "output_type": "execute_result"
    }
   ],
   "source": [
    "np.unique(y_test, return_counts=True)"
   ]
  },
  {
   "cell_type": "code",
   "execution_count": 130,
   "id": "rolled-estate",
   "metadata": {},
   "outputs": [
    {
     "data": {
      "text/plain": [
       "(array([0, 1, 2, 3, 4], dtype=int32), array([3633, 9309,  223,  316, 7374]))"
      ]
     },
     "execution_count": 130,
     "metadata": {},
     "output_type": "execute_result"
    }
   ],
   "source": [
    "np.unique(y_train, return_counts=True)"
   ]
  },
  {
   "cell_type": "code",
   "execution_count": 10,
   "id": "multiple-restoration",
   "metadata": {},
   "outputs": [],
   "source": [
    "from keras.optimizers import RMSprop,Adam\n",
    "from keras.preprocessing.image import ImageDataGenerator\n",
    "from keras.callbacks import ReduceLROnPlateau"
   ]
  },
  {
   "cell_type": "markdown",
   "id": "isolated-discussion",
   "metadata": {},
   "source": [
    "from imblearn.over_sampling import SMOTE\n",
    "X_train, y_train = oversample.fit_resample(X_train, y_train)\n",
    "# summarize the new class distribution"
   ]
  },
  {
   "cell_type": "markdown",
   "id": "opponent-teddy",
   "metadata": {},
   "source": [
    "X_train.shape"
   ]
  },
  {
   "cell_type": "markdown",
   "id": "welcome-blackberry",
   "metadata": {},
   "source": [
    "!pip install -U threadpoolctl"
   ]
  },
  {
   "cell_type": "markdown",
   "id": "specialized-fleet",
   "metadata": {},
   "source": [
    "from imblearn.over_sampling import RandomOverSampler\n",
    "X_train = X_train.reshape(20855,67500)\n",
    "oversample = RandomOverSampler()\n",
    "X_train, y_train = oversample.fit_resample(X_train, y_train)\n",
    "X_train.shape"
   ]
  },
  {
   "cell_type": "markdown",
   "id": "clear-johns",
   "metadata": {},
   "source": [
    "X_train = X_train.reshape(-1,150,150,3)"
   ]
  },
  {
   "cell_type": "markdown",
   "id": "agricultural-passenger",
   "metadata": {},
   "source": [
    "X_train.shape"
   ]
  },
  {
   "cell_type": "markdown",
   "id": "reverse-moderator",
   "metadata": {},
   "source": [
    "## Normalizing the data to help with the training"
   ]
  },
  {
   "cell_type": "code",
   "execution_count": 11,
   "id": "molecular-union",
   "metadata": {},
   "outputs": [],
   "source": [
    "X_train /= 255\n",
    "X_test /= 255"
   ]
  },
  {
   "cell_type": "code",
   "execution_count": 12,
   "id": "amazing-messenger",
   "metadata": {},
   "outputs": [],
   "source": [
    "Test/=255"
   ]
  },
  {
   "cell_type": "markdown",
   "id": "romance-vocabulary",
   "metadata": {},
   "source": [
    "from flaml import AutoML\n",
    "automl = AutoML()\n",
    "# Specify automl goal and constraint\n",
    "automl_settings = {\n",
    "    \"time_budget\": 200,  # in seconds\n",
    "    \"metric\": 'log_loss',\n",
    "    \"task\": 'classification'\n",
    "}\n",
    "automl.fit(X_train=X_train, y_train=y_train,\n",
    "           **automl_settings)"
   ]
  },
  {
   "cell_type": "code",
   "execution_count": 13,
   "id": "introductory-marketplace",
   "metadata": {},
   "outputs": [],
   "source": [
    "y_train1=y_train\n",
    "y_test1=y_test\n",
    "Y_train=tf.keras.utils.to_categorical(y_train1, num_classes=5)\n",
    "Y_test=tf.keras.utils.to_categorical(y_test1, num_classes=5)"
   ]
  },
  {
   "cell_type": "code",
   "execution_count": 14,
   "id": "endless-panel",
   "metadata": {},
   "outputs": [
    {
     "data": {
      "text/plain": [
       "(20855, 5)"
      ]
     },
     "execution_count": 14,
     "metadata": {},
     "output_type": "execute_result"
    }
   ],
   "source": [
    "Y_train.shape"
   ]
  },
  {
   "cell_type": "markdown",
   "id": "adult-cleveland",
   "metadata": {},
   "source": [
    "# CNN1 (with Keras)"
   ]
  },
  {
   "cell_type": "markdown",
   "id": "known-optics",
   "metadata": {},
   "source": [
    "import pandas as pd\n",
    "from keras.models import Sequential\n",
    "from keras.layers import Dense, Dropout, Conv2D, MaxPool2D, Flatten\n",
    "from keras.utils import np_utils\n",
    "\n",
    "model = Sequential()\n",
    "# convolutional layer\n",
    "model.add(Conv2D(25, kernel_size=(3,3), strides=(1,1), \n",
    "                 padding='valid', activation='relu', input_shape=(150,150,3)))\n",
    "model.add(MaxPool2D(pool_size=(1,1)))\n",
    "# flatten output of conv\n",
    "model.add(Flatten())\n",
    "# hidden layer\n",
    "model.add(Dense(100, activation='relu'))\n",
    "# output layer\n",
    "model.add(Dense(5, activation='softmax'))\n",
    "Optimizer=tf.keras.optimizers.Adam(\n",
    "    learning_rate=0.001,\n",
    "    beta_1=0.9,\n",
    "    beta_2=0.999,\n",
    "    epsilon=1e-07)\n",
    "# compiling the sequential model\n",
    "model.compile(loss='categorical_crossentropy', metrics=['accuracy'], optimizer=Optimizer)\n",
    "\n",
    "# training the model for 10 epochs\n",
    "history =model.fit(X_train, Y_train, batch_size=2, epochs=4, validation_data=(X_test, Y_test))"
   ]
  },
  {
   "cell_type": "code",
   "execution_count": 106,
   "id": "equipped-maldives",
   "metadata": {},
   "outputs": [],
   "source": [
    "def Model():\n",
    "    inputs = keras.layers.Input(shape=(150, 150, 3))\n",
    "\n",
    "    x = keras.layers.Conv2D(32, (3,3), padding='same')(inputs)\n",
    "    x = keras.activations.relu(x)\n",
    "    x = keras.layers.MaxPooling2D(2, strides=2)(x)\n",
    "\n",
    "    x = keras.layers.Conv2D(32,(3,3), padding='same')(x)\n",
    "    x = keras.activations.relu(x)\n",
    "    x = keras.layers.MaxPooling2D(2, strides=2)(x)\n",
    "\n",
    "    x = keras.layers.Conv2D(32,(3,3), padding='same')(x)\n",
    "    x = keras.activations.relu(x)\n",
    "    x = keras.layers.MaxPooling2D(2, strides=2)(x)\n",
    "\n",
    "    x = keras.layers.GlobalAveragePooling2D()(x)\n",
    "    x = keras.layers.Dense(64, activation='relu')(x)\n",
    "    x = keras.layers.Dropout(0.1)(x)\n",
    "  \n",
    "    outputs = keras.layers.Dense(5, activation='softmax')(x)\n",
    "\n",
    "\n",
    "    return keras.models.Model(inputs=inputs, outputs=outputs)\n",
    "keras.backend.clear_session()\n",
    "model = Model()\n",
    "model.compile('Adam', 'categorical_crossentropy', metrics=['accuracy'])\n",
    "#model.summary()"
   ]
  },
  {
   "cell_type": "code",
   "execution_count": 108,
   "id": "written-import",
   "metadata": {},
   "outputs": [
    {
     "name": "stdout",
     "output_type": "stream",
     "text": [
      "Train on 20855 samples, validate on 5213 samples\n",
      "Epoch 1/40\n",
      "20855/20855 [==============================] - 713s 34ms/sample - loss: 1.1208 - accuracy: 0.4440 - val_loss: 1.0807 - val_accuracy: 0.4650\n",
      "Epoch 2/40\n",
      "20855/20855 [==============================] - 1050s 50ms/sample - loss: 1.0488 - accuracy: 0.4872 - val_loss: 1.0717 - val_accuracy: 0.4483\n",
      "Epoch 3/40\n",
      "20855/20855 [==============================] - 938s 45ms/sample - loss: 0.9894 - accuracy: 0.5471 - val_loss: 0.9718 - val_accuracy: 0.5958\n",
      "Epoch 4/40\n",
      "20855/20855 [==============================] - 817s 39ms/sample - loss: 0.9536 - accuracy: 0.5756 - val_loss: 0.9379 - val_accuracy: 0.5786\n",
      "Epoch 5/40\n",
      "20855/20855 [==============================] - 1000s 48ms/sample - loss: 0.9374 - accuracy: 0.5850 - val_loss: 0.9102 - val_accuracy: 0.6165\n",
      "Epoch 6/40\n",
      "20855/20855 [==============================] - 874s 42ms/sample - loss: 0.9221 - accuracy: 0.5966 - val_loss: 0.9649 - val_accuracy: 0.5782\n",
      "Epoch 7/40\n",
      "20855/20855 [==============================] - 845s 41ms/sample - loss: 0.9141 - accuracy: 0.6018 - val_loss: 0.9115 - val_accuracy: 0.5964\n",
      "Epoch 8/40\n",
      "20855/20855 [==============================] - 851s 41ms/sample - loss: 0.9045 - accuracy: 0.6072 - val_loss: 0.8831 - val_accuracy: 0.6213\n",
      "Epoch 9/40\n",
      "20855/20855 [==============================] - 801s 38ms/sample - loss: 0.8968 - accuracy: 0.6109 - val_loss: 0.8851 - val_accuracy: 0.6231\n",
      "Epoch 10/40\n",
      "20855/20855 [==============================] - 911s 44ms/sample - loss: 0.8932 - accuracy: 0.6079 - val_loss: 0.9103 - val_accuracy: 0.6171\n",
      "Epoch 11/40\n",
      "20855/20855 [==============================] - 9880s 474ms/sample - loss: 0.8854 - accuracy: 0.6150 - val_loss: 0.8890 - val_accuracy: 0.6238\n",
      "Epoch 12/40\n",
      "20855/20855 [==============================] - 1052s 50ms/sample - loss: 0.8799 - accuracy: 0.6215 - val_loss: 0.8743 - val_accuracy: 0.6152\n",
      "Epoch 13/40\n",
      "20855/20855 [==============================] - 1162s 56ms/sample - loss: 0.8802 - accuracy: 0.6195 - val_loss: 0.8815 - val_accuracy: 0.6271\n",
      "Epoch 14/40\n",
      "20855/20855 [==============================] - 924s 44ms/sample - loss: 0.8782 - accuracy: 0.6244 - val_loss: 0.9968 - val_accuracy: 0.5670\n",
      "Epoch 15/40\n",
      "20855/20855 [==============================] - 788s 38ms/sample - loss: 0.8770 - accuracy: 0.6251 - val_loss: 0.9025 - val_accuracy: 0.6319\n",
      "Epoch 16/40\n",
      "20855/20855 [==============================] - 815s 39ms/sample - loss: 0.8754 - accuracy: 0.6235 - val_loss: 0.8703 - val_accuracy: 0.6407\n",
      "Epoch 17/40\n",
      "20855/20855 [==============================] - 773s 37ms/sample - loss: 0.9218 - accuracy: 0.6296 - val_loss: 0.8840 - val_accuracy: 0.6305\n",
      "Epoch 18/40\n",
      "20855/20855 [==============================] - 919s 44ms/sample - loss: 0.8734 - accuracy: 0.6254 - val_loss: 0.8680 - val_accuracy: 0.6346\n",
      "Epoch 19/40\n",
      "20855/20855 [==============================] - 1017s 49ms/sample - loss: 0.8746 - accuracy: 0.6272 - val_loss: 0.9006 - val_accuracy: 0.6403\n",
      "Epoch 20/40\n",
      "20855/20855 [==============================] - 968s 46ms/sample - loss: 0.8718 - accuracy: 0.6307 - val_loss: 0.8917 - val_accuracy: 0.6204\n",
      "Epoch 21/40\n",
      "20855/20855 [==============================] - 878s 42ms/sample - loss: 0.8683 - accuracy: 0.6285 - val_loss: 0.8730 - val_accuracy: 0.6227\n",
      "Epoch 22/40\n",
      "20855/20855 [==============================] - 838s 40ms/sample - loss: 0.8694 - accuracy: 0.6297 - val_loss: 0.8737 - val_accuracy: 0.6259\n",
      "Epoch 23/40\n",
      "20855/20855 [==============================] - 746s 36ms/sample - loss: 0.8694 - accuracy: 0.6302 - val_loss: 0.8695 - val_accuracy: 0.6355\n",
      "Epoch 24/40\n",
      "20855/20855 [==============================] - 783s 38ms/sample - loss: 0.8594 - accuracy: 0.6317 - val_loss: 0.9950 - val_accuracy: 0.5977\n",
      "Epoch 25/40\n",
      "20855/20855 [==============================] - 880s 42ms/sample - loss: 0.8690 - accuracy: 0.6359 - val_loss: 0.8808 - val_accuracy: 0.6420\n",
      "Epoch 26/40\n",
      "20855/20855 [==============================] - 4949s 237ms/sample - loss: 0.9023 - accuracy: 0.6345 - val_loss: 0.8662 - val_accuracy: 0.6382\n",
      "Epoch 27/40\n",
      "20855/20855 [==============================] - 3524s 169ms/sample - loss: 0.8640 - accuracy: 0.6358 - val_loss: 0.8677 - val_accuracy: 0.6315\n",
      "Epoch 28/40\n",
      "20855/20855 [==============================] - 3474s 167ms/sample - loss: 0.8654 - accuracy: 0.6353 - val_loss: 0.8572 - val_accuracy: 0.6424\n",
      "Epoch 29/40\n",
      "20855/20855 [==============================] - 1120s 54ms/sample - loss: 0.8699 - accuracy: 0.6354 - val_loss: 0.8605 - val_accuracy: 0.6309\n",
      "Epoch 30/40\n",
      "20855/20855 [==============================] - 842s 40ms/sample - loss: 0.8712 - accuracy: 0.6355 - val_loss: 0.8750 - val_accuracy: 0.6409\n",
      "Epoch 31/40\n",
      "20855/20855 [==============================] - 771s 37ms/sample - loss: 0.8689 - accuracy: 0.6341 - val_loss: 0.8763 - val_accuracy: 0.6376\n",
      "Epoch 32/40\n",
      "20855/20855 [==============================] - 809s 39ms/sample - loss: 0.8672 - accuracy: 0.6317 - val_loss: 0.8559 - val_accuracy: 0.6399\n",
      "Epoch 33/40\n",
      "20855/20855 [==============================] - 874s 42ms/sample - loss: 0.8653 - accuracy: 0.6361 - val_loss: 0.9775 - val_accuracy: 0.6140\n",
      "Epoch 34/40\n",
      "20855/20855 [==============================] - 850s 41ms/sample - loss: 0.8649 - accuracy: 0.6360 - val_loss: 0.9039 - val_accuracy: 0.5939\n",
      "Epoch 35/40\n",
      "20855/20855 [==============================] - 839s 40ms/sample - loss: 0.8641 - accuracy: 0.6355 - val_loss: 0.9468 - val_accuracy: 0.6077\n",
      "Epoch 36/40\n",
      "20855/20855 [==============================] - 871s 42ms/sample - loss: 0.8639 - accuracy: 0.6376 - val_loss: 0.9360 - val_accuracy: 0.6144\n",
      "Epoch 37/40\n",
      "20855/20855 [==============================] - 1052s 50ms/sample - loss: 0.8645 - accuracy: 0.6356 - val_loss: 0.9168 - val_accuracy: 0.6204\n",
      "Epoch 38/40\n",
      "20855/20855 [==============================] - 955s 46ms/sample - loss: 0.8706 - accuracy: 0.6334 - val_loss: 0.8967 - val_accuracy: 0.6079\n",
      "Epoch 39/40\n",
      "20855/20855 [==============================] - 1090s 52ms/sample - loss: 0.8711 - accuracy: 0.6288 - val_loss: 0.8825 - val_accuracy: 0.6321\n",
      "Epoch 40/40\n",
      "20855/20855 [==============================] - 975s 47ms/sample - loss: 0.8749 - accuracy: 0.6311 - val_loss: 0.9432 - val_accuracy: 0.6181\n"
     ]
    }
   ],
   "source": [
    "# training the model for 10 epochs\n",
    "history =model.fit(X_train, Y_train, batch_size=1,epochs=40, validation_data=(X_test, Y_test))"
   ]
  },
  {
   "cell_type": "code",
   "execution_count": 109,
   "id": "collectible-charlotte",
   "metadata": {},
   "outputs": [
    {
     "name": "stdout",
     "output_type": "stream",
     "text": [
      "accuracy: 61.81%\n"
     ]
    }
   ],
   "source": [
    "score = model.evaluate(X_test, Y_test, verbose=0)\n",
    "# summarize model.\n",
    "print(\"%s: %.2f%%\" % (model.metrics_names[1], score[1]*100))"
   ]
  },
  {
   "cell_type": "code",
   "execution_count": 112,
   "id": "unknown-wright",
   "metadata": {},
   "outputs": [
    {
     "name": "stdout",
     "output_type": "stream",
     "text": [
      "[[ 662   92    0    0  129]\n",
      " [ 255 1184    0    0  875]\n",
      " [  32    7    0    0   10]\n",
      " [  21   36    0    0   46]\n",
      " [ 186  302    0    0 1376]]\n",
      "              precision    recall  f1-score   support\n",
      "\n",
      "           0       0.57      0.75      0.65       883\n",
      "           1       0.73      0.51      0.60      2314\n",
      "           2       0.00      0.00      0.00        49\n",
      "           3       0.00      0.00      0.00       103\n",
      "           4       0.56      0.74      0.64      1864\n",
      "\n",
      "    accuracy                           0.62      5213\n",
      "   macro avg       0.37      0.40      0.38      5213\n",
      "weighted avg       0.62      0.62      0.61      5213\n",
      "\n"
     ]
    },
    {
     "name": "stderr",
     "output_type": "stream",
     "text": [
      "/Library/Frameworks/Python.framework/Versions/3.8/lib/python3.8/site-packages/sklearn/metrics/_classification.py:1471: UndefinedMetricWarning: Precision and F-score are ill-defined and being set to 0.0 in labels with no predicted samples. Use `zero_division` parameter to control this behavior.\n",
      "  _warn_prf(average, modifier, msg_start, len(result))\n",
      "/Library/Frameworks/Python.framework/Versions/3.8/lib/python3.8/site-packages/sklearn/metrics/_classification.py:1471: UndefinedMetricWarning: Precision and F-score are ill-defined and being set to 0.0 in labels with no predicted samples. Use `zero_division` parameter to control this behavior.\n",
      "  _warn_prf(average, modifier, msg_start, len(result))\n",
      "/Library/Frameworks/Python.framework/Versions/3.8/lib/python3.8/site-packages/sklearn/metrics/_classification.py:1471: UndefinedMetricWarning: Precision and F-score are ill-defined and being set to 0.0 in labels with no predicted samples. Use `zero_division` parameter to control this behavior.\n",
      "  _warn_prf(average, modifier, msg_start, len(result))\n"
     ]
    }
   ],
   "source": [
    "from sklearn.metrics import confusion_matrix\n",
    "from sklearn.metrics import classification_report\n",
    "y_pred_p=model.predict(X_test)\n",
    "y_pred = np.argmax(y_pred_p, axis=1)\n",
    "print(confusion_matrix(y_test, y_pred))\n",
    "print(classification_report(y_test, y_pred))"
   ]
  },
  {
   "cell_type": "code",
   "execution_count": 117,
   "id": "through-execution",
   "metadata": {},
   "outputs": [
    {
     "data": {
      "text/plain": [
       "<sklearn.metrics._plot.confusion_matrix.ConfusionMatrixDisplay at 0x149c8fcd0>"
      ]
     },
     "execution_count": 117,
     "metadata": {},
     "output_type": "execute_result"
    },
    {
     "data": {
      "image/png": "[encoded data removed]",
      "text/plain": [
       "<Figure size 432x288 with 2 Axes>"
      ]
     },
     "metadata": {
      "needs_background": "light"
     },
     "output_type": "display_data"
    }
   ],
   "source": [
    "from sklearn.metrics import confusion_matrix, ConfusionMatrixDisplay\n",
    "cm = confusion_matrix(y_test, y_pred, labels=[0,1,2,3,4])\n",
    "disp = ConfusionMatrixDisplay(confusion_matrix=cm,display_labels=[0,1,2,3,4])\n",
    "disp.plot()\n"
   ]
  },
  {
   "cell_type": "markdown",
   "id": "annual-assurance",
   "metadata": {},
   "source": [
    "# Saving model"
   ]
  },
  {
   "cell_type": "code",
   "execution_count": 118,
   "id": "yellow-marathon",
   "metadata": {},
   "outputs": [
    {
     "name": "stdout",
     "output_type": "stream",
     "text": [
      "Model: \"model\"\n",
      "_________________________________________________________________\n",
      "Layer (type)                 Output Shape              Param #   \n",
      "=================================================================\n",
      "input_1 (InputLayer)         [(None, 150, 150, 3)]     0         \n",
      "_________________________________________________________________\n",
      "conv2d (Conv2D)              (None, 150, 150, 32)      896       \n",
      "_________________________________________________________________\n",
      "tf_op_layer_Relu (TensorFlow (None, 150, 150, 32)      0         \n",
      "_________________________________________________________________\n",
      "max_pooling2d (MaxPooling2D) (None, 75, 75, 32)        0         \n",
      "_________________________________________________________________\n",
      "conv2d_1 (Conv2D)            (None, 75, 75, 32)        9248      \n",
      "_________________________________________________________________\n",
      "tf_op_layer_Relu_1 (TensorFl (None, 75, 75, 32)        0         \n",
      "_________________________________________________________________\n",
      "max_pooling2d_1 (MaxPooling2 (None, 37, 37, 32)        0         \n",
      "_________________________________________________________________\n",
      "conv2d_2 (Conv2D)            (None, 37, 37, 32)        9248      \n",
      "_________________________________________________________________\n",
      "tf_op_layer_Relu_2 (TensorFl (None, 37, 37, 32)        0         \n",
      "_________________________________________________________________\n",
      "max_pooling2d_2 (MaxPooling2 (None, 18, 18, 32)        0         \n",
      "_________________________________________________________________\n",
      "global_average_pooling2d (Gl (None, 32)                0         \n",
      "_________________________________________________________________\n",
      "dense (Dense)                (None, 64)                2112      \n",
      "_________________________________________________________________\n",
      "dropout (Dropout)            (None, 64)                0         \n",
      "_________________________________________________________________\n",
      "dense_1 (Dense)              (None, 5)                 325       \n",
      "=================================================================\n",
      "Total params: 21,829\n",
      "Trainable params: 21,829\n",
      "Non-trainable params: 0\n",
      "_________________________________________________________________\n"
     ]
    }
   ],
   "source": [
    "from keras import models\n",
    "from numpy import loadtxt\n",
    "from tensorflow.keras.models import save_model\n",
    "save_model(model, \"model1.h5\")\n",
    "# load and evaluate a saved model\n",
    "loaded_model = models.load_model('model1.h5')\n",
    "# summarize model.\n",
    "loaded_model.summary()"
   ]
  },
  {
   "cell_type": "code",
   "execution_count": 138,
   "id": "ranking-invitation",
   "metadata": {},
   "outputs": [
    {
     "name": "stderr",
     "output_type": "stream",
     "text": [
      "/Library/Frameworks/Python.framework/Versions/3.8/lib/python3.8/site-packages/tensorflow/python/keras/engine/training.py:2325: UserWarning: `Model.state_updates` will be removed in a future version. This property should not be used in TensorFlow 2.0, as `updates` are applied automatically.\n",
      "  warnings.warn('`Model.state_updates` will be removed in a future version. '\n"
     ]
    },
    {
     "data": {
      "text/plain": [
       "array([0, 4, 4, ..., 1, 1, 4])"
      ]
     },
     "execution_count": 138,
     "metadata": {},
     "output_type": "execute_result"
    }
   ],
   "source": [
    "model=loaded_model\n",
    "train_pred_p=model.predict(X_train)\n",
    "train_pred = np.argmax(train_pred_p, axis=1)\n",
    "train_pred "
   ]
  },
  {
   "cell_type": "code",
   "execution_count": 140,
   "id": "occupational-elevation",
   "metadata": {},
   "outputs": [
    {
     "name": "stdout",
     "output_type": "stream",
     "text": [
      "[[2798  401    0    0  434]\n",
      " [ 948 4992    0    0 3369]\n",
      " [ 146   31    0    0   46]\n",
      " [  51  123    0    3  139]\n",
      " [ 663 1199    0    0 5512]]\n"
     ]
    }
   ],
   "source": [
    "print(confusion_matrix(y_train, train_pred))"
   ]
  },
  {
   "cell_type": "code",
   "execution_count": null,
   "id": "individual-bracket",
   "metadata": {},
   "outputs": [],
   "source": [
    "X"
   ]
  },
  {
   "cell_type": "code",
   "execution_count": 134,
   "id": "regulated-wiring",
   "metadata": {},
   "outputs": [
    {
     "data": {
      "text/plain": [
       "array([1, 1, 1, ..., 1, 1, 1])"
      ]
     },
     "execution_count": 134,
     "metadata": {},
     "output_type": "execute_result"
    }
   ],
   "source": [
    "test_pred_p=model.predict(X_test)\n",
    "test_pred = np.argmax(test_pred_p, axis=1)\n",
    "test_pred "
   ]
  },
  {
   "cell_type": "code",
   "execution_count": 119,
   "id": "instructional-potato",
   "metadata": {},
   "outputs": [
    {
     "name": "stderr",
     "output_type": "stream",
     "text": [
      "/Library/Frameworks/Python.framework/Versions/3.8/lib/python3.8/site-packages/tensorflow/python/keras/engine/training.py:2325: UserWarning: `Model.state_updates` will be removed in a future version. This property should not be used in TensorFlow 2.0, as `updates` are applied automatically.\n",
      "  warnings.warn('`Model.state_updates` will be removed in a future version. '\n"
     ]
    },
    {
     "name": "stdout",
     "output_type": "stream",
     "text": [
      "accuracy: 61.81%\n"
     ]
    }
   ],
   "source": [
    "score = loaded_model.evaluate(X_test, Y_test, verbose=0)\n",
    "# summarize model.\n",
    "print(\"%s: %.2f%%\" % (loaded_model.metrics_names[1], score[1]*100))"
   ]
  },
  {
   "cell_type": "markdown",
   "id": "marine-copying",
   "metadata": {},
   "source": [
    "# data augmentation\n",
    "datagen = ImageDataGenerator(\n",
    "        featurewise_center=True,  # set input mean to 0 over the dataset\n",
    "        samplewise_center=False,  # set each sample mean to 0\n",
    "        featurewise_std_normalization=True,  # divide inputs by std of the dataset\n",
    "        samplewise_std_normalization=False,  # divide each input by its std\n",
    "        zca_whitening=False,  # dimesion reduction\n",
    "        rotation_range=30,  # randomly rotate images in the range 5 degrees\n",
    "        zoom_range = 0.3, # Randomly zoom image 10%\n",
    "        width_shift_range=0.3,  # randomly shift images horizontally 10%\n",
    "        height_shift_range=0.4,  # randomly shift images vertically 10%\n",
    "        horizontal_flip=True,  # randomly flip images\n",
    "        vertical_flip=True)  # randomly flip images\n",
    "datagen.fit(X_train)"
   ]
  },
  {
   "cell_type": "markdown",
   "id": "median-approval",
   "metadata": {},
   "source": [
    "import ssl\n",
    "\n",
    "ssl._create_default_https_context = ssl._create_unverified_context"
   ]
  },
  {
   "cell_type": "markdown",
   "id": "sealed-federation",
   "metadata": {},
   "source": [
    "model=Sequential()      \n",
    "Pre_trained_model= ResNet50(include_top=False, weights='imagenet', \n",
    "                            pooling='avg',classes=5,input_shape=(150,150,3))\n",
    "for layer in Pre_trained_model.layers:\n",
    "    layer.trainable=False\n",
    "model.add(Pre_trained_model)\n",
    "model.add(Flatten())\n",
    "model.add(BatchNormalization())\n",
    "model.add(Dense(512, activation='relu'))\n",
    "model.add(Dense(5, activation='softmax')) \n",
    "model.compile(loss='categorical_crossentropy', metrics=['accuracy'], optimizer=Adam(lr=0.001))"
   ]
  },
  {
   "cell_type": "markdown",
   "id": "forced-natural",
   "metadata": {},
   "source": [
    "model.fit(X_train, Y_train, batch_size=24,\n",
    "                        validation_data=(X_test, Y_test),\n",
    "                        epochs=10)"
   ]
  },
  {
   "cell_type": "markdown",
   "id": "partial-flood",
   "metadata": {},
   "source": [
    "from sklearn.metrics import log_loss\n",
    "Pred=model.predict(X_test)\n",
    "Loss=log_loss(Pred,Y_test)"
   ]
  },
  {
   "cell_type": "code",
   "execution_count": 120,
   "id": "speaking-expense",
   "metadata": {},
   "outputs": [
    {
     "data": {
      "text/plain": [
       "((8663, 5), (5213, 5))"
      ]
     },
     "execution_count": 120,
     "metadata": {},
     "output_type": "execute_result"
    }
   ],
   "source": [
    "Pred.shape,Y_test.shape"
   ]
  },
  {
   "cell_type": "code",
   "execution_count": 121,
   "id": "killing-dodge",
   "metadata": {},
   "outputs": [],
   "source": [
    "pred=model.predict(Test)"
   ]
  },
  {
   "cell_type": "code",
   "execution_count": 123,
   "id": "corporate-reynolds",
   "metadata": {},
   "outputs": [
    {
     "data": {
      "text/html": [
       "<div>\n",
       "<style scoped>\n",
       "    .dataframe tbody tr th:only-of-type {\n",
       "        vertical-align: middle;\n",
       "    }\n",
       "\n",
       "    .dataframe tbody tr th {\n",
       "        vertical-align: top;\n",
       "    }\n",
       "\n",
       "    .dataframe thead th {\n",
       "        text-align: right;\n",
       "    }\n",
       "</style>\n",
       "<table border=\"1\" class=\"dataframe\">\n",
       "  <thead>\n",
       "    <tr style=\"text-align: right;\">\n",
       "      <th></th>\n",
       "      <th>ID</th>\n",
       "      <th>DR</th>\n",
       "      <th>G</th>\n",
       "      <th>ND</th>\n",
       "      <th>WD</th>\n",
       "      <th>other</th>\n",
       "    </tr>\n",
       "  </thead>\n",
       "  <tbody>\n",
       "    <tr>\n",
       "      <th>0</th>\n",
       "      <td>ID_QW9GQM</td>\n",
       "      <td>0.663280</td>\n",
       "      <td>0.161265</td>\n",
       "      <td>5.029074e-02</td>\n",
       "      <td>0.117644</td>\n",
       "      <td>7.519532e-03</td>\n",
       "    </tr>\n",
       "    <tr>\n",
       "      <th>1</th>\n",
       "      <td>ID_G9VPQ9</td>\n",
       "      <td>0.895024</td>\n",
       "      <td>0.099911</td>\n",
       "      <td>1.679032e-06</td>\n",
       "      <td>0.005064</td>\n",
       "      <td>7.742774e-11</td>\n",
       "    </tr>\n",
       "    <tr>\n",
       "      <th>2</th>\n",
       "      <td>ID_QIMIEM</td>\n",
       "      <td>0.021352</td>\n",
       "      <td>0.953264</td>\n",
       "      <td>8.458109e-12</td>\n",
       "      <td>0.025384</td>\n",
       "      <td>1.323434e-10</td>\n",
       "    </tr>\n",
       "    <tr>\n",
       "      <th>3</th>\n",
       "      <td>ID_TSINUQ</td>\n",
       "      <td>0.000115</td>\n",
       "      <td>0.985767</td>\n",
       "      <td>2.105870e-21</td>\n",
       "      <td>0.014118</td>\n",
       "      <td>6.537254e-16</td>\n",
       "    </tr>\n",
       "    <tr>\n",
       "      <th>4</th>\n",
       "      <td>ID_I7OOHH</td>\n",
       "      <td>0.009630</td>\n",
       "      <td>0.427475</td>\n",
       "      <td>1.124914e-08</td>\n",
       "      <td>0.534736</td>\n",
       "      <td>2.815915e-02</td>\n",
       "    </tr>\n",
       "  </tbody>\n",
       "</table>\n",
       "</div>"
      ],
      "text/plain": [
       "          ID        DR         G            ND        WD         other\n",
       "0  ID_QW9GQM  0.663280  0.161265  5.029074e-02  0.117644  7.519532e-03\n",
       "1  ID_G9VPQ9  0.895024  0.099911  1.679032e-06  0.005064  7.742774e-11\n",
       "2  ID_QIMIEM  0.021352  0.953264  8.458109e-12  0.025384  1.323434e-10\n",
       "3  ID_TSINUQ  0.000115  0.985767  2.105870e-21  0.014118  6.537254e-16\n",
       "4  ID_I7OOHH  0.009630  0.427475  1.124914e-08  0.534736  2.815915e-02"
      ]
     },
     "execution_count": 123,
     "metadata": {},
     "output_type": "execute_result"
    }
   ],
   "source": [
    "keys=Test_fn\n",
    "values=pred\n",
    "my_dict = dict(zip(keys, values))\n",
    "sub=pd.read_csv('test.csv')\n",
    "filenames=sub['filename'].to_list()\n",
    "Pred1=[my_dict[filenames[i]] for i in range(len(filenames))]\n",
    "\n",
    "Pred=pd.DataFrame(data=Pred1, columns=['DR','G','ND','other','WD'])\n",
    "submission = pd.concat([sub, Pred], axis=1)\n",
    "columns=['ID','DR','G','ND','WD','other']\n",
    "submission=submission[columns]\n",
    "# Create submission csv file csv file\n",
    "submission.to_csv('submission5.csv', index = False)\n",
    "\n",
    "submission.head()"
   ]
  },
  {
   "cell_type": "code",
   "execution_count": null,
   "id": "friendly-variable",
   "metadata": {},
   "outputs": [],
   "source": []
  },
  {
   "cell_type": "code",
   "execution_count": null,
   "id": "authentic-african",
   "metadata": {},
   "outputs": [],
   "source": []
  }
 ],
 "metadata": {
  "kernelspec": {
   "display_name": "Python 3",
   "language": "python",
   "name": "python3"
  },
  "language_info": {
   "codemirror_mode": {
    "name": "ipython",
    "version": 3
   },
   "file_extension": ".py",
   "mimetype": "text/x-python",
   "name": "python",
   "nbconvert_exporter": "python",
   "pygments_lexer": "ipython3",
   "version": "3.8.6"
  }
 },
 "nbformat": 4,
 "nbformat_minor": 5
}
