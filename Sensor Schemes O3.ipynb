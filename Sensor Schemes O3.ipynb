{
 "cells": [
  {
   "cell_type": "markdown",
   "id": "correct-saskatchewan",
   "metadata": {},
   "source": [
    "# DATA"
   ]
  },
  {
   "cell_type": "code",
   "execution_count": 219,
   "id": "exact-shame",
   "metadata": {},
   "outputs": [],
   "source": [
    "import pandas as pd\n",
    "Ref=pd.read_csv('Ref.csv')\n",
    "Ref[\"CO\"] = 1000 * Ref[\"CO\"]\n",
    "Ref['Date'] = pd.to_datetime(Ref['Date_Time'])\n",
    "Ref=Ref.set_index('Date')\n",
    "Ref.drop('Date_Time',axis = 1, inplace = True)\n",
    "Ref=Ref.resample('5min').mean()\n",
    "Ref=Ref[76463:137376]\n",
    "Ref_CO=Ref['CO'].to_list()\n",
    "Ref_NO2=Ref['NO2'].to_list()\n",
    "Ref_SO2=Ref['SO2'].to_list()\n",
    "Ref_O3=Ref['O3'].to_list()"
   ]
  },
  {
   "cell_type": "code",
   "execution_count": 220,
   "id": "mental-feelings",
   "metadata": {},
   "outputs": [],
   "source": [
    "import pandas as pd\n",
    "import scipy.io\n",
    "import numpy as np\n",
    "data = pd.read_csv('NO2.txt', header = None,low_memory=False)\n",
    "data.columns=['WE','AE','Temp','RH','Time']\n",
    "Time=data['Time'].to_list()\n",
    "time=[]\n",
    "for i in range(len(Time)):\n",
    "    time.append(float(abs(Time[i])))\n",
    "Time=np.array(time)\n",
    "Date=pd.to_datetime(Time-719529,unit='d').round('s')\n",
    "data['Date'] = Date.tolist()\n",
    "data=data.set_index('Date')\n",
    "data.drop('Time',axis = 1, inplace = True)\n",
    "data=data.resample('5min').mean()\n",
    "Data_NO2=data\n",
    "Data_NO2['Ref']=Ref_NO2\n",
    "WE=Data_NO2['WE'].to_list()\n",
    "AE=Data_NO2['AE'].to_list()\n",
    "signal=np.array(WE)-np.array(AE)\n",
    "Data_NO2['Net Signal']=signal\n",
    "Data_NO2['Month']=Data_NO2.index.month\n",
    "Data_NO2['Day_of_week']=Data_NO2.index.dayofweek\n",
    "Data_NO2['Day']=Data_NO2.index.day\n",
    "Data_NO2['Hour']=Data_NO2.index.hour\n",
    "NO2_Data=Data_NO2\n",
    "NO2_Data=NO2_Data[(NO2_Data[NO2_Data.columns] >= 0).all(axis=1)]\n",
    "NO2_Data=NO2_Data.dropna()\n",
    "data = pd.read_csv('Conc_NO2.txt', header = None,low_memory=False)\n",
    "data.columns=['Lab1','Temp','RH','Time','Ref']\n",
    "Time=data['Time'].to_list()\n",
    "time=[]\n",
    "subscript = str.maketrans(\"0123456789\", \"₀₁₂₃₄₅₆₇₈₉\") \n",
    "for i in range(len(Time)):\n",
    "    time.append(float(abs(Time[i])))\n",
    "Time=np.array(time)\n",
    "Date=pd.to_datetime(Time-719529,unit='d').round('s')\n",
    "data['Date'] = Date.tolist()\n",
    "data=data.set_index('Date')\n",
    "data.drop('Time',axis = 1, inplace = True)\n",
    "data=data.resample('5min').mean()\n",
    "Data_NO2=data\n",
    "signal=np.array(WE)-np.array(AE)\n",
    "Data_NO2['Net Signal']=signal\n",
    "Data_NO2['Month']=Data_NO2.index.month\n",
    "Data_NO2['Day_of_week']=Data_NO2.index.dayofweek\n",
    "Data_NO2['Day']=Data_NO2.index.day\n",
    "Data_NO2['Hour']=Data_NO2.index.hour\n",
    "NO2_Data=Data_NO2\n",
    "NO2_Data=NO2_Data[(NO2_Data[NO2_Data.columns] >= 0).all(axis=1)]\n",
    "NO2_Data=NO2_Data.dropna()"
   ]
  },
  {
   "cell_type": "code",
   "execution_count": 221,
   "id": "linear-communications",
   "metadata": {},
   "outputs": [
    {
     "data": {
      "text/html": [
       "<div>\n",
       "<style scoped>\n",
       "    .dataframe tbody tr th:only-of-type {\n",
       "        vertical-align: middle;\n",
       "    }\n",
       "\n",
       "    .dataframe tbody tr th {\n",
       "        vertical-align: top;\n",
       "    }\n",
       "\n",
       "    .dataframe thead th {\n",
       "        text-align: right;\n",
       "    }\n",
       "</style>\n",
       "<table border=\"1\" class=\"dataframe\">\n",
       "  <thead>\n",
       "    <tr style=\"text-align: right;\">\n",
       "      <th></th>\n",
       "      <th>Lab1</th>\n",
       "      <th>Temp</th>\n",
       "      <th>RH</th>\n",
       "      <th>Ref</th>\n",
       "      <th>Net Signal</th>\n",
       "      <th>Month</th>\n",
       "      <th>Day_of_week</th>\n",
       "      <th>Day</th>\n",
       "      <th>Hour</th>\n",
       "      <th>Ref_NO2</th>\n",
       "    </tr>\n",
       "    <tr>\n",
       "      <th>Date</th>\n",
       "      <th></th>\n",
       "      <th></th>\n",
       "      <th></th>\n",
       "      <th></th>\n",
       "      <th></th>\n",
       "      <th></th>\n",
       "      <th></th>\n",
       "      <th></th>\n",
       "      <th></th>\n",
       "      <th></th>\n",
       "    </tr>\n",
       "  </thead>\n",
       "  <tbody>\n",
       "    <tr>\n",
       "      <th>2019-10-02 11:55:00</th>\n",
       "      <td>621.625704</td>\n",
       "      <td>26.378438</td>\n",
       "      <td>58.063437</td>\n",
       "      <td>46.094860</td>\n",
       "      <td>3.605625</td>\n",
       "      <td>10</td>\n",
       "      <td>2</td>\n",
       "      <td>2</td>\n",
       "      <td>11</td>\n",
       "      <td>15.230400</td>\n",
       "    </tr>\n",
       "    <tr>\n",
       "      <th>2019-10-02 12:10:00</th>\n",
       "      <td>1788.609900</td>\n",
       "      <td>25.500000</td>\n",
       "      <td>48.612609</td>\n",
       "      <td>55.810810</td>\n",
       "      <td>3.528696</td>\n",
       "      <td>10</td>\n",
       "      <td>2</td>\n",
       "      <td>2</td>\n",
       "      <td>12</td>\n",
       "      <td>6.665136</td>\n",
       "    </tr>\n",
       "    <tr>\n",
       "      <th>2019-10-02 12:15:00</th>\n",
       "      <td>287.254970</td>\n",
       "      <td>25.765087</td>\n",
       "      <td>48.441408</td>\n",
       "      <td>57.907075</td>\n",
       "      <td>17.781453</td>\n",
       "      <td>10</td>\n",
       "      <td>2</td>\n",
       "      <td>2</td>\n",
       "      <td>12</td>\n",
       "      <td>6.642805</td>\n",
       "    </tr>\n",
       "    <tr>\n",
       "      <th>2019-10-02 12:20:00</th>\n",
       "      <td>99.598353</td>\n",
       "      <td>26.120078</td>\n",
       "      <td>47.716553</td>\n",
       "      <td>58.880540</td>\n",
       "      <td>20.285180</td>\n",
       "      <td>10</td>\n",
       "      <td>2</td>\n",
       "      <td>2</td>\n",
       "      <td>12</td>\n",
       "      <td>2.844210</td>\n",
       "    </tr>\n",
       "    <tr>\n",
       "      <th>2019-10-07 10:50:00</th>\n",
       "      <td>105.723457</td>\n",
       "      <td>32.399528</td>\n",
       "      <td>37.143389</td>\n",
       "      <td>48.533490</td>\n",
       "      <td>11.862076</td>\n",
       "      <td>10</td>\n",
       "      <td>0</td>\n",
       "      <td>7</td>\n",
       "      <td>10</td>\n",
       "      <td>4.344894</td>\n",
       "    </tr>\n",
       "  </tbody>\n",
       "</table>\n",
       "</div>"
      ],
      "text/plain": [
       "                            Lab1       Temp         RH        Ref  Net Signal  \\\n",
       "Date                                                                            \n",
       "2019-10-02 11:55:00   621.625704  26.378438  58.063437  46.094860    3.605625   \n",
       "2019-10-02 12:10:00  1788.609900  25.500000  48.612609  55.810810    3.528696   \n",
       "2019-10-02 12:15:00   287.254970  25.765087  48.441408  57.907075   17.781453   \n",
       "2019-10-02 12:20:00    99.598353  26.120078  47.716553  58.880540   20.285180   \n",
       "2019-10-07 10:50:00   105.723457  32.399528  37.143389  48.533490   11.862076   \n",
       "\n",
       "                     Month  Day_of_week  Day  Hour    Ref_NO2  \n",
       "Date                                                           \n",
       "2019-10-02 11:55:00     10            2    2    11  15.230400  \n",
       "2019-10-02 12:10:00     10            2    2    12   6.665136  \n",
       "2019-10-02 12:15:00     10            2    2    12   6.642805  \n",
       "2019-10-02 12:20:00     10            2    2    12   2.844210  \n",
       "2019-10-07 10:50:00     10            0    7    10   4.344894  "
      ]
     },
     "execution_count": 221,
     "metadata": {},
     "output_type": "execute_result"
    }
   ],
   "source": [
    "import pandas as pd\n",
    "import scipy.io\n",
    "import numpy as np\n",
    "data = pd.read_csv('O3.txt', header = None,low_memory=False)\n",
    "data.columns=['AE','WE','Temp','RH','Time']\n",
    "Time=data['Time'].to_list()\n",
    "time=[]\n",
    "for i in range(len(Time)):\n",
    "    time.append(float(abs(Time[i])))\n",
    "Time=np.array(time)\n",
    "Date=pd.to_datetime(Time-719529,unit='d').round('s')\n",
    "data['Date'] = Date.tolist()\n",
    "data=data.set_index('Date')\n",
    "data.drop('Time',axis = 1, inplace = True)\n",
    "data=data.resample('5min').mean()\n",
    "Data_O3=data\n",
    "Data_O3['Ref']=Ref_O3\n",
    "WE=Data_O3['WE'].to_list()\n",
    "AE=Data_O3['AE'].to_list()\n",
    "signal=np.array(WE)-np.array(AE)\n",
    "Data_O3['Net Signal']=signal\n",
    "Data_O3['Month']=Data_O3.index.month\n",
    "Data_O3['Day_of_week']=Data_O3.index.dayofweek\n",
    "Data_O3['Day']=Data_O3.index.day\n",
    "Data_O3['Hour']=Data_O3.index.hour\n",
    "O3_Data=Data_O3\n",
    "O3_Data=O3_Data[(O3_Data[O3_Data.columns] >= 0).all(axis=1)]\n",
    "O3_Data=O3_Data.dropna()\n",
    "data = pd.read_csv('Conc_O3.txt', header = None,low_memory=False)\n",
    "data.columns=['Lab1','Temp','RH','Time','Ref']\n",
    "Time=data['Time'].to_list()\n",
    "time=[]\n",
    "for i in range(len(Time)):\n",
    "    time.append(float(abs(Time[i])))\n",
    "Time=np.array(time)\n",
    "Date=pd.to_datetime(Time-719529,unit='d').round('s')\n",
    "data['Date'] = Date.tolist()\n",
    "data=data.set_index('Date')\n",
    "data.drop('Time',axis = 1, inplace = True)\n",
    "data=data.resample('5min').mean()\n",
    "Data_O3=data\n",
    "signal=np.array(WE)-np.array(AE)\n",
    "Data_O3['Net Signal']=signal\n",
    "Data_O3['Month']=Data_O3.index.month\n",
    "Data_O3['Day_of_week']=Data_O3.index.dayofweek\n",
    "Data_O3['Day']=Data_O3.index.day\n",
    "Data_O3['Hour']=Data_O3.index.hour\n",
    "ref_NO2=Data_NO2['Ref'].to_list()\n",
    "Data_O3['Ref_NO2']=ref_NO2\n",
    "O3_Data=Data_O3\n",
    "O3_Data=O3_Data[(O3_Data[O3_Data.columns] >= 0).all(axis=1)]\n",
    "O3_Data=O3_Data.dropna()\n",
    "\n",
    "O3_Data.head()"
   ]
  },
  {
   "cell_type": "code",
   "execution_count": 222,
   "id": "vital-wales",
   "metadata": {},
   "outputs": [],
   "source": [
    "def MBE(true,pred):\n",
    "    true=np.array(true)\n",
    "    pred=np.array(pred)\n",
    "    mbe=np.mean(true-pred)\n",
    "    return mbe\n",
    "def CRMSE(true,pred):\n",
    "    true=np.array(true)\n",
    "    pred=np.array(pred)\n",
    "    crmse=np.sqrt(np.mean(((true-np.mean(true))-(pred-np.mean(pred)))**2))\n",
    "    if np.std(pred)>np.std(true):\n",
    "        crmse=crmse\n",
    "    else:\n",
    "        crmse=-crmse\n",
    "    return crmse\n",
    "def relative_mean_absolute_error(y_true, y_pred):\n",
    "    y_true, y_pred = np.array(y_true), np.array(y_pred)\n",
    "    return np.mean(np.abs((y_true - y_pred) / y_true)) \n",
    "def sMAE(true,pred):\n",
    "    true=np.array(true)\n",
    "    pred=np.array(pred)\n",
    "    smae=np.mean(abs(true-pred)/((abs(true)+abs(pred))/2))\n",
    "    return smae"
   ]
  },
  {
   "cell_type": "code",
   "execution_count": 223,
   "id": "assisted-abuse",
   "metadata": {},
   "outputs": [
    {
     "data": {
      "text/html": [
       "<div>\n",
       "<style scoped>\n",
       "    .dataframe tbody tr th:only-of-type {\n",
       "        vertical-align: middle;\n",
       "    }\n",
       "\n",
       "    .dataframe tbody tr th {\n",
       "        vertical-align: top;\n",
       "    }\n",
       "\n",
       "    .dataframe thead th {\n",
       "        text-align: right;\n",
       "    }\n",
       "</style>\n",
       "<table border=\"1\" class=\"dataframe\">\n",
       "  <thead>\n",
       "    <tr style=\"text-align: right;\">\n",
       "      <th></th>\n",
       "      <th>Lab1</th>\n",
       "      <th>Temp</th>\n",
       "      <th>RH</th>\n",
       "      <th>Ref</th>\n",
       "      <th>Net Signal</th>\n",
       "      <th>Month</th>\n",
       "      <th>Day_of_week</th>\n",
       "      <th>Day</th>\n",
       "      <th>Hour</th>\n",
       "      <th>Ref_NO2</th>\n",
       "    </tr>\n",
       "    <tr>\n",
       "      <th>Date</th>\n",
       "      <th></th>\n",
       "      <th></th>\n",
       "      <th></th>\n",
       "      <th></th>\n",
       "      <th></th>\n",
       "      <th></th>\n",
       "      <th></th>\n",
       "      <th></th>\n",
       "      <th></th>\n",
       "      <th></th>\n",
       "    </tr>\n",
       "  </thead>\n",
       "  <tbody>\n",
       "    <tr>\n",
       "      <th>2020-04-15 00:05:00</th>\n",
       "      <td>44.917014</td>\n",
       "      <td>13.431545</td>\n",
       "      <td>76.529274</td>\n",
       "      <td>40.104443</td>\n",
       "      <td>8.019504</td>\n",
       "      <td>4</td>\n",
       "      <td>2</td>\n",
       "      <td>15</td>\n",
       "      <td>0</td>\n",
       "      <td>3.023903</td>\n",
       "    </tr>\n",
       "    <tr>\n",
       "      <th>2020-04-13 06:50:00</th>\n",
       "      <td>73.987514</td>\n",
       "      <td>14.091111</td>\n",
       "      <td>65.490370</td>\n",
       "      <td>9.593248</td>\n",
       "      <td>6.687685</td>\n",
       "      <td>4</td>\n",
       "      <td>0</td>\n",
       "      <td>13</td>\n",
       "      <td>6</td>\n",
       "      <td>39.990980</td>\n",
       "    </tr>\n",
       "    <tr>\n",
       "      <th>2020-04-19 02:20:00</th>\n",
       "      <td>48.443615</td>\n",
       "      <td>14.316714</td>\n",
       "      <td>66.460286</td>\n",
       "      <td>41.787500</td>\n",
       "      <td>7.452571</td>\n",
       "      <td>4</td>\n",
       "      <td>6</td>\n",
       "      <td>19</td>\n",
       "      <td>2</td>\n",
       "      <td>1.364075</td>\n",
       "    </tr>\n",
       "    <tr>\n",
       "      <th>2020-04-10 16:55:00</th>\n",
       "      <td>91.020223</td>\n",
       "      <td>15.370042</td>\n",
       "      <td>83.599321</td>\n",
       "      <td>24.620553</td>\n",
       "      <td>3.183185</td>\n",
       "      <td>4</td>\n",
       "      <td>4</td>\n",
       "      <td>10</td>\n",
       "      <td>16</td>\n",
       "      <td>20.974047</td>\n",
       "    </tr>\n",
       "    <tr>\n",
       "      <th>2020-04-16 00:30:00</th>\n",
       "      <td>60.000926</td>\n",
       "      <td>13.279128</td>\n",
       "      <td>70.351932</td>\n",
       "      <td>24.010835</td>\n",
       "      <td>7.873441</td>\n",
       "      <td>4</td>\n",
       "      <td>3</td>\n",
       "      <td>16</td>\n",
       "      <td>0</td>\n",
       "      <td>7.139485</td>\n",
       "    </tr>\n",
       "  </tbody>\n",
       "</table>\n",
       "</div>"
      ],
      "text/plain": [
       "                          Lab1       Temp         RH        Ref  Net Signal  \\\n",
       "Date                                                                          \n",
       "2020-04-15 00:05:00  44.917014  13.431545  76.529274  40.104443    8.019504   \n",
       "2020-04-13 06:50:00  73.987514  14.091111  65.490370   9.593248    6.687685   \n",
       "2020-04-19 02:20:00  48.443615  14.316714  66.460286  41.787500    7.452571   \n",
       "2020-04-10 16:55:00  91.020223  15.370042  83.599321  24.620553    3.183185   \n",
       "2020-04-16 00:30:00  60.000926  13.279128  70.351932  24.010835    7.873441   \n",
       "\n",
       "                     Month  Day_of_week  Day  Hour    Ref_NO2  \n",
       "Date                                                           \n",
       "2020-04-15 00:05:00      4            2   15     0   3.023903  \n",
       "2020-04-13 06:50:00      4            0   13     6  39.990980  \n",
       "2020-04-19 02:20:00      4            6   19     2   1.364075  \n",
       "2020-04-10 16:55:00      4            4   10    16  20.974047  \n",
       "2020-04-16 00:30:00      4            3   16     0   7.139485  "
      ]
     },
     "execution_count": 223,
     "metadata": {},
     "output_type": "execute_result"
    }
   ],
   "source": [
    "df1=[x for _, x in O3_Data.groupby('Month')]\n",
    "data_oct=df1[4]\n",
    "data_oct=data_oct.sample(frac=1)\n",
    "data_nov=df1[5]\n",
    "data_nov=data_nov.sample(frac=1)\n",
    "data_dec=df1[6]\n",
    "data_dec=data_dec.sample(frac=1)\n",
    "data_jan=df1[0]\n",
    "data_jan=data_jan.sample(frac=1)\n",
    "data_feb=df1[1]\n",
    "data_feb=data_feb.sample(frac=1)\n",
    "data_mar=df1[2]\n",
    "data_mar=data_mar.sample(frac=1)\n",
    "data_apr=df1[3]\n",
    "data_apr=data_apr.sample(frac=1)\n",
    "data=[data_oct,data_nov,data_dec,data_jan,data_feb,data_mar]\n",
    "data_apr.head()"
   ]
  },
  {
   "cell_type": "code",
   "execution_count": 224,
   "id": "viral-smell",
   "metadata": {},
   "outputs": [],
   "source": [
    "data_Oct=data_oct.resample('h').mean()\n",
    "data_Oct=data_Oct.dropna()\n",
    "data_Nov=data_nov.resample('h').mean()\n",
    "data_Nov=data_Nov.dropna()\n",
    "data_Dec=data_dec.resample('h').mean()\n",
    "data_Dec=data_Dec.dropna()\n",
    "data_Jan=data_jan.resample('h').mean()\n",
    "data_Jan=data_Jan.dropna()\n",
    "data_Feb=data_feb.resample('h').mean()\n",
    "data_Feb=data_Feb.dropna()\n",
    "data_Mar=data_mar.resample('h').mean()\n",
    "data_Mar=data_Mar.dropna()\n",
    "data_Apr=data_apr.resample('h').mean()\n",
    "data_Apr=data_Apr.dropna()"
   ]
  },
  {
   "cell_type": "markdown",
   "id": "foreign-michael",
   "metadata": {},
   "source": [
    "# Mothly schemes"
   ]
  },
  {
   "cell_type": "markdown",
   "id": "adult-interstate",
   "metadata": {},
   "source": [
    "# Oct 2019"
   ]
  },
  {
   "cell_type": "code",
   "execution_count": 225,
   "id": "integrated-polish",
   "metadata": {},
   "outputs": [],
   "source": [
    "from sklearn.metrics import mean_absolute_error\n",
    "from sklearn.model_selection import train_test_split\n",
    "from sklearn.linear_model import LinearRegression\n",
    "import sklearn.metrics as sm\n",
    "import matplotlib.pyplot as plt"
   ]
  },
  {
   "cell_type": "code",
   "execution_count": 226,
   "id": "disciplinary-marketplace",
   "metadata": {},
   "outputs": [
    {
     "data": {
      "text/plain": [
       "(60, 8)"
      ]
     },
     "execution_count": 226,
     "metadata": {},
     "output_type": "execute_result"
    }
   ],
   "source": [
    "#,'Month','Day_of_week','Day','Hour'\n",
    "X=data_oct[['Net Signal','Lab1','Temp','RH','Month','Day_of_week','Day','Hour','Ref_NO2']]\n",
    "y=data_oct['Ref']\n",
    "X=data_Oct[['Net Signal','Temp','RH','Month','Day_of_week','Day','Hour','Ref_NO2']]\n",
    "y=data_Oct['Ref']\n",
    "X_Train=X[:X.shape[0]-60]\n",
    "X_Test=X[X.shape[0]-60:]\n",
    "y_Train=y[:X.shape[0]-60]\n",
    "y_Test=y[X.shape[0]-60:]\n",
    "X_train, X_test, y_train, y_test=train_test_split(X_Train,y_Train,test_size=0.001)\n",
    "X_test=X_Test\n",
    "y_test=y_Test\n",
    "A=np.array(y)/np.mean(y)\n",
    "A=sorted(A, reverse=True)\n",
    "sum1=sum(A[:100])\n",
    "mean1=np.std(y)/np.mean(y)\n",
    "X_test.shape"
   ]
  },
  {
   "cell_type": "code",
   "execution_count": 227,
   "id": "upper-capability",
   "metadata": {},
   "outputs": [
    {
     "data": {
      "text/plain": [
       "Text(0.5, 1.0, 'CO')"
      ]
     },
     "execution_count": 227,
     "metadata": {},
     "output_type": "execute_result"
    },
    {
     "data": {
      "image/png": "[encoded data removed]",
      "text/plain": [
       "<Figure size 936x432 with 2 Axes>"
      ]
     },
     "metadata": {
      "needs_background": "light"
     },
     "output_type": "display_data"
    }
   ],
   "source": [
    "import matplotlib.pyplot as plt\n",
    "import seaborn as sns\n",
    "fig= plt.figure(figsize=(13,6))\n",
    "sns.heatmap(X.corr(), annot = True, vmin=-1, vmax=1, \n",
    "            center= 0, cmap= 'coolwarm')\n",
    "plt.title('CO',fontsize=18)"
   ]
  },
  {
   "cell_type": "markdown",
   "id": "capable-andrew",
   "metadata": {},
   "source": [
    "# RF"
   ]
  },
  {
   "cell_type": "code",
   "execution_count": 228,
   "id": "following-indiana",
   "metadata": {},
   "outputs": [],
   "source": [
    "from sklearn.model_selection import train_test_split\n",
    "from sklearn.linear_model import LinearRegression\n",
    "#from sklearn.metrics import mean_absolute_error as mae\n",
    "#from sklearn.metrics import mean_absolute_percentage_error\n",
    "import sklearn.metrics as sm\n",
    "import matplotlib.pyplot as plt\n",
    "import numpy as np\n",
    "from sklearn.ensemble import RandomForestRegressor\n",
    "  \n",
    " # create regressor object\n",
    "regressor = RandomForestRegressor(n_estimators = 500,min_samples_split= 2,min_samples_leaf= 1,max_features= 'sqrt', \n",
    "                                  random_state = 0,max_depth=None,bootstrap=False)\n"
   ]
  },
  {
   "cell_type": "code",
   "execution_count": 229,
   "id": "atomic-grade",
   "metadata": {},
   "outputs": [],
   "source": [
    "Day=[2*i for i in range(1,21) ]\n",
    "Rmse1_rf=[]\n",
    "RMSE1_rf=[]\n",
    "for i in range(1,11):\n",
    "    regressor.fit(X_train[:48*i], y_train[:48*i])\n",
    "    pred=regressor.predict(X_test)\n",
    "    rmse=round(sm.r2_score(y_test, pred), 2)\n",
    "    #mse=round(np.sqrt(sm.mean_squared_error(y_test, pred))/np.mean(y_test),2)\n",
    "    #rmse= mape=round(mean_absolute_percentage_error(y_test,pred),2)\n",
    "    mse=round(mean_absolute_error(y_test,pred)/np.mean(y_test),2)\n",
    "    #rmse=round(np.corrcoef(y_test, pred)[0, 1],2)\n",
    "    Rmse1_rf.append(mse)\n",
    "    RMSE1_rf.append(rmse)"
   ]
  },
  {
   "cell_type": "code",
   "execution_count": 230,
   "id": "thick-recipe",
   "metadata": {},
   "outputs": [
    {
     "data": {
      "text/plain": [
       "[0.34, 0.27, 0.17, 0.18, 0.18, 0.16, 0.15, 0.15, 0.17, 0.17]"
      ]
     },
     "execution_count": 230,
     "metadata": {},
     "output_type": "execute_result"
    }
   ],
   "source": [
    "Rmse1_rf"
   ]
  },
  {
   "cell_type": "code",
   "execution_count": 231,
   "id": "common-portsmouth",
   "metadata": {},
   "outputs": [
    {
     "data": {
      "text/plain": [
       "[0.79, 0.86, 0.94, 0.94, 0.93, 0.95, 0.95, 0.95, 0.94, 0.94]"
      ]
     },
     "execution_count": 231,
     "metadata": {},
     "output_type": "execute_result"
    }
   ],
   "source": [
    "RMSE1_rf"
   ]
  },
  {
   "cell_type": "code",
   "execution_count": 232,
   "id": "caring-convergence",
   "metadata": {},
   "outputs": [
    {
     "data": {
      "text/plain": [
       "0"
      ]
     },
     "execution_count": 232,
     "metadata": {},
     "output_type": "execute_result"
    }
   ],
   "source": [
    "A=y.to_list()\n",
    "Ext_oct=[]\n",
    "for i in range(len(A)):\n",
    "    if A[i]>3*np.mean(A):\n",
    "        Ext_oct.append(i)\n",
    "N_Ext_oct=len(Ext_oct)\n",
    "N_Ext_oct"
   ]
  },
  {
   "cell_type": "code",
   "execution_count": 233,
   "id": "approximate-principle",
   "metadata": {},
   "outputs": [],
   "source": [
    "mean_oct=np.mean(y)\n",
    "N_oct=y.shape[0]\n",
    "Mean_Rmse_oct=np.mean(Rmse1_rf)"
   ]
  },
  {
   "cell_type": "markdown",
   "id": "tight-radiation",
   "metadata": {},
   "source": [
    "# XGBoost"
   ]
  },
  {
   "cell_type": "code",
   "execution_count": 234,
   "id": "duplicate-elephant",
   "metadata": {},
   "outputs": [],
   "source": [
    "from xgboost import  XGBRegressor\n",
    "from numpy import absolute\n",
    "from pandas import read_csv\n",
    "from sklearn.model_selection import cross_val_score\n",
    "from sklearn.model_selection import RepeatedKFold\n",
    "# create an xgboost regression model\n",
    "#n_estimators=10000, max_depth=5, eta=0.01, subsample=0.9,colsample_bytree=0.4,alpha=10\n",
    "model = XGBRegressor(n_estimators=10000, max_depth=5, eta=0.01, subsample=0.9, \n",
    "                     colsample_bytree=0.4,alpha=10)"
   ]
  },
  {
   "cell_type": "code",
   "execution_count": 235,
   "id": "quantitative-favor",
   "metadata": {},
   "outputs": [],
   "source": [
    "Rmse1_ann=[]\n",
    "RMSE1_ann=[]\n",
    "for i in range(1,11):\n",
    "    model.fit(X_train[:48*i], y_train[:48*i])\n",
    "    pred=model.predict(X_test)\n",
    "    #mse=round(np.sqrt(sm.mean_squared_error(y_test, pred))/np.mean(y_test),2)\n",
    "    #rmse= mape=round(mean_absolute_percentage_error(y_test,pred),2)\n",
    "    mse=round(mean_absolute_error(y_test,pred)/np.mean(y_test),2)\n",
    "    #rmse=round(np.corrcoef(y_test, pred)[0, 1],2)\n",
    "    rmse=round(sm.r2_score(y_test, pred), 2)\n",
    "    Rmse1_ann.append(mse)\n",
    "    RMSE1_ann.append(rmse)\n"
   ]
  },
  {
   "cell_type": "code",
   "execution_count": 236,
   "id": "ideal-corner",
   "metadata": {},
   "outputs": [
    {
     "data": {
      "text/plain": [
       "[0.2, 0.17, 0.15, 0.16, 0.2, 0.17, 0.16, 0.16, 0.17, 0.17]"
      ]
     },
     "execution_count": 236,
     "metadata": {},
     "output_type": "execute_result"
    }
   ],
   "source": [
    "Rmse1_ann"
   ]
  },
  {
   "cell_type": "code",
   "execution_count": 237,
   "id": "moved-furniture",
   "metadata": {},
   "outputs": [
    {
     "data": {
      "text/plain": [
       "[0.89, 0.94, 0.95, 0.95, 0.91, 0.94, 0.94, 0.95, 0.93, 0.93]"
      ]
     },
     "execution_count": 237,
     "metadata": {},
     "output_type": "execute_result"
    }
   ],
   "source": [
    "RMSE1_ann"
   ]
  },
  {
   "cell_type": "markdown",
   "id": "governmental-blues",
   "metadata": {},
   "source": [
    "# Nov 2019"
   ]
  },
  {
   "cell_type": "markdown",
   "id": "incorrect-transmission",
   "metadata": {},
   "source": [
    "   #   RF"
   ]
  },
  {
   "cell_type": "code",
   "execution_count": 238,
   "id": "central-equity",
   "metadata": {},
   "outputs": [],
   "source": [
    "X=data_nov[['Net Signal','Lab1','Temp','RH','Month','Day_of_week','Day','Hour','Ref_NO2']]\n",
    "y=data_nov['Ref']\n",
    "X=data_Nov[['Net Signal','Temp','RH','Month','Day_of_week','Day','Hour','Ref_NO2']]\n",
    "y=data_Nov['Ref']\n",
    "X_Train=X[:X.shape[0]-60]\n",
    "X_Test=X[X.shape[0]-60:]\n",
    "y_Train=y[:X.shape[0]-60]\n",
    "y_Test=y[X.shape[0]-60:]\n",
    "X_train, X_test, y_train, y_test=train_test_split(X_Train,y_Train,test_size=0.001)\n",
    "X_test=X_Test\n",
    "y_test=y_Test\n",
    "A=np.array(y)/np.mean(y)\n",
    "A=sorted(A, reverse=True)\n",
    "sum2=sum(A[:100])\n",
    "mean2=np.std(y)/np.mean(y)\n",
    "Rmse2_rf=[]\n",
    "RMSE2_rf=[]\n",
    "for i in range(1,11):\n",
    "    regressor.fit(X_train[:48*i], y_train[:48*i])\n",
    "    pred=regressor.predict(X_test)\n",
    "    mse=round(mean_absolute_error(y_test,pred)/np.mean(y_test),2)\n",
    "    rmse=round(sm.r2_score(y_test, pred), 2)\n",
    "    Rmse2_rf.append(mse)\n",
    "    RMSE2_rf.append(rmse)"
   ]
  },
  {
   "cell_type": "code",
   "execution_count": 239,
   "id": "herbal-shark",
   "metadata": {},
   "outputs": [
    {
     "data": {
      "text/plain": [
       "[0.77, 0.55, 0.52, 0.4, 0.39, 0.4, 0.38, 0.38, 0.36, 0.35]"
      ]
     },
     "execution_count": 239,
     "metadata": {},
     "output_type": "execute_result"
    }
   ],
   "source": [
    "Rmse2_rf"
   ]
  },
  {
   "cell_type": "code",
   "execution_count": 240,
   "id": "confident-international",
   "metadata": {},
   "outputs": [
    {
     "data": {
      "text/plain": [
       "[0.47, 0.69, 0.74, 0.83, 0.83, 0.83, 0.84, 0.83, 0.85, 0.86]"
      ]
     },
     "execution_count": 240,
     "metadata": {},
     "output_type": "execute_result"
    }
   ],
   "source": [
    "RMSE2_rf"
   ]
  },
  {
   "cell_type": "code",
   "execution_count": 241,
   "id": "isolated-terry",
   "metadata": {},
   "outputs": [
    {
     "data": {
      "text/plain": [
       "27"
      ]
     },
     "execution_count": 241,
     "metadata": {},
     "output_type": "execute_result"
    }
   ],
   "source": [
    "A=y.to_list()\n",
    "Ext_nov=[]\n",
    "for i in range(len(A)):\n",
    "    if A[i]>3*np.mean(A):\n",
    "        Ext_nov.append(i)\n",
    "N_Ext_nov=len(Ext_nov)\n",
    "N_Ext_nov"
   ]
  },
  {
   "cell_type": "code",
   "execution_count": 242,
   "id": "considerable-defeat",
   "metadata": {},
   "outputs": [],
   "source": [
    "mean_nov=np.mean(y)\n",
    "N_nov=y.shape[0]\n",
    "Mean_Rmse_nov=np.mean(Rmse2_rf)"
   ]
  },
  {
   "cell_type": "markdown",
   "id": "documented-rwanda",
   "metadata": {},
   "source": [
    "# XGBoost"
   ]
  },
  {
   "cell_type": "code",
   "execution_count": 243,
   "id": "private-township",
   "metadata": {},
   "outputs": [],
   "source": [
    "Rmse2_ann=[]\n",
    "RMSE2_ann=[]\n",
    "for i in range(1,11):\n",
    "    model.fit(X_train[:48*i], y_train[:48*i])\n",
    "    pred=model.predict(X_test)\n",
    "    mse=round(mean_absolute_error(y_test,pred)/np.mean(y_test),2)\n",
    "    rmse=round(sm.r2_score(y_test, pred), 2)\n",
    "    Rmse2_ann.append(mse)\n",
    "    RMSE2_ann.append(rmse)"
   ]
  },
  {
   "cell_type": "code",
   "execution_count": 244,
   "id": "musical-monroe",
   "metadata": {},
   "outputs": [
    {
     "data": {
      "text/plain": [
       "[0.5, 0.43, 0.42, 0.31, 0.32, 0.29, 0.32, 0.32, 0.32, 0.32]"
      ]
     },
     "execution_count": 244,
     "metadata": {},
     "output_type": "execute_result"
    }
   ],
   "source": [
    "Rmse2_ann"
   ]
  },
  {
   "cell_type": "code",
   "execution_count": 245,
   "id": "canadian-cyprus",
   "metadata": {},
   "outputs": [
    {
     "data": {
      "text/plain": [
       "[0.66, 0.78, 0.83, 0.9, 0.89, 0.9, 0.88, 0.88, 0.88, 0.89]"
      ]
     },
     "execution_count": 245,
     "metadata": {},
     "output_type": "execute_result"
    }
   ],
   "source": [
    "RMSE2_ann"
   ]
  },
  {
   "cell_type": "markdown",
   "id": "sweet-parliament",
   "metadata": {},
   "source": [
    "# Dec 2019"
   ]
  },
  {
   "cell_type": "markdown",
   "id": "falling-conservation",
   "metadata": {},
   "source": [
    "# RF"
   ]
  },
  {
   "cell_type": "code",
   "execution_count": 246,
   "id": "enabling-manchester",
   "metadata": {},
   "outputs": [],
   "source": [
    "X=data_dec[['Net Signal','Lab1','Temp','RH','Month','Day_of_week','Day','Hour','Ref_NO2']]\n",
    "y=data_dec['Ref']\n",
    "X=data_Dec[['Net Signal','Temp','RH','Month','Day_of_week','Day','Hour','Ref_NO2']]\n",
    "y=data_Dec['Ref']\n",
    "X_Train=X[:X.shape[0]-60]\n",
    "X_Test=X[X.shape[0]-60:]\n",
    "y_Train=y[:X.shape[0]-60]\n",
    "y_Test=y[X.shape[0]-60:]\n",
    "X_train, X_test, y_train, y_test=train_test_split(X_Train,y_Train,test_size=0.001)\n",
    "X_test=X_Test\n",
    "y_test=y_Test\n",
    "\n",
    "A=np.array(y)/np.mean(y)\n",
    "A=sorted(A, reverse=True)\n",
    "sum3=sum(A[:100])\n",
    "mean3=np.std(y)/np.mean(y)\n",
    "Rmse3_rf=[]\n",
    "RMSE3_rf=[]\n",
    "for i in range(1,11):\n",
    "    regressor.fit(X_train[:48*i], y_train[:48*i])\n",
    "    pred=regressor.predict(X_test)\n",
    "    mse=round(mean_absolute_error(y_test,pred)/np.mean(y_test),2)\n",
    "    rmse=round(sm.r2_score(y_test, pred), 2)\n",
    "    Rmse3_rf.append(mse)\n",
    "    RMSE3_rf.append(rmse)\n"
   ]
  },
  {
   "cell_type": "code",
   "execution_count": 247,
   "id": "internal-prescription",
   "metadata": {},
   "outputs": [
    {
     "data": {
      "text/plain": [
       "[0.4, 0.32, 0.31, 0.29, 0.26, 0.27, 0.26, 0.25, 0.25, 0.25]"
      ]
     },
     "execution_count": 247,
     "metadata": {},
     "output_type": "execute_result"
    }
   ],
   "source": [
    "Rmse3_rf"
   ]
  },
  {
   "cell_type": "code",
   "execution_count": 248,
   "id": "vocational-editor",
   "metadata": {},
   "outputs": [
    {
     "data": {
      "text/plain": [
       "[0.52, 0.64, 0.67, 0.71, 0.75, 0.74, 0.76, 0.77, 0.77, 0.76]"
      ]
     },
     "execution_count": 248,
     "metadata": {},
     "output_type": "execute_result"
    }
   ],
   "source": [
    "RMSE3_rf"
   ]
  },
  {
   "cell_type": "code",
   "execution_count": 249,
   "id": "postal-april",
   "metadata": {},
   "outputs": [
    {
     "data": {
      "text/plain": [
       "23"
      ]
     },
     "execution_count": 249,
     "metadata": {},
     "output_type": "execute_result"
    }
   ],
   "source": [
    "A=y.to_list()\n",
    "Ext_dec=[]\n",
    "for i in range(len(A)):\n",
    "    if A[i]>3*np.mean(A):\n",
    "        Ext_dec.append(i)\n",
    "N_Ext_dec=len(Ext_dec)\n",
    "N_Ext_dec"
   ]
  },
  {
   "cell_type": "code",
   "execution_count": 250,
   "id": "offensive-affiliation",
   "metadata": {},
   "outputs": [],
   "source": [
    "mean_dec=np.mean(y)\n",
    "N_dec=y.shape[0]\n",
    "Mean_Rmse_dec=np.mean(Rmse3_rf)"
   ]
  },
  {
   "cell_type": "markdown",
   "id": "cardiovascular-slovak",
   "metadata": {},
   "source": [
    "# XGBoost"
   ]
  },
  {
   "cell_type": "code",
   "execution_count": 251,
   "id": "former-prototype",
   "metadata": {},
   "outputs": [],
   "source": [
    "Rmse3_ann=[]\n",
    "RMSE3_ann=[]\n",
    "for i in range(1,11):\n",
    "    model.fit(X_train[:48*i], y_train[:48*i])\n",
    "    pred=model.predict(X_test)\n",
    "    mse=round(mean_absolute_error(y_test,pred)/np.mean(y_test),2)\n",
    "    rmse=round(sm.r2_score(y_test, pred), 2)\n",
    "    Rmse3_ann.append(mse)\n",
    "    RMSE3_ann.append(rmse)"
   ]
  },
  {
   "cell_type": "code",
   "execution_count": 252,
   "id": "determined-yacht",
   "metadata": {},
   "outputs": [
    {
     "data": {
      "text/plain": [
       "[0.29, 0.29, 0.28, 0.26, 0.27, 0.25, 0.23, 0.24, 0.25, 0.22]"
      ]
     },
     "execution_count": 252,
     "metadata": {},
     "output_type": "execute_result"
    }
   ],
   "source": [
    "Rmse3_ann"
   ]
  },
  {
   "cell_type": "code",
   "execution_count": 253,
   "id": "handed-deputy",
   "metadata": {},
   "outputs": [
    {
     "data": {
      "text/plain": [
       "[0.73, 0.67, 0.69, 0.74, 0.74, 0.76, 0.78, 0.78, 0.76, 0.79]"
      ]
     },
     "execution_count": 253,
     "metadata": {},
     "output_type": "execute_result"
    }
   ],
   "source": [
    "RMSE3_ann"
   ]
  },
  {
   "cell_type": "markdown",
   "id": "maritime-seeker",
   "metadata": {},
   "source": [
    "# Jan 2020 "
   ]
  },
  {
   "cell_type": "markdown",
   "id": "classical-emission",
   "metadata": {},
   "source": [
    "# RF"
   ]
  },
  {
   "cell_type": "code",
   "execution_count": 254,
   "id": "useful-seven",
   "metadata": {},
   "outputs": [],
   "source": [
    "from sklearn.metrics import mean_absolute_error\n",
    "X=data_jan[['Net Signal','Lab1','Temp','RH','Month','Day_of_week','Day','Hour','Ref_NO2']]\n",
    "y=data_jan['Ref']\n",
    "X=data_Jan[['Net Signal','Temp','RH','Month','Day_of_week','Day','Hour','Ref_NO2']]\n",
    "y=data_Jan['Ref']\n",
    "X_Train=X[:X.shape[0]-60]\n",
    "X_Test=X[X.shape[0]-60:]\n",
    "y_Train=y[:X.shape[0]-60]\n",
    "y_Test=y[X.shape[0]-60:]\n",
    "X_train, X_test, y_train, y_test=train_test_split(X_Train,y_Train,test_size=0.001)\n",
    "X_test=X_Test\n",
    "y_test=y_Test\n",
    "A=np.array(y)/np.mean(y)\n",
    "A=sorted(A, reverse=True)\n",
    "sum4=sum(A[:100])\n",
    "mean4=np.std(y)/np.mean(y)\n",
    "Rmse4_rf=[]\n",
    "RMSE4_rf=[]\n",
    "for i in range(1,11):\n",
    "    regressor.fit(X_train[:48*i], y_train[:48*i])\n",
    "    pred=regressor.predict(X_test)\n",
    "    mse=round(mean_absolute_error(y_test,pred)/np.mean(y_test),2)\n",
    "    rmse=round(sm.r2_score(y_test, pred), 2)\n",
    "    Rmse4_rf.append(mse)\n",
    "    RMSE4_rf.append(rmse)\n",
    "    \n"
   ]
  },
  {
   "cell_type": "code",
   "execution_count": 255,
   "id": "approximate-mathematics",
   "metadata": {},
   "outputs": [
    {
     "data": {
      "text/plain": [
       "[0.25, 0.27, 0.28, 0.27, 0.25, 0.23, 0.22, 0.2, 0.19, 0.21]"
      ]
     },
     "execution_count": 255,
     "metadata": {},
     "output_type": "execute_result"
    }
   ],
   "source": [
    " Rmse4_rf"
   ]
  },
  {
   "cell_type": "code",
   "execution_count": 256,
   "id": "fifth-experiment",
   "metadata": {},
   "outputs": [
    {
     "data": {
      "text/plain": [
       "[0.88, 0.86, 0.86, 0.86, 0.88, 0.9, 0.9, 0.92, 0.92, 0.91]"
      ]
     },
     "execution_count": 256,
     "metadata": {},
     "output_type": "execute_result"
    }
   ],
   "source": [
    "RMSE4_rf"
   ]
  },
  {
   "cell_type": "code",
   "execution_count": 257,
   "id": "regional-isaac",
   "metadata": {},
   "outputs": [
    {
     "data": {
      "text/plain": [
       "0"
      ]
     },
     "execution_count": 257,
     "metadata": {},
     "output_type": "execute_result"
    }
   ],
   "source": [
    "A=y.to_list()\n",
    "Ext_jan=[]\n",
    "for i in range(len(A)):\n",
    "    if A[i]>3*np.mean(A):\n",
    "        Ext_jan.append(i)\n",
    "N_Ext_jan=len(Ext_jan)\n",
    "N_Ext_jan"
   ]
  },
  {
   "cell_type": "code",
   "execution_count": 258,
   "id": "twelve-circumstances",
   "metadata": {},
   "outputs": [],
   "source": [
    "mean_jan=np.mean(y)\n",
    "N_jan=y.shape[0]\n",
    "Mean_Rmse_jan=np.mean(Rmse4_rf)"
   ]
  },
  {
   "cell_type": "markdown",
   "id": "assigned-stable",
   "metadata": {},
   "source": [
    "# XGBoost"
   ]
  },
  {
   "cell_type": "code",
   "execution_count": 259,
   "id": "multiple-collins",
   "metadata": {},
   "outputs": [],
   "source": [
    "Rmse4_ann=[]\n",
    "RMSE4_ann=[]\n",
    "for i in range(1,11):\n",
    "    model.fit(X_train[:48*i], y_train[:48*i])\n",
    "    pred=model.predict(X_test)\n",
    "    mse=round(mean_absolute_error(y_test,pred)/np.mean(y_test),2)\n",
    "    rmse=round(sm.r2_score(y_test, pred), 2)\n",
    "    Rmse4_ann.append(mse)\n",
    "    RMSE4_ann.append(rmse)"
   ]
  },
  {
   "cell_type": "markdown",
   "id": "passive-nursing",
   "metadata": {},
   "source": [
    "# Feb 2020"
   ]
  },
  {
   "cell_type": "markdown",
   "id": "composite-beads",
   "metadata": {},
   "source": [
    "# RF"
   ]
  },
  {
   "cell_type": "markdown",
   "id": "armed-address",
   "metadata": {},
   "source": [
    "X=data_feb[['Net Signal','Lab1','Temp','RH','Month','Day_of_week','Day','Hour']]\n",
    "y=data_feb['Ref']\n",
    "A=np.array(y)/np.mean(y)\n",
    "A=sorted(A, reverse=True)\n",
    "sum5=sum(A[:100])\n",
    "mean5=np.std(y)/np.mean(y)\n",
    "Rmse5_rf=[]\n",
    "RMSE5_rf=[]\n",
    "for i in range(1,11):\n",
    "    regressor.fit(X[:576*i].drop(['Lab1'], axis=1), y[:576*i])\n",
    "    pred=regressor.predict(X[576*i:].drop(['Lab1'], axis=1))\n",
    "    y_test=y[576*i:]\n",
    "    mse=round(np.sqrt(sm.mean_squared_error(y_test, pred))/np.mean(y_test),2)\n",
    "    #rmse= mape=round(mean_absolute_percentage_error(y_test,pred),2)\n",
    "    rmse=round(np.corrcoef(y_test, pred)[0, 1],2)\n",
    "    Rmse5_rf.append(mse)\n",
    "    RMSE5_rf.append(rmse)"
   ]
  },
  {
   "cell_type": "markdown",
   "id": "rough-commercial",
   "metadata": {},
   "source": [
    "A=y.to_list()\n",
    "Ext_feb=[]\n",
    "for i in range(len(A)):\n",
    "    if A[i]>3*np.mean(A):\n",
    "        Ext_feb.append(i)\n",
    "N_Ext_feb=len(Ext_feb)\n",
    "N_Ext_feb"
   ]
  },
  {
   "cell_type": "markdown",
   "id": "infinite-occasion",
   "metadata": {},
   "source": [
    "mean_feb=np.mean(y)\n",
    "N_feb=y.shape[0]\n",
    "Mean_Rmse_feb=np.mean(Rmse5_rf)"
   ]
  },
  {
   "cell_type": "markdown",
   "id": "documentary-terminal",
   "metadata": {},
   "source": [
    "# XGBoost"
   ]
  },
  {
   "cell_type": "markdown",
   "id": "unauthorized-edinburgh",
   "metadata": {},
   "source": [
    "Rmse5_ann=[]\n",
    "RMSE5_ann=[]\n",
    "for i in range(1,11):\n",
    "    model.fit(X[:576*i].drop(['Lab1'], axis=1), y[:576*i])\n",
    "    pred=model.predict(X[576*i:].drop(['Lab1'], axis=1))\n",
    "    y_test=y[576*i:]\n",
    "\n",
    "    mse=round(np.sqrt(sm.mean_squared_error(y_test, pred))/np.mean(y_test),2)\n",
    "    #rmse= mape=round(mean_absolute_percentage_error(y_test,pred),2)\n",
    "    rmse=round(np.corrcoef(y_test, pred)[0, 1],2)\n",
    "    Rmse5_ann.append(mse)\n",
    "    RMSE5_ann.append(rmse)"
   ]
  },
  {
   "cell_type": "markdown",
   "id": "institutional-promise",
   "metadata": {},
   "source": [
    "# March 2020"
   ]
  },
  {
   "cell_type": "markdown",
   "id": "greenhouse-alberta",
   "metadata": {},
   "source": [
    "# RF"
   ]
  },
  {
   "cell_type": "code",
   "execution_count": 261,
   "id": "tender-synthetic",
   "metadata": {},
   "outputs": [],
   "source": [
    "X=data_mar[['Net Signal','Lab1','Temp','RH','Month','Day_of_week','Day','Hour','Ref_NO2']]\n",
    "y=data_mar['Ref']\n",
    "X=data_Mar[['Net Signal','Temp','RH','Month','Day_of_week','Day','Hour','Ref_NO2']]\n",
    "y=data_Mar['Ref']\n",
    "X_Train=X[:X.shape[0]-60]\n",
    "X_Test=X[X.shape[0]-60:]\n",
    "y_Train=y[:X.shape[0]-60]\n",
    "y_Test=y[X.shape[0]-60:]\n",
    "X_train, X_test, y_train, y_test=train_test_split(X_Train,y_Train,test_size=0.002)\n",
    "X_test=X_Test\n",
    "y_test=y_Test\n",
    "A=np.array(y)/np.mean(y)\n",
    "A=sorted(A, reverse=True)\n",
    "sum6=sum(A[:100])\n",
    "mean6=np.std(y)/np.mean(y)\n",
    "Rmse6_rf=[]\n",
    "RMSE6_rf=[]\n",
    "for i in range(1,11):\n",
    "    regressor.fit(X_train[:48*i], y_train[:48*i])\n",
    "    pred=regressor.predict(X_test)\n",
    "    mse=round(mean_absolute_error(y_test,pred)/np.mean(y_test),2)\n",
    "    rmse=round(sm.r2_score(y_test, pred), 2)\n",
    "    Rmse6_rf.append(mse)\n",
    "    RMSE6_rf.append(rmse)"
   ]
  },
  {
   "cell_type": "code",
   "execution_count": 262,
   "id": "creative-australian",
   "metadata": {},
   "outputs": [
    {
     "data": {
      "text/plain": [
       "[<matplotlib.lines.Line2D at 0x1182c41c0>]"
      ]
     },
     "execution_count": 262,
     "metadata": {},
     "output_type": "execute_result"
    },
    {
     "data": {
      "image/png": "[encoded data removed]",
      "text/plain": [
       "<Figure size 432x288 with 1 Axes>"
      ]
     },
     "metadata": {
      "needs_background": "light"
     },
     "output_type": "display_data"
    }
   ],
   "source": [
    "ind=[i for i in range(len(y))]\n",
    "plt.plot(ind,y)"
   ]
  },
  {
   "cell_type": "code",
   "execution_count": 265,
   "id": "painted-perception",
   "metadata": {},
   "outputs": [
    {
     "data": {
      "text/plain": [
       "[0.14, 0.12, 0.12, 0.12, 0.12, 0.12, 0.12, 0.12, 0.12, 0.11]"
      ]
     },
     "execution_count": 265,
     "metadata": {},
     "output_type": "execute_result"
    }
   ],
   "source": [
    "Rmse6_rf\n"
   ]
  },
  {
   "cell_type": "code",
   "execution_count": 264,
   "id": "worldwide-crazy",
   "metadata": {},
   "outputs": [
    {
     "data": {
      "text/plain": [
       "[0.62, 0.7, 0.72, 0.73, 0.73, 0.75, 0.76, 0.79, 0.78, 0.8]"
      ]
     },
     "execution_count": 264,
     "metadata": {},
     "output_type": "execute_result"
    }
   ],
   "source": [
    "RMSE6_rf"
   ]
  },
  {
   "cell_type": "markdown",
   "id": "australian-briefs",
   "metadata": {},
   "source": [
    "# XGBoost"
   ]
  },
  {
   "cell_type": "code",
   "execution_count": 267,
   "id": "liquid-underground",
   "metadata": {},
   "outputs": [],
   "source": [
    "Rmse6_ann=[]\n",
    "RMSE6_ann=[]\n",
    "for i in range(1,11):\n",
    "    model.fit(X_train[:48*i], y_train[:48*i])\n",
    "    pred=model.predict(X_test)\n",
    "    mse=round(mean_absolute_error(y_test,pred)/np.mean(y_test),2)\n",
    "    rmse=round(sm.r2_score(y_test, pred), 2)\n",
    "    Rmse6_ann.append(mse)\n",
    "    RMSE6_ann.append(rmse)"
   ]
  },
  {
   "cell_type": "code",
   "execution_count": 268,
   "id": "comfortable-difference",
   "metadata": {},
   "outputs": [
    {
     "data": {
      "text/plain": [
       "[0.55, 0.69, 0.76, 0.77, 0.7, 0.74, 0.78, 0.8, 0.79, 0.81]"
      ]
     },
     "execution_count": 268,
     "metadata": {},
     "output_type": "execute_result"
    }
   ],
   "source": [
    "RMSE6_ann"
   ]
  },
  {
   "cell_type": "code",
   "execution_count": 269,
   "id": "accepted-therapist",
   "metadata": {},
   "outputs": [
    {
     "data": {
      "text/plain": [
       "[0.17, 0.13, 0.12, 0.11, 0.13, 0.12, 0.12, 0.11, 0.12, 0.11]"
      ]
     },
     "execution_count": 269,
     "metadata": {},
     "output_type": "execute_result"
    }
   ],
   "source": [
    "Rmse6_ann"
   ]
  },
  {
   "cell_type": "markdown",
   "id": "similar-input",
   "metadata": {},
   "source": [
    "# April 2020"
   ]
  },
  {
   "cell_type": "markdown",
   "id": "proof-locator",
   "metadata": {},
   "source": [
    "# RF"
   ]
  },
  {
   "cell_type": "markdown",
   "id": "strong-delay",
   "metadata": {},
   "source": [
    "X=data_apr[['Net Signal','Lab1','Temp','RH','Month','Day_of_week','Day','Hour']]\n",
    "y=data_apr['Ref']\n",
    "A=np.array(y)/np.mean(y)\n",
    "A=sorted(A, reverse=True)\n",
    "sum7=sum(A[:100])\n",
    "mean7=np.std(y)/np.mean(y)\n",
    "Rmse10_rf=[]\n",
    "RMSE10_rf=[]\n",
    "for i in range(1,11):\n",
    "    regressor.fit(X[:576*i].drop(['Lab1'], axis=1), y[:576*i])\n",
    "    pred=regressor.predict(X[576*i:].drop(['Lab1'], axis=1))\n",
    "    y_test=y[576*i:]\n",
    "    mse=round(np.sqrt(sm.mean_squared_error(y_test, pred))/np.mean(y_test),2)\n",
    "    #rmse= mape=round(mean_absolute_percentage_error(y_test,pred),2)\n",
    "    rmse=round(np.corrcoef(y_test, pred)[0, 1],2)\n",
    "    Rmse10_rf.append(mse)\n",
    "    RMSE10_rf.append(rmse)"
   ]
  },
  {
   "cell_type": "markdown",
   "id": "proud-administrator",
   "metadata": {},
   "source": [
    "A=y.to_list()\n",
    "Ext_apr=[]\n",
    "for i in range(len(A)):\n",
    "    if A[i]>3*np.mean(A):\n",
    "        Ext_apr.append(i)\n",
    "N_Ext_apr=len(Ext_apr)\n",
    "N_Ext_apr"
   ]
  },
  {
   "cell_type": "markdown",
   "id": "southwest-prerequisite",
   "metadata": {},
   "source": [
    "# XGBoost"
   ]
  },
  {
   "cell_type": "markdown",
   "id": "canadian-shipping",
   "metadata": {},
   "source": [
    "Rmse10_ann=[]\n",
    "RMSE10_ann=[]\n",
    "for i in range(1,11):\n",
    "    model.fit(X[:576*i].drop(['Lab1'], axis=1), y[:576*i])\n",
    "    pred=model.predict(X[576*i:].drop(['Lab1'], axis=1))\n",
    "    y_test=y[576*i:]\n",
    "    mse=round(np.sqrt(sm.mean_squared_error(y_test, pred))/np.mean(y_test),2)\n",
    "    #rmse= mape=round(mean_absolute_percentage_error(y_test,pred),2)\n",
    "    rmse=round(np.corrcoef(y_test, pred)[0, 1],2)\n",
    "    Rmse10_ann.append(mse)\n",
    "    RMSE10_ann.append(rmse)"
   ]
  },
  {
   "cell_type": "markdown",
   "id": "comfortable-cathedral",
   "metadata": {},
   "source": [
    "mean_apr=np.mean(y)\n",
    "N_apr=y.shape[0]\n",
    "Mean_Rmse_apr=np.mean(Rmse10_rf)"
   ]
  },
  {
   "cell_type": "markdown",
   "id": "colonial-quest",
   "metadata": {},
   "source": [
    "Mean_Rmse=[Mean_Rmse_oct,Mean_Rmse_nov,Mean_Rmse_dec,Mean_Rmse_jan,Mean_Rmse_feb,Mean_Rmse_mar,Mean_Rmse_apr]\n",
    "Mean_conc=[mean_oct,mean_nov,mean_dec,mean_jan,mean_feb,mean_mar,mean_apr]\n",
    "N=[N_oct,N_nov,N_dec,N_jan,N_feb,N_mar,N_apr]\n",
    "N_Ext=[N_Ext_oct,N_Ext_nov,N_Ext_dec,N_Ext_jan,N_Ext_feb,N_Ext_mar,N_Ext_apr]\n",
    "\n",
    "Rmse=[]\n",
    "for i in range(10):\n",
    "    A=[Rmse1_rf[i],Rmse2_rf[i],Rmse3_rf[i],Rmse4_rf[i],Rmse5_rf[i],Rmse6_rf[i],Rmse10_rf[i]]\n",
    "    Rmse.append(A)\n",
    "RMSE=Rmse[0]+Rmse[1]+Rmse[2]+Rmse[3]+Rmse[4]+Rmse[5]+Rmse[6]+Rmse[7]\n",
    "Conc=Mean_conc+Mean_conc+Mean_conc+Mean_conc+Mean_conc+Mean_conc+Mean_conc+Mean_conc\n",
    "N_dp=N+N+N+N+N+N+N+N\n",
    "N_ext=N_Ext+N_Ext+N_Ext+N_Ext+N_Ext+N_Ext+N_Ext+N_Ext"
   ]
  },
  {
   "cell_type": "code",
   "execution_count": 270,
   "id": "editorial-marathon",
   "metadata": {},
   "outputs": [],
   "source": [
    "import plotly.express as px\n",
    "from IPython.display import Image\n",
    "import plotly.graph_objects as go\n",
    "import numpy as np\n",
    "Day_1_rf=[RMSE1_rf[0],RMSE2_rf[0],RMSE3_rf[0],RMSE4_rf[0],RMSE6_rf[0]]\n",
    "Day_2_rf=[RMSE1_rf[1],RMSE2_rf[1],RMSE3_rf[1],RMSE4_rf[1],RMSE6_rf[1]]\n",
    "Day_3_rf=[RMSE1_rf[2],RMSE2_rf[2],RMSE3_rf[2],RMSE4_rf[2],RMSE6_rf[2]]\n",
    "Day_4_rf=[RMSE1_rf[3],RMSE2_rf[3],RMSE3_rf[3],RMSE4_rf[3],RMSE6_rf[3]]\n",
    "Day_5_rf=[RMSE1_rf[4],RMSE2_rf[4],RMSE3_rf[4],RMSE4_rf[4],RMSE6_rf[4]]\n",
    "Day_6_rf=[RMSE1_rf[5],RMSE2_rf[5],RMSE3_rf[5],RMSE4_rf[5],RMSE6_rf[5]]\n",
    "Day_7_rf=[RMSE1_rf[6],RMSE2_rf[6],RMSE3_rf[6],RMSE4_rf[6],RMSE6_rf[6]]\n",
    "Day_8_rf=[RMSE1_rf[7],RMSE2_rf[7],RMSE3_rf[7],RMSE4_rf[7],RMSE6_rf[7]]\n",
    "Day_9_rf=[RMSE1_rf[8],RMSE2_rf[8],RMSE3_rf[8],RMSE4_rf[8],RMSE6_rf[8]]\n",
    "Day_10_rf=[RMSE1_rf[9],RMSE2_rf[9],RMSE3_rf[9],RMSE4_rf[9],RMSE6_rf[9]]\n",
    "\n",
    "\n",
    "Day_1_ann=[RMSE1_ann[0],RMSE2_ann[0],RMSE3_ann[0],RMSE4_ann[0],RMSE6_ann[0]]\n",
    "Day_2_ann=[RMSE1_ann[1],RMSE2_ann[1],RMSE3_ann[1],RMSE4_ann[1],RMSE6_ann[1]]\n",
    "Day_3_ann=[RMSE1_ann[2],RMSE2_ann[2],RMSE3_ann[2],RMSE4_ann[2],RMSE6_ann[2]]\n",
    "Day_4_ann=[RMSE1_ann[3],RMSE2_ann[3],RMSE3_ann[3],RMSE4_ann[3],RMSE6_ann[3]]\n",
    "Day_5_ann=[RMSE1_ann[4],RMSE2_ann[4],RMSE3_ann[4],RMSE4_ann[4],RMSE6_ann[4]]\n",
    "Day_6_ann=[RMSE1_ann[5],RMSE2_ann[5],RMSE3_ann[5],RMSE4_ann[5],RMSE6_ann[5]]\n",
    "Day_7_ann=[RMSE1_ann[6],RMSE2_ann[6],RMSE3_ann[6],RMSE4_ann[6],RMSE6_ann[6]]\n",
    "Day_8_ann=[RMSE1_ann[7],RMSE2_ann[7],RMSE3_ann[7],RMSE4_ann[7],RMSE6_ann[7]]\n",
    "Day_9_ann=[RMSE1_ann[8],RMSE2_ann[8],RMSE3_ann[8],RMSE4_ann[8],RMSE6_ann[8]]\n",
    "Day_10_ann=[RMSE1_ann[9],RMSE2_ann[9],RMSE3_ann[9],RMSE4_ann[9],RMSE6_ann[9]]"
   ]
  },
  {
   "cell_type": "code",
   "execution_count": 271,
   "id": "aquatic-southeast",
   "metadata": {},
   "outputs": [],
   "source": [
    "Day_1_RF=[Rmse1_rf[0],Rmse2_rf[0],Rmse3_rf[0],Rmse4_rf[0],Rmse6_rf[0]]\n",
    "Day_2_RF=[Rmse1_rf[1],Rmse2_rf[1],Rmse3_rf[1],Rmse4_rf[1],Rmse6_rf[1]]\n",
    "Day_3_RF=[Rmse1_rf[2],Rmse2_rf[2],Rmse3_rf[2],Rmse4_rf[2],Rmse6_rf[2]]\n",
    "Day_4_RF=[Rmse1_rf[3],Rmse2_rf[3],Rmse3_rf[3],Rmse4_rf[3],Rmse6_rf[3]]\n",
    "Day_5_RF=[Rmse1_rf[4],Rmse2_rf[4],Rmse3_rf[4],Rmse4_rf[4],Rmse6_rf[4]]\n",
    "Day_6_RF=[Rmse1_rf[5],Rmse2_rf[5],Rmse3_rf[5],Rmse4_rf[5],Rmse6_rf[5]]\n",
    "Day_7_RF=[Rmse1_rf[6],Rmse2_rf[6],Rmse3_rf[6],Rmse4_rf[6],Rmse6_rf[6]]\n",
    "Day_8_RF=[Rmse1_rf[7],Rmse2_rf[7],Rmse3_rf[7],Rmse4_rf[7],Rmse6_rf[7]]\n",
    "Day_9_RF=[Rmse1_rf[8],Rmse2_rf[8],Rmse3_rf[8],Rmse4_rf[8],Rmse6_rf[8]]\n",
    "Day_10_RF=[Rmse1_rf[9],Rmse2_rf[9],Rmse3_rf[9],Rmse4_rf[9],Rmse6_rf[9]]\n",
    "\n",
    "\n",
    "\n",
    "Day_1_ANN=[Rmse1_ann[0],Rmse2_ann[0],Rmse3_ann[0],Rmse4_ann[0],Rmse6_ann[0]]\n",
    "Day_2_ANN=[Rmse1_ann[1],Rmse2_ann[1],Rmse3_ann[1],Rmse4_ann[1],Rmse6_ann[1]]\n",
    "Day_3_ANN=[Rmse1_ann[2],Rmse2_ann[2],Rmse3_ann[2],Rmse4_ann[2],Rmse6_ann[2]]\n",
    "Day_4_ANN=[Rmse1_ann[3],Rmse2_ann[3],Rmse3_ann[3],Rmse4_ann[3],Rmse6_ann[3]]\n",
    "Day_5_ANN=[Rmse1_ann[4],Rmse2_ann[4],Rmse3_ann[4],Rmse4_ann[4],Rmse6_ann[4]]\n",
    "Day_6_ANN=[Rmse1_ann[5],Rmse2_ann[5],Rmse3_ann[5],Rmse4_ann[5],Rmse6_ann[5]]\n",
    "Day_7_ANN=[Rmse1_ann[6],Rmse2_ann[6],Rmse3_ann[6],Rmse4_ann[6],Rmse6_ann[6]]\n",
    "Day_8_ANN=[Rmse1_ann[7],Rmse2_ann[7],Rmse3_ann[7],Rmse4_ann[7],Rmse6_ann[7]]\n",
    "Day_9_ANN=[Rmse1_ann[8],Rmse2_ann[8],Rmse3_ann[8],Rmse4_ann[8],Rmse6_ann[8]]\n",
    "Day_10_ANN=[Rmse1_ann[9],Rmse2_ann[9],Rmse3_ann[9],Rmse4_ann[9],Rmse6_ann[9]]"
   ]
  },
  {
   "cell_type": "code",
   "execution_count": 272,
   "id": "wrapped-harvard",
   "metadata": {},
   "outputs": [
    {
     "data": {
      "text/plain": [
       "40"
      ]
     },
     "execution_count": 272,
     "metadata": {},
     "output_type": "execute_result"
    }
   ],
   "source": [
    "RF_P=Day_1_rf+Day_2_rf+Day_3_rf+Day_4_rf+Day_5_rf+Day_6_rf+Day_7_rf+Day_8_rf+Day_9_rf+Day_10_rf\n",
    "ANN_P=Day_1_ann+Day_2_ann+Day_3_ann+Day_4_ann+Day_5_ann+Day_6_ann+Day_7_ann+Day_8_ann+Day_9_ann+Day_10_ann\n",
    "RF_R=Day_1_RF+Day_2_RF+Day_3_RF+Day_4_RF+Day_5_RF+Day_6_RF+Day_7_RF+Day_8_RF+Day_9_RF+Day_10_RF\n",
    "ANN_R=Day_1_ANN+Day_2_ANN+Day_3_ANN+Day_4_ANN+Day_5_ANN+Day_6_ANN+Day_7_ANN+Day_8_ANN+Day_9_ANN+Day_10_ANN\n",
    "x0=['0' for i in range(4)]\n",
    "x1=['2' for i in range(4)]\n",
    "x2=['4' for i in range(4)]\n",
    "x3=['6' for i in range(4)]\n",
    "x4=['8' for i in range(4)]\n",
    "x5=['10' for i in range(4)]\n",
    "x6=['12' for i in range(4)]\n",
    "x7=['14' for i in range(4)]\n",
    "x8=['16' for i in range(4)]\n",
    "x9=['18' for i in range(4)]\n",
    "x10=['20' for i in range(4)]\n",
    "x11=['22' for i in range(4)]\n",
    "Reg=[0.1 for i in range(48)]\n",
    "Reg=[0.1 for i in range(48)]\n",
    "Spatial=[0.25 for i in range(48) ]\n",
    "Intervention=[0.3 for i in range(48) ]\n",
    "Hs_and_sp=[0.5 for i in range(48) ]\n",
    "reg=[0.9 for i in range(48)]\n",
    "spatial=[0.75 for i in range(48) ]\n",
    "intervention=[0.7 for i in range(48) ]\n",
    "\n",
    "x=x1+x2+x3+x4+x5+x6+x7+x8+x9+x10\n",
    "X=x0+x1+x2+x3+x4+x5+x6+x7+x8+x9+x10+x11\n",
    "len(x)"
   ]
  },
  {
   "cell_type": "code",
   "execution_count": 273,
   "id": "controlling-county",
   "metadata": {},
   "outputs": [
    {
     "data": {
      "application/vnd.plotly.v1+json": {
       "config": {
        "plotlyServerURL": "https://plot.ly"
       },
       "data": [
        {
         "marker": {
          "color": "darkgoldenrod"
         },
         "name": "R^2",
         "showlegend": true,
         "type": "box",
         "x": [
          "2",
          "2",
          "2",
          "2",
          "4",
          "4",
          "4",
          "4",
          "6",
          "6",
          "6",
          "6",
          "8",
          "8",
          "8",
          "8",
          "10",
          "10",
          "10",
          "10",
          "12",
          "12",
          "12",
          "12",
          "14",
          "14",
          "14",
          "14",
          "16",
          "16",
          "16",
          "16",
          "18",
          "18",
          "18",
          "18",
          "20",
          "20",
          "20",
          "20"
         ],
         "y": [
          0.79,
          0.47,
          0.52,
          0.88,
          0.62,
          0.86,
          0.69,
          0.64,
          0.86,
          0.7,
          0.94,
          0.74,
          0.67,
          0.86,
          0.72,
          0.94,
          0.83,
          0.71,
          0.86,
          0.73,
          0.93,
          0.83,
          0.75,
          0.88,
          0.73,
          0.95,
          0.83,
          0.74,
          0.9,
          0.75,
          0.95,
          0.84,
          0.76,
          0.9,
          0.76,
          0.95,
          0.83,
          0.77,
          0.92,
          0.79,
          0.94,
          0.85,
          0.77,
          0.92,
          0.78,
          0.94,
          0.86,
          0.76,
          0.91,
          0.8
         ]
        },
        {
         "marker": {
          "color": "teal"
         },
         "name": "RMAE",
         "showlegend": true,
         "type": "box",
         "x": [
          "2",
          "2",
          "2",
          "2",
          "4",
          "4",
          "4",
          "4",
          "6",
          "6",
          "6",
          "6",
          "8",
          "8",
          "8",
          "8",
          "10",
          "10",
          "10",
          "10",
          "12",
          "12",
          "12",
          "12",
          "14",
          "14",
          "14",
          "14",
          "16",
          "16",
          "16",
          "16",
          "18",
          "18",
          "18",
          "18",
          "20",
          "20",
          "20",
          "20"
         ],
         "y": [
          0.34,
          0.77,
          0.4,
          0.25,
          0.14,
          0.27,
          0.55,
          0.32,
          0.27,
          0.12,
          0.17,
          0.52,
          0.31,
          0.28,
          0.12,
          0.18,
          0.4,
          0.29,
          0.27,
          0.12,
          0.18,
          0.39,
          0.26,
          0.25,
          0.12,
          0.16,
          0.4,
          0.27,
          0.23,
          0.12,
          0.15,
          0.38,
          0.26,
          0.22,
          0.12,
          0.15,
          0.38,
          0.25,
          0.2,
          0.12,
          0.17,
          0.36,
          0.25,
          0.19,
          0.12,
          0.17,
          0.35,
          0.25,
          0.21,
          0.11
         ]
        },
        {
         "connectgaps": true,
         "line": {
          "color": "navy",
          "dash": "dot",
          "shape": "linear",
          "width": 2
         },
         "mode": "lines",
         "name": "RC",
         "showlegend": true,
         "type": "scatter",
         "x": [
          "0",
          "0",
          "0",
          "0",
          "2",
          "2",
          "2",
          "2",
          "4",
          "4",
          "4",
          "4",
          "6",
          "6",
          "6",
          "6",
          "8",
          "8",
          "8",
          "8",
          "10",
          "10",
          "10",
          "10",
          "12",
          "12",
          "12",
          "12",
          "14",
          "14",
          "14",
          "14",
          "16",
          "16",
          "16",
          "16",
          "18",
          "18",
          "18",
          "18",
          "20",
          "20",
          "20",
          "20",
          "22",
          "22",
          "22",
          "22"
         ],
         "y": [
          0.1,
          0.1,
          0.1,
          0.1,
          0.1,
          0.1,
          0.1,
          0.1,
          0.1,
          0.1,
          0.1,
          0.1,
          0.1,
          0.1,
          0.1,
          0.1,
          0.1,
          0.1,
          0.1,
          0.1,
          0.1,
          0.1,
          0.1,
          0.1,
          0.1,
          0.1,
          0.1,
          0.1,
          0.1,
          0.1,
          0.1,
          0.1,
          0.1,
          0.1,
          0.1,
          0.1,
          0.1,
          0.1,
          0.1,
          0.1,
          0.1,
          0.1,
          0.1,
          0.1,
          0.1,
          0.1,
          0.1,
          0.1
         ]
        },
        {
         "connectgaps": true,
         "line": {
          "color": "purple",
          "dash": "dot",
          "shape": "linear",
          "width": 2
         },
         "mode": "lines",
         "name": "SGS",
         "showlegend": true,
         "type": "scatter",
         "x": [
          "0",
          "0",
          "0",
          "0",
          "2",
          "2",
          "2",
          "2",
          "4",
          "4",
          "4",
          "4",
          "6",
          "6",
          "6",
          "6",
          "8",
          "8",
          "8",
          "8",
          "10",
          "10",
          "10",
          "10",
          "12",
          "12",
          "12",
          "12",
          "14",
          "14",
          "14",
          "14",
          "16",
          "16",
          "16",
          "16",
          "18",
          "18",
          "18",
          "18",
          "20",
          "20",
          "20",
          "20",
          "22",
          "22",
          "22",
          "22"
         ],
         "y": [
          0.25,
          0.25,
          0.25,
          0.25,
          0.25,
          0.25,
          0.25,
          0.25,
          0.25,
          0.25,
          0.25,
          0.25,
          0.25,
          0.25,
          0.25,
          0.25,
          0.25,
          0.25,
          0.25,
          0.25,
          0.25,
          0.25,
          0.25,
          0.25,
          0.25,
          0.25,
          0.25,
          0.25,
          0.25,
          0.25,
          0.25,
          0.25,
          0.25,
          0.25,
          0.25,
          0.25,
          0.25,
          0.25,
          0.25,
          0.25,
          0.25,
          0.25,
          0.25,
          0.25,
          0.25,
          0.25,
          0.25,
          0.25
         ]
        },
        {
         "connectgaps": true,
         "line": {
          "color": "darkolivegreen",
          "dash": "dot",
          "shape": "linear",
          "width": 2
         },
         "mode": "lines",
         "name": "IS/IM",
         "showlegend": true,
         "type": "scatter",
         "x": [
          "0",
          "0",
          "0",
          "0",
          "2",
          "2",
          "2",
          "2",
          "4",
          "4",
          "4",
          "4",
          "6",
          "6",
          "6",
          "6",
          "8",
          "8",
          "8",
          "8",
          "10",
          "10",
          "10",
          "10",
          "12",
          "12",
          "12",
          "12",
          "14",
          "14",
          "14",
          "14",
          "16",
          "16",
          "16",
          "16",
          "18",
          "18",
          "18",
          "18",
          "20",
          "20",
          "20",
          "20",
          "22",
          "22",
          "22",
          "22"
         ],
         "y": [
          0.3,
          0.3,
          0.3,
          0.3,
          0.3,
          0.3,
          0.3,
          0.3,
          0.3,
          0.3,
          0.3,
          0.3,
          0.3,
          0.3,
          0.3,
          0.3,
          0.3,
          0.3,
          0.3,
          0.3,
          0.3,
          0.3,
          0.3,
          0.3,
          0.3,
          0.3,
          0.3,
          0.3,
          0.3,
          0.3,
          0.3,
          0.3,
          0.3,
          0.3,
          0.3,
          0.3,
          0.3,
          0.3,
          0.3,
          0.3,
          0.3,
          0.3,
          0.3,
          0.3,
          0.3,
          0.3,
          0.3,
          0.3
         ]
        },
        {
         "connectgaps": true,
         "line": {
          "color": "dodgerblue",
          "dash": "dot",
          "shape": "linear",
          "width": 2
         },
         "mode": "lines",
         "name": "HA/SP",
         "showlegend": true,
         "type": "scatter",
         "x": [
          "0",
          "0",
          "0",
          "0",
          "2",
          "2",
          "2",
          "2",
          "4",
          "4",
          "4",
          "4",
          "6",
          "6",
          "6",
          "6",
          "8",
          "8",
          "8",
          "8",
          "10",
          "10",
          "10",
          "10",
          "12",
          "12",
          "12",
          "12",
          "14",
          "14",
          "14",
          "14",
          "16",
          "16",
          "16",
          "16",
          "18",
          "18",
          "18",
          "18",
          "20",
          "20",
          "20",
          "20",
          "22",
          "22",
          "22",
          "22"
         ],
         "y": [
          0.5,
          0.5,
          0.5,
          0.5,
          0.5,
          0.5,
          0.5,
          0.5,
          0.5,
          0.5,
          0.5,
          0.5,
          0.5,
          0.5,
          0.5,
          0.5,
          0.5,
          0.5,
          0.5,
          0.5,
          0.5,
          0.5,
          0.5,
          0.5,
          0.5,
          0.5,
          0.5,
          0.5,
          0.5,
          0.5,
          0.5,
          0.5,
          0.5,
          0.5,
          0.5,
          0.5,
          0.5,
          0.5,
          0.5,
          0.5,
          0.5,
          0.5,
          0.5,
          0.5,
          0.5,
          0.5,
          0.5,
          0.5
         ]
        }
       ],
       "layout": {
        "autosize": true,
        "boxmode": "group",
        "height": 400,
        "legend": {
         "orientation": "h",
         "x": 0.2,
         "y": 1.01,
         "yanchor": "bottom"
        },
        "plot_bgcolor": "rgba(0,0,0,0)",
        "template": {
         "data": {
          "bar": [
           {
            "error_x": {
             "color": "#2a3f5f"
            },
            "error_y": {
             "color": "#2a3f5f"
            },
            "marker": {
             "line": {
              "color": "#E5ECF6",
              "width": 0.5
             }
            },
            "type": "bar"
           }
          ],
          "barpolar": [
           {
            "marker": {
             "line": {
              "color": "#E5ECF6",
              "width": 0.5
             }
            },
            "type": "barpolar"
           }
          ],
          "carpet": [
           {
            "aaxis": {
             "endlinecolor": "#2a3f5f",
             "gridcolor": "white",
             "linecolor": "white",
             "minorgridcolor": "white",
             "startlinecolor": "#2a3f5f"
            },
            "baxis": {
             "endlinecolor": "#2a3f5f",
             "gridcolor": "white",
             "linecolor": "white",
             "minorgridcolor": "white",
             "startlinecolor": "#2a3f5f"
            },
            "type": "carpet"
           }
          ],
          "choropleth": [
           {
            "colorbar": {
             "outlinewidth": 0,
             "ticks": ""
            },
            "type": "choropleth"
           }
          ],
          "contour": [
           {
            "colorbar": {
             "outlinewidth": 0,
             "ticks": ""
            },
            "colorscale": [
             [
              0,
              "#0d0887"
             ],
             [
              0.1111111111111111,
              "#46039f"
             ],
             [
              0.2222222222222222,
              "#7201a8"
             ],
             [
              0.3333333333333333,
              "#9c179e"
             ],
             [
              0.4444444444444444,
              "#bd3786"
             ],
             [
              0.5555555555555556,
              "#d8576b"
             ],
             [
              0.6666666666666666,
              "#ed7953"
             ],
             [
              0.7777777777777778,
              "#fb9f3a"
             ],
             [
              0.8888888888888888,
              "#fdca26"
             ],
             [
              1,
              "#f0f921"
             ]
            ],
            "type": "contour"
           }
          ],
          "contourcarpet": [
           {
            "colorbar": {
             "outlinewidth": 0,
             "ticks": ""
            },
            "type": "contourcarpet"
           }
          ],
          "heatmap": [
           {
            "colorbar": {
             "outlinewidth": 0,
             "ticks": ""
            },
            "colorscale": [
             [
              0,
              "#0d0887"
             ],
             [
              0.1111111111111111,
              "#46039f"
             ],
             [
              0.2222222222222222,
              "#7201a8"
             ],
             [
              0.3333333333333333,
              "#9c179e"
             ],
             [
              0.4444444444444444,
              "#bd3786"
             ],
             [
              0.5555555555555556,
              "#d8576b"
             ],
             [
              0.6666666666666666,
              "#ed7953"
             ],
             [
              0.7777777777777778,
              "#fb9f3a"
             ],
             [
              0.8888888888888888,
              "#fdca26"
             ],
             [
              1,
              "#f0f921"
             ]
            ],
            "type": "heatmap"
           }
          ],
          "heatmapgl": [
           {
            "colorbar": {
             "outlinewidth": 0,
             "ticks": ""
            },
            "colorscale": [
             [
              0,
              "#0d0887"
             ],
             [
              0.1111111111111111,
              "#46039f"
             ],
             [
              0.2222222222222222,
              "#7201a8"
             ],
             [
              0.3333333333333333,
              "#9c179e"
             ],
             [
              0.4444444444444444,
              "#bd3786"
             ],
             [
              0.5555555555555556,
              "#d8576b"
             ],
             [
              0.6666666666666666,
              "#ed7953"
             ],
             [
              0.7777777777777778,
              "#fb9f3a"
             ],
             [
              0.8888888888888888,
              "#fdca26"
             ],
             [
              1,
              "#f0f921"
             ]
            ],
            "type": "heatmapgl"
           }
          ],
          "histogram": [
           {
            "marker": {
             "colorbar": {
              "outlinewidth": 0,
              "ticks": ""
             }
            },
            "type": "histogram"
           }
          ],
          "histogram2d": [
           {
            "colorbar": {
             "outlinewidth": 0,
             "ticks": ""
            },
            "colorscale": [
             [
              0,
              "#0d0887"
             ],
             [
              0.1111111111111111,
              "#46039f"
             ],
             [
              0.2222222222222222,
              "#7201a8"
             ],
             [
              0.3333333333333333,
              "#9c179e"
             ],
             [
              0.4444444444444444,
              "#bd3786"
             ],
             [
              0.5555555555555556,
              "#d8576b"
             ],
             [
              0.6666666666666666,
              "#ed7953"
             ],
             [
              0.7777777777777778,
              "#fb9f3a"
             ],
             [
              0.8888888888888888,
              "#fdca26"
             ],
             [
              1,
              "#f0f921"
             ]
            ],
            "type": "histogram2d"
           }
          ],
          "histogram2dcontour": [
           {
            "colorbar": {
             "outlinewidth": 0,
             "ticks": ""
            },
            "colorscale": [
             [
              0,
              "#0d0887"
             ],
             [
              0.1111111111111111,
              "#46039f"
             ],
             [
              0.2222222222222222,
              "#7201a8"
             ],
             [
              0.3333333333333333,
              "#9c179e"
             ],
             [
              0.4444444444444444,
              "#bd3786"
             ],
             [
              0.5555555555555556,
              "#d8576b"
             ],
             [
              0.6666666666666666,
              "#ed7953"
             ],
             [
              0.7777777777777778,
              "#fb9f3a"
             ],
             [
              0.8888888888888888,
              "#fdca26"
             ],
             [
              1,
              "#f0f921"
             ]
            ],
            "type": "histogram2dcontour"
           }
          ],
          "mesh3d": [
           {
            "colorbar": {
             "outlinewidth": 0,
             "ticks": ""
            },
            "type": "mesh3d"
           }
          ],
          "parcoords": [
           {
            "line": {
             "colorbar": {
              "outlinewidth": 0,
              "ticks": ""
             }
            },
            "type": "parcoords"
           }
          ],
          "pie": [
           {
            "automargin": true,
            "type": "pie"
           }
          ],
          "scatter": [
           {
            "marker": {
             "colorbar": {
              "outlinewidth": 0,
              "ticks": ""
             }
            },
            "type": "scatter"
           }
          ],
          "scatter3d": [
           {
            "line": {
             "colorbar": {
              "outlinewidth": 0,
              "ticks": ""
             }
            },
            "marker": {
             "colorbar": {
              "outlinewidth": 0,
              "ticks": ""
             }
            },
            "type": "scatter3d"
           }
          ],
          "scattercarpet": [
           {
            "marker": {
             "colorbar": {
              "outlinewidth": 0,
              "ticks": ""
             }
            },
            "type": "scattercarpet"
           }
          ],
          "scattergeo": [
           {
            "marker": {
             "colorbar": {
              "outlinewidth": 0,
              "ticks": ""
             }
            },
            "type": "scattergeo"
           }
          ],
          "scattergl": [
           {
            "marker": {
             "colorbar": {
              "outlinewidth": 0,
              "ticks": ""
             }
            },
            "type": "scattergl"
           }
          ],
          "scattermapbox": [
           {
            "marker": {
             "colorbar": {
              "outlinewidth": 0,
              "ticks": ""
             }
            },
            "type": "scattermapbox"
           }
          ],
          "scatterpolar": [
           {
            "marker": {
             "colorbar": {
              "outlinewidth": 0,
              "ticks": ""
             }
            },
            "type": "scatterpolar"
           }
          ],
          "scatterpolargl": [
           {
            "marker": {
             "colorbar": {
              "outlinewidth": 0,
              "ticks": ""
             }
            },
            "type": "scatterpolargl"
           }
          ],
          "scatterternary": [
           {
            "marker": {
             "colorbar": {
              "outlinewidth": 0,
              "ticks": ""
             }
            },
            "type": "scatterternary"
           }
          ],
          "surface": [
           {
            "colorbar": {
             "outlinewidth": 0,
             "ticks": ""
            },
            "colorscale": [
             [
              0,
              "#0d0887"
             ],
             [
              0.1111111111111111,
              "#46039f"
             ],
             [
              0.2222222222222222,
              "#7201a8"
             ],
             [
              0.3333333333333333,
              "#9c179e"
             ],
             [
              0.4444444444444444,
              "#bd3786"
             ],
             [
              0.5555555555555556,
              "#d8576b"
             ],
             [
              0.6666666666666666,
              "#ed7953"
             ],
             [
              0.7777777777777778,
              "#fb9f3a"
             ],
             [
              0.8888888888888888,
              "#fdca26"
             ],
             [
              1,
              "#f0f921"
             ]
            ],
            "type": "surface"
           }
          ],
          "table": [
           {
            "cells": {
             "fill": {
              "color": "#EBF0F8"
             },
             "line": {
              "color": "white"
             }
            },
            "header": {
             "fill": {
              "color": "#C8D4E3"
             },
             "line": {
              "color": "white"
             }
            },
            "type": "table"
           }
          ]
         },
         "layout": {
          "annotationdefaults": {
           "arrowcolor": "#2a3f5f",
           "arrowhead": 0,
           "arrowwidth": 1
          },
          "coloraxis": {
           "colorbar": {
            "outlinewidth": 0,
            "ticks": ""
           }
          },
          "colorscale": {
           "diverging": [
            [
             0,
             "#8e0152"
            ],
            [
             0.1,
             "#c51b7d"
            ],
            [
             0.2,
             "#de77ae"
            ],
            [
             0.3,
             "#f1b6da"
            ],
            [
             0.4,
             "#fde0ef"
            ],
            [
             0.5,
             "#f7f7f7"
            ],
            [
             0.6,
             "#e6f5d0"
            ],
            [
             0.7,
             "#b8e186"
            ],
            [
             0.8,
             "#7fbc41"
            ],
            [
             0.9,
             "#4d9221"
            ],
            [
             1,
             "#276419"
            ]
           ],
           "sequential": [
            [
             0,
             "#0d0887"
            ],
            [
             0.1111111111111111,
             "#46039f"
            ],
            [
             0.2222222222222222,
             "#7201a8"
            ],
            [
             0.3333333333333333,
             "#9c179e"
            ],
            [
             0.4444444444444444,
             "#bd3786"
            ],
            [
             0.5555555555555556,
             "#d8576b"
            ],
            [
             0.6666666666666666,
             "#ed7953"
            ],
            [
             0.7777777777777778,
             "#fb9f3a"
            ],
            [
             0.8888888888888888,
             "#fdca26"
            ],
            [
             1,
             "#f0f921"
            ]
           ],
           "sequentialminus": [
            [
             0,
             "#0d0887"
            ],
            [
             0.1111111111111111,
             "#46039f"
            ],
            [
             0.2222222222222222,
             "#7201a8"
            ],
            [
             0.3333333333333333,
             "#9c179e"
            ],
            [
             0.4444444444444444,
             "#bd3786"
            ],
            [
             0.5555555555555556,
             "#d8576b"
            ],
            [
             0.6666666666666666,
             "#ed7953"
            ],
            [
             0.7777777777777778,
             "#fb9f3a"
            ],
            [
             0.8888888888888888,
             "#fdca26"
            ],
            [
             1,
             "#f0f921"
            ]
           ]
          },
          "colorway": [
           "#636efa",
           "#EF553B",
           "#00cc96",
           "#ab63fa",
           "#FFA15A",
           "#19d3f3",
           "#FF6692",
           "#B6E880",
           "#FF97FF",
           "#FECB52"
          ],
          "font": {
           "color": "#2a3f5f"
          },
          "geo": {
           "bgcolor": "white",
           "lakecolor": "white",
           "landcolor": "#E5ECF6",
           "showlakes": true,
           "showland": true,
           "subunitcolor": "white"
          },
          "hoverlabel": {
           "align": "left"
          },
          "hovermode": "closest",
          "mapbox": {
           "style": "light"
          },
          "paper_bgcolor": "white",
          "plot_bgcolor": "#E5ECF6",
          "polar": {
           "angularaxis": {
            "gridcolor": "white",
            "linecolor": "white",
            "ticks": ""
           },
           "bgcolor": "#E5ECF6",
           "radialaxis": {
            "gridcolor": "white",
            "linecolor": "white",
            "ticks": ""
           }
          },
          "scene": {
           "xaxis": {
            "backgroundcolor": "#E5ECF6",
            "gridcolor": "white",
            "gridwidth": 2,
            "linecolor": "white",
            "showbackground": true,
            "ticks": "",
            "zerolinecolor": "white"
           },
           "yaxis": {
            "backgroundcolor": "#E5ECF6",
            "gridcolor": "white",
            "gridwidth": 2,
            "linecolor": "white",
            "showbackground": true,
            "ticks": "",
            "zerolinecolor": "white"
           },
           "zaxis": {
            "backgroundcolor": "#E5ECF6",
            "gridcolor": "white",
            "gridwidth": 2,
            "linecolor": "white",
            "showbackground": true,
            "ticks": "",
            "zerolinecolor": "white"
           }
          },
          "shapedefaults": {
           "line": {
            "color": "#2a3f5f"
           }
          },
          "ternary": {
           "aaxis": {
            "gridcolor": "white",
            "linecolor": "white",
            "ticks": ""
           },
           "baxis": {
            "gridcolor": "white",
            "linecolor": "white",
            "ticks": ""
           },
           "bgcolor": "#E5ECF6",
           "caxis": {
            "gridcolor": "white",
            "linecolor": "white",
            "ticks": ""
           }
          },
          "title": {
           "x": 0.05
          },
          "xaxis": {
           "automargin": true,
           "gridcolor": "white",
           "linecolor": "white",
           "ticks": "",
           "title": {
            "standoff": 15
           },
           "zerolinecolor": "white",
           "zerolinewidth": 2
          },
          "yaxis": {
           "automargin": true,
           "gridcolor": "white",
           "linecolor": "white",
           "ticks": "",
           "title": {
            "standoff": 15
           },
           "zerolinecolor": "white",
           "zerolinewidth": 2
          }
         }
        },
        "xaxis": {
         "dtick": 2,
         "linecolor": "black",
         "linewidth": 0.5,
         "mirror": true,
         "tick0": 2,
         "tickfont": {
          "size": 14
         },
         "title": {
          "text": "Days of Training"
         }
        },
        "yaxis": {
         "dtick": 0.1,
         "linecolor": "black",
         "linewidth": 0.5,
         "mirror": true,
         "tick0": 0.1,
         "tickfont": {
          "size": 14
         },
         "title": {
          "text": "Performance"
         }
        }
       }
      },
      "text/html": [
       "<div>                            <div id=\"f956fe79-5625-4bda-8b1d-6acb42dabaec\" class=\"plotly-graph-div\" style=\"height:400px; width:100%;\"></div>            <script type=\"text/javascript\">                require([\"plotly\"], function(Plotly) {                    window.PLOTLYENV=window.PLOTLYENV || {};                                    if (document.getElementById(\"f956fe79-5625-4bda-8b1d-6acb42dabaec\")) {                    Plotly.newPlot(                        \"f956fe79-5625-4bda-8b1d-6acb42dabaec\",                        [{\"marker\": {\"color\": \"darkgoldenrod\"}, \"name\": \"R^2\", \"showlegend\": true, \"type\": \"box\", \"x\": [\"2\", \"2\", \"2\", \"2\", \"4\", \"4\", \"4\", \"4\", \"6\", \"6\", \"6\", \"6\", \"8\", \"8\", \"8\", \"8\", \"10\", \"10\", \"10\", \"10\", \"12\", \"12\", \"12\", \"12\", \"14\", \"14\", \"14\", \"14\", \"16\", \"16\", \"16\", \"16\", \"18\", \"18\", \"18\", \"18\", \"20\", \"20\", \"20\", \"20\"], \"y\": [0.79, 0.47, 0.52, 0.88, 0.62, 0.86, 0.69, 0.64, 0.86, 0.7, 0.94, 0.74, 0.67, 0.86, 0.72, 0.94, 0.83, 0.71, 0.86, 0.73, 0.93, 0.83, 0.75, 0.88, 0.73, 0.95, 0.83, 0.74, 0.9, 0.75, 0.95, 0.84, 0.76, 0.9, 0.76, 0.95, 0.83, 0.77, 0.92, 0.79, 0.94, 0.85, 0.77, 0.92, 0.78, 0.94, 0.86, 0.76, 0.91, 0.8]}, {\"marker\": {\"color\": \"teal\"}, \"name\": \"RMAE\", \"showlegend\": true, \"type\": \"box\", \"x\": [\"2\", \"2\", \"2\", \"2\", \"4\", \"4\", \"4\", \"4\", \"6\", \"6\", \"6\", \"6\", \"8\", \"8\", \"8\", \"8\", \"10\", \"10\", \"10\", \"10\", \"12\", \"12\", \"12\", \"12\", \"14\", \"14\", \"14\", \"14\", \"16\", \"16\", \"16\", \"16\", \"18\", \"18\", \"18\", \"18\", \"20\", \"20\", \"20\", \"20\"], \"y\": [0.34, 0.77, 0.4, 0.25, 0.14, 0.27, 0.55, 0.32, 0.27, 0.12, 0.17, 0.52, 0.31, 0.28, 0.12, 0.18, 0.4, 0.29, 0.27, 0.12, 0.18, 0.39, 0.26, 0.25, 0.12, 0.16, 0.4, 0.27, 0.23, 0.12, 0.15, 0.38, 0.26, 0.22, 0.12, 0.15, 0.38, 0.25, 0.2, 0.12, 0.17, 0.36, 0.25, 0.19, 0.12, 0.17, 0.35, 0.25, 0.21, 0.11]}, {\"connectgaps\": true, \"line\": {\"color\": \"navy\", \"dash\": \"dot\", \"shape\": \"linear\", \"width\": 2}, \"mode\": \"lines\", \"name\": \"RC\", \"showlegend\": true, \"type\": \"scatter\", \"x\": [\"0\", \"0\", \"0\", \"0\", \"2\", \"2\", \"2\", \"2\", \"4\", \"4\", \"4\", \"4\", \"6\", \"6\", \"6\", \"6\", \"8\", \"8\", \"8\", \"8\", \"10\", \"10\", \"10\", \"10\", \"12\", \"12\", \"12\", \"12\", \"14\", \"14\", \"14\", \"14\", \"16\", \"16\", \"16\", \"16\", \"18\", \"18\", \"18\", \"18\", \"20\", \"20\", \"20\", \"20\", \"22\", \"22\", \"22\", \"22\"], \"y\": [0.1, 0.1, 0.1, 0.1, 0.1, 0.1, 0.1, 0.1, 0.1, 0.1, 0.1, 0.1, 0.1, 0.1, 0.1, 0.1, 0.1, 0.1, 0.1, 0.1, 0.1, 0.1, 0.1, 0.1, 0.1, 0.1, 0.1, 0.1, 0.1, 0.1, 0.1, 0.1, 0.1, 0.1, 0.1, 0.1, 0.1, 0.1, 0.1, 0.1, 0.1, 0.1, 0.1, 0.1, 0.1, 0.1, 0.1, 0.1]}, {\"connectgaps\": true, \"line\": {\"color\": \"purple\", \"dash\": \"dot\", \"shape\": \"linear\", \"width\": 2}, \"mode\": \"lines\", \"name\": \"SGS\", \"showlegend\": true, \"type\": \"scatter\", \"x\": [\"0\", \"0\", \"0\", \"0\", \"2\", \"2\", \"2\", \"2\", \"4\", \"4\", \"4\", \"4\", \"6\", \"6\", \"6\", \"6\", \"8\", \"8\", \"8\", \"8\", \"10\", \"10\", \"10\", \"10\", \"12\", \"12\", \"12\", \"12\", \"14\", \"14\", \"14\", \"14\", \"16\", \"16\", \"16\", \"16\", \"18\", \"18\", \"18\", \"18\", \"20\", \"20\", \"20\", \"20\", \"22\", \"22\", \"22\", \"22\"], \"y\": [0.25, 0.25, 0.25, 0.25, 0.25, 0.25, 0.25, 0.25, 0.25, 0.25, 0.25, 0.25, 0.25, 0.25, 0.25, 0.25, 0.25, 0.25, 0.25, 0.25, 0.25, 0.25, 0.25, 0.25, 0.25, 0.25, 0.25, 0.25, 0.25, 0.25, 0.25, 0.25, 0.25, 0.25, 0.25, 0.25, 0.25, 0.25, 0.25, 0.25, 0.25, 0.25, 0.25, 0.25, 0.25, 0.25, 0.25, 0.25]}, {\"connectgaps\": true, \"line\": {\"color\": \"darkolivegreen\", \"dash\": \"dot\", \"shape\": \"linear\", \"width\": 2}, \"mode\": \"lines\", \"name\": \"IS/IM\", \"showlegend\": true, \"type\": \"scatter\", \"x\": [\"0\", \"0\", \"0\", \"0\", \"2\", \"2\", \"2\", \"2\", \"4\", \"4\", \"4\", \"4\", \"6\", \"6\", \"6\", \"6\", \"8\", \"8\", \"8\", \"8\", \"10\", \"10\", \"10\", \"10\", \"12\", \"12\", \"12\", \"12\", \"14\", \"14\", \"14\", \"14\", \"16\", \"16\", \"16\", \"16\", \"18\", \"18\", \"18\", \"18\", \"20\", \"20\", \"20\", \"20\", \"22\", \"22\", \"22\", \"22\"], \"y\": [0.3, 0.3, 0.3, 0.3, 0.3, 0.3, 0.3, 0.3, 0.3, 0.3, 0.3, 0.3, 0.3, 0.3, 0.3, 0.3, 0.3, 0.3, 0.3, 0.3, 0.3, 0.3, 0.3, 0.3, 0.3, 0.3, 0.3, 0.3, 0.3, 0.3, 0.3, 0.3, 0.3, 0.3, 0.3, 0.3, 0.3, 0.3, 0.3, 0.3, 0.3, 0.3, 0.3, 0.3, 0.3, 0.3, 0.3, 0.3]}, {\"connectgaps\": true, \"line\": {\"color\": \"dodgerblue\", \"dash\": \"dot\", \"shape\": \"linear\", \"width\": 2}, \"mode\": \"lines\", \"name\": \"HA/SP\", \"showlegend\": true, \"type\": \"scatter\", \"x\": [\"0\", \"0\", \"0\", \"0\", \"2\", \"2\", \"2\", \"2\", \"4\", \"4\", \"4\", \"4\", \"6\", \"6\", \"6\", \"6\", \"8\", \"8\", \"8\", \"8\", \"10\", \"10\", \"10\", \"10\", \"12\", \"12\", \"12\", \"12\", \"14\", \"14\", \"14\", \"14\", \"16\", \"16\", \"16\", \"16\", \"18\", \"18\", \"18\", \"18\", \"20\", \"20\", \"20\", \"20\", \"22\", \"22\", \"22\", \"22\"], \"y\": [0.5, 0.5, 0.5, 0.5, 0.5, 0.5, 0.5, 0.5, 0.5, 0.5, 0.5, 0.5, 0.5, 0.5, 0.5, 0.5, 0.5, 0.5, 0.5, 0.5, 0.5, 0.5, 0.5, 0.5, 0.5, 0.5, 0.5, 0.5, 0.5, 0.5, 0.5, 0.5, 0.5, 0.5, 0.5, 0.5, 0.5, 0.5, 0.5, 0.5, 0.5, 0.5, 0.5, 0.5, 0.5, 0.5, 0.5, 0.5]}],                        {\"autosize\": true, \"boxmode\": \"group\", \"height\": 400, \"legend\": {\"orientation\": \"h\", \"x\": 0.2, \"y\": 1.01, \"yanchor\": \"bottom\"}, \"plot_bgcolor\": \"rgba(0,0,0,0)\", \"template\": {\"data\": {\"bar\": [{\"error_x\": {\"color\": \"#2a3f5f\"}, \"error_y\": {\"color\": \"#2a3f5f\"}, \"marker\": {\"line\": {\"color\": \"#E5ECF6\", \"width\": 0.5}}, \"type\": \"bar\"}], \"barpolar\": [{\"marker\": {\"line\": {\"color\": \"#E5ECF6\", \"width\": 0.5}}, \"type\": \"barpolar\"}], \"carpet\": [{\"aaxis\": {\"endlinecolor\": \"#2a3f5f\", \"gridcolor\": \"white\", \"linecolor\": \"white\", \"minorgridcolor\": \"white\", \"startlinecolor\": \"#2a3f5f\"}, \"baxis\": {\"endlinecolor\": \"#2a3f5f\", \"gridcolor\": \"white\", \"linecolor\": \"white\", \"minorgridcolor\": \"white\", \"startlinecolor\": \"#2a3f5f\"}, \"type\": \"carpet\"}], \"choropleth\": [{\"colorbar\": {\"outlinewidth\": 0, \"ticks\": \"\"}, \"type\": \"choropleth\"}], \"contour\": [{\"colorbar\": {\"outlinewidth\": 0, \"ticks\": \"\"}, \"colorscale\": [[0.0, \"#0d0887\"], [0.1111111111111111, \"#46039f\"], [0.2222222222222222, \"#7201a8\"], [0.3333333333333333, \"#9c179e\"], [0.4444444444444444, \"#bd3786\"], [0.5555555555555556, \"#d8576b\"], [0.6666666666666666, \"#ed7953\"], [0.7777777777777778, \"#fb9f3a\"], [0.8888888888888888, \"#fdca26\"], [1.0, \"#f0f921\"]], \"type\": \"contour\"}], \"contourcarpet\": [{\"colorbar\": {\"outlinewidth\": 0, \"ticks\": \"\"}, \"type\": \"contourcarpet\"}], \"heatmap\": [{\"colorbar\": {\"outlinewidth\": 0, \"ticks\": \"\"}, \"colorscale\": [[0.0, \"#0d0887\"], [0.1111111111111111, \"#46039f\"], [0.2222222222222222, \"#7201a8\"], [0.3333333333333333, \"#9c179e\"], [0.4444444444444444, \"#bd3786\"], [0.5555555555555556, \"#d8576b\"], [0.6666666666666666, \"#ed7953\"], [0.7777777777777778, \"#fb9f3a\"], [0.8888888888888888, \"#fdca26\"], [1.0, \"#f0f921\"]], \"type\": \"heatmap\"}], \"heatmapgl\": [{\"colorbar\": {\"outlinewidth\": 0, \"ticks\": \"\"}, \"colorscale\": [[0.0, \"#0d0887\"], [0.1111111111111111, \"#46039f\"], [0.2222222222222222, \"#7201a8\"], [0.3333333333333333, \"#9c179e\"], [0.4444444444444444, \"#bd3786\"], [0.5555555555555556, \"#d8576b\"], [0.6666666666666666, \"#ed7953\"], [0.7777777777777778, \"#fb9f3a\"], [0.8888888888888888, \"#fdca26\"], [1.0, \"#f0f921\"]], \"type\": \"heatmapgl\"}], \"histogram\": [{\"marker\": {\"colorbar\": {\"outlinewidth\": 0, \"ticks\": \"\"}}, \"type\": \"histogram\"}], \"histogram2d\": [{\"colorbar\": {\"outlinewidth\": 0, \"ticks\": \"\"}, \"colorscale\": [[0.0, \"#0d0887\"], [0.1111111111111111, \"#46039f\"], [0.2222222222222222, \"#7201a8\"], [0.3333333333333333, \"#9c179e\"], [0.4444444444444444, \"#bd3786\"], [0.5555555555555556, \"#d8576b\"], [0.6666666666666666, \"#ed7953\"], [0.7777777777777778, \"#fb9f3a\"], [0.8888888888888888, \"#fdca26\"], [1.0, \"#f0f921\"]], \"type\": \"histogram2d\"}], \"histogram2dcontour\": [{\"colorbar\": {\"outlinewidth\": 0, \"ticks\": \"\"}, \"colorscale\": [[0.0, \"#0d0887\"], [0.1111111111111111, \"#46039f\"], [0.2222222222222222, \"#7201a8\"], [0.3333333333333333, \"#9c179e\"], [0.4444444444444444, \"#bd3786\"], [0.5555555555555556, \"#d8576b\"], [0.6666666666666666, \"#ed7953\"], [0.7777777777777778, \"#fb9f3a\"], [0.8888888888888888, \"#fdca26\"], [1.0, \"#f0f921\"]], \"type\": \"histogram2dcontour\"}], \"mesh3d\": [{\"colorbar\": {\"outlinewidth\": 0, \"ticks\": \"\"}, \"type\": \"mesh3d\"}], \"parcoords\": [{\"line\": {\"colorbar\": {\"outlinewidth\": 0, \"ticks\": \"\"}}, \"type\": \"parcoords\"}], \"pie\": [{\"automargin\": true, \"type\": \"pie\"}], \"scatter\": [{\"marker\": {\"colorbar\": {\"outlinewidth\": 0, \"ticks\": \"\"}}, \"type\": \"scatter\"}], \"scatter3d\": [{\"line\": {\"colorbar\": {\"outlinewidth\": 0, \"ticks\": \"\"}}, \"marker\": {\"colorbar\": {\"outlinewidth\": 0, \"ticks\": \"\"}}, \"type\": \"scatter3d\"}], \"scattercarpet\": [{\"marker\": {\"colorbar\": {\"outlinewidth\": 0, \"ticks\": \"\"}}, \"type\": \"scattercarpet\"}], \"scattergeo\": [{\"marker\": {\"colorbar\": {\"outlinewidth\": 0, \"ticks\": \"\"}}, \"type\": \"scattergeo\"}], \"scattergl\": [{\"marker\": {\"colorbar\": {\"outlinewidth\": 0, \"ticks\": \"\"}}, \"type\": \"scattergl\"}], \"scattermapbox\": [{\"marker\": {\"colorbar\": {\"outlinewidth\": 0, \"ticks\": \"\"}}, \"type\": \"scattermapbox\"}], \"scatterpolar\": [{\"marker\": {\"colorbar\": {\"outlinewidth\": 0, \"ticks\": \"\"}}, \"type\": \"scatterpolar\"}], \"scatterpolargl\": [{\"marker\": {\"colorbar\": {\"outlinewidth\": 0, \"ticks\": \"\"}}, \"type\": \"scatterpolargl\"}], \"scatterternary\": [{\"marker\": {\"colorbar\": {\"outlinewidth\": 0, \"ticks\": \"\"}}, \"type\": \"scatterternary\"}], \"surface\": [{\"colorbar\": {\"outlinewidth\": 0, \"ticks\": \"\"}, \"colorscale\": [[0.0, \"#0d0887\"], [0.1111111111111111, \"#46039f\"], [0.2222222222222222, \"#7201a8\"], [0.3333333333333333, \"#9c179e\"], [0.4444444444444444, \"#bd3786\"], [0.5555555555555556, \"#d8576b\"], [0.6666666666666666, \"#ed7953\"], [0.7777777777777778, \"#fb9f3a\"], [0.8888888888888888, \"#fdca26\"], [1.0, \"#f0f921\"]], \"type\": \"surface\"}], \"table\": [{\"cells\": {\"fill\": {\"color\": \"#EBF0F8\"}, \"line\": {\"color\": \"white\"}}, \"header\": {\"fill\": {\"color\": \"#C8D4E3\"}, \"line\": {\"color\": \"white\"}}, \"type\": \"table\"}]}, \"layout\": {\"annotationdefaults\": {\"arrowcolor\": \"#2a3f5f\", \"arrowhead\": 0, \"arrowwidth\": 1}, \"coloraxis\": {\"colorbar\": {\"outlinewidth\": 0, \"ticks\": \"\"}}, \"colorscale\": {\"diverging\": [[0, \"#8e0152\"], [0.1, \"#c51b7d\"], [0.2, \"#de77ae\"], [0.3, \"#f1b6da\"], [0.4, \"#fde0ef\"], [0.5, \"#f7f7f7\"], [0.6, \"#e6f5d0\"], [0.7, \"#b8e186\"], [0.8, \"#7fbc41\"], [0.9, \"#4d9221\"], [1, \"#276419\"]], \"sequential\": [[0.0, \"#0d0887\"], [0.1111111111111111, \"#46039f\"], [0.2222222222222222, \"#7201a8\"], [0.3333333333333333, \"#9c179e\"], [0.4444444444444444, \"#bd3786\"], [0.5555555555555556, \"#d8576b\"], [0.6666666666666666, \"#ed7953\"], [0.7777777777777778, \"#fb9f3a\"], [0.8888888888888888, \"#fdca26\"], [1.0, \"#f0f921\"]], \"sequentialminus\": [[0.0, \"#0d0887\"], [0.1111111111111111, \"#46039f\"], [0.2222222222222222, \"#7201a8\"], [0.3333333333333333, \"#9c179e\"], [0.4444444444444444, \"#bd3786\"], [0.5555555555555556, \"#d8576b\"], [0.6666666666666666, \"#ed7953\"], [0.7777777777777778, \"#fb9f3a\"], [0.8888888888888888, \"#fdca26\"], [1.0, \"#f0f921\"]]}, \"colorway\": [\"#636efa\", \"#EF553B\", \"#00cc96\", \"#ab63fa\", \"#FFA15A\", \"#19d3f3\", \"#FF6692\", \"#B6E880\", \"#FF97FF\", \"#FECB52\"], \"font\": {\"color\": \"#2a3f5f\"}, \"geo\": {\"bgcolor\": \"white\", \"lakecolor\": \"white\", \"landcolor\": \"#E5ECF6\", \"showlakes\": true, \"showland\": true, \"subunitcolor\": \"white\"}, \"hoverlabel\": {\"align\": \"left\"}, \"hovermode\": \"closest\", \"mapbox\": {\"style\": \"light\"}, \"paper_bgcolor\": \"white\", \"plot_bgcolor\": \"#E5ECF6\", \"polar\": {\"angularaxis\": {\"gridcolor\": \"white\", \"linecolor\": \"white\", \"ticks\": \"\"}, \"bgcolor\": \"#E5ECF6\", \"radialaxis\": {\"gridcolor\": \"white\", \"linecolor\": \"white\", \"ticks\": \"\"}}, \"scene\": {\"xaxis\": {\"backgroundcolor\": \"#E5ECF6\", \"gridcolor\": \"white\", \"gridwidth\": 2, \"linecolor\": \"white\", \"showbackground\": true, \"ticks\": \"\", \"zerolinecolor\": \"white\"}, \"yaxis\": {\"backgroundcolor\": \"#E5ECF6\", \"gridcolor\": \"white\", \"gridwidth\": 2, \"linecolor\": \"white\", \"showbackground\": true, \"ticks\": \"\", \"zerolinecolor\": \"white\"}, \"zaxis\": {\"backgroundcolor\": \"#E5ECF6\", \"gridcolor\": \"white\", \"gridwidth\": 2, \"linecolor\": \"white\", \"showbackground\": true, \"ticks\": \"\", \"zerolinecolor\": \"white\"}}, \"shapedefaults\": {\"line\": {\"color\": \"#2a3f5f\"}}, \"ternary\": {\"aaxis\": {\"gridcolor\": \"white\", \"linecolor\": \"white\", \"ticks\": \"\"}, \"baxis\": {\"gridcolor\": \"white\", \"linecolor\": \"white\", \"ticks\": \"\"}, \"bgcolor\": \"#E5ECF6\", \"caxis\": {\"gridcolor\": \"white\", \"linecolor\": \"white\", \"ticks\": \"\"}}, \"title\": {\"x\": 0.05}, \"xaxis\": {\"automargin\": true, \"gridcolor\": \"white\", \"linecolor\": \"white\", \"ticks\": \"\", \"title\": {\"standoff\": 15}, \"zerolinecolor\": \"white\", \"zerolinewidth\": 2}, \"yaxis\": {\"automargin\": true, \"gridcolor\": \"white\", \"linecolor\": \"white\", \"ticks\": \"\", \"title\": {\"standoff\": 15}, \"zerolinecolor\": \"white\", \"zerolinewidth\": 2}}}, \"xaxis\": {\"dtick\": 2, \"linecolor\": \"black\", \"linewidth\": 0.5, \"mirror\": true, \"tick0\": 2, \"tickfont\": {\"size\": 14}, \"title\": {\"text\": \"Days of Training\"}}, \"yaxis\": {\"dtick\": 0.1, \"linecolor\": \"black\", \"linewidth\": 0.5, \"mirror\": true, \"tick0\": 0.1, \"tickfont\": {\"size\": 14}, \"title\": {\"text\": \"Performance\"}}},                        {\"responsive\": true}                    ).then(function(){\n",
       "                            \n",
       "var gd = document.getElementById('f956fe79-5625-4bda-8b1d-6acb42dabaec');\n",
       "var x = new MutationObserver(function (mutations, observer) {{\n",
       "        var display = window.getComputedStyle(gd).display;\n",
       "        if (!display || display === 'none') {{\n",
       "            console.log([gd, 'removed!']);\n",
       "            Plotly.purge(gd);\n",
       "            observer.disconnect();\n",
       "        }}\n",
       "}});\n",
       "\n",
       "// Listen for the removal of the full notebook cells\n",
       "var notebookContainer = gd.closest('#notebook-container');\n",
       "if (notebookContainer) {{\n",
       "    x.observe(notebookContainer, {childList: true});\n",
       "}}\n",
       "\n",
       "// Listen for the clearing of the current output cell\n",
       "var outputEl = gd.closest('.output');\n",
       "if (outputEl) {{\n",
       "    x.observe(outputEl, {childList: true});\n",
       "}}\n",
       "\n",
       "                        })                };                });            </script>        </div>"
      ]
     },
     "metadata": {},
     "output_type": "display_data"
    }
   ],
   "source": [
    "import chart_studio\n",
    "fig = go.Figure() \n",
    "a = np.array([1, 2, 3, 4, 5])\n",
    "b = np.array([1, 3, 2, 3, 1])\n",
    "# Defining x axis\n",
    "x = x\n",
    "fig.add_trace(go.Box(\n",
    "  \n",
    "    # defining y axis in corresponding\n",
    "    # to x-axis\n",
    "    y=RF_P,\n",
    "    x=x,\n",
    "    name='R^2',\n",
    "    marker_color='darkgoldenrod',\n",
    "    showlegend=True\n",
    "   \n",
    "))\n",
    "#fig.add_trace(go.Box(\n",
    "    #y=ANN_P,\n",
    "   #x=x,\n",
    "    #name='XGBoost(R^2)',\n",
    "    #marker_color='deeppink',\n",
    "    #showlegend=True\n",
    "\n",
    "#))\n",
    "\n",
    "fig.add_trace(go.Box(\n",
    "  \n",
    "    #defining y axis in corresponding\n",
    "   # to x-axis\n",
    "    y=RF_R,\n",
    "    x=x,\n",
    "    name='RMAE',\n",
    "    marker_color='teal',\n",
    "    showlegend=True\n",
    "   \n",
    "))\n",
    "#fig.add_trace(go.Box(\n",
    "   #y=ANN_R,\n",
    "    #x=x,\n",
    "    #name='XGBoost(NMAE)',\n",
    "    #marker_color='deeppink',\n",
    "    #showlegend=True\n",
    "\n",
    "#))\n",
    "fig.add_trace(go.Scatter(x=X,\n",
    "                y=Reg, \n",
    "                name=\"RC\",\n",
    "                mode = 'lines',\n",
    "                #marker_color='dodgerblue',\n",
    "                line = dict(shape = 'linear',width = 2, color = 'navy', dash = 'dot'),\n",
    "                connectgaps = True,\n",
    "                showlegend=True\n",
    "                        ))\n",
    "fig.add_trace(go.Scatter(x=X,\n",
    "                y=Spatial, \n",
    "                name=\"SGS\",\n",
    "                mode = 'lines',\n",
    "                #marker_color='dodgerblue',\n",
    "                line = dict(shape = 'linear',width = 2, color = 'purple', dash = 'dot'),\n",
    "                connectgaps = True,\n",
    "                showlegend=True\n",
    "                    \n",
    "                        ))\n",
    "fig.add_trace(go.Scatter(x=X,\n",
    "                y=Intervention, \n",
    "                name=\"IS/IM\",\n",
    "                mode = 'lines',\n",
    "                #marker_color='dodgerblue',\n",
    "                line = dict(shape = 'linear',width = 2, color = 'darkolivegreen', dash = 'dot'),\n",
    "                connectgaps = True,\n",
    "                showlegend=True\n",
    "                \n",
    "                        ))\n",
    "fig.add_trace(go.Scatter(x=X,\n",
    "                y=Hs_and_sp, \n",
    "                name=\"HA/SP\",\n",
    "                    \n",
    "                mode = 'lines',\n",
    "                #marker_color='dodgerblue',\n",
    "                line = dict(shape = 'linear',width = 2, color = 'dodgerblue', dash = 'dot'),\n",
    "                connectgaps = True,\n",
    "                showlegend=True\n",
    "               \n",
    "                        ))\n",
    "\n",
    "  \n",
    "fig.update_layout(autosize=True,\n",
    "                 #title={'text': \"<b>CO Monthly Calibration Scheme </b>\",\n",
    "        #'y':0.84,\n",
    "        #'x':0.4,\n",
    "        #'xanchor': 'center',\n",
    "        #'yanchor': 'top'}, \n",
    "    #width=1600,\n",
    "    height=400,\n",
    "                  \n",
    "  legend=dict( yanchor=\"bottom\",\n",
    "    y=1.01,\n",
    "    x=0.2,\n",
    "    orientation=\"h\"\n",
    "),\n",
    "    # group together boxes of the different\n",
    "    # traces for each value of x\n",
    "    boxmode='group',\n",
    "                  plot_bgcolor='rgba(0,0,0,0)'\n",
    ")\n",
    "\n",
    "fig.update_xaxes(title_text=\"Days of Training\",tickfont = dict(size=14),linewidth=0.5, linecolor='black',tick0 = 2,\n",
    "        dtick = 2,\n",
    "                 mirror=True)\n",
    "fig.update_yaxes(title_text=\"Performance\",tickfont = dict(size=14),linewidth=0.5, linecolor='black',tick0 = 0.1,\n",
    "        dtick = 0.1,\n",
    "                 mirror=True)\n",
    "fig.show()\n",
    "#chart_studio.plotly.sign_in('vinylango', 'gybbJVWfRSUoTcRRSa6J')\n",
    "#chart_studio.plotly.image.save_as(fig, filename='models_boxplot.png')\n",
    "#Image('models_boxplot.png')"
   ]
  },
  {
   "cell_type": "markdown",
   "id": "colored-factory",
   "metadata": {},
   "source": [
    "Metric1=['RF' for i in range(len(RF))]\n",
    "Metric2=['XGBoost' for i in range(len(ANN))]\n",
    "Model=Metric1+Metric2\n",
    "Training=x+x\n",
    "Values=RF+ANN\n",
    "len(Values)"
   ]
  },
  {
   "cell_type": "markdown",
   "id": "acting-chaos",
   "metadata": {},
   "source": [
    "#Violin plot which also show the density of the distribution\n",
    "import plotly.express as px\n",
    "Metric1=['RF' for i in range(len(RF))]\n",
    "Metric2=['XGBoost' for i in range(len(ANN))]\n",
    "Model=Metric1+Metric2\n",
    "Training=x+x\n",
    "Values=RF+ANN\n",
    "lst=[[Training[i],Values[i],Model[i]] for i in range(len(Model))]\n",
    "df = pd.DataFrame(lst, columns =['Training Days', 'Pearson correlation (r)','Model'])\n",
    "\n",
    "#fig = px.violin( df,y=\"Performance\", x=\"Calibration Model\", color='Metric', box=True,points=\"all\",\n",
    "          #hover_data=df.columns)\n",
    "fig = px.violin( df,y=\"Pearson correlation (r)\", x=\"Training Days\", color='Model', box=True,\n",
    "          hover_data=df.columns)\n",
    "\n",
    "\n",
    "fig.update_layout(autosize=False,\n",
    "    width=900,\n",
    "    height=500)\n",
    "fig.show()\n",
    "#chart_studio.plotly.sign_in('vinylango', 'gybbJVWfRSUoTcRRSa6J')\n",
    "#chart_studio.plotly.image.save_as(fig, filename='models_violinplots.png')\n",
    "#Image('models_violinplots.png')"
   ]
  },
  {
   "cell_type": "markdown",
   "id": "hired-anatomy",
   "metadata": {},
   "source": [
    "# Seasonal Calibration Scheme"
   ]
  },
  {
   "cell_type": "markdown",
   "id": "moderate-house",
   "metadata": {},
   "source": [
    "# Fall"
   ]
  },
  {
   "cell_type": "markdown",
   "id": "organic-anger",
   "metadata": {},
   "source": [
    "# RF"
   ]
  },
  {
   "cell_type": "code",
   "execution_count": 274,
   "id": "scientific-engineer",
   "metadata": {},
   "outputs": [],
   "source": [
    "frame1=[data_oct,data_nov]\n",
    "fall=pd.concat(frame1)\n",
    "fall=fall.sample(frac=1)\n",
    "Day=[5*i for i in range(1,11) ]\n",
    "Fall=fall.resample('h').mean()\n",
    "Fall=Fall.dropna()\n",
    "X=fall[['Net Signal','Lab1','Temp','RH','Month','Day_of_week','Day','Hour','Ref_NO2']]\n",
    "y=fall['Ref']\n",
    "X=Fall[['Net Signal','Temp','RH','Month','Day_of_week','Day','Hour','Ref_NO2']]\n",
    "y=Fall['Ref']\n",
    "X_Train=X[:X.shape[0]-200]\n",
    "X_Test=X[X.shape[0]-200:]\n",
    "y_Train=y[:X.shape[0]-200]\n",
    "y_Test=y[X.shape[0]-200:]\n",
    "X_train, X_test, y_train, y_test=train_test_split(X_Train,y_Train,test_size=0.002)\n",
    "X_test=X_Test\n",
    "y_test=y_Test\n",
    "mean1=np.std(y)\n",
    "Rmse7_rf=[]\n",
    "RMSE7_rf=[]\n",
    "for i in range(1,11):\n",
    "    regressor.fit(X_train[:120*i], y_train[:120*i])\n",
    "    pred=regressor.predict(X_test)\n",
    "    mse=round(mean_absolute_error(y_test,pred)/np.mean(y_test),2)\n",
    "    rmse=round(sm.r2_score(y_test, pred), 2)\n",
    "    Rmse7_rf.append(mse)\n",
    "    RMSE7_rf.append(rmse)"
   ]
  },
  {
   "cell_type": "code",
   "execution_count": 275,
   "id": "spanish-romania",
   "metadata": {},
   "outputs": [
    {
     "data": {
      "text/plain": [
       "[0.33, 0.28, 0.27, 0.26, 0.25, 0.24, 0.24, 0.24, 0.24, 0.24]"
      ]
     },
     "execution_count": 275,
     "metadata": {},
     "output_type": "execute_result"
    }
   ],
   "source": [
    "Rmse7_rf"
   ]
  },
  {
   "cell_type": "code",
   "execution_count": 276,
   "id": "banner-panel",
   "metadata": {},
   "outputs": [
    {
     "data": {
      "text/plain": [
       "[0.83, 0.86, 0.86, 0.87, 0.88, 0.89, 0.89, 0.89, 0.89, 0.89]"
      ]
     },
     "execution_count": 276,
     "metadata": {},
     "output_type": "execute_result"
    }
   ],
   "source": [
    "RMSE7_rf"
   ]
  },
  {
   "cell_type": "markdown",
   "id": "placed-layer",
   "metadata": {},
   "source": [
    "# XGBoost"
   ]
  },
  {
   "cell_type": "code",
   "execution_count": 277,
   "id": "thrown-howard",
   "metadata": {},
   "outputs": [],
   "source": [
    "Rmse7_ann=[]\n",
    "RMSE7_ann=[]\n",
    "for i in range(1,11):\n",
    "    model.fit(X_train[:120*i], y_train[:120*i])\n",
    "    pred=model.predict(X_test)\n",
    "    mse=round(mean_absolute_error(y_test,pred)/np.mean(y_test),2)\n",
    "    rmse=round(sm.r2_score(y_test, pred), 2)\n",
    "    Rmse7_ann.append(mse)\n",
    "    RMSE7_ann.append(rmse)"
   ]
  },
  {
   "cell_type": "code",
   "execution_count": 278,
   "id": "ordered-regard",
   "metadata": {},
   "outputs": [
    {
     "data": {
      "text/plain": [
       "[0.29, 0.23, 0.22, 0.21, 0.21, 0.2, 0.2, 0.2, 0.2, 0.2]"
      ]
     },
     "execution_count": 278,
     "metadata": {},
     "output_type": "execute_result"
    }
   ],
   "source": [
    "Rmse7_ann"
   ]
  },
  {
   "cell_type": "code",
   "execution_count": 279,
   "id": "composite-season",
   "metadata": {},
   "outputs": [
    {
     "data": {
      "text/plain": [
       "[0.86, 0.9, 0.9, 0.92, 0.93, 0.92, 0.92, 0.92, 0.92, 0.92]"
      ]
     },
     "execution_count": 279,
     "metadata": {},
     "output_type": "execute_result"
    }
   ],
   "source": [
    "RMSE7_ann"
   ]
  },
  {
   "cell_type": "markdown",
   "id": "uniform-maldives",
   "metadata": {},
   "source": [
    "# Winter"
   ]
  },
  {
   "cell_type": "markdown",
   "id": "disciplinary-distribution",
   "metadata": {},
   "source": [
    "# RF"
   ]
  },
  {
   "cell_type": "code",
   "execution_count": 280,
   "id": "regulation-cyprus",
   "metadata": {},
   "outputs": [],
   "source": [
    "frame1=[data_dec,data_jan,data_feb]\n",
    "winter=pd.concat(frame1)\n",
    "#winter=winter.sample(frac=1)\n",
    "Winter=winter.resample('h').mean()\n",
    "Winter=Winter.dropna()\n",
    "winter=winter.sample(frac=1)\n",
    "X=winter[['Net Signal','Lab1','Temp','RH','Month','Day_of_week','Day','Hour','Ref_NO2']]\n",
    "y=winter['Ref']\n",
    "X=Winter[['Net Signal','Temp','RH','Month','Day_of_week','Day','Hour','Ref_NO2']]\n",
    "y=Winter['Ref']\n",
    "X_Train=X[:X.shape[0]-200]\n",
    "X_Test=X[X.shape[0]-200:]\n",
    "y_Train=y[:X.shape[0]-200]\n",
    "y_Test=y[X.shape[0]-200:]\n",
    "X_train, X_test, y_train, y_test=train_test_split(X_Train,y_Train,test_size=0.002)\n",
    "X_test=X_Test\n",
    "y_test=y_Test\n",
    "mean2=np.std(y)\n",
    "Rmse8_rf=[]\n",
    "RMSE8_rf=[]\n",
    "for i in range(1,11):\n",
    "    regressor.fit(X_train[:120*i], y_train[:120*i])\n",
    "    pred=regressor.predict(X_test)\n",
    "    mse=round(mean_absolute_error(y_test,pred)/np.mean(y_test),2)\n",
    "    rmse=round(sm.r2_score(y_test, pred), 2)\n",
    "    Rmse8_rf.append(mse)\n",
    "    RMSE8_rf.append(rmse)"
   ]
  },
  {
   "cell_type": "code",
   "execution_count": 281,
   "id": "polish-deposit",
   "metadata": {},
   "outputs": [
    {
     "data": {
      "text/plain": [
       "[0.2, 0.19, 0.19, 0.19, 0.19, 0.19, 0.18, 0.19, 0.18, 0.18]"
      ]
     },
     "execution_count": 281,
     "metadata": {},
     "output_type": "execute_result"
    }
   ],
   "source": [
    "Rmse8_rf"
   ]
  },
  {
   "cell_type": "code",
   "execution_count": 282,
   "id": "sharing-uruguay",
   "metadata": {},
   "outputs": [
    {
     "data": {
      "text/plain": [
       "[0.83, 0.84, 0.84, 0.85, 0.84, 0.84, 0.86, 0.85, 0.86, 0.86]"
      ]
     },
     "execution_count": 282,
     "metadata": {},
     "output_type": "execute_result"
    }
   ],
   "source": [
    "RMSE8_rf"
   ]
  },
  {
   "cell_type": "markdown",
   "id": "promising-fifth",
   "metadata": {},
   "source": [
    "# XGBoost"
   ]
  },
  {
   "cell_type": "code",
   "execution_count": 283,
   "id": "available-section",
   "metadata": {},
   "outputs": [],
   "source": [
    "Rmse8_ann=[]\n",
    "RMSE8_ann=[]\n",
    "for i in range(1,11):\n",
    "    model.fit(X_train[:120*i], y_train[:120*i])\n",
    "    pred=model.predict(X_test)\n",
    "    mse=round(mean_absolute_error(y_test,pred)/np.mean(y_test),2)\n",
    "    rmse=round(sm.r2_score(y_test, pred), 2)\n",
    "    Rmse8_ann.append(mse)\n",
    "    RMSE8_ann.append(rmse)"
   ]
  },
  {
   "cell_type": "code",
   "execution_count": 284,
   "id": "large-pipeline",
   "metadata": {},
   "outputs": [
    {
     "data": {
      "text/plain": [
       "[0.21, 0.19, 0.18, 0.16, 0.17, 0.17, 0.16, 0.16, 0.15, 0.15]"
      ]
     },
     "execution_count": 284,
     "metadata": {},
     "output_type": "execute_result"
    }
   ],
   "source": [
    "Rmse8_ann"
   ]
  },
  {
   "cell_type": "code",
   "execution_count": 285,
   "id": "killing-roommate",
   "metadata": {},
   "outputs": [
    {
     "data": {
      "text/plain": [
       "[0.82, 0.85, 0.86, 0.88, 0.87, 0.88, 0.89, 0.89, 0.9, 0.9]"
      ]
     },
     "execution_count": 285,
     "metadata": {},
     "output_type": "execute_result"
    }
   ],
   "source": [
    "RMSE8_ann"
   ]
  },
  {
   "cell_type": "markdown",
   "id": "phantom-general",
   "metadata": {},
   "source": [
    "# Spring"
   ]
  },
  {
   "cell_type": "markdown",
   "id": "sustainable-consequence",
   "metadata": {},
   "source": [
    "# RF"
   ]
  },
  {
   "cell_type": "code",
   "execution_count": 291,
   "id": "undefined-maine",
   "metadata": {},
   "outputs": [],
   "source": [
    "frame1=[data_mar,data_apr]\n",
    "spring=pd.concat(frame1)\n",
    "Spring=spring.resample('h').mean()\n",
    "Spring=Spring.dropna()\n",
    "spring=spring.sample(frac=1)\n",
    "X=spring[['Net Signal','Lab1','Temp','RH','Month','Day_of_week','Day','Hour','Ref_NO2']]\n",
    "y=spring['Ref']\n",
    "X=Spring[['Net Signal','Temp','RH','Month','Day_of_week','Day','Hour','Ref_NO2']]\n",
    "y=Spring['Ref']\n",
    "X_Train=X[:X.shape[0]-200]\n",
    "X_Test=X[X.shape[0]-200:]\n",
    "y_Train=y[:X.shape[0]-200]\n",
    "y_Test=y[X.shape[0]-200:]\n",
    "X_train, X_test, y_train, y_test=train_test_split(X_Train,y_Train,test_size=0.002)\n",
    "X_test=X_Test\n",
    "y_test=y_Test\n",
    "mean3=np.std(y)\n",
    "Rmse9_rf=[]\n",
    "RMSE9_rf=[]\n",
    "for i in range(1,11):\n",
    "    regressor.fit(X_train[:120*i], y_train[:120*i])\n",
    "    pred=regressor.predict(X_test)\n",
    "    mse=round(mean_absolute_error(y_test,pred)/np.mean(y_test),2)\n",
    "    rmse=round(sm.r2_score(y_test, pred), 2)\n",
    "    Rmse9_rf.append(mse)\n",
    "    RMSE9_rf.append(rmse)"
   ]
  },
  {
   "cell_type": "code",
   "execution_count": 292,
   "id": "faced-commissioner",
   "metadata": {},
   "outputs": [
    {
     "data": {
      "text/plain": [
       "[0.15, 0.14, 0.13, 0.13, 0.13, 0.13, 0.13, 0.13, 0.13, 0.13]"
      ]
     },
     "execution_count": 292,
     "metadata": {},
     "output_type": "execute_result"
    }
   ],
   "source": [
    "Rmse9_rf"
   ]
  },
  {
   "cell_type": "code",
   "execution_count": 293,
   "id": "official-closure",
   "metadata": {},
   "outputs": [
    {
     "data": {
      "text/plain": [
       "[0.7, 0.72, 0.74, 0.74, 0.76, 0.76, 0.76, 0.76, 0.76, 0.76]"
      ]
     },
     "execution_count": 293,
     "metadata": {},
     "output_type": "execute_result"
    }
   ],
   "source": [
    "RMSE9_rf"
   ]
  },
  {
   "cell_type": "markdown",
   "id": "funky-stretch",
   "metadata": {},
   "source": [
    "# XGBoost"
   ]
  },
  {
   "cell_type": "code",
   "execution_count": 294,
   "id": "level-billion",
   "metadata": {},
   "outputs": [],
   "source": [
    "Rmse9_ann=[]\n",
    "RMSE9_ann=[]\n",
    "for i in range(1,11):\n",
    "    model.fit(X_train[:120*i], y_train[:120*i])\n",
    "    pred=model.predict(X_test)\n",
    "    mse=round(mean_absolute_error(y_test,pred)/np.mean(y_test),2)\n",
    "    rmse=round(sm.r2_score(y_test, pred), 2)\n",
    "    Rmse9_ann.append(mse)\n",
    "    RMSE9_ann.append(rmse)"
   ]
  },
  {
   "cell_type": "code",
   "execution_count": 295,
   "id": "italian-hudson",
   "metadata": {},
   "outputs": [
    {
     "data": {
      "image/png": "[encoded data removed]",
      "text/plain": [
       "<Figure size 864x432 with 1 Axes>"
      ]
     },
     "metadata": {
      "needs_background": "light"
     },
     "output_type": "display_data"
    }
   ],
   "source": [
    "fig= plt.figure(figsize=(12,6))\n",
    "ax = fig.add_subplot(111)\n",
    "ax.patch.set_facecolor('lightblue')\n",
    "ax.patch.set_alpha(0.3)\n",
    "plt.plot(Day,Rmse7_rf,color='teal',linewidth=5)\n",
    "plt.plot(Day,Rmse8_rf,color='salmon',linewidth=5)\n",
    "plt.plot(Day,Rmse9_rf,color='lime',linewidth=5)\n",
    "\n",
    "plt.legend(['Fall', 'Winter','Spring'], \n",
    "           loc = 2, bbox_to_anchor = (0.885,1))\n",
    "\n",
    "plt.xlabel('Days of training',fontsize=18)\n",
    "plt.ylabel('RMSE(ppm)',fontsize=18)\n",
    "plt.title('Random Forest(RF) Seasonal Calibration Scheme using CO data(Unshuffled)',fontsize=18)\n",
    "plt.grid(linestyle='-.',linewidth=0.3)"
   ]
  },
  {
   "cell_type": "code",
   "execution_count": 296,
   "id": "suffering-prompt",
   "metadata": {},
   "outputs": [
    {
     "data": {
      "image/png": "[encoded data removed]",
      "text/plain": [
       "<Figure size 864x432 with 1 Axes>"
      ]
     },
     "metadata": {
      "needs_background": "light"
     },
     "output_type": "display_data"
    }
   ],
   "source": [
    "fig= plt.figure(figsize=(12,6))\n",
    "ax = fig.add_subplot(111)\n",
    "ax.patch.set_facecolor('lightblue')\n",
    "ax.patch.set_alpha(0.3)\n",
    "plt.plot(Day,Rmse7_ann,color='teal',linewidth=5)\n",
    "plt.plot(Day,Rmse8_ann,color='salmon',linewidth=5)\n",
    "plt.plot(Day,Rmse9_ann,color='lime',linewidth=5)\n",
    "\n",
    "plt.legend(['Fall', 'Winter','Spring'], \n",
    "           loc = 2, bbox_to_anchor = (0.885,1))\n",
    "\n",
    "plt.xlabel('Days of training',fontsize=18)\n",
    "plt.ylabel('Pearson Correlation (r)',fontsize=18)\n",
    "plt.title('XGBoost Seasonal Calibration Scheme using CO data (Shuffled)',fontsize=18)\n",
    "plt.grid(linestyle='-.',linewidth=0.3)"
   ]
  },
  {
   "cell_type": "code",
   "execution_count": 297,
   "id": "swedish-indonesian",
   "metadata": {},
   "outputs": [],
   "source": [
    "#import chart_studio\n",
    "import plotly.express as px\n",
    "from IPython.display import Image\n",
    "import plotly.graph_objects as go\n",
    "import numpy as np\n",
    "\n",
    "Day_1_rf=[RMSE7_rf[0],RMSE8_rf[0],RMSE9_rf[0]]\n",
    "Day_2_rf=[RMSE7_rf[1],RMSE8_rf[1],RMSE9_rf[1]]\n",
    "Day_3_rf=[RMSE7_rf[2],RMSE8_rf[2],RMSE9_rf[2]]\n",
    "Day_4_rf=[RMSE7_rf[3],RMSE8_rf[3],RMSE9_rf[3]]\n",
    "Day_5_rf=[RMSE7_rf[4],RMSE8_rf[4],RMSE9_rf[4]]\n",
    "Day_6_rf=[RMSE7_rf[5],RMSE8_rf[5],RMSE9_rf[5]]\n",
    "Day_7_rf=[RMSE7_rf[6],RMSE8_rf[6],RMSE9_rf[6]]\n",
    "Day_8_rf=[RMSE7_rf[7],RMSE8_rf[7],RMSE9_rf[7]]\n",
    "Day_9_rf=[RMSE7_rf[8],RMSE8_rf[8],RMSE9_rf[8]]\n",
    "Day_10_rf=[RMSE7_rf[9],RMSE8_rf[9],RMSE9_rf[9]]\n",
    "\n",
    "Day_1_ann=[RMSE7_ann[0],RMSE8_ann[0],RMSE9_ann[0]]\n",
    "Day_2_ann=[RMSE7_ann[1],RMSE8_ann[1],RMSE9_ann[1]]\n",
    "Day_3_ann=[RMSE7_ann[2],RMSE8_ann[2],RMSE9_ann[2]]\n",
    "Day_4_ann=[RMSE7_ann[3],RMSE8_ann[3],RMSE9_ann[3]]\n",
    "Day_5_ann=[RMSE7_ann[4],RMSE8_ann[4],RMSE9_ann[4]]\n",
    "Day_6_ann=[RMSE7_ann[5],RMSE8_ann[5],RMSE9_ann[5]]\n",
    "Day_7_ann=[RMSE7_ann[6],RMSE8_ann[6],RMSE9_ann[6]]\n",
    "Day_8_ann=[RMSE7_ann[7],RMSE8_ann[7],RMSE9_ann[7]]\n",
    "Day_9_ann=[RMSE7_ann[8],RMSE8_ann[8],RMSE9_ann[8]]\n",
    "Day_10_ann=[RMSE7_ann[9],RMSE8_ann[9],RMSE9_ann[9]]\n"
   ]
  },
  {
   "cell_type": "code",
   "execution_count": 298,
   "id": "alike-length",
   "metadata": {},
   "outputs": [],
   "source": [
    "Day_1_RF=[Rmse7_rf[0],Rmse8_rf[0],Rmse9_rf[0]]\n",
    "Day_2_RF=[Rmse7_rf[1],Rmse8_rf[1],Rmse9_rf[1]]\n",
    "Day_3_RF=[Rmse7_rf[2],Rmse8_rf[2],Rmse9_rf[2]]\n",
    "Day_4_RF=[Rmse7_rf[3],Rmse8_rf[3],Rmse9_rf[3]]\n",
    "Day_5_RF=[Rmse7_rf[4],Rmse8_rf[4],Rmse9_rf[4]]\n",
    "Day_6_RF=[Rmse7_rf[5],Rmse8_rf[5],Rmse9_rf[5]]\n",
    "Day_7_RF=[Rmse7_rf[6],Rmse8_rf[6],Rmse9_rf[6]]\n",
    "Day_8_RF=[Rmse7_rf[7],Rmse8_rf[7],Rmse9_rf[7]]\n",
    "Day_9_RF=[Rmse7_rf[8],Rmse8_rf[8],Rmse9_rf[8]]\n",
    "Day_10_RF=[Rmse7_rf[9],Rmse8_rf[9],Rmse9_rf[9]]\n",
    "\n",
    "Day_1_ANN=[Rmse7_ann[0],Rmse8_ann[0],Rmse9_ann[0]]\n",
    "Day_2_ANN=[Rmse7_ann[1],Rmse8_ann[1],Rmse9_ann[1]]\n",
    "Day_3_ANN=[Rmse7_ann[2],Rmse8_ann[2],Rmse9_ann[2]]\n",
    "Day_4_ANN=[Rmse7_ann[3],Rmse8_ann[3],Rmse9_ann[3]]\n",
    "Day_5_ANN=[Rmse7_ann[4],Rmse8_ann[4],Rmse9_ann[4]]\n",
    "Day_6_ANN=[Rmse7_ann[5],Rmse8_ann[5],Rmse9_ann[5]]\n",
    "Day_7_ANN=[Rmse7_ann[6],Rmse8_ann[6],Rmse9_ann[6]]\n",
    "Day_8_ANN=[Rmse7_ann[7],Rmse8_ann[7],Rmse9_ann[7]]\n",
    "Day_9_ANN=[Rmse7_ann[8],Rmse8_ann[8],Rmse9_ann[8]]\n",
    "Day_10_ANN=[Rmse7_ann[9],Rmse8_ann[9],Rmse9_ann[9]]\n"
   ]
  },
  {
   "cell_type": "code",
   "execution_count": 299,
   "id": "daily-ballot",
   "metadata": {},
   "outputs": [],
   "source": [
    "RF_P=Day_1_rf+Day_2_rf+Day_3_rf+Day_4_rf+Day_5_rf+Day_6_rf+Day_7_rf+Day_8_rf+Day_9_rf+Day_10_rf\n",
    "XGBoost_P=Day_1_ann+Day_2_ann+Day_3_ann+Day_4_ann+Day_5_ann+Day_6_ann+Day_7_ann+Day_8_ann+Day_9_ann+Day_10_ann\n",
    "RF_R=Day_1_RF+Day_2_RF+Day_3_RF+Day_4_RF+Day_5_RF+Day_6_RF+Day_7_RF+Day_8_RF+Day_9_RF+Day_10_RF\n",
    "XGBoost_R=Day_1_ANN+Day_2_ANN+Day_3_ANN+Day_4_ANN+Day_5_ANN+Day_6_ANN+Day_7_ANN+Day_8_ANN+Day_9_ANN+Day_10_ANN\n",
    "x0=['0' for i in range(3)]\n",
    "x1=['5' for i in range(3)]\n",
    "x2=['10' for i in range(3)]\n",
    "x3=['15' for i in range(3)]\n",
    "x4=['20' for i in range(3)]\n",
    "x5=['25' for i in range(3)]\n",
    "x6=['30' for i in range(3)]\n",
    "x7=['35' for i in range(3)]\n",
    "x8=['40' for i in range(3)]\n",
    "x9=['45' for i in range(3)]\n",
    "x10=['50' for i in range(3)]\n",
    "x11=['55' for i in range(3)]\n",
    "Reg=[0.1 for i in range(36)]\n",
    "Spatial=[0.25 for i in range(36) ]\n",
    "Intervention=[0.3 for i in range(36) ]\n",
    "Hs_and_sp=[0.5 for i in range(36) ]\n",
    "\n",
    "\n",
    "x=x1+x2+x3+x4+x5+x6+x7+x8+x9+x10\n",
    "X=x0+x1+x2+x3+x4+x5+x6+x7+x8+x9+x10+x11"
   ]
  },
  {
   "cell_type": "code",
   "execution_count": 300,
   "id": "second-flush",
   "metadata": {},
   "outputs": [
    {
     "data": {
      "application/vnd.plotly.v1+json": {
       "config": {
        "plotlyServerURL": "https://plot.ly"
       },
       "data": [
        {
         "marker": {
          "color": "darkblue"
         },
         "name": "R^2",
         "showlegend": true,
         "type": "box",
         "x": [
          "5",
          "5",
          "5",
          "10",
          "10",
          "10",
          "15",
          "15",
          "15",
          "20",
          "20",
          "20",
          "25",
          "25",
          "25",
          "30",
          "30",
          "30",
          "35",
          "35",
          "35",
          "40",
          "40",
          "40",
          "45",
          "45",
          "45",
          "50",
          "50",
          "50"
         ],
         "y": [
          0.83,
          0.83,
          0.7,
          0.86,
          0.84,
          0.72,
          0.86,
          0.84,
          0.74,
          0.87,
          0.85,
          0.74,
          0.88,
          0.84,
          0.76,
          0.89,
          0.84,
          0.76,
          0.89,
          0.86,
          0.76,
          0.89,
          0.85,
          0.76,
          0.89,
          0.86,
          0.76,
          0.89,
          0.86,
          0.76
         ]
        },
        {
         "marker": {
          "color": "olive"
         },
         "name": "RMAE",
         "showlegend": true,
         "type": "box",
         "x": [
          "5",
          "5",
          "5",
          "10",
          "10",
          "10",
          "15",
          "15",
          "15",
          "20",
          "20",
          "20",
          "25",
          "25",
          "25",
          "30",
          "30",
          "30",
          "35",
          "35",
          "35",
          "40",
          "40",
          "40",
          "45",
          "45",
          "45",
          "50",
          "50",
          "50"
         ],
         "y": [
          0.33,
          0.2,
          0.15,
          0.28,
          0.19,
          0.14,
          0.27,
          0.19,
          0.13,
          0.26,
          0.19,
          0.13,
          0.25,
          0.19,
          0.13,
          0.24,
          0.19,
          0.13,
          0.24,
          0.18,
          0.13,
          0.24,
          0.19,
          0.13,
          0.24,
          0.18,
          0.13,
          0.24,
          0.18,
          0.13
         ]
        },
        {
         "connectgaps": true,
         "line": {
          "color": "navy",
          "dash": "dot",
          "shape": "linear",
          "width": 2
         },
         "mode": "lines",
         "name": "RC",
         "showlegend": true,
         "type": "scatter",
         "x": [
          "0",
          "0",
          "0",
          "5",
          "5",
          "5",
          "10",
          "10",
          "10",
          "15",
          "15",
          "15",
          "20",
          "20",
          "20",
          "25",
          "25",
          "25",
          "30",
          "30",
          "30",
          "35",
          "35",
          "35",
          "40",
          "40",
          "40",
          "45",
          "45",
          "45",
          "50",
          "50",
          "50",
          "55",
          "55",
          "55"
         ],
         "y": [
          0.1,
          0.1,
          0.1,
          0.1,
          0.1,
          0.1,
          0.1,
          0.1,
          0.1,
          0.1,
          0.1,
          0.1,
          0.1,
          0.1,
          0.1,
          0.1,
          0.1,
          0.1,
          0.1,
          0.1,
          0.1,
          0.1,
          0.1,
          0.1,
          0.1,
          0.1,
          0.1,
          0.1,
          0.1,
          0.1,
          0.1,
          0.1,
          0.1,
          0.1,
          0.1,
          0.1
         ]
        },
        {
         "connectgaps": true,
         "line": {
          "color": "purple",
          "dash": "dot",
          "shape": "linear",
          "width": 2
         },
         "mode": "lines",
         "name": "SGS",
         "showlegend": true,
         "type": "scatter",
         "x": [
          "0",
          "0",
          "0",
          "5",
          "5",
          "5",
          "10",
          "10",
          "10",
          "15",
          "15",
          "15",
          "20",
          "20",
          "20",
          "25",
          "25",
          "25",
          "30",
          "30",
          "30",
          "35",
          "35",
          "35",
          "40",
          "40",
          "40",
          "45",
          "45",
          "45",
          "50",
          "50",
          "50",
          "55",
          "55",
          "55"
         ],
         "y": [
          0.25,
          0.25,
          0.25,
          0.25,
          0.25,
          0.25,
          0.25,
          0.25,
          0.25,
          0.25,
          0.25,
          0.25,
          0.25,
          0.25,
          0.25,
          0.25,
          0.25,
          0.25,
          0.25,
          0.25,
          0.25,
          0.25,
          0.25,
          0.25,
          0.25,
          0.25,
          0.25,
          0.25,
          0.25,
          0.25,
          0.25,
          0.25,
          0.25,
          0.25,
          0.25,
          0.25
         ]
        },
        {
         "connectgaps": true,
         "line": {
          "color": "orange",
          "dash": "dot",
          "shape": "linear",
          "width": 2
         },
         "mode": "lines",
         "name": "IS/IM",
         "showlegend": true,
         "type": "scatter",
         "x": [
          "0",
          "0",
          "0",
          "5",
          "5",
          "5",
          "10",
          "10",
          "10",
          "15",
          "15",
          "15",
          "20",
          "20",
          "20",
          "25",
          "25",
          "25",
          "30",
          "30",
          "30",
          "35",
          "35",
          "35",
          "40",
          "40",
          "40",
          "45",
          "45",
          "45",
          "50",
          "50",
          "50",
          "55",
          "55",
          "55"
         ],
         "y": [
          0.3,
          0.3,
          0.3,
          0.3,
          0.3,
          0.3,
          0.3,
          0.3,
          0.3,
          0.3,
          0.3,
          0.3,
          0.3,
          0.3,
          0.3,
          0.3,
          0.3,
          0.3,
          0.3,
          0.3,
          0.3,
          0.3,
          0.3,
          0.3,
          0.3,
          0.3,
          0.3,
          0.3,
          0.3,
          0.3,
          0.3,
          0.3,
          0.3,
          0.3,
          0.3,
          0.3
         ]
        },
        {
         "connectgaps": true,
         "line": {
          "color": "dodgerblue",
          "dash": "dot",
          "shape": "linear",
          "width": 2
         },
         "mode": "lines",
         "name": "HA/SP",
         "showlegend": true,
         "type": "scatter",
         "x": [
          "0",
          "0",
          "0",
          "5",
          "5",
          "5",
          "10",
          "10",
          "10",
          "15",
          "15",
          "15",
          "20",
          "20",
          "20",
          "25",
          "25",
          "25",
          "30",
          "30",
          "30",
          "35",
          "35",
          "35",
          "40",
          "40",
          "40",
          "45",
          "45",
          "45",
          "50",
          "50",
          "50",
          "55",
          "55",
          "55"
         ],
         "y": [
          0.5,
          0.5,
          0.5,
          0.5,
          0.5,
          0.5,
          0.5,
          0.5,
          0.5,
          0.5,
          0.5,
          0.5,
          0.5,
          0.5,
          0.5,
          0.5,
          0.5,
          0.5,
          0.5,
          0.5,
          0.5,
          0.5,
          0.5,
          0.5,
          0.5,
          0.5,
          0.5,
          0.5,
          0.5,
          0.5,
          0.5,
          0.5,
          0.5,
          0.5,
          0.5,
          0.5
         ]
        }
       ],
       "layout": {
        "autosize": true,
        "boxmode": "group",
        "height": 400,
        "legend": {
         "orientation": "h",
         "x": 0.2,
         "y": 1.01,
         "yanchor": "bottom"
        },
        "plot_bgcolor": "rgba(0,0,0,0)",
        "template": {
         "data": {
          "bar": [
           {
            "error_x": {
             "color": "#2a3f5f"
            },
            "error_y": {
             "color": "#2a3f5f"
            },
            "marker": {
             "line": {
              "color": "#E5ECF6",
              "width": 0.5
             }
            },
            "type": "bar"
           }
          ],
          "barpolar": [
           {
            "marker": {
             "line": {
              "color": "#E5ECF6",
              "width": 0.5
             }
            },
            "type": "barpolar"
           }
          ],
          "carpet": [
           {
            "aaxis": {
             "endlinecolor": "#2a3f5f",
             "gridcolor": "white",
             "linecolor": "white",
             "minorgridcolor": "white",
             "startlinecolor": "#2a3f5f"
            },
            "baxis": {
             "endlinecolor": "#2a3f5f",
             "gridcolor": "white",
             "linecolor": "white",
             "minorgridcolor": "white",
             "startlinecolor": "#2a3f5f"
            },
            "type": "carpet"
           }
          ],
          "choropleth": [
           {
            "colorbar": {
             "outlinewidth": 0,
             "ticks": ""
            },
            "type": "choropleth"
           }
          ],
          "contour": [
           {
            "colorbar": {
             "outlinewidth": 0,
             "ticks": ""
            },
            "colorscale": [
             [
              0,
              "#0d0887"
             ],
             [
              0.1111111111111111,
              "#46039f"
             ],
             [
              0.2222222222222222,
              "#7201a8"
             ],
             [
              0.3333333333333333,
              "#9c179e"
             ],
             [
              0.4444444444444444,
              "#bd3786"
             ],
             [
              0.5555555555555556,
              "#d8576b"
             ],
             [
              0.6666666666666666,
              "#ed7953"
             ],
             [
              0.7777777777777778,
              "#fb9f3a"
             ],
             [
              0.8888888888888888,
              "#fdca26"
             ],
             [
              1,
              "#f0f921"
             ]
            ],
            "type": "contour"
           }
          ],
          "contourcarpet": [
           {
            "colorbar": {
             "outlinewidth": 0,
             "ticks": ""
            },
            "type": "contourcarpet"
           }
          ],
          "heatmap": [
           {
            "colorbar": {
             "outlinewidth": 0,
             "ticks": ""
            },
            "colorscale": [
             [
              0,
              "#0d0887"
             ],
             [
              0.1111111111111111,
              "#46039f"
             ],
             [
              0.2222222222222222,
              "#7201a8"
             ],
             [
              0.3333333333333333,
              "#9c179e"
             ],
             [
              0.4444444444444444,
              "#bd3786"
             ],
             [
              0.5555555555555556,
              "#d8576b"
             ],
             [
              0.6666666666666666,
              "#ed7953"
             ],
             [
              0.7777777777777778,
              "#fb9f3a"
             ],
             [
              0.8888888888888888,
              "#fdca26"
             ],
             [
              1,
              "#f0f921"
             ]
            ],
            "type": "heatmap"
           }
          ],
          "heatmapgl": [
           {
            "colorbar": {
             "outlinewidth": 0,
             "ticks": ""
            },
            "colorscale": [
             [
              0,
              "#0d0887"
             ],
             [
              0.1111111111111111,
              "#46039f"
             ],
             [
              0.2222222222222222,
              "#7201a8"
             ],
             [
              0.3333333333333333,
              "#9c179e"
             ],
             [
              0.4444444444444444,
              "#bd3786"
             ],
             [
              0.5555555555555556,
              "#d8576b"
             ],
             [
              0.6666666666666666,
              "#ed7953"
             ],
             [
              0.7777777777777778,
              "#fb9f3a"
             ],
             [
              0.8888888888888888,
              "#fdca26"
             ],
             [
              1,
              "#f0f921"
             ]
            ],
            "type": "heatmapgl"
           }
          ],
          "histogram": [
           {
            "marker": {
             "colorbar": {
              "outlinewidth": 0,
              "ticks": ""
             }
            },
            "type": "histogram"
           }
          ],
          "histogram2d": [
           {
            "colorbar": {
             "outlinewidth": 0,
             "ticks": ""
            },
            "colorscale": [
             [
              0,
              "#0d0887"
             ],
             [
              0.1111111111111111,
              "#46039f"
             ],
             [
              0.2222222222222222,
              "#7201a8"
             ],
             [
              0.3333333333333333,
              "#9c179e"
             ],
             [
              0.4444444444444444,
              "#bd3786"
             ],
             [
              0.5555555555555556,
              "#d8576b"
             ],
             [
              0.6666666666666666,
              "#ed7953"
             ],
             [
              0.7777777777777778,
              "#fb9f3a"
             ],
             [
              0.8888888888888888,
              "#fdca26"
             ],
             [
              1,
              "#f0f921"
             ]
            ],
            "type": "histogram2d"
           }
          ],
          "histogram2dcontour": [
           {
            "colorbar": {
             "outlinewidth": 0,
             "ticks": ""
            },
            "colorscale": [
             [
              0,
              "#0d0887"
             ],
             [
              0.1111111111111111,
              "#46039f"
             ],
             [
              0.2222222222222222,
              "#7201a8"
             ],
             [
              0.3333333333333333,
              "#9c179e"
             ],
             [
              0.4444444444444444,
              "#bd3786"
             ],
             [
              0.5555555555555556,
              "#d8576b"
             ],
             [
              0.6666666666666666,
              "#ed7953"
             ],
             [
              0.7777777777777778,
              "#fb9f3a"
             ],
             [
              0.8888888888888888,
              "#fdca26"
             ],
             [
              1,
              "#f0f921"
             ]
            ],
            "type": "histogram2dcontour"
           }
          ],
          "mesh3d": [
           {
            "colorbar": {
             "outlinewidth": 0,
             "ticks": ""
            },
            "type": "mesh3d"
           }
          ],
          "parcoords": [
           {
            "line": {
             "colorbar": {
              "outlinewidth": 0,
              "ticks": ""
             }
            },
            "type": "parcoords"
           }
          ],
          "pie": [
           {
            "automargin": true,
            "type": "pie"
           }
          ],
          "scatter": [
           {
            "marker": {
             "colorbar": {
              "outlinewidth": 0,
              "ticks": ""
             }
            },
            "type": "scatter"
           }
          ],
          "scatter3d": [
           {
            "line": {
             "colorbar": {
              "outlinewidth": 0,
              "ticks": ""
             }
            },
            "marker": {
             "colorbar": {
              "outlinewidth": 0,
              "ticks": ""
             }
            },
            "type": "scatter3d"
           }
          ],
          "scattercarpet": [
           {
            "marker": {
             "colorbar": {
              "outlinewidth": 0,
              "ticks": ""
             }
            },
            "type": "scattercarpet"
           }
          ],
          "scattergeo": [
           {
            "marker": {
             "colorbar": {
              "outlinewidth": 0,
              "ticks": ""
             }
            },
            "type": "scattergeo"
           }
          ],
          "scattergl": [
           {
            "marker": {
             "colorbar": {
              "outlinewidth": 0,
              "ticks": ""
             }
            },
            "type": "scattergl"
           }
          ],
          "scattermapbox": [
           {
            "marker": {
             "colorbar": {
              "outlinewidth": 0,
              "ticks": ""
             }
            },
            "type": "scattermapbox"
           }
          ],
          "scatterpolar": [
           {
            "marker": {
             "colorbar": {
              "outlinewidth": 0,
              "ticks": ""
             }
            },
            "type": "scatterpolar"
           }
          ],
          "scatterpolargl": [
           {
            "marker": {
             "colorbar": {
              "outlinewidth": 0,
              "ticks": ""
             }
            },
            "type": "scatterpolargl"
           }
          ],
          "scatterternary": [
           {
            "marker": {
             "colorbar": {
              "outlinewidth": 0,
              "ticks": ""
             }
            },
            "type": "scatterternary"
           }
          ],
          "surface": [
           {
            "colorbar": {
             "outlinewidth": 0,
             "ticks": ""
            },
            "colorscale": [
             [
              0,
              "#0d0887"
             ],
             [
              0.1111111111111111,
              "#46039f"
             ],
             [
              0.2222222222222222,
              "#7201a8"
             ],
             [
              0.3333333333333333,
              "#9c179e"
             ],
             [
              0.4444444444444444,
              "#bd3786"
             ],
             [
              0.5555555555555556,
              "#d8576b"
             ],
             [
              0.6666666666666666,
              "#ed7953"
             ],
             [
              0.7777777777777778,
              "#fb9f3a"
             ],
             [
              0.8888888888888888,
              "#fdca26"
             ],
             [
              1,
              "#f0f921"
             ]
            ],
            "type": "surface"
           }
          ],
          "table": [
           {
            "cells": {
             "fill": {
              "color": "#EBF0F8"
             },
             "line": {
              "color": "white"
             }
            },
            "header": {
             "fill": {
              "color": "#C8D4E3"
             },
             "line": {
              "color": "white"
             }
            },
            "type": "table"
           }
          ]
         },
         "layout": {
          "annotationdefaults": {
           "arrowcolor": "#2a3f5f",
           "arrowhead": 0,
           "arrowwidth": 1
          },
          "coloraxis": {
           "colorbar": {
            "outlinewidth": 0,
            "ticks": ""
           }
          },
          "colorscale": {
           "diverging": [
            [
             0,
             "#8e0152"
            ],
            [
             0.1,
             "#c51b7d"
            ],
            [
             0.2,
             "#de77ae"
            ],
            [
             0.3,
             "#f1b6da"
            ],
            [
             0.4,
             "#fde0ef"
            ],
            [
             0.5,
             "#f7f7f7"
            ],
            [
             0.6,
             "#e6f5d0"
            ],
            [
             0.7,
             "#b8e186"
            ],
            [
             0.8,
             "#7fbc41"
            ],
            [
             0.9,
             "#4d9221"
            ],
            [
             1,
             "#276419"
            ]
           ],
           "sequential": [
            [
             0,
             "#0d0887"
            ],
            [
             0.1111111111111111,
             "#46039f"
            ],
            [
             0.2222222222222222,
             "#7201a8"
            ],
            [
             0.3333333333333333,
             "#9c179e"
            ],
            [
             0.4444444444444444,
             "#bd3786"
            ],
            [
             0.5555555555555556,
             "#d8576b"
            ],
            [
             0.6666666666666666,
             "#ed7953"
            ],
            [
             0.7777777777777778,
             "#fb9f3a"
            ],
            [
             0.8888888888888888,
             "#fdca26"
            ],
            [
             1,
             "#f0f921"
            ]
           ],
           "sequentialminus": [
            [
             0,
             "#0d0887"
            ],
            [
             0.1111111111111111,
             "#46039f"
            ],
            [
             0.2222222222222222,
             "#7201a8"
            ],
            [
             0.3333333333333333,
             "#9c179e"
            ],
            [
             0.4444444444444444,
             "#bd3786"
            ],
            [
             0.5555555555555556,
             "#d8576b"
            ],
            [
             0.6666666666666666,
             "#ed7953"
            ],
            [
             0.7777777777777778,
             "#fb9f3a"
            ],
            [
             0.8888888888888888,
             "#fdca26"
            ],
            [
             1,
             "#f0f921"
            ]
           ]
          },
          "colorway": [
           "#636efa",
           "#EF553B",
           "#00cc96",
           "#ab63fa",
           "#FFA15A",
           "#19d3f3",
           "#FF6692",
           "#B6E880",
           "#FF97FF",
           "#FECB52"
          ],
          "font": {
           "color": "#2a3f5f"
          },
          "geo": {
           "bgcolor": "white",
           "lakecolor": "white",
           "landcolor": "#E5ECF6",
           "showlakes": true,
           "showland": true,
           "subunitcolor": "white"
          },
          "hoverlabel": {
           "align": "left"
          },
          "hovermode": "closest",
          "mapbox": {
           "style": "light"
          },
          "paper_bgcolor": "white",
          "plot_bgcolor": "#E5ECF6",
          "polar": {
           "angularaxis": {
            "gridcolor": "white",
            "linecolor": "white",
            "ticks": ""
           },
           "bgcolor": "#E5ECF6",
           "radialaxis": {
            "gridcolor": "white",
            "linecolor": "white",
            "ticks": ""
           }
          },
          "scene": {
           "xaxis": {
            "backgroundcolor": "#E5ECF6",
            "gridcolor": "white",
            "gridwidth": 2,
            "linecolor": "white",
            "showbackground": true,
            "ticks": "",
            "zerolinecolor": "white"
           },
           "yaxis": {
            "backgroundcolor": "#E5ECF6",
            "gridcolor": "white",
            "gridwidth": 2,
            "linecolor": "white",
            "showbackground": true,
            "ticks": "",
            "zerolinecolor": "white"
           },
           "zaxis": {
            "backgroundcolor": "#E5ECF6",
            "gridcolor": "white",
            "gridwidth": 2,
            "linecolor": "white",
            "showbackground": true,
            "ticks": "",
            "zerolinecolor": "white"
           }
          },
          "shapedefaults": {
           "line": {
            "color": "#2a3f5f"
           }
          },
          "ternary": {
           "aaxis": {
            "gridcolor": "white",
            "linecolor": "white",
            "ticks": ""
           },
           "baxis": {
            "gridcolor": "white",
            "linecolor": "white",
            "ticks": ""
           },
           "bgcolor": "#E5ECF6",
           "caxis": {
            "gridcolor": "white",
            "linecolor": "white",
            "ticks": ""
           }
          },
          "title": {
           "x": 0.05
          },
          "xaxis": {
           "automargin": true,
           "gridcolor": "white",
           "linecolor": "white",
           "ticks": "",
           "title": {
            "standoff": 15
           },
           "zerolinecolor": "white",
           "zerolinewidth": 2
          },
          "yaxis": {
           "automargin": true,
           "gridcolor": "white",
           "linecolor": "white",
           "ticks": "",
           "title": {
            "standoff": 15
           },
           "zerolinecolor": "white",
           "zerolinewidth": 2
          }
         }
        },
        "xaxis": {
         "dtick": 5,
         "linecolor": "black",
         "linewidth": 0.5,
         "mirror": true,
         "tick0": 5,
         "tickfont": {
          "size": 14
         },
         "title": {
          "text": "Days of Training"
         }
        },
        "yaxis": {
         "dtick": 0.1,
         "linecolor": "black",
         "linewidth": 0.5,
         "mirror": true,
         "tick0": 0.1,
         "tickfont": {
          "size": 14
         },
         "title": {
          "text": "Performance"
         }
        }
       }
      },
      "text/html": [
       "<div>                            <div id=\"b1e7d04c-5ab6-4654-9c9a-55eb952b1223\" class=\"plotly-graph-div\" style=\"height:400px; width:100%;\"></div>            <script type=\"text/javascript\">                require([\"plotly\"], function(Plotly) {                    window.PLOTLYENV=window.PLOTLYENV || {};                                    if (document.getElementById(\"b1e7d04c-5ab6-4654-9c9a-55eb952b1223\")) {                    Plotly.newPlot(                        \"b1e7d04c-5ab6-4654-9c9a-55eb952b1223\",                        [{\"marker\": {\"color\": \"darkblue\"}, \"name\": \"R^2\", \"showlegend\": true, \"type\": \"box\", \"x\": [\"5\", \"5\", \"5\", \"10\", \"10\", \"10\", \"15\", \"15\", \"15\", \"20\", \"20\", \"20\", \"25\", \"25\", \"25\", \"30\", \"30\", \"30\", \"35\", \"35\", \"35\", \"40\", \"40\", \"40\", \"45\", \"45\", \"45\", \"50\", \"50\", \"50\"], \"y\": [0.83, 0.83, 0.7, 0.86, 0.84, 0.72, 0.86, 0.84, 0.74, 0.87, 0.85, 0.74, 0.88, 0.84, 0.76, 0.89, 0.84, 0.76, 0.89, 0.86, 0.76, 0.89, 0.85, 0.76, 0.89, 0.86, 0.76, 0.89, 0.86, 0.76]}, {\"marker\": {\"color\": \"olive\"}, \"name\": \"RMAE\", \"showlegend\": true, \"type\": \"box\", \"x\": [\"5\", \"5\", \"5\", \"10\", \"10\", \"10\", \"15\", \"15\", \"15\", \"20\", \"20\", \"20\", \"25\", \"25\", \"25\", \"30\", \"30\", \"30\", \"35\", \"35\", \"35\", \"40\", \"40\", \"40\", \"45\", \"45\", \"45\", \"50\", \"50\", \"50\"], \"y\": [0.33, 0.2, 0.15, 0.28, 0.19, 0.14, 0.27, 0.19, 0.13, 0.26, 0.19, 0.13, 0.25, 0.19, 0.13, 0.24, 0.19, 0.13, 0.24, 0.18, 0.13, 0.24, 0.19, 0.13, 0.24, 0.18, 0.13, 0.24, 0.18, 0.13]}, {\"connectgaps\": true, \"line\": {\"color\": \"navy\", \"dash\": \"dot\", \"shape\": \"linear\", \"width\": 2}, \"mode\": \"lines\", \"name\": \"RC\", \"showlegend\": true, \"type\": \"scatter\", \"x\": [\"0\", \"0\", \"0\", \"5\", \"5\", \"5\", \"10\", \"10\", \"10\", \"15\", \"15\", \"15\", \"20\", \"20\", \"20\", \"25\", \"25\", \"25\", \"30\", \"30\", \"30\", \"35\", \"35\", \"35\", \"40\", \"40\", \"40\", \"45\", \"45\", \"45\", \"50\", \"50\", \"50\", \"55\", \"55\", \"55\"], \"y\": [0.1, 0.1, 0.1, 0.1, 0.1, 0.1, 0.1, 0.1, 0.1, 0.1, 0.1, 0.1, 0.1, 0.1, 0.1, 0.1, 0.1, 0.1, 0.1, 0.1, 0.1, 0.1, 0.1, 0.1, 0.1, 0.1, 0.1, 0.1, 0.1, 0.1, 0.1, 0.1, 0.1, 0.1, 0.1, 0.1]}, {\"connectgaps\": true, \"line\": {\"color\": \"purple\", \"dash\": \"dot\", \"shape\": \"linear\", \"width\": 2}, \"mode\": \"lines\", \"name\": \"SGS\", \"showlegend\": true, \"type\": \"scatter\", \"x\": [\"0\", \"0\", \"0\", \"5\", \"5\", \"5\", \"10\", \"10\", \"10\", \"15\", \"15\", \"15\", \"20\", \"20\", \"20\", \"25\", \"25\", \"25\", \"30\", \"30\", \"30\", \"35\", \"35\", \"35\", \"40\", \"40\", \"40\", \"45\", \"45\", \"45\", \"50\", \"50\", \"50\", \"55\", \"55\", \"55\"], \"y\": [0.25, 0.25, 0.25, 0.25, 0.25, 0.25, 0.25, 0.25, 0.25, 0.25, 0.25, 0.25, 0.25, 0.25, 0.25, 0.25, 0.25, 0.25, 0.25, 0.25, 0.25, 0.25, 0.25, 0.25, 0.25, 0.25, 0.25, 0.25, 0.25, 0.25, 0.25, 0.25, 0.25, 0.25, 0.25, 0.25]}, {\"connectgaps\": true, \"line\": {\"color\": \"orange\", \"dash\": \"dot\", \"shape\": \"linear\", \"width\": 2}, \"mode\": \"lines\", \"name\": \"IS/IM\", \"showlegend\": true, \"type\": \"scatter\", \"x\": [\"0\", \"0\", \"0\", \"5\", \"5\", \"5\", \"10\", \"10\", \"10\", \"15\", \"15\", \"15\", \"20\", \"20\", \"20\", \"25\", \"25\", \"25\", \"30\", \"30\", \"30\", \"35\", \"35\", \"35\", \"40\", \"40\", \"40\", \"45\", \"45\", \"45\", \"50\", \"50\", \"50\", \"55\", \"55\", \"55\"], \"y\": [0.3, 0.3, 0.3, 0.3, 0.3, 0.3, 0.3, 0.3, 0.3, 0.3, 0.3, 0.3, 0.3, 0.3, 0.3, 0.3, 0.3, 0.3, 0.3, 0.3, 0.3, 0.3, 0.3, 0.3, 0.3, 0.3, 0.3, 0.3, 0.3, 0.3, 0.3, 0.3, 0.3, 0.3, 0.3, 0.3]}, {\"connectgaps\": true, \"line\": {\"color\": \"dodgerblue\", \"dash\": \"dot\", \"shape\": \"linear\", \"width\": 2}, \"mode\": \"lines\", \"name\": \"HA/SP\", \"showlegend\": true, \"type\": \"scatter\", \"x\": [\"0\", \"0\", \"0\", \"5\", \"5\", \"5\", \"10\", \"10\", \"10\", \"15\", \"15\", \"15\", \"20\", \"20\", \"20\", \"25\", \"25\", \"25\", \"30\", \"30\", \"30\", \"35\", \"35\", \"35\", \"40\", \"40\", \"40\", \"45\", \"45\", \"45\", \"50\", \"50\", \"50\", \"55\", \"55\", \"55\"], \"y\": [0.5, 0.5, 0.5, 0.5, 0.5, 0.5, 0.5, 0.5, 0.5, 0.5, 0.5, 0.5, 0.5, 0.5, 0.5, 0.5, 0.5, 0.5, 0.5, 0.5, 0.5, 0.5, 0.5, 0.5, 0.5, 0.5, 0.5, 0.5, 0.5, 0.5, 0.5, 0.5, 0.5, 0.5, 0.5, 0.5]}],                        {\"autosize\": true, \"boxmode\": \"group\", \"height\": 400, \"legend\": {\"orientation\": \"h\", \"x\": 0.2, \"y\": 1.01, \"yanchor\": \"bottom\"}, \"plot_bgcolor\": \"rgba(0,0,0,0)\", \"template\": {\"data\": {\"bar\": [{\"error_x\": {\"color\": \"#2a3f5f\"}, \"error_y\": {\"color\": \"#2a3f5f\"}, \"marker\": {\"line\": {\"color\": \"#E5ECF6\", \"width\": 0.5}}, \"type\": \"bar\"}], \"barpolar\": [{\"marker\": {\"line\": {\"color\": \"#E5ECF6\", \"width\": 0.5}}, \"type\": \"barpolar\"}], \"carpet\": [{\"aaxis\": {\"endlinecolor\": \"#2a3f5f\", \"gridcolor\": \"white\", \"linecolor\": \"white\", \"minorgridcolor\": \"white\", \"startlinecolor\": \"#2a3f5f\"}, \"baxis\": {\"endlinecolor\": \"#2a3f5f\", \"gridcolor\": \"white\", \"linecolor\": \"white\", \"minorgridcolor\": \"white\", \"startlinecolor\": \"#2a3f5f\"}, \"type\": \"carpet\"}], \"choropleth\": [{\"colorbar\": {\"outlinewidth\": 0, \"ticks\": \"\"}, \"type\": \"choropleth\"}], \"contour\": [{\"colorbar\": {\"outlinewidth\": 0, \"ticks\": \"\"}, \"colorscale\": [[0.0, \"#0d0887\"], [0.1111111111111111, \"#46039f\"], [0.2222222222222222, \"#7201a8\"], [0.3333333333333333, \"#9c179e\"], [0.4444444444444444, \"#bd3786\"], [0.5555555555555556, \"#d8576b\"], [0.6666666666666666, \"#ed7953\"], [0.7777777777777778, \"#fb9f3a\"], [0.8888888888888888, \"#fdca26\"], [1.0, \"#f0f921\"]], \"type\": \"contour\"}], \"contourcarpet\": [{\"colorbar\": {\"outlinewidth\": 0, \"ticks\": \"\"}, \"type\": \"contourcarpet\"}], \"heatmap\": [{\"colorbar\": {\"outlinewidth\": 0, \"ticks\": \"\"}, \"colorscale\": [[0.0, \"#0d0887\"], [0.1111111111111111, \"#46039f\"], [0.2222222222222222, \"#7201a8\"], [0.3333333333333333, \"#9c179e\"], [0.4444444444444444, \"#bd3786\"], [0.5555555555555556, \"#d8576b\"], [0.6666666666666666, \"#ed7953\"], [0.7777777777777778, \"#fb9f3a\"], [0.8888888888888888, \"#fdca26\"], [1.0, \"#f0f921\"]], \"type\": \"heatmap\"}], \"heatmapgl\": [{\"colorbar\": {\"outlinewidth\": 0, \"ticks\": \"\"}, \"colorscale\": [[0.0, \"#0d0887\"], [0.1111111111111111, \"#46039f\"], [0.2222222222222222, \"#7201a8\"], [0.3333333333333333, \"#9c179e\"], [0.4444444444444444, \"#bd3786\"], [0.5555555555555556, \"#d8576b\"], [0.6666666666666666, \"#ed7953\"], [0.7777777777777778, \"#fb9f3a\"], [0.8888888888888888, \"#fdca26\"], [1.0, \"#f0f921\"]], \"type\": \"heatmapgl\"}], \"histogram\": [{\"marker\": {\"colorbar\": {\"outlinewidth\": 0, \"ticks\": \"\"}}, \"type\": \"histogram\"}], \"histogram2d\": [{\"colorbar\": {\"outlinewidth\": 0, \"ticks\": \"\"}, \"colorscale\": [[0.0, \"#0d0887\"], [0.1111111111111111, \"#46039f\"], [0.2222222222222222, \"#7201a8\"], [0.3333333333333333, \"#9c179e\"], [0.4444444444444444, \"#bd3786\"], [0.5555555555555556, \"#d8576b\"], [0.6666666666666666, \"#ed7953\"], [0.7777777777777778, \"#fb9f3a\"], [0.8888888888888888, \"#fdca26\"], [1.0, \"#f0f921\"]], \"type\": \"histogram2d\"}], \"histogram2dcontour\": [{\"colorbar\": {\"outlinewidth\": 0, \"ticks\": \"\"}, \"colorscale\": [[0.0, \"#0d0887\"], [0.1111111111111111, \"#46039f\"], [0.2222222222222222, \"#7201a8\"], [0.3333333333333333, \"#9c179e\"], [0.4444444444444444, \"#bd3786\"], [0.5555555555555556, \"#d8576b\"], [0.6666666666666666, \"#ed7953\"], [0.7777777777777778, \"#fb9f3a\"], [0.8888888888888888, \"#fdca26\"], [1.0, \"#f0f921\"]], \"type\": \"histogram2dcontour\"}], \"mesh3d\": [{\"colorbar\": {\"outlinewidth\": 0, \"ticks\": \"\"}, \"type\": \"mesh3d\"}], \"parcoords\": [{\"line\": {\"colorbar\": {\"outlinewidth\": 0, \"ticks\": \"\"}}, \"type\": \"parcoords\"}], \"pie\": [{\"automargin\": true, \"type\": \"pie\"}], \"scatter\": [{\"marker\": {\"colorbar\": {\"outlinewidth\": 0, \"ticks\": \"\"}}, \"type\": \"scatter\"}], \"scatter3d\": [{\"line\": {\"colorbar\": {\"outlinewidth\": 0, \"ticks\": \"\"}}, \"marker\": {\"colorbar\": {\"outlinewidth\": 0, \"ticks\": \"\"}}, \"type\": \"scatter3d\"}], \"scattercarpet\": [{\"marker\": {\"colorbar\": {\"outlinewidth\": 0, \"ticks\": \"\"}}, \"type\": \"scattercarpet\"}], \"scattergeo\": [{\"marker\": {\"colorbar\": {\"outlinewidth\": 0, \"ticks\": \"\"}}, \"type\": \"scattergeo\"}], \"scattergl\": [{\"marker\": {\"colorbar\": {\"outlinewidth\": 0, \"ticks\": \"\"}}, \"type\": \"scattergl\"}], \"scattermapbox\": [{\"marker\": {\"colorbar\": {\"outlinewidth\": 0, \"ticks\": \"\"}}, \"type\": \"scattermapbox\"}], \"scatterpolar\": [{\"marker\": {\"colorbar\": {\"outlinewidth\": 0, \"ticks\": \"\"}}, \"type\": \"scatterpolar\"}], \"scatterpolargl\": [{\"marker\": {\"colorbar\": {\"outlinewidth\": 0, \"ticks\": \"\"}}, \"type\": \"scatterpolargl\"}], \"scatterternary\": [{\"marker\": {\"colorbar\": {\"outlinewidth\": 0, \"ticks\": \"\"}}, \"type\": \"scatterternary\"}], \"surface\": [{\"colorbar\": {\"outlinewidth\": 0, \"ticks\": \"\"}, \"colorscale\": [[0.0, \"#0d0887\"], [0.1111111111111111, \"#46039f\"], [0.2222222222222222, \"#7201a8\"], [0.3333333333333333, \"#9c179e\"], [0.4444444444444444, \"#bd3786\"], [0.5555555555555556, \"#d8576b\"], [0.6666666666666666, \"#ed7953\"], [0.7777777777777778, \"#fb9f3a\"], [0.8888888888888888, \"#fdca26\"], [1.0, \"#f0f921\"]], \"type\": \"surface\"}], \"table\": [{\"cells\": {\"fill\": {\"color\": \"#EBF0F8\"}, \"line\": {\"color\": \"white\"}}, \"header\": {\"fill\": {\"color\": \"#C8D4E3\"}, \"line\": {\"color\": \"white\"}}, \"type\": \"table\"}]}, \"layout\": {\"annotationdefaults\": {\"arrowcolor\": \"#2a3f5f\", \"arrowhead\": 0, \"arrowwidth\": 1}, \"coloraxis\": {\"colorbar\": {\"outlinewidth\": 0, \"ticks\": \"\"}}, \"colorscale\": {\"diverging\": [[0, \"#8e0152\"], [0.1, \"#c51b7d\"], [0.2, \"#de77ae\"], [0.3, \"#f1b6da\"], [0.4, \"#fde0ef\"], [0.5, \"#f7f7f7\"], [0.6, \"#e6f5d0\"], [0.7, \"#b8e186\"], [0.8, \"#7fbc41\"], [0.9, \"#4d9221\"], [1, \"#276419\"]], \"sequential\": [[0.0, \"#0d0887\"], [0.1111111111111111, \"#46039f\"], [0.2222222222222222, \"#7201a8\"], [0.3333333333333333, \"#9c179e\"], [0.4444444444444444, \"#bd3786\"], [0.5555555555555556, \"#d8576b\"], [0.6666666666666666, \"#ed7953\"], [0.7777777777777778, \"#fb9f3a\"], [0.8888888888888888, \"#fdca26\"], [1.0, \"#f0f921\"]], \"sequentialminus\": [[0.0, \"#0d0887\"], [0.1111111111111111, \"#46039f\"], [0.2222222222222222, \"#7201a8\"], [0.3333333333333333, \"#9c179e\"], [0.4444444444444444, \"#bd3786\"], [0.5555555555555556, \"#d8576b\"], [0.6666666666666666, \"#ed7953\"], [0.7777777777777778, \"#fb9f3a\"], [0.8888888888888888, \"#fdca26\"], [1.0, \"#f0f921\"]]}, \"colorway\": [\"#636efa\", \"#EF553B\", \"#00cc96\", \"#ab63fa\", \"#FFA15A\", \"#19d3f3\", \"#FF6692\", \"#B6E880\", \"#FF97FF\", \"#FECB52\"], \"font\": {\"color\": \"#2a3f5f\"}, \"geo\": {\"bgcolor\": \"white\", \"lakecolor\": \"white\", \"landcolor\": \"#E5ECF6\", \"showlakes\": true, \"showland\": true, \"subunitcolor\": \"white\"}, \"hoverlabel\": {\"align\": \"left\"}, \"hovermode\": \"closest\", \"mapbox\": {\"style\": \"light\"}, \"paper_bgcolor\": \"white\", \"plot_bgcolor\": \"#E5ECF6\", \"polar\": {\"angularaxis\": {\"gridcolor\": \"white\", \"linecolor\": \"white\", \"ticks\": \"\"}, \"bgcolor\": \"#E5ECF6\", \"radialaxis\": {\"gridcolor\": \"white\", \"linecolor\": \"white\", \"ticks\": \"\"}}, \"scene\": {\"xaxis\": {\"backgroundcolor\": \"#E5ECF6\", \"gridcolor\": \"white\", \"gridwidth\": 2, \"linecolor\": \"white\", \"showbackground\": true, \"ticks\": \"\", \"zerolinecolor\": \"white\"}, \"yaxis\": {\"backgroundcolor\": \"#E5ECF6\", \"gridcolor\": \"white\", \"gridwidth\": 2, \"linecolor\": \"white\", \"showbackground\": true, \"ticks\": \"\", \"zerolinecolor\": \"white\"}, \"zaxis\": {\"backgroundcolor\": \"#E5ECF6\", \"gridcolor\": \"white\", \"gridwidth\": 2, \"linecolor\": \"white\", \"showbackground\": true, \"ticks\": \"\", \"zerolinecolor\": \"white\"}}, \"shapedefaults\": {\"line\": {\"color\": \"#2a3f5f\"}}, \"ternary\": {\"aaxis\": {\"gridcolor\": \"white\", \"linecolor\": \"white\", \"ticks\": \"\"}, \"baxis\": {\"gridcolor\": \"white\", \"linecolor\": \"white\", \"ticks\": \"\"}, \"bgcolor\": \"#E5ECF6\", \"caxis\": {\"gridcolor\": \"white\", \"linecolor\": \"white\", \"ticks\": \"\"}}, \"title\": {\"x\": 0.05}, \"xaxis\": {\"automargin\": true, \"gridcolor\": \"white\", \"linecolor\": \"white\", \"ticks\": \"\", \"title\": {\"standoff\": 15}, \"zerolinecolor\": \"white\", \"zerolinewidth\": 2}, \"yaxis\": {\"automargin\": true, \"gridcolor\": \"white\", \"linecolor\": \"white\", \"ticks\": \"\", \"title\": {\"standoff\": 15}, \"zerolinecolor\": \"white\", \"zerolinewidth\": 2}}}, \"xaxis\": {\"dtick\": 5, \"linecolor\": \"black\", \"linewidth\": 0.5, \"mirror\": true, \"tick0\": 5, \"tickfont\": {\"size\": 14}, \"title\": {\"text\": \"Days of Training\"}}, \"yaxis\": {\"dtick\": 0.1, \"linecolor\": \"black\", \"linewidth\": 0.5, \"mirror\": true, \"tick0\": 0.1, \"tickfont\": {\"size\": 14}, \"title\": {\"text\": \"Performance\"}}},                        {\"responsive\": true}                    ).then(function(){\n",
       "                            \n",
       "var gd = document.getElementById('b1e7d04c-5ab6-4654-9c9a-55eb952b1223');\n",
       "var x = new MutationObserver(function (mutations, observer) {{\n",
       "        var display = window.getComputedStyle(gd).display;\n",
       "        if (!display || display === 'none') {{\n",
       "            console.log([gd, 'removed!']);\n",
       "            Plotly.purge(gd);\n",
       "            observer.disconnect();\n",
       "        }}\n",
       "}});\n",
       "\n",
       "// Listen for the removal of the full notebook cells\n",
       "var notebookContainer = gd.closest('#notebook-container');\n",
       "if (notebookContainer) {{\n",
       "    x.observe(notebookContainer, {childList: true});\n",
       "}}\n",
       "\n",
       "// Listen for the clearing of the current output cell\n",
       "var outputEl = gd.closest('.output');\n",
       "if (outputEl) {{\n",
       "    x.observe(outputEl, {childList: true});\n",
       "}}\n",
       "\n",
       "                        })                };                });            </script>        </div>"
      ]
     },
     "metadata": {},
     "output_type": "display_data"
    }
   ],
   "source": [
    "import chart_studio\n",
    "fig = go.Figure() \n",
    "a = np.array([1, 2, 3, 4, 5])\n",
    "b = np.array([1, 3, 2, 3, 1])\n",
    "# Defining x axis\n",
    "x = x\n",
    "fig.add_trace(go.Box(\n",
    "  \n",
    "    # defining y axis in corresponding\n",
    "    # to x-axis\n",
    "    y=RF_P,\n",
    "    x=x,\n",
    "    name='R^2',\n",
    "    marker_color='darkblue',\n",
    "    showlegend=True\n",
    "   \n",
    "))\n",
    "#fig.add_trace(go.Box(\n",
    "   # y=ANN_P,\n",
    "   #x=x,\n",
    "    #name='XGBoost(R^2)',\n",
    "    #marker_color='hotpink',\n",
    "    #showlegend=True\n",
    "\n",
    "#))\n",
    "\n",
    "fig.add_trace(go.Box(\n",
    "  \n",
    "    #defining y axis in corresponding\n",
    "   # to x-axis\n",
    "    y=RF_R,\n",
    "    x=x,\n",
    "    name='RMAE',\n",
    "    marker_color='olive',\n",
    "    showlegend=True\n",
    "   \n",
    "))\n",
    "#fig.add_trace(go.Box(\n",
    "   #y=ANN_R,\n",
    "    #x=x,\n",
    "    #name='XGBoost(NMAE)',\n",
    "    #marker_color='orangered',\n",
    "    #showlegend=True\n",
    "\n",
    "#))\n",
    "fig.add_trace(go.Scatter(x=X,\n",
    "                y=Reg, \n",
    "                name=\"RC\",\n",
    "                mode = 'lines',\n",
    "                #marker_color='dodgerblue',\n",
    "                line = dict(shape = 'linear',width = 2, color = 'navy', dash = 'dot'),\n",
    "                connectgaps = True,\n",
    "                showlegend=True\n",
    "                        ))\n",
    "fig.add_trace(go.Scatter(x=X,\n",
    "                y=Spatial, \n",
    "                name=\"SGS\",\n",
    "                mode = 'lines',\n",
    "                #marker_color='dodgerblue',\n",
    "                line = dict(shape = 'linear',width = 2, color = 'purple', dash = 'dot'),\n",
    "                connectgaps = True,\n",
    "                showlegend=True\n",
    "                    \n",
    "                        ))\n",
    "fig.add_trace(go.Scatter(x=X,\n",
    "                y=Intervention, \n",
    "                name=\"IS/IM\",\n",
    "                mode = 'lines',\n",
    "                #marker_color='dodgerblue',\n",
    "                line = dict(shape = 'linear',width = 2, color = 'orange', dash = 'dot'),\n",
    "                connectgaps = True,\n",
    "                showlegend=True\n",
    "                \n",
    "                        ))\n",
    "fig.add_trace(go.Scatter(x=X,\n",
    "                y=Hs_and_sp, \n",
    "                name=\"HA/SP\",\n",
    "                    \n",
    "                mode = 'lines',\n",
    "                #marker_color='dodgerblue',\n",
    "                line = dict(shape = 'linear',width = 2, color = 'dodgerblue', dash = 'dot'),\n",
    "                connectgaps = True,\n",
    "                showlegend=True\n",
    "               \n",
    "                        ))\n",
    "\n",
    "  \n",
    "fig.update_layout(autosize=True,\n",
    "                 #title={'text': \"<b>CO Monthly Calibration Scheme </b>\",\n",
    "        #'y':0.84,\n",
    "        #'x':0.4,\n",
    "        #'xanchor': 'center',\n",
    "        #'yanchor': 'top'}, \n",
    "    #width=1600,\n",
    "    height=400,\n",
    "                  \n",
    "  legend=dict( yanchor=\"bottom\",\n",
    "    y=1.01,\n",
    "    x=0.2,\n",
    "    orientation=\"h\"\n",
    "),\n",
    "    # group together boxes of the different\n",
    "    # traces for each value of x\n",
    "    boxmode='group',\n",
    "                  plot_bgcolor='rgba(0,0,0,0)'\n",
    ")\n",
    "\n",
    "fig.update_xaxes(title_text=\"Days of Training\",tickfont = dict(size=14),linewidth=0.5, linecolor='black',tick0 = 5,\n",
    "        dtick = 5,\n",
    "                 mirror=True)\n",
    "fig.update_yaxes(title_text=\"Performance\",tickfont = dict(size=14),linewidth=0.5, linecolor='black',tick0 = 0.1,\n",
    "        dtick = 0.1,\n",
    "                 mirror=True)\n",
    "fig.show()\n",
    "#chart_studio.plotly.sign_in('vinylango', 'gybbJVWfRSUoTcRRSa6J')\n",
    "#chart_studio.plotly.image.save_as(fig, filename='models_boxplot.png')\n",
    "#Image('models_boxplot.png')"
   ]
  },
  {
   "cell_type": "code",
   "execution_count": null,
   "id": "variable-conjunction",
   "metadata": {},
   "outputs": [],
   "source": []
  },
  {
   "cell_type": "code",
   "execution_count": null,
   "id": "lovely-typing",
   "metadata": {},
   "outputs": [],
   "source": []
  },
  {
   "cell_type": "code",
   "execution_count": null,
   "id": "pregnant-concert",
   "metadata": {},
   "outputs": [],
   "source": []
  },
  {
   "cell_type": "code",
   "execution_count": null,
   "id": "thorough-armstrong",
   "metadata": {},
   "outputs": [],
   "source": []
  },
  {
   "cell_type": "code",
   "execution_count": null,
   "id": "recovered-coupon",
   "metadata": {},
   "outputs": [],
   "source": []
  },
  {
   "cell_type": "code",
   "execution_count": null,
   "id": "cooperative-profession",
   "metadata": {},
   "outputs": [],
   "source": []
  },
  {
   "cell_type": "code",
   "execution_count": null,
   "id": "bound-cambodia",
   "metadata": {},
   "outputs": [],
   "source": []
  },
  {
   "cell_type": "code",
   "execution_count": null,
   "id": "sustainable-bulgaria",
   "metadata": {},
   "outputs": [],
   "source": []
  }
 ],
 "metadata": {
  "kernelspec": {
   "display_name": "Python 3",
   "language": "python",
   "name": "python3"
  },
  "language_info": {
   "codemirror_mode": {
    "name": "ipython",
    "version": 3
   },
   "file_extension": ".py",
   "mimetype": "text/x-python",
   "name": "python",
   "nbconvert_exporter": "python",
   "pygments_lexer": "ipython3",
   "version": "3.8.6"
  }
 },
 "nbformat": 4,
 "nbformat_minor": 5
}
